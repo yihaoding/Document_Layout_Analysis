{
  "nbformat": 4,
  "nbformat_minor": 0,
  "metadata": {
    "colab": {
      "name": "scene_graph_json_generator.ipynb",
      "private_outputs": true,
      "provenance": []
    },
    "kernelspec": {
      "name": "python3",
      "display_name": "Python 3"
    },
    "language_info": {
      "name": "python"
    }
  },
  "cells": [
    {
      "cell_type": "code",
      "metadata": {
        "id": "l1S7UmTq9Onk"
      },
      "source": [
        "from google.colab import drive\n",
        "drive.mount('/content/drive')"
      ],
      "execution_count": null,
      "outputs": []
    },
    {
      "cell_type": "code",
      "metadata": {
        "id": "pQPGtv-1-XLv"
      },
      "source": [
        "from PIL import Image, ImageDraw, ImageFont\n",
        "\n",
        "image = Image.open(\"/content/drive/MyDrive/Publaynet/train-0-1/PMC3651331_00005.jpg\")\n",
        "image = image.convert(\"RGB\")\n",
        "image"
      ],
      "execution_count": null,
      "outputs": []
    },
    {
      "cell_type": "code",
      "metadata": {
        "id": "85lC7Rch-msm"
      },
      "source": [
        "import json\n",
        "with open('/content/drive/MyDrive/Publaynet/train.json') as f:\n",
        "  train_json = json.load(f)"
      ],
      "execution_count": null,
      "outputs": []
    },
    {
      "cell_type": "code",
      "metadata": {
        "id": "Eurbe59rCjmL"
      },
      "source": [
        "print(train_json.keys())"
      ],
      "execution_count": null,
      "outputs": []
    },
    {
      "cell_type": "code",
      "metadata": {
        "id": "1Q0BygDtCqJm"
      },
      "source": [
        "print(train_json['annotations'][0].keys())"
      ],
      "execution_count": null,
      "outputs": []
    },
    {
      "cell_type": "code",
      "metadata": {
        "id": "7W80sQ5MHqRB"
      },
      "source": [
        ""
      ],
      "execution_count": null,
      "outputs": []
    },
    {
      "cell_type": "code",
      "metadata": {
        "id": "YZikWAQFE1WW"
      },
      "source": [
        "import os\n",
        "img_list = os.listdir('/content/drive/MyDrive/Publaynet/train-0-1')\n",
        "print(img_list)"
      ],
      "execution_count": null,
      "outputs": []
    },
    {
      "cell_type": "code",
      "metadata": {
        "id": "r8pHSQs0M83k"
      },
      "source": [
        "def reletive_position(box1,box2):\n",
        "  x1,y1 = box1[:2]\n",
        "  x2,y2 = box2[:2]\n",
        "  if abs(x1-x2) > abs(y1-y2):\n",
        "    if x1 > x2:\n",
        "      return 'right'\n",
        "    else:\n",
        "      return 'left'\n",
        "  else:\n",
        "    if y1 > y2:\n",
        "      return 'down'\n",
        "    else:\n",
        "      return 'above'"
      ],
      "execution_count": null,
      "outputs": []
    },
    {
      "cell_type": "code",
      "metadata": {
        "id": "qZD-SZBuEoj9"
      },
      "source": [
        "scene_graph = {}\n",
        "relation_id = 0\n",
        "for i in range(1,2):\n",
        "  img_name = 'PMC3651331_00005.jpg'\n",
        "  scene_graph[img_name] = {}\n",
        "  for j in range(len(train_json['images'])):\n",
        "    image_info = train_json['images'][j]\n",
        "    if img_name == image_info['file_name']:\n",
        "      scene_graph[img_name]['image_id'] = image_info['id']\n",
        "      scene_graph[img_name]['width'] = image_info['width']\n",
        "      scene_graph[img_name]['height'] = image_info['height']\n",
        "  scene_graph[img_name]['objects'] = {}\n",
        "  for j in range(len(train_json['annotations'])):\n",
        "    box_info = train_json['annotations'][j]\n",
        "    if scene_graph[img_name]['image_id'] == box_info['image_id']:\n",
        "      scene_graph[img_name]['objects'][box_info['id']] = {}\n",
        "      scene_graph[img_name]['objects'][box_info['id']]['name'] = box_info['category_id']\n",
        "      scene_graph[img_name]['objects'][box_info['id']]['box'] = box_info['bbox']\n",
        "      scene_graph[img_name]['objects'][box_info['id']]['relations'] = {}\n",
        "  for box1 in scene_graph[img_name]['objects']:\n",
        "    for box2 in scene_graph[img_name]['objects']:\n",
        "      if box1 != box2:\n",
        "        scene_graph[img_name]['objects'][box1]['relations'][str(relation_id)] = {} \n",
        "        bbox1 = scene_graph[img_name]['objects'][box1]['box']\n",
        "        bbox2 = scene_graph[img_name]['objects'][box2]['box']\n",
        "        scene_graph[img_name]['objects'][box1]['relations'][str(relation_id)]['name'] = reletive_position(bbox1,bbox2)\n",
        "        scene_graph[img_name]['objects'][box1]['relations'][str(relation_id)]['object'] = box2\n",
        "        relation_id += 1"
      ],
      "execution_count": null,
      "outputs": []
    },
    {
      "cell_type": "code",
      "metadata": {
        "id": "NzSVhc0rSyUV"
      },
      "source": [
        "import json\n",
        "import os \n",
        "path = '/content/'\n",
        "os.chdir(path)\n",
        "file_name = 'scene_graph_test_position_relation.json' \n",
        "with open(file_name,'w') as file_object:\n",
        "    json.dump(scene_graph,file_object)\n"
      ],
      "execution_count": null,
      "outputs": []
    }
  ]
}