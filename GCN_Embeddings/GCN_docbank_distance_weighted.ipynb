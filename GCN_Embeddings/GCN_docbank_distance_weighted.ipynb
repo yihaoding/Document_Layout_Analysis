{
  "nbformat": 4,
  "nbformat_minor": 0,
  "metadata": {
    "colab": {
      "name": "GCN_docbank_distance_weighted.ipynb",
      "private_outputs": true,
      "provenance": [],
      "collapsed_sections": [
        "LUHfEeuyKezp"
      ],
      "toc_visible": true,
      "machine_shape": "hm"
    },
    "kernelspec": {
      "display_name": "Python 3",
      "name": "python3"
    },
    "language_info": {
      "name": "python"
    }
  },
  "cells": [
    {
      "cell_type": "markdown",
      "metadata": {
        "id": "YQFgr5EutIGe"
      },
      "source": [
        "## Import the scene graph file"
      ]
    },
    {
      "cell_type": "code",
      "metadata": {
        "id": "mZqVzMfTwA03"
      },
      "source": [
        "from google.colab import drive\n",
        "drive.mount('/content/drive')"
      ],
      "execution_count": null,
      "outputs": []
    },
    {
      "cell_type": "code",
      "metadata": {
        "id": "hG6Wahasg-sz"
      },
      "source": [
        "!pip install -U -q PyDrive\n",
        "from pydrive.auth import GoogleAuth\n",
        "from pydrive.drive import GoogleDrive\n",
        "from google.colab import auth\n",
        "from oauth2client.client import GoogleCredentials\n",
        "import pandas as pd\n",
        "\n",
        "# Authenticate\n",
        "drive = None\n",
        "def authenticate():\n",
        "  global drive\n",
        "  \n",
        "  auth.authenticate_user()\n",
        "  gauth = GoogleAuth()\n",
        "  gauth.credentials = GoogleCredentials.get_application_default()\n",
        "  drive = GoogleDrive(gauth)\n",
        "\n",
        "#Download files\n",
        "def downloadFiles(fileIds):\n",
        "  authenticate()\n",
        "  \n",
        "  for fileId in fileIds:    \n",
        "    \n",
        "    downloaded = drive.CreateFile({\"id\": fileId[1]})\n",
        "    downloaded.GetContentFile(fileId[0])"
      ],
      "execution_count": null,
      "outputs": []
    },
    {
      "cell_type": "code",
      "metadata": {
        "id": "5SZkMQako3Ww"
      },
      "source": [
        "import pickle\n",
        "with open('/content/drive/MyDrive/Docbank/docbank_sg_train_20000_density_gap_visual.pkl','rb') as f:\n",
        "  old_train_list_dict = pickle.load(f)"
      ],
      "execution_count": null,
      "outputs": []
    },
    {
      "cell_type": "code",
      "metadata": {
        "id": "A3hcITgwpJo3"
      },
      "source": [
        ""
      ],
      "execution_count": null,
      "outputs": []
    },
    {
      "cell_type": "code",
      "metadata": {
        "id": "XjOfDxGUUYSB"
      },
      "source": [
        "print(train_list_dict.keys())\n",
        "print(train_list_dict[1944].keys())"
      ],
      "execution_count": null,
      "outputs": []
    },
    {
      "cell_type": "code",
      "metadata": {
        "id": "N-V3jR9iM7jl"
      },
      "source": [
        "for img in train_list_dict:\n",
        "  if len(train_list_dict[img]['objects'].keys())==0:\n",
        "    print(img)"
      ],
      "execution_count": null,
      "outputs": []
    },
    {
      "cell_type": "code",
      "metadata": {
        "id": "HSd3OmV2bPfd"
      },
      "source": [
        "print(train_list_dict.keys())\n",
        "print(len(train_list_dict[5859]['objects']['0']))\n",
        "print(train_list_dict[1945]['objects']['4'])\n",
        "print(train_list_dict[1945]['objects']['1'].keys())"
      ],
      "execution_count": null,
      "outputs": []
    },
    {
      "cell_type": "code",
      "metadata": {
        "id": "xr4bzdwsFf_4"
      },
      "source": [
        "del old_train_list_dict[1945]\n",
        "del old_train_list_dict[5859]\n",
        "del old_train_list_dict[10553]\n",
        "del old_train_list_dict[15273]\n",
        "del old_train_list_dict[15916]\n",
        "del old_train_list_dict[16701]\n",
        "del old_train_list_dict[18484]\n",
        "del old_train_list_dict[18700]\n",
        "del old_train_list_dict[18706]\n",
        "del old_train_list_dict[19573]\n",
        "del old_train_list_dict[19729]"
      ],
      "execution_count": null,
      "outputs": []
    },
    {
      "cell_type": "code",
      "metadata": {
        "id": "v6bXwfPNE6bg"
      },
      "source": [
        "train_list_dict = {}\n",
        "i = 0\n",
        "for img in old_train_list_dict:\n",
        "  if i>=10000:\n",
        "    train_list_dict[img] = old_train_list_dict[img]\n",
        "  i += 1"
      ],
      "execution_count": null,
      "outputs": []
    },
    {
      "cell_type": "code",
      "metadata": {
        "id": "7yFeSlKBFnDw"
      },
      "source": [
        "print(train_list_dict.keys())\n",
        "print(train_list_dict[10002]['objects']['4'])\n",
        "print(train_list_dict[10002]['objects']['4'].keys())\n"
      ],
      "execution_count": null,
      "outputs": []
    },
    {
      "cell_type": "code",
      "metadata": {
        "id": "N1hTGsLnEq1v"
      },
      "source": [
        "for obj in train_list_dict[1944]['objects']:\n",
        "  print(train_list_dict[1944]['objects'][obj])"
      ],
      "execution_count": null,
      "outputs": []
    },
    {
      "cell_type": "markdown",
      "metadata": {
        "id": "hAFWXuGzEyXz"
      },
      "source": [
        "test"
      ]
    },
    {
      "cell_type": "code",
      "metadata": {
        "id": "WP45f0oAE0Cp"
      },
      "source": [
        "import pickle\n",
        "with open('/content/drive/MyDrive/Docbank/docbank_sg_test_5000_density_gap_visual.pkl','rb') as f:\n",
        "  train_list_dict = pickle.load(f)"
      ],
      "execution_count": null,
      "outputs": []
    },
    {
      "cell_type": "code",
      "metadata": {
        "id": "TjCXCVbmEpLn"
      },
      "source": [
        "del train_list_dict[21772]\n",
        "del train_list_dict[22182]\n",
        "del train_list_dict[23833]\n",
        "del train_list_dict[23865]\n",
        "del train_list_dict[23866]\n",
        "del train_list_dict[23867]"
      ],
      "execution_count": null,
      "outputs": []
    },
    {
      "cell_type": "code",
      "metadata": {
        "id": "eUM3XDrARkk7"
      },
      "source": [
        "for img in train_list_dict:\n",
        "  for obj in train_list_dict[img]['objects']:\n",
        "    objt = train_list_dict[img]['objects'][obj]\n",
        "    if objt['category'] == 'section' or objt['category'] == 'title':\n",
        "      objt['superclass'] = 'title'\n",
        "    elif objt['category'] in ['table','figure','list']:\n",
        "      objt['superclass'] = objt['category']\n",
        "    else:\n",
        "      objt['superclass'] = 'text'"
      ],
      "execution_count": null,
      "outputs": []
    },
    {
      "cell_type": "markdown",
      "metadata": {
        "id": "UJYyF8y5tN9h"
      },
      "source": [
        "## Define some pre-processing function"
      ]
    },
    {
      "cell_type": "markdown",
      "metadata": {
        "id": "S9AkmDcQgLCk"
      },
      "source": [
        "### Set **k** nearest neighbour for distance base weighted graph\n",
        "This is used to generate visual feature and text density based graph embedding, to generate a new key for object dictionary named 'near gap'."
      ]
    },
    {
      "cell_type": "code",
      "metadata": {
        "id": "1mthzCoX9jun"
      },
      "source": [
        "# selected top k gap distance features\n",
        "def top_k_nearest(gap_dict, k):\n",
        "  new_gap_dict = {}\n",
        "  try:\n",
        "    list1= sorted(gap_dict.values())\n",
        "  except:\n",
        "    print(gap_dict)\n",
        "  top_k_value = list1[:k]\n",
        "  for obj in gap_dict:\n",
        "    if gap_dict[obj] in top_k_value:\n",
        "      new_gap_dict[obj] = gap_dict[obj]\n",
        "  return new_gap_dict"
      ],
      "execution_count": null,
      "outputs": []
    },
    {
      "cell_type": "code",
      "metadata": {
        "id": "AmSFbd0Cs_yZ"
      },
      "source": [
        "print(train_list_dict.keys())"
      ],
      "execution_count": null,
      "outputs": []
    },
    {
      "cell_type": "code",
      "metadata": {
        "id": "qDFgOgzefHp1"
      },
      "source": [
        "print(train_list_dict['284513']['objects']['4'].keys())\n",
        "print(train_list_dict['284513']['objects']['3']['bbox'])"
      ],
      "execution_count": null,
      "outputs": []
    },
    {
      "cell_type": "code",
      "metadata": {
        "id": "ewO2WGLg75Lh"
      },
      "source": [
        "# default k is 2\n",
        "for img in train_list_dict:\n",
        "  for obj in train_list_dict[img]['objects']:\n",
        "    new_gap_dict = top_k_nearest(train_list_dict[img]['objects'][obj]['gap'],2)\n",
        "    train_list_dict[img]['objects'][obj]['near_gap'] = new_gap_dict"
      ],
      "execution_count": null,
      "outputs": []
    },
    {
      "cell_type": "code",
      "metadata": {
        "id": "RJ-mGghw9SRu"
      },
      "source": [
        "for img in eval_list_dict:\n",
        "  for obj in eval_list_dict[img]['objects']:\n",
        "    new_gap_dict = top_k_nearest(eval_list_dict[img]['objects'][obj]['gap'],2)\n",
        "    eval_list_dict[img]['objects'][obj]['near_gap'] = new_gap_dict"
      ],
      "execution_count": null,
      "outputs": []
    },
    {
      "cell_type": "markdown",
      "metadata": {
        "id": "yFqjHdW19k6c"
      },
      "source": [
        "### Some Searching Tools"
      ]
    },
    {
      "cell_type": "code",
      "metadata": {
        "id": "3P55FJGdtDCc"
      },
      "source": [
        "# according to id to search text\n",
        "bbox_id_text = {}\n",
        "for l in train_list_dict:\n",
        "  for obj in train_list_dict[l]['objects']:\n",
        "    id = train_list_dict[l]['objects'][obj]['id']\n",
        "    bbox_id_text[id] = {}\n",
        "    bbox_id_text[id]['text'] = train_list_dict[l]['objects'][obj]['text']"
      ],
      "execution_count": null,
      "outputs": []
    },
    {
      "cell_type": "code",
      "metadata": {
        "id": "j8uWif93vve_"
      },
      "source": [
        "for l in eval_list_dict:\n",
        "  for obj in eval_list_dict[l]['objects']:\n",
        "    id = eval_list_dict[l]['objects'][obj]['id']\n",
        "    bbox_id_text[id] = {}\n",
        "    bbox_id_text[id]['text'] = eval_list_dict[l]['objects'][obj]['text']"
      ],
      "execution_count": null,
      "outputs": []
    },
    {
      "cell_type": "code",
      "metadata": {
        "id": "5AwmFBI2tF5L"
      },
      "source": [
        "# according to id to search object id in a document\n",
        "def globalid_to_localid(id):\n",
        "  for l in train_list_dict:\n",
        "    for obj in train_list_dict[l]['objects']:\n",
        "      if id == train_list_dict[l]['objects'][obj]['id']:\n",
        "        return obj\n",
        "  for l in eval_list_dict:\n",
        "    for obj in eval_list_dict[l]['objects']:\n",
        "      if id == eval_list_dict[l]['objects'][obj]['id']:\n",
        "        return obj"
      ],
      "execution_count": null,
      "outputs": []
    },
    {
      "cell_type": "code",
      "metadata": {
        "id": "TigV4NwIjIjK"
      },
      "source": [
        "id_density_dict = {}\n",
        "for l in train_list_dict:\n",
        "  id_density_dict[l] = {}\n",
        "  for obj in train_list_dict[l]['objects']:\n",
        "    try:\n",
        "      id_density_dict[l][obj] = train_list_dict[l]['objects'][obj]['visual_feature']\n",
        "    except:\n",
        "      id_density_dict[l][obj] = [0]*2048"
      ],
      "execution_count": null,
      "outputs": []
    },
    {
      "cell_type": "code",
      "metadata": {
        "id": "pK1dGrPzAqdV"
      },
      "source": [
        "# this dictionary used to transfer object id to text_density/text_number/char_density/char_number/visual_embedding/\n",
        "id_density_dict = {}\n",
        "for l in eval_list_dict:\n",
        "  id_density_dict[l] = {}\n",
        "  for obj in eval_list_dict[l]['objects']:\n",
        "    id_density_dict[l][obj] = eval_list_dict[l]['objects'][obj]['char_density']"
      ],
      "execution_count": null,
      "outputs": []
    },
    {
      "cell_type": "markdown",
      "metadata": {
        "id": "XsTIpJ4Y-oiH"
      },
      "source": [
        "### Change Scalar to High Dimensional Vectors"
      ]
    },
    {
      "cell_type": "code",
      "metadata": {
        "id": "NMT2k0_UroHE"
      },
      "source": [
        "import math\n",
        "import torch\n",
        "# one dimensional feature embedding\n",
        "def positionalencoding1d(d_model, feature_list):\n",
        "    \"\"\"\n",
        "    :param d_model: dimension of the model\n",
        "    :param feature_list: length of positions\n",
        "    :return: length*d_model position matrix\n",
        "    \"\"\"\n",
        "    if d_model % 2 != 0:\n",
        "        raise ValueError(\"Cannot use sin/cos positional encoding with \"\n",
        "                         \"odd dim (got dim={:d})\".format(d_model))\n",
        "    pe = torch.zeros(len(feature_list), d_model)\n",
        "    feats = torch.tensor(feature_list).unsqueeze(1)\n",
        "    div_term = torch.exp((torch.arange(0, d_model, 2, dtype=torch.float) *\n",
        "                         -(math.log(10000.0) / d_model)))\n",
        "    pe[:, 0::2] = torch.sin(feats.float() * div_term)\n",
        "    pe[:, 1::2] = torch.cos(feats.float() * div_term)\n",
        "    pe = pe.tolist()\n",
        "    return pe\n"
      ],
      "execution_count": null,
      "outputs": []
    },
    {
      "cell_type": "markdown",
      "metadata": {
        "id": "D0ot2qaDtTCI"
      },
      "source": [
        "## Extracting Information from training and evaluation json file"
      ]
    },
    {
      "cell_type": "markdown",
      "metadata": {
        "id": "nsvRpOBN_PiS"
      },
      "source": [
        "### For Gap Distance weighted GCN model"
      ]
    },
    {
      "cell_type": "code",
      "metadata": {
        "id": "MTanPUdYskxb"
      },
      "source": [
        "# Generate local graph based training dataset objects and relations list\n",
        "new_train_list_dict = {}\n",
        "for l in train_list_dict:\n",
        "  tem_dic = {}\n",
        "  tem_dic['objects'] = []\n",
        "  tem_dic['relationships'] = []\n",
        "  \n",
        "  for obj in train_list_dict[l]['objects']:\n",
        "    tem_dic['objects'].append(obj)\n",
        "    tem_rel = [obj,obj,0]\n",
        "    tem_dic['relationships'].append(tem_rel)\n",
        "    for rel in train_list_dict[l]['objects'][obj]['near_gap']:\n",
        "      tem_rel = [obj,rel]\n",
        "      tem_rel.append(train_list_dict[l]['objects'][obj]['near_gap'][rel])\n",
        "      tem_dic['relationships'].append(tem_rel)\n",
        "  new_train_list_dict[l] = tem_dic"
      ],
      "execution_count": null,
      "outputs": []
    },
    {
      "cell_type": "code",
      "metadata": {
        "id": "pUqo9tC3_B9R"
      },
      "source": [
        "# Generate local graph based validation dataset objects and relations list\n",
        "new_eval_list_dict = {}\n",
        "for l in eval_list_dict:\n",
        "  tem_dic = {}\n",
        "  tem_dic['objects'] = []\n",
        "  tem_dic['relationships'] = []\n",
        "\n",
        "  for obj in eval_list_dict[l]['objects']:\n",
        "    tem_dic['objects'].append(obj)\n",
        "    tem_rel = [obj,obj,0]\n",
        "    tem_dic['relationships'].append(tem_rel)\n",
        "    for rel in eval_list_dict[l]['objects'][obj]['near_gap']:\n",
        "      tem_rel = [obj,rel]\n",
        "      tem_rel.append(eval_list_dict[l]['objects'][obj]['near_gap'][rel])\n",
        "      tem_dic['relationships'].append(tem_rel)\n",
        "  new_eval_list_dict[l] = tem_dic"
      ],
      "execution_count": null,
      "outputs": []
    },
    {
      "cell_type": "code",
      "metadata": {
        "id": "_FwWclhSu0Ip"
      },
      "source": [
        "#Using for searching real node size\n",
        "num_obj_dict = {}\n",
        "for l in new_train_list_dict:\n",
        "    num_obj_dict[l] = len(new_train_list_dict[l]['objects'])"
      ],
      "execution_count": null,
      "outputs": []
    },
    {
      "cell_type": "code",
      "metadata": {
        "id": "bRziuy5oxYjm"
      },
      "source": [
        "for l in new_eval_list_dict:\n",
        "    num_obj_dict[l] = len(new_eval_list_dict[l]['objects'])"
      ],
      "execution_count": null,
      "outputs": []
    },
    {
      "cell_type": "code",
      "metadata": {
        "id": "DUEcKeJemeDc"
      },
      "source": [
        "max = 0\n",
        "len_list = []\n",
        "for l in num_obj_dict:\n",
        "  len_list.append(num_obj_dict[l])\n",
        "  if max < num_obj_dict[l]:\n",
        "    max = num_obj_dict[l]\n",
        "print(max)"
      ],
      "execution_count": null,
      "outputs": []
    },
    {
      "cell_type": "code",
      "metadata": {
        "id": "sprjdfPdIecq"
      },
      "source": [
        "# useless code only rename\n",
        "list_dict_train={}\n",
        "for l in new_train_list_dict:\n",
        "    list_dict_train[l] = new_train_list_dict[l]"
      ],
      "execution_count": null,
      "outputs": []
    },
    {
      "cell_type": "code",
      "metadata": {
        "id": "F3eQOwA2xf7a"
      },
      "source": [
        "list_dict_test = {}\n",
        "for l in new_eval_list_dict:\n",
        "    list_dict_test[l] = new_eval_list_dict[l]"
      ],
      "execution_count": null,
      "outputs": []
    },
    {
      "cell_type": "markdown",
      "metadata": {
        "id": "LgahG2e8pAGx"
      },
      "source": [
        "## Training and Validation dataframe generation"
      ]
    },
    {
      "cell_type": "code",
      "metadata": {
        "id": "tyZaDNCsAH_2"
      },
      "source": [
        "#generate the training and labeling information for each image\n",
        "#this information can be used to transfer object id to corresponding visual, text density or other kinds of features.\n",
        "density_list_train = []\n",
        "label_list_train = []\n",
        "img_list_train = []\n",
        "label_dict_train = {}\n",
        "for l in train_list_dict:\n",
        "  label_dict_train[l] = []\n",
        "  for obj in train_list_dict[l]['objects']:\n",
        "    density_list_train.append(obj)\n",
        "    label_list_train.append(train_list_dict[l]['objects'][obj]['superclass'])\n",
        "    img_list_train.append(l)\n",
        "    label_dict_train[l].append(train_list_dict[l]['objects'][obj]['superclass'])\n",
        "  for obj in range(num_obj_dict[l],177):\n",
        "    density_list_train.append(str(obj))\n",
        "    label_list_train.append(str(-1))\n",
        "    img_list_train.append(l)\n",
        "    label_dict_train[l].append(str(-1))"
      ],
      "execution_count": null,
      "outputs": []
    },
    {
      "cell_type": "code",
      "metadata": {
        "id": "j3JfDgcmBQ0V"
      },
      "source": [
        "# generating evalutaion labeling informaiton dictionary\n",
        "density_list_eval = []\n",
        "label_list_eval = []\n",
        "label_dict_eval = {}\n",
        "img_list_eval = []\n",
        "for l in eval_list_dict:\n",
        "  label_dict_eval[l] = []\n",
        "  for obj in eval_list_dict[l]['objects']:\n",
        "    density_list_eval.append(obj)\n",
        "    label_list_eval.append(eval_list_dict[l]['objects'][obj]['superclass'])\n",
        "    img_list_eval.append(l)\n",
        "    label_dict_eval[l].append(eval_list_dict[l]['objects'][obj]['superclass'])\n",
        "  for obj in range(num_obj_dict[l],85):\n",
        "    density_list_eval.append(str(obj))\n",
        "    label_list_eval.append(str(-1))\n",
        "    img_list_eval.append(l)\n",
        "    label_dict_eval[l].append(str(-1))"
      ],
      "execution_count": null,
      "outputs": []
    },
    {
      "cell_type": "code",
      "metadata": {
        "id": "TlGkeE5VAxKg"
      },
      "source": [
        "from pandas import DataFrame\n",
        "df_train = DataFrame(density_list_train,columns=['density'])\n",
        "df_train['label'] = label_list_train\n",
        "df_train['image'] = img_list_train"
      ],
      "execution_count": null,
      "outputs": []
    },
    {
      "cell_type": "code",
      "metadata": {
        "id": "TS_z0zwFxkRU"
      },
      "source": [
        "df_eval = DataFrame(density_list_eval,columns=['density'])\n",
        "df_eval['label'] = label_list_eval\n",
        "df_eval['image'] = img_list_eval"
      ],
      "execution_count": null,
      "outputs": []
    },
    {
      "cell_type": "code",
      "metadata": {
        "id": "O1YqiQzlBlo-"
      },
      "source": [
        "df_train.head(85)"
      ],
      "execution_count": null,
      "outputs": []
    },
    {
      "cell_type": "code",
      "metadata": {
        "id": "0ZsL5tzQQ3CH"
      },
      "source": [
        "label_list_train = df_train['label'].fillna('other').tolist()\n",
        "df_train_clean = df_train[df_train['label'].notnull()][['density','label','image']]"
      ],
      "execution_count": null,
      "outputs": []
    },
    {
      "cell_type": "code",
      "metadata": {
        "id": "E6ZNavS5Rgkn"
      },
      "source": [
        "label_list_eval = df_eval['label'].fillna('other').tolist()\n",
        "df_eval_clean = df_eval[df_eval['label'].notnull()][['density','label','image']] "
      ],
      "execution_count": null,
      "outputs": []
    },
    {
      "cell_type": "code",
      "metadata": {
        "id": "0Vx0NRPZSQO9"
      },
      "source": [
        "df_train_clean.head()"
      ],
      "execution_count": null,
      "outputs": []
    },
    {
      "cell_type": "code",
      "metadata": {
        "id": "Yh6B7x9NP_8_"
      },
      "source": [
        "print(list_dict_train)"
      ],
      "execution_count": null,
      "outputs": []
    },
    {
      "cell_type": "code",
      "metadata": {
        "id": "0tiX_wyfIED_"
      },
      "source": [
        "label_list_train = df_train_clean['label'].to_list()\n",
        "id_list_train = df_train_clean['density'].to_list()\n",
        "img_list_train = df_train_clean['image'].to_list()\n"
      ],
      "execution_count": null,
      "outputs": []
    },
    {
      "cell_type": "code",
      "metadata": {
        "id": "aXUqw4FxIn4s"
      },
      "source": [
        "\n",
        "label_list_eval = df_eval_clean['label'].to_list()\n",
        "id_list_eval = df_eval_clean['density'].to_list()\n",
        "img_list_eval = df_eval_clean['image'].to_list()"
      ],
      "execution_count": null,
      "outputs": []
    },
    {
      "cell_type": "code",
      "metadata": {
        "id": "3CKOPtN6Iefr"
      },
      "source": [
        "obj_list_train = []\n",
        "for i in range(len(id_list_train)):\n",
        "  tem = []\n",
        "  tem = [id_list_train[i],img_list_train[i]]\n",
        "  obj_list_train.append(tem)"
      ],
      "execution_count": null,
      "outputs": []
    },
    {
      "cell_type": "code",
      "metadata": {
        "id": "-CyvoxUvx61A"
      },
      "source": [
        "obj_list_eval = []\n",
        "for i in range(len(id_list_eval)):\n",
        "  tem = []\n",
        "  tem = [id_list_eval[i],img_list_eval[i]]\n",
        "  obj_list_eval.append(tem)"
      ],
      "execution_count": null,
      "outputs": []
    },
    {
      "cell_type": "code",
      "metadata": {
        "id": "nuplDSfsImMU"
      },
      "source": [
        "print(len(obj_list_train))"
      ],
      "execution_count": null,
      "outputs": []
    },
    {
      "cell_type": "markdown",
      "metadata": {
        "id": "fal52emMue4w"
      },
      "source": [
        "## Convert label into one-hot"
      ]
    },
    {
      "cell_type": "code",
      "metadata": {
        "id": "cg2jOKrAi8ho"
      },
      "source": [
        "from sklearn.preprocessing import LabelEncoder\n",
        "import numpy as np\n",
        "num_class = len(list(set(label_list_train)))\n",
        "lEnc = LabelEncoder()\n",
        "lEnc.fit(np.unique(list(set(label_list_train))))\n",
        "labels_one_hot_train = {}\n",
        "for f in label_dict_train:\n",
        "  num_labels = lEnc.transform(label_dict_train[f])\n",
        "  labels_one_hot_train[f] = []\n",
        "  for l in num_labels:\n",
        "    to_add = [0]*num_class\n",
        "    to_add[l]=1\n",
        "    labels_one_hot_train[f].append(to_add)\n"
      ],
      "execution_count": null,
      "outputs": []
    },
    {
      "cell_type": "code",
      "metadata": {
        "id": "11tp7hoPsaNB"
      },
      "source": [
        "print(num_class)"
      ],
      "execution_count": null,
      "outputs": []
    },
    {
      "cell_type": "code",
      "metadata": {
        "id": "Hmdn1kStx_zh"
      },
      "source": [
        "labels_one_hot_eval = {}\n",
        "for f in label_dict_eval:\n",
        "  num_labels = lEnc.transform(label_dict_eval[f])\n",
        "  labels_one_hot_eval[f] = []\n",
        "  for l in num_labels:\n",
        "    to_add = [0]*num_class\n",
        "    to_add[l]=1\n",
        "    labels_one_hot_eval[f].append(to_add)"
      ],
      "execution_count": null,
      "outputs": []
    },
    {
      "cell_type": "code",
      "metadata": {
        "id": "0Cx9gN-_B5eI"
      },
      "source": [
        "print(len(labels_one_hot_train))"
      ],
      "execution_count": null,
      "outputs": []
    },
    {
      "cell_type": "markdown",
      "metadata": {
        "id": "s9sogUkt5S2Z"
      },
      "source": [
        "## Build Graph"
      ]
    },
    {
      "cell_type": "markdown",
      "metadata": {
        "id": "xtoLK_KcB60l"
      },
      "source": [
        "Build empty node list of **each image** for training and validation data"
      ]
    },
    {
      "cell_type": "code",
      "metadata": {
        "id": "5wapjtC3urEY"
      },
      "source": [
        "node_lists_train = {}\n",
        "for l in new_train_list_dict:\n",
        "  node_lists_train[l] = []\n",
        "  for obj in new_train_list_dict[l]['objects']:\n",
        "    node_lists_train[l].append(obj)\n"
      ],
      "execution_count": null,
      "outputs": []
    },
    {
      "cell_type": "code",
      "metadata": {
        "id": "3Nb_KK3dyNQ1"
      },
      "source": [
        "node_lists_eval = {}\n",
        "for l in new_eval_list_dict:\n",
        "  node_lists_eval[l] = []\n",
        "  for obj in new_eval_list_dict[l]['objects']:\n",
        "    node_lists_eval[l].append(obj)"
      ],
      "execution_count": null,
      "outputs": []
    },
    {
      "cell_type": "markdown",
      "metadata": {
        "id": "CmkCn1NLCImv"
      },
      "source": [
        "Build empty local graph for each image. Each object key contains two empty list to store gap and related other objects"
      ]
    },
    {
      "cell_type": "code",
      "metadata": {
        "id": "ea7iGEDQUlOh"
      },
      "source": [
        "# build local graph\n",
        "object_graph_dict_train = {}\n",
        "for l in new_train_list_dict:\n",
        "  object_graph_dict_train[l] = {}\n",
        "  for obj in new_train_list_dict[l]['objects']:\n",
        "    object_graph_dict_train[l][obj] = {}\n",
        "    object_graph_dict_train[l][obj]['gap'] = []\n",
        "    object_graph_dict_train[l][obj]['obj2'] = []\n"
      ],
      "execution_count": null,
      "outputs": []
    },
    {
      "cell_type": "code",
      "metadata": {
        "id": "l3ocGRedyRDC"
      },
      "source": [
        "object_graph_dict_eval = {}\n",
        "for l in new_eval_list_dict:\n",
        "  object_graph_dict_eval[l] = {}\n",
        "  for obj in new_eval_list_dict[l]['objects']:\n",
        "    object_graph_dict_eval[l][obj] = {}\n",
        "    object_graph_dict_eval[l][obj]['gap'] = []\n",
        "    object_graph_dict_eval[l][obj]['obj2'] = []"
      ],
      "execution_count": null,
      "outputs": []
    },
    {
      "cell_type": "markdown",
      "metadata": {
        "id": "esocb1MqGLsM"
      },
      "source": [
        "Fill up the empty graph based on scene graph json file"
      ]
    },
    {
      "cell_type": "code",
      "metadata": {
        "id": "kLHpMbpbu3am"
      },
      "source": [
        "#fill the empty graph\n",
        "for sg in list_dict_train:\n",
        "    obj_list = list_dict_train[sg]['objects']\n",
        "    for rel_item in list_dict_train[sg]['relationships']:\n",
        "        obj1 = str(rel_item[0])\n",
        "        obj2 = str(rel_item[1])\n",
        "        object_graph_dict_train[sg][rel_item[0]]['obj2'].append(obj2)\n",
        "        object_graph_dict_train[sg][rel_item[0]]['gap'].append(rel_item[2])"
      ],
      "execution_count": null,
      "outputs": []
    },
    {
      "cell_type": "code",
      "metadata": {
        "id": "fpslUkE6yV07"
      },
      "source": [
        "#fill the empty graph\n",
        "for sg in list_dict_test:\n",
        "    obj_list = list_dict_test[sg]['objects']\n",
        "    for rel_item in list_dict_test[sg]['relationships']:\n",
        "        obj1 = str(rel_item[0])\n",
        "        obj2 = str(rel_item[1])\n",
        "        object_graph_dict_eval[sg][rel_item[0]]['obj2'].append(obj2)\n",
        "        object_graph_dict_eval[sg][rel_item[0]]['gap'].append(rel_item[2])"
      ],
      "execution_count": null,
      "outputs": []
    },
    {
      "cell_type": "code",
      "metadata": {
        "id": "IEQD_v1hTLrW"
      },
      "source": [
        "print(object_graph_dict_train[1005])"
      ],
      "execution_count": null,
      "outputs": []
    },
    {
      "cell_type": "code",
      "metadata": {
        "id": "l1RcUHYSxpsQ"
      },
      "source": [
        "node_size_train = []\n",
        "for f in object_graph_dict_train:\n",
        "  l = object_graph_dict_train[f].keys()\n",
        "  node_size_train.append(len(l))"
      ],
      "execution_count": null,
      "outputs": []
    },
    {
      "cell_type": "code",
      "metadata": {
        "id": "aPJ7jHwUyYLz"
      },
      "source": [
        "node_size_eval = []\n",
        "for f in object_graph_dict_eval:\n",
        "  l = object_graph_dict_eval[f].keys()\n",
        "  node_size_eval.append(len(l))"
      ],
      "execution_count": null,
      "outputs": []
    },
    {
      "cell_type": "code",
      "metadata": {
        "id": "5oo9mLOsZzEU"
      },
      "source": [
        "max_len = 177\n",
        "col_train = {}\n",
        "row_train = {}\n",
        "weight_train = {}\n",
        "for f in object_graph_dict_train:\n",
        "  col_train[f] = []\n",
        "  row_train[f] = []\n",
        "  weight_train[f] = []\n",
        "  for obj in object_graph_dict_train[f]:\n",
        "    obj_rel_list = object_graph_dict_train[f][obj]['obj2']\n",
        "    for obj2 in object_graph_dict_train[f]:\n",
        "      if obj2 in obj_rel_list:\n",
        "        for i in range(len(obj_rel_list)):\n",
        "          if obj2 == obj_rel_list[i]:\n",
        "            weight_train[f].append(1/(object_graph_dict_train[f][obj]['gap'][i]+1000))\n",
        "            row_train[f].append(obj)\n",
        "            col_train[f].append(obj_rel_list[i])\n",
        "      else:\n",
        "        weight_train[f].append(0.0)\n",
        "        row_train[f].append(obj)\n",
        "        col_train[f].append(obj2)\n"
      ],
      "execution_count": null,
      "outputs": []
    },
    {
      "cell_type": "code",
      "metadata": {
        "id": "plqdt_4YbU_X"
      },
      "source": [
        "print(weight_train[f])\n",
        "print(len(weight_train[f]))"
      ],
      "execution_count": null,
      "outputs": []
    },
    {
      "cell_type": "code",
      "metadata": {
        "id": "fWxnskPVLJ3_"
      },
      "source": [
        "max_len = 177\n",
        "col_eval = {}\n",
        "row_eval = {}\n",
        "weight_eval = {}\n",
        "for f in object_graph_dict_eval:\n",
        "  col_eval[f] = []\n",
        "  row_eval[f] = []\n",
        "  weight_eval[f] = []\n",
        "  for obj in object_graph_dict_eval[f]:\n",
        "    obj_rel_list = object_graph_dict_eval[f][obj]['obj2']\n",
        "    for i in range(len(obj_rel_list)):\n",
        "      try:\n",
        "        weight_eval[f].append(1/object_graph_dict_eval[f][obj]['gap'][i])\n",
        "      except:\n",
        "        weight_eval[f].append(0.0)\n",
        "      row_eval[f].append(obj)\n",
        "      col_eval[f].append(obj_rel_list[i])"
      ],
      "execution_count": null,
      "outputs": []
    },
    {
      "cell_type": "code",
      "metadata": {
        "id": "kD4wDEbP4Jmg"
      },
      "source": [
        "#PROBLEMS\n",
        "# how to determine the weight to the node itself\n",
        "# how to padding the node"
      ],
      "execution_count": null,
      "outputs": []
    },
    {
      "cell_type": "code",
      "metadata": {
        "id": "kYsUdteVLz_e"
      },
      "source": [
        "import scipy.sparse as sp\n",
        "node_size = 177\n",
        "adj_train = {}\n",
        "for f in weight_train:\n",
        "  adj_train[f] = sp.csr_matrix((weight_train[f], (row_train[f], col_train[f])), shape=(node_size, node_size))"
      ],
      "execution_count": null,
      "outputs": []
    },
    {
      "cell_type": "code",
      "metadata": {
        "id": "Num0kxITOwK6"
      },
      "source": [
        "import scipy.sparse as sp\n",
        "node_size = 177\n",
        "adj_eval = {}\n",
        "for f in weight_eval:\n",
        "  adj_eval[f] = sp.csr_matrix((weight_eval[f], (row_eval[f], col_eval[f])), shape=(node_size, node_size))"
      ],
      "execution_count": null,
      "outputs": []
    },
    {
      "cell_type": "markdown",
      "metadata": {
        "id": "XM89cDQb0j5Q"
      },
      "source": [
        "##Build Model"
      ]
    },
    {
      "cell_type": "code",
      "metadata": {
        "id": "mBRi-q_R0npl"
      },
      "source": [
        "# from inits import *\n",
        "import tensorflow.compat.v1 as tf\n",
        "\n",
        "flags = tf.app.flags\n",
        "FLAGS = flags.FLAGS\n",
        "\n",
        "# global unique layer ID dictionary for layer name assignment\n",
        "_LAYER_UIDS = {}\n",
        "\n",
        "\n",
        "def get_layer_uid(layer_name=''):\n",
        "    \"\"\"Helper function, assigns unique layer IDs.\"\"\"\n",
        "    if layer_name not in _LAYER_UIDS:\n",
        "        _LAYER_UIDS[layer_name] = 1\n",
        "        return 1\n",
        "    else:\n",
        "        _LAYER_UIDS[layer_name] += 1\n",
        "        return _LAYER_UIDS[layer_name]\n",
        "\n",
        "\n",
        "def sparse_dropout(x, keep_prob, noise_shape):\n",
        "    \"\"\"Dropout for sparse tensors.\"\"\"\n",
        "    random_tensor = keep_prob\n",
        "    random_tensor += tf.random_uniform(noise_shape)\n",
        "    dropout_mask = tf.cast(tf.floor(random_tensor), dtype=tf.bool)\n",
        "    pre_out = tf.sparse_retain(x, dropout_mask)\n",
        "    return pre_out * (1./keep_prob)\n",
        "\n",
        "\n",
        "def dot(x, y, sparse=False):\n",
        "    \"\"\"Wrapper for tf.matmul (sparse vs dense).\"\"\"\n",
        "    if sparse:\n",
        "        res = tf.sparse_tensor_dense_matmul(x, y)\n",
        "    else:\n",
        "        res = tf.matmul(x, y)\n",
        "    return res\n",
        "\n",
        "\n",
        "class Layer(object):\n",
        "    \"\"\"Base layer class. Defines basic API for all layer objects.\n",
        "    Implementation inspired by keras (http://keras.io).\n",
        "\n",
        "    # Properties\n",
        "        name: String, defines the variable scope of the layer.\n",
        "        logging: Boolean, switches Tensorflow histogram logging on/off\n",
        "\n",
        "    # Methods\n",
        "        _call(inputs): Defines computation graph of layer\n",
        "            (i.e. takes input, returns output)\n",
        "        __call__(inputs): Wrapper for _call()\n",
        "        _log_vars(): Log all variables\n",
        "    \"\"\"\n",
        "\n",
        "    def __init__(self, **kwargs):\n",
        "        allowed_kwargs = {'name', 'logging'}\n",
        "        for kwarg in kwargs.keys():\n",
        "            assert kwarg in allowed_kwargs, 'Invalid keyword argument: ' + kwarg\n",
        "        name = kwargs.get('name')\n",
        "        if not name:\n",
        "            layer = self.__class__.__name__.lower()\n",
        "            name = layer + '_' + str(get_layer_uid(layer))\n",
        "        self.name = name\n",
        "        self.vars = {}\n",
        "        logging = kwargs.get('logging', False)\n",
        "        self.logging = logging\n",
        "        self.sparse_inputs = False\n",
        "\n",
        "    def _call(self, inputs):\n",
        "        return inputs\n",
        "\n",
        "    def __call__(self, inputs):\n",
        "        with tf.name_scope(self.name):\n",
        "            if self.logging and not self.sparse_inputs:\n",
        "                tf.summary.histogram(self.name + '/inputs', inputs)\n",
        "            outputs = self._call(inputs)\n",
        "            if self.logging:\n",
        "                tf.summary.histogram(self.name + '/outputs', outputs)\n",
        "            return outputs\n",
        "\n",
        "    def _log_vars(self):\n",
        "        for var in self.vars:\n",
        "            tf.summary.histogram(self.name + '/vars/' + var, self.vars[var])\n",
        "\n",
        "\n",
        "\n",
        "class GraphConvolution(Layer):\n",
        "    \"\"\"Graph convolution layer.\"\"\"\n",
        "    def __init__(self, input_dim, output_dim, placeholders, dropout=0.,\n",
        "                 sparse_inputs=False, act=tf.nn.relu, bias=False,\n",
        "                 featureless=False, **kwargs):\n",
        "        super(GraphConvolution, self).__init__(**kwargs)\n",
        "\n",
        "        if dropout:\n",
        "            self.dropout = placeholders['dropout']\n",
        "        else:\n",
        "            self.dropout = 0.\n",
        "\n",
        "        self.act = act\n",
        "        self.support = placeholders['support']\n",
        "        self.sparse_inputs = sparse_inputs\n",
        "        self.featureless = featureless\n",
        "        self.bias = bias\n",
        "\n",
        "        # helper variable for sparse dropout\n",
        "        self.num_features_nonzero = placeholders['num_features_nonzero']\n",
        "\n",
        "        with tf.variable_scope(self.name + '_vars'):\n",
        "            for i in range(len(self.support)):\n",
        "                self.vars['weights_' + str(i)] = glorot([input_dim, output_dim],\n",
        "                                                        name='weights_' + str(i))\n",
        "            if self.bias:\n",
        "                self.vars['bias'] = zeros([output_dim], name='bias')\n",
        "\n",
        "        if self.logging:\n",
        "            self._log_vars()\n",
        "\n",
        "    def _call(self, inputs):\n",
        "        x = inputs\n",
        "\n",
        "        # dropout\n",
        "        if self.sparse_inputs:\n",
        "            x = sparse_dropout(x, 1-self.dropout, self.num_features_nonzero)\n",
        "        else:\n",
        "            x = tf.nn.dropout(x, 1-self.dropout)\n",
        "\n",
        "        # convolve\n",
        "        supports = list()\n",
        "        for i in range(len(self.support)):\n",
        "            if not self.featureless:\n",
        "                pre_sup = dot(x, self.vars['weights_' + str(i)],\n",
        "                              sparse=self.sparse_inputs)\n",
        "            else:\n",
        "                pre_sup = self.vars['weights_' + str(i)]            \n",
        "            support = dot(self.support[i], pre_sup, sparse=True)\n",
        "            supports.append(support)\n",
        "        output = tf.add_n(supports)\n",
        "\n",
        "        # bias\n",
        "        if self.bias:\n",
        "            output += self.vars['bias']\n",
        "\t\t\t\n",
        "\t\t\n",
        "        self.embedding = output #output\n",
        "        return self.act(output)\n"
      ],
      "execution_count": null,
      "outputs": []
    },
    {
      "cell_type": "code",
      "metadata": {
        "id": "SkVgGB0k0xOH"
      },
      "source": [
        "# from metrics import *\n",
        "import tensorflow.compat.v1 as tf\n",
        "\n",
        "flags = tf.app.flags\n",
        "FLAGS = flags.FLAGS\n",
        "\n",
        "def glorot(shape, name=None):\n",
        "    \"\"\"Glorot & Bengio (AISTATS 2010) init.\"\"\"\n",
        "    init_range = np.sqrt(6.0/(shape[0]+shape[1]))\n",
        "    initial = tf.random_uniform(shape, minval=-init_range, maxval=init_range, dtype=tf.float32)\n",
        "    return tf.Variable(initial, name=name)\n",
        "\n",
        "class Model(object):\n",
        "    def __init__(self, **kwargs):\n",
        "        allowed_kwargs = {'name', 'logging'}\n",
        "        for kwarg in kwargs.keys():\n",
        "            assert kwarg in allowed_kwargs, 'Invalid keyword argument: ' + kwarg\n",
        "        name = kwargs.get('name')\n",
        "        if not name:\n",
        "            name = self.__class__.__name__.lower()\n",
        "        self.name = name\n",
        "\n",
        "        logging = kwargs.get('logging', False)\n",
        "        self.logging = logging\n",
        "\n",
        "        self.vars = {}\n",
        "        self.placeholders = {}\n",
        "\n",
        "        self.layers = []\n",
        "        self.activations = []\n",
        "\n",
        "        self.inputs = None\n",
        "        self.outputs = None\n",
        "\n",
        "        self.loss = 0\n",
        "        self.accuracy = 0\n",
        "        self.optimizer = None\n",
        "        self.opt_op = None\n",
        "\n",
        "    def _build(self):\n",
        "        raise NotImplementedError\n",
        "\n",
        "    def build(self):\n",
        "        \"\"\" Wrapper for _build() \"\"\"\n",
        "        with tf.variable_scope(self.name):\n",
        "            self._build()\n",
        "\n",
        "        # Build sequential layer model\n",
        "        self.activations.append(self.inputs)\n",
        "        for layer in self.layers:\n",
        "            hidden = layer(self.activations[-1])\n",
        "            self.activations.append(hidden)\n",
        "        self.outputs = self.activations[-1]\n",
        "\n",
        "        # Store model variables for easy access\n",
        "        variables = tf.get_collection(tf.GraphKeys.GLOBAL_VARIABLES, scope=self.name)\n",
        "        self.vars = {var.name: var for var in variables}\n",
        "\n",
        "        # Build metrics\n",
        "        self._loss()\n",
        "        self._accuracy()\n",
        "\n",
        "        self.opt_op = self.optimizer.minimize(self.loss)\n",
        "\n",
        "    def predict(self):\n",
        "        pass\n",
        "\n",
        "    def _loss(self):\n",
        "        raise NotImplementedError\n",
        "\n",
        "    def _accuracy(self):\n",
        "        raise NotImplementedError\n",
        "\n",
        "    def save(self, sess=None):\n",
        "        if not sess:\n",
        "            raise AttributeError(\"TensorFlow session not provided.\")\n",
        "        saver = tf.train.Saver(self.vars)\n",
        "        save_path = saver.save(sess, \"tmp/%s.ckpt\" % self.name)\n",
        "        print(\"Model saved in file: %s\" % save_path)\n",
        "\n",
        "    def load(self, sess=None):\n",
        "        if not sess:\n",
        "            raise AttributeError(\"TensorFlow session not provided.\")\n",
        "        saver = tf.train.Saver(self.vars)\n",
        "        save_path = \"tmp/%s.ckpt\" % self.name\n",
        "        saver.restore(sess, save_path)\n",
        "        print(\"Model restored from file: %s\" % save_path)"
      ],
      "execution_count": null,
      "outputs": []
    },
    {
      "cell_type": "code",
      "metadata": {
        "id": "5dztZuyxcgRK"
      },
      "source": [
        "class GCN(Model):\n",
        "    def __init__(self, placeholders, input_dim, **kwargs):\n",
        "        super(GCN, self).__init__(**kwargs)\n",
        "\n",
        "        self.inputs = placeholders['features']\n",
        "        self.input_dim = input_dim\n",
        "        # self.input_dim = self.inputs.get_shape().as_list()[1]  # To be supported in future Tensorflow versions\n",
        "        self.output_dim = placeholders['labels'].get_shape().as_list()[1]\n",
        "        self.placeholders = placeholders\n",
        "\n",
        "        self.optimizer = tf.train.AdamOptimizer(learning_rate=FLAGS.learning_rate)\n",
        "\n",
        "        self.build()\n",
        "\n",
        "    def _loss(self):\n",
        "        # Weight decay loss\n",
        "        for var in self.layers[0].vars.values():\n",
        "            self.loss += FLAGS.weight_decay * tf.nn.l2_loss(var)\n",
        "\n",
        "        # Cross entropy error\n",
        "        self.loss += masked_softmax_cross_entropy(self.outputs, self.placeholders['labels'],\n",
        "                                                  self.placeholders['labels_mask'])\n",
        "\n",
        "    def _accuracy(self):\n",
        "        self.accuracy = masked_accuracy(self.outputs, self.placeholders['labels'],\n",
        "                                        self.placeholders['labels_mask'])\n",
        "        self.pred = tf.argmax(self.outputs, 1)\n",
        "        self.labels = tf.argmax(self.placeholders['labels'], 1)\n",
        "\n",
        "    def _build(self):\n",
        "\n",
        "        self.layers.append(GraphConvolution(input_dim=self.input_dim,\n",
        "                                            output_dim=FLAGS.hidden1,\n",
        "                                            placeholders=self.placeholders,\n",
        "                                            act=tf.nn.relu,\n",
        "                                            dropout=True,\n",
        "                                            featureless=False,\n",
        "                                            sparse_inputs=True,\n",
        "                                            logging=self.logging))\n",
        "        \n",
        "        self.layers.append(GraphConvolution(input_dim=FLAGS.hidden1,\n",
        "                                            output_dim=self.output_dim,\n",
        "                                            placeholders=self.placeholders,\n",
        "                                            act=lambda x: x, #\n",
        "                                            dropout=True,\n",
        "                                            logging=self.logging))\n",
        "\n",
        "    def predict(self):\n",
        "        return tf.nn.softmax(self.outputs)"
      ],
      "execution_count": null,
      "outputs": []
    },
    {
      "cell_type": "code",
      "metadata": {
        "id": "ZQXtEYgr054Z"
      },
      "source": [
        "def masked_softmax_cross_entropy(preds, labels, mask):\n",
        "    \"\"\"Softmax cross-entropy loss with masking.\"\"\"\n",
        "    print(preds)\n",
        "    loss = tf.nn.softmax_cross_entropy_with_logits_v2(logits=preds, labels=labels)\n",
        "    mask = tf.cast(mask, dtype=tf.float32)\n",
        "    mask /= tf.reduce_mean(mask)\n",
        "    loss *= mask\n",
        "    return tf.reduce_mean(loss)\n",
        "\n",
        "\n",
        "def masked_accuracy(preds, labels, mask):\n",
        "    \"\"\"Accuracy with masking.\"\"\"\n",
        "    correct_prediction = tf.equal(tf.argmax(preds, 1), tf.argmax(labels, 1))\n",
        "\n",
        "    accuracy_all = tf.cast(correct_prediction, tf.float32)\n",
        "    mask = tf.cast(mask, dtype=tf.float32)\n",
        "    mask /= tf.reduce_mean(mask)\n",
        "    accuracy_all *= mask\n",
        "    return tf.reduce_mean(accuracy_all)"
      ],
      "execution_count": null,
      "outputs": []
    },
    {
      "cell_type": "markdown",
      "metadata": {
        "id": "LT7yBttEfj0r"
      },
      "source": [
        "## Model Setting"
      ]
    },
    {
      "cell_type": "code",
      "metadata": {
        "id": "OMKQpSeQ073v"
      },
      "source": [
        "from __future__ import division\n",
        "from __future__ import print_function\n",
        "\n",
        "import time\n",
        "import tensorflow.compat.v1 as tf\n",
        "\n",
        "from sklearn import metrics\n",
        "import random\n",
        "import os\n",
        "import sys\n",
        "\n",
        "\n",
        "# # Set random seed\n",
        "# seed = random.randint(1, 200)\n",
        "# np.random.seed(seed)\n",
        "# tf.set_random_seed(seed)\n",
        "\n",
        "\n",
        "# Settings\n",
        "os.environ[\"CUDA_VISIBLE_DEVICES\"] = \"1,2\"\n",
        "\n",
        "flags = tf.app.flags\n",
        "FLAGS = flags.FLAGS\n",
        "for name in list(flags.FLAGS):\n",
        "      delattr(flags.FLAGS,name)\n",
        "flags.DEFINE_string('f', '', 'kernel')\n",
        "flags.DEFINE_string('dataset', 'sencegraph', 'Dataset string.')\n",
        "# 'gcn', 'gcn_cheby', 'dense'\n",
        "flags.DEFINE_string('model', 'gcn', 'Model string.')\n",
        "flags.DEFINE_float('learning_rate', 1e-3, 'Initial learning rate.')\n",
        "flags.DEFINE_integer('epochs', 10, 'Number of epochs to train.')\n",
        "flags.DEFINE_integer('hidden1', 768, 'Number of units in hidden layer 1.')\n",
        "flags.DEFINE_float('dropout', 0.5, 'Dropout rate (1 - keep probability).')\n",
        "flags.DEFINE_float('weight_decay', 0,\n",
        "                   'Weight for L2 loss on embedding matrix.')  # 5e-4\n",
        "flags.DEFINE_integer('early_stopping', 20,\n",
        "                     'Tolerance for early stopping (# of epochs).')\n",
        "flags.DEFINE_integer('max_degree', 7, 'Maximum Chebyshev polynomial degree.')"
      ],
      "execution_count": null,
      "outputs": []
    },
    {
      "cell_type": "markdown",
      "metadata": {
        "id": "qTw72zhB22dt"
      },
      "source": [
        "## Input Features setup"
      ]
    },
    {
      "cell_type": "markdown",
      "metadata": {
        "id": "IXxIH23CKXxz"
      },
      "source": [
        "### Node Feature is visual embedding"
      ]
    },
    {
      "cell_type": "code",
      "metadata": {
        "id": "opLAemuYZSrU"
      },
      "source": [
        "# wrong code for global level \n",
        "# transfer from node id to features\n",
        "import scipy.sparse as sp\n",
        "features_train = {}\n",
        "for l in node_lists_train:\n",
        "  features_train[l] = []\n",
        "  for node in node_lists_train[l]:\n",
        "    feature = np.array([0.0]*2048)\n",
        "    feature += id_density_dict[l][str(node)]\n",
        "    features_train[l].append(feature)\n",
        "  for i in range(len(node_lists_train[l]),177):\n",
        "    feature = np.array([0.0]*2048)\n",
        "    features_train[l].append(feature)\n",
        "  features_train[l]=sp.csr_matrix(features_train[l])"
      ],
      "execution_count": null,
      "outputs": []
    },
    {
      "cell_type": "code",
      "metadata": {
        "id": "jWbVc0kzKcuK"
      },
      "source": [
        "import scipy.sparse as sp\n",
        "features_eval = {}\n",
        "for l in node_lists_eval:\n",
        "  features_eval[l] = []\n",
        "  for node in node_lists_eval[l]:\n",
        "    feature = np.array([0.0]*2048)\n",
        "    feature += id_density_dict[l][str(node)]\n",
        "    features_eval[l].append(feature)\n",
        "  for i in range(len(node_lists_eval[l]),177):\n",
        "    feature = np.array([0.0]*2048)\n",
        "    features_eval[l].append(feature)\n",
        "  features_eval[l]=sp.csr_matrix(features_eval[l])"
      ],
      "execution_count": null,
      "outputs": []
    },
    {
      "cell_type": "markdown",
      "metadata": {
        "id": "LUHfEeuyKezp"
      },
      "source": [
        "### Node embedding is Text Density Features"
      ]
    },
    {
      "cell_type": "code",
      "metadata": {
        "id": "antx00Nx7lyh"
      },
      "source": [
        "# transfer from node id to features\n",
        "import scipy.sparse as sp\n",
        "features_train = {}\n",
        "for l in node_lists_train:\n",
        "  features_train[l] = []\n",
        "  for node in node_lists_train[l]:\n",
        "    feature = np.array([0.0]*768)\n",
        "    feature += np.array(positionalencoding1d(768,[id_density_dict[l][str(node)]])[0])\n",
        "    features_train[l].append(feature)\n",
        "  for i in range(len(node_lists_train[l]),177):\n",
        "    feature = np.array([0.0]*768)\n",
        "    features_train[l].append(feature)\n",
        "  features_train[l]=sp.csr_matrix(features_train[l])\n"
      ],
      "execution_count": null,
      "outputs": []
    },
    {
      "cell_type": "code",
      "metadata": {
        "id": "GvxkW_u57vlM"
      },
      "source": [
        "import scipy.sparse as sp\n",
        "features_eval = {}\n",
        "for l in node_lists_eval:\n",
        "  features_eval[l] = []\n",
        "  for node in node_lists_eval[l]:\n",
        "    feature = np.array([0.0]*768)\n",
        "    feature += np.array(positionalencoding1d(768,[id_density_dict[l][str(node)]])[0])\n",
        "    features_eval[l].append(feature)\n",
        "  for i in range(len(node_lists_eval[l]),177):\n",
        "    feature = np.array([0.0]*768)\n",
        "    features_eval[l].append(feature)\n",
        "  features_eval[l]=sp.csr_matrix(features_eval[l])"
      ],
      "execution_count": null,
      "outputs": []
    },
    {
      "cell_type": "code",
      "metadata": {
        "id": "MXT_fRkf6unl"
      },
      "source": [
        "print(len(features_train))"
      ],
      "execution_count": null,
      "outputs": []
    },
    {
      "cell_type": "markdown",
      "metadata": {
        "id": "wA1GFzCyKp_x"
      },
      "source": [
        "\n",
        "\n",
        "### Sparse to tuple"
      ]
    },
    {
      "cell_type": "code",
      "metadata": {
        "id": "_oDB45X71krq"
      },
      "source": [
        "def sparse_to_tuple(sparse_mx):\n",
        "    \"\"\"Convert sparse matrix to tuple representation.\"\"\"\n",
        "    def to_tuple(mx):\n",
        "        if not sp.isspmatrix_coo(mx):\n",
        "            mx = mx.tocoo()\n",
        "        coords = np.vstack((mx.row, mx.col)).transpose()\n",
        "        values = mx.data\n",
        "        shape = mx.shape\n",
        "        return coords, values, shape\n",
        "    if isinstance(sparse_mx, list):\n",
        "        for i in range(len(sparse_mx)):\n",
        "            sparse_mx[i] = to_tuple(sparse_mx[i])\n",
        "    else:\n",
        "        sparse_mx = to_tuple(sparse_mx)\n",
        "    return sparse_mx\n",
        "\n",
        "\n",
        "def preprocess_features(features):\n",
        "    \"\"\"Row-normalize feature matrix and convert to tuple representation\"\"\"\n",
        "    rowsum = np.array(features.sum(1))\n",
        "    r_inv = np.power(rowsum, -1).flatten()\n",
        "    r_inv[np.isinf(r_inv)] = 0.\n",
        "    r_mat_inv = sp.diags(r_inv)\n",
        "    features = r_mat_inv.dot(features)\n",
        "    return sparse_to_tuple(features)\n",
        "for l in features_train:\n",
        "  features_train[l] = preprocess_features(features_train[l])\n",
        "  "
      ],
      "execution_count": null,
      "outputs": []
    },
    {
      "cell_type": "code",
      "metadata": {
        "id": "9u4qkW_S0I7p"
      },
      "source": [
        "for l in features_eval:\n",
        "  features_eval[l] = preprocess_features(features_eval[l])"
      ],
      "execution_count": null,
      "outputs": []
    },
    {
      "cell_type": "markdown",
      "metadata": {
        "id": "rFjyvVK3ChHf"
      },
      "source": [
        "## input setting"
      ]
    },
    {
      "cell_type": "code",
      "metadata": {
        "id": "LR-MQb4Sxkx6"
      },
      "source": [
        "#define input dictionary\n",
        "# num_obj_dict was defined to record the number of object in each document page\n",
        "#\n",
        "y_train = {}\n",
        "train_mask = {}\n",
        "for f in new_train_list_dict:\n",
        "  y_train[f] = np.array([[0]*num_class]*adj_train[f].shape[0])\n",
        "  y_train[f] = np.array(labels_one_hot_train[f])\n",
        "  train_mask[f] = [False]*adj_train[f].shape[0]\n",
        "  train_mask[f][:num_obj_dict[f]] = [True]*num_obj_dict[f]"
      ],
      "execution_count": null,
      "outputs": []
    },
    {
      "cell_type": "code",
      "metadata": {
        "id": "Utq8riv00SJt"
      },
      "source": [
        "y_val = {}\n",
        "val_mask = {}\n",
        "for f in new_eval_list_dict:\n",
        "  y_val[f] = np.array([[0]*num_class]*adj_eval[f].shape[0])\n",
        "  y_val[f] = np.array(labels_one_hot_eval[f])\n",
        "  val_mask[f] = [False]*adj_eval[f].shape[0]\n",
        "  val_mask[f][:num_obj_dict[f]] = [True]*num_obj_dict[f]"
      ],
      "execution_count": null,
      "outputs": []
    },
    {
      "cell_type": "code",
      "metadata": {
        "id": "1nn66dfE3BDH"
      },
      "source": [
        "def normalize_adj(adj):\n",
        "    \"\"\"Symmetrically normalize adjacency matrix.\"\"\"\n",
        "    adj = sp.coo_matrix(adj)\n",
        "    rowsum = np.array(adj.sum(1))\n",
        "    d_inv_sqrt = np.power(rowsum, -0.5).flatten()\n",
        "    d_inv_sqrt[np.isinf(d_inv_sqrt)] = 0.\n",
        "    d_mat_inv_sqrt = sp.diags(d_inv_sqrt)\n",
        "    return adj.dot(d_mat_inv_sqrt).transpose().dot(d_mat_inv_sqrt).tocoo()\n",
        "\n",
        "def preprocess_adj(adj):\n",
        "    \"\"\"Preprocessing of adjacency matrix for simple GCN model and conversion to tuple representation.\"\"\"\n",
        "    adj_normalized = normalize_adj(adj + sp.eye(adj.shape[0]))\n",
        "    return sparse_to_tuple(adj_normalized)\n",
        "support_train = {}\n",
        "for f in adj_train:\n",
        "  support_train[f] = [preprocess_adj(adj_train[f])]"
      ],
      "execution_count": null,
      "outputs": []
    },
    {
      "cell_type": "code",
      "metadata": {
        "id": "KkRznA3Q0Z7e"
      },
      "source": [
        "support_eval = {}\n",
        "for f in adj_eval:\n",
        "  support_eval[f] = [preprocess_adj(adj_eval[f])]"
      ],
      "execution_count": null,
      "outputs": []
    },
    {
      "cell_type": "code",
      "metadata": {
        "id": "lJpkmP403EB2"
      },
      "source": [
        "# just change the number of support gpu\n",
        "num_supports = 1\n",
        "tf.compat.v1.disable_eager_execution()\n",
        "# Define placeholders\n",
        "placeholders = {\n",
        "    'support': [tf.sparse_placeholder(tf.float32) for _ in range(num_supports)],\n",
        "    'features': tf.sparse_placeholder(tf.float32, shape = (6,2048)),\n",
        "    'labels': tf.placeholder(tf.float32, shape=(None, 6)),\n",
        "    'labels_mask': tf.placeholder(tf.int32),\n",
        "    'dropout': tf.placeholder_with_default(0.5, shape=()),\n",
        "    # helper variable for sparse dropout\n",
        "    'num_features_nonzero': tf.placeholder(tf.int32)\n",
        "}\n"
      ],
      "execution_count": null,
      "outputs": []
    },
    {
      "cell_type": "code",
      "metadata": {
        "id": "YV47VdhDTW7J"
      },
      "source": [
        "# define input dimension which is same as node feature size\n",
        "model = GCN(placeholders, input_dim=2048, logging=True)"
      ],
      "execution_count": null,
      "outputs": []
    },
    {
      "cell_type": "code",
      "metadata": {
        "id": "-6JjEOvYKfIB"
      },
      "source": [
        "# Initialize session\n",
        "session_conf = tf.ConfigProto(gpu_options=tf.GPUOptions(allow_growth=True))\n",
        "sess = tf.Session(config=session_conf)\n",
        "\n",
        "\n",
        "# Define model evaluation function\n",
        "def evaluate(features, support, labels, mask, placeholders):\n",
        "    feed_dict_val = construct_feed_dict(\n",
        "        features, support, labels, mask, placeholders)\n",
        "    outs_val = sess.run([model.loss, model.accuracy, model.pred, model.labels, model.layers[0].embedding, model.layers[1].embedding], feed_dict=feed_dict_val)\n",
        "    return outs_val[0], outs_val[1], outs_val[2], outs_val[3], outs_val[4], outs_val[5]\n",
        "\n",
        "\n",
        "# Init variables\n",
        "sess.run(tf.global_variables_initializer())\n",
        "\n",
        "cost_val = []"
      ],
      "execution_count": null,
      "outputs": []
    },
    {
      "cell_type": "code",
      "metadata": {
        "id": "qix0WbCOKu-D"
      },
      "source": [
        "def construct_feed_dict(features, support, labels, labels_mask, placeholders):\n",
        "    \"\"\"Construct feed dictionary.\"\"\"\n",
        "    feed_dict = dict()\n",
        "    feed_dict.update({placeholders['labels']: labels})\n",
        "    feed_dict.update({placeholders['labels_mask']: labels_mask})\n",
        "    feed_dict.update({placeholders['features']: features})\n",
        "    feed_dict.update({placeholders['support'][i]: support[i]\n",
        "                      for i in range(len(support))})\n",
        "    feed_dict.update({placeholders['num_features_nonzero']: features[1].shape})\n",
        "    return feed_dict"
      ],
      "execution_count": null,
      "outputs": []
    },
    {
      "cell_type": "markdown",
      "metadata": {
        "id": "NineZIX5Tl0t"
      },
      "source": [
        "## Train GCN model"
      ]
    },
    {
      "cell_type": "code",
      "metadata": {
        "id": "6BHADqVKKxYf"
      },
      "source": [
        "# Train model\n",
        "for epoch in range(FLAGS.epochs):\n",
        "    #print(epoch)\n",
        "    output_dic_test = {}\n",
        "    # Construct feed dictionary\n",
        "    if epoch == FLAGS.epochs-1:\n",
        "        output_dic_train = {}\n",
        "    \n",
        "    loss = 0\n",
        "    for f in features_train:\n",
        "\n",
        "        feed_dict = construct_feed_dict(\n",
        "            features_train[f], support_train[f], y_train[f], train_mask[f], placeholders)\n",
        "        feed_dict.update({placeholders['dropout']: FLAGS.dropout})\n",
        "\n",
        "    # Training step\n",
        "        outs = sess.run([model.opt_op, model.loss, model.accuracy,\n",
        "                         model.layers[0].embedding, model.layers[1].embedding], feed_dict=feed_dict)\n",
        "        loss += outs[1]\n",
        "    print(loss)"
      ],
      "execution_count": null,
      "outputs": []
    },
    {
      "cell_type": "markdown",
      "metadata": {
        "id": "imTmlVb_LP20"
      },
      "source": [
        "### Save model"
      ]
    },
    {
      "cell_type": "code",
      "metadata": {
        "id": "ll4wQKzReFPY"
      },
      "source": [
        "!mkdir /content/drive/MyDrive/Docbank/final_visual_gcn_trained_model_updated"
      ],
      "execution_count": null,
      "outputs": []
    },
    {
      "cell_type": "code",
      "metadata": {
        "id": "j6B4Oxn_d0zt"
      },
      "source": [
        "saver = tf.train.Saver()\n",
        "saver.save(sess, '/content/drive/MyDrive/Docbank/final_visual_gcn_trained_model_updated/visual_gcn_model.ckpt')"
      ],
      "execution_count": null,
      "outputs": []
    },
    {
      "cell_type": "markdown",
      "metadata": {
        "id": "ytmVBxioLTPo"
      },
      "source": [
        "## Load Model"
      ]
    },
    {
      "cell_type": "code",
      "metadata": {
        "id": "GyH5h9H9LSWw"
      },
      "source": [
        "ckpt = tf.train.get_checkpoint_state(\"/content/drive/MyDrive/Docbank/final_visual_gcn_trained_model_updated\")\n",
        "output_dic_test = {}\n",
        "with tf.Session() as sess:\n",
        "  saver=tf.train.import_meta_graph('/content/drive/MyDrive/Docbank/final_visual_gcn_trained_model_updated/visual_gcn_model.ckpt.meta')\n",
        "  sess.run(tf.global_variables_initializer())\n",
        "  saver.restore(sess, ckpt.all_model_checkpoint_paths[0])\n",
        "  for f in features_train:\n",
        "    cost, acc, pred, labels, emb1, emb2 = evaluate(features_train[f], support_train[f], y_train[f], train_mask[f], placeholders)\n",
        "    output_dic_test[f] = emb1\n",
        "print(\"Optimization Finished!\")\n",
        "print(ckpt)\n"
      ],
      "execution_count": null,
      "outputs": []
    },
    {
      "cell_type": "code",
      "metadata": {
        "id": "_-5cNvfnLZ02"
      },
      "source": [
        "import pickle\n",
        "import os \n",
        "path = '/content/drive/MyDrive/Docbank/gcn_trained_embs/'\n",
        "file_name = 'test_gcn_visual_768_final_updated.pkl' \n",
        "with open(path+file_name,'wb') as file_object:\n",
        "    pickle.dump(output_dic_test,file_object)"
      ],
      "execution_count": null,
      "outputs": []
    },
    {
      "cell_type": "code",
      "metadata": {
        "id": "gvKw_o0Z07JO"
      },
      "source": [
        "# Validation\n",
        "output_dic_train = {}\n",
        "for f in features_train:\n",
        "    cost, acc, pred, labels, emb1, emb2 = evaluate(\n",
        "        features_train[f], support_train[f], y_train[f], train_mask[f], placeholders)\n",
        "    output_dic_train[f] = emb1\n",
        "print(\"Optimization Finished!\")"
      ],
      "execution_count": null,
      "outputs": []
    },
    {
      "cell_type": "code",
      "metadata": {
        "id": "T-TuYFOS_xcL"
      },
      "source": [
        "import pickle\n",
        "import os \n",
        "path = '/content/drive/MyDrive/Docbank/'\n",
        "os.chdir(path)\n",
        "file_name = 'char_density_gcn_emb_train.pkl' \n",
        "with open(file_name,'wb') as file_object:\n",
        "    pickle.dump(output_dic_train,file_object)"
      ],
      "execution_count": null,
      "outputs": []
    },
    {
      "cell_type": "code",
      "metadata": {
        "id": "nEQ4dcvVAvh3"
      },
      "source": [
        "import pickle\n",
        "import os \n",
        "path = '/content/drive/MyDrive/Publaynet/'\n",
        "os.chdir(path)\n",
        "file_name = 'char_density_gcn_emb_test.json' \n",
        "with open(file_name,'wb') as file_object:\n",
        "    pickle.dump(output_dic_test,file_object)"
      ],
      "execution_count": null,
      "outputs": []
    },
    {
      "cell_type": "code",
      "metadata": {
        "id": "owmllARC8m9F"
      },
      "source": [
        "output_dic_train_vis = output_dic_train\n",
        "output_dic_test_vis = output_dic_test"
      ],
      "execution_count": null,
      "outputs": []
    },
    {
      "cell_type": "code",
      "metadata": {
        "id": "yBT6eY6B6gQ2"
      },
      "source": [
        "output_dic_train_den = output_dic_train\n",
        "output_dic_test_den = output_dic_test"
      ],
      "execution_count": null,
      "outputs": []
    },
    {
      "cell_type": "markdown",
      "metadata": {
        "id": "2UoXWcPnQnGT"
      },
      "source": [
        "## Matching with Object Classification Dataframe"
      ]
    },
    {
      "cell_type": "code",
      "metadata": {
        "id": "FHt8bFnoeqpV"
      },
      "source": [
        "from google.colab import drive\n",
        "drive.mount('/content/drive')"
      ],
      "execution_count": null,
      "outputs": []
    },
    {
      "cell_type": "code",
      "metadata": {
        "id": "vYS7oT7joqG4"
      },
      "source": [
        "train_text = []\n",
        "train_label = []\n",
        "train_density = []\n",
        "for img in train_list_dict:\n",
        "  for obj in train_list_dict[img]['objects']:\n",
        "    tem = train_list_dict[img]['objects'][obj]\n",
        "    train_text.append(tem['text'])\n",
        "    train_label.append(tem['category_id'])\n",
        "  for i in range(len(train_list_dict[img]['objects'].keys())):\n",
        "    train_density.append(output_dic_train[img][i])"
      ],
      "execution_count": null,
      "outputs": []
    },
    {
      "cell_type": "code",
      "metadata": {
        "id": "rpoSWCI-pwmv"
      },
      "source": [
        "print(len(train_text))\n",
        "print(len(train_density))"
      ],
      "execution_count": null,
      "outputs": []
    },
    {
      "cell_type": "code",
      "metadata": {
        "id": "_18mJNtDqviP"
      },
      "source": [
        "df_train = pd.DataFrame(np.array(train_text),columes = ['text'])"
      ],
      "execution_count": null,
      "outputs": []
    },
    {
      "cell_type": "code",
      "metadata": {
        "id": "xvOQZLcusPES"
      },
      "source": [
        "df_train.head()"
      ],
      "execution_count": null,
      "outputs": []
    },
    {
      "cell_type": "code",
      "metadata": {
        "id": "JrJbdsBr0Snq"
      },
      "source": [
        "df_train.to_pickle('/content/drive/MyDrive/Publaynet/publaynet_gcn-char-density.pkl')\n",
        "df_test.to_pickle('/content/drive/MyDrive/Publaynet/publayne_gcn-char-density.pkl')"
      ],
      "execution_count": null,
      "outputs": []
    }
  ]
}