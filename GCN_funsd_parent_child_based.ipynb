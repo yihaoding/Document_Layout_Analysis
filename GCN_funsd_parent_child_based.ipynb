{
  "nbformat": 4,
  "nbformat_minor": 0,
  "metadata": {
    "colab": {
      "name": "GCN_funsd_local_structural_relationship.ipynb",
      "provenance": [],
      "collapsed_sections": [
        "YQFgr5EutIGe",
        "UJYyF8y5tN9h",
        "fal52emMue4w"
      ],
      "toc_visible": true,
      "machine_shape": "hm"
    },
    "kernelspec": {
      "display_name": "Python 3",
      "name": "python3"
    },
    "language_info": {
      "name": "python"
    }
  },
  "cells": [
    {
      "cell_type": "code",
      "metadata": {
        "id": "HhUKsCXNxepB"
      },
      "source": [
        "!pip install -U -q PyDrive\n",
        "from pydrive.auth import GoogleAuth\n",
        "from pydrive.drive import GoogleDrive\n",
        "from google.colab import auth\n",
        "from oauth2client.client import GoogleCredentials\n",
        "import pandas as pd\n",
        "\n",
        "# Authenticate\n",
        "drive = None\n",
        "def authenticate():\n",
        "  global drive\n",
        "  \n",
        "  auth.authenticate_user()\n",
        "  gauth = GoogleAuth()\n",
        "  gauth.credentials = GoogleCredentials.get_application_default()\n",
        "  drive = GoogleDrive(gauth)\n",
        "\n",
        "#Download files\n",
        "def downloadFiles(fileIds):\n",
        "  authenticate()\n",
        "  \n",
        "  for fileId in fileIds:    \n",
        "    \n",
        "    downloaded = drive.CreateFile({\"id\": fileId[1]})\n",
        "    downloaded.GetContentFile(fileId[0])"
      ],
      "execution_count": null,
      "outputs": []
    },
    {
      "cell_type": "markdown",
      "metadata": {
        "id": "y7NnNK_cUh_p"
      },
      "source": [
        "## Relation Extraction"
      ]
    },
    {
      "cell_type": "code",
      "metadata": {
        "id": "-3DG91uxXXus"
      },
      "source": [
        "def relation_naming(label1,label2):\n",
        "  if label1=='question' and label2=='answer':\n",
        "    return 'parent'\n",
        "  elif label1=='answer' and label2=='question':\n",
        "    return 'child'\n",
        "  elif label1=='header' and label2=='question':\n",
        "    return 'parent'\n",
        "  elif label1=='question' and label2=='header':\n",
        "    return 'child'"
      ],
      "execution_count": null,
      "outputs": []
    },
    {
      "cell_type": "markdown",
      "metadata": {
        "id": "YQFgr5EutIGe"
      },
      "source": [
        "## Import the scene graph file"
      ]
    },
    {
      "cell_type": "code",
      "metadata": {
        "id": "QzwNedliyHp5"
      },
      "source": [
        "#Download file if not existing\n",
        "try:\n",
        "  _ = open(\"training_dataset.pkl\", \"r\")\n",
        "except:\n",
        "  downloadFiles([[\"training_dataset.pkl\", \"1jdLid7PcW8Wa8EjvnWZzaRFmaYEoGoE0\"]])\n",
        "\n",
        "try:\n",
        "  _ = open(\"testing_dataset.pkl\", \"r\")\n",
        "except:\n",
        "  downloadFiles([[\"testing_dataset.pkl\", \"1-1FTOU_0ax5iQ0VapQNQU4aJdE5_pmvW\"]])"
      ],
      "execution_count": null,
      "outputs": []
    },
    {
      "cell_type": "code",
      "metadata": {
        "id": "qeCQ9knU7P9z"
      },
      "source": [
        "import pickle\n",
        "with open('training_dataset.pkl', 'rb') as f:\n",
        "    train_list_dict=pickle.load(f)\n",
        "with open('testing_dataset.pkl', 'rb') as f:\n",
        "    eval_list_dict=pickle.load(f)"
      ],
      "execution_count": null,
      "outputs": []
    },
    {
      "cell_type": "code",
      "metadata": {
        "colab": {
          "base_uri": "https://localhost:8080/"
        },
        "id": "b-zlgoHxLQD6",
        "outputId": "98ec4ec1-3600-4526-b2f4-e93e94cacb35"
      },
      "source": [
        "from google.colab import drive\n",
        "drive.mount('/content/drive')"
      ],
      "execution_count": null,
      "outputs": [
        {
          "output_type": "stream",
          "text": [
            "Mounted at /content/drive\n"
          ],
          "name": "stdout"
        }
      ]
    },
    {
      "cell_type": "markdown",
      "metadata": {
        "id": "A0tYG8g81u9Z"
      },
      "source": [
        "##Import Some External Features"
      ]
    },
    {
      "cell_type": "markdown",
      "metadata": {
        "id": "UJYyF8y5tN9h"
      },
      "source": [
        "## Define some pre-processing function"
      ]
    },
    {
      "cell_type": "code",
      "metadata": {
        "colab": {
          "base_uri": "https://localhost:8080/"
        },
        "id": "O7QYVgYFuQtI",
        "outputId": "1e5fa277-8538-49fa-bff4-a7a67df626af"
      },
      "source": [
        "print(train_list_dict['0000971160']['objects']['1'].keys())"
      ],
      "execution_count": null,
      "outputs": [
        {
          "output_type": "stream",
          "text": [
            "dict_keys(['id', 'box', 'category', 'text', 'relations', 'bert_large_emb'])\n"
          ],
          "name": "stdout"
        }
      ]
    },
    {
      "cell_type": "code",
      "metadata": {
        "id": "3P55FJGdtDCc"
      },
      "source": [
        "# according to id to search text\n",
        "bbox_id_text = {}\n",
        "for l in train_list_dict:\n",
        "  for obj in train_list_dict[l]['objects']:\n",
        "    id = train_list_dict[l]['objects'][obj]['id']\n",
        "    bbox_id_text[id] = {}\n",
        "    bbox_id_text[id]['text'] = train_list_dict[l]['objects'][obj]['text']\n",
        "for l in eval_list_dict:\n",
        "  for obj in eval_list_dict[l]['objects']:\n",
        "    id = eval_list_dict[l]['objects'][obj]['id']\n",
        "    bbox_id_text[id] = {}\n",
        "    bbox_id_text[id]['text'] = eval_list_dict[l]['objects'][obj]['text']"
      ],
      "execution_count": null,
      "outputs": []
    },
    {
      "cell_type": "code",
      "metadata": {
        "id": "5AwmFBI2tF5L"
      },
      "source": [
        "# according to id to search object id in a document\n",
        "def globalid_to_localid(id):\n",
        "  for l in train_list_dict:\n",
        "    for obj in train_list_dict[l]['objects']:\n",
        "      if id == train_list_dict[l]['objects'][obj]['id']:\n",
        "        return obj\n",
        "  for l in eval_list_dict:\n",
        "    for obj in eval_list_dict[l]['objects']:\n",
        "      if id == eval_list_dict[l]['objects'][obj]['id']:\n",
        "        return obj"
      ],
      "execution_count": null,
      "outputs": []
    },
    {
      "cell_type": "code",
      "metadata": {
        "id": "IYDBL-DYuMdy"
      },
      "source": [
        "# this dictionary used to transfer object id to text_density/text_number/char_density/char_number/visual_embedding/\n",
        "id_density_dict = {}\n",
        "for l in eval_list_dict:\n",
        "  id_density_dict[l] = {}\n",
        "  for obj in eval_list_dict[l]['objects']:\n",
        "    id_density_dict[l][obj] = eval_list_dict[l]['objects'][obj]['bert_large_emb']\n",
        "for l in train_list_dict:\n",
        "  id_density_dict[l] = {}\n",
        "  for obj in train_list_dict[l]['objects']:\n",
        "    id_density_dict[l][obj] = train_list_dict[l]['objects'][obj]['bert_large_emb']"
      ],
      "execution_count": null,
      "outputs": []
    },
    {
      "cell_type": "code",
      "metadata": {
        "id": "gVuME0kfzbr8"
      },
      "source": [
        "import math\n",
        "import torch\n",
        "# one dimensional feature embedding\n",
        "def positionalencoding1d(d_model, feature_list):\n",
        "    \"\"\"\n",
        "    :param d_model: dimension of the model\n",
        "    :param feature_list: length of positions\n",
        "    :return: length*d_model position matrix\n",
        "    \"\"\"\n",
        "    if d_model % 2 != 0:\n",
        "        raise ValueError(\"Cannot use sin/cos positional encoding with \"\n",
        "                         \"odd dim (got dim={:d})\".format(d_model))\n",
        "    pe = torch.zeros(len(feature_list), d_model)\n",
        "    feats = torch.tensor(feature_list).unsqueeze(1)\n",
        "    div_term = torch.exp((torch.arange(0, d_model, 2, dtype=torch.float) *\n",
        "                         -(math.log(10000.0) / d_model)))\n",
        "    pe[:, 0::2] = torch.sin(feats.float() * div_term)\n",
        "    pe[:, 1::2] = torch.cos(feats.float() * div_term)\n",
        "    pe = pe.tolist()\n",
        "    return pe\n"
      ],
      "execution_count": null,
      "outputs": []
    },
    {
      "cell_type": "markdown",
      "metadata": {
        "id": "D0ot2qaDtTCI"
      },
      "source": [
        "## Extracting Information from training and evaluation json file"
      ]
    },
    {
      "cell_type": "code",
      "metadata": {
        "colab": {
          "base_uri": "https://localhost:8080/"
        },
        "id": "5X4DlyOn7tcd",
        "outputId": "2a285d9d-7157-44d2-c71f-794f25166ab0"
      },
      "source": [
        "train_list_dict['01073843']['objects']['0'].keys()"
      ],
      "execution_count": null,
      "outputs": [
        {
          "output_type": "execute_result",
          "data": {
            "text/plain": [
              "dict_keys(['id', 'box', 'category', 'text', 'relations', 'bert_large_emb'])"
            ]
          },
          "metadata": {
            "tags": []
          },
          "execution_count": 14
        }
      ]
    },
    {
      "cell_type": "code",
      "metadata": {
        "id": "MTanPUdYskxb"
      },
      "source": [
        "# Generate local graph based training dataset objects and relations list\n",
        "new_train_list_dict = {}\n",
        "for l in train_list_dict:\n",
        "  tem_dic = {}\n",
        "  tem_dic['objects'] = []\n",
        "  tem_dic['relationships'] = []\n",
        "  \n",
        "  for obj in train_list_dict[l]['objects']:\n",
        "    tem_dic['objects'].append(obj)\n",
        "    for rel in train_list_dict[l]['objects'][obj]['relations']:\n",
        "      tem_rel = [obj]\n",
        "      obj2_id = train_list_dict[l]['objects'][obj]['relations'][rel]['object']\n",
        "      obj2_id= globalid_to_localid(obj2_id)\n",
        "      tem_rel.append(obj2_id)\n",
        "      label1 = train_list_dict[l]['objects'][obj]['category']\n",
        "      label2 = train_list_dict[l]['objects'][obj2_id]['category']\n",
        "      rel_name = relation_naming(label1,label2)\n",
        "      tem_rel.append(rel_name)\n",
        "      tem_dic['relationships'].append(tem_rel)\n",
        "  new_train_list_dict[l] = tem_dic"
      ],
      "execution_count": null,
      "outputs": []
    },
    {
      "cell_type": "code",
      "metadata": {
        "id": "pUqo9tC3_B9R"
      },
      "source": [
        "# Generate local graph based validation dataset objects and relations list\n",
        "new_eval_list_dict = {}\n",
        "for l in eval_list_dict:\n",
        "  tem_dic = {}\n",
        "  tem_dic['objects'] = []\n",
        "  tem_dic['relationships'] = []\n",
        "\n",
        "  for obj in eval_list_dict[l]['objects']:\n",
        "    tem_dic['objects'].append(obj)\n",
        "    for rel in eval_list_dict[l]['objects'][obj]['relations']:\n",
        "      tem_rel = [obj]\n",
        "      obj2_id = eval_list_dict[l]['objects'][obj]['relations'][rel]['object']\n",
        "      obj2_id= globalid_to_localid(obj2_id)\n",
        "      tem_rel.append(obj2_id)\n",
        "      label1 = eval_list_dict[l]['objects'][obj]['category']\n",
        "      label2 = eval_list_dict[l]['objects'][obj2_id]['category']\n",
        "      rel_name = relation_naming(label1,label2)\n",
        "      tem_rel.append(rel_name)\n",
        "      tem_dic['relationships'].append(tem_rel)\n",
        "  new_eval_list_dict[l] = tem_dic"
      ],
      "execution_count": null,
      "outputs": []
    },
    {
      "cell_type": "code",
      "metadata": {
        "colab": {
          "base_uri": "https://localhost:8080/"
        },
        "id": "RU48YYtyxgkb",
        "outputId": "8dcfa188-36aa-413e-be99-818034a84522"
      },
      "source": [
        "print(train_list_dict['92039708_9710']['objects']['4'])\n",
        "print(train_list_dict['92039708_9710']['objects']['1']['bert_large_emb'])\n",
        "print(new_train_list_dict['92039708_9710']['relationships'])"
      ],
      "execution_count": null,
      "outputs": [
        {
          "output_type": "stream",
          "text": [
            "{'id': 45, 'box': [487, 119, 624, 133], 'category': 'header', 'text': 'SUBMISSION DATE', 'relations': {'0': {'name': 'question', 'id': 44, 'object': 46}, '1': {'name': 'question', 'id': 45, 'object': 47}, '2': {'name': 'question', 'id': 46, 'object': 48}, '3': {'name': 'question', 'id': 47, 'object': 49}}, 'bert_large_emb': array([-0.33609518, -0.5070231 ,  0.42079335, ..., -0.09489121,\n",
            "        0.05766436,  0.0635597 ])}\n",
            "[ 0.45127624 -0.04746425  0.20948099 ... -0.5965299  -0.97875184\n",
            "  0.0249646 ]\n",
            "[['0', '10', 'parent'], ['2', '9', 'parent'], ['4', '5', 'parent'], ['4', '6', 'parent'], ['4', '7', 'parent'], ['4', '8', 'parent'], ['5', '4', 'child'], ['6', '4', 'child'], ['7', '4', 'child'], ['8', '4', 'child'], ['9', '2', 'child'], ['10', '0', 'child'], ['11', '12', 'parent'], ['12', '11', 'child'], ['19', '20', 'parent'], ['19', '21', 'parent'], ['20', '19', 'child'], ['21', '19', 'child']]\n"
          ],
          "name": "stdout"
        }
      ]
    },
    {
      "cell_type": "code",
      "metadata": {
        "id": "_FwWclhSu0Ip"
      },
      "source": [
        "#Using for searching real node size\n",
        "num_obj_dict = {}\n",
        "for l in new_train_list_dict:\n",
        "    num_obj_dict[l] = len(new_train_list_dict[l]['objects'])\n",
        "for l in new_eval_list_dict:\n",
        "    num_obj_dict[l] = len(new_eval_list_dict[l]['objects'])"
      ],
      "execution_count": null,
      "outputs": []
    },
    {
      "cell_type": "code",
      "metadata": {
        "colab": {
          "base_uri": "https://localhost:8080/"
        },
        "id": "vUc-r08pvQhu",
        "outputId": "f73bb801-5fed-4bcc-c37a-8340e890bb97"
      },
      "source": [
        "print(num_obj_dict)"
      ],
      "execution_count": null,
      "outputs": [
        {
          "output_type": "stream",
          "text": [
            "{'91391310': 41, '92039708_9710': 23, '0060214859': 38, '01073843': 104, '87533049': 45, '92586242': 33, '0060068489': 50, '93380187': 70, '0060036622': 35, '91914407': 30, '71601299': 37, '12052385': 20, '0030031163': 26, '0000999294': 181, '91939637': 41, '71341634': 104, '91355841': 34, '00851879': 28, '00836244': 93, '93351929_93351931': 48, '00836816': 30, '80718412_8413': 26, '80728670': 36, '91315069_91315070': 26, '0011838621': 62, '88057519': 17, '82254638': 65, '00851772_1780': 33, '00040534': 81, '0060024314': 39, '0013255595': 17, '0060165115': 36, '0060136394': 27, '0011859695': 29, '0001477983': 65, '00922237': 35, '0001456787': 74, '91104867': 56, '13149651': 75, '0011505151': 40, '81749056_9057': 77, '0000990274': 31, '0011976929': 24, '71108371': 82, '11508234': 111, '81186212': 11, '0060077689': 66, '92433599_92433601': 39, '0001118259': 31, '00838511_00838525': 18, '0000971160': 24, '01150773_01150774': 33, '0071032807': 18, '00070353': 24, '0030041455': 13, '00093726': 92, '89817999_8002': 29, '0011973451': 49, '0001463448': 42, '92094746': 68, '01408099_01408101': 52, '93329540': 42, '00837285': 79, '92094751': 71, '92314414': 31, '0001485288': 30, '71202511': 79, '89368010': 41, '0012199830': 27, '92091873': 71, '11875011': 30, '92657311_7313': 31, '91974562': 40, '0060007216': 31, '0012529295': 88, '0060080406': 59, '0060000813': 48, '88547278_88547279': 40, '91361993': 40, '0011856542': 18, '91356315': 35, '92081358_1359': 54, '0001476912': 52, '93213298': 67, '0001463282': 101, '01191071_1072': 24, '0012529284': 71, '0060025670': 14, '87682908': 31, '81574683': 105, '00920222': 44, '00860012_00860014': 63, '12603270': 78, '00920294': 50, '0071032790': 26, '01197604': 30, '91372360': 33, '91161344_91161347': 148, '0060262650': 81, '87672097': 82, '0060308461': 61, '71366499': 34, '0011906503': 86, '0060308251': 19, '0060091229': 17, '92298125': 20, '0000989556': 100, '0012947358': 83, '71190280': 38, '71206427': 31, '0001123541': 40, '89386032': 18, '0001209043': 72, '660978': 30, '81619486_9488': 62, '91856041_6049': 32, '80707440_7443': 27, '0012602424': 88, '0060270727': 85, '92657391': 37, '0060302201': 34, '0001129658': 42, '0001239897': 49, '0012178355': 62, '0060207528': 44, '00865872': 40, '716552': 68, '81619511_9513': 82, '71563825': 54, '0060029036': 48, '91391286': 44, '0011845203': 53, '80310840a': 65, '0011899960': 30, '91903177': 38, '01122115': 95, '00283813': 76, '89867723': 58, '0060255888': 33, '92327794': 19, '0001438955': 74, '0011974919': 42, '81310636': 28, '93455715': 37, '0060094595': 59, '0060173256': 38, '00866042': 65, '91581919': 42, '12825369': 43, '82253058_3059': 43, '83594639': 21, '83635935': 17, '82253362_3364': 105, '87332450': 48, '83996357': 43, '93106788': 47, '82200067_0069': 64, '83624198': 36, '87594142_87594144': 71, '82252956_2958': 42, '87528380': 108, '83772145': 37, '87125460': 27, '83443897': 33, '83823750': 34, '82491256': 19, '87137840': 38, '82562350': 36, '83641919_1921': 103, '86236474_6476': 23, '92380595': 83, '83553333_3334': 51, '86328049_8050': 84, '87528321': 90, '85629964': 38, '86244113': 24, '82253245_3247': 70, '86263525': 29, '87147607': 43, '86079776_9777': 42, '91814768_91814769': 75, '89856243': 54, '82504862': 18, '86075409_5410': 57, '87086073': 28, '82251504': 42, '82837252': 24, '82092117': 28, '82254765': 47, '86220490': 25, '83573282': 55, '85540866': 13, '86230203_0206': 76, '87428306': 36, '85240939': 25, '82250337_0338': 36, '85201976': 24, '82573104': 17, '87093315_87093318': 103}\n"
          ],
          "name": "stdout"
        }
      ]
    },
    {
      "cell_type": "code",
      "metadata": {
        "id": "k7TKyvIo0WgS"
      },
      "source": [
        "# only rename\n",
        "list_dict_train={}\n",
        "for l in new_train_list_dict:\n",
        "    list_dict_train[l] = new_train_list_dict[l]\n",
        "list_dict_test = {}\n",
        "for l in new_eval_list_dict:\n",
        "    list_dict_test[l] = new_eval_list_dict[l]"
      ],
      "execution_count": null,
      "outputs": []
    },
    {
      "cell_type": "markdown",
      "metadata": {
        "id": "LgahG2e8pAGx"
      },
      "source": [
        "## Training and validation dataframe generation"
      ]
    },
    {
      "cell_type": "code",
      "metadata": {
        "id": "tyZaDNCsAH_2"
      },
      "source": [
        "#generate the training and labeling information for each image\n",
        "#this information can be used to transfer object id to corresponding visual, text density or other kinds of features.\n",
        "density_list_train = []\n",
        "label_list_train = []\n",
        "img_list_train = []\n",
        "label_dict_train = {}\n",
        "for l in train_list_dict:\n",
        "  label_dict_train[l] = []\n",
        "  for obj in train_list_dict[l]['objects']:\n",
        "    density_list_train.append(obj)\n",
        "    label_list_train.append(train_list_dict[l]['objects'][obj]['category'])\n",
        "    img_list_train.append(l)\n",
        "    label_dict_train[l].append(train_list_dict[l]['objects'][obj]['category'])\n",
        "  #padding\n",
        "  for obj in range(num_obj_dict[l],181):\n",
        "    density_list_train.append(str(obj))\n",
        "    label_list_train.append(str(-1))\n",
        "    img_list_train.append(l)\n",
        "    label_dict_train[l].append(str(-1))"
      ],
      "execution_count": null,
      "outputs": []
    },
    {
      "cell_type": "code",
      "metadata": {
        "id": "j3JfDgcmBQ0V"
      },
      "source": [
        "# generating evalutaion labeling informaiton dictionary\n",
        "density_list_eval = []\n",
        "label_list_eval = []\n",
        "label_dict_eval = {}\n",
        "img_list_eval = []\n",
        "for l in eval_list_dict:\n",
        "  label_dict_eval[l] = []\n",
        "  for obj in eval_list_dict[l]['objects']:\n",
        "    density_list_eval.append(obj)\n",
        "    label_list_eval.append(eval_list_dict[l]['objects'][obj]['category'])\n",
        "    img_list_eval.append(l)\n",
        "    label_dict_eval[l].append(eval_list_dict[l]['objects'][obj]['category'])\n",
        "  for obj in range(num_obj_dict[l],181):\n",
        "    density_list_eval.append(str(obj))\n",
        "    label_list_eval.append(str(-1))\n",
        "    img_list_eval.append(l)\n",
        "    label_dict_eval[l].append(str(-1))"
      ],
      "execution_count": null,
      "outputs": []
    },
    {
      "cell_type": "code",
      "metadata": {
        "colab": {
          "base_uri": "https://localhost:8080/"
        },
        "id": "rrB7k99MOqGI",
        "outputId": "e0529dbf-d8f7-4270-a4da-63b9fffd2403"
      },
      "source": [
        "print(len(bert_list_train))"
      ],
      "execution_count": null,
      "outputs": [
        {
          "output_type": "stream",
          "text": [
            "7411\n"
          ],
          "name": "stdout"
        }
      ]
    },
    {
      "cell_type": "code",
      "metadata": {
        "id": "TlGkeE5VAxKg"
      },
      "source": [
        "from pandas import DataFrame\n",
        "df_train = DataFrame(density_list_train,columns=['density'])\n",
        "df_train['label'] = label_list_train\n",
        "df_train['image'] = img_list_train\n",
        "df_eval = DataFrame(density_list_eval,columns=['density'])\n",
        "df_eval['label'] = label_list_eval\n",
        "df_eval['image'] = img_list_eval"
      ],
      "execution_count": null,
      "outputs": []
    },
    {
      "cell_type": "code",
      "metadata": {
        "id": "0ZsL5tzQQ3CH"
      },
      "source": [
        "label_list_train = df_train['label'].fillna('other').tolist()\n",
        "label_list_eval = df_eval['label'].fillna('other').tolist()"
      ],
      "execution_count": null,
      "outputs": []
    },
    {
      "cell_type": "code",
      "metadata": {
        "colab": {
          "base_uri": "https://localhost:8080/"
        },
        "id": "7dReQWB4Q7qb",
        "outputId": "97a93935-3b34-41d2-a176-260cc75f3043"
      },
      "source": [
        "print(len(label_list_train)/181)"
      ],
      "execution_count": null,
      "outputs": [
        {
          "output_type": "stream",
          "text": [
            "149.0\n"
          ],
          "name": "stdout"
        }
      ]
    },
    {
      "cell_type": "code",
      "metadata": {
        "id": "E6ZNavS5Rgkn"
      },
      "source": [
        "df_train_clean = df_train[df_train['label'].notnull()][['density','label','image']]\n",
        "df_eval_clean = df_eval[df_eval['label'].notnull()][['density','label','image']] "
      ],
      "execution_count": null,
      "outputs": []
    },
    {
      "cell_type": "code",
      "metadata": {
        "id": "0Vx0NRPZSQO9",
        "colab": {
          "base_uri": "https://localhost:8080/",
          "height": 669
        },
        "outputId": "ffde4fa2-367c-4bf0-efb0-5930048f23f7"
      },
      "source": [
        "df_train_clean.head(20)"
      ],
      "execution_count": null,
      "outputs": [
        {
          "output_type": "execute_result",
          "data": {
            "text/html": [
              "<div>\n",
              "<style scoped>\n",
              "    .dataframe tbody tr th:only-of-type {\n",
              "        vertical-align: middle;\n",
              "    }\n",
              "\n",
              "    .dataframe tbody tr th {\n",
              "        vertical-align: top;\n",
              "    }\n",
              "\n",
              "    .dataframe thead th {\n",
              "        text-align: right;\n",
              "    }\n",
              "</style>\n",
              "<table border=\"1\" class=\"dataframe\">\n",
              "  <thead>\n",
              "    <tr style=\"text-align: right;\">\n",
              "      <th></th>\n",
              "      <th>density</th>\n",
              "      <th>label</th>\n",
              "      <th>image</th>\n",
              "    </tr>\n",
              "  </thead>\n",
              "  <tbody>\n",
              "    <tr>\n",
              "      <th>0</th>\n",
              "      <td>0</td>\n",
              "      <td>question</td>\n",
              "      <td>91391310</td>\n",
              "    </tr>\n",
              "    <tr>\n",
              "      <th>1</th>\n",
              "      <td>1</td>\n",
              "      <td>question</td>\n",
              "      <td>91391310</td>\n",
              "    </tr>\n",
              "    <tr>\n",
              "      <th>2</th>\n",
              "      <td>2</td>\n",
              "      <td>question</td>\n",
              "      <td>91391310</td>\n",
              "    </tr>\n",
              "    <tr>\n",
              "      <th>3</th>\n",
              "      <td>3</td>\n",
              "      <td>question</td>\n",
              "      <td>91391310</td>\n",
              "    </tr>\n",
              "    <tr>\n",
              "      <th>4</th>\n",
              "      <td>4</td>\n",
              "      <td>question</td>\n",
              "      <td>91391310</td>\n",
              "    </tr>\n",
              "    <tr>\n",
              "      <th>5</th>\n",
              "      <td>5</td>\n",
              "      <td>question</td>\n",
              "      <td>91391310</td>\n",
              "    </tr>\n",
              "    <tr>\n",
              "      <th>6</th>\n",
              "      <td>6</td>\n",
              "      <td>answer</td>\n",
              "      <td>91391310</td>\n",
              "    </tr>\n",
              "    <tr>\n",
              "      <th>7</th>\n",
              "      <td>7</td>\n",
              "      <td>answer</td>\n",
              "      <td>91391310</td>\n",
              "    </tr>\n",
              "    <tr>\n",
              "      <th>8</th>\n",
              "      <td>8</td>\n",
              "      <td>answer</td>\n",
              "      <td>91391310</td>\n",
              "    </tr>\n",
              "    <tr>\n",
              "      <th>9</th>\n",
              "      <td>9</td>\n",
              "      <td>answer</td>\n",
              "      <td>91391310</td>\n",
              "    </tr>\n",
              "    <tr>\n",
              "      <th>10</th>\n",
              "      <td>10</td>\n",
              "      <td>answer</td>\n",
              "      <td>91391310</td>\n",
              "    </tr>\n",
              "    <tr>\n",
              "      <th>11</th>\n",
              "      <td>11</td>\n",
              "      <td>answer</td>\n",
              "      <td>91391310</td>\n",
              "    </tr>\n",
              "    <tr>\n",
              "      <th>12</th>\n",
              "      <td>12</td>\n",
              "      <td>answer</td>\n",
              "      <td>91391310</td>\n",
              "    </tr>\n",
              "    <tr>\n",
              "      <th>13</th>\n",
              "      <td>13</td>\n",
              "      <td>answer</td>\n",
              "      <td>91391310</td>\n",
              "    </tr>\n",
              "    <tr>\n",
              "      <th>14</th>\n",
              "      <td>14</td>\n",
              "      <td>answer</td>\n",
              "      <td>91391310</td>\n",
              "    </tr>\n",
              "    <tr>\n",
              "      <th>15</th>\n",
              "      <td>15</td>\n",
              "      <td>answer</td>\n",
              "      <td>91391310</td>\n",
              "    </tr>\n",
              "    <tr>\n",
              "      <th>16</th>\n",
              "      <td>16</td>\n",
              "      <td>answer</td>\n",
              "      <td>91391310</td>\n",
              "    </tr>\n",
              "    <tr>\n",
              "      <th>17</th>\n",
              "      <td>17</td>\n",
              "      <td>answer</td>\n",
              "      <td>91391310</td>\n",
              "    </tr>\n",
              "    <tr>\n",
              "      <th>18</th>\n",
              "      <td>18</td>\n",
              "      <td>other</td>\n",
              "      <td>91391310</td>\n",
              "    </tr>\n",
              "    <tr>\n",
              "      <th>19</th>\n",
              "      <td>19</td>\n",
              "      <td>answer</td>\n",
              "      <td>91391310</td>\n",
              "    </tr>\n",
              "  </tbody>\n",
              "</table>\n",
              "</div>"
            ],
            "text/plain": [
              "   density     label     image\n",
              "0        0  question  91391310\n",
              "1        1  question  91391310\n",
              "2        2  question  91391310\n",
              "3        3  question  91391310\n",
              "4        4  question  91391310\n",
              "5        5  question  91391310\n",
              "6        6    answer  91391310\n",
              "7        7    answer  91391310\n",
              "8        8    answer  91391310\n",
              "9        9    answer  91391310\n",
              "10      10    answer  91391310\n",
              "11      11    answer  91391310\n",
              "12      12    answer  91391310\n",
              "13      13    answer  91391310\n",
              "14      14    answer  91391310\n",
              "15      15    answer  91391310\n",
              "16      16    answer  91391310\n",
              "17      17    answer  91391310\n",
              "18      18     other  91391310\n",
              "19      19    answer  91391310"
            ]
          },
          "metadata": {
            "tags": []
          },
          "execution_count": 29
        }
      ]
    },
    {
      "cell_type": "code",
      "metadata": {
        "colab": {
          "base_uri": "https://localhost:8080/"
        },
        "id": "Yh6B7x9NP_8_",
        "outputId": "d6b6e18e-512a-4839-f679-f262ad956c32"
      },
      "source": [
        "print(list_dict_train)"
      ],
      "execution_count": null,
      "outputs": [
        {
          "output_type": "stream",
          "text": [
            "{'91391310': {'objects': ['0', '1', '2', '3', '4', '5', '6', '7', '8', '9', '10', '11', '12', '13', '14', '15', '16', '17', '18', '19', '20', '21', '22', '23', '24', '25', '26', '27', '28', '29', '30', '31', '32', '33', '34', '35', '36', '37', '38', '39', '40'], 'relationships': [['0', '6', 'parent'], ['1', '21', 'parent'], ['2', '22', 'parent'], ['3', '7', 'parent'], ['5', '29', 'parent'], ['6', '0', 'child'], ['7', '3', 'child'], ['8', '26', 'child'], ['9', '27', 'child'], ['10', '28', 'child'], ['11', '30', 'child'], ['12', '31', 'child'], ['13', '32', 'child'], ['14', '35', 'child'], ['15', '38', 'child'], ['16', '39', 'child'], ['17', '40', 'child'], ['19', '34', 'child'], ['21', '1', 'child'], ['22', '2', 'child'], ['24', '25', 'parent'], ['25', '24', 'child'], ['26', '8', 'parent'], ['27', '9', 'parent'], ['28', '10', 'parent'], ['29', '5', 'child'], ['30', '11', 'parent'], ['31', '12', 'parent'], ['32', '13', 'parent'], ['34', '19', 'parent'], ['35', '14', 'parent'], ['36', '37', 'parent'], ['36', '38', 'parent'], ['36', '39', 'parent'], ['36', '40', 'parent'], ['37', '36', 'child'], ['38', '36', 'child'], ['38', '15', 'parent'], ['39', '36', 'child'], ['39', '16', 'parent'], ['40', '36', 'child'], ['40', '17', 'parent']]}, '92039708_9710': {'objects': ['0', '1', '2', '3', '4', '5', '6', '7', '8', '9', '10', '11', '12', '13', '14', '15', '16', '17', '18', '19', '20', '21', '22'], 'relationships': [['0', '10', 'parent'], ['2', '9', 'parent'], ['4', '5', 'parent'], ['4', '6', 'parent'], ['4', '7', 'parent'], ['4', '8', 'parent'], ['5', '4', 'child'], ['6', '4', 'child'], ['7', '4', 'child'], ['8', '4', 'child'], ['9', '2', 'child'], ['10', '0', 'child'], ['11', '12', 'parent'], ['12', '11', 'child'], ['19', '20', 'parent'], ['19', '21', 'parent'], ['20', '19', 'child'], ['21', '19', 'child']]}, '0060214859': {'objects': ['0', '1', '2', '3', '4', '5', '6', '7', '8', '9', '10', '11', '12', '13', '14', '15', '16', '17', '18', '19', '20', '21', '22', '23', '24', '25', '26', '27', '28', '29', '30', '31', '32', '33', '34', '35', '36', '37'], 'relationships': [['0', '1', 'parent'], ['1', '0', 'child'], ['3', '4', 'child'], ['4', '3', 'parent'], ['5', '18', 'parent'], ['6', '19', 'parent'], ['8', '30', 'parent'], ['8', '31', 'parent'], ['8', '32', 'parent'], ['8', '33', 'parent'], ['8', '34', 'parent'], ['8', '35', 'parent'], ['8', '36', 'parent'], ['9', '10', 'child'], ['10', '9', 'parent'], ['11', '12', 'child'], ['12', '11', 'parent'], ['13', '14', 'parent'], ['14', '13', 'child'], ['16', '17', 'parent'], ['17', '16', 'child'], ['18', '5', 'child'], ['19', '6', 'child'], ['20', '21', 'child'], ['21', '20', 'parent'], ['22', '23', 'parent'], ['23', '22', 'child'], ['24', '25', 'child'], ['25', '24', 'parent'], ['26', '27', 'parent'], ['26', '28', 'parent'], ['27', '26', 'child'], ['28', '26', 'child'], ['30', '8', 'child'], ['31', '8', 'child'], ['32', '8', 'child'], ['33', '8', 'child'], ['34', '8', 'child'], ['35', '8', 'child'], ['36', '8', 'child']]}, '01073843': {'objects': ['0', '1', '2', '3', '4', '5', '6', '7', '8', '9', '10', '11', '12', '13', '14', '15', '16', '17', '18', '19', '20', '21', '22', '23', '24', '25', '26', '27', '28', '29', '30', '31', '32', '33', '34', '35', '36', '37', '38', '39', '40', '41', '42', '43', '44', '45', '46', '47', '48', '49', '50', '51', '52', '53', '54', '55', '56', '57', '58', '59', '60', '61', '62', '63', '64', '65', '66', '67', '68', '69', '70', '71', '72', '73', '74', '75', '76', '77', '78', '79', '80', '81', '82', '83', '84', '85', '86', '87', '88', '89', '90', '91', '92', '93', '94', '95', '96', '97', '98', '99', '100', '101', '102', '103'], 'relationships': [['0', '71', 'parent'], ['1', '72', 'parent'], ['2', '76', 'parent'], ['3', '78', 'parent'], ['3', '79', 'parent'], ['4', '80', 'child'], ['5', '80', 'child'], ['6', '80', 'child'], ['7', '8', 'parent'], ['7', '82', 'parent'], ['7', '83', 'parent'], ['8', '7', 'child'], ['8', '22', 'parent'], ['9', '17', 'parent'], ['10', '85', 'parent'], ['10', '86', 'parent'], ['11', '87', 'parent'], ['11', '88', 'parent'], ['12', '89', 'parent'], ['12', '90', 'parent'], ['13', '37', 'parent'], ['13', '38', 'parent'], ['14', '98', 'parent'], ['15', '74', 'child'], ['16', '73', 'child'], ['17', '9', 'child'], ['18', '77', 'child'], ['19', '21', 'child'], ['20', '75', 'child'], ['21', '19', 'parent'], ['22', '8', 'child'], ['23', '81', 'child'], ['24', '94', 'child'], ['25', '94', 'child'], ['26', '94', 'child'], ['27', '85', 'child'], ['27', '93', 'child'], ['28', '86', 'child'], ['28', '93', 'child'], ['29', '95', 'child'], ['30', '95', 'child'], ['31', '95', 'child'], ['32', '95', 'child'], ['33', '95', 'child'], ['34', '87', 'child'], ['34', '93', 'child'], ['35', '97', 'child'], ['36', '97', 'child'], ['37', '13', 'child'], ['38', '13', 'child'], ['39', '85', 'child'], ['40', '85', 'child'], ['41', '85', 'child'], ['42', '85', 'child'], ['43', '86', 'child'], ['44', '86', 'child'], ['45', '86', 'child'], ['46', '86', 'child'], ['47', '87', 'child'], ['48', '87', 'child'], ['49', '87', 'child'], ['50', '87', 'child'], ['51', '88', 'child'], ['52', '88', 'child'], ['53', '88', 'child'], ['54', '88', 'child'], ['55', '89', 'child'], ['56', '89', 'child'], ['57', '90', 'child'], ['58', '90', 'child'], ['59', '95', 'child'], ['60', '95', 'child'], ['61', '95', 'child'], ['62', '95', 'child'], ['63', '95', 'child'], ['64', '95', 'child'], ['65', '95', 'child'], ['67', '88', 'child'], ['67', '93', 'child'], ['68', '90', 'child'], ['68', '93', 'child'], ['69', '89', 'child'], ['69', '93', 'child'], ['71', '0', 'child'], ['72', '1', 'child'], ['73', '16', 'parent'], ['74', '15', 'parent'], ['75', '20', 'parent'], ['76', '2', 'child'], ['77', '18', 'parent'], ['78', '3', 'child'], ['79', '3', 'child'], ['80', '4', 'parent'], ['80', '5', 'parent'], ['80', '6', 'parent'], ['81', '23', 'parent'], ['82', '7', 'child'], ['83', '7', 'child'], ['85', '10', 'child'], ['85', '27', 'parent'], ['85', '39', 'parent'], ['85', '40', 'parent'], ['85', '41', 'parent'], ['85', '42', 'parent'], ['86', '10', 'child'], ['86', '28', 'parent'], ['86', '43', 'parent'], ['86', '44', 'parent'], ['86', '45', 'parent'], ['86', '46', 'parent'], ['87', '11', 'child'], ['87', '34', 'parent'], ['87', '47', 'parent'], ['87', '48', 'parent'], ['87', '49', 'parent'], ['87', '50', 'parent'], ['88', '11', 'child'], ['88', '67', 'parent'], ['88', '51', 'parent'], ['88', '52', 'parent'], ['88', '53', 'parent'], ['88', '54', 'parent'], ['89', '12', 'child'], ['89', '69', 'parent'], ['89', '55', 'parent'], ['89', '56', 'parent'], ['90', '12', 'child'], ['90', '68', 'parent'], ['90', '57', 'parent'], ['90', '58', 'parent'], ['93', '27', 'parent'], ['93', '28', 'parent'], ['93', '34', 'parent'], ['93', '67', 'parent'], ['93', '69', 'parent'], ['93', '68', 'parent'], ['94', '24', 'parent'], ['94', '25', 'parent'], ['94', '26', 'parent'], ['95', '30', 'parent'], ['95', '29', 'parent'], ['95', '31', 'parent'], ['95', '33', 'parent'], ['95', '32', 'parent'], ['95', '61', 'parent'], ['95', '59', 'parent'], ['95', '60', 'parent'], ['95', '62', 'parent'], ['95', '63', 'parent'], ['95', '64', 'parent'], ['95', '65', 'parent'], ['97', '35', 'parent'], ['97', '36', 'parent'], ['98', '14', 'child'], ['99', '100', 'parent'], ['99', '101', 'parent'], ['100', '99', 'child'], ['101', '99', 'child']]}, '87533049': {'objects': ['0', '1', '2', '3', '4', '5', '6', '7', '8', '9', '10', '11', '12', '13', '14', '15', '16', '17', '18', '19', '20', '21', '22', '23', '24', '25', '26', '27', '28', '29', '30', '31', '32', '33', '34', '35', '36', '37', '38', '39', '40', '41', '42', '43', '44'], 'relationships': [['0', '16', 'parent'], ['1', '17', 'parent'], ['2', '18', 'parent'], ['3', '19', 'child'], ['4', '21', 'child'], ['5', '22', 'child'], ['6', '23', 'child'], ['7', '28', 'child'], ['8', '29', 'child'], ['9', '31', 'child'], ['10', '40', 'parent'], ['11', '40', 'parent'], ['13', '42', 'child'], ['14', '43', 'child'], ['16', '0', 'child'], ['17', '1', 'child'], ['18', '2', 'child'], ['19', '3', 'parent'], ['20', '34', 'parent'], ['21', '4', 'parent'], ['22', '5', 'parent'], ['23', '6', 'parent'], ['24', '35', 'parent'], ['25', '36', 'parent'], ['26', '37', 'parent'], ['27', '38', 'parent'], ['28', '7', 'parent'], ['29', '8', 'parent'], ['30', '39', 'parent'], ['31', '9', 'parent'], ['32', '33', 'parent'], ['33', '32', 'child'], ['34', '20', 'child'], ['35', '24', 'child'], ['36', '25', 'child'], ['37', '26', 'child'], ['38', '27', 'child'], ['39', '30', 'child'], ['40', '10', 'child'], ['40', '11', 'child'], ['41', '42', 'parent'], ['41', '43', 'parent'], ['42', '41', 'child'], ['42', '13', 'parent'], ['43', '41', 'child'], ['43', '14', 'parent']]}, '92586242': {'objects': ['0', '1', '2', '3', '4', '5', '6', '7', '8', '9', '10', '11', '12', '13', '14', '15', '16', '17', '18', '19', '20', '21', '22', '23', '24', '25', '26', '27', '28', '29', '30', '31', '32'], 'relationships': [['0', '16', 'parent'], ['0', '17', 'parent'], ['1', '20', 'parent'], ['1', '21', 'parent'], ['1', '22', 'parent'], ['1', '23', 'parent'], ['1', '24', 'parent'], ['1', '25', 'parent'], ['3', '22', 'child'], ['4', '20', 'child'], ['9', '10', 'parent'], ['9', '11', 'parent'], ['9', '12', 'parent'], ['10', '9', 'child'], ['10', '13', 'parent'], ['11', '9', 'child'], ['11', '14', 'parent'], ['12', '9', 'child'], ['12', '15', 'parent'], ['13', '10', 'child'], ['14', '11', 'child'], ['15', '12', 'child'], ['16', '0', 'child'], ['17', '0', 'child'], ['17', '18', 'parent'], ['18', '17', 'child'], ['20', '1', 'child'], ['20', '4', 'parent'], ['21', '1', 'child'], ['22', '1', 'child'], ['22', '3', 'parent'], ['23', '1', 'child'], ['24', '1', 'child'], ['25', '1', 'child'], ['26', '27', 'parent'], ['26', '29', 'parent'], ['26', '31', 'parent'], ['27', '26', 'child'], ['27', '28', 'parent'], ['28', '27', 'child'], ['29', '26', 'child'], ['29', '30', 'parent'], ['30', '29', 'child'], ['31', '26', 'child'], ['31', '32', 'parent'], ['32', '31', 'child']]}, '0060068489': {'objects': ['0', '1', '2', '3', '4', '5', '6', '7', '8', '9', '10', '11', '12', '13', '14', '15', '16', '17', '18', '19', '20', '21', '22', '23', '24', '25', '26', '27', '28', '29', '30', '31', '32', '33', '34', '35', '36', '37', '38', '39', '40', '41', '42', '43', '44', '45', '46', '47', '48', '49'], 'relationships': [['0', '3', 'parent'], ['1', '30', 'parent'], ['2', '4', 'parent'], ['3', '0', 'child'], ['4', '2', 'child'], ['5', '29', 'parent'], ['6', '31', 'parent'], ['8', '32', 'child'], ['9', '32', 'child'], ['10', '32', 'child'], ['14', '44', 'child'], ['15', '36', 'parent'], ['16', '17', 'parent'], ['16', '18', 'parent'], ['16', '19', 'parent'], ['16', '20', 'parent'], ['16', '21', 'parent'], ['16', '22', 'parent'], ['16', '23', 'parent'], ['16', '40', 'parent'], ['16', '41', 'parent'], ['17', '16', 'child'], ['18', '16', 'child'], ['19', '16', 'child'], ['20', '16', 'child'], ['21', '16', 'child'], ['22', '16', 'child'], ['23', '16', 'child'], ['24', '37', 'parent'], ['24', '38', 'parent'], ['24', '39', 'parent'], ['29', '5', 'child'], ['30', '1', 'child'], ['31', '6', 'child'], ['32', '8', 'parent'], ['32', '9', 'parent'], ['32', '10', 'parent'], ['35', '49', 'child'], ['36', '15', 'child'], ['37', '24', 'child'], ['38', '24', 'child'], ['39', '24', 'child'], ['40', '43', 'parent'], ['40', '16', 'child'], ['41', '42', 'parent'], ['41', '16', 'child'], ['42', '41', 'child'], ['43', '40', 'child'], ['44', '14', 'parent'], ['49', '35', 'parent']]}, '93380187': {'objects': ['0', '1', '2', '3', '4', '5', '6', '7', '8', '9', '10', '11', '12', '13', '14', '15', '16', '17', '18', '19', '20', '21', '22', '23', '24', '25', '26', '27', '28', '29', '30', '31', '32', '33', '34', '35', '36', '37', '38', '39', '40', '41', '42', '43', '44', '45', '46', '47', '48', '49', '50', '51', '52', '53', '54', '55', '56', '57', '58', '59', '60', '61', '62', '63', '64', '65', '66', '67', '68', '69'], 'relationships': [['1', '24', 'parent'], ['2', '25', 'parent'], ['3', '26', 'parent'], ['3', '27', 'parent'], ['3', '28', 'parent'], ['3', '29', 'parent'], ['4', '30', 'child'], ['5', '37', 'child'], ['6', '45', 'child'], ['7', '45', 'child'], ['8', '45', 'child'], ['9', '45', 'child'], ['10', '45', 'child'], ['11', '45', 'child'], ['12', '45', 'child'], ['13', '45', 'child'], ['14', '45', 'child'], ['16', '45', 'child'], ['17', '45', 'child'], ['18', '55', 'child'], ['19', '56', 'child'], ['24', '1', 'child'], ['25', '2', 'child'], ['26', '3', 'child'], ['27', '3', 'child'], ['28', '3', 'child'], ['29', '3', 'child'], ['30', '4', 'parent'], ['31', '46', 'parent'], ['35', '47', 'parent'], ['36', '48', 'parent'], ['37', '5', 'parent'], ['38', '49', 'parent'], ['39', '50', 'parent'], ['40', '51', 'parent'], ['42', '52', 'parent'], ['43', '53', 'parent'], ['45', '59', 'parent'], ['45', '62', 'parent'], ['45', '61', 'parent'], ['45', '11', 'parent'], ['45', '63', 'parent'], ['45', '12', 'parent'], ['45', '13', 'parent'], ['45', '64', 'parent'], ['45', '65', 'parent'], ['45', '14', 'parent'], ['45', '17', 'parent'], ['45', '60', 'parent'], ['45', '6', 'parent'], ['45', '7', 'parent'], ['45', '8', 'parent'], ['45', '9', 'parent'], ['45', '10', 'parent'], ['45', '69', 'parent'], ['45', '68', 'parent'], ['45', '67', 'parent'], ['45', '16', 'parent'], ['45', '66', 'parent'], ['46', '31', 'child'], ['47', '35', 'child'], ['48', '36', 'child'], ['49', '38', 'child'], ['50', '39', 'child'], ['51', '40', 'child'], ['52', '42', 'child'], ['53', '43', 'child'], ['54', '55', 'parent'], ['54', '56', 'parent'], ['54', '57', 'parent'], ['55', '54', 'child'], ['55', '18', 'parent'], ['56', '54', 'child'], ['56', '19', 'parent'], ['57', '54', 'child'], ['57', '58', 'parent'], ['58', '57', 'child'], ['59', '45', 'child'], ['60', '45', 'child'], ['61', '45', 'child'], ['62', '45', 'child'], ['63', '45', 'child'], ['64', '45', 'child'], ['65', '45', 'child'], ['66', '45', 'child'], ['67', '45', 'child'], ['68', '45', 'child'], ['69', '45', 'child']]}, '0060036622': {'objects': ['0', '1', '2', '3', '4', '5', '6', '7', '8', '9', '10', '11', '12', '13', '14', '15', '16', '17', '18', '19', '20', '21', '22', '23', '24', '25', '26', '27', '28', '29', '30', '31', '32', '33', '34'], 'relationships': [['0', '9', 'parent'], ['0', '12', 'parent'], ['0', '13', 'parent'], ['0', '10', 'parent'], ['0', '11', 'parent'], ['1', '14', 'parent'], ['2', '6', 'parent'], ['3', '17', 'parent'], ['6', '2', 'child'], ['7', '18', 'parent'], ['8', '29', 'child'], ['9', '0', 'child'], ['10', '0', 'child'], ['11', '0', 'child'], ['12', '0', 'child'], ['13', '0', 'child'], ['14', '1', 'child'], ['17', '3', 'child'], ['18', '7', 'child'], ['21', '26', 'child'], ['22', '26', 'child'], ['23', '26', 'child'], ['24', '26', 'child'], ['25', '27', 'parent'], ['26', '21', 'parent'], ['26', '22', 'parent'], ['26', '23', 'parent'], ['26', '24', 'parent'], ['27', '25', 'child'], ['29', '8', 'parent'], ['30', '31', 'parent'], ['31', '30', 'child'], ['33', '34', 'parent'], ['34', '33', 'child']]}, '91914407': {'objects': ['0', '1', '2', '3', '4', '5', '6', '7', '8', '9', '10', '11', '12', '13', '14', '15', '16', '17', '18', '19', '20', '21', '22', '23', '24', '25', '26', '27', '28', '29'], 'relationships': [['4', '17', 'parent'], ['5', '21', 'parent'], ['5', '20', 'child'], ['6', '20', 'child'], ['7', '18', 'child'], ['8', '23', 'child'], ['8', '24', 'parent'], ['9', '23', 'child'], ['9', '27', 'parent'], ['10', '28', 'parent'], ['17', '4', 'child'], ['18', '7', 'parent'], ['20', '5', 'parent'], ['20', '6', 'parent'], ['20', '22', 'parent'], ['21', '5', 'child'], ['22', '20', 'child'], ['23', '8', 'parent'], ['23', '25', 'parent'], ['23', '9', 'parent'], ['24', '8', 'child'], ['25', '23', 'child'], ['25', '26', 'parent'], ['26', '25', 'child'], ['27', '9', 'child'], ['28', '10', 'child']]}, '71601299': {'objects': ['0', '1', '2', '3', '4', '5', '6', '7', '8', '9', '10', '11', '12', '13', '14', '15', '16', '17', '18', '19', '20', '21', '22', '23', '24', '25', '26', '27', '28', '29', '30', '31', '32', '33', '34', '35', '36'], 'relationships': [['0', '7', 'parent'], ['1', '14', 'parent'], ['7', '0', 'child'], ['8', '9', 'child'], ['9', '8', 'parent'], ['10', '11', 'parent'], ['11', '10', 'child'], ['12', '13', 'parent'], ['13', '12', 'child'], ['14', '1', 'child'], ['15', '16', 'child'], ['16', '15', 'parent'], ['17', '18', 'parent'], ['18', '17', 'child'], ['19', '20', 'parent'], ['20', '19', 'child'], ['22', '23', 'parent'], ['23', '22', 'child'], ['24', '25', 'parent'], ['25', '24', 'child'], ['26', '27', 'parent'], ['26', '28', 'parent'], ['27', '26', 'child'], ['28', '26', 'child'], ['29', '30', 'parent'], ['29', '31', 'parent'], ['30', '29', 'child'], ['31', '29', 'child'], ['32', '33', 'parent'], ['32', '34', 'parent'], ['32', '35', 'parent'], ['33', '32', 'child'], ['34', '32', 'child'], ['35', '32', 'child']]}, '12052385': {'objects': ['0', '1', '2', '3', '4', '5', '6', '7', '8', '9', '10', '11', '12', '13', '14', '15', '16', '17', '18', '19'], 'relationships': [['0', '9', 'parent'], ['1', '10', 'parent'], ['2', '12', 'parent'], ['4', '18', 'child'], ['7', '8', None], ['8', '7', None], ['9', '0', 'child'], ['10', '1', 'child'], ['11', '15', 'child'], ['12', '2', 'child'], ['13', '16', 'child'], ['15', '11', 'parent'], ['16', '13', 'parent'], ['18', '4', 'parent']]}, '0030031163': {'objects': ['0', '1', '2', '3', '4', '5', '6', '7', '8', '9', '10', '11', '12', '13', '14', '15', '16', '17', '18', '19', '20', '21', '22', '23', '24', '25'], 'relationships': [['10', '11', 'parent'], ['11', '10', 'child'], ['16', '17', 'parent'], ['17', '16', 'child']]}, '0000999294': {'objects': ['0', '1', '2', '3', '4', '5', '6', '7', '8', '9', '10', '11', '12', '13', '14', '15', '16', '17', '18', '19', '20', '21', '22', '23', '24', '25', '26', '27', '28', '29', '30', '31', '32', '33', '34', '35', '36', '37', '38', '39', '40', '41', '42', '43', '44', '45', '46', '47', '48', '49', '50', '51', '52', '53', '54', '55', '56', '57', '58', '59', '60', '61', '62', '63', '64', '65', '66', '67', '68', '69', '70', '71', '72', '73', '74', '75', '76', '77', '78', '79', '80', '81', '82', '83', '84', '85', '86', '87', '88', '89', '90', '91', '92', '93', '94', '95', '96', '97', '98', '99', '100', '101', '102', '103', '104', '105', '106', '107', '108', '109', '110', '111', '112', '113', '114', '115', '116', '117', '118', '119', '120', '121', '122', '123', '124', '125', '126', '127', '128', '129', '130', '131', '132', '133', '134', '135', '136', '137', '138', '139', '140', '141', '142', '143', '144', '145', '146', '147', '148', '149', '150', '151', '152', '153', '154', '155', '156', '157', '158', '159', '160', '161', '162', '163', '164', '165', '166', '167', '168', '169', '170', '171', '172', '173', '174', '175', '176', '177', '178', '179', '180'], 'relationships': [['0', '146', 'parent'], ['1', '147', 'parent'], ['2', '150', 'parent'], ['3', '4', 'parent'], ['3', '156', 'parent'], ['4', '3', 'child'], ['4', '152', 'child'], ['5', '6', 'parent'], ['5', '155', 'parent'], ['6', '5', 'child'], ['6', '152', 'child'], ['7', '8', 'parent'], ['7', '154', 'parent'], ['8', '7', 'child'], ['8', '152', 'child'], ['9', '153', 'parent'], ['9', '10', 'parent'], ['10', '9', 'child'], ['10', '158', 'child'], ['12', '13', 'parent'], ['12', '14', 'parent'], ['12', '15', 'parent'], ['12', '16', 'parent'], ['12', '17', 'parent'], ['13', '160', 'child'], ['13', '12', 'child'], ['14', '161', 'child'], ['14', '12', 'child'], ['15', '162', 'child'], ['15', '12', 'child'], ['16', '163', 'child'], ['16', '12', 'child'], ['17', '164', 'child'], ['17', '12', 'child'], ['18', '164', 'child'], ['18', '166', 'child'], ['19', '163', 'child'], ['19', '166', 'child'], ['20', '162', 'child'], ['20', '166', 'child'], ['21', '161', 'child'], ['21', '166', 'child'], ['22', '160', 'child'], ['22', '166', 'child'], ['23', '160', 'child'], ['24', '161', 'child'], ['25', '162', 'child'], ['26', '163', 'child'], ['27', '164', 'child'], ['29', '160', 'child'], ['29', '165', 'child'], ['30', '161', 'child'], ['30', '165', 'child'], ['31', '162', 'child'], ['31', '165', 'child'], ['32', '163', 'child'], ['32', '165', 'child'], ['33', '164', 'child'], ['33', '165', 'child'], ['35', '39', 'parent'], ['35', '40', 'parent'], ['36', '41', 'parent'], ['36', '42', None], ['37', '43', 'parent'], ['37', '44', 'parent'], ['38', '47', 'parent'], ['38', '48', 'parent'], ['39', '35', 'child'], ['39', '53', 'parent'], ['39', '54', 'parent'], ['39', '55', 'parent'], ['39', '56', 'parent'], ['39', '57', 'parent'], ['39', '58', 'parent'], ['39', '59', 'parent'], ['40', '35', 'child'], ['40', '52', 'parent'], ['40', '60', 'parent'], ['40', '63', 'parent'], ['40', '64', 'parent'], ['40', '67', 'parent'], ['40', '68', 'parent'], ['40', '69', 'parent'], ['41', '36', 'child'], ['42', '36', None], ['42', '50', 'parent'], ['42', '82', 'parent'], ['42', '83', 'parent'], ['42', '72', 'parent'], ['42', '73', 'parent'], ['42', '74', 'parent'], ['42', '75', 'parent'], ['43', '37', 'child'], ['43', '49', 'parent'], ['43', '81', 'parent'], ['43', '80', 'parent'], ['43', '79', 'parent'], ['43', '78', 'parent'], ['43', '77', 'parent'], ['43', '76', 'parent'], ['44', '37', 'child'], ['44', '84', 'parent'], ['44', '85', 'parent'], ['44', '86', 'parent'], ['44', '87', 'parent'], ['44', '88', 'parent'], ['44', '89', 'parent'], ['44', '90', 'parent'], ['45', '167', 'child'], ['45', '91', 'parent'], ['45', '92', 'parent'], ['45', '93', 'parent'], ['45', '94', 'parent'], ['45', '95', 'parent'], ['45', '96', 'parent'], ['45', '97', 'parent'], ['46', '167', 'child'], ['46', '98', 'parent'], ['46', '99', 'parent'], ['46', '100', 'parent'], ['46', '101', 'parent'], ['46', '102', 'parent'], ['46', '103', 'parent'], ['46', '104', 'parent'], ['47', '38', 'child'], ['47', '105', 'parent'], ['47', '106', 'parent'], ['47', '107', 'parent'], ['47', '108', 'parent'], ['47', '109', 'parent'], ['47', '110', 'parent'], ['47', '111', 'parent'], ['48', '38', 'child'], ['48', '112', 'parent'], ['48', '113', 'parent'], ['48', '114', 'parent'], ['48', '115', 'parent'], ['48', '116', 'parent'], ['48', '117', 'parent'], ['48', '118', 'parent'], ['49', '168', 'child'], ['49', '43', 'child'], ['50', '168', 'child'], ['50', '42', 'child'], ['51', '168', 'child'], ['52', '168', 'child'], ['52', '40', 'child'], ['53', '168', 'child'], ['53', '39', 'child'], ['54', '169', 'child'], ['54', '39', 'child'], ['55', '170', 'child'], ['55', '39', 'child'], ['56', '171', 'child'], ['56', '39', 'child'], ['57', '172', 'child'], ['57', '39', 'child'], ['58', '173', 'child'], ['58', '39', 'child'], ['59', '174', 'child'], ['59', '39', 'child'], ['60', '169', 'child'], ['60', '40', 'child'], ['61', '169', 'child'], ['62', '170', 'child'], ['63', '170', 'child'], ['63', '40', 'child'], ['64', '171', 'child'], ['64', '40', 'child'], ['65', '171', 'child'], ['66', '172', 'child'], ['67', '172', 'child'], ['67', '40', 'child'], ['68', '173', 'child'], ['68', '40', 'child'], ['69', '174', 'child'], ['69', '40', 'child'], ['70', '174', 'child'], ['71', '173', 'child'], ['72', '171', 'child'], ['72', '42', 'child'], ['73', '172', 'child'], ['73', '42', 'child'], ['74', '173', 'child'], ['74', '42', 'child'], ['75', '174', 'child'], ['75', '42', 'child'], ['76', '174', 'child'], ['76', '43', 'child'], ['77', '173', 'child'], ['77', '43', 'child'], ['78', '172', 'child'], ['78', '43', 'child'], ['79', '171', 'child'], ['79', '43', 'child'], ['80', '170', 'child'], ['80', '43', 'child'], ['81', '169', 'child'], ['81', '43', 'child'], ['82', '169', 'child'], ['82', '42', 'child'], ['83', '170', 'child'], ['83', '42', 'child'], ['84', '168', 'child'], ['84', '44', 'child'], ['85', '169', 'child'], ['85', '44', 'child'], ['86', '170', 'child'], ['86', '44', 'child'], ['87', '171', 'child'], ['87', '44', 'child'], ['88', '172', 'child'], ['88', '44', 'child'], ['89', '173', 'child'], ['89', '44', 'child'], ['90', '174', 'child'], ['90', '44', 'child'], ['91', '168', 'child'], ['91', '45', 'child'], ['92', '169', 'child'], ['92', '45', 'child'], ['93', '170', 'child'], ['93', '45', 'child'], ['94', '171', 'child'], ['94', '45', 'child'], ['95', '172', 'child'], ['95', '45', 'child'], ['96', '173', 'child'], ['96', '45', 'child'], ['97', '174', 'child'], ['97', '45', 'child'], ['98', '168', 'child'], ['98', '46', 'child'], ['99', '169', 'child'], ['99', '46', 'child'], ['100', '170', 'child'], ['100', '46', 'child'], ['101', '171', 'child'], ['101', '46', 'child'], ['102', '172', 'child'], ['102', '46', 'child'], ['103', '173', 'child'], ['103', '46', 'child'], ['104', '174', 'child'], ['104', '46', 'child'], ['105', '168', 'child'], ['105', '47', 'child'], ['106', '169', 'child'], ['106', '47', 'child'], ['107', '170', 'child'], ['107', '47', 'child'], ['108', '171', 'child'], ['108', '47', 'child'], ['109', '172', 'child'], ['109', '47', 'child'], ['110', '173', 'child'], ['110', '47', 'child'], ['111', '174', 'child'], ['111', '47', 'child'], ['112', '168', 'child'], ['112', '48', 'child'], ['113', '169', 'child'], ['113', '48', 'child'], ['114', '170', 'child'], ['114', '48', 'child'], ['115', '171', 'child'], ['115', '48', 'child'], ['116', '172', 'child'], ['116', '48', 'child'], ['117', '173', 'child'], ['117', '48', 'child'], ['118', '174', 'child'], ['118', '48', 'child'], ['140', '143', 'child'], ['141', '144', 'child'], ['142', '145', 'child'], ['143', '140', 'parent'], ['144', '141', 'parent'], ['145', '142', 'parent'], ['146', '0', 'child'], ['147', '1', 'child'], ['148', '149', 'child'], ['149', '148', 'parent'], ['150', '2', 'child'], ['152', '4', 'parent'], ['152', '6', 'parent'], ['152', '8', 'parent'], ['152', '153', 'parent'], ['153', '9', 'child'], ['153', '152', 'child'], ['154', '7', 'child'], ['154', '158', 'child'], ['155', '5', 'child'], ['155', '158', 'child'], ['156', '3', 'child'], ['156', '158', 'child'], ['158', '156', 'parent'], ['158', '155', 'parent'], ['158', '154', 'parent'], ['158', '10', 'parent'], ['160', '29', 'parent'], ['160', '13', 'parent'], ['160', '22', 'parent'], ['160', '23', 'parent'], ['161', '30', 'parent'], ['161', '14', 'parent'], ['161', '21', 'parent'], ['161', '24', 'parent'], ['162', '31', 'parent'], ['162', '15', 'parent'], ['162', '20', 'parent'], ['162', '25', 'parent'], ['163', '32', 'parent'], ['163', '16', 'parent'], ['163', '19', 'parent'], ['163', '26', 'parent'], ['164', '33', 'parent'], ['164', '17', 'parent'], ['164', '18', 'parent'], ['164', '27', 'parent'], ['165', '29', 'parent'], ['165', '30', 'parent'], ['165', '31', 'parent'], ['165', '32', 'parent'], ['165', '33', 'parent'], ['166', '22', 'parent'], ['166', '21', 'parent'], ['166', '20', 'parent'], ['166', '19', 'parent'], ['166', '18', 'parent'], ['167', '45', 'parent'], ['167', '46', 'parent'], ['168', '53', 'parent'], ['168', '52', 'parent'], ['168', '51', 'parent'], ['168', '50', 'parent'], ['168', '49', 'parent'], ['168', '84', 'parent'], ['168', '91', 'parent'], ['168', '98', 'parent'], ['168', '105', 'parent'], ['168', '112', 'parent'], ['169', '54', 'parent'], ['169', '60', 'parent'], ['169', '61', 'parent'], ['169', '82', 'parent'], ['169', '81', 'parent'], ['169', '85', 'parent'], ['169', '92', 'parent'], ['169', '99', 'parent'], ['169', '106', 'parent'], ['169', '113', 'parent'], ['170', '55', 'parent'], ['170', '63', 'parent'], ['170', '62', 'parent'], ['170', '83', 'parent'], ['170', '80', 'parent'], ['170', '86', 'parent'], ['170', '93', 'parent'], ['170', '100', 'parent'], ['170', '107', 'parent'], ['170', '114', 'parent'], ['171', '56', 'parent'], ['171', '64', 'parent'], ['171', '65', 'parent'], ['171', '72', 'parent'], ['171', '79', 'parent'], ['171', '87', 'parent'], ['171', '94', 'parent'], ['171', '101', 'parent'], ['171', '108', 'parent'], ['171', '115', 'parent'], ['172', '57', 'parent'], ['172', '67', 'parent'], ['172', '66', 'parent'], ['172', '73', 'parent'], ['172', '78', 'parent'], ['172', '88', 'parent'], ['172', '95', 'parent'], ['172', '102', 'parent'], ['172', '109', 'parent'], ['172', '116', 'parent'], ['173', '58', 'parent'], ['173', '68', 'parent'], ['173', '71', 'parent'], ['173', '74', 'parent'], ['173', '77', 'parent'], ['173', '89', 'parent'], ['173', '96', 'parent'], ['173', '103', 'parent'], ['173', '110', 'parent'], ['173', '117', 'parent'], ['174', '59', 'parent'], ['174', '69', 'parent'], ['174', '70', 'parent'], ['174', '75', 'parent'], ['174', '76', 'parent'], ['174', '90', 'parent'], ['174', '97', 'parent'], ['174', '104', 'parent'], ['174', '111', 'parent'], ['174', '118', 'parent'], ['175', '176', 'parent'], ['176', '175', 'child'], ['177', '179', 'child'], ['178', '180', 'child'], ['179', '177', 'parent'], ['180', '178', 'parent']]}, '91939637': {'objects': ['0', '1', '2', '3', '4', '5', '6', '7', '8', '9', '10', '11', '12', '13', '14', '15', '16', '17', '18', '19', '20', '21', '22', '23', '24', '25', '26', '27', '28', '29', '30', '31', '32', '33', '34', '35', '36', '37', '38', '39', '40'], 'relationships': [['3', '26', 'child'], ['4', '26', 'child'], ['5', '26', 'child'], ['6', '7', 'parent'], ['6', '8', 'parent'], ['7', '6', 'child'], ['8', '6', 'child'], ['9', '19', 'child'], ['10', '35', 'parent'], ['10', '36', 'parent'], ['10', '37', 'parent'], ['11', '32', 'parent'], ['11', '33', 'parent'], ['11', '34', 'parent'], ['13', '38', 'parent'], ['13', '39', 'parent'], ['17', '21', 'parent'], ['18', '22', 'parent'], ['19', '9', 'parent'], ['20', '23', 'parent'], ['21', '17', 'child'], ['22', '18', 'child'], ['23', '20', 'child'], ['26', '3', 'parent'], ['26', '5', 'parent'], ['26', '4', 'parent'], ['32', '11', 'child'], ['33', '11', 'child'], ['34', '11', 'child'], ['35', '10', 'child'], ['36', '10', 'child'], ['37', '10', 'child'], ['38', '13', 'child'], ['39', '13', 'child']]}, '71341634': {'objects': ['0', '1', '2', '3', '4', '5', '6', '7', '8', '9', '10', '11', '12', '13', '14', '15', '16', '17', '18', '19', '20', '21', '22', '23', '24', '25', '26', '27', '28', '29', '30', '31', '32', '33', '34', '35', '36', '37', '38', '39', '40', '41', '42', '43', '44', '45', '46', '47', '48', '49', '50', '51', '52', '53', '54', '55', '56', '57', '58', '59', '60', '61', '62', '63', '64', '65', '66', '67', '68', '69', '70', '71', '72', '73', '74', '75', '76', '77', '78', '79', '80', '81', '82', '83', '84', '85', '86', '87', '88', '89', '90', '91', '92', '93', '94', '95', '96', '97', '98', '99', '100', '101', '102', '103'], 'relationships': [['3', '91', 'child'], ['5', '87', 'parent'], ['6', '88', 'parent'], ['7', '89', 'child'], ['13', '80', 'parent'], ['13', '66', 'parent'], ['14', '21', 'parent'], ['14', '20', 'parent'], ['15', '78', 'parent'], ['15', '64', 'parent'], ['16', '75', 'child'], ['17', '75', 'child'], ['18', '76', 'child'], ['19', '76', 'child'], ['20', '14', 'child'], ['21', '14', 'child'], ['22', '60', 'parent'], ['23', '61', 'child'], ['28', '30', 'parent'], ['29', '55', 'parent'], ['30', '28', 'child'], ['37', '47', 'child'], ['38', '48', 'child'], ['39', '49', 'child'], ['41', '46', 'parent'], ['46', '41', 'child'], ['47', '37', 'parent'], ['48', '38', 'parent'], ['49', '39', 'parent'], ['54', '56', 'child'], ['55', '29', 'child'], ['56', '54', 'parent'], ['57', '58', 'child'], ['58', '57', 'parent'], ['60', '22', 'child'], ['61', '23', 'parent'], ['64', '15', 'child'], ['65', '77', 'child'], ['66', '13', 'child'], ['67', '69', 'child'], ['68', '74', 'child'], ['69', '67', 'parent'], ['70', '71', 'parent'], ['71', '70', 'child'], ['72', '74', 'child'], ['73', '74', 'child'], ['74', '73', 'parent'], ['74', '72', 'parent'], ['74', '68', 'parent'], ['75', '16', 'parent'], ['75', '17', 'parent'], ['76', '18', 'parent'], ['76', '19', 'parent'], ['77', '79', 'parent'], ['77', '65', 'parent'], ['78', '15', 'child'], ['79', '77', 'child'], ['80', '13', 'child'], ['85', '86', 'parent'], ['86', '85', 'child'], ['87', '5', 'child'], ['88', '6', 'child'], ['89', '90', 'parent'], ['89', '7', 'parent'], ['90', '89', 'child'], ['91', '3', 'parent'], ['96', '98', 'parent'], ['98', '96', 'child']]}, '91355841': {'objects': ['0', '1', '2', '3', '4', '5', '6', '7', '8', '9', '10', '11', '12', '13', '14', '15', '16', '17', '18', '19', '20', '21', '22', '23', '24', '25', '26', '27', '28', '29', '30', '31', '32', '33'], 'relationships': [['0', '7', 'parent'], ['1', '8', 'parent'], ['2', '15', 'parent'], ['2', '16', 'parent'], ['2', '17', 'parent'], ['2', '18', 'parent'], ['2', '19', 'parent'], ['2', '20', 'parent'], ['2', '21', 'parent'], ['2', '22', 'parent'], ['2', '23', 'parent'], ['2', '24', 'parent'], ['2', '25', 'parent'], ['2', '26', 'parent'], ['2', '27', 'parent'], ['2', '28', 'parent'], ['2', '29', 'parent'], ['2', '30', 'parent'], ['2', '31', 'parent'], ['2', '32', 'parent'], ['2', '33', 'parent'], ['5', '6', 'child'], ['6', '5', 'parent'], ['7', '0', 'child'], ['8', '1', 'child'], ['9', '10', 'parent'], ['10', '9', 'child'], ['11', '12', 'parent'], ['12', '11', 'child'], ['15', '2', 'child'], ['16', '2', 'child'], ['17', '2', 'child'], ['18', '2', 'child'], ['19', '2', 'child'], ['20', '2', 'child'], ['21', '2', 'child'], ['22', '2', 'child'], ['23', '2', 'child'], ['24', '2', 'child'], ['25', '2', 'child'], ['26', '2', 'child'], ['27', '2', 'child'], ['28', '2', 'child'], ['29', '2', 'child'], ['30', '2', 'child'], ['31', '2', 'child'], ['32', '2', 'child'], ['33', '2', 'child']]}, '00851879': {'objects': ['0', '1', '2', '3', '4', '5', '6', '7', '8', '9', '10', '11', '12', '13', '14', '15', '16', '17', '18', '19', '20', '21', '22', '23', '24', '25', '26', '27'], 'relationships': [['0', '1', 'parent'], ['1', '0', 'child'], ['2', '21', 'parent'], ['3', '4', 'parent'], ['4', '3', 'child'], ['5', '10', 'parent'], ['5', '11', 'parent'], ['6', '7', 'child'], ['7', '12', 'child'], ['7', '6', 'parent'], ['8', '12', 'child'], ['10', '5', 'child'], ['11', '5', 'child'], ['12', '7', 'parent'], ['12', '8', 'parent'], ['12', '13', 'parent'], ['13', '12', 'child'], ['21', '2', 'child'], ['22', '23', 'parent'], ['23', '22', 'child'], ['24', '25', 'parent'], ['25', '24', 'child']]}, '00836244': {'objects': ['0', '1', '2', '3', '4', '5', '6', '7', '8', '9', '10', '11', '12', '13', '14', '15', '16', '17', '18', '19', '20', '21', '22', '23', '24', '25', '26', '27', '28', '29', '30', '31', '32', '33', '34', '35', '36', '37', '38', '39', '40', '41', '42', '43', '44', '45', '46', '47', '48', '49', '50', '51', '52', '53', '54', '55', '56', '57', '58', '59', '60', '61', '62', '63', '64', '65', '66', '67', '68', '69', '70', '71', '72', '73', '74', '75', '76', '77', '78', '79', '80', '81', '82', '83', '84', '85', '86', '87', '88', '89', '90', '91', '92'], 'relationships': [['0', '42', 'parent'], ['1', '43', 'parent'], ['2', '49', 'parent'], ['3', '52', 'parent'], ['4', '44', 'parent'], ['6', '48', 'parent'], ['9', '88', 'parent'], ['10', '63', 'parent'], ['10', '64', 'parent'], ['11', '61', 'parent'], ['11', '62', 'parent'], ['12', '59', 'parent'], ['12', '60', 'parent'], ['13', '47', 'parent'], ['14', '15', 'parent'], ['14', '56', 'parent'], ['14', '55', 'parent'], ['15', '14', 'child'], ['15', '16', 'parent'], ['16', '15', 'child'], ['17', '53', 'child'], ['18', '53', 'child'], ['19', '53', 'child'], ['20', '54', 'child'], ['21', '75', 'child'], ['22', '75', 'child'], ['23', '75', 'child'], ['24', '75', 'child'], ['25', '75', 'child'], ['26', '75', 'child'], ['27', '75', 'child'], ['28', '75', 'child'], ['29', '75', 'child'], ['30', '75', 'child'], ['31', '75', 'child'], ['32', '74', 'child'], ['33', '74', 'child'], ['34', '74', 'child'], ['35', '77', 'child'], ['36', '77', 'child'], ['42', '0', 'child'], ['43', '1', 'child'], ['44', '4', 'child'], ['45', '46', 'parent'], ['46', '45', 'child'], ['47', '13', 'child'], ['48', '6', 'child'], ['49', '2', 'child'], ['50', '51', 'parent'], ['51', '50', 'child'], ['52', '3', 'child'], ['53', '17', 'parent'], ['53', '18', 'parent'], ['53', '19', 'parent'], ['54', '20', 'parent'], ['55', '14', 'child'], ['56', '14', 'child'], ['58', '67', 'parent'], ['58', '68', 'parent'], ['58', '69', 'parent'], ['58', '70', 'parent'], ['58', '71', 'parent'], ['58', '72', 'parent'], ['59', '12', 'child'], ['59', '67', 'parent'], ['60', '12', 'child'], ['60', '68', 'parent'], ['61', '11', 'child'], ['61', '69', 'parent'], ['62', '11', 'child'], ['62', '70', 'parent'], ['63', '10', 'child'], ['63', '71', 'parent'], ['64', '10', 'child'], ['64', '72', 'parent'], ['67', '59', 'child'], ['67', '58', 'child'], ['68', '60', 'child'], ['68', '58', 'child'], ['69', '61', 'child'], ['69', '58', 'child'], ['70', '62', 'child'], ['70', '58', 'child'], ['71', '63', 'child'], ['71', '58', 'child'], ['72', '64', 'child'], ['72', '58', 'child'], ['73', '75', 'child'], ['74', '32', 'parent'], ['74', '33', 'parent'], ['74', '34', 'parent'], ['75', '28', 'parent'], ['75', '73', 'parent'], ['75', '29', 'parent'], ['75', '30', 'parent'], ['75', '31', 'parent'], ['75', '25', 'parent'], ['75', '26', 'parent'], ['75', '27', 'parent'], ['75', '21', 'parent'], ['75', '22', 'parent'], ['75', '23', 'parent'], ['75', '24', 'parent'], ['77', '35', 'parent'], ['77', '36', 'parent'], ['88', '9', 'child'], ['89', '90', 'parent'], ['90', '89', 'child']]}, '93351929_93351931': {'objects': ['0', '1', '2', '3', '4', '5', '6', '7', '8', '9', '10', '11', '12', '13', '14', '15', '16', '17', '18', '19', '20', '21', '22', '23', '24', '25', '26', '27', '28', '29', '30', '31', '32', '33', '34', '35', '36', '37', '38', '39', '40', '41', '42', '43', '44', '45', '46', '47'], 'relationships': [['0', '13', 'parent'], ['1', '14', 'parent'], ['2', '15', 'parent'], ['3', '9', 'parent'], ['3', '10', 'parent'], ['4', '17', 'child'], ['5', '24', 'child'], ['6', '25', 'child'], ['7', '18', 'child'], ['7', '42', 'parent'], ['8', '18', 'child'], ['8', '43', 'parent'], ['9', '46', 'parent'], ['9', '47', 'parent'], ['9', '3', 'child'], ['10', '44', 'parent'], ['10', '3', 'child'], ['13', '0', 'child'], ['14', '1', 'child'], ['15', '2', 'child'], ['16', '45', 'parent'], ['17', '4', 'parent'], ['18', '7', 'parent'], ['18', '8', 'parent'], ['19', '41', 'parent'], ['20', '40', 'parent'], ['21', '39', 'parent'], ['22', '38', 'parent'], ['23', '37', 'parent'], ['24', '5', 'parent'], ['25', '6', 'parent'], ['27', '36', 'parent'], ['28', '29', 'parent'], ['28', '30', 'parent'], ['28', '31', 'parent'], ['28', '32', 'parent'], ['29', '28', 'child'], ['30', '28', 'child'], ['30', '35', 'parent'], ['31', '28', 'child'], ['31', '34', 'parent'], ['32', '28', 'child'], ['32', '33', 'parent'], ['33', '32', 'child'], ['34', '31', 'child'], ['35', '30', 'child'], ['36', '27', 'child'], ['37', '23', 'child'], ['38', '22', 'child'], ['39', '21', 'child'], ['40', '20', 'child'], ['41', '19', 'child'], ['42', '7', 'child'], ['43', '8', 'child'], ['44', '10', 'child'], ['45', '16', 'child'], ['46', '9', 'child'], ['47', '9', 'child']]}, '00836816': {'objects': ['0', '1', '2', '3', '4', '5', '6', '7', '8', '9', '10', '11', '12', '13', '14', '15', '16', '17', '18', '19', '20', '21', '22', '23', '24', '25', '26', '27', '28', '29'], 'relationships': [['1', '27', 'parent'], ['2', '28', 'parent'], ['4', '9', 'child'], ['5', '13', 'parent'], ['6', '15', 'parent'], ['7', '14', 'parent'], ['9', '4', 'parent'], ['11', '12', 'parent'], ['12', '11', 'child'], ['13', '5', 'child'], ['14', '7', 'child'], ['15', '6', 'child'], ['16', '17', 'parent'], ['17', '16', 'child'], ['18', '19', 'child'], ['19', '18', 'parent'], ['20', '21', 'parent'], ['20', '22', 'parent'], ['20', '23', 'parent'], ['20', '24', 'parent'], ['21', '20', 'child'], ['22', '20', 'child'], ['23', '20', 'child'], ['24', '20', 'child'], ['27', '1', 'child'], ['28', '2', 'child']]}, '80718412_8413': {'objects': ['0', '1', '2', '3', '4', '5', '6', '7', '8', '9', '10', '11', '12', '13', '14', '15', '16', '17', '18', '19', '20', '21', '22', '23', '24', '25'], 'relationships': [['0', '7', 'parent'], ['1', '10', 'parent'], ['2', '15', 'parent'], ['3', '20', 'parent'], ['3', '19', 'child'], ['4', '22', 'parent'], ['4', '19', 'child'], ['5', '21', 'parent'], ['5', '19', 'child'], ['6', '18', 'child'], ['7', '0', 'child'], ['10', '1', 'child'], ['11', '12', 'child'], ['12', '11', 'parent'], ['13', '14', 'parent'], ['14', '13', 'child'], ['15', '2', 'child'], ['16', '17', 'parent'], ['17', '16', 'child'], ['18', '6', 'parent'], ['19', '3', 'parent'], ['19', '5', 'parent'], ['19', '4', 'parent'], ['20', '3', 'child'], ['21', '5', 'child'], ['22', '4', 'child'], ['23', '24', 'child'], ['24', '23', 'parent']]}, '80728670': {'objects': ['0', '1', '2', '3', '4', '5', '6', '7', '8', '9', '10', '11', '12', '13', '14', '15', '16', '17', '18', '19', '20', '21', '22', '23', '24', '25', '26', '27', '28', '29', '30', '31', '32', '33', '34', '35'], 'relationships': [['0', '13', 'parent'], ['1', '14', 'parent'], ['2', '15', 'parent'], ['3', '24', 'child'], ['4', '24', 'child'], ['5', '24', 'child'], ['6', '24', 'child'], ['8', '21', 'child'], ['9', '28', 'child'], ['10', '34', 'child'], ['13', '0', 'child'], ['14', '1', 'child'], ['15', '2', 'child'], ['16', '17', 'parent'], ['17', '16', 'child'], ['18', '19', 'parent'], ['18', '20', 'parent'], ['19', '18', 'child'], ['20', '18', 'child'], ['21', '8', 'parent'], ['22', '23', 'parent'], ['23', '22', 'child'], ['24', '3', 'parent'], ['24', '4', 'parent'], ['24', '5', 'parent'], ['24', '6', 'parent'], ['25', '26', 'parent'], ['25', '27', 'parent'], ['26', '25', 'child'], ['27', '25', 'child'], ['28', '9', 'parent'], ['34', '10', 'parent']]}, '91315069_91315070': {'objects': ['0', '1', '2', '3', '4', '5', '6', '7', '8', '9', '10', '11', '12', '13', '14', '15', '16', '17', '18', '19', '20', '21', '22', '23', '24', '25'], 'relationships': [['0', '7', 'parent'], ['2', '13', 'parent'], ['3', '14', 'parent'], ['4', '15', 'child'], ['5', '15', 'child'], ['7', '0', 'child'], ['8', '9', 'parent'], ['8', '10', 'parent'], ['8', '11', 'parent'], ['8', '12', 'parent'], ['9', '8', 'child'], ['10', '8', 'child'], ['11', '8', 'child'], ['12', '8', 'child'], ['13', '2', 'child'], ['14', '3', 'child'], ['15', '4', 'parent'], ['15', '16', 'parent'], ['15', '5', 'parent'], ['15', '17', 'parent'], ['16', '15', 'child'], ['17', '15', 'child'], ['18', '19', 'parent'], ['18', '20', 'parent'], ['19', '18', 'child'], ['20', '18', 'child'], ['21', '22', 'parent'], ['21', '23', 'parent'], ['21', '24', 'parent'], ['22', '21', 'child'], ['23', '21', 'child'], ['24', '21', 'child']]}, '0011838621': {'objects': ['0', '1', '2', '3', '4', '5', '6', '7', '8', '9', '10', '11', '12', '13', '14', '15', '16', '17', '18', '19', '20', '21', '22', '23', '24', '25', '26', '27', '28', '29', '30', '31', '32', '33', '34', '35', '36', '37', '38', '39', '40', '41', '42', '43', '44', '45', '46', '47', '48', '49', '50', '51', '52', '53', '54', '55', '56', '57', '58', '59', '60', '61'], 'relationships': [['0', '23', 'parent'], ['1', '24', 'parent'], ['2', '25', 'parent'], ['3', '4', 'parent'], ['4', '3', 'child'], ['6', '37', 'parent'], ['7', '27', 'child'], ['8', '27', 'child'], ['8', '35', 'child'], ['9', '38', 'parent'], ['9', '39', 'parent'], ['9', '45', 'parent'], ['9', '46', 'parent'], ['10', '43', 'child'], ['11', '44', 'child'], ['13', '47', 'child'], ['14', '48', 'child'], ['15', '59', 'parent'], ['15', '59', 'parent'], ['16', '50', 'parent'], ['17', '51', 'parent'], ['18', '53', 'child'], ['20', '55', 'child'], ['21', '56', 'child'], ['23', '0', 'child'], ['24', '1', 'child'], ['25', '2', 'child'], ['26', '31', 'parent'], ['26', '32', 'parent'], ['26', '33', 'parent'], ['27', '36', 'parent'], ['27', '7', 'parent'], ['27', '8', 'parent'], ['28', '31', 'parent'], ['28', '36', 'parent'], ['29', '30', 'parent'], ['30', '29', 'child'], ['31', '28', 'child'], ['31', '26', 'child'], ['32', '26', 'child'], ['33', '26', 'child'], ['33', '35', 'child'], ['35', '33', 'parent'], ['35', '8', 'parent'], ['36', '28', 'child'], ['36', '27', 'child'], ['37', '6', 'child'], ['38', '9', 'child'], ['39', '9', 'child'], ['40', '42', 'parent'], ['40', '43', 'parent'], ['40', '44', 'parent'], ['40', '49', 'parent'], ['40', '47', 'parent'], ['40', '48', 'parent'], ['41', '42', 'child'], ['42', '40', 'child'], ['42', '41', 'parent'], ['43', '40', 'child'], ['43', '10', 'parent'], ['44', '40', 'child'], ['44', '11', 'parent'], ['45', '9', 'child'], ['46', '9', 'child'], ['47', '40', 'child'], ['47', '13', 'parent'], ['48', '40', 'child'], ['48', '14', 'parent'], ['49', '40', 'child'], ['50', '16', 'child'], ['51', '17', 'child'], ['52', '54', 'parent'], ['53', '18', 'parent'], ['54', '52', 'child'], ['55', '20', 'parent'], ['55', '61', None], ['56', '21', 'parent'], ['56', '60', None], ['57', '58', 'parent'], ['58', '57', 'child'], ['59', '15', 'child'], ['59', '15', 'child'], ['60', '56', None], ['61', '55', None]]}, '88057519': {'objects': ['0', '1', '2', '3', '4', '5', '6', '7', '8', '9', '10', '11', '12', '13', '14', '15', '16'], 'relationships': [['4', '12', 'parent'], ['4', '13', 'parent'], ['12', '4', 'child'], ['13', '4', 'child']]}, '82254638': {'objects': ['0', '1', '2', '3', '4', '5', '6', '7', '8', '9', '10', '11', '12', '13', '14', '15', '16', '17', '18', '19', '20', '21', '22', '23', '24', '25', '26', '27', '28', '29', '30', '31', '32', '33', '34', '35', '36', '37', '38', '39', '40', '41', '42', '43', '44', '45', '46', '47', '48', '49', '50', '51', '52', '53', '54', '55', '56', '57', '58', '59', '60', '61', '62', '63', '64'], 'relationships': [['0', '30', 'parent'], ['1', '31', 'parent'], ['2', '41', 'parent'], ['2', '45', 'parent'], ['2', '46', 'parent'], ['2', '47', 'parent'], ['2', '48', 'parent'], ['2', '49', 'parent'], ['2', '50', 'parent'], ['2', '51', 'parent'], ['2', '41', 'parent'], ['2', '42', 'parent'], ['2', '43', 'parent'], ['2', '44', 'parent'], ['3', '54', 'parent'], ['3', '56', 'parent'], ['3', '57', 'parent'], ['4', '33', 'child'], ['5', '41', 'child'], ['6', '42', 'child'], ['7', '43', 'child'], ['8', '51', 'child'], ['9', '56', 'child'], ['9', '56', 'child'], ['10', '54', 'child'], ['10', '55', 'child'], ['11', '56', 'child'], ['11', '55', 'child'], ['12', '57', 'child'], ['12', '55', 'child'], ['13', '56', 'child'], ['13', '55', 'child'], ['14', '61', 'child'], ['15', '59', 'child'], ['29', '32', 'parent'], ['30', '0', 'child'], ['31', '1', 'child'], ['32', '29', 'child'], ['33', '4', 'parent'], ['35', '37', 'parent'], ['36', '38', 'parent'], ['37', '35', 'child'], ['38', '36', 'child'], ['39', '40', 'parent'], ['40', '39', 'child'], ['41', '5', 'parent'], ['41', '2', 'child'], ['41', '2', 'child'], ['42', '6', 'parent'], ['42', '2', 'child'], ['43', '7', 'parent'], ['43', '2', 'child'], ['44', '2', 'child'], ['45', '2', 'child'], ['46', '52', 'parent'], ['46', '2', 'child'], ['47', '2', 'child'], ['48', '53', 'parent'], ['48', '2', 'child'], ['49', '2', 'child'], ['50', '2', 'child'], ['51', '8', 'parent'], ['51', '2', 'child'], ['52', '46', 'child'], ['53', '48', 'child'], ['54', '3', 'child'], ['54', '10', 'parent'], ['55', '10', 'parent'], ['55', '11', 'parent'], ['55', '13', 'parent'], ['55', '12', 'parent'], ['56', '3', 'child'], ['56', '9', 'parent'], ['56', '9', 'parent'], ['56', '11', 'parent'], ['56', '13', 'parent'], ['57', '3', 'child'], ['57', '12', 'parent'], ['58', '59', 'parent'], ['59', '15', 'parent'], ['59', '58', 'child'], ['60', '61', 'parent'], ['61', '60', 'child'], ['61', '14', 'parent']]}, '00851772_1780': {'objects': ['0', '1', '2', '3', '4', '5', '6', '7', '8', '9', '10', '11', '12', '13', '14', '15', '16', '17', '18', '19', '20', '21', '22', '23', '24', '25', '26', '27', '28', '29', '30', '31', '32'], 'relationships': [['0', '17', 'parent'], ['0', '18', 'parent'], ['0', '1', 'parent'], ['1', '0', 'child'], ['1', '2', 'child'], ['2', '1', 'parent'], ['3', '21', 'parent'], ['5', '20', 'parent'], ['6', '22', 'child'], ['7', '19', 'parent'], ['8', '23', 'child'], ['10', '26', 'parent'], ['10', '15', 'parent'], ['10', '27', 'parent'], ['15', '10', 'child'], ['17', '0', 'child'], ['18', '0', 'child'], ['19', '7', 'child'], ['20', '5', 'child'], ['21', '3', 'child'], ['22', '6', 'parent'], ['23', '8', 'parent'], ['26', '10', 'child'], ['27', '10', 'child']]}, '00040534': {'objects': ['0', '1', '2', '3', '4', '5', '6', '7', '8', '9', '10', '11', '12', '13', '14', '15', '16', '17', '18', '19', '20', '21', '22', '23', '24', '25', '26', '27', '28', '29', '30', '31', '32', '33', '34', '35', '36', '37', '38', '39', '40', '41', '42', '43', '44', '45', '46', '47', '48', '49', '50', '51', '52', '53', '54', '55', '56', '57', '58', '59', '60', '61', '62', '63', '64', '65', '66', '67', '68', '69', '70', '71', '72', '73', '74', '75', '76', '77', '78', '79', '80'], 'relationships': [['0', '37', 'parent'], ['1', '38', 'parent'], ['2', '44', 'parent'], ['3', '45', 'parent'], ['4', '43', 'parent'], ['5', '12', 'parent'], ['6', '13', 'parent'], ['8', '15', 'parent'], ['8', '16', 'parent'], ['9', '42', 'child'], ['10', '52', 'child'], ['10', '17', 'parent'], ['11', '41', 'child'], ['12', '5', 'child'], ['13', '6', 'child'], ['14', '50', 'child'], ['15', '8', 'child'], ['16', '8', 'child'], ['17', '10', 'child'], ['18', '57', 'child'], ['19', '62', 'child'], ['20', '62', 'child'], ['21', '62', 'child'], ['22', '62', 'child'], ['23', '62', 'child'], ['24', '61', 'child'], ['25', '61', 'child'], ['26', '61', 'child'], ['27', '61', 'child'], ['28', '61', 'child'], ['29', '63', 'child'], ['30', '63', 'child'], ['31', '63', 'child'], ['32', '63', 'child'], ['33', '63', 'child'], ['34', '79', 'parent'], ['34', '78', 'parent'], ['37', '0', 'child'], ['38', '1', 'child'], ['39', '40', 'parent'], ['40', '39', 'child'], ['41', '11', 'parent'], ['42', '9', 'parent'], ['43', '4', 'child'], ['44', '2', 'child'], ['45', '3', 'child'], ['46', '47', 'child'], ['47', '46', 'parent'], ['48', '49', 'parent'], ['49', '48', 'child'], ['50', '14', 'parent'], ['52', '10', 'parent'], ['52', '53', 'parent'], ['52', '54', 'parent'], ['52', '55', 'parent'], ['53', '52', 'child'], ['54', '52', 'child'], ['55', '52', 'child'], ['56', '57', 'parent'], ['56', '58', 'parent'], ['56', '59', 'parent'], ['56', '60', 'parent'], ['57', '56', 'child'], ['57', '18', 'parent'], ['58', '56', 'child'], ['59', '56', 'child'], ['60', '56', 'child'], ['61', '24', 'parent'], ['61', '25', 'parent'], ['61', '26', 'parent'], ['61', '27', 'parent'], ['61', '28', 'parent'], ['62', '19', 'parent'], ['62', '20', 'parent'], ['62', '21', 'parent'], ['62', '22', 'parent'], ['62', '23', 'parent'], ['63', '29', 'parent'], ['63', '30', 'parent'], ['63', '31', 'parent'], ['63', '32', 'parent'], ['63', '33', 'parent'], ['64', '65', 'parent'], ['64', '66', 'parent'], ['64', '67', 'parent'], ['64', '68', 'parent'], ['64', '69', 'parent'], ['65', '64', 'child'], ['66', '64', 'child'], ['67', '64', 'child'], ['68', '64', 'child'], ['69', '64', 'child'], ['70', '71', 'parent'], ['70', '72', 'parent'], ['71', '70', 'child'], ['72', '70', 'child'], ['73', '80', 'child'], ['74', '75', 'child'], ['75', '74', 'parent'], ['78', '34', 'child'], ['79', '34', 'child'], ['80', '73', 'parent']]}, '0060024314': {'objects': ['0', '1', '2', '3', '4', '5', '6', '7', '8', '9', '10', '11', '12', '13', '14', '15', '16', '17', '18', '19', '20', '21', '22', '23', '24', '25', '26', '27', '28', '29', '30', '31', '32', '33', '34', '35', '36', '37', '38'], 'relationships': [['0', '16', 'parent'], ['1', '13', 'parent'], ['2', '20', 'parent'], ['2', '17', 'child'], ['3', '28', 'parent'], ['3', '17', 'child'], ['4', '27', 'parent'], ['4', '17', 'child'], ['7', '26', 'parent'], ['7', '17', 'child'], ['9', '21', 'child'], ['10', '29', 'child'], ['11', '31', 'child'], ['12', '32', 'child'], ['13', '1', 'child'], ['16', '0', 'child'], ['17', '18', 'parent'], ['17', '2', 'parent'], ['17', '21', 'parent'], ['17', '22', 'parent'], ['17', '3', 'parent'], ['17', '4', 'parent'], ['17', '29', 'parent'], ['17', '24', 'parent'], ['17', '7', 'parent'], ['18', '19', 'parent'], ['18', '17', 'child'], ['19', '18', 'child'], ['20', '2', 'child'], ['21', '9', 'parent'], ['21', '17', 'child'], ['22', '23', 'parent'], ['22', '17', 'child'], ['23', '22', 'child'], ['24', '25', 'parent'], ['24', '17', 'child'], ['25', '24', 'child'], ['26', '7', 'child'], ['27', '4', 'child'], ['28', '3', 'child'], ['29', '10', 'parent'], ['29', '17', 'child'], ['30', '31', 'parent'], ['30', '32', 'parent'], ['30', '33', 'parent'], ['31', '30', 'child'], ['31', '11', 'parent'], ['32', '30', 'child'], ['32', '12', 'parent'], ['33', '30', 'child'], ['34', '35', 'parent'], ['35', '34', 'child']]}, '0013255595': {'objects': ['0', '1', '2', '3', '4', '5', '6', '7', '8', '9', '10', '11', '12', '13', '14', '15', '16'], 'relationships': [['3', '11', 'parent'], ['3', '12', 'parent'], ['3', '13', 'parent'], ['5', '14', 'child'], ['6', '14', 'child'], ['11', '3', 'child'], ['12', '3', 'child'], ['13', '3', 'child'], ['14', '5', 'parent'], ['14', '6', 'parent']]}, '0060165115': {'objects': ['0', '1', '2', '3', '4', '5', '6', '7', '8', '9', '10', '11', '12', '13', '14', '15', '16', '17', '18', '19', '20', '21', '22', '23', '24', '25', '26', '27', '28', '29', '30', '31', '32', '33', '34', '35'], 'relationships': [['0', '16', 'parent'], ['1', '17', 'parent'], ['2', '18', 'parent'], ['3', '20', 'parent'], ['3', '21', 'parent'], ['4', '33', 'parent'], ['5', '34', 'parent'], ['6', '27', 'parent'], ['7', '14', 'child'], ['14', '7', 'parent'], ['16', '0', 'child'], ['17', '1', 'child'], ['18', '2', 'child'], ['20', '3', 'child'], ['21', '3', 'child'], ['22', '23', 'child'], ['23', '22', 'parent'], ['25', '26', 'parent'], ['26', '25', 'child'], ['27', '6', 'child'], ['29', '32', 'child'], ['30', '31', 'child'], ['31', '30', 'parent'], ['32', '29', 'parent'], ['33', '4', 'child'], ['34', '5', 'child']]}, '0060136394': {'objects': ['0', '1', '2', '3', '4', '5', '6', '7', '8', '9', '10', '11', '12', '13', '14', '15', '16', '17', '18', '19', '20', '21', '22', '23', '24', '25', '26'], 'relationships': [['0', '23', 'parent'], ['1', '22', 'parent'], ['2', '21', 'parent'], ['4', '13', 'parent'], ['5', '14', 'parent'], ['6', '15', 'parent'], ['7', '16', 'parent'], ['13', '4', 'child'], ['14', '5', 'child'], ['15', '6', 'child'], ['16', '7', 'child'], ['18', '19', 'parent'], ['18', '20', 'parent'], ['19', '18', 'child'], ['20', '18', 'child'], ['21', '2', 'child'], ['22', '1', 'child'], ['23', '0', 'child']]}, '0011859695': {'objects': ['0', '1', '2', '3', '4', '5', '6', '7', '8', '9', '10', '11', '12', '13', '14', '15', '16', '17', '18', '19', '20', '21', '22', '23', '24', '25', '26', '27', '28'], 'relationships': [['0', '13', 'parent'], ['1', '15', 'parent'], ['2', '14', 'parent'], ['3', '17', 'parent'], ['4', '16', 'parent'], ['5', '18', 'parent'], ['6', '19', 'parent'], ['6', '22', 'parent'], ['6', '23', 'parent'], ['7', '20', 'parent'], ['8', '10', 'parent'], ['10', '8', 'child'], ['13', '0', 'child'], ['14', '2', 'child'], ['15', '1', 'child'], ['16', '4', 'child'], ['17', '3', 'child'], ['18', '5', 'child'], ['19', '6', 'child'], ['20', '7', 'child'], ['22', '6', 'child'], ['23', '6', 'child']]}, '0001477983': {'objects': ['0', '1', '2', '3', '4', '5', '6', '7', '8', '9', '10', '11', '12', '13', '14', '15', '16', '17', '18', '19', '20', '21', '22', '23', '24', '25', '26', '27', '28', '29', '30', '31', '32', '33', '34', '35', '36', '37', '38', '39', '40', '41', '42', '43', '44', '45', '46', '47', '48', '49', '50', '51', '52', '53', '54', '55', '56', '57', '58', '59', '60', '61', '62', '63', '64'], 'relationships': [['0', '5', 'parent'], ['1', '64', 'child'], ['2', '58', 'child'], ['3', '59', 'child'], ['4', '60', 'child'], ['5', '0', 'child'], ['6', '62', 'child'], ['28', '53', 'child'], ['29', '53', 'child'], ['39', '40', 'parent'], ['40', '39', 'child'], ['41', '42', 'parent'], ['42', '41', 'child'], ['43', '44', 'parent'], ['44', '43', 'child'], ['53', '28', 'parent'], ['53', '29', 'parent'], ['58', '2', 'parent'], ['59', '3', 'parent'], ['60', '4', 'parent'], ['62', '6', 'parent'], ['64', '1', 'parent']]}, '00922237': {'objects': ['0', '1', '2', '3', '4', '5', '6', '7', '8', '9', '10', '11', '12', '13', '14', '15', '16', '17', '18', '19', '20', '21', '22', '23', '24', '25', '26', '27', '28', '29', '30', '31', '32', '33', '34'], 'relationships': [['0', '32', 'child'], ['1', '33', 'child'], ['2', '31', 'child'], ['3', '34', 'child'], ['6', '26', 'parent'], ['10', '23', 'parent'], ['11', '16', 'parent'], ['12', '20', 'parent'], ['16', '11', 'child'], ['19', '24', 'parent'], ['20', '12', 'child'], ['21', '22', 'parent'], ['22', '21', 'child'], ['23', '10', 'child'], ['24', '19', 'child'], ['26', '6', 'child'], ['31', '2', 'parent'], ['32', '0', 'parent'], ['33', '1', 'parent'], ['34', '3', 'parent']]}, '0001456787': {'objects': ['0', '1', '2', '3', '4', '5', '6', '7', '8', '9', '10', '11', '12', '13', '14', '15', '16', '17', '18', '19', '20', '21', '22', '23', '24', '25', '26', '27', '28', '29', '30', '31', '32', '33', '34', '35', '36', '37', '38', '39', '40', '41', '42', '43', '44', '45', '46', '47', '48', '49', '50', '51', '52', '53', '54', '55', '56', '57', '58', '59', '60', '61', '62', '63', '64', '65', '66', '67', '68', '69', '70', '71', '72', '73'], 'relationships': [['1', '34', 'parent'], ['1', '35', 'parent'], ['1', '36', 'parent'], ['2', '38', 'child'], ['2', '44', 'parent'], ['2', '45', 'parent'], ['3', '38', 'child'], ['4', '38', 'child'], ['4', '46', 'parent'], ['4', '50', 'parent'], ['5', '38', 'child'], ['5', '49', 'parent'], ['5', '53', 'parent'], ['6', '25', 'child'], ['6', '18', 'child'], ['7', '28', 'child'], ['7', '19', 'child'], ['8', '28', 'child'], ['8', '18', 'child'], ['9', '32', 'child'], ['9', '19', 'child'], ['10', '34', 'child'], ['10', '18', 'child'], ['11', '34', 'child'], ['11', '19', 'child'], ['12', '40', 'child'], ['13', '40', 'child'], ['14', '41', 'child'], ['15', '41', 'child'], ['18', '71', 'parent'], ['18', '72', 'parent'], ['18', '73', 'parent'], ['18', '6', 'parent'], ['18', '64', 'parent'], ['18', '63', 'parent'], ['18', '8', 'parent'], ['18', '60', 'parent'], ['18', '61', 'parent'], ['18', '62', 'parent'], ['18', '10', 'parent'], ['18', '56', 'parent'], ['18', '55', 'parent'], ['19', '70', 'parent'], ['19', '69', 'parent'], ['19', '68', 'parent'], ['19', '67', 'parent'], ['19', '66', 'parent'], ['19', '65', 'parent'], ['19', '7', 'parent'], ['19', '59', 'parent'], ['19', '58', 'parent'], ['19', '9', 'parent'], ['19', '11', 'parent'], ['19', '57', 'parent'], ['19', '54', 'parent'], ['21', '22', 'parent'], ['21', '23', 'parent'], ['21', '24', 'parent'], ['21', '25', 'parent'], ['21', '26', 'parent'], ['21', '27', 'parent'], ['21', '28', 'parent'], ['21', '29', 'parent'], ['21', '30', 'parent'], ['21', '31', 'parent'], ['21', '32', 'parent'], ['21', '33', 'parent'], ['22', '21', 'child'], ['22', '71', 'parent'], ['22', '70', 'parent'], ['23', '21', 'child'], ['23', '72', 'parent'], ['23', '69', 'parent'], ['24', '21', 'child'], ['24', '73', 'parent'], ['24', '68', 'parent'], ['25', '21', 'child'], ['25', '6', 'parent'], ['25', '67', 'parent'], ['26', '21', 'child'], ['26', '64', 'parent'], ['26', '66', 'parent'], ['27', '21', 'child'], ['27', '63', 'parent'], ['27', '65', 'parent'], ['28', '21', 'child'], ['28', '8', 'parent'], ['28', '7', 'parent'], ['29', '21', 'child'], ['30', '21', 'child'], ['30', '60', 'parent'], ['30', '59', 'parent'], ['31', '21', 'child'], ['31', '61', 'parent'], ['31', '58', 'parent'], ['32', '21', 'child'], ['32', '62', 'parent'], ['32', '9', 'parent'], ['33', '21', 'child'], ['34', '1', 'child'], ['34', '10', 'parent'], ['34', '11', 'parent'], ['35', '1', 'child'], ['35', '56', 'parent'], ['35', '57', 'parent'], ['36', '1', 'child'], ['36', '55', 'parent'], ['36', '54', 'parent'], ['38', '2', 'parent'], ['38', '39', 'parent'], ['38', '3', 'parent'], ['38', '40', 'parent'], ['38', '4', 'parent'], ['38', '41', 'parent'], ['38', '42', 'parent'], ['38', '43', 'parent'], ['38', '5', 'parent'], ['39', '38', 'child'], ['40', '38', 'child'], ['40', '13', 'parent'], ['40', '12', 'parent'], ['41', '38', 'child'], ['41', '15', 'parent'], ['41', '14', 'parent'], ['42', '38', 'child'], ['42', '47', 'parent'], ['42', '51', 'parent'], ['43', '38', 'child'], ['43', '48', 'parent'], ['43', '52', 'parent'], ['44', '2', 'child'], ['45', '2', 'child'], ['46', '4', 'child'], ['47', '42', 'child'], ['48', '43', 'child'], ['49', '5', 'child'], ['50', '4', 'child'], ['51', '42', 'child'], ['52', '43', 'child'], ['53', '5', 'child'], ['54', '36', 'child'], ['54', '19', 'child'], ['55', '36', 'child'], ['55', '18', 'child'], ['56', '35', 'child'], ['56', '18', 'child'], ['57', '35', 'child'], ['57', '19', 'child'], ['58', '31', 'child'], ['58', '19', 'child'], ['59', '30', 'child'], ['59', '19', 'child'], ['60', '30', 'child'], ['60', '18', 'child'], ['61', '31', 'child'], ['61', '18', 'child'], ['62', '32', 'child'], ['62', '18', 'child'], ['63', '27', 'child'], ['63', '18', 'child'], ['64', '26', 'child'], ['64', '18', 'child'], ['65', '27', 'child'], ['65', '19', 'child'], ['66', '26', 'child'], ['66', '19', 'child'], ['67', '25', 'child'], ['67', '19', 'child'], ['68', '24', 'child'], ['68', '19', 'child'], ['69', '23', 'child'], ['69', '19', 'child'], ['70', '22', 'child'], ['70', '19', 'child'], ['71', '22', 'child'], ['71', '18', 'child'], ['72', '23', 'child'], ['72', '18', 'child'], ['73', '24', 'child'], ['73', '18', 'child']]}, '91104867': {'objects': ['0', '1', '2', '3', '4', '5', '6', '7', '8', '9', '10', '11', '12', '13', '14', '15', '16', '17', '18', '19', '20', '21', '22', '23', '24', '25', '26', '27', '28', '29', '30', '31', '32', '33', '34', '35', '36', '37', '38', '39', '40', '41', '42', '43', '44', '45', '46', '47', '48', '49', '50', '51', '52', '53', '54', '55'], 'relationships': [['0', '47', 'child'], ['1', '47', 'child'], ['2', '47', 'child'], ['3', '47', 'child'], ['4', '49', 'child'], ['5', '49', 'child'], ['6', '49', 'child'], ['7', '49', 'child'], ['8', '48', 'child'], ['9', '48', 'child'], ['10', '48', 'child'], ['11', '48', 'child'], ['12', '50', 'child'], ['13', '50', 'child'], ['14', '50', 'child'], ['15', '50', 'child'], ['16', '28', 'child'], ['17', '28', 'child'], ['18', '28', 'child'], ['19', '28', 'child'], ['20', '52', 'child'], ['21', '52', 'child'], ['22', '52', 'child'], ['24', '53', 'child'], ['25', '53', 'child'], ['26', '53', 'child'], ['27', '29', 'child'], ['28', '16', 'parent'], ['28', '17', 'parent'], ['28', '18', 'parent'], ['28', '19', 'parent'], ['28', '41', None], ['29', '27', 'parent'], ['30', '45', 'parent'], ['32', '47', 'child'], ['33', '48', 'child'], ['34', '49', 'child'], ['35', '52', 'child'], ['36', '53', 'child'], ['37', '39', 'child'], ['38', '40', 'child'], ['39', '37', 'parent'], ['40', '38', 'parent'], ['41', '28', None], ['45', '30', 'child'], ['47', '0', 'parent'], ['47', '1', 'parent'], ['47', '2', 'parent'], ['47', '3', 'parent'], ['47', '51', 'child'], ['47', '32', 'parent'], ['48', '10', 'parent'], ['48', '9', 'parent'], ['48', '8', 'parent'], ['48', '11', 'parent'], ['48', '51', 'child'], ['48', '33', 'parent'], ['49', '4', 'parent'], ['49', '5', 'parent'], ['49', '6', 'parent'], ['49', '7', 'parent'], ['49', '51', 'child'], ['49', '34', 'parent'], ['50', '12', 'parent'], ['50', '13', 'parent'], ['50', '14', 'parent'], ['50', '15', 'parent'], ['51', '47', 'parent'], ['51', '48', 'parent'], ['51', '49', 'parent'], ['52', '20', 'parent'], ['52', '21', 'parent'], ['52', '22', 'parent'], ['52', '35', 'parent'], ['53', '24', 'parent'], ['53', '25', 'parent'], ['53', '26', 'parent'], ['53', '36', 'parent']]}, '13149651': {'objects': ['0', '1', '2', '3', '4', '5', '6', '7', '8', '9', '10', '11', '12', '13', '14', '15', '16', '17', '18', '19', '20', '21', '22', '23', '24', '25', '26', '27', '28', '29', '30', '31', '32', '33', '34', '35', '36', '37', '38', '39', '40', '41', '42', '43', '44', '45', '46', '47', '48', '49', '50', '51', '52', '53', '54', '55', '56', '57', '58', '59', '60', '61', '62', '63', '64', '65', '66', '67', '68', '69', '70', '71', '72', '73', '74'], 'relationships': [['0', '1', 'child'], ['1', '0', 'parent'], ['2', '31', 'parent'], ['3', '40', 'parent'], ['3', '42', 'parent'], ['3', '43', 'parent'], ['3', '44', 'parent'], ['3', '45', 'parent'], ['3', '46', 'parent'], ['4', '51', 'parent'], ['4', '74', 'parent'], ['4', '71', 'parent'], ['4', '70', 'parent'], ['4', '73', 'parent'], ['4', '72', 'parent'], ['4', '69', 'parent'], ['9', '49', 'child'], ['10', '11', 'child'], ['11', '50', 'child'], ['11', '10', 'parent'], ['12', '52', 'child'], ['13', '52', 'child'], ['14', '16', 'child'], ['15', '17', 'child'], ['16', '61', 'child'], ['16', '14', 'parent'], ['17', '61', 'child'], ['17', '15', 'parent'], ['18', '37', 'parent'], ['20', '21', 'parent'], ['21', '20', 'child'], ['25', '26', 'child'], ['26', '25', 'parent'], ['31', '2', 'child'], ['33', '34', 'parent'], ['33', '35', 'parent'], ['34', '33', 'child'], ['35', '33', 'child'], ['37', '18', 'child'], ['40', '3', 'child'], ['42', '3', 'child'], ['43', '3', 'child'], ['44', '3', 'child'], ['45', '3', 'child'], ['46', '3', 'child'], ['47', '50', 'child'], ['48', '50', 'child'], ['49', '9', 'parent'], ['50', '11', 'parent'], ['50', '48', 'parent'], ['50', '47', 'parent'], ['51', '4', 'child'], ['52', '53', 'parent'], ['52', '54', 'parent'], ['52', '55', 'parent'], ['52', '12', 'parent'], ['52', '13', 'parent'], ['53', '52', 'child'], ['54', '52', 'child'], ['55', '52', 'child'], ['57', '61', 'child'], ['58', '61', 'child'], ['59', '61', 'child'], ['60', '61', 'child'], ['61', '16', 'parent'], ['61', '60', 'parent'], ['61', '17', 'parent'], ['61', '59', 'parent'], ['61', '58', 'parent'], ['61', '57', 'parent'], ['69', '4', 'child'], ['70', '4', 'child'], ['71', '4', 'child'], ['72', '4', 'child'], ['73', '4', 'child'], ['74', '4', 'child']]}, '0011505151': {'objects': ['0', '1', '2', '3', '4', '5', '6', '7', '8', '9', '10', '11', '12', '13', '14', '15', '16', '17', '18', '19', '20', '21', '22', '23', '24', '25', '26', '27', '28', '29', '30', '31', '32', '33', '34', '35', '36', '37', '38', '39'], 'relationships': [['0', '15', 'parent'], ['1', '18', 'parent'], ['2', '19', 'parent'], ['4', '34', 'child'], ['5', '35', 'child'], ['6', '36', 'child'], ['8', '14', 'parent'], ['9', '33', 'child'], ['10', '33', 'child'], ['11', '38', 'child'], ['12', '39', 'child'], ['14', '8', 'child'], ['15', '0', 'child'], ['16', '17', 'parent'], ['17', '16', 'child'], ['18', '1', 'child'], ['19', '2', 'child'], ['20', '21', 'parent'], ['21', '20', 'child'], ['22', '23', 'parent'], ['23', '22', 'child'], ['24', '28', 'parent'], ['25', '29', 'parent'], ['26', '30', 'parent'], ['27', '31', 'parent'], ['28', '24', 'child'], ['29', '25', 'child'], ['30', '26', 'child'], ['31', '27', 'child'], ['32', '37', 'parent'], ['33', '9', 'parent'], ['33', '10', 'parent'], ['34', '4', 'parent'], ['35', '5', 'parent'], ['36', '6', 'parent'], ['37', '32', 'child'], ['38', '11', 'parent'], ['39', '12', 'parent']]}, '81749056_9057': {'objects': ['0', '1', '2', '3', '4', '5', '6', '7', '8', '9', '10', '11', '12', '13', '14', '15', '16', '17', '18', '19', '20', '21', '22', '23', '24', '25', '26', '27', '28', '29', '30', '31', '32', '33', '34', '35', '36', '37', '38', '39', '40', '41', '42', '43', '44', '45', '46', '47', '48', '49', '50', '51', '52', '53', '54', '55', '56', '57', '58', '59', '60', '61', '62', '63', '64', '65', '66', '67', '68', '69', '70', '71', '72', '73', '74', '75', '76'], 'relationships': [['0', '43', 'parent'], ['1', '44', 'parent'], ['2', '50', 'parent'], ['3', '46', 'child'], ['4', '53', 'child'], ['6', '65', 'parent'], ['6', '66', 'parent'], ['6', '25', 'parent'], ['6', '67', 'parent'], ['6', '68', 'parent'], ['6', '69', 'parent'], ['7', '13', 'parent'], ['7', '14', 'parent'], ['7', '15', 'parent'], ['7', '16', 'parent'], ['8', '21', 'parent'], ['8', '22', 'parent'], ['8', '24', 'parent'], ['8', '23', 'parent'], ['9', '63', 'child'], ['10', '63', 'child'], ['11', '63', 'child'], ['12', '63', 'child'], ['13', '7', 'child'], ['14', '7', 'child'], ['15', '7', 'child'], ['16', '7', 'child'], ['17', '64', 'child'], ['18', '64', 'child'], ['19', '64', 'child'], ['20', '64', 'child'], ['21', '8', 'child'], ['22', '8', 'child'], ['23', '8', 'child'], ['24', '8', 'child'], ['25', '6', 'child'], ['26', '61', 'child'], ['27', '62', 'child'], ['28', '33', 'child'], ['28', '35', 'child'], ['30', '33', 'child'], ['30', '36', 'child'], ['31', '33', 'child'], ['31', '37', 'child'], ['32', '34', 'child'], ['32', '35', 'child'], ['33', '28', 'parent'], ['33', '30', 'parent'], ['33', '31', 'parent'], ['34', '32', 'parent'], ['34', '75', 'parent'], ['34', '76', 'parent'], ['35', '28', 'parent'], ['35', '32', 'parent'], ['36', '30', 'parent'], ['36', '75', 'parent'], ['37', '31', 'parent'], ['37', '76', 'parent'], ['43', '0', 'child'], ['44', '1', 'child'], ['45', '51', 'parent'], ['46', '48', 'child'], ['46', '3', 'parent'], ['47', '48', 'child'], ['48', '46', 'parent'], ['48', '49', 'parent'], ['48', '47', 'parent'], ['49', '48', 'child'], ['50', '2', 'child'], ['51', '45', 'child'], ['53', '4', 'parent'], ['61', '26', 'parent'], ['62', '27', 'parent'], ['63', '9', 'parent'], ['63', '10', 'parent'], ['63', '11', 'parent'], ['63', '12', 'parent'], ['64', '17', 'parent'], ['64', '18', 'parent'], ['64', '19', 'parent'], ['64', '20', 'parent'], ['65', '6', 'child'], ['66', '6', 'child'], ['67', '6', 'child'], ['68', '6', 'child'], ['69', '6', 'child'], ['75', '34', 'child'], ['75', '36', 'child'], ['76', '34', 'child'], ['76', '37', 'child']]}, '0000990274': {'objects': ['0', '1', '2', '3', '4', '5', '6', '7', '8', '9', '10', '11', '12', '13', '14', '15', '16', '17', '18', '19', '20', '21', '22', '23', '24', '25', '26', '27', '28', '29', '30'], 'relationships': [['0', '16', 'parent'], ['1', '17', 'parent'], ['2', '17', 'parent'], ['4', '6', 'parent'], ['5', '20', 'parent'], ['6', '4', 'child'], ['9', '25', 'parent'], ['9', '26', 'parent'], ['9', '27', 'parent'], ['11', '30', 'parent'], ['14', '15', 'parent'], ['15', '14', 'child'], ['16', '0', 'child'], ['17', '1', 'child'], ['17', '2', 'child'], ['18', '19', 'parent'], ['19', '18', 'child'], ['20', '5', 'child'], ['21', '22', 'parent'], ['22', '21', 'child'], ['23', '24', 'parent'], ['24', '23', 'child'], ['25', '9', 'child'], ['26', '9', 'child'], ['27', '9', 'child'], ['30', '11', 'child']]}, '0011976929': {'objects': ['0', '1', '2', '3', '4', '5', '6', '7', '8', '9', '10', '11', '12', '13', '14', '15', '16', '17', '18', '19', '20', '21', '22', '23'], 'relationships': [['0', '13', 'parent'], ['4', '12', 'child'], ['5', '9', 'child'], ['6', '7', 'parent'], ['7', '6', 'child'], ['9', '5', 'parent'], ['10', '11', 'parent'], ['11', '10', 'child'], ['12', '4', 'parent'], ['13', '0', 'child'], ['14', '15', 'parent'], ['15', '14', 'child'], ['16', '17', 'parent'], ['17', '16', 'child'], ['18', '19', 'parent'], ['19', '18', 'child'], ['20', '21', 'parent'], ['20', '22', 'parent'], ['20', '23', 'parent'], ['21', '20', 'child'], ['22', '20', 'child'], ['23', '20', 'child']]}, '71108371': {'objects': ['0', '1', '2', '3', '4', '5', '6', '7', '8', '9', '10', '11', '12', '13', '14', '15', '16', '17', '18', '19', '20', '21', '22', '23', '24', '25', '26', '27', '28', '29', '30', '31', '32', '33', '34', '35', '36', '37', '38', '39', '40', '41', '42', '43', '44', '45', '46', '47', '48', '49', '50', '51', '52', '53', '54', '55', '56', '57', '58', '59', '60', '61', '62', '63', '64', '65', '66', '67', '68', '69', '70', '71', '72', '73', '74', '75', '76', '77', '78', '79', '80', '81'], 'relationships': [['0', '21', 'parent'], ['2', '29', 'child'], ['3', '22', 'child'], ['4', '32', 'child'], ['5', '9', 'child'], ['6', '24', 'child'], ['7', '23', 'child'], ['8', '13', 'child'], ['9', '13', 'child'], ['9', '5', 'parent'], ['10', '13', 'child'], ['11', '13', 'child'], ['12', '13', 'child'], ['13', '8', 'parent'], ['13', '9', 'parent'], ['13', '10', 'parent'], ['13', '11', 'parent'], ['13', '12', 'parent'], ['17', '18', 'parent'], ['18', '17', 'child'], ['19', '20', 'parent'], ['20', '19', 'child'], ['21', '0', 'child'], ['22', '3', 'parent'], ['23', '7', 'parent'], ['24', '6', 'parent'], ['25', '27', 'parent'], ['25', '28', 'parent'], ['25', '29', 'parent'], ['25', '30', 'parent'], ['25', '31', 'parent'], ['26', '32', 'parent'], ['26', '33', 'parent'], ['26', '34', 'parent'], ['26', '35', 'parent'], ['26', '36', 'parent'], ['26', '37', 'parent'], ['26', '38', 'parent'], ['27', '25', 'child'], ['28', '25', 'child'], ['29', '25', 'child'], ['29', '2', 'parent'], ['30', '25', 'child'], ['31', '25', 'child'], ['32', '26', 'child'], ['32', '4', 'parent'], ['33', '26', 'child'], ['34', '26', 'child'], ['35', '26', 'child'], ['36', '26', 'child'], ['37', '26', 'child'], ['38', '26', 'child'], ['39', '40', 'parent'], ['39', '42', 'parent'], ['39', '44', 'parent'], ['40', '41', 'parent'], ['40', '39', 'child'], ['41', '40', 'child'], ['42', '43', 'parent'], ['42', '39', 'child'], ['43', '42', 'child'], ['44', '45', 'parent'], ['44', '39', 'child'], ['45', '44', 'child'], ['48', '79', 'parent'], ['48', '80', 'parent'], ['79', '48', 'child'], ['80', '48', 'child']]}, '11508234': {'objects': ['0', '1', '2', '3', '4', '5', '6', '7', '8', '9', '10', '11', '12', '13', '14', '15', '16', '17', '18', '19', '20', '21', '22', '23', '24', '25', '26', '27', '28', '29', '30', '31', '32', '33', '34', '35', '36', '37', '38', '39', '40', '41', '42', '43', '44', '45', '46', '47', '48', '49', '50', '51', '52', '53', '54', '55', '56', '57', '58', '59', '60', '61', '62', '63', '64', '65', '66', '67', '68', '69', '70', '71', '72', '73', '74', '75', '76', '77', '78', '79', '80', '81', '82', '83', '84', '85', '86', '87', '88', '89', '90', '91', '92', '93', '94', '95', '96', '97', '98', '99', '100', '101', '102', '103', '104', '105', '106', '107', '108', '109', '110'], 'relationships': [['0', '58', 'parent'], ['1', '60', 'parent'], ['2', '59', 'parent'], ['3', '5', 'parent'], ['3', '7', 'parent'], ['4', '63', 'child'], ['4', '8', 'parent'], ['5', '3', 'child'], ['6', '63', 'child'], ['7', '3', 'child'], ['7', '9', 'parent'], ['8', '4', 'child'], ['9', '7', 'child'], ['11', '64', 'child'], ['12', '65', 'child'], ['13', '67', 'parent'], ['13', '68', 'parent'], ['14', '70', 'child'], ['15', '70', 'child'], ['16', '71', 'child'], ['17', '71', 'child'], ['18', '72', 'child'], ['19', '72', 'child'], ['21', '82', 'parent'], ['22', '81', 'parent'], ['23', '88', 'parent'], ['24', '25', 'parent'], ['25', '24', 'child'], ['26', '74', 'child'], ['27', '75', 'child'], ['28', '77', 'child'], ['29', '78', 'child'], ['30', '86', 'child'], ['31', '84', 'child'], ['32', '85', 'child'], ['41', '99', 'child'], ['43', '98', 'child'], ['44', '96', 'child'], ['45', '95', 'child'], ['47', '100', 'parent'], ['48', '101', 'parent'], ['50', '102', 'parent'], ['53', '106', 'parent'], ['54', '105', 'parent'], ['58', '0', 'child'], ['59', '2', 'child'], ['60', '1', 'child'], ['61', '62', 'parent'], ['62', '61', 'child'], ['63', '4', 'parent'], ['63', '6', 'parent'], ['64', '11', 'parent'], ['65', '66', 'parent'], ['65', '12', 'parent'], ['66', '65', 'child'], ['67', '13', 'child'], ['68', '13', 'child'], ['70', '14', 'parent'], ['70', '15', 'parent'], ['71', '16', 'parent'], ['71', '17', 'parent'], ['72', '18', 'parent'], ['72', '19', 'parent'], ['73', '83', 'parent'], ['74', '26', 'parent'], ['75', '27', 'parent'], ['77', '28', 'parent'], ['78', '29', 'parent'], ['81', '22', 'child'], ['82', '21', 'child'], ['83', '73', 'child'], ['84', '31', 'parent'], ['85', '32', 'parent'], ['86', '30', 'parent'], ['88', '23', 'child'], ['89', '91', 'parent'], ['91', '89', 'child'], ['91', '94', 'parent'], ['92', '93', 'parent'], ['93', '92', 'child'], ['94', '91', 'child'], ['95', '45', 'parent'], ['96', '44', 'parent'], ['97', '109', 'parent'], ['98', '108', None], ['98', '43', 'parent'], ['99', '110', None], ['99', '41', 'parent'], ['100', '47', 'child'], ['101', '48', 'child'], ['102', '50', 'child'], ['105', '54', 'child'], ['106', '53', 'child'], ['108', '98', None], ['109', '97', 'child'], ['110', '99', None]]}, '81186212': {'objects': ['0', '1', '2', '3', '4', '5', '6', '7', '8', '9', '10'], 'relationships': []}, '0060077689': {'objects': ['0', '1', '2', '3', '4', '5', '6', '7', '8', '9', '10', '11', '12', '13', '14', '15', '16', '17', '18', '19', '20', '21', '22', '23', '24', '25', '26', '27', '28', '29', '30', '31', '32', '33', '34', '35', '36', '37', '38', '39', '40', '41', '42', '43', '44', '45', '46', '47', '48', '49', '50', '51', '52', '53', '54', '55', '56', '57', '58', '59', '60', '61', '62', '63', '64', '65'], 'relationships': [['0', '25', 'parent'], ['1', '28', 'parent'], ['2', '31', 'parent'], ['4', '38', 'parent'], ['7', '39', 'parent'], ['7', '40', 'parent'], ['7', '41', 'parent'], ['7', '42', 'parent'], ['7', '43', 'parent'], ['7', '44', 'parent'], ['7', '45', 'parent'], ['8', '47', 'parent'], ['8', '48', 'parent'], ['8', '49', 'parent'], ['8', '50', 'parent'], ['9', '32', 'parent'], ['9', '33', 'parent'], ['16', '63', 'child'], ['17', '58', 'child'], ['18', '65', 'parent'], ['19', '64', 'parent'], ['25', '0', 'child'], ['28', '1', 'child'], ['29', '30', 'child'], ['30', '29', 'parent'], ['31', '2', 'child'], ['32', '9', 'child'], ['33', '9', 'child'], ['34', '35', 'child'], ['35', '34', 'parent'], ['36', '37', 'parent'], ['37', '36', 'child'], ['38', '4', 'child'], ['39', '7', 'child'], ['40', '7', 'child'], ['41', '7', 'child'], ['42', '7', 'child'], ['43', '7', 'child'], ['44', '7', 'child'], ['45', '7', 'child'], ['47', '8', 'child'], ['48', '8', 'child'], ['49', '8', 'child'], ['50', '8', 'child'], ['51', '56', 'parent'], ['52', '55', 'parent'], ['53', '54', 'parent'], ['54', '53', 'child'], ['55', '52', 'child'], ['56', '51', 'child'], ['57', '59', 'parent'], ['57', '58', 'parent'], ['58', '17', 'parent'], ['58', '57', 'child'], ['59', '57', 'child'], ['63', '16', 'parent'], ['64', '19', 'child'], ['65', '18', 'child']]}, '92433599_92433601': {'objects': ['0', '1', '2', '3', '4', '5', '6', '7', '8', '9', '10', '11', '12', '13', '14', '15', '16', '17', '18', '19', '20', '21', '22', '23', '24', '25', '26', '27', '28', '29', '30', '31', '32', '33', '34', '35', '36', '37', '38'], 'relationships': [['0', '23', 'parent'], ['0', '22', 'child'], ['1', '24', 'parent'], ['1', '22', 'child'], ['2', '3', 'parent'], ['2', '22', 'child'], ['3', '2', 'child'], ['4', '6', 'parent'], ['4', '22', 'child'], ['5', '26', 'parent'], ['5', '22', 'child'], ['6', '4', 'child'], ['7', '27', 'child'], ['7', '29', 'parent'], ['8', '27', 'child'], ['8', '28', 'parent'], ['10', '33', 'child'], ['14', '35', 'child'], ['18', '25', 'child'], ['22', '0', 'parent'], ['22', '1', 'parent'], ['22', '2', 'parent'], ['22', '25', 'parent'], ['22', '4', 'parent'], ['22', '5', 'parent'], ['23', '0', 'child'], ['24', '1', 'child'], ['25', '18', 'parent'], ['25', '22', 'child'], ['26', '5', 'child'], ['27', '8', 'parent'], ['27', '7', 'parent'], ['28', '8', 'child'], ['29', '7', 'child'], ['30', '31', 'parent'], ['31', '30', 'child'], ['32', '33', 'parent'], ['32', '34', 'parent'], ['32', '35', 'parent'], ['33', '32', 'child'], ['33', '10', 'parent'], ['34', '32', 'child'], ['35', '32', 'child'], ['35', '14', 'parent'], ['36', '37', 'parent'], ['37', '36', 'child']]}, '0001118259': {'objects': ['0', '1', '2', '3', '4', '5', '6', '7', '8', '9', '10', '11', '12', '13', '14', '15', '16', '17', '18', '19', '20', '21', '22', '23', '24', '25', '26', '27', '28', '29', '30'], 'relationships': [['2', '8', 'child'], ['7', '9', 'parent'], ['7', '10', 'parent'], ['7', '11', 'parent'], ['7', '12', 'parent'], ['7', '13', 'parent'], ['7', '14', 'parent'], ['7', '15', 'parent'], ['8', '16', 'parent'], ['8', '17', 'parent'], ['8', '2', 'parent'], ['8', '18', 'parent'], ['8', '19', 'parent'], ['8', '20', 'parent'], ['8', '21', 'parent'], ['8', '22', 'parent'], ['8', '23', 'parent'], ['8', '24', 'parent'], ['8', '25', 'parent'], ['8', '26', 'parent'], ['8', '27', 'parent'], ['8', '28', 'parent'], ['8', '29', 'parent'], ['8', '30', 'parent'], ['9', '7', 'child'], ['10', '7', 'child'], ['11', '7', 'child'], ['12', '7', 'child'], ['13', '7', 'child'], ['14', '7', 'child'], ['15', '7', 'child'], ['16', '8', 'child'], ['17', '8', 'child'], ['18', '8', 'child'], ['19', '8', 'child'], ['20', '8', 'child'], ['21', '8', 'child'], ['22', '8', 'child'], ['23', '8', 'child'], ['24', '8', 'child'], ['25', '8', 'child'], ['26', '8', 'child'], ['27', '8', 'child'], ['28', '8', 'child'], ['29', '8', 'child'], ['30', '8', 'child']]}, '00838511_00838525': {'objects': ['0', '1', '2', '3', '4', '5', '6', '7', '8', '9', '10', '11', '12', '13', '14', '15', '16', '17'], 'relationships': [['0', '8', 'parent'], ['1', '12', 'parent'], ['2', '13', 'child'], ['3', '15', 'parent'], ['4', '14', 'child'], ['6', '9', 'parent'], ['8', '0', 'child'], ['9', '6', 'child'], ['10', '11', 'parent'], ['11', '10', 'child'], ['12', '1', 'child'], ['13', '2', 'parent'], ['14', '4', 'parent'], ['15', '3', 'child']]}, '0000971160': {'objects': ['0', '1', '2', '3', '4', '5', '6', '7', '8', '9', '10', '11', '12', '13', '14', '15', '16', '17', '18', '19', '20', '21', '22', '23'], 'relationships': [['2', '16', 'parent'], ['3', '12', 'parent'], ['4', '13', 'child'], ['6', '19', 'child'], ['7', '19', 'child'], ['10', '11', 'parent'], ['11', '10', 'child'], ['12', '3', 'child'], ['13', '4', 'parent'], ['14', '15', 'child'], ['15', '14', 'parent'], ['16', '2', 'child'], ['17', '18', 'parent'], ['18', '17', 'child'], ['19', '6', 'parent'], ['19', '7', 'parent'], ['20', '21', 'parent'], ['20', '22', 'parent'], ['21', '20', 'child'], ['22', '20', 'child']]}, '01150773_01150774': {'objects': ['0', '1', '2', '3', '4', '5', '6', '7', '8', '9', '10', '11', '12', '13', '14', '15', '16', '17', '18', '19', '20', '21', '22', '23', '24', '25', '26', '27', '28', '29', '30', '31', '32'], 'relationships': [['0', '24', 'parent'], ['1', '25', 'parent'], ['2', '26', 'parent'], ['3', '5', 'parent'], ['5', '3', 'child'], ['9', '17', 'parent'], ['10', '19', 'parent'], ['11', '18', 'parent'], ['12', '13', 'parent'], ['13', '12', 'child'], ['17', '9', 'child'], ['18', '11', 'child'], ['19', '10', 'child'], ['21', '22', 'child'], ['22', '21', 'parent'], ['24', '0', 'child'], ['25', '1', 'child'], ['26', '2', 'child']]}, '0071032807': {'objects': ['0', '1', '2', '3', '4', '5', '6', '7', '8', '9', '10', '11', '12', '13', '14', '15', '16', '17'], 'relationships': [['0', '4', 'parent'], ['1', '10', 'child'], ['2', '9', 'child'], ['4', '0', 'child'], ['5', '6', 'child'], ['6', '5', 'parent'], ['7', '8', 'parent'], ['8', '7', 'child'], ['9', '2', 'parent'], ['10', '1', 'parent'], ['11', '12', 'parent'], ['12', '11', 'child'], ['14', '15', 'parent'], ['14', '16', 'parent'], ['15', '14', 'child'], ['16', '14', 'child']]}, '00070353': {'objects': ['0', '1', '2', '3', '4', '5', '6', '7', '8', '9', '10', '11', '12', '13', '14', '15', '16', '17', '18', '19', '20', '21', '22', '23'], 'relationships': [['0', '13', 'parent'], ['1', '14', 'parent'], ['2', '5', 'parent'], ['3', '11', 'child'], ['4', '12', 'parent'], ['5', '2', 'child'], ['11', '3', 'parent'], ['12', '4', 'child'], ['13', '0', 'child'], ['14', '1', 'child'], ['15', '17', 'parent'], ['17', '15', 'child'], ['19', '20', 'parent'], ['20', '19', 'child'], ['21', '22', None], ['22', '21', None]]}, '0030041455': {'objects': ['0', '1', '2', '3', '4', '5', '6', '7', '8', '9', '10', '11', '12'], 'relationships': [['0', '8', 'child'], ['1', '8', 'child'], ['2', '5', 'child'], ['5', '2', 'parent'], ['6', '7', 'parent'], ['7', '6', 'child'], ['8', '9', 'parent'], ['8', '0', 'parent'], ['8', '10', 'parent'], ['8', '1', 'parent'], ['9', '8', 'child'], ['10', '8', 'child']]}, '00093726': {'objects': ['0', '1', '2', '3', '4', '5', '6', '7', '8', '9', '10', '11', '12', '13', '14', '15', '16', '17', '18', '19', '20', '21', '22', '23', '24', '25', '26', '27', '28', '29', '30', '31', '32', '33', '34', '35', '36', '37', '38', '39', '40', '41', '42', '43', '44', '45', '46', '47', '48', '49', '50', '51', '52', '53', '54', '55', '56', '57', '58', '59', '60', '61', '62', '63', '64', '65', '66', '67', '68', '69', '70', '71', '72', '73', '74', '75', '76', '77', '78', '79', '80', '81', '82', '83', '84', '85', '86', '87', '88', '89', '90', '91'], 'relationships': [['0', '46', 'parent'], ['1', '54', 'parent'], ['2', '15', 'parent'], ['3', '14', 'parent'], ['4', '13', 'parent'], ['5', '29', 'parent'], ['5', '30', 'parent'], ['5', '31', 'parent'], ['5', '32', 'parent'], ['5', '65', 'parent'], ['5', '64', 'parent'], ['5', '33', 'parent'], ['6', '40', 'parent'], ['6', '41', 'parent'], ['6', '61', 'parent'], ['6', '62', 'parent'], ['6', '42', 'parent'], ['6', '43', 'parent'], ['6', '44', 'parent'], ['6', '63', 'parent'], ['7', '74', 'parent'], ['7', '75', 'parent'], ['7', '76', 'parent'], ['7', '45', 'parent'], ['7', '77', 'parent'], ['8', '34', 'parent'], ['8', '72', 'parent'], ['8', '35', 'parent'], ['8', '36', 'parent'], ['8', '37', 'parent'], ['9', '38', 'parent'], ['9', '39', 'parent'], ['10', '83', 'parent'], ['10', '84', 'parent'], ['10', '85', 'parent'], ['11', '47', 'child'], ['12', '57', 'child'], ['13', '4', 'child'], ['14', '3', 'child'], ['15', '2', 'child'], ['16', '29', 'child'], ['17', '31', 'child'], ['19', '33', 'child'], ['20', '74', 'child'], ['21', '75', 'child'], ['22', '45', 'child'], ['23', '77', 'child'], ['24', '34', 'child'], ['25', '35', 'child'], ['26', '72', 'child'], ['27', '36', 'child'], ['29', '16', 'parent'], ['29', '5', 'child'], ['30', '67', 'parent'], ['30', '5', 'child'], ['31', '17', 'parent'], ['31', '5', 'child'], ['32', '68', 'parent'], ['32', '5', 'child'], ['33', '19', 'parent'], ['33', '5', 'child'], ['34', '8', 'child'], ['34', '24', 'parent'], ['35', '8', 'child'], ['35', '25', 'parent'], ['36', '8', 'child'], ['36', '27', 'parent'], ['37', '8', 'child'], ['37', '73', 'parent'], ['38', '9', 'child'], ['38', '79', 'parent'], ['39', '9', 'child'], ['39', '80', 'parent'], ['40', '60', 'parent'], ['40', '6', 'child'], ['41', '6', 'child'], ['42', '6', 'child'], ['43', '6', 'child'], ['44', '6', 'child'], ['45', '22', 'parent'], ['45', '7', 'child'], ['46', '0', 'child'], ['47', '11', 'parent'], ['48', '49', 'parent'], ['49', '48', 'child'], ['50', '51', 'parent'], ['51', '50', 'child'], ['52', '53', 'parent'], ['53', '52', 'child'], ['54', '1', 'child'], ['55', '56', 'parent'], ['56', '55', 'child'], ['57', '12', 'parent'], ['58', '59', 'parent'], ['59', '58', 'child'], ['60', '40', 'child'], ['61', '6', 'child'], ['62', '6', 'child'], ['63', '6', 'child'], ['64', '71', 'parent'], ['64', '5', 'child'], ['65', '70', 'parent'], ['65', '5', 'child'], ['66', '69', 'parent'], ['67', '30', 'child'], ['68', '32', 'child'], ['69', '66', 'child'], ['70', '65', 'child'], ['71', '64', 'child'], ['72', '8', 'child'], ['72', '26', 'parent'], ['73', '37', 'child'], ['74', '20', 'parent'], ['74', '7', 'child'], ['75', '21', 'parent'], ['75', '7', 'child'], ['76', '78', 'parent'], ['76', '7', 'child'], ['77', '23', 'parent'], ['77', '7', 'child'], ['78', '76', 'child'], ['79', '38', 'child'], ['80', '39', 'child'], ['81', '82', 'child'], ['82', '81', 'parent'], ['83', '10', 'child'], ['83', '87', 'parent'], ['84', '10', 'child'], ['84', '88', 'parent'], ['85', '10', 'child'], ['85', '86', 'parent'], ['86', '85', 'child'], ['87', '83', 'child'], ['88', '84', 'child'], ['89', '90', 'child'], ['90', '89', 'parent']]}, '89817999_8002': {'objects': ['0', '1', '2', '3', '4', '5', '6', '7', '8', '9', '10', '11', '12', '13', '14', '15', '16', '17', '18', '19', '20', '21', '22', '23', '24', '25', '26', '27', '28'], 'relationships': [['0', '6', 'parent'], ['1', '7', 'parent'], ['2', '13', 'parent'], ['3', '14', 'parent'], ['4', '10', 'child'], ['6', '0', 'child'], ['7', '1', 'child'], ['8', '9', 'parent'], ['8', '10', 'parent'], ['8', '11', 'parent'], ['8', '12', 'parent'], ['9', '8', 'child'], ['10', '8', 'child'], ['10', '4', 'parent'], ['11', '8', 'child'], ['12', '8', 'child'], ['13', '2', 'child'], ['14', '3', 'child'], ['15', '16', 'parent'], ['15', '17', 'parent'], ['16', '15', 'child'], ['17', '15', 'child'], ['18', '20', 'parent'], ['18', '21', 'parent'], ['19', '20', 'child'], ['20', '19', 'parent'], ['20', '18', 'child'], ['21', '22', 'parent'], ['21', '18', 'child'], ['22', '21', 'child'], ['23', '24', 'parent'], ['24', '23', 'child'], ['25', '26', 'parent'], ['25', '27', 'parent'], ['26', '25', 'child'], ['27', '25', 'child']]}, '0011973451': {'objects': ['0', '1', '2', '3', '4', '5', '6', '7', '8', '9', '10', '11', '12', '13', '14', '15', '16', '17', '18', '19', '20', '21', '22', '23', '24', '25', '26', '27', '28', '29', '30', '31', '32', '33', '34', '35', '36', '37', '38', '39', '40', '41', '42', '43', '44', '45', '46', '47', '48'], 'relationships': [['0', '43', 'parent'], ['0', '44', 'parent'], ['0', '45', 'parent'], ['0', '46', 'parent'], ['0', '47', 'parent'], ['0', '48', 'parent'], ['0', '7', 'parent'], ['0', '15', 'parent'], ['1', '21', 'parent'], ['2', '26', 'parent'], ['3', '37', 'parent'], ['3', '33', 'child'], ['4', '12', 'parent'], ['4', '33', 'child'], ['5', '6', 'parent'], ['5', '39', 'parent'], ['5', '42', 'parent'], ['5', '16', 'parent'], ['5', '40', 'parent'], ['5', '41', 'parent'], ['6', '5', 'child'], ['7', '0', 'child'], ['8', '28', 'child'], ['9', '32', 'child'], ['10', '31', 'child'], ['11', '19', 'child'], ['12', '4', 'child'], ['12', '34', 'child'], ['13', '35', 'child'], ['15', '0', 'child'], ['16', '5', 'child'], ['17', '19', None], ['18', '19', None], ['19', '17', None], ['19', '18', None], ['19', '11', 'parent'], ['21', '1', 'child'], ['22', '23', 'parent'], ['23', '22', 'child'], ['24', '25', 'parent'], ['25', '24', 'child'], ['26', '2', 'child'], ['27', '28', 'parent'], ['27', '29', 'parent'], ['28', '8', 'parent'], ['28', '27', 'child'], ['29', '30', 'parent'], ['29', '27', 'child'], ['30', '29', 'child'], ['31', '10', 'parent'], ['32', '9', 'parent'], ['33', '38', 'parent'], ['33', '3', 'parent'], ['33', '4', 'parent'], ['33', '34', 'parent'], ['33', '35', 'parent'], ['34', '36', 'parent'], ['34', '37', 'parent'], ['34', '12', 'parent'], ['34', '33', 'child'], ['35', '13', 'parent'], ['35', '33', 'child'], ['36', '38', 'child'], ['36', '34', 'child'], ['37', '3', 'child'], ['37', '34', 'child'], ['38', '36', 'parent'], ['38', '33', 'child'], ['39', '5', 'child'], ['40', '5', 'child'], ['41', '5', 'child'], ['42', '5', 'child'], ['43', '0', 'child'], ['44', '0', 'child'], ['45', '0', 'child'], ['46', '0', 'child'], ['47', '0', 'child'], ['48', '0', 'child']]}, '0001463448': {'objects': ['0', '1', '2', '3', '4', '5', '6', '7', '8', '9', '10', '11', '12', '13', '14', '15', '16', '17', '18', '19', '20', '21', '22', '23', '24', '25', '26', '27', '28', '29', '30', '31', '32', '33', '34', '35', '36', '37', '38', '39', '40', '41'], 'relationships': [['26', '27', 'parent'], ['27', '26', 'child'], ['33', '34', 'parent'], ['33', '35', 'parent'], ['33', '36', 'parent'], ['33', '37', 'parent'], ['33', '38', 'parent'], ['34', '33', 'child'], ['35', '33', 'child'], ['36', '33', 'child'], ['37', '33', 'child'], ['38', '33', 'child']]}, '92094746': {'objects': ['0', '1', '2', '3', '4', '5', '6', '7', '8', '9', '10', '11', '12', '13', '14', '15', '16', '17', '18', '19', '20', '21', '22', '23', '24', '25', '26', '27', '28', '29', '30', '31', '32', '33', '34', '35', '36', '37', '38', '39', '40', '41', '42', '43', '44', '45', '46', '47', '48', '49', '50', '51', '52', '53', '54', '55', '56', '57', '58', '59', '60', '61', '62', '63', '64', '65', '66', '67'], 'relationships': [['1', '46', 'parent'], ['2', '49', 'child'], ['3', '4', 'parent'], ['3', '5', 'parent'], ['3', '6', 'parent'], ['3', '39', 'parent'], ['4', '3', 'child'], ['5', '3', 'child'], ['6', '3', 'child'], ['7', '39', 'child'], ['8', '55', 'child'], ['9', '55', 'child'], ['10', '55', 'child'], ['11', '55', 'child'], ['12', '56', 'child'], ['13', '57', 'child'], ['14', '58', 'child'], ['15', '24', 'parent'], ['15', '56', 'child'], ['16', '25', 'parent'], ['16', '57', 'child'], ['17', '26', 'parent'], ['17', '58', 'child'], ['18', '56', 'child'], ['19', '57', 'child'], ['20', '58', 'child'], ['21', '56', 'child'], ['22', '57', 'child'], ['23', '58', 'child'], ['24', '15', 'child'], ['25', '16', 'child'], ['26', '17', 'child'], ['27', '61', 'child'], ['28', '30', 'child'], ['29', '31', 'child'], ['30', '62', 'child'], ['30', '28', 'parent'], ['31', '63', 'child'], ['31', '29', 'parent'], ['32', '63', 'child'], ['36', '62', 'child'], ['38', '59', 'parent'], ['38', '60', 'parent'], ['39', '3', 'child'], ['39', '7', 'parent'], ['40', '54', 'parent'], ['46', '1', 'child'], ['47', '48', 'parent'], ['48', '47', 'child'], ['49', '2', 'parent'], ['50', '51', 'parent'], ['51', '50', 'child'], ['52', '53', 'parent'], ['53', '52', 'child'], ['54', '40', 'child'], ['55', '8', 'parent'], ['55', '9', 'parent'], ['55', '10', 'parent'], ['55', '11', 'parent'], ['56', '12', 'parent'], ['56', '15', 'parent'], ['56', '18', 'parent'], ['56', '21', 'parent'], ['57', '13', 'parent'], ['57', '16', 'parent'], ['57', '19', 'parent'], ['57', '22', 'parent'], ['58', '14', 'parent'], ['58', '17', 'parent'], ['58', '20', 'parent'], ['58', '23', 'parent'], ['59', '38', 'child'], ['60', '38', 'child'], ['61', '27', 'parent'], ['62', '30', 'parent'], ['62', '36', 'parent'], ['63', '31', 'parent'], ['63', '32', 'parent'], ['65', '66', 'parent'], ['65', '67', 'parent'], ['66', '65', 'child'], ['67', '65', 'child']]}, '01408099_01408101': {'objects': ['0', '1', '2', '3', '4', '5', '6', '7', '8', '9', '10', '11', '12', '13', '14', '15', '16', '17', '18', '19', '20', '21', '22', '23', '24', '25', '26', '27', '28', '29', '30', '31', '32', '33', '34', '35', '36', '37', '38', '39', '40', '41', '42', '43', '44', '45', '46', '47', '48', '49', '50', '51'], 'relationships': [['0', '24', 'parent'], ['3', '29', 'child'], ['19', '48', 'child'], ['20', '48', 'child'], ['21', '48', 'child'], ['24', '0', 'child'], ['27', '28', 'parent'], ['28', '27', 'child'], ['29', '3', 'parent'], ['31', '33', 'parent'], ['32', '34', 'parent'], ['32', '36', 'parent'], ['32', '35', 'parent'], ['32', '37', 'parent'], ['33', '31', 'child'], ['34', '32', 'child'], ['35', '32', 'child'], ['36', '32', 'child'], ['37', '32', 'child'], ['47', '49', 'child'], ['48', '19', 'parent'], ['48', '20', 'parent'], ['48', '21', 'parent'], ['49', '47', 'parent']]}, '93329540': {'objects': ['0', '1', '2', '3', '4', '5', '6', '7', '8', '9', '10', '11', '12', '13', '14', '15', '16', '17', '18', '19', '20', '21', '22', '23', '24', '25', '26', '27', '28', '29', '30', '31', '32', '33', '34', '35', '36', '37', '38', '39', '40', '41'], 'relationships': [['0', '8', 'parent'], ['2', '9', 'parent'], ['3', '18', 'parent'], ['3', '19', 'parent'], ['3', '20', 'parent'], ['3', '21', 'parent'], ['3', '22', 'parent'], ['3', '23', 'parent'], ['3', '24', 'parent'], ['3', '25', 'parent'], ['3', '26', 'parent'], ['3', '27', 'parent'], ['3', '28', 'parent'], ['3', '29', 'parent'], ['3', '30', 'parent'], ['3', '31', 'parent'], ['3', '32', 'parent'], ['3', '33', 'parent'], ['3', '34', 'parent'], ['3', '35', 'parent'], ['3', '36', 'parent'], ['3', '37', 'parent'], ['3', '38', 'parent'], ['3', '39', 'parent'], ['3', '40', 'parent'], ['3', '41', 'parent'], ['6', '7', 'parent'], ['7', '6', 'child'], ['8', '0', 'child'], ['9', '2', 'child'], ['10', '11', 'child'], ['11', '10', 'parent'], ['16', '17', 'parent'], ['17', '16', 'child'], ['18', '3', 'child'], ['19', '3', 'child'], ['20', '3', 'child'], ['21', '3', 'child'], ['22', '3', 'child'], ['23', '3', 'child'], ['24', '3', 'child'], ['25', '3', 'child'], ['26', '3', 'child'], ['27', '3', 'child'], ['28', '3', 'child'], ['29', '3', 'child'], ['30', '3', 'child'], ['31', '3', 'child'], ['32', '3', 'child'], ['33', '3', 'child'], ['34', '3', 'child'], ['35', '3', 'child'], ['36', '3', 'child'], ['37', '3', 'child'], ['38', '3', 'child'], ['39', '3', 'child'], ['40', '3', 'child'], ['41', '3', 'child']]}, '00837285': {'objects': ['0', '1', '2', '3', '4', '5', '6', '7', '8', '9', '10', '11', '12', '13', '14', '15', '16', '17', '18', '19', '20', '21', '22', '23', '24', '25', '26', '27', '28', '29', '30', '31', '32', '33', '34', '35', '36', '37', '38', '39', '40', '41', '42', '43', '44', '45', '46', '47', '48', '49', '50', '51', '52', '53', '54', '55', '56', '57', '58', '59', '60', '61', '62', '63', '64', '65', '66', '67', '68', '69', '70', '71', '72', '73', '74', '75', '76', '77', '78'], 'relationships': [['0', '8', 'parent'], ['0', '7', 'parent'], ['0', '6', 'parent'], ['0', '47', 'parent'], ['1', '53', 'child'], ['2', '5', 'parent'], ['2', '3', 'parent'], ['2', '4', 'parent'], ['2', '48', 'parent'], ['3', '2', 'child'], ['4', '2', 'child'], ['5', '2', 'child'], ['6', '0', 'child'], ['7', '0', 'child'], ['8', '0', 'child'], ['9', '59', 'parent'], ['9', '60', 'parent'], ['9', '61', 'parent'], ['9', '62', 'parent'], ['9', '63', 'parent'], ['9', '64', 'parent'], ['10', '56', 'child'], ['10', '59', 'child'], ['11', '56', 'child'], ['11', '60', 'child'], ['12', '56', 'child'], ['12', '61', 'child'], ['13', '56', 'child'], ['13', '62', 'child'], ['14', '56', 'child'], ['14', '63', 'child'], ['15', '56', 'child'], ['15', '64', 'child'], ['16', '56', 'child'], ['16', '59', 'child'], ['17', '56', 'child'], ['17', '60', 'child'], ['18', '56', 'child'], ['18', '61', 'child'], ['19', '56', 'child'], ['19', '62', 'child'], ['20', '56', 'child'], ['20', '63', 'child'], ['21', '56', 'child'], ['21', '64', 'child'], ['22', '58', 'child'], ['22', '59', 'child'], ['23', '58', 'child'], ['23', '59', 'child'], ['23', '60', 'child'], ['24', '58', 'child'], ['24', '61', 'child'], ['25', '58', 'child'], ['25', '62', 'child'], ['26', '58', 'child'], ['26', '63', 'child'], ['27', '58', 'child'], ['27', '64', 'child'], ['28', '58', 'child'], ['28', '59', 'child'], ['29', '58', 'child'], ['29', '60', 'child'], ['30', '58', 'child'], ['30', '61', 'child'], ['31', '58', 'child'], ['31', '62', 'child'], ['32', '58', 'child'], ['32', '63', 'child'], ['33', '58', 'child'], ['33', '64', 'child'], ['35', '70', 'child'], ['36', '70', 'child'], ['37', '70', 'child'], ['38', '70', 'child'], ['39', '70', 'child'], ['40', '72', 'parent'], ['40', '73', 'parent'], ['40', '74', 'parent'], ['40', '75', 'parent'], ['41', '77', 'parent'], ['42', '43', 'parent'], ['43', '42', 'child'], ['44', '50', 'child'], ['45', '46', 'child'], ['46', '45', 'parent'], ['47', '0', 'child'], ['48', '2', 'child'], ['50', '44', 'parent'], ['53', '1', 'parent'], ['54', '55', 'parent'], ['55', '54', 'child'], ['56', '10', 'parent'], ['56', '11', 'parent'], ['56', '12', 'parent'], ['56', '13', 'parent'], ['56', '14', 'parent'], ['56', '15', 'parent'], ['56', '16', 'parent'], ['56', '17', 'parent'], ['56', '18', 'parent'], ['56', '19', 'parent'], ['56', '20', 'parent'], ['56', '21', 'parent'], ['56', '57', 'child'], ['57', '56', 'parent'], ['57', '58', 'parent'], ['58', '57', 'child'], ['58', '22', 'parent'], ['58', '23', 'parent'], ['58', '24', 'parent'], ['58', '25', 'parent'], ['58', '26', 'parent'], ['58', '27', 'parent'], ['58', '28', 'parent'], ['58', '29', 'parent'], ['58', '30', 'parent'], ['58', '31', 'parent'], ['58', '32', 'parent'], ['58', '33', 'parent'], ['59', '9', 'child'], ['59', '10', 'parent'], ['59', '16', 'parent'], ['59', '22', 'parent'], ['59', '23', 'parent'], ['59', '28', 'parent'], ['60', '9', 'child'], ['60', '11', 'parent'], ['60', '17', 'parent'], ['60', '23', 'parent'], ['60', '29', 'parent'], ['61', '9', 'child'], ['61', '12', 'parent'], ['61', '18', 'parent'], ['61', '24', 'parent'], ['61', '30', 'parent'], ['62', '9', 'child'], ['62', '13', 'parent'], ['62', '19', 'parent'], ['62', '25', 'parent'], ['62', '31', 'parent'], ['63', '9', 'child'], ['63', '14', 'parent'], ['63', '20', 'parent'], ['63', '26', 'parent'], ['63', '32', 'parent'], ['64', '9', 'child'], ['64', '15', 'parent'], ['64', '21', 'parent'], ['64', '27', 'parent'], ['64', '33', 'parent'], ['68', '69', 'parent'], ['69', '68', 'child'], ['70', '35', 'parent'], ['70', '36', 'parent'], ['70', '37', 'parent'], ['70', '38', 'parent'], ['70', '39', 'parent'], ['72', '40', 'child'], ['73', '40', 'child'], ['74', '40', 'child'], ['75', '40', 'child'], ['75', '76', 'child'], ['76', '75', 'parent'], ['77', '41', 'child']]}, '92094751': {'objects': ['0', '1', '2', '3', '4', '5', '6', '7', '8', '9', '10', '11', '12', '13', '14', '15', '16', '17', '18', '19', '20', '21', '22', '23', '24', '25', '26', '27', '28', '29', '30', '31', '32', '33', '34', '35', '36', '37', '38', '39', '40', '41', '42', '43', '44', '45', '46', '47', '48', '49', '50', '51', '52', '53', '54', '55', '56', '57', '58', '59', '60', '61', '62', '63', '64', '65', '66', '67', '68', '69', '70'], 'relationships': [['1', '44', 'parent'], ['2', '4', 'parent'], ['2', '5', 'parent'], ['2', '6', 'parent'], ['2', '7', 'parent'], ['3', '50', 'parent'], ['4', '2', 'child'], ['5', '2', 'child'], ['6', '2', 'child'], ['7', '2', 'child'], ['7', '32', 'parent'], ['8', '51', 'child'], ['9', '53', 'child'], ['10', '54', 'child'], ['11', '55', 'child'], ['12', '51', 'child'], ['13', '53', 'child'], ['14', '54', 'child'], ['15', '55', 'child'], ['16', '51', 'child'], ['17', '53', 'child'], ['18', '51', 'child'], ['19', '53', 'child'], ['19', '33', 'parent'], ['20', '54', 'child'], ['20', '34', 'parent'], ['21', '54', 'child'], ['22', '55', 'child'], ['23', '55', 'child'], ['23', '35', 'parent'], ['24', '56', 'parent'], ['24', '57', 'parent'], ['25', '61', 'parent'], ['25', '62', 'parent'], ['26', '60', 'child'], ['26', '36', 'parent'], ['27', '60', 'child'], ['28', '63', 'child'], ['28', '37', 'parent'], ['29', '63', 'child'], ['31', '45', 'child'], ['32', '7', 'child'], ['33', '19', 'child'], ['34', '20', 'child'], ['35', '23', 'child'], ['36', '26', 'child'], ['37', '28', 'child'], ['42', '43', 'child'], ['43', '42', 'parent'], ['44', '1', 'child'], ['45', '31', 'parent'], ['46', '47', 'parent'], ['47', '46', 'child'], ['48', '49', 'parent'], ['49', '48', 'child'], ['50', '3', 'child'], ['51', '16', 'parent'], ['51', '18', 'parent'], ['51', '12', 'parent'], ['51', '8', 'parent'], ['53', '19', 'parent'], ['53', '17', 'parent'], ['53', '13', 'parent'], ['53', '9', 'parent'], ['54', '20', 'parent'], ['54', '21', 'parent'], ['54', '14', 'parent'], ['54', '10', 'parent'], ['55', '23', 'parent'], ['55', '22', 'parent'], ['55', '15', 'parent'], ['55', '11', 'parent'], ['56', '24', 'child'], ['57', '24', 'child'], ['58', '59', 'child'], ['59', '58', 'parent'], ['60', '26', 'parent'], ['60', '27', 'parent'], ['61', '25', 'child'], ['62', '25', 'child'], ['63', '29', 'parent'], ['63', '28', 'parent'], ['64', '65', 'parent'], ['64', '66', 'parent'], ['65', '64', 'child'], ['66', '64', 'child'], ['67', '68', 'parent'], ['67', '69', 'parent'], ['68', '67', 'child'], ['69', '67', 'child']]}, '92314414': {'objects': ['0', '1', '2', '3', '4', '5', '6', '7', '8', '9', '10', '11', '12', '13', '14', '15', '16', '17', '18', '19', '20', '21', '22', '23', '24', '25', '26', '27', '28', '29', '30'], 'relationships': [['0', '9', 'parent'], ['1', '2', 'parent'], ['2', '1', 'child'], ['3', '16', 'parent'], ['4', '29', 'parent'], ['4', '20', 'child'], ['5', '6', 'parent'], ['5', '20', 'child'], ['6', '5', 'child'], ['9', '0', 'child'], ['16', '3', 'child'], ['20', '21', 'parent'], ['20', '22', 'parent'], ['20', '23', 'parent'], ['20', '24', 'parent'], ['20', '5', 'parent'], ['20', '4', 'parent'], ['21', '25', 'parent'], ['21', '20', 'child'], ['22', '26', 'parent'], ['22', '20', 'child'], ['23', '27', 'parent'], ['23', '20', 'child'], ['24', '28', 'parent'], ['24', '20', 'child'], ['25', '21', 'child'], ['26', '22', 'child'], ['27', '23', 'child'], ['28', '24', 'child'], ['29', '4', 'child']]}, '0001485288': {'objects': ['0', '1', '2', '3', '4', '5', '6', '7', '8', '9', '10', '11', '12', '13', '14', '15', '16', '17', '18', '19', '20', '21', '22', '23', '24', '25', '26', '27', '28', '29'], 'relationships': [['0', '7', 'child'], ['1', '21', 'child'], ['1', '18', 'child'], ['3', '29', 'parent'], ['4', '21', 'child'], ['4', '19', 'child'], ['7', '0', 'parent'], ['11', '13', 'parent'], ['12', '14', 'parent'], ['13', '11', 'child'], ['14', '12', 'child'], ['15', '16', 'parent'], ['16', '15', 'child'], ['18', '1', 'parent'], ['19', '4', 'parent'], ['20', '21', 'parent'], ['20', '22', 'parent'], ['21', '20', 'child'], ['21', '1', 'parent'], ['21', '4', 'parent'], ['22', '20', 'child'], ['24', '25', 'parent'], ['25', '24', 'child'], ['27', '28', 'parent'], ['28', '27', 'child'], ['29', '3', 'child']]}, '71202511': {'objects': ['0', '1', '2', '3', '4', '5', '6', '7', '8', '9', '10', '11', '12', '13', '14', '15', '16', '17', '18', '19', '20', '21', '22', '23', '24', '25', '26', '27', '28', '29', '30', '31', '32', '33', '34', '35', '36', '37', '38', '39', '40', '41', '42', '43', '44', '45', '46', '47', '48', '49', '50', '51', '52', '53', '54', '55', '56', '57', '58', '59', '60', '61', '62', '63', '64', '65', '66', '67', '68', '69', '70', '71', '72', '73', '74', '75', '76', '77', '78'], 'relationships': [['0', '28', 'parent'], ['1', '29', 'parent'], ['2', '41', 'parent'], ['3', '5', 'parent'], ['3', '11', 'parent'], ['4', '33', 'child'], ['4', '8', 'parent'], ['5', '9', 'parent'], ['5', '3', 'child'], ['6', '37', 'child'], ['7', '38', 'child'], ['8', '4', 'child'], ['9', '5', 'child'], ['10', '33', 'child'], ['11', '3', 'child'], ['12', '30', 'parent'], ['15', '49', 'child'], ['16', '54', 'child'], ['18', '71', 'parent'], ['19', '72', 'parent'], ['23', '76', 'parent'], ['24', '77', 'parent'], ['28', '0', 'child'], ['29', '1', 'child'], ['30', '12', 'child'], ['31', '32', 'parent'], ['32', '31', 'child'], ['33', '4', 'parent'], ['33', '10', 'parent'], ['36', '40', 'parent'], ['37', '6', 'parent'], ['38', '7', 'parent'], ['40', '36', 'child'], ['41', '2', 'child'], ['42', '43', 'parent'], ['43', '42', 'child'], ['44', '46', 'child'], ['45', '48', 'child'], ['46', '44', 'parent'], ['48', '45', 'parent'], ['49', '15', 'parent'], ['50', '52', 'child'], ['51', '53', 'child'], ['52', '50', 'parent'], ['53', '51', 'parent'], ['54', '16', 'parent'], ['55', '56', 'parent'], ['56', '55', 'child'], ['57', '60', 'parent'], ['58', '60', 'parent'], ['60', '57', 'child'], ['60', '58', 'child'], ['61', '70', 'parent'], ['62', '69', 'parent'], ['63', '68', 'parent'], ['64', '67', 'parent'], ['65', '66', 'parent'], ['66', '65', 'child'], ['67', '64', 'child'], ['68', '63', 'child'], ['69', '62', 'child'], ['70', '61', 'child'], ['71', '18', 'child'], ['72', '19', 'child'], ['73', '74', 'child'], ['74', '73', 'parent'], ['76', '23', 'child'], ['77', '24', 'child']]}, '89368010': {'objects': ['0', '1', '2', '3', '4', '5', '6', '7', '8', '9', '10', '11', '12', '13', '14', '15', '16', '17', '18', '19', '20', '21', '22', '23', '24', '25', '26', '27', '28', '29', '30', '31', '32', '33', '34', '35', '36', '37', '38', '39', '40'], 'relationships': [['0', '1', 'parent'], ['1', '0', 'child'], ['2', '31', 'child'], ['3', '32', 'parent'], ['3', '33', 'parent'], ['3', '34', 'parent'], ['4', '35', 'child'], ['5', '35', 'child'], ['6', '35', 'child'], ['7', '35', 'child'], ['7', '36', 'child'], ['8', '35', 'child'], ['8', '37', 'child'], ['9', '35', 'child'], ['9', '38', 'child'], ['10', '39', 'child'], ['11', '40', 'child'], ['15', '24', 'parent'], ['16', '23', 'parent'], ['17', '22', 'parent'], ['18', '21', 'parent'], ['19', '20', 'parent'], ['20', '19', 'child'], ['21', '18', 'child'], ['22', '17', 'child'], ['23', '16', 'child'], ['24', '15', 'child'], ['25', '26', 'parent'], ['25', '27', 'parent'], ['26', '25', 'child'], ['27', '25', 'child'], ['28', '29', 'parent'], ['28', '30', 'parent'], ['29', '28', 'child'], ['30', '28', 'child'], ['31', '2', 'parent'], ['32', '3', 'child'], ['33', '3', 'child'], ['34', '3', 'child'], ['35', '4', 'parent'], ['35', '5', 'parent'], ['35', '6', 'parent'], ['35', '7', 'parent'], ['35', '8', 'parent'], ['35', '9', 'parent'], ['36', '7', 'parent'], ['37', '8', 'parent'], ['38', '9', 'parent'], ['39', '10', 'parent'], ['40', '11', 'parent']]}, '0012199830': {'objects': ['0', '1', '2', '3', '4', '5', '6', '7', '8', '9', '10', '11', '12', '13', '14', '15', '16', '17', '18', '19', '20', '21', '22', '23', '24', '25', '26'], 'relationships': [['0', '1', 'parent'], ['1', '0', 'child'], ['2', '8', 'parent'], ['3', '26', 'parent'], ['5', '20', 'child'], ['8', '2', 'child'], ['11', '12', 'child'], ['12', '11', 'parent'], ['13', '14', 'parent'], ['13', '15', 'parent'], ['13', '16', 'parent'], ['13', '17', 'parent'], ['13', '18', 'parent'], ['13', '19', 'parent'], ['14', '13', 'child'], ['15', '13', 'child'], ['16', '13', 'child'], ['17', '13', 'child'], ['18', '13', 'child'], ['19', '13', 'child'], ['20', '21', 'parent'], ['20', '5', 'parent'], ['20', '22', 'parent'], ['20', '23', 'parent'], ['21', '20', 'child'], ['22', '20', 'child'], ['23', '20', 'child'], ['24', '25', 'parent'], ['25', '24', 'child'], ['26', '3', 'child']]}, '92091873': {'objects': ['0', '1', '2', '3', '4', '5', '6', '7', '8', '9', '10', '11', '12', '13', '14', '15', '16', '17', '18', '19', '20', '21', '22', '23', '24', '25', '26', '27', '28', '29', '30', '31', '32', '33', '34', '35', '36', '37', '38', '39', '40', '41', '42', '43', '44', '45', '46', '47', '48', '49', '50', '51', '52', '53', '54', '55', '56', '57', '58', '59', '60', '61', '62', '63', '64', '65', '66', '67', '68', '69', '70'], 'relationships': [['0', '39', 'parent'], ['1', '40', 'parent'], ['2', '11', 'parent'], ['2', '51', 'parent'], ['2', '52', 'parent'], ['3', '48', 'child'], ['3', '5', 'parent'], ['4', '48', 'child'], ['4', '8', 'parent'], ['5', '3', 'child'], ['6', '49', 'child'], ['7', '50', 'child'], ['8', '4', 'child'], ['9', '11', 'child'], ['10', '52', 'child'], ['11', '2', 'child'], ['11', '9', 'parent'], ['12', '35', 'parent'], ['12', '36', 'parent'], ['12', '37', 'parent'], ['13', '35', 'parent'], ['13', '36', 'parent'], ['13', '37', 'parent'], ['14', '57', 'parent'], ['14', '58', 'parent'], ['14', '59', 'parent'], ['15', '56', 'child'], ['15', '18', 'parent'], ['16', '56', 'child'], ['16', '19', 'parent'], ['17', '56', 'child'], ['17', '20', 'parent'], ['18', '15', 'child'], ['19', '16', 'child'], ['20', '17', 'child'], ['21', '57', 'child'], ['22', '58', 'child'], ['23', '59', 'child'], ['24', '67', 'child'], ['24', '29', 'parent'], ['25', '67', 'child'], ['25', '30', 'parent'], ['26', '67', 'child'], ['26', '31', 'parent'], ['29', '24', 'child'], ['30', '25', 'child'], ['31', '26', 'child'], ['33', '70', 'parent'], ['35', '12', 'child'], ['35', '13', 'child'], ['36', '12', 'child'], ['36', '13', 'child'], ['37', '12', 'child'], ['37', '13', 'child'], ['39', '0', 'child'], ['40', '1', 'child'], ['41', '44', 'child'], ['42', '43', 'parent'], ['43', '42', 'child'], ['44', '41', 'parent'], ['45', '46', 'parent'], ['45', '47', 'parent'], ['46', '45', 'child'], ['47', '45', 'child'], ['48', '3', 'parent'], ['48', '49', 'parent'], ['48', '50', 'parent'], ['48', '4', 'parent'], ['49', '48', 'child'], ['49', '6', 'parent'], ['50', '48', 'child'], ['50', '7', 'parent'], ['51', '2', 'child'], ['51', '54', 'parent'], ['52', '2', 'child'], ['52', '10', 'parent'], ['53', '55', 'parent'], ['54', '51', 'child'], ['55', '53', 'child'], ['56', '15', 'parent'], ['56', '16', 'parent'], ['56', '17', 'parent'], ['57', '14', 'child'], ['57', '21', 'parent'], ['58', '14', 'child'], ['58', '22', 'parent'], ['59', '14', 'child'], ['59', '23', 'parent'], ['60', '61', 'parent'], ['60', '62', 'parent'], ['60', '63', 'parent'], ['60', '64', 'parent'], ['61', '60', 'child'], ['62', '60', 'child'], ['63', '60', 'child'], ['64', '60', 'child'], ['65', '66', 'parent'], ['66', '65', 'child'], ['67', '24', 'parent'], ['67', '25', 'parent'], ['67', '26', 'parent'], ['68', '69', 'parent'], ['69', '68', 'child'], ['70', '33', 'child']]}, '11875011': {'objects': ['0', '1', '2', '3', '4', '5', '6', '7', '8', '9', '10', '11', '12', '13', '14', '15', '16', '17', '18', '19', '20', '21', '22', '23', '24', '25', '26', '27', '28', '29'], 'relationships': [['0', '11', 'parent'], ['7', '26', 'child'], ['9', '12', 'child'], ['10', '13', 'child'], ['11', '0', 'child'], ['12', '9', 'parent'], ['13', '10', 'parent'], ['26', '7', 'parent'], ['27', '28', 'parent'], ['28', '27', 'child']]}, '92657311_7313': {'objects': ['0', '1', '2', '3', '4', '5', '6', '7', '8', '9', '10', '11', '12', '13', '14', '15', '16', '17', '18', '19', '20', '21', '22', '23', '24', '25', '26', '27', '28', '29', '30'], 'relationships': [['0', '10', 'parent'], ['1', '11', 'parent'], ['2', '12', 'parent'], ['3', '17', 'parent'], ['4', '16', 'child'], ['5', '18', 'child'], ['5', '6', 'parent'], ['6', '5', 'child'], ['8', '18', 'child'], ['9', '13', 'parent'], ['9', '14', 'parent'], ['9', '15', 'parent'], ['9', '16', 'parent'], ['10', '0', 'child'], ['11', '1', 'child'], ['12', '2', 'child'], ['13', '9', 'child'], ['14', '9', 'child'], ['15', '9', 'child'], ['16', '9', 'child'], ['16', '4', 'parent'], ['17', '3', 'child'], ['18', '5', 'parent'], ['18', '19', 'parent'], ['18', '8', 'parent'], ['18', '20', 'parent'], ['19', '18', 'child'], ['20', '18', 'child'], ['21', '22', 'parent'], ['22', '21', 'child'], ['23', '24', 'parent'], ['23', '25', 'parent'], ['23', '26', 'parent'], ['24', '23', 'child'], ['24', '27', 'parent'], ['25', '23', 'child'], ['25', '28', 'parent'], ['26', '23', 'child'], ['26', '29', 'parent'], ['27', '24', 'child'], ['28', '25', 'child'], ['29', '26', 'child']]}, '91974562': {'objects': ['0', '1', '2', '3', '4', '5', '6', '7', '8', '9', '10', '11', '12', '13', '14', '15', '16', '17', '18', '19', '20', '21', '22', '23', '24', '25', '26', '27', '28', '29', '30', '31', '32', '33', '34', '35', '36', '37', '38', '39'], 'relationships': [['0', '12', 'parent'], ['1', '13', 'parent'], ['2', '14', 'parent'], ['3', '16', 'child'], ['4', '18', 'child'], ['5', '17', 'parent'], ['7', '37', 'child'], ['8', '38', 'child'], ['9', '39', 'child'], ['12', '0', 'child'], ['13', '1', 'child'], ['14', '2', 'child'], ['16', '3', 'parent'], ['17', '5', 'child'], ['18', '4', 'parent'], ['20', '22', 'parent'], ['21', '23', 'parent'], ['22', '20', 'child'], ['23', '21', 'child'], ['24', '25', 'parent'], ['25', '24', 'child'], ['26', '27', 'parent'], ['27', '26', 'child'], ['28', '29', 'parent'], ['29', '28', 'child'], ['31', '32', 'parent'], ['32', '31', 'child'], ['33', '34', 'child'], ['34', '33', 'parent'], ['35', '36', 'parent'], ['35', '37', 'parent'], ['35', '38', 'parent'], ['35', '39', 'parent'], ['36', '35', 'child'], ['37', '35', 'child'], ['37', '7', 'parent'], ['38', '35', 'child'], ['38', '8', 'parent'], ['39', '35', 'child'], ['39', '9', 'parent']]}, '0060007216': {'objects': ['0', '1', '2', '3', '4', '5', '6', '7', '8', '9', '10', '11', '12', '13', '14', '15', '16', '17', '18', '19', '20', '21', '22', '23', '24', '25', '26', '27', '28', '29', '30'], 'relationships': [['0', '19', 'parent'], ['1', '13', 'child'], ['2', '24', 'parent'], ['2', '4', 'parent'], ['4', '2', 'child'], ['5', '6', 'parent'], ['5', '7', 'parent'], ['5', '8', 'parent'], ['5', '9', 'parent'], ['5', '10', 'parent'], ['5', '11', 'parent'], ['5', '28', 'parent'], ['5', '27', 'parent'], ['6', '5', 'child'], ['7', '5', 'child'], ['8', '5', 'child'], ['9', '5', 'child'], ['10', '5', 'child'], ['11', '5', 'child'], ['13', '1', 'parent'], ['14', '20', 'parent'], ['15', '21', 'parent'], ['16', '22', 'parent'], ['17', '23', 'parent'], ['18', '25', 'parent'], ['19', '0', 'child'], ['20', '14', 'child'], ['21', '15', 'child'], ['22', '16', 'child'], ['23', '17', 'child'], ['24', '2', 'child'], ['25', '18', 'child'], ['26', '30', 'parent'], ['27', '5', 'child'], ['28', '5', 'child'], ['30', '26', 'child']]}, '0012529295': {'objects': ['0', '1', '2', '3', '4', '5', '6', '7', '8', '9', '10', '11', '12', '13', '14', '15', '16', '17', '18', '19', '20', '21', '22', '23', '24', '25', '26', '27', '28', '29', '30', '31', '32', '33', '34', '35', '36', '37', '38', '39', '40', '41', '42', '43', '44', '45', '46', '47', '48', '49', '50', '51', '52', '53', '54', '55', '56', '57', '58', '59', '60', '61', '62', '63', '64', '65', '66', '67', '68', '69', '70', '71', '72', '73', '74', '75', '76', '77', '78', '79', '80', '81', '82', '83', '84', '85', '86', '87'], 'relationships': [['0', '25', 'parent'], ['1', '31', 'child'], ['1', '42', 'parent'], ['1', '43', 'parent'], ['2', '44', 'parent'], ['2', '45', 'parent'], ['2', '46', 'parent'], ['2', '47', 'parent'], ['3', '14', 'child'], ['4', '33', 'child'], ['5', '33', 'child'], ['6', '85', 'parent'], ['7', '86', 'parent'], ['11', '78', 'parent'], ['12', '79', 'parent'], ['12', '80', 'parent'], ['12', '81', 'parent'], ['13', '24', 'parent'], ['14', '30', 'child'], ['14', '3', 'parent'], ['15', '30', 'child'], ['17', '83', 'child'], ['24', '13', 'child'], ['25', '0', 'child'], ['26', '27', 'parent'], ['27', '26', 'child'], ['28', '29', 'parent'], ['29', '28', 'child'], ['30', '14', 'parent'], ['30', '15', 'parent'], ['31', '1', 'parent'], ['31', '32', 'parent'], ['31', '33', 'parent'], ['31', '34', 'parent'], ['31', '35', 'parent'], ['32', '31', 'child'], ['32', '40', 'parent'], ['32', '41', 'parent'], ['33', '31', 'child'], ['33', '4', 'parent'], ['33', '5', 'parent'], ['34', '31', 'child'], ['34', '39', 'parent'], ['34', '38', 'parent'], ['35', '31', 'child'], ['35', '36', 'parent'], ['35', '37', 'parent'], ['36', '35', 'child'], ['37', '35', 'child'], ['38', '34', 'child'], ['39', '34', 'child'], ['40', '32', 'child'], ['41', '32', 'child'], ['42', '1', 'child'], ['43', '1', 'child'], ['44', '48', 'parent'], ['44', '2', 'child'], ['45', '49', 'parent'], ['45', '2', 'child'], ['46', '50', 'parent'], ['46', '2', 'child'], ['47', '51', 'parent'], ['47', '2', 'child'], ['48', '44', 'child'], ['49', '45', 'child'], ['50', '46', 'child'], ['51', '47', 'child'], ['52', '53', 'parent'], ['52', '54', 'parent'], ['52', '55', 'parent'], ['53', '56', 'parent'], ['53', '52', 'child'], ['54', '57', 'parent'], ['54', '52', 'child'], ['55', '58', 'parent'], ['55', '52', 'child'], ['56', '53', 'child'], ['57', '54', 'child'], ['58', '55', 'child'], ['59', '60', 'parent'], ['60', '59', 'child'], ['61', '62', 'child'], ['62', '61', 'parent'], ['63', '64', 'parent'], ['64', '63', 'child'], ['65', '66', 'parent'], ['66', '65', 'child'], ['67', '68', 'parent'], ['68', '67', 'child'], ['69', '75', 'parent'], ['71', '76', 'parent'], ['74', '77', 'parent'], ['75', '69', 'child'], ['76', '71', 'child'], ['77', '74', 'child'], ['78', '11', 'child'], ['79', '12', 'child'], ['80', '12', 'child'], ['81', '12', 'child'], ['82', '84', 'parent'], ['83', '17', 'parent'], ['84', '82', 'child'], ['85', '6', 'child'], ['86', '7', 'child']]}, '0060080406': {'objects': ['0', '1', '2', '3', '4', '5', '6', '7', '8', '9', '10', '11', '12', '13', '14', '15', '16', '17', '18', '19', '20', '21', '22', '23', '24', '25', '26', '27', '28', '29', '30', '31', '32', '33', '34', '35', '36', '37', '38', '39', '40', '41', '42', '43', '44', '45', '46', '47', '48', '49', '50', '51', '52', '53', '54', '55', '56', '57', '58'], 'relationships': [['2', '34', 'parent'], ['5', '31', 'parent'], ['5', '32', 'parent'], ['8', '38', 'parent'], ['8', '39', 'parent'], ['13', '17', 'parent'], ['13', '18', 'parent'], ['13', '19', 'parent'], ['13', '20', 'parent'], ['13', '50', 'parent'], ['13', '21', 'parent'], ['13', '22', 'parent'], ['13', '51', 'parent'], ['14', '52', 'parent'], ['14', '49', 'child'], ['15', '53', 'parent'], ['15', '49', 'child'], ['16', '54', 'parent'], ['16', '49', 'child'], ['17', '13', 'child'], ['18', '13', 'child'], ['19', '13', 'child'], ['20', '13', 'child'], ['21', '13', 'child'], ['22', '13', 'child'], ['23', '57', 'child'], ['31', '5', 'child'], ['32', '5', 'child'], ['34', '2', 'child'], ['38', '8', 'child'], ['39', '8', 'child'], ['49', '14', 'parent'], ['49', '15', 'parent'], ['49', '16', 'parent'], ['50', '13', 'child'], ['51', '13', 'child'], ['52', '14', 'child'], ['53', '15', 'child'], ['54', '16', 'child'], ['55', '58', 'parent'], ['57', '23', 'parent'], ['58', '55', 'child']]}, '0060000813': {'objects': ['0', '1', '2', '3', '4', '5', '6', '7', '8', '9', '10', '11', '12', '13', '14', '15', '16', '17', '18', '19', '20', '21', '22', '23', '24', '25', '26', '27', '28', '29', '30', '31', '32', '33', '34', '35', '36', '37', '38', '39', '40', '41', '42', '43', '44', '45', '46', '47'], 'relationships': [['0', '30', 'parent'], ['0', '31', 'parent'], ['0', '28', 'child'], ['1', '28', 'child'], ['2', '28', 'child'], ['3', '20', 'parent'], ['3', '28', 'child'], ['4', '21', 'parent'], ['4', '32', 'child'], ['5', '34', 'parent'], ['5', '32', 'child'], ['6', '35', 'parent'], ['6', '32', 'child'], ['7', '22', 'parent'], ['7', '39', 'child'], ['8', '40', 'parent'], ['8', '39', 'child'], ['9', '41', 'parent'], ['9', '39', 'child'], ['10', '39', 'child'], ['11', '39', 'child'], ['12', '39', 'child'], ['13', '43', 'child'], ['14', '43', 'child'], ['15', '43', 'child'], ['16', '45', 'child'], ['17', '45', 'child'], ['18', '45', 'child'], ['19', '39', 'child'], ['20', '3', 'child'], ['21', '4', 'child'], ['22', '7', 'child'], ['24', '25', 'parent'], ['25', '24', 'child'], ['26', '27', 'parent'], ['27', '26', 'child'], ['28', '3', 'parent'], ['28', '29', 'parent'], ['28', '0', 'parent'], ['28', '2', 'parent'], ['28', '1', 'parent'], ['29', '28', 'child'], ['30', '0', 'child'], ['31', '0', 'child'], ['32', '36', 'parent'], ['32', '4', 'parent'], ['32', '5', 'parent'], ['32', '6', 'parent'], ['33', '36', 'child'], ['34', '5', 'child'], ['35', '6', 'child'], ['36', '33', 'parent'], ['36', '32', 'child'], ['37', '38', 'parent'], ['37', '39', 'child'], ['38', '37', 'child'], ['39', '37', 'parent'], ['39', '7', 'parent'], ['39', '8', 'parent'], ['39', '9', 'parent'], ['39', '10', 'parent'], ['39', '42', 'parent'], ['39', '11', 'parent'], ['39', '12', 'parent'], ['39', '19', 'parent'], ['40', '8', 'child'], ['41', '9', 'child'], ['42', '39', 'child'], ['43', '44', 'parent'], ['43', '13', 'parent'], ['43', '14', 'parent'], ['43', '15', 'parent'], ['44', '43', 'child'], ['45', '46', 'parent'], ['45', '16', 'parent'], ['45', '17', 'parent'], ['45', '18', 'parent'], ['46', '45', 'child']]}, '88547278_88547279': {'objects': ['0', '1', '2', '3', '4', '5', '6', '7', '8', '9', '10', '11', '12', '13', '14', '15', '16', '17', '18', '19', '20', '21', '22', '23', '24', '25', '26', '27', '28', '29', '30', '31', '32', '33', '34', '35', '36', '37', '38', '39'], 'relationships': [['0', '20', 'parent'], ['1', '27', 'parent'], ['3', '12', 'parent'], ['4', '19', 'parent'], ['5', '37', 'parent'], ['6', '38', 'parent'], ['10', '11', 'child'], ['11', '10', 'parent'], ['12', '3', 'child'], ['13', '14', 'parent'], ['14', '13', 'child'], ['15', '16', 'parent'], ['16', '15', 'child'], ['17', '18', 'parent'], ['18', '17', 'child'], ['19', '4', 'child'], ['20', '0', 'child'], ['21', '22', 'parent'], ['22', '21', 'child'], ['23', '24', 'parent'], ['24', '23', 'child'], ['25', '26', 'parent'], ['26', '25', 'child'], ['27', '1', 'child'], ['28', '29', 'parent'], ['29', '28', 'child'], ['31', '32', 'parent'], ['32', '31', 'child'], ['34', '39', 'parent'], ['37', '5', 'child'], ['38', '6', 'child'], ['39', '34', 'child']]}, '91361993': {'objects': ['0', '1', '2', '3', '4', '5', '6', '7', '8', '9', '10', '11', '12', '13', '14', '15', '16', '17', '18', '19', '20', '21', '22', '23', '24', '25', '26', '27', '28', '29', '30', '31', '32', '33', '34', '35', '36', '37', '38', '39'], 'relationships': [['0', '8', 'parent'], ['0', '5', 'child'], ['1', '5', 'child'], ['2', '9', 'parent'], ['2', '5', 'child'], ['4', '34', None], ['4', '36', None], ['4', '35', None], ['4', '37', None], ['4', '38', None], ['4', '39', None], ['4', '28', None], ['4', '29', None], ['4', '30', None], ['4', '31', None], ['4', '32', None], ['4', '33', None], ['4', '21', None], ['4', '22', None], ['4', '23', None], ['4', '24', None], ['4', '25', None], ['4', '26', None], ['4', '27', None], ['4', '18', None], ['4', '19', None], ['4', '20', None], ['4', '5', 'child'], ['5', '7', 'parent'], ['5', '0', 'parent'], ['5', '1', 'parent'], ['5', '2', 'parent'], ['5', '11', 'parent'], ['5', '12', 'parent'], ['5', '13', 'parent'], ['5', '14', 'parent'], ['5', '15', 'parent'], ['5', '16', 'parent'], ['5', '4', 'parent'], ['6', '7', 'child'], ['7', '6', 'parent'], ['7', '5', 'child'], ['8', '0', 'child'], ['9', '2', 'child'], ['10', '11', 'child'], ['11', '10', 'parent'], ['11', '5', 'child'], ['12', '5', 'child'], ['13', '5', 'child'], ['14', '5', 'child'], ['15', '5', 'child'], ['16', '17', 'parent'], ['16', '5', 'child'], ['17', '16', 'child'], ['18', '4', None], ['19', '4', None], ['20', '4', None], ['21', '4', None], ['22', '4', None], ['23', '4', None], ['24', '4', None], ['25', '4', None], ['26', '4', None], ['27', '4', None], ['28', '4', None], ['29', '4', None], ['30', '4', None], ['31', '4', None], ['32', '4', None], ['33', '4', None], ['34', '4', None], ['35', '4', None], ['36', '4', None], ['37', '4', None], ['38', '4', None], ['39', '4', None]]}, '0011856542': {'objects': ['0', '1', '2', '3', '4', '5', '6', '7', '8', '9', '10', '11', '12', '13', '14', '15', '16', '17'], 'relationships': [['0', '2', 'parent'], ['1', '7', 'child'], ['2', '0', 'child'], ['3', '12', 'child'], ['4', '17', 'parent'], ['5', '16', 'child'], ['7', '1', 'parent'], ['8', '9', 'parent'], ['9', '8', 'child'], ['10', '11', 'child'], ['11', '10', 'parent'], ['12', '3', 'parent'], ['13', '14', 'parent'], ['14', '13', 'child'], ['16', '5', 'parent'], ['17', '4', 'child']]}, '91356315': {'objects': ['0', '1', '2', '3', '4', '5', '6', '7', '8', '9', '10', '11', '12', '13', '14', '15', '16', '17', '18', '19', '20', '21', '22', '23', '24', '25', '26', '27', '28', '29', '30', '31', '32', '33', '34'], 'relationships': [['0', '7', 'parent'], ['0', '4', 'child'], ['1', '10', 'parent'], ['1', '4', 'child'], ['3', '29', 'parent'], ['3', '31', 'parent'], ['3', '30', 'parent'], ['3', '32', 'parent'], ['3', '33', 'parent'], ['3', '34', 'parent'], ['3', '22', 'parent'], ['3', '24', 'parent'], ['3', '23', 'parent'], ['3', '26', 'parent'], ['3', '26', 'parent'], ['3', '25', 'parent'], ['3', '27', 'parent'], ['3', '28', 'parent'], ['3', '17', 'parent'], ['3', '18', 'parent'], ['3', '19', 'parent'], ['3', '20', 'parent'], ['3', '21', 'parent'], ['3', '4', 'child'], ['4', '5', 'parent'], ['4', '0', 'parent'], ['4', '8', 'parent'], ['4', '1', 'parent'], ['4', '11', 'parent'], ['4', '13', 'parent'], ['4', '15', 'parent'], ['4', '16', 'parent'], ['4', '3', 'parent'], ['5', '6', 'parent'], ['5', '4', 'child'], ['6', '5', 'child'], ['7', '0', 'child'], ['8', '9', 'parent'], ['8', '4', 'child'], ['9', '8', 'child'], ['10', '1', 'child'], ['11', '12', 'parent'], ['11', '4', 'child'], ['12', '11', 'child'], ['13', '14', 'parent'], ['13', '4', 'child'], ['14', '13', 'child'], ['15', '4', 'child'], ['16', '4', 'child'], ['17', '3', 'child'], ['18', '3', 'child'], ['19', '3', 'child'], ['20', '3', 'child'], ['21', '3', 'child'], ['22', '3', 'child'], ['23', '3', 'child'], ['24', '3', 'child'], ['25', '3', 'child'], ['26', '3', 'child'], ['26', '3', 'child'], ['27', '3', 'child'], ['28', '3', 'child'], ['29', '3', 'child'], ['30', '3', 'child'], ['31', '3', 'child'], ['32', '3', 'child'], ['33', '3', 'child'], ['34', '3', 'child']]}, '92081358_1359': {'objects': ['0', '1', '2', '3', '4', '5', '6', '7', '8', '9', '10', '11', '12', '13', '14', '15', '16', '17', '18', '19', '20', '21', '22', '23', '24', '25', '26', '27', '28', '29', '30', '31', '32', '33', '34', '35', '36', '37', '38', '39', '40', '41', '42', '43', '44', '45', '46', '47', '48', '49', '50', '51', '52', '53'], 'relationships': [['0', '28', 'parent'], ['1', '31', 'child'], ['2', '34', 'child'], ['3', '32', 'child'], ['4', '33', 'child'], ['5', '35', 'child'], ['6', '42', 'child'], ['6', '43', 'child'], ['7', '21', 'child'], ['7', '43', 'child'], ['8', '42', 'child'], ['8', '44', 'child'], ['9', '21', 'child'], ['9', '44', 'child'], ['10', '42', 'child'], ['10', '45', 'child'], ['11', '21', 'child'], ['11', '45', 'child'], ['12', '42', 'child'], ['12', '46', 'child'], ['13', '21', 'child'], ['13', '46', 'child'], ['14', '21', 'child'], ['14', '20', 'child'], ['15', '21', 'child'], ['15', '19', 'child'], ['16', '42', 'child'], ['16', '19', 'child'], ['17', '42', 'child'], ['17', '20', 'child'], ['18', '49', 'child'], ['19', '16', 'parent'], ['19', '15', 'parent'], ['20', '17', 'parent'], ['20', '14', 'parent'], ['21', '7', 'parent'], ['21', '9', 'parent'], ['21', '11', 'parent'], ['21', '13', 'parent'], ['21', '15', 'parent'], ['21', '14', 'parent'], ['28', '0', 'child'], ['30', '31', 'parent'], ['30', '32', 'parent'], ['30', '33', 'parent'], ['30', '34', 'parent'], ['30', '35', 'parent'], ['31', '30', 'child'], ['31', '1', 'parent'], ['32', '30', 'child'], ['32', '3', 'parent'], ['33', '30', 'child'], ['33', '4', 'parent'], ['34', '30', 'child'], ['34', '2', 'parent'], ['35', '30', 'child'], ['35', '5', 'parent'], ['36', '37', 'parent'], ['36', '38', 'parent'], ['37', '36', 'child'], ['38', '36', 'child'], ['39', '40', 'parent'], ['40', '39', 'child'], ['42', '6', 'parent'], ['42', '8', 'parent'], ['42', '10', 'parent'], ['42', '12', 'parent'], ['42', '16', 'parent'], ['42', '17', 'parent'], ['43', '6', 'parent'], ['43', '7', 'parent'], ['44', '8', 'parent'], ['44', '9', 'parent'], ['45', '10', 'parent'], ['45', '11', 'parent'], ['46', '12', 'parent'], ['46', '13', 'parent'], ['47', '48', 'parent'], ['48', '47', 'child'], ['49', '18', 'parent'], ['50', '52', 'parent'], ['51', '52', 'parent'], ['52', '50', 'child'], ['52', '51', 'child']]}, '0001476912': {'objects': ['0', '1', '2', '3', '4', '5', '6', '7', '8', '9', '10', '11', '12', '13', '14', '15', '16', '17', '18', '19', '20', '21', '22', '23', '24', '25', '26', '27', '28', '29', '30', '31', '32', '33', '34', '35', '36', '37', '38', '39', '40', '41', '42', '43', '44', '45', '46', '47', '48', '49', '50', '51'], 'relationships': [['0', '47', 'parent'], ['1', '35', 'parent'], ['2', '38', 'parent'], ['3', '42', 'parent'], ['4', '8', 'parent'], ['5', '6', 'parent'], ['6', '5', 'child'], ['6', '43', 'child'], ['8', '4', 'child'], ['9', '39', 'child'], ['10', '20', 'parent'], ['11', '48', 'parent'], ['11', '12', 'parent'], ['11', '21', 'parent'], ['11', '22', 'parent'], ['12', '11', 'child'], ['13', '16', 'parent'], ['13', '15', 'parent'], ['14', '17', 'parent'], ['14', '18', 'parent'], ['14', '19', 'parent'], ['14', '49', 'parent'], ['15', '13', 'child'], ['15', '23', 'parent'], ['16', '13', 'child'], ['16', '24', 'parent'], ['17', '14', 'child'], ['17', '25', 'parent'], ['18', '14', 'child'], ['18', '26', 'parent'], ['19', '14', 'child'], ['19', '27', 'parent'], ['20', '10', 'child'], ['21', '11', 'child'], ['21', '46', 'child'], ['22', '11', 'child'], ['22', '46', 'child'], ['23', '46', 'child'], ['23', '15', 'child'], ['24', '46', 'child'], ['24', '16', 'child'], ['25', '46', 'child'], ['25', '17', 'child'], ['26', '46', 'child'], ['26', '18', 'child'], ['27', '46', 'child'], ['27', '19', 'child'], ['28', '46', 'child'], ['28', '49', 'child'], ['30', '46', 'child'], ['30', '50', 'child'], ['31', '46', 'child'], ['31', '51', 'child'], ['35', '1', 'child'], ['36', '37', 'parent'], ['37', '36', 'child'], ['38', '2', 'child'], ['39', '9', 'parent'], ['40', '41', 'parent'], ['41', '40', 'child'], ['42', '3', 'child'], ['43', '45', 'parent'], ['43', '6', 'parent'], ['44', '45', 'parent'], ['45', '44', 'child'], ['45', '43', 'child'], ['46', '21', 'parent'], ['46', '22', 'parent'], ['46', '23', 'parent'], ['46', '24', 'parent'], ['46', '25', 'parent'], ['46', '26', 'parent'], ['46', '27', 'parent'], ['46', '28', 'parent'], ['46', '30', 'parent'], ['46', '31', 'parent'], ['47', '0', 'child'], ['48', '11', 'child'], ['49', '14', 'child'], ['49', '28', 'parent'], ['50', '30', 'parent'], ['51', '31', 'parent']]}, '93213298': {'objects': ['0', '1', '2', '3', '4', '5', '6', '7', '8', '9', '10', '11', '12', '13', '14', '15', '16', '17', '18', '19', '20', '21', '22', '23', '24', '25', '26', '27', '28', '29', '30', '31', '32', '33', '34', '35', '36', '37', '38', '39', '40', '41', '42', '43', '44', '45', '46', '47', '48', '49', '50', '51', '52', '53', '54', '55', '56', '57', '58', '59', '60', '61', '62', '63', '64', '65', '66'], 'relationships': [['0', '35', 'parent'], ['1', '39', 'parent'], ['2', '44', 'child'], ['2', '22', 'parent'], ['3', '48', 'parent'], ['3', '50', 'parent'], ['3', '49', 'parent'], ['4', '44', 'child'], ['4', '25', 'parent'], ['5', '53', 'child'], ['5', '19', 'parent'], ['6', '53', 'child'], ['6', '20', 'parent'], ['7', '53', 'child'], ['7', '21', 'parent'], ['11', '63', 'child'], ['11', '27', 'parent'], ['12', '63', 'child'], ['12', '28', 'parent'], ['13', '63', 'child'], ['13', '29', 'parent'], ['14', '54', 'parent'], ['14', '55', 'parent'], ['14', '56', 'parent'], ['15', '48', 'child'], ['16', '54', 'child'], ['17', '55', 'child'], ['18', '56', 'child'], ['19', '5', 'child'], ['20', '6', 'child'], ['21', '7', 'child'], ['22', '2', 'child'], ['23', '45', 'child'], ['24', '46', 'child'], ['25', '4', 'child'], ['26', '61', 'child'], ['27', '11', 'child'], ['28', '12', 'child'], ['29', '13', 'child'], ['30', '62', 'child'], ['35', '0', 'child'], ['36', '37', 'child'], ['37', '36', 'parent'], ['38', '40', 'parent'], ['39', '1', 'child'], ['40', '38', 'child'], ['41', '42', 'parent'], ['42', '41', 'child'], ['44', '2', 'parent'], ['44', '46', 'parent'], ['44', '45', 'parent'], ['44', '4', 'parent'], ['45', '44', 'child'], ['45', '23', 'parent'], ['46', '44', 'child'], ['46', '24', 'parent'], ['48', '3', 'child'], ['48', '15', 'parent'], ['49', '3', 'child'], ['50', '3', 'child'], ['51', '52', 'parent'], ['52', '51', 'child'], ['53', '5', 'parent'], ['53', '6', 'parent'], ['53', '7', 'parent'], ['54', '14', 'child'], ['54', '16', 'parent'], ['55', '14', 'child'], ['55', '17', 'parent'], ['56', '14', 'child'], ['56', '18', 'parent'], ['57', '58', 'parent'], ['57', '59', 'parent'], ['58', '57', 'child'], ['59', '57', 'child'], ['60', '61', 'parent'], ['60', '62', 'parent'], ['61', '60', 'child'], ['61', '26', 'parent'], ['62', '60', 'child'], ['62', '30', 'parent'], ['63', '11', 'parent'], ['63', '12', 'parent'], ['63', '13', 'parent'], ['64', '65', 'parent'], ['64', '66', 'parent'], ['65', '64', 'child'], ['66', '64', 'child']]}, '0001463282': {'objects': ['0', '1', '2', '3', '4', '5', '6', '7', '8', '9', '10', '11', '12', '13', '14', '15', '16', '17', '18', '19', '20', '21', '22', '23', '24', '25', '26', '27', '28', '29', '30', '31', '32', '33', '34', '35', '36', '37', '38', '39', '40', '41', '42', '43', '44', '45', '46', '47', '48', '49', '50', '51', '52', '53', '54', '55', '56', '57', '58', '59', '60', '61', '62', '63', '64', '65', '66', '67', '68', '69', '70', '71', '72', '73', '74', '75', '76', '77', '78', '79', '80', '81', '82', '83', '84', '85', '86', '87', '88', '89', '90', '91', '92', '93', '94', '95', '96', '97', '98', '99', '100'], 'relationships': [['1', '44', 'parent'], ['2', '4', 'parent'], ['2', '5', 'parent'], ['3', '47', 'child'], ['3', '7', 'parent'], ['4', '2', 'child'], ['4', '8', 'parent'], ['5', '2', 'child'], ['6', '47', 'child'], ['7', '3', 'child'], ['8', '4', 'child'], ['9', '48', 'child'], ['10', '49', 'child'], ['10', '15', 'parent'], ['10', '50', 'parent'], ['11', '49', 'child'], ['11', '51', 'parent'], ['11', '52', 'parent'], ['13', '49', 'child'], ['13', '57', 'parent'], ['13', '58', 'parent'], ['15', '10', 'child'], ['16', '61', 'parent'], ['16', '64', 'parent'], ['16', '65', 'parent'], ['16', '67', 'parent'], ['17', '92', 'parent'], ['18', '93', 'parent'], ['21', '94', 'parent'], ['22', '99', 'parent'], ['22', '100', 'parent'], ['24', '70', 'child'], ['25', '71', 'child'], ['26', '72', 'child'], ['27', '73', 'child'], ['28', '75', 'child'], ['29', '76', 'child'], ['30', '77', 'child'], ['31', '77', 'child'], ['32', '79', 'child'], ['33', '80', 'child'], ['34', '87', 'child'], ['35', '87', 'child'], ['38', '97', 'child'], ['40', '41', 'child'], ['41', '40', 'parent'], ['44', '1', 'child'], ['45', '46', 'child'], ['46', '45', 'parent'], ['47', '3', 'parent'], ['47', '6', 'parent'], ['48', '9', 'parent'], ['49', '10', 'parent'], ['49', '11', 'parent'], ['49', '13', 'parent'], ['49', '53', 'parent'], ['49', '54', 'parent'], ['50', '10', 'child'], ['51', '11', 'child'], ['52', '11', 'child'], ['53', '49', 'child'], ['53', '55', 'parent'], ['53', '56', 'parent'], ['54', '49', 'child'], ['54', '59', 'parent'], ['54', '60', 'parent'], ['55', '53', 'child'], ['56', '53', 'child'], ['57', '13', 'child'], ['58', '13', 'child'], ['59', '54', 'child'], ['60', '54', 'child'], ['61', '62', 'parent'], ['61', '16', 'child'], ['62', '61', 'child'], ['63', '64', 'child'], ['64', '63', 'parent'], ['64', '16', 'child'], ['65', '66', 'parent'], ['65', '16', 'child'], ['66', '65', 'child'], ['67', '68', 'parent'], ['67', '16', 'child'], ['68', '67', 'child'], ['69', '70', 'parent'], ['69', '71', 'parent'], ['69', '72', 'parent'], ['69', '73', 'parent'], ['69', '75', 'parent'], ['69', '76', 'parent'], ['70', '24', 'parent'], ['70', '69', 'child'], ['71', '25', 'parent'], ['71', '69', 'child'], ['72', '26', 'parent'], ['72', '69', 'child'], ['73', '27', 'parent'], ['73', '69', 'child'], ['75', '28', 'parent'], ['75', '69', 'child'], ['76', '29', 'parent'], ['76', '69', 'child'], ['77', '30', 'parent'], ['77', '31', 'parent'], ['79', '32', 'parent'], ['80', '33', 'parent'], ['81', '82', 'parent'], ['82', '81', 'child'], ['83', '90', 'parent'], ['83', '91', 'parent'], ['87', '35', 'parent'], ['87', '34', 'parent'], ['88', '98', 'parent'], ['90', '83', 'child'], ['91', '83', 'child'], ['92', '17', 'child'], ['93', '18', 'child'], ['94', '21', 'child'], ['95', '96', 'child'], ['96', '95', 'parent'], ['97', '38', 'parent'], ['98', '88', 'child'], ['99', '22', 'child'], ['100', '22', 'child']]}, '01191071_1072': {'objects': ['0', '1', '2', '3', '4', '5', '6', '7', '8', '9', '10', '11', '12', '13', '14', '15', '16', '17', '18', '19', '20', '21', '22', '23'], 'relationships': [['1', '3', 'parent'], ['2', '15', 'child'], ['3', '1', 'child'], ['6', '10', 'parent'], ['7', '19', 'parent'], ['8', '20', 'parent'], ['9', '22', 'parent'], ['10', '6', 'child'], ['13', '14', 'parent'], ['14', '13', 'child'], ['15', '2', 'parent'], ['19', '7', 'child'], ['20', '8', 'child'], ['21', '23', 'child'], ['22', '9', 'child'], ['23', '21', 'parent']]}, '0012529284': {'objects': ['0', '1', '2', '3', '4', '5', '6', '7', '8', '9', '10', '11', '12', '13', '14', '15', '16', '17', '18', '19', '20', '21', '22', '23', '24', '25', '26', '27', '28', '29', '30', '31', '32', '33', '34', '35', '36', '37', '38', '39', '40', '41', '42', '43', '44', '45', '46', '47', '48', '49', '50', '51', '52', '53', '54', '55', '56', '57', '58', '59', '60', '61', '62', '63', '64', '65', '66', '67', '68', '69', '70'], 'relationships': [['0', '21', 'parent'], ['1', '23', 'parent'], ['1', '24', 'parent'], ['2', '22', 'parent'], ['3', '25', 'parent'], ['4', '32', 'parent'], ['5', '28', 'child'], ['6', '28', 'child'], ['8', '33', 'parent'], ['8', '34', 'parent'], ['8', '35', 'parent'], ['8', '36', 'parent'], ['9', '38', 'parent'], ['9', '39', 'parent'], ['9', '40', 'parent'], ['11', '57', 'parent'], ['11', '58', 'parent'], ['11', '59', 'parent'], ['12', '51', 'parent'], ['16', '50', 'parent'], ['21', '0', 'child'], ['22', '2', 'child'], ['23', '1', 'child'], ['24', '1', 'child'], ['25', '3', 'child'], ['26', '27', 'parent'], ['27', '26', 'child'], ['28', '5', 'parent'], ['28', '6', 'parent'], ['30', '31', 'child'], ['31', '30', 'parent'], ['32', '4', 'child'], ['33', '8', 'child'], ['34', '8', 'child'], ['35', '8', 'child'], ['36', '8', 'child'], ['37', '41', 'parent'], ['37', '42', 'parent'], ['37', '43', 'parent'], ['37', '44', 'parent'], ['38', '41', 'child'], ['38', '9', 'child'], ['39', '42', 'child'], ['39', '9', 'child'], ['40', '43', 'child'], ['40', '9', 'child'], ['41', '37', 'child'], ['41', '38', 'parent'], ['42', '37', 'child'], ['42', '39', 'parent'], ['43', '37', 'child'], ['43', '40', 'parent'], ['44', '37', 'child'], ['44', '46', 'parent'], ['46', '44', 'child'], ['47', '68', 'parent'], ['48', '67', 'child'], ['49', '66', 'child'], ['50', '16', 'child'], ['51', '12', 'child'], ['52', '53', 'child'], ['53', '52', 'parent'], ['55', '56', 'parent'], ['56', '55', 'child'], ['57', '11', 'child'], ['58', '11', 'child'], ['59', '11', 'child'], ['60', '69', 'parent'], ['64', '65', 'parent'], ['65', '64', 'child'], ['66', '49', 'parent'], ['67', '48', 'parent'], ['68', '47', 'child'], ['69', '60', 'child']]}, '0060025670': {'objects': ['0', '1', '2', '3', '4', '5', '6', '7', '8', '9', '10', '11', '12', '13'], 'relationships': []}, '87682908': {'objects': ['0', '1', '2', '3', '4', '5', '6', '7', '8', '9', '10', '11', '12', '13', '14', '15', '16', '17', '18', '19', '20', '21', '22', '23', '24', '25', '26', '27', '28', '29', '30'], 'relationships': [['23', '28', 'child'], ['24', '29', 'child'], ['26', '27', 'child'], ['27', '26', 'parent'], ['28', '23', 'parent'], ['29', '24', 'parent']]}, '81574683': {'objects': ['0', '1', '2', '3', '4', '5', '6', '7', '8', '9', '10', '11', '12', '13', '14', '15', '16', '17', '18', '19', '20', '21', '22', '23', '24', '25', '26', '27', '28', '29', '30', '31', '32', '33', '34', '35', '36', '37', '38', '39', '40', '41', '42', '43', '44', '45', '46', '47', '48', '49', '50', '51', '52', '53', '54', '55', '56', '57', '58', '59', '60', '61', '62', '63', '64', '65', '66', '67', '68', '69', '70', '71', '72', '73', '74', '75', '76', '77', '78', '79', '80', '81', '82', '83', '84', '85', '86', '87', '88', '89', '90', '91', '92', '93', '94', '95', '96', '97', '98', '99', '100', '101', '102', '103', '104'], 'relationships': [['0', '1', 'parent'], ['1', '0', 'child'], ['3', '12', 'parent'], ['3', '13', 'parent'], ['3', '15', 'parent'], ['3', '16', 'parent'], ['3', '17', 'parent'], ['3', '18', 'parent'], ['3', '68', 'parent'], ['3', '69', 'parent'], ['3', '70', 'parent'], ['3', '71', 'parent'], ['5', '8', 'parent'], ['6', '9', 'parent'], ['7', '10', 'parent'], ['8', '5', 'child'], ['9', '6', 'child'], ['10', '7', 'child'], ['11', '59', 'child'], ['12', '60', 'parent'], ['12', '3', 'child'], ['13', '61', 'parent'], ['13', '3', 'child'], ['15', '62', 'parent'], ['15', '3', 'child'], ['16', '63', 'parent'], ['16', '3', 'child'], ['17', '64', 'parent'], ['17', '3', 'child'], ['18', '65', 'parent'], ['18', '3', 'child'], ['19', '20', 'parent'], ['20', '19', 'child'], ['21', '74', 'child'], ['22', '73', 'child'], ['22', '81', 'child'], ['23', '73', 'child'], ['23', '49', 'child'], ['25', '73', 'child'], ['25', '82', 'child'], ['26', '73', 'child'], ['26', '83', 'child'], ['28', '29', 'parent'], ['28', '30', 'parent'], ['28', '95', 'parent'], ['28', '31', 'parent'], ['28', '32', 'parent'], ['29', '28', 'child'], ['29', '33', 'parent'], ['30', '28', 'child'], ['30', '34', 'parent'], ['31', '28', 'child'], ['31', '36', 'parent'], ['32', '28', 'child'], ['32', '94', 'parent'], ['33', '29', 'child'], ['34', '30', 'child'], ['35', '95', 'child'], ['36', '31', 'child'], ['37', '86', 'parent'], ['37', '87', 'parent'], ['37', '88', 'parent'], ['37', '38', 'parent'], ['37', '89', 'parent'], ['38', '37', 'child'], ['38', '92', 'parent'], ['39', '98', 'parent'], ['43', '87', 'child'], ['44', '69', 'child'], ['45', '71', 'child'], ['46', '76', 'parent'], ['48', '78', 'parent'], ['49', '23', 'parent'], ['50', '79', 'parent'], ['51', '80', 'parent'], ['53', '54', 'parent'], ['54', '53', 'child'], ['55', '56', 'parent'], ['56', '55', 'child'], ['57', '58', 'child'], ['58', '57', 'parent'], ['59', '11', 'parent'], ['60', '12', 'child'], ['61', '13', 'child'], ['62', '15', 'child'], ['63', '16', 'child'], ['64', '17', 'child'], ['65', '18', 'child'], ['66', '68', 'child'], ['67', '68', 'child'], ['68', '66', 'parent'], ['68', '67', 'parent'], ['68', '3', 'child'], ['69', '44', 'parent'], ['69', '3', 'child'], ['70', '72', 'parent'], ['70', '3', 'child'], ['71', '45', 'parent'], ['71', '3', 'child'], ['72', '70', 'child'], ['73', '75', 'parent'], ['73', '76', 'parent'], ['73', '77', 'parent'], ['73', '78', 'parent'], ['73', '22', 'parent'], ['73', '23', 'parent'], ['73', '79', 'parent'], ['73', '80', 'parent'], ['73', '25', 'parent'], ['73', '26', 'parent'], ['74', '21', 'parent'], ['75', '73', 'child'], ['76', '73', 'child'], ['76', '46', 'child'], ['77', '73', 'child'], ['78', '73', 'child'], ['78', '48', 'child'], ['79', '73', 'child'], ['79', '50', 'child'], ['80', '73', 'child'], ['80', '51', 'child'], ['81', '22', 'parent'], ['82', '25', 'parent'], ['83', '26', 'parent'], ['86', '37', 'child'], ['86', '90', 'parent'], ['87', '37', 'child'], ['87', '43', 'parent'], ['88', '37', 'child'], ['88', '91', 'parent'], ['89', '37', 'child'], ['89', '93', 'parent'], ['90', '86', 'child'], ['91', '88', 'child'], ['92', '38', 'child'], ['93', '89', 'child'], ['94', '32', 'child'], ['95', '28', 'child'], ['95', '35', 'parent'], ['96', '97', 'parent'], ['97', '96', 'child'], ['98', '39', 'child'], ['99', '100', 'parent'], ['100', '99', 'child'], ['101', '102', 'parent'], ['101', '103', 'parent'], ['102', '101', 'child'], ['103', '101', 'child']]}, '00920222': {'objects': ['0', '1', '2', '3', '4', '5', '6', '7', '8', '9', '10', '11', '12', '13', '14', '15', '16', '17', '18', '19', '20', '21', '22', '23', '24', '25', '26', '27', '28', '29', '30', '31', '32', '33', '34', '35', '36', '37', '38', '39', '40', '41', '42', '43'], 'relationships': [['0', '20', 'parent'], ['1', '4', 'parent'], ['1', '25', 'parent'], ['1', '2', 'parent'], ['2', '27', 'parent'], ['2', '1', 'child'], ['3', '31', 'parent'], ['4', '12', 'parent'], ['4', '1', 'child'], ['5', '22', 'parent'], ['8', '34', 'parent'], ['12', '4', 'child'], ['14', '41', 'child'], ['15', '40', 'child'], ['16', '39', 'child'], ['20', '0', 'child'], ['20', '43', 'child'], ['22', '5', 'child'], ['25', '26', 'parent'], ['25', '1', 'child'], ['26', '25', 'child'], ['27', '2', 'child'], ['28', '30', 'parent'], ['30', '28', 'child'], ['31', '3', 'child'], ['32', '42', 'child'], ['34', '8', 'child'], ['39', '16', 'parent'], ['40', '15', 'parent'], ['41', '14', 'parent'], ['42', '32', 'parent'], ['43', '20', 'parent']]}, '00860012_00860014': {'objects': ['0', '1', '2', '3', '4', '5', '6', '7', '8', '9', '10', '11', '12', '13', '14', '15', '16', '17', '18', '19', '20', '21', '22', '23', '24', '25', '26', '27', '28', '29', '30', '31', '32', '33', '34', '35', '36', '37', '38', '39', '40', '41', '42', '43', '44', '45', '46', '47', '48', '49', '50', '51', '52', '53', '54', '55', '56', '57', '58', '59', '60', '61', '62'], 'relationships': [['1', '27', 'child'], ['5', '33', None], ['6', '7', 'parent'], ['7', '30', 'child'], ['7', '6', 'child'], ['11', '62', 'child'], ['11', '12', 'parent'], ['12', '11', 'child'], ['13', '62', 'child'], ['14', '62', 'child'], ['15', '62', 'child'], ['15', '16', 'parent'], ['16', '15', 'child'], ['18', '52', None], ['19', '52', None], ['20', '52', None], ['25', '26', 'child'], ['26', '25', 'parent'], ['27', '1', 'parent'], ['28', '29', 'parent'], ['29', '28', 'child'], ['30', '7', 'parent'], ['33', '5', None], ['35', '37', 'parent'], ['36', '38', 'parent'], ['37', '35', 'child'], ['38', '36', 'child'], ['39', '40', 'parent'], ['40', '39', 'child'], ['52', '53', None], ['52', '54', 'parent'], ['52', '55', None], ['52', '56', None], ['52', '18', None], ['52', '19', None], ['52', '20', None], ['53', '52', None], ['54', '52', 'child'], ['55', '52', None], ['56', '52', None], ['57', '61', None], ['58', '61', 'child'], ['59', '61', 'child'], ['61', '57', None], ['61', '58', 'parent'], ['61', '59', 'parent'], ['62', '11', 'parent'], ['62', '13', 'parent'], ['62', '14', 'parent'], ['62', '15', 'parent']]}, '12603270': {'objects': ['0', '1', '2', '3', '4', '5', '6', '7', '8', '9', '10', '11', '12', '13', '14', '15', '16', '17', '18', '19', '20', '21', '22', '23', '24', '25', '26', '27', '28', '29', '30', '31', '32', '33', '34', '35', '36', '37', '38', '39', '40', '41', '42', '43', '44', '45', '46', '47', '48', '49', '50', '51', '52', '53', '54', '55', '56', '57', '58', '59', '60', '61', '62', '63', '64', '65', '66', '67', '68', '69', '70', '71', '72', '73', '74', '75', '76', '77'], 'relationships': [['0', '42', 'parent'], ['1', '45', 'parent'], ['2', '46', 'parent'], ['6', '48', 'child'], ['8', '52', 'child'], ['10', '56', 'child'], ['11', '57', 'child'], ['12', '58', 'child'], ['13', '61', 'child'], ['14', '62', 'child'], ['15', '59', 'child'], ['16', '68', 'parent'], ['17', '69', 'parent'], ['18', '23', 'parent'], ['19', '24', 'parent'], ['20', '25', 'parent'], ['23', '18', 'child'], ['24', '19', 'child'], ['25', '20', 'child'], ['36', '63', 'child'], ['37', '64', 'child'], ['38', '70', 'child'], ['42', '0', 'child'], ['43', '44', 'child'], ['44', '43', 'parent'], ['45', '1', 'child'], ['46', '2', 'child'], ['48', '6', 'parent'], ['48', '76', 'parent'], ['49', '74', 'parent'], ['52', '8', 'parent'], ['56', '10', 'parent'], ['57', '11', 'parent'], ['58', '12', 'parent'], ['59', '15', 'parent'], ['61', '13', 'parent'], ['62', '14', 'parent'], ['63', '36', 'parent'], ['64', '37', 'parent'], ['68', '16', 'child'], ['69', '17', 'child'], ['70', '38', 'parent'], ['71', '72', 'parent'], ['72', '71', 'child'], ['74', '49', 'child'], ['76', '48', 'child']]}, '00920294': {'objects': ['0', '1', '2', '3', '4', '5', '6', '7', '8', '9', '10', '11', '12', '13', '14', '15', '16', '17', '18', '19', '20', '21', '22', '23', '24', '25', '26', '27', '28', '29', '30', '31', '32', '33', '34', '35', '36', '37', '38', '39', '40', '41', '42', '43', '44', '45', '46', '47', '48', '49'], 'relationships': [['0', '29', 'child'], ['1', '30', 'parent'], ['2', '31', 'parent'], ['3', '32', 'parent'], ['4', '38', 'parent'], ['5', '23', 'parent'], ['6', '41', 'parent'], ['7', '24', 'parent'], ['8', '22', 'parent'], ['9', '21', 'parent'], ['10', '47', None], ['21', '9', 'child'], ['22', '8', 'child'], ['23', '5', 'child'], ['24', '7', 'child'], ['25', '36', 'child'], ['27', '35', 'parent'], ['29', '0', 'parent'], ['30', '1', 'child'], ['31', '2', 'child'], ['32', '3', 'child'], ['33', '34', 'child'], ['34', '33', 'parent'], ['35', '27', 'child'], ['36', '25', 'parent'], ['38', '4', 'child'], ['41', '6', 'child'], ['44', '45', 'parent'], ['44', '46', 'parent'], ['45', '44', 'child'], ['46', '44', 'child'], ['47', '10', None]]}, '0071032790': {'objects': ['0', '1', '2', '3', '4', '5', '6', '7', '8', '9', '10', '11', '12', '13', '14', '15', '16', '17', '18', '19', '20', '21', '22', '23', '24', '25'], 'relationships': [['0', '19', 'parent'], ['2', '12', 'parent'], ['3', '13', 'child'], ['4', '14', 'child'], ['5', '6', 'parent'], ['6', '5', 'child'], ['8', '10', 'parent'], ['9', '25', 'parent'], ['10', '8', 'child'], ['12', '2', 'child'], ['13', '3', 'parent'], ['14', '4', 'parent'], ['15', '17', 'parent'], ['16', '18', 'parent'], ['17', '15', 'child'], ['18', '16', 'child'], ['19', '0', 'child'], ['20', '21', 'parent'], ['20', '22', 'parent'], ['21', '20', 'child'], ['22', '20', 'child'], ['23', '24', 'parent'], ['24', '23', 'child'], ['25', '9', 'child']]}, '01197604': {'objects': ['0', '1', '2', '3', '4', '5', '6', '7', '8', '9', '10', '11', '12', '13', '14', '15', '16', '17', '18', '19', '20', '21', '22', '23', '24', '25', '26', '27', '28', '29'], 'relationships': [['0', '11', 'parent'], ['1', '17', 'parent'], ['2', '28', 'parent'], ['3', '7', 'child'], ['4', '8', 'child'], ['7', '3', 'parent'], ['8', '4', 'parent'], ['9', '10', 'parent'], ['10', '9', 'child'], ['11', '0', 'child'], ['12', '13', 'parent'], ['13', '12', 'child'], ['14', '15', 'parent'], ['15', '14', 'child'], ['17', '1', 'child'], ['18', '20', 'child'], ['19', '21', 'child'], ['20', '18', 'parent'], ['21', '19', 'parent'], ['22', '27', 'child'], ['23', '26', 'child'], ['24', '25', 'child'], ['25', '24', 'parent'], ['26', '23', 'parent'], ['27', '22', 'parent'], ['28', '2', 'child']]}, '91372360': {'objects': ['0', '1', '2', '3', '4', '5', '6', '7', '8', '9', '10', '11', '12', '13', '14', '15', '16', '17', '18', '19', '20', '21', '22', '23', '24', '25', '26', '27', '28', '29', '30', '31', '32'], 'relationships': [['0', '6', 'parent'], ['1', '16', 'parent'], ['2', '19', 'parent'], ['2', '18', 'child'], ['3', '20', 'parent'], ['3', '18', 'child'], ['4', '24', 'parent'], ['4', '23', 'child'], ['5', '25', 'parent'], ['5', '23', 'child'], ['6', '0', 'child'], ['7', '28', 'parent'], ['7', '23', 'child'], ['8', '30', 'parent'], ['8', '31', 'parent'], ['16', '1', 'child'], ['18', '2', 'parent'], ['18', '3', 'parent'], ['18', '22', 'parent'], ['19', '2', 'child'], ['20', '3', 'child'], ['21', '22', 'child'], ['22', '21', 'parent'], ['22', '18', 'child'], ['23', '4', 'parent'], ['23', '5', 'parent'], ['23', '26', 'parent'], ['23', '7', 'parent'], ['24', '4', 'child'], ['25', '5', 'child'], ['26', '27', 'parent'], ['26', '23', 'child'], ['27', '26', 'child'], ['28', '7', 'child'], ['30', '8', 'child'], ['31', '8', 'child']]}, '91161344_91161347': {'objects': ['0', '1', '2', '3', '4', '5', '6', '7', '8', '9', '10', '11', '12', '13', '14', '15', '16', '17', '18', '19', '20', '21', '22', '23', '24', '25', '26', '27', '28', '29', '30', '31', '32', '33', '34', '35', '36', '37', '38', '39', '40', '41', '42', '43', '44', '45', '46', '47', '48', '49', '50', '51', '52', '53', '54', '55', '56', '57', '58', '59', '60', '61', '62', '63', '64', '65', '66', '67', '68', '69', '70', '71', '72', '73', '74', '75', '76', '77', '78', '79', '80', '81', '82', '83', '84', '85', '86', '87', '88', '89', '90', '91', '92', '93', '94', '95', '96', '97', '98', '99', '100', '101', '102', '103', '104', '105', '106', '107', '108', '109', '110', '111', '112', '113', '114', '115', '116', '117', '118', '119', '120', '121', '122', '123', '124', '125', '126', '127', '128', '129', '130', '131', '132', '133', '134', '135', '136', '137', '138', '139', '140', '141', '142', '143', '144', '145', '146', '147'], 'relationships': [['0', '97', 'parent'], ['0', '104', 'parent'], ['0', '103', 'parent'], ['0', '98', 'parent'], ['0', '105', 'parent'], ['0', '106', 'parent'], ['0', '99', 'parent'], ['0', '100', 'parent'], ['0', '101', 'parent'], ['0', '102', 'parent'], ['1', '2', 'parent'], ['2', '1', 'child'], ['3', '107', 'child'], ['4', '110', 'child'], ['4', '15', 'parent'], ['5', '110', 'child'], ['6', '110', 'child'], ['6', '16', 'parent'], ['7', '110', 'child'], ['7', '17', 'parent'], ['8', '110', 'child'], ['8', '18', 'parent'], ['9', '110', 'child'], ['9', '19', 'parent'], ['10', '110', 'child'], ['10', '20', 'parent'], ['11', '110', 'child'], ['11', '21', 'parent'], ['12', '110', 'child'], ['13', '110', 'child'], ['13', '23', 'parent'], ['14', '110', 'child'], ['15', '4', 'child'], ['16', '6', 'child'], ['17', '7', 'child'], ['18', '8', 'child'], ['19', '9', 'child'], ['20', '10', 'child'], ['21', '11', 'child'], ['22', '111', 'child'], ['23', '13', 'child'], ['24', '63', 'child'], ['25', '64', 'child'], ['26', '65', 'child'], ['27', '67', 'child'], ['28', '68', 'child'], ['29', '69', 'child'], ['30', '70', 'child'], ['31', '71', 'child'], ['32', '72', 'child'], ['33', '112', 'child'], ['34', '113', 'child'], ['35', '114', 'child'], ['36', '115', 'child'], ['37', '116', 'child'], ['38', '117', 'child'], ['39', '74', 'child'], ['40', '54', 'child'], ['41', '118', 'child'], ['42', '119', 'child'], ['43', '120', 'child'], ['44', '55', 'child'], ['45', '57', 'child'], ['46', '58', 'child'], ['47', '59', 'child'], ['48', '122', 'child'], ['49', '61', 'child'], ['50', '62', 'child'], ['51', '123', 'child'], ['52', '124', 'child'], ['53', '110', 'child'], ['54', '110', 'child'], ['54', '40', 'parent'], ['55', '110', 'child'], ['55', '44', 'parent'], ['56', '110', 'child'], ['57', '110', 'child'], ['57', '45', 'parent'], ['58', '110', 'child'], ['58', '46', 'parent'], ['59', '110', 'child'], ['59', '47', 'parent'], ['60', '110', 'child'], ['61', '110', 'child'], ['61', '49', 'parent'], ['62', '110', 'child'], ['62', '50', 'parent'], ['63', '110', 'child'], ['63', '24', 'parent'], ['64', '110', 'child'], ['64', '25', 'parent'], ['65', '110', 'child'], ['65', '26', 'parent'], ['66', '110', 'child'], ['67', '110', 'child'], ['67', '27', 'parent'], ['68', '110', 'child'], ['68', '28', 'parent'], ['69', '110', 'child'], ['69', '29', 'parent'], ['70', '110', 'child'], ['70', '30', 'parent'], ['71', '110', 'child'], ['71', '31', 'parent'], ['72', '110', 'child'], ['72', '32', 'parent'], ['73', '110', 'child'], ['74', '110', 'child'], ['74', '39', 'parent'], ['75', '79', 'child'], ['76', '82', 'child'], ['77', '83', 'child'], ['78', '110', 'child'], ['79', '110', 'child'], ['79', '75', 'parent'], ['80', '110', 'child'], ['81', '110', 'child'], ['82', '110', 'child'], ['82', '76', 'parent'], ['83', '110', 'child'], ['83', '77', 'parent'], ['84', '125', 'child'], ['84', '132', 'parent'], ['85', '126', 'child'], ['86', '126', 'child'], ['87', '126', 'child'], ['88', '126', 'child'], ['89', '127', 'child'], ['90', '127', 'child'], ['91', '127', 'child'], ['92', '133', None], ['92', '134', 'parent'], ['92', '135', 'parent'], ['92', '137', 'parent'], ['92', '136', 'parent'], ['92', '138', 'parent'], ['92', '139', 'parent'], ['92', '140', 'parent'], ['93', '133', 'child'], ['93', '141', 'parent'], ['93', '142', 'parent'], ['93', '143', 'parent'], ['93', '144', 'parent'], ['93', '145', 'parent'], ['93', '146', 'parent'], ['93', '147', 'parent'], ['95', '96', 'child'], ['96', '95', 'parent'], ['97', '0', 'child'], ['98', '0', 'child'], ['99', '0', 'child'], ['100', '0', 'child'], ['101', '0', 'child'], ['102', '0', 'child'], ['103', '0', 'child'], ['104', '0', 'child'], ['105', '0', 'child'], ['106', '0', 'child'], ['107', '3', 'parent'], ['108', '109', 'parent'], ['109', '108', 'child'], ['110', '4', 'parent'], ['110', '5', 'parent'], ['110', '6', 'parent'], ['110', '7', 'parent'], ['110', '8', 'parent'], ['110', '9', 'parent'], ['110', '10', 'parent'], ['110', '11', 'parent'], ['110', '111', 'parent'], ['110', '12', 'parent'], ['110', '13', 'parent'], ['110', '14', 'parent'], ['110', '78', 'parent'], ['110', '79', 'parent'], ['110', '80', 'parent'], ['110', '81', 'parent'], ['110', '82', 'parent'], ['110', '83', 'parent'], ['110', '63', 'parent'], ['110', '64', 'parent'], ['110', '65', 'parent'], ['110', '66', 'parent'], ['110', '67', 'parent'], ['110', '68', 'parent'], ['110', '69', 'parent'], ['110', '70', 'parent'], ['110', '71', 'parent'], ['110', '72', 'parent'], ['110', '73', 'parent'], ['110', '112', 'parent'], ['110', '113', 'parent'], ['110', '114', 'parent'], ['110', '115', 'parent'], ['110', '116', 'parent'], ['110', '117', 'parent'], ['110', '74', 'parent'], ['110', '53', 'parent'], ['110', '54', 'parent'], ['110', '118', 'parent'], ['110', '119', 'parent'], ['110', '120', 'parent'], ['110', '121', 'parent'], ['110', '55', 'parent'], ['110', '56', 'parent'], ['110', '57', 'parent'], ['110', '58', 'parent'], ['110', '59', 'parent'], ['110', '122', 'parent'], ['110', '60', 'parent'], ['110', '61', 'parent'], ['110', '62', 'parent'], ['110', '123', 'parent'], ['110', '124', 'parent'], ['111', '110', 'child'], ['111', '22', 'parent'], ['112', '110', 'child'], ['112', '33', 'parent'], ['113', '110', 'child'], ['113', '34', 'parent'], ['114', '110', 'child'], ['114', '35', 'parent'], ['115', '110', 'child'], ['115', '36', 'parent'], ['116', '110', 'child'], ['116', '37', 'parent'], ['117', '110', 'child'], ['117', '38', 'parent'], ['118', '110', 'child'], ['118', '41', 'parent'], ['119', '110', 'child'], ['119', '42', 'parent'], ['120', '110', 'child'], ['120', '43', 'parent'], ['121', '110', 'child'], ['122', '110', 'child'], ['122', '48', 'parent'], ['123', '110', 'child'], ['123', '51', 'parent'], ['124', '110', 'child'], ['124', '52', 'parent'], ['125', '126', 'parent'], ['125', '127', 'parent'], ['125', '84', 'parent'], ['125', '128', 'parent'], ['126', '125', 'child'], ['126', '85', 'parent'], ['126', '86', 'parent'], ['126', '87', 'parent'], ['126', '88', 'parent'], ['127', '125', 'child'], ['127', '89', 'parent'], ['127', '90', 'parent'], ['127', '91', 'parent'], ['128', '129', 'parent'], ['128', '125', 'child'], ['129', '128', 'child'], ['130', '133', 'child'], ['130', '131', 'parent'], ['131', '130', 'child'], ['132', '84', 'child'], ['133', '92', None], ['133', '93', 'parent'], ['133', '130', 'parent'], ['134', '92', 'child'], ['135', '92', 'child'], ['136', '92', 'child'], ['137', '92', 'child'], ['138', '92', 'child'], ['139', '92', 'child'], ['140', '92', 'child'], ['141', '93', 'child'], ['142', '93', 'child'], ['143', '93', 'child'], ['144', '93', 'child'], ['145', '93', 'child'], ['146', '93', 'child'], ['147', '93', 'child']]}, '0060262650': {'objects': ['0', '1', '2', '3', '4', '5', '6', '7', '8', '9', '10', '11', '12', '13', '14', '15', '16', '17', '18', '19', '20', '21', '22', '23', '24', '25', '26', '27', '28', '29', '30', '31', '32', '33', '34', '35', '36', '37', '38', '39', '40', '41', '42', '43', '44', '45', '46', '47', '48', '49', '50', '51', '52', '53', '54', '55', '56', '57', '58', '59', '60', '61', '62', '63', '64', '65', '66', '67', '68', '69', '70', '71', '72', '73', '74', '75', '76', '77', '78', '79', '80'], 'relationships': [['0', '42', 'parent'], ['1', '44', 'parent'], ['2', '46', 'parent'], ['4', '47', 'parent'], ['9', '57', 'parent'], ['10', '56', 'parent'], ['11', '58', 'parent'], ['12', '61', 'parent'], ['13', '30', 'parent'], ['14', '65', 'parent'], ['15', '66', 'parent'], ['16', '67', 'parent'], ['17', '70', 'parent'], ['18', '71', 'parent'], ['19', '31', 'parent'], ['20', '32', 'parent'], ['21', '33', 'parent'], ['22', '78', 'parent'], ['23', '79', 'parent'], ['24', '74', 'parent'], ['25', '75', 'parent'], ['30', '13', 'child'], ['31', '19', 'child'], ['32', '20', 'child'], ['33', '21', 'child'], ['34', '62', 'parent'], ['40', '41', 'parent'], ['41', '40', 'child'], ['42', '0', 'child'], ['44', '1', 'child'], ['46', '2', 'child'], ['47', '4', 'child'], ['48', '49', 'parent'], ['49', '48', 'child'], ['53', '55', 'parent'], ['55', '53', 'child'], ['56', '10', 'child'], ['57', '9', 'child'], ['58', '11', 'child'], ['59', '60', 'parent'], ['60', '59', 'child'], ['61', '12', 'child'], ['62', '34', 'child'], ['63', '64', 'parent'], ['64', '63', 'child'], ['65', '14', 'child'], ['66', '15', 'child'], ['67', '16', 'child'], ['68', '69', 'parent'], ['69', '68', 'child'], ['70', '17', 'child'], ['71', '18', 'child'], ['72', '73', 'child'], ['73', '72', 'parent'], ['74', '24', 'child'], ['75', '25', 'child'], ['76', '77', 'parent'], ['77', '76', 'child'], ['78', '22', 'child'], ['79', '23', 'child']]}, '87672097': {'objects': ['0', '1', '2', '3', '4', '5', '6', '7', '8', '9', '10', '11', '12', '13', '14', '15', '16', '17', '18', '19', '20', '21', '22', '23', '24', '25', '26', '27', '28', '29', '30', '31', '32', '33', '34', '35', '36', '37', '38', '39', '40', '41', '42', '43', '44', '45', '46', '47', '48', '49', '50', '51', '52', '53', '54', '55', '56', '57', '58', '59', '60', '61', '62', '63', '64', '65', '66', '67', '68', '69', '70', '71', '72', '73', '74', '75', '76', '77', '78', '79', '80', '81'], 'relationships': [['0', '2', 'parent'], ['1', '3', 'parent'], ['2', '0', 'child'], ['3', '1', 'child'], ['4', '39', 'parent'], ['5', '40', 'parent'], ['6', '35', 'child'], ['7', '10', 'parent'], ['9', '52', 'parent'], ['10', '7', 'child'], ['12', '53', 'child'], ['12', '13', 'parent'], ['13', '12', 'child'], ['14', '57', 'child'], ['14', '15', 'parent'], ['14', '61', 'parent'], ['15', '14', 'child'], ['16', '62', 'child'], ['17', '62', 'child'], ['18', '62', 'child'], ['19', '62', 'child'], ['20', '62', 'child'], ['21', '63', 'child'], ['22', '63', 'child'], ['23', '63', 'child'], ['24', '63', 'child'], ['25', '63', 'child'], ['26', '64', 'child'], ['27', '64', 'child'], ['28', '64', 'child'], ['29', '64', 'child'], ['30', '64', 'child'], ['31', '76', 'parent'], ['31', '77', 'parent'], ['33', '49', 'child'], ['35', '6', 'parent'], ['37', '38', 'parent'], ['38', '37', 'child'], ['39', '4', 'child'], ['40', '5', 'child'], ['41', '42', 'child'], ['42', '41', 'parent'], ['43', '44', 'child'], ['44', '43', 'parent'], ['45', '46', 'parent'], ['46', '45', 'child'], ['47', '48', 'parent'], ['48', '47', 'child'], ['49', '33', 'parent'], ['50', '51', 'parent'], ['51', '50', 'child'], ['52', '9', 'child'], ['53', '54', 'parent'], ['53', '12', 'parent'], ['53', '55', 'parent'], ['53', '56', 'parent'], ['54', '53', 'child'], ['55', '53', 'child'], ['56', '53', 'child'], ['57', '58', 'parent'], ['57', '59', 'parent'], ['57', '60', 'parent'], ['57', '14', 'parent'], ['58', '57', 'child'], ['59', '57', 'child'], ['60', '57', 'child'], ['61', '14', 'child'], ['62', '16', 'parent'], ['62', '17', 'parent'], ['62', '18', 'parent'], ['62', '19', 'parent'], ['62', '20', 'parent'], ['63', '21', 'parent'], ['63', '22', 'parent'], ['63', '24', 'parent'], ['63', '23', 'parent'], ['63', '25', 'parent'], ['64', '26', 'parent'], ['64', '27', 'parent'], ['64', '28', 'parent'], ['64', '29', 'parent'], ['64', '30', 'parent'], ['65', '66', 'parent'], ['65', '67', 'parent'], ['65', '68', 'parent'], ['65', '69', 'parent'], ['65', '70', 'parent'], ['66', '65', 'child'], ['67', '65', 'child'], ['68', '65', 'child'], ['69', '65', 'child'], ['70', '65', 'child'], ['71', '72', 'parent'], ['71', '73', 'parent'], ['72', '71', 'child'], ['73', '71', 'child'], ['74', '75', 'child'], ['75', '74', 'parent'], ['76', '31', 'child'], ['77', '31', 'child'], ['78', '79', 'parent'], ['79', '78', 'child']]}, '0060308461': {'objects': ['0', '1', '2', '3', '4', '5', '6', '7', '8', '9', '10', '11', '12', '13', '14', '15', '16', '17', '18', '19', '20', '21', '22', '23', '24', '25', '26', '27', '28', '29', '30', '31', '32', '33', '34', '35', '36', '37', '38', '39', '40', '41', '42', '43', '44', '45', '46', '47', '48', '49', '50', '51', '52', '53', '54', '55', '56', '57', '58', '59', '60'], 'relationships': [['0', '56', 'parent'], ['1', '57', 'parent'], ['1', '22', 'child'], ['2', '54', 'parent'], ['2', '22', 'child'], ['3', '23', 'child'], ['4', '26', 'child'], ['5', '31', 'child'], ['6', '27', 'child'], ['7', '28', 'child'], ['8', '38', 'child'], ['9', '39', 'child'], ['10', '40', 'child'], ['11', '41', 'child'], ['12', '43', 'child'], ['13', '42', 'child'], ['14', '44', 'child'], ['15', '45', 'child'], ['16', '46', 'child'], ['17', '47', 'child'], ['18', '48', 'child'], ['19', '49', 'child'], ['20', '50', 'child'], ['21', '51', 'child'], ['22', '23', 'parent'], ['22', '24', 'parent'], ['22', '25', 'parent'], ['22', '26', 'parent'], ['22', '27', 'parent'], ['22', '2', 'parent'], ['22', '29', 'parent'], ['22', '1', 'parent'], ['22', '30', 'parent'], ['22', '31', 'parent'], ['22', '32', 'parent'], ['22', '33', 'parent'], ['22', '34', 'parent'], ['22', '35', 'parent'], ['22', '36', 'parent'], ['23', '3', 'parent'], ['23', '22', 'child'], ['24', '52', 'parent'], ['24', '22', 'child'], ['25', '53', 'parent'], ['25', '22', 'child'], ['26', '4', 'parent'], ['26', '22', 'child'], ['27', '6', 'parent'], ['27', '22', 'child'], ['28', '7', 'parent'], ['29', '55', 'parent'], ['29', '22', 'child'], ['30', '22', 'child'], ['31', '5', 'parent'], ['31', '22', 'child'], ['32', '58', 'parent'], ['32', '22', 'child'], ['33', '59', 'parent'], ['33', '22', 'child'], ['34', '60', 'parent'], ['34', '22', 'child'], ['35', '22', 'child'], ['36', '22', 'child'], ['37', '38', 'parent'], ['37', '39', 'parent'], ['37', '40', 'parent'], ['37', '41', 'parent'], ['37', '42', 'parent'], ['37', '43', 'parent'], ['37', '44', 'parent'], ['37', '45', 'parent'], ['37', '46', 'parent'], ['37', '47', 'parent'], ['37', '47', 'parent'], ['37', '48', 'parent'], ['37', '49', 'parent'], ['37', '50', 'parent'], ['37', '51', 'parent'], ['38', '8', 'parent'], ['38', '37', 'child'], ['39', '9', 'parent'], ['39', '37', 'child'], ['40', '10', 'parent'], ['40', '37', 'child'], ['41', '11', 'parent'], ['41', '37', 'child'], ['42', '13', 'parent'], ['42', '37', 'child'], ['43', '12', 'parent'], ['43', '37', 'child'], ['44', '14', 'parent'], ['44', '37', 'child'], ['45', '15', 'parent'], ['45', '37', 'child'], ['46', '16', 'parent'], ['46', '37', 'child'], ['47', '17', 'parent'], ['47', '37', 'child'], ['47', '37', 'child'], ['48', '18', 'parent'], ['48', '37', 'child'], ['49', '19', 'parent'], ['49', '37', 'child'], ['50', '20', 'parent'], ['50', '37', 'child'], ['51', '21', 'parent'], ['51', '37', 'child'], ['52', '24', 'child'], ['53', '25', 'child'], ['54', '2', 'child'], ['55', '29', 'child'], ['56', '0', 'child'], ['57', '1', 'child'], ['58', '32', 'child'], ['59', '33', 'child'], ['60', '34', 'child']]}, '71366499': {'objects': ['0', '1', '2', '3', '4', '5', '6', '7', '8', '9', '10', '11', '12', '13', '14', '15', '16', '17', '18', '19', '20', '21', '22', '23', '24', '25', '26', '27', '28', '29', '30', '31', '32', '33'], 'relationships': [['0', '5', 'parent'], ['1', '17', 'parent'], ['2', '18', 'parent'], ['3', '23', 'parent'], ['4', '16', 'child'], ['5', '0', 'child'], ['6', '24', 'child'], ['7', '25', 'child'], ['7', '26', 'parent'], ['8', '25', 'child'], ['8', '27', 'parent'], ['9', '25', 'child'], ['9', '28', 'parent'], ['10', '29', 'child'], ['11', '29', 'child'], ['12', '29', 'child'], ['16', '4', 'parent'], ['17', '1', 'child'], ['18', '2', 'child'], ['19', '20', 'child'], ['20', '19', 'parent'], ['21', '22', 'child'], ['22', '21', 'parent'], ['23', '3', 'child'], ['24', '6', 'parent'], ['25', '7', 'parent'], ['25', '8', 'parent'], ['25', '9', 'parent'], ['26', '7', 'child'], ['27', '8', 'child'], ['28', '9', 'child'], ['29', '12', 'parent'], ['29', '11', 'parent'], ['29', '10', 'parent']]}, '0011906503': {'objects': ['0', '1', '2', '3', '4', '5', '6', '7', '8', '9', '10', '11', '12', '13', '14', '15', '16', '17', '18', '19', '20', '21', '22', '23', '24', '25', '26', '27', '28', '29', '30', '31', '32', '33', '34', '35', '36', '37', '38', '39', '40', '41', '42', '43', '44', '45', '46', '47', '48', '49', '50', '51', '52', '53', '54', '55', '56', '57', '58', '59', '60', '61', '62', '63', '64', '65', '66', '67', '68', '69', '70', '71', '72', '73', '74', '75', '76', '77', '78', '79', '80', '81', '82', '83', '84', '85'], 'relationships': [['2', '64', 'parent'], ['3', '65', 'parent'], ['3', '66', 'parent'], ['3', '67', 'parent'], ['3', '68', 'parent'], ['3', '69', 'parent'], ['3', '70', 'parent'], ['3', '71', 'parent'], ['11', '12', 'parent'], ['11', '13', 'parent'], ['12', '11', 'child'], ['12', '26', 'parent'], ['13', '11', 'child'], ['14', '27', 'parent'], ['14', '74', 'child'], ['15', '28', 'parent'], ['15', '74', 'child'], ['16', '29', 'parent'], ['16', '74', 'child'], ['17', '31', 'parent'], ['17', '30', 'parent'], ['18', '31', 'parent'], ['19', '30', 'parent'], ['20', '25', 'parent'], ['22', '33', 'parent'], ['22', '32', 'parent'], ['23', '23', None], ['23', '23', None], ['23', '33', 'parent'], ['24', '32', 'parent'], ['25', '20', 'child'], ['26', '12', 'child'], ['27', '14', 'child'], ['28', '15', 'child'], ['29', '16', 'child'], ['30', '17', 'child'], ['30', '19', 'child'], ['31', '17', 'child'], ['31', '18', 'child'], ['32', '22', 'child'], ['32', '24', 'child'], ['33', '22', 'child'], ['33', '23', 'child'], ['34', '79', 'child'], ['35', '79', 'child'], ['36', '39', 'parent'], ['37', '40', 'parent'], ['38', '80', 'child'], ['39', '36', 'child'], ['40', '37', 'child'], ['52', '55', 'parent'], ['52', '56', 'parent'], ['52', '57', 'parent'], ['52', '58', 'parent'], ['52', '85', 'parent'], ['55', '52', 'child'], ['56', '52', 'child'], ['57', '52', 'child'], ['58', '52', 'child'], ['64', '2', 'child'], ['65', '3', 'child'], ['66', '3', 'child'], ['67', '3', 'child'], ['68', '3', 'child'], ['69', '3', 'child'], ['70', '3', 'child'], ['71', '3', 'child'], ['74', '14', 'parent'], ['74', '15', 'parent'], ['74', '16', 'parent'], ['76', '77', 'parent'], ['77', '76', 'child'], ['79', '34', 'parent'], ['79', '35', 'parent'], ['80', '38', 'parent'], ['83', '84', 'parent'], ['84', '83', 'child'], ['85', '52', 'child']]}, '0060308251': {'objects': ['0', '1', '2', '3', '4', '5', '6', '7', '8', '9', '10', '11', '12', '13', '14', '15', '16', '17', '18'], 'relationships': [['0', '9', 'parent'], ['1', '7', 'parent'], ['2', '12', 'parent'], ['2', '13', 'parent'], ['3', '14', 'parent'], ['3', '15', 'parent'], ['4', '18', 'parent'], ['5', '12', 'child'], ['6', '14', 'child'], ['7', '1', 'child'], ['9', '0', 'child'], ['10', '11', 'child'], ['11', '10', 'parent'], ['12', '2', 'child'], ['12', '5', 'parent'], ['13', '2', 'child'], ['13', '17', 'parent'], ['14', '3', 'child'], ['14', '6', 'parent'], ['15', '3', 'child'], ['15', '16', 'parent'], ['16', '15', 'child'], ['17', '13', 'child'], ['18', '4', 'child']]}, '0060091229': {'objects': ['0', '1', '2', '3', '4', '5', '6', '7', '8', '9', '10', '11', '12', '13', '14', '15', '16'], 'relationships': [['0', '16', 'parent'], ['14', '15', 'parent'], ['15', '14', 'child'], ['16', '0', 'child']]}, '92298125': {'objects': ['0', '1', '2', '3', '4', '5', '6', '7', '8', '9', '10', '11', '12', '13', '14', '15', '16', '17', '18', '19'], 'relationships': [['0', '11', 'parent'], ['0', '9', 'child'], ['1', '12', 'parent'], ['1', '9', 'child'], ['2', '13', 'parent'], ['2', '9', 'child'], ['3', '15', 'parent'], ['3', '9', 'child'], ['4', '9', 'child'], ['9', '0', 'parent'], ['9', '1', 'parent'], ['9', '2', 'parent'], ['9', '4', 'parent'], ['9', '3', 'parent'], ['11', '0', 'child'], ['12', '1', 'child'], ['13', '2', 'child'], ['15', '3', 'child']]}, '0000989556': {'objects': ['0', '1', '2', '3', '4', '5', '6', '7', '8', '9', '10', '11', '12', '13', '14', '15', '16', '17', '18', '19', '20', '21', '22', '23', '24', '25', '26', '27', '28', '29', '30', '31', '32', '33', '34', '35', '36', '37', '38', '39', '40', '41', '42', '43', '44', '45', '46', '47', '48', '49', '50', '51', '52', '53', '54', '55', '56', '57', '58', '59', '60', '61', '62', '63', '64', '65', '66', '67', '68', '69', '70', '71', '72', '73', '74', '75', '76', '77', '78', '79', '80', '81', '82', '83', '84', '85', '86', '87', '88', '89', '90', '91', '92', '93', '94', '95', '96', '97', '98', '99'], 'relationships': [['0', '2', 'parent'], ['1', '36', 'parent'], ['2', '0', 'child'], ['3', '37', 'parent'], ['4', '6', 'parent'], ['6', '4', 'child'], ['7', '38', 'child'], ['8', '66', 'parent'], ['8', '71', 'parent'], ['8', '70', 'parent'], ['8', '40', None], ['9', '85', 'parent'], ['9', '86', 'parent'], ['9', '18', 'parent'], ['10', '73', 'child'], ['10', '14', 'parent'], ['11', '73', 'child'], ['11', '75', 'parent'], ['12', '73', 'child'], ['12', '17', 'parent'], ['13', '73', 'child'], ['13', '81', 'parent'], ['14', '10', 'child'], ['15', '74', 'child'], ['16', '76', 'child'], ['17', '12', 'child'], ['18', '9', 'child'], ['18', '88', 'parent'], ['19', '89', 'child'], ['19', '26', 'parent'], ['20', '89', 'child'], ['21', '92', 'parent'], ['22', '91', 'parent'], ['23', '85', 'child'], ['25', '90', 'child'], ['26', '19', 'child'], ['27', '95', 'parent'], ['28', '99', 'parent'], ['30', '98', 'parent'], ['31', '33', 'parent'], ['33', '31', 'child'], ['36', '1', 'child'], ['37', '3', 'child'], ['38', '7', 'parent'], ['40', '41', None], ['40', '8', None], ['41', '42', 'parent'], ['41', '43', 'parent'], ['41', '45', 'parent'], ['41', '44', 'parent'], ['41', '46', 'parent'], ['41', '47', 'parent'], ['41', '48', 'parent'], ['41', '49', 'parent'], ['41', '50', 'parent'], ['41', '51', 'parent'], ['41', '52', 'parent'], ['41', '53', 'parent'], ['41', '40', None], ['42', '41', 'child'], ['42', '54', 'parent'], ['43', '41', 'child'], ['43', '55', 'parent'], ['44', '41', 'child'], ['44', '56', 'parent'], ['45', '41', 'child'], ['45', '57', 'parent'], ['46', '41', 'child'], ['46', '58', 'parent'], ['47', '41', 'child'], ['47', '59', 'parent'], ['48', '41', 'child'], ['48', '60', 'parent'], ['49', '41', 'child'], ['49', '61', 'parent'], ['50', '41', 'child'], ['50', '62', 'parent'], ['51', '41', 'child'], ['51', '63', 'parent'], ['52', '41', 'child'], ['52', '64', 'parent'], ['53', '41', 'child'], ['53', '65', 'parent'], ['54', '42', 'child'], ['55', '43', 'child'], ['56', '44', 'child'], ['57', '45', 'child'], ['58', '46', 'child'], ['59', '47', 'child'], ['60', '48', 'child'], ['61', '49', 'child'], ['62', '50', 'child'], ['63', '51', 'child'], ['64', '52', 'child'], ['65', '53', 'child'], ['66', '8', 'child'], ['66', '67', 'parent'], ['67', '66', 'child'], ['68', '71', 'child'], ['69', '70', 'child'], ['70', '8', 'child'], ['70', '69', 'parent'], ['71', '8', 'child'], ['71', '68', 'parent'], ['73', '10', 'parent'], ['73', '74', 'parent'], ['73', '11', 'parent'], ['73', '76', 'parent'], ['73', '12', 'parent'], ['73', '77', 'parent'], ['73', '79', 'parent'], ['73', '80', 'parent'], ['73', '13', 'parent'], ['74', '73', 'child'], ['74', '15', 'parent'], ['75', '11', 'child'], ['76', '73', 'child'], ['76', '16', 'parent'], ['77', '73', 'child'], ['77', '78', 'parent'], ['78', '77', 'child'], ['79', '73', 'child'], ['79', '82', 'parent'], ['80', '73', 'child'], ['80', '83', 'parent'], ['81', '13', 'child'], ['82', '79', 'child'], ['83', '80', 'child'], ['85', '9', 'child'], ['85', '23', 'parent'], ['86', '9', 'child'], ['86', '87', 'parent'], ['87', '86', 'child'], ['88', '18', 'child'], ['89', '19', 'parent'], ['89', '20', 'parent'], ['90', '25', 'parent'], ['91', '22', 'child'], ['92', '21', 'child'], ['93', '94', 'parent'], ['94', '93', 'child'], ['95', '27', 'child'], ['96', '97', 'parent'], ['97', '96', 'child'], ['98', '30', 'child'], ['99', '28', 'child']]}, '0012947358': {'objects': ['0', '1', '2', '3', '4', '5', '6', '7', '8', '9', '10', '11', '12', '13', '14', '15', '16', '17', '18', '19', '20', '21', '22', '23', '24', '25', '26', '27', '28', '29', '30', '31', '32', '33', '34', '35', '36', '37', '38', '39', '40', '41', '42', '43', '44', '45', '46', '47', '48', '49', '50', '51', '52', '53', '54', '55', '56', '57', '58', '59', '60', '61', '62', '63', '64', '65', '66', '67', '68', '69', '70', '71', '72', '73', '74', '75', '76', '77', '78', '79', '80', '81', '82'], 'relationships': [['0', '53', 'parent'], ['0', '54', 'parent'], ['0', '55', 'parent'], ['1', '43', 'parent'], ['2', '45', 'parent'], ['3', '46', 'parent'], ['3', '47', 'parent'], ['4', '48', 'parent'], ['5', '49', 'parent'], ['5', '50', 'parent'], ['6', '56', 'parent'], ['7', '58', 'parent'], ['8', '17', 'parent'], ['10', '63', 'parent'], ['11', '64', 'parent'], ['13', '78', 'parent'], ['14', '79', 'parent'], ['16', '53', 'child'], ['17', '8', 'child'], ['18', '50', 'child'], ['43', '1', 'child'], ['45', '2', 'child'], ['46', '3', 'child'], ['47', '3', 'child'], ['48', '4', 'child'], ['49', '5', 'child'], ['50', '18', 'parent'], ['50', '5', 'child'], ['53', '0', 'child'], ['53', '16', 'parent'], ['54', '0', 'child'], ['55', '0', 'child'], ['56', '6', 'child'], ['58', '7', 'child'], ['61', '62', 'parent'], ['62', '61', 'child'], ['63', '10', 'child'], ['64', '11', 'child'], ['65', '67', 'parent'], ['67', '65', 'child'], ['68', '69', 'parent'], ['69', '68', 'child'], ['70', '74', 'parent'], ['71', '75', 'parent'], ['72', '73', 'parent'], ['73', '72', 'child'], ['74', '70', 'child'], ['75', '71', 'child'], ['76', '77', 'parent'], ['77', '76', 'child'], ['78', '13', 'child'], ['79', '14', 'child']]}, '71190280': {'objects': ['0', '1', '2', '3', '4', '5', '6', '7', '8', '9', '10', '11', '12', '13', '14', '15', '16', '17', '18', '19', '20', '21', '22', '23', '24', '25', '26', '27', '28', '29', '30', '31', '32', '33', '34', '35', '36', '37'], 'relationships': [['0', '31', 'parent'], ['0', '30', 'child'], ['1', '32', 'parent'], ['1', '30', 'child'], ['2', '33', 'parent'], ['2', '30', 'child'], ['3', '34', 'child'], ['4', '34', 'child'], ['5', '34', 'child'], ['5', '11', 'parent'], ['6', '10', 'parent'], ['7', '28', 'parent'], ['8', '13', 'parent'], ['10', '6', 'child'], ['11', '5', 'child'], ['12', '27', 'child'], ['13', '8', 'child'], ['16', '23', 'parent'], ['17', '24', 'parent'], ['18', '19', 'child'], ['19', '18', 'parent'], ['23', '16', 'child'], ['24', '17', 'child'], ['25', '26', 'child'], ['26', '25', 'parent'], ['27', '12', 'parent'], ['28', '7', 'child'], ['30', '0', 'parent'], ['30', '1', 'parent'], ['30', '2', 'parent'], ['31', '0', 'child'], ['32', '1', 'child'], ['33', '2', 'child'], ['34', '5', 'parent'], ['34', '4', 'parent'], ['34', '3', 'parent']]}, '71206427': {'objects': ['0', '1', '2', '3', '4', '5', '6', '7', '8', '9', '10', '11', '12', '13', '14', '15', '16', '17', '18', '19', '20', '21', '22', '23', '24', '25', '26', '27', '28', '29', '30'], 'relationships': [['0', '15', 'parent'], ['1', '13', 'parent'], ['2', '14', 'parent'], ['5', '7', 'parent'], ['5', '6', 'parent'], ['6', '5', 'child'], ['7', '5', 'child'], ['8', '22', 'parent'], ['8', '23', 'parent'], ['9', '24', 'parent'], ['9', '25', 'parent'], ['9', '26', 'parent'], ['9', '27', 'parent'], ['9', '28', 'parent'], ['13', '1', 'child'], ['14', '2', 'child'], ['15', '0', 'child'], ['17', '18', 'parent'], ['17', '19', 'parent'], ['17', '20', 'parent'], ['17', '21', 'parent'], ['18', '17', 'child'], ['19', '17', 'child'], ['20', '17', 'child'], ['21', '17', 'child'], ['22', '8', 'child'], ['23', '8', 'child'], ['24', '9', 'child'], ['25', '9', 'child'], ['26', '9', 'child'], ['27', '9', 'child'], ['28', '29', 'parent'], ['28', '9', 'child'], ['29', '28', 'child']]}, '0001123541': {'objects': ['0', '1', '2', '3', '4', '5', '6', '7', '8', '9', '10', '11', '12', '13', '14', '15', '16', '17', '18', '19', '20', '21', '22', '23', '24', '25', '26', '27', '28', '29', '30', '31', '32', '33', '34', '35', '36', '37', '38', '39'], 'relationships': [['0', '13', 'parent'], ['1', '14', 'parent'], ['2', '3', 'parent'], ['3', '2', 'child'], ['6', '34', 'parent'], ['6', '35', 'parent'], ['6', '36', 'parent'], ['13', '0', 'child'], ['14', '1', 'child'], ['15', '17', 'child'], ['16', '18', 'child'], ['17', '15', 'parent'], ['18', '16', 'parent'], ['19', '23', 'parent'], ['20', '24', 'parent'], ['23', '19', 'child'], ['24', '20', 'child'], ['25', '26', 'parent'], ['26', '25', 'child'], ['27', '28', 'parent'], ['27', '29', 'parent'], ['27', '30', 'parent'], ['28', '27', 'child'], ['29', '27', 'child'], ['30', '27', 'child'], ['31', '32', 'parent'], ['32', '31', 'child'], ['34', '6', 'child'], ['35', '6', 'child'], ['36', '6', 'child']]}, '89386032': {'objects': ['0', '1', '2', '3', '4', '5', '6', '7', '8', '9', '10', '11', '12', '13', '14', '15', '16', '17'], 'relationships': [['1', '11', 'child'], ['2', '13', 'child'], ['3', '4', 'parent'], ['4', '3', 'child'], ['8', '12', 'parent'], ['9', '14', 'parent'], ['10', '15', 'parent'], ['11', '1', 'parent'], ['12', '8', 'child'], ['13', '2', 'parent'], ['14', '9', 'child'], ['15', '10', 'child']]}, '0001209043': {'objects': ['0', '1', '2', '3', '4', '5', '6', '7', '8', '9', '10', '11', '12', '13', '14', '15', '16', '17', '18', '19', '20', '21', '22', '23', '24', '25', '26', '27', '28', '29', '30', '31', '32', '33', '34', '35', '36', '37', '38', '39', '40', '41', '42', '43', '44', '45', '46', '47', '48', '49', '50', '51', '52', '53', '54', '55', '56', '57', '58', '59', '60', '61', '62', '63', '64', '65', '66', '67', '68', '69', '70', '71'], 'relationships': [['0', '46', 'parent'], ['1', '50', 'parent'], ['2', '52', 'parent'], ['3', '18', 'parent'], ['4', '55', 'parent'], ['4', '56', 'parent'], ['6', '11', 'child'], ['6', '19', 'parent'], ['6', '29', 'parent'], ['6', '30', 'parent'], ['6', '37', 'parent'], ['6', '38', 'parent'], ['7', '11', 'child'], ['7', '20', 'parent'], ['7', '27', 'parent'], ['7', '28', 'parent'], ['7', '35', 'parent'], ['7', '36', 'parent'], ['8', '59', 'child'], ['8', '21', 'parent'], ['8', '25', 'parent'], ['8', '26', 'parent'], ['8', '33', 'parent'], ['8', '34', 'parent'], ['8', '41', 'parent'], ['8', '44', 'parent'], ['9', '59', 'child'], ['9', '22', 'parent'], ['9', '23', 'parent'], ['9', '24', 'parent'], ['9', '31', 'parent'], ['9', '32', 'parent'], ['9', '42', 'parent'], ['9', '43', 'parent'], ['10', '60', 'parent'], ['11', '6', 'parent'], ['11', '7', 'parent'], ['12', '19', 'parent'], ['12', '20', 'parent'], ['12', '21', 'parent'], ['12', '22', 'parent'], ['13', '15', 'parent'], ['13', '16', 'parent'], ['14', '61', 'parent'], ['14', '63', 'parent'], ['14', '62', 'parent'], ['14', '64', 'parent'], ['15', '13', 'child'], ['15', '29', 'parent'], ['15', '27', 'parent'], ['15', '25', 'parent'], ['15', '23', 'parent'], ['16', '13', 'child'], ['16', '30', 'parent'], ['16', '28', 'parent'], ['16', '26', 'parent'], ['16', '24', 'parent'], ['17', '48', 'child'], ['18', '3', 'child'], ['19', '12', 'child'], ['19', '6', 'child'], ['20', '12', 'child'], ['20', '7', 'child'], ['21', '12', 'child'], ['21', '8', 'child'], ['22', '12', 'child'], ['22', '9', 'child'], ['23', '15', 'child'], ['23', '9', 'child'], ['24', '16', 'child'], ['24', '9', 'child'], ['25', '15', 'child'], ['25', '8', 'child'], ['26', '16', 'child'], ['26', '8', 'child'], ['27', '15', 'child'], ['27', '7', 'child'], ['28', '16', 'child'], ['28', '7', 'child'], ['29', '15', 'child'], ['29', '6', 'child'], ['30', '16', 'child'], ['30', '6', 'child'], ['31', '65', 'child'], ['31', '9', 'child'], ['32', '66', 'child'], ['32', '9', 'child'], ['33', '65', 'child'], ['33', '8', 'child'], ['34', '66', 'child'], ['34', '8', 'child'], ['35', '65', 'child'], ['35', '7', 'child'], ['36', '66', 'child'], ['36', '7', 'child'], ['37', '65', 'child'], ['37', '6', 'child'], ['38', '66', 'child'], ['38', '6', 'child'], ['39', '70', 'child'], ['41', '68', 'child'], ['41', '8', 'child'], ['42', '68', 'child'], ['42', '9', 'child'], ['43', '69', 'child'], ['43', '9', 'child'], ['44', '69', 'child'], ['44', '8', 'child'], ['46', '0', 'child'], ['47', '49', 'parent'], ['48', '17', 'parent'], ['49', '47', 'child'], ['50', '1', 'child'], ['52', '2', 'child'], ['53', '54', 'parent'], ['54', '53', 'child'], ['55', '4', 'child'], ['56', '4', 'child'], ['57', '58', 'parent'], ['58', '57', 'child'], ['59', '8', 'parent'], ['59', '9', 'parent'], ['60', '10', 'child'], ['61', '14', 'child'], ['62', '14', 'child'], ['63', '14', 'child'], ['64', '14', 'child'], ['65', '37', 'parent'], ['65', '35', 'parent'], ['65', '33', 'parent'], ['65', '31', 'parent'], ['66', '38', 'parent'], ['66', '36', 'parent'], ['66', '34', 'parent'], ['66', '32', 'parent'], ['67', '68', 'parent'], ['67', '69', 'parent'], ['68', '67', 'child'], ['68', '41', 'parent'], ['68', '42', 'parent'], ['69', '67', 'child'], ['69', '44', 'parent'], ['69', '43', 'parent'], ['70', '39', 'parent']]}, '660978': {'objects': ['0', '1', '2', '3', '4', '5', '6', '7', '8', '9', '10', '11', '12', '13', '14', '15', '16', '17', '18', '19', '20', '21', '22', '23', '24', '25', '26', '27', '28', '29'], 'relationships': [['0', '17', 'parent'], ['1', '12', 'parent'], ['2', '18', 'parent'], ['3', '16', 'parent'], ['4', '13', 'parent'], ['5', '19', 'parent'], ['5', '20', 'parent'], ['6', '27', None], ['8', '11', 'parent'], ['9', '28', 'parent'], ['11', '8', 'child'], ['12', '1', 'child'], ['13', '4', 'child'], ['16', '3', 'child'], ['17', '0', 'child'], ['18', '2', 'child'], ['19', '5', 'child'], ['20', '5', 'child'], ['21', '22', 'parent'], ['22', '21', 'child'], ['25', '26', 'parent'], ['26', '25', 'child'], ['27', '6', None], ['28', '9', 'child']]}, '81619486_9488': {'objects': ['0', '1', '2', '3', '4', '5', '6', '7', '8', '9', '10', '11', '12', '13', '14', '15', '16', '17', '18', '19', '20', '21', '22', '23', '24', '25', '26', '27', '28', '29', '30', '31', '32', '33', '34', '35', '36', '37', '38', '39', '40', '41', '42', '43', '44', '45', '46', '47', '48', '49', '50', '51', '52', '53', '54', '55', '56', '57', '58', '59', '60', '61'], 'relationships': [['0', '19', 'parent'], ['1', '21', 'parent'], ['2', '23', 'child'], ['4', '5', 'parent'], ['4', '6', 'parent'], ['5', '4', 'child'], ['6', '4', 'child'], ['8', '14', 'parent'], ['10', '26', 'parent'], ['11', '39', 'child'], ['12', '40', 'child'], ['13', '41', 'child'], ['14', '8', 'child'], ['16', '45', 'child'], ['17', '45', 'child'], ['19', '0', 'child'], ['20', '22', 'parent'], ['20', '24', 'parent'], ['20', '25', 'parent'], ['20', '23', 'parent'], ['21', '1', 'child'], ['22', '20', 'child'], ['23', '20', 'child'], ['23', '2', 'parent'], ['24', '20', 'child'], ['25', '20', 'child'], ['26', '10', 'child'], ['28', '29', 'parent'], ['29', '28', 'child'], ['30', '32', 'child'], ['31', '33', 'child'], ['32', '30', 'parent'], ['33', '31', 'parent'], ['34', '38', 'parent'], ['35', '37', 'parent'], ['37', '35', 'child'], ['38', '34', 'child'], ['39', '11', 'parent'], ['40', '12', 'parent'], ['41', '13', 'parent'], ['43', '49', 'parent'], ['43', '50', 'parent'], ['44', '51', 'parent'], ['44', '52', 'parent'], ['45', '16', 'parent'], ['45', '17', 'parent'], ['49', '43', 'child'], ['50', '43', 'child'], ['51', '44', 'child'], ['52', '44', 'child']]}, '91856041_6049': {'objects': ['0', '1', '2', '3', '4', '5', '6', '7', '8', '9', '10', '11', '12', '13', '14', '15', '16', '17', '18', '19', '20', '21', '22', '23', '24', '25', '26', '27', '28', '29', '30', '31'], 'relationships': [['0', '14', 'parent'], ['0', '15', 'parent'], ['1', '18', 'parent'], ['1', '19', 'parent'], ['1', '20', 'parent'], ['1', '21', 'parent'], ['1', '22', 'parent'], ['1', '23', 'parent'], ['2', '18', 'child'], ['3', '20', 'child'], ['7', '8', 'parent'], ['7', '9', 'parent'], ['7', '10', 'parent'], ['8', '7', 'child'], ['8', '11', 'parent'], ['9', '7', 'child'], ['9', '12', 'parent'], ['10', '7', 'child'], ['10', '13', 'parent'], ['11', '8', 'child'], ['12', '9', 'child'], ['13', '10', 'child'], ['14', '0', 'child'], ['15', '0', 'child'], ['15', '16', 'parent'], ['16', '15', 'child'], ['18', '2', 'parent'], ['18', '1', 'child'], ['19', '1', 'child'], ['20', '3', 'parent'], ['20', '1', 'child'], ['21', '1', 'child'], ['22', '1', 'child'], ['23', '1', 'child'], ['24', '25', 'parent'], ['24', '27', 'parent'], ['24', '29', 'parent'], ['25', '24', 'child'], ['25', '26', 'parent'], ['26', '25', 'child'], ['27', '24', 'child'], ['27', '28', 'parent'], ['28', '27', 'child'], ['29', '24', 'child'], ['29', '30', 'parent'], ['30', '29', 'child']]}, '80707440_7443': {'objects': ['0', '1', '2', '3', '4', '5', '6', '7', '8', '9', '10', '11', '12', '13', '14', '15', '16', '17', '18', '19', '20', '21', '22', '23', '24', '25', '26'], 'relationships': [['0', '11', 'parent'], ['1', '12', 'parent'], ['3', '14', 'parent'], ['4', '15', 'parent'], ['5', '16', 'parent'], ['6', '17', 'parent'], ['7', '20', 'parent'], ['8', '21', 'parent'], ['9', '22', 'parent'], ['11', '0', 'child'], ['12', '1', 'child'], ['14', '3', 'child'], ['15', '4', 'child'], ['16', '5', 'child'], ['17', '6', 'child'], ['18', '19', 'child'], ['19', '18', 'parent'], ['20', '7', 'child'], ['21', '8', 'child'], ['22', '9', 'child'], ['23', '24', 'parent'], ['24', '23', 'child'], ['25', '26', 'parent'], ['26', '25', 'child']]}, '0012602424': {'objects': ['0', '1', '2', '3', '4', '5', '6', '7', '8', '9', '10', '11', '12', '13', '14', '15', '16', '17', '18', '19', '20', '21', '22', '23', '24', '25', '26', '27', '28', '29', '30', '31', '32', '33', '34', '35', '36', '37', '38', '39', '40', '41', '42', '43', '44', '45', '46', '47', '48', '49', '50', '51', '52', '53', '54', '55', '56', '57', '58', '59', '60', '61', '62', '63', '64', '65', '66', '67', '68', '69', '70', '71', '72', '73', '74', '75', '76', '77', '78', '79', '80', '81', '82', '83', '84', '85', '86', '87'], 'relationships': [['0', '41', 'parent'], ['1', '44', 'parent'], ['10', '50', 'parent'], ['16', '69', 'parent'], ['18', '71', 'parent'], ['19', '72', 'parent'], ['20', '73', 'parent'], ['30', '79', 'parent'], ['31', '80', 'parent'], ['32', '51', 'parent'], ['32', '52', 'parent'], ['32', '53', 'parent'], ['33', '74', 'child'], ['34', '75', 'child'], ['35', '77', 'child'], ['36', '78', 'child'], ['39', '40', 'parent'], ['40', '39', 'child'], ['41', '0', 'child'], ['42', '43', 'parent'], ['43', '42', 'child'], ['44', '1', 'child'], ['46', '48', 'child'], ['47', '49', 'child'], ['48', '46', 'parent'], ['49', '47', 'parent'], ['50', '10', 'child'], ['51', '54', 'parent'], ['51', '32', 'child'], ['52', '55', 'parent'], ['52', '32', 'child'], ['53', '56', 'parent'], ['53', '32', 'child'], ['54', '51', 'child'], ['55', '52', 'child'], ['56', '53', 'child'], ['57', '67', 'parent'], ['58', '65', 'parent'], ['59', '66', 'parent'], ['60', '64', 'parent'], ['62', '63', 'parent'], ['63', '62', 'child'], ['64', '60', 'child'], ['65', '58', 'child'], ['66', '59', 'child'], ['67', '57', 'child'], ['69', '16', 'child'], ['71', '18', 'child'], ['72', '19', 'child'], ['73', '20', 'child'], ['74', '33', 'parent'], ['75', '34', 'parent'], ['76', '83', 'parent'], ['77', '35', 'parent'], ['77', '82', None], ['78', '81', None], ['78', '36', 'parent'], ['79', '30', 'child'], ['80', '31', 'child'], ['81', '78', None], ['82', '77', None], ['83', '76', 'child'], ['84', '86', 'parent'], ['85', '87', 'parent'], ['86', '84', 'child'], ['87', '85', 'child']]}, '0060270727': {'objects': ['0', '1', '2', '3', '4', '5', '6', '7', '8', '9', '10', '11', '12', '13', '14', '15', '16', '17', '18', '19', '20', '21', '22', '23', '24', '25', '26', '27', '28', '29', '30', '31', '32', '33', '34', '35', '36', '37', '38', '39', '40', '41', '42', '43', '44', '45', '46', '47', '48', '49', '50', '51', '52', '53', '54', '55', '56', '57', '58', '59', '60', '61', '62', '63', '64', '65', '66', '67', '68', '69', '70', '71', '72', '73', '74', '75', '76', '77', '78', '79', '80', '81', '82', '83', '84'], 'relationships': [['0', '48', 'child'], ['1', '49', 'child'], ['2', '54', 'parent'], ['2', '47', 'child'], ['3', '6', 'child'], ['4', '56', 'parent'], ['4', '47', 'child'], ['6', '3', 'parent'], ['6', '47', 'child'], ['7', '47', 'child'], ['8', '61', 'parent'], ['8', '47', 'child'], ['14', '84', 'child'], ['15', '62', 'parent'], ['15', '47', 'child'], ['16', '71', 'child'], ['17', '72', 'child'], ['18', '73', 'child'], ['19', '77', 'child'], ['20', '80', 'child'], ['21', '83', 'child'], ['47', '48', 'parent'], ['47', '49', 'parent'], ['47', '50', 'parent'], ['47', '52', 'parent'], ['47', '6', 'parent'], ['47', '2', 'parent'], ['47', '57', 'parent'], ['47', '4', 'parent'], ['47', '58', 'parent'], ['47', '7', 'parent'], ['47', '59', 'parent'], ['47', '8', 'parent'], ['47', '15', 'parent'], ['47', '63', 'parent'], ['47', '66', 'parent'], ['47', '67', 'parent'], ['47', '69', 'parent'], ['48', '0', 'parent'], ['48', '47', 'child'], ['49', '1', 'parent'], ['49', '47', 'child'], ['50', '51', 'parent'], ['50', '47', 'child'], ['51', '50', 'child'], ['52', '53', 'parent'], ['52', '47', 'child'], ['53', '52', 'child'], ['54', '2', 'child'], ['55', '57', 'child'], ['56', '4', 'child'], ['57', '55', 'parent'], ['57', '47', 'child'], ['58', '47', 'child'], ['59', '60', 'parent'], ['59', '47', 'child'], ['60', '59', 'child'], ['61', '8', 'child'], ['62', '15', 'child'], ['63', '64', 'parent'], ['63', '47', 'child'], ['64', '63', 'child'], ['65', '66', 'child'], ['66', '65', 'parent'], ['66', '47', 'child'], ['67', '68', 'parent'], ['67', '47', 'child'], ['68', '67', 'child'], ['69', '47', 'child'], ['70', '71', 'parent'], ['70', '72', 'parent'], ['70', '73', 'parent'], ['70', '74', 'parent'], ['70', '75', 'parent'], ['70', '76', 'parent'], ['70', '77', 'parent'], ['70', '78', 'parent'], ['70', '79', 'parent'], ['70', '80', 'parent'], ['70', '81', 'parent'], ['70', '82', 'parent'], ['70', '83', 'parent'], ['70', '84', 'parent'], ['71', '16', 'parent'], ['71', '70', 'child'], ['72', '17', 'parent'], ['72', '70', 'child'], ['73', '18', 'parent'], ['73', '70', 'child'], ['74', '70', 'child'], ['75', '70', 'child'], ['76', '70', 'child'], ['77', '19', 'parent'], ['77', '70', 'child'], ['78', '70', 'child'], ['79', '70', 'child'], ['80', '20', 'parent'], ['80', '70', 'child'], ['81', '70', 'child'], ['82', '70', 'child'], ['83', '21', 'parent'], ['83', '70', 'child'], ['84', '14', 'parent'], ['84', '70', 'child']]}, '92657391': {'objects': ['0', '1', '2', '3', '4', '5', '6', '7', '8', '9', '10', '11', '12', '13', '14', '15', '16', '17', '18', '19', '20', '21', '22', '23', '24', '25', '26', '27', '28', '29', '30', '31', '32', '33', '34', '35', '36'], 'relationships': [['1', '16', 'parent'], ['2', '17', 'parent'], ['3', '18', 'child'], ['4', '20', 'child'], ['4', '22', 'parent'], ['5', '20', 'child'], ['5', '23', 'parent'], ['6', '25', 'child'], ['6', '26', 'parent'], ['7', '25', 'child'], ['7', '27', 'parent'], ['8', '30', 'parent'], ['9', '31', 'parent'], ['9', '32', 'parent'], ['9', '33', 'parent'], ['9', '34', 'parent'], ['9', '35', 'parent'], ['16', '1', 'child'], ['17', '2', 'child'], ['18', '3', 'parent'], ['20', '4', 'parent'], ['20', '5', 'parent'], ['20', '21', 'parent'], ['21', '20', 'child'], ['21', '24', 'parent'], ['22', '4', 'child'], ['23', '5', 'child'], ['24', '21', 'child'], ['25', '6', 'parent'], ['25', '7', 'parent'], ['25', '29', 'parent'], ['26', '6', 'child'], ['27', '7', 'child'], ['28', '29', 'child'], ['29', '25', 'child'], ['29', '28', 'parent'], ['30', '8', 'child'], ['31', '9', 'child'], ['32', '9', 'child'], ['33', '9', 'child'], ['34', '9', 'child'], ['35', '9', 'child']]}, '0060302201': {'objects': ['0', '1', '2', '3', '4', '5', '6', '7', '8', '9', '10', '11', '12', '13', '14', '15', '16', '17', '18', '19', '20', '21', '22', '23', '24', '25', '26', '27', '28', '29', '30', '31', '32', '33'], 'relationships': [['0', '7', 'parent'], ['1', '2', 'parent'], ['2', '1', 'child'], ['3', '8', 'parent'], ['4', '32', 'parent'], ['4', '33', 'parent'], ['5', '14', 'child'], ['7', '0', 'child'], ['8', '3', 'child'], ['9', '10', 'parent'], ['10', '9', 'child'], ['11', '12', 'parent'], ['11', '13', 'parent'], ['12', '11', 'child'], ['13', '11', 'child'], ['14', '5', 'parent'], ['15', '16', 'parent'], ['16', '15', 'child'], ['17', '18', 'parent'], ['18', '17', 'child'], ['19', '20', 'parent'], ['20', '19', 'child'], ['21', '22', 'parent'], ['22', '21', 'child'], ['23', '24', 'parent'], ['24', '23', 'child'], ['25', '26', 'parent'], ['26', '25', 'child'], ['27', '28', 'parent'], ['28', '27', 'child'], ['32', '4', 'child'], ['33', '4', 'child']]}, '0001129658': {'objects': ['0', '1', '2', '3', '4', '5', '6', '7', '8', '9', '10', '11', '12', '13', '14', '15', '16', '17', '18', '19', '20', '21', '22', '23', '24', '25', '26', '27', '28', '29', '30', '31', '32', '33', '34', '35', '36', '37', '38', '39', '40', '41'], 'relationships': [['0', '18', 'parent'], ['1', '26', 'parent'], ['2', '25', 'parent'], ['3', '27', 'parent'], ['4', '29', 'parent'], ['4', '30', 'parent'], ['4', '28', 'child'], ['5', '31', 'parent'], ['5', '32', 'parent'], ['5', '28', 'child'], ['6', '33', 'parent'], ['6', '34', 'parent'], ['6', '28', 'child'], ['7', '33', 'parent'], ['7', '34', 'parent'], ['7', '28', 'child'], ['9', '12', 'child'], ['10', '12', 'child'], ['11', '12', 'child'], ['12', '11', 'parent'], ['12', '10', 'parent'], ['12', '9', 'parent'], ['18', '0', 'child'], ['23', '24', 'parent'], ['24', '23', 'child'], ['25', '2', 'child'], ['26', '1', 'child'], ['27', '3', 'child'], ['28', '4', 'parent'], ['28', '5', 'parent'], ['28', '7', 'parent'], ['28', '6', 'parent'], ['28', '36', 'parent'], ['29', '4', 'child'], ['30', '4', 'child'], ['31', '5', 'child'], ['32', '5', 'child'], ['33', '6', 'child'], ['33', '7', 'child'], ['34', '6', 'child'], ['34', '7', 'child'], ['35', '36', 'child'], ['36', '35', 'parent'], ['36', '28', 'child']]}, '0001239897': {'objects': ['0', '1', '2', '3', '4', '5', '6', '7', '8', '9', '10', '11', '12', '13', '14', '15', '16', '17', '18', '19', '20', '21', '22', '23', '24', '25', '26', '27', '28', '29', '30', '31', '32', '33', '34', '35', '36', '37', '38', '39', '40', '41', '42', '43', '44', '45', '46', '47', '48'], 'relationships': [['2', '33', 'parent'], ['3', '34', 'parent'], ['4', '35', 'parent'], ['4', '36', 'parent'], ['5', '32', 'parent'], ['6', '42', 'parent'], ['6', '43', 'parent'], ['6', '44', 'parent'], ['6', '8', None], ['6', '9', None], ['7', '14', 'parent'], ['7', '15', None], ['8', '6', None], ['8', '12', 'parent'], ['8', '13', 'parent'], ['9', '11', 'parent'], ['9', '11', 'parent'], ['9', '10', 'parent'], ['9', '6', None], ['10', '9', 'child'], ['11', '9', 'child'], ['11', '9', 'child'], ['12', '8', 'child'], ['13', '8', 'child'], ['14', '7', 'child'], ['14', '47', 'parent'], ['14', '48', 'parent'], ['15', '7', None], ['15', '45', 'parent'], ['15', '46', 'parent'], ['16', '45', 'child'], ['17', '46', 'child'], ['18', '45', 'child'], ['19', '46', 'child'], ['20', '45', 'child'], ['21', '46', 'child'], ['22', '28', 'child'], ['23', '30', 'child'], ['24', '28', 'child'], ['25', '29', 'child'], ['26', '29', 'child'], ['27', '30', 'child'], ['28', '24', 'parent'], ['28', '22', 'parent'], ['29', '25', 'parent'], ['29', '30', None], ['29', '26', 'parent'], ['30', '23', 'parent'], ['30', '27', 'parent'], ['30', '29', None], ['32', '5', 'child'], ['33', '2', 'child'], ['34', '3', 'child'], ['35', '4', 'child'], ['35', '37', 'parent'], ['36', '4', 'child'], ['36', '38', 'parent'], ['37', '35', 'child'], ['38', '36', 'child'], ['42', '6', 'child'], ['43', '6', 'child'], ['44', '6', 'child'], ['45', '15', 'child'], ['45', '16', 'parent'], ['45', '18', 'parent'], ['45', '20', 'parent'], ['46', '15', 'child'], ['46', '17', 'parent'], ['46', '19', 'parent'], ['46', '21', 'parent'], ['47', '14', 'child'], ['48', '14', 'child']]}, '0012178355': {'objects': ['0', '1', '2', '3', '4', '5', '6', '7', '8', '9', '10', '11', '12', '13', '14', '15', '16', '17', '18', '19', '20', '21', '22', '23', '24', '25', '26', '27', '28', '29', '30', '31', '32', '33', '34', '35', '36', '37', '38', '39', '40', '41', '42', '43', '44', '45', '46', '47', '48', '49', '50', '51', '52', '53', '54', '55', '56', '57', '58', '59', '60', '61'], 'relationships': [['0', '26', 'parent'], ['1', '2', 'parent'], ['2', '1', 'child'], ['4', '40', 'parent'], ['5', '59', 'parent'], ['15', '48', 'child'], ['18', '32', 'child'], ['19', '28', 'child'], ['20', '49', 'child'], ['21', '51', 'child'], ['26', '0', 'child'], ['28', '29', 'parent'], ['28', '31', 'parent'], ['28', '30', 'parent'], ['28', '32', 'parent'], ['28', '33', 'parent'], ['28', '34', 'parent'], ['28', '35', 'parent'], ['28', '36', 'parent'], ['28', '37', 'parent'], ['28', '38', 'parent'], ['28', '39', 'parent'], ['28', '19', 'parent'], ['29', '28', 'child'], ['30', '28', 'child'], ['31', '28', 'child'], ['32', '28', 'child'], ['32', '18', 'parent'], ['33', '28', 'child'], ['34', '28', 'child'], ['35', '28', 'child'], ['36', '28', 'child'], ['37', '28', 'child'], ['38', '28', 'child'], ['39', '28', 'child'], ['40', '4', 'child'], ['42', '43', 'parent'], ['43', '42', 'child'], ['44', '45', 'parent'], ['44', '46', 'parent'], ['44', '47', 'parent'], ['45', '44', 'child'], ['46', '44', 'child'], ['47', '44', 'child'], ['48', '15', 'parent'], ['48', '49', 'parent'], ['48', '50', 'parent'], ['48', '51', 'parent'], ['48', '52', 'parent'], ['48', '53', 'parent'], ['48', '54', 'parent'], ['48', '55', 'parent'], ['48', '56', 'parent'], ['49', '48', 'child'], ['49', '20', 'parent'], ['50', '48', 'child'], ['51', '48', 'child'], ['51', '21', 'parent'], ['52', '48', 'child'], ['53', '48', 'child'], ['54', '48', 'child'], ['55', '48', 'child'], ['56', '48', 'child'], ['57', '58', 'parent'], ['58', '57', 'child'], ['59', '5', 'child']]}, '0060207528': {'objects': ['0', '1', '2', '3', '4', '5', '6', '7', '8', '9', '10', '11', '12', '13', '14', '15', '16', '17', '18', '19', '20', '21', '22', '23', '24', '25', '26', '27', '28', '29', '30', '31', '32', '33', '34', '35', '36', '37', '38', '39', '40', '41', '42', '43'], 'relationships': [['0', '21', 'parent'], ['1', '22', 'parent'], ['2', '25', 'parent'], ['3', '8', 'child'], ['4', '7', 'child'], ['5', '6', 'child'], ['6', '5', 'parent'], ['6', '30', 'child'], ['7', '4', 'parent'], ['7', '30', 'child'], ['8', '3', 'parent'], ['8', '30', 'child'], ['9', '11', 'parent'], ['11', '9', 'child'], ['12', '14', 'parent'], ['12', '42', None], ['13', '43', 'parent'], ['14', '12', 'child'], ['16', '31', 'child'], ['21', '0', 'child'], ['22', '1', 'child'], ['23', '24', 'child'], ['24', '23', 'parent'], ['25', '2', 'child'], ['26', '28', 'child'], ['27', '29', 'child'], ['28', '26', 'parent'], ['29', '27', 'parent'], ['30', '8', 'parent'], ['30', '7', 'parent'], ['30', '6', 'parent'], ['31', '16', 'parent'], ['33', '34', 'parent'], ['34', '33', 'child'], ['35', '36', 'parent'], ['36', '35', 'child'], ['37', '38', 'parent'], ['38', '37', 'child'], ['39', '40', 'child'], ['40', '39', 'parent'], ['42', '12', None], ['43', '13', 'child']]}, '00865872': {'objects': ['0', '1', '2', '3', '4', '5', '6', '7', '8', '9', '10', '11', '12', '13', '14', '15', '16', '17', '18', '19', '20', '21', '22', '23', '24', '25', '26', '27', '28', '29', '30', '31', '32', '33', '34', '35', '36', '37', '38', '39'], 'relationships': [['0', '25', 'child'], ['1', '29', 'parent'], ['2', '31', 'parent'], ['3', '4', None], ['4', '30', 'parent'], ['4', '32', 'parent'], ['4', '3', None], ['5', '33', 'parent'], ['5', '35', 'parent'], ['6', '34', 'parent'], ['8', '14', 'parent'], ['8', '13', 'parent'], ['8', '12', 'parent'], ['10', '15', 'parent'], ['11', '21', 'parent'], ['12', '8', 'child'], ['13', '8', 'child'], ['14', '8', 'child'], ['15', '10', 'child'], ['21', '11', 'child'], ['22', '23', 'parent'], ['23', '22', 'child'], ['25', '0', 'parent'], ['27', '28', 'parent'], ['28', '27', 'child'], ['29', '1', 'child'], ['30', '4', 'child'], ['31', '2', 'child'], ['32', '4', 'child'], ['33', '5', 'child'], ['34', '6', 'child'], ['35', '5', 'child'], ['36', '37', 'parent'], ['37', '36', 'child']]}, '716552': {'objects': ['0', '1', '2', '3', '4', '5', '6', '7', '8', '9', '10', '11', '12', '13', '14', '15', '16', '17', '18', '19', '20', '21', '22', '23', '24', '25', '26', '27', '28', '29', '30', '31', '32', '33', '34', '35', '36', '37', '38', '39', '40', '41', '42', '43', '44', '45', '46', '47', '48', '49', '50', '51', '52', '53', '54', '55', '56', '57', '58', '59', '60', '61', '62', '63', '64', '65', '66', '67'], 'relationships': [['0', '34', 'parent'], ['0', '33', 'child'], ['2', '37', 'parent'], ['2', '33', 'child'], ['3', '38', 'child'], ['4', '8', 'child'], ['5', '8', None], ['5', '43', None], ['5', '44', None], ['5', '45', 'parent'], ['5', '10', 'parent'], ['6', '41', 'child'], ['6', '7', 'parent'], ['7', '6', 'child'], ['8', '5', None], ['8', '4', 'parent'], ['10', '5', 'child'], ['12', '46', 'child'], ['12', '13', 'parent'], ['13', '12', 'child'], ['16', '51', 'parent'], ['16', '50', 'parent'], ['19', '54', 'parent'], ['21', '61', 'parent'], ['24', '55', 'child'], ['25', '56', 'child'], ['26', '62', 'parent'], ['29', '65', 'parent'], ['30', '66', 'parent'], ['33', '0', 'parent'], ['33', '35', 'parent'], ['33', '2', 'parent'], ['33', '38', 'parent'], ['33', '39', 'parent'], ['34', '0', 'child'], ['35', '36', 'parent'], ['35', '33', 'child'], ['36', '35', 'child'], ['37', '2', 'child'], ['38', '3', 'parent'], ['38', '33', 'child'], ['39', '40', 'parent'], ['39', '33', 'child'], ['40', '39', 'child'], ['41', '6', 'parent'], ['41', '42', 'parent'], ['42', '41', 'child'], ['43', '5', None], ['44', '5', None], ['45', '5', 'child'], ['46', '48', 'parent'], ['46', '12', 'parent'], ['48', '46', 'child'], ['50', '16', 'child'], ['50', '53', 'child'], ['51', '16', 'child'], ['51', '52', 'child'], ['52', '51', 'parent'], ['53', '50', 'parent'], ['54', '19', 'child'], ['55', '24', 'parent'], ['56', '25', 'parent'], ['57', '58', 'parent'], ['58', '57', 'child'], ['60', '61', 'parent'], ['61', '60', 'child'], ['61', '21', 'child'], ['62', '26', 'child'], ['63', '64', 'child'], ['64', '63', 'parent'], ['65', '29', 'child'], ['66', '30', 'child']]}, '81619511_9513': {'objects': ['0', '1', '2', '3', '4', '5', '6', '7', '8', '9', '10', '11', '12', '13', '14', '15', '16', '17', '18', '19', '20', '21', '22', '23', '24', '25', '26', '27', '28', '29', '30', '31', '32', '33', '34', '35', '36', '37', '38', '39', '40', '41', '42', '43', '44', '45', '46', '47', '48', '49', '50', '51', '52', '53', '54', '55', '56', '57', '58', '59', '60', '61', '62', '63', '64', '65', '66', '67', '68', '69', '70', '71', '72', '73', '74', '75', '76', '77', '78', '79', '80', '81'], 'relationships': [['0', '2', 'parent'], ['1', '3', 'parent'], ['2', '0', 'child'], ['3', '1', 'child'], ['4', '34', 'child'], ['5', '36', 'parent'], ['7', '9', 'parent'], ['7', '11', 'parent'], ['8', '12', 'parent'], ['8', '13', 'parent'], ['9', '10', 'parent'], ['9', '7', 'child'], ['10', '9', 'child'], ['11', '7', 'child'], ['12', '8', 'child'], ['13', '8', 'child'], ['14', '50', 'child'], ['15', '50', 'child'], ['16', '50', 'child'], ['17', '50', 'child'], ['18', '50', 'child'], ['19', '70', 'child'], ['20', '67', 'child'], ['21', '67', 'child'], ['22', '67', 'child'], ['23', '67', 'child'], ['24', '67', 'child'], ['25', '67', 'child'], ['26', '67', 'child'], ['27', '67', 'child'], ['28', '67', 'child'], ['31', '32', 'parent'], ['31', '35', 'parent'], ['31', '33', 'parent'], ['31', '34', 'parent'], ['32', '31', 'child'], ['33', '31', 'child'], ['34', '31', 'child'], ['34', '4', 'parent'], ['35', '31', 'child'], ['36', '5', 'child'], ['48', '59', 'parent'], ['48', '60', 'parent'], ['48', '61', 'parent'], ['48', '62', 'parent'], ['48', '63', 'parent'], ['49', '54', 'parent'], ['49', '55', 'parent'], ['49', '56', 'parent'], ['49', '57', 'parent'], ['49', '58', 'parent'], ['50', '14', 'parent'], ['50', '15', 'parent'], ['50', '16', 'parent'], ['50', '17', 'parent'], ['50', '18', 'parent'], ['54', '49', 'child'], ['55', '49', 'child'], ['56', '49', 'child'], ['57', '49', 'child'], ['58', '49', 'child'], ['59', '48', 'child'], ['60', '48', 'child'], ['61', '48', 'child'], ['62', '48', 'child'], ['63', '48', 'child'], ['65', '72', 'parent'], ['65', '73', 'parent'], ['65', '74', 'parent'], ['65', '75', 'parent'], ['65', '76', 'parent'], ['65', '77', 'parent'], ['65', '78', 'parent'], ['65', '79', 'parent'], ['65', '80', 'parent'], ['67', '20', 'parent'], ['67', '21', 'parent'], ['67', '22', 'parent'], ['67', '23', 'parent'], ['67', '24', 'parent'], ['67', '25', 'parent'], ['67', '26', 'parent'], ['67', '27', 'parent'], ['67', '28', 'parent'], ['68', '71', 'parent'], ['70', '19', 'parent'], ['71', '68', 'child'], ['72', '65', 'child'], ['73', '65', 'child'], ['74', '65', 'child'], ['75', '65', 'child'], ['76', '65', 'child'], ['77', '65', 'child'], ['78', '65', 'child'], ['79', '65', 'child'], ['80', '65', 'child']]}, '71563825': {'objects': ['0', '1', '2', '3', '4', '5', '6', '7', '8', '9', '10', '11', '12', '13', '14', '15', '16', '17', '18', '19', '20', '21', '22', '23', '24', '25', '26', '27', '28', '29', '30', '31', '32', '33', '34', '35', '36', '37', '38', '39', '40', '41', '42', '43', '44', '45', '46', '47', '48', '49', '50', '51', '52', '53'], 'relationships': [['2', '22', 'parent'], ['3', '31', 'parent'], ['4', '13', 'parent'], ['4', '37', 'child'], ['5', '14', 'parent'], ['5', '37', 'child'], ['6', '43', 'parent'], ['6', '42', 'child'], ['7', '45', 'parent'], ['7', '42', 'child'], ['8', '46', 'parent'], ['9', '20', 'child'], ['10', '21', 'child'], ['11', '21', 'child'], ['12', '21', 'child'], ['13', '4', 'child'], ['14', '5', 'child'], ['20', '9', 'parent'], ['21', '23', 'parent'], ['21', '11', 'parent'], ['21', '24', 'parent'], ['21', '10', 'parent'], ['21', '12', 'parent'], ['22', '2', 'child'], ['23', '21', 'child'], ['24', '21', 'child'], ['25', '26', 'parent'], ['26', '25', 'child'], ['27', '28', 'parent'], ['28', '27', 'child'], ['29', '30', 'parent'], ['30', '29', 'child'], ['31', '3', 'child'], ['32', '33', 'parent'], ['32', '34', 'parent'], ['32', '35', 'parent'], ['32', '36', 'parent'], ['33', '32', 'child'], ['34', '32', 'child'], ['35', '32', 'child'], ['36', '32', 'child'], ['37', '4', 'parent'], ['37', '5', 'parent'], ['37', '39', 'parent'], ['37', '40', 'parent'], ['37', '42', None], ['38', '39', 'child'], ['39', '38', 'parent'], ['39', '37', 'child'], ['40', '41', 'parent'], ['40', '37', 'child'], ['41', '40', 'child'], ['42', '37', None], ['42', '6', 'parent'], ['42', '53', 'parent'], ['42', '7', 'parent'], ['43', '6', 'child'], ['44', '53', 'child'], ['45', '7', 'child'], ['46', '8', 'child'], ['47', '52', 'child'], ['48', '49', 'parent'], ['48', '50', 'parent'], ['49', '48', 'child'], ['50', '48', 'child'], ['52', '47', 'parent'], ['53', '44', 'parent'], ['53', '42', 'child']]}, '0060029036': {'objects': ['0', '1', '2', '3', '4', '5', '6', '7', '8', '9', '10', '11', '12', '13', '14', '15', '16', '17', '18', '19', '20', '21', '22', '23', '24', '25', '26', '27', '28', '29', '30', '31', '32', '33', '34', '35', '36', '37', '38', '39', '40', '41', '42', '43', '44', '45', '46', '47'], 'relationships': [['0', '23', 'parent'], ['1', '22', 'parent'], ['2', '13', 'parent'], ['3', '34', 'parent'], ['4', '32', 'parent'], ['4', '33', 'parent'], ['5', '32', 'parent'], ['6', '33', 'parent'], ['6', '34', 'parent'], ['6', '13', 'parent'], ['8', '39', 'parent'], ['10', '14', 'parent'], ['13', '2', 'child'], ['13', '6', 'child'], ['14', '10', 'child'], ['16', '17', 'child'], ['17', '16', 'parent'], ['18', '19', 'parent'], ['19', '18', 'child'], ['20', '21', 'child'], ['21', '20', 'parent'], ['22', '1', 'child'], ['23', '0', 'child'], ['24', '27', 'parent'], ['25', '26', 'parent'], ['26', '25', 'child'], ['27', '24', 'child'], ['28', '29', 'parent'], ['29', '28', 'child'], ['32', '5', 'child'], ['32', '4', 'child'], ['33', '6', 'child'], ['33', '4', 'child'], ['34', '3', 'child'], ['34', '6', 'child'], ['39', '8', 'child'], ['46', '47', 'parent'], ['47', '46', 'child']]}, '91391286': {'objects': ['0', '1', '2', '3', '4', '5', '6', '7', '8', '9', '10', '11', '12', '13', '14', '15', '16', '17', '18', '19', '20', '21', '22', '23', '24', '25', '26', '27', '28', '29', '30', '31', '32', '33', '34', '35', '36', '37', '38', '39', '40', '41', '42', '43'], 'relationships': [['0', '16', 'parent'], ['1', '17', 'parent'], ['2', '18', 'parent'], ['3', '21', 'parent'], ['4', '8', 'parent'], ['5', '23', 'child'], ['6', '26', 'child'], ['7', '27', 'child'], ['8', '4', 'child'], ['9', '32', 'child'], ['10', '37', 'child'], ['11', '41', 'child'], ['12', '43', 'child'], ['13', '42', 'child'], ['16', '0', 'child'], ['17', '1', 'child'], ['18', '2', 'child'], ['20', '22', 'child'], ['21', '3', 'child'], ['22', '20', 'parent'], ['23', '5', 'parent'], ['24', '25', 'parent'], ['25', '24', 'child'], ['26', '6', 'parent'], ['27', '7', 'parent'], ['28', '29', 'parent'], ['29', '28', 'child'], ['30', '31', 'parent'], ['31', '30', 'child'], ['32', '9', 'parent'], ['33', '34', 'parent'], ['34', '33', 'child'], ['35', '36', 'parent'], ['36', '35', 'child'], ['37', '10', 'parent'], ['38', '39', 'parent'], ['38', '41', 'parent'], ['38', '42', 'parent'], ['38', '43', 'parent'], ['39', '40', 'parent'], ['39', '38', 'child'], ['40', '39', 'child'], ['41', '11', 'parent'], ['41', '38', 'child'], ['42', '13', 'parent'], ['42', '38', 'child'], ['43', '12', 'parent'], ['43', '38', 'child']]}, '0011845203': {'objects': ['0', '1', '2', '3', '4', '5', '6', '7', '8', '9', '10', '11', '12', '13', '14', '15', '16', '17', '18', '19', '20', '21', '22', '23', '24', '25', '26', '27', '28', '29', '30', '31', '32', '33', '34', '35', '36', '37', '38', '39', '40', '41', '42', '43', '44', '45', '46', '47', '48', '49', '50', '51', '52'], 'relationships': [['0', '33', 'parent'], ['24', '41', 'parent'], ['25', '41', 'parent'], ['29', '30', 'parent'], ['30', '29', 'child'], ['31', '32', 'parent'], ['32', '31', 'child'], ['33', '0', 'child'], ['35', '36', 'parent'], ['35', '37', 'parent'], ['36', '38', 'parent'], ['36', '35', 'child'], ['37', '39', 'parent'], ['37', '35', 'child'], ['38', '36', 'child'], ['39', '37', 'child'], ['40', '42', 'child'], ['41', '24', 'child'], ['41', '25', 'child'], ['42', '40', 'parent'], ['44', '45', 'child'], ['45', '44', 'parent']]}, '80310840a': {'objects': ['0', '1', '2', '3', '4', '5', '6', '7', '8', '9', '10', '11', '12', '13', '14', '15', '16', '17', '18', '19', '20', '21', '22', '23', '24', '25', '26', '27', '28', '29', '30', '31', '32', '33', '34', '35', '36', '37', '38', '39', '40', '41', '42', '43', '44', '45', '46', '47', '48', '49', '50', '51', '52', '53', '54', '55', '56', '57', '58', '59', '60', '61', '62', '63', '64'], 'relationships': [['1', '18', 'parent'], ['2', '3', 'parent'], ['3', '2', 'child'], ['4', '33', 'parent'], ['17', '51', 'child'], ['18', '1', 'child'], ['30', '32', 'child'], ['31', '32', 'child'], ['32', '31', 'parent'], ['32', '30', 'parent'], ['33', '4', 'child'], ['34', '35', 'parent'], ['34', '36', 'parent'], ['35', '34', 'child'], ['36', '34', 'child'], ['37', '38', None], ['37', '39', 'parent'], ['37', '40', 'parent'], ['38', '37', None], ['39', '37', 'child'], ['40', '37', 'child'], ['41', '42', 'parent'], ['42', '41', 'child'], ['44', '45', 'parent'], ['44', '46', 'parent'], ['45', '44', 'child'], ['46', '44', 'child'], ['47', '64', 'parent'], ['48', '52', 'parent'], ['49', '53', 'parent'], ['50', '54', 'parent'], ['51', '55', 'parent'], ['51', '17', 'parent'], ['51', '57', 'parent'], ['51', '56', 'parent'], ['52', '48', 'child'], ['53', '49', 'child'], ['54', '50', 'child'], ['55', '51', 'child'], ['56', '51', 'child'], ['57', '51', 'child'], ['58', '63', 'child'], ['59', '60', 'parent'], ['60', '59', 'child'], ['63', '58', 'parent'], ['64', '47', 'child']]}, '0011899960': {'objects': ['0', '1', '2', '3', '4', '5', '6', '7', '8', '9', '10', '11', '12', '13', '14', '15', '16', '17', '18', '19', '20', '21', '22', '23', '24', '25', '26', '27', '28', '29'], 'relationships': [['0', '10', 'parent'], ['0', '12', 'parent'], ['1', '13', 'parent'], ['2', '11', 'parent'], ['3', '14', 'parent'], ['5', '16', 'parent'], ['5', '15', 'child'], ['6', '21', 'parent'], ['6', '15', 'child'], ['7', '22', 'parent'], ['7', '15', 'child'], ['8', '29', 'parent'], ['10', '0', 'child'], ['11', '2', 'child'], ['12', '0', 'child'], ['13', '1', 'child'], ['14', '3', 'child'], ['15', '5', 'parent'], ['15', '17', 'parent'], ['15', '19', 'parent'], ['15', '6', 'parent'], ['15', '7', 'parent'], ['15', '25', 'parent'], ['16', '5', 'child'], ['17', '18', 'parent'], ['17', '15', 'child'], ['18', '17', 'child'], ['19', '20', 'parent'], ['19', '15', 'child'], ['20', '19', 'child'], ['21', '6', 'child'], ['22', '7', 'child'], ['23', '24', 'parent'], ['24', '23', 'child'], ['25', '15', 'child'], ['25', '26', None], ['25', '27', None], ['26', '25', None], ['27', '25', None], ['29', '8', 'child']]}, '91903177': {'objects': ['0', '1', '2', '3', '4', '5', '6', '7', '8', '9', '10', '11', '12', '13', '14', '15', '16', '17', '18', '19', '20', '21', '22', '23', '24', '25', '26', '27', '28', '29', '30', '31', '32', '33', '34', '35', '36', '37'], 'relationships': [['0', '8', 'parent'], ['2', '29', 'parent'], ['2', '30', 'parent'], ['2', '31', 'parent'], ['2', '3', 'parent'], ['2', '32', 'parent'], ['3', '2', 'child'], ['8', '0', 'child'], ['11', '12', 'parent'], ['11', '13', 'parent'], ['11', '14', 'parent'], ['12', '11', 'child'], ['13', '11', 'child'], ['14', '15', 'parent'], ['14', '11', 'child'], ['15', '14', 'child'], ['16', '17', 'parent'], ['16', '18', 'parent'], ['16', '19', 'parent'], ['16', '20', 'parent'], ['16', '21', 'parent'], ['16', '23', 'parent'], ['16', '22', 'parent'], ['16', '25', 'parent'], ['16', '24', 'parent'], ['16', '26', 'parent'], ['16', '27', 'parent'], ['17', '16', 'child'], ['18', '16', 'child'], ['19', '16', 'child'], ['20', '16', 'child'], ['21', '16', 'child'], ['22', '16', 'child'], ['23', '16', 'child'], ['24', '16', 'child'], ['25', '16', 'child'], ['26', '16', 'child'], ['27', '16', 'child'], ['29', '2', 'child'], ['30', '2', 'child'], ['31', '2', 'child'], ['32', '2', 'child']]}, '01122115': {'objects': ['0', '1', '2', '3', '4', '5', '6', '7', '8', '9', '10', '11', '12', '13', '14', '15', '16', '17', '18', '19', '20', '21', '22', '23', '24', '25', '26', '27', '28', '29', '30', '31', '32', '33', '34', '35', '36', '37', '38', '39', '40', '41', '42', '43', '44', '45', '46', '47', '48', '49', '50', '51', '52', '53', '54', '55', '56', '57', '58', '59', '60', '61', '62', '63', '64', '65', '66', '67', '68', '69', '70', '71', '72', '73', '74', '75', '76', '77', '78', '79', '80', '81', '82', '83', '84', '85', '86', '87', '88', '89', '90', '91', '92', '93', '94'], 'relationships': [['0', '9', 'parent'], ['1', '55', 'parent'], ['2', '52', 'parent'], ['2', '53', 'parent'], ['3', '18', 'parent'], ['4', '36', 'parent'], ['5', '87', 'parent'], ['6', '87', 'parent'], ['7', '87', 'parent'], ['8', '87', 'parent'], ['9', '0', 'child'], ['10', '56', 'child'], ['11', '56', 'child'], ['12', '57', 'child'], ['13', '58', 'child'], ['14', '59', 'child'], ['15', '60', 'child'], ['16', '61', 'child'], ['17', '62', 'child'], ['18', '3', 'child'], ['19', '39', 'child'], ['20', '42', 'child'], ['22', '67', 'child'], ['23', '80', 'child'], ['24', '84', 'child'], ['25', '81', 'child'], ['26', '85', 'child'], ['29', '30', 'child'], ['30', '29', 'parent'], ['32', '37', 'parent'], ['35', '38', 'parent'], ['36', '4', 'child'], ['37', '32', 'child'], ['38', '35', 'child'], ['39', '19', 'parent'], ['40', '41', 'parent'], ['41', '40', 'child'], ['42', '20', 'parent'], ['43', '44', 'parent'], ['44', '43', 'child'], ['45', '51', 'child'], ['46', '50', 'child'], ['47', '94', 'child'], ['48', '49', 'child'], ['49', '48', 'parent'], ['50', '46', 'parent'], ['51', '45', 'parent'], ['52', '2', 'child'], ['53', '2', 'child'], ['55', '1', 'child'], ['56', '11', 'parent'], ['56', '10', 'parent'], ['57', '12', 'parent'], ['58', '13', 'parent'], ['59', '14', 'parent'], ['60', '15', 'parent'], ['61', '16', 'parent'], ['62', '17', 'parent'], ['63', '68', 'parent'], ['64', '69', 'parent'], ['65', '70', 'parent'], ['66', '71', 'parent'], ['67', '22', 'parent'], ['68', '63', 'child'], ['69', '64', 'child'], ['70', '65', 'child'], ['71', '66', 'child'], ['72', '77', 'child'], ['73', '76', 'child'], ['74', '75', 'child'], ['75', '74', 'parent'], ['76', '73', 'parent'], ['77', '72', 'parent'], ['78', '79', 'parent'], ['79', '78', 'child'], ['80', '23', 'parent'], ['81', '25', 'parent'], ['84', '24', 'parent'], ['85', '26', 'parent'], ['86', '87', 'parent'], ['87', '86', 'child'], ['87', '5', 'child'], ['87', '6', 'child'], ['87', '7', 'child'], ['87', '8', 'child'], ['90', '91', 'child'], ['91', '90', 'parent'], ['92', '93', 'child'], ['93', '92', 'parent'], ['94', '47', 'parent']]}, '00283813': {'objects': ['0', '1', '2', '3', '4', '5', '6', '7', '8', '9', '10', '11', '12', '13', '14', '15', '16', '17', '18', '19', '20', '21', '22', '23', '24', '25', '26', '27', '28', '29', '30', '31', '32', '33', '34', '35', '36', '37', '38', '39', '40', '41', '42', '43', '44', '45', '46', '47', '48', '49', '50', '51', '52', '53', '54', '55', '56', '57', '58', '59', '60', '61', '62', '63', '64', '65', '66', '67', '68', '69', '70', '71', '72', '73', '74', '75'], 'relationships': [['0', '33', 'parent'], ['1', '34', 'parent'], ['2', '37', 'child'], ['6', '7', 'parent'], ['6', '8', 'parent'], ['6', '9', 'parent'], ['6', '10', 'parent'], ['6', '11', 'parent'], ['6', '12', 'parent'], ['6', '13', 'parent'], ['6', '51', 'parent'], ['6', '14', 'parent'], ['6', '52', 'parent'], ['7', '6', 'child'], ['7', '43', 'parent'], ['8', '6', 'child'], ['8', '44', 'parent'], ['9', '6', 'child'], ['9', '45', 'parent'], ['10', '6', 'child'], ['10', '46', 'parent'], ['11', '6', 'child'], ['11', '47', 'parent'], ['12', '6', 'child'], ['12', '48', 'parent'], ['13', '6', 'child'], ['13', '49', 'parent'], ['14', '6', 'child'], ['14', '50', 'parent'], ['15', '16', 'parent'], ['15', '17', 'parent'], ['15', '57', 'parent'], ['15', '18', 'parent'], ['15', '19', 'parent'], ['16', '15', 'child'], ['16', '53', 'parent'], ['17', '15', 'child'], ['17', '54', 'parent'], ['18', '15', 'child'], ['18', '55', 'parent'], ['19', '15', 'child'], ['19', '56', 'parent'], ['20', '57', 'child'], ['21', '23', 'parent'], ['21', '24', 'parent'], ['22', '65', 'parent'], ['22', '66', 'parent'], ['22', '67', 'parent'], ['22', '25', 'parent'], ['23', '21', 'child'], ['23', '58', 'parent'], ['24', '21', 'child'], ['25', '22', 'child'], ['26', '70', 'parent'], ['26', '71', 'parent'], ['26', '72', 'parent'], ['33', '0', 'child'], ['34', '1', 'child'], ['35', '36', 'child'], ['36', '35', 'parent'], ['37', '2', 'parent'], ['38', '39', 'parent'], ['39', '38', 'child'], ['43', '7', 'child'], ['44', '8', 'child'], ['45', '9', 'child'], ['46', '10', 'child'], ['47', '11', 'child'], ['48', '12', 'child'], ['49', '13', 'child'], ['50', '14', 'child'], ['51', '6', 'child'], ['52', '6', 'child'], ['53', '16', 'child'], ['54', '17', 'child'], ['55', '18', 'child'], ['56', '19', 'child'], ['57', '15', 'child'], ['57', '20', 'parent'], ['58', '23', 'child'], ['59', '64', 'parent'], ['59', '63', 'parent'], ['63', '59', 'child'], ['64', '59', 'child'], ['65', '22', 'child'], ['65', '68', 'parent'], ['66', '22', 'child'], ['67', '22', 'child'], ['67', '69', 'parent'], ['68', '65', 'child'], ['69', '67', 'child'], ['70', '26', 'child'], ['70', '73', 'parent'], ['71', '26', 'child'], ['71', '74', 'parent'], ['72', '26', 'child'], ['72', '75', 'parent'], ['73', '70', 'child'], ['74', '71', 'child'], ['75', '72', 'child']]}, '89867723': {'objects': ['0', '1', '2', '3', '4', '5', '6', '7', '8', '9', '10', '11', '12', '13', '14', '15', '16', '17', '18', '19', '20', '21', '22', '23', '24', '25', '26', '27', '28', '29', '30', '31', '32', '33', '34', '35', '36', '37', '38', '39', '40', '41', '42', '43', '44', '45', '46', '47', '48', '49', '50', '51', '52', '53', '54', '55', '56', '57'], 'relationships': [['1', '25', 'parent'], ['2', '28', 'parent'], ['3', '20', 'parent'], ['3', '39', 'child'], ['4', '21', 'parent'], ['4', '39', 'child'], ['5', '40', 'child'], ['6', '41', 'child'], ['7', '41', 'child'], ['8', '41', None], ['10', '41', 'child'], ['11', '39', 'child'], ['12', '39', 'child'], ['13', '47', 'parent'], ['14', '48', 'parent'], ['16', '54', 'parent'], ['17', '53', 'parent'], ['19', '23', 'parent'], ['20', '3', 'child'], ['21', '4', 'child'], ['23', '19', 'child'], ['25', '1', 'child'], ['26', '27', 'parent'], ['27', '26', 'child'], ['28', '2', 'child'], ['29', '30', None], ['29', '31', None], ['29', '32', None], ['30', '29', None], ['31', '29', None], ['32', '29', None], ['33', '34', None], ['34', '33', None], ['35', '36', None], ['36', '35', None], ['37', '38', 'child'], ['38', '37', 'parent'], ['39', '3', 'parent'], ['39', '4', 'parent'], ['39', '11', 'parent'], ['39', '12', 'parent'], ['40', '5', 'parent'], ['41', '6', 'parent'], ['41', '7', 'parent'], ['41', '42', None], ['41', '8', None], ['41', '43', None], ['41', '44', None], ['41', '10', 'parent'], ['42', '41', None], ['43', '41', None], ['44', '41', None], ['45', '46', 'parent'], ['46', '45', 'child'], ['47', '13', 'child'], ['48', '14', 'child'], ['53', '17', 'child'], ['54', '16', 'child'], ['55', '56', 'child'], ['56', '55', 'parent']]}, '0060255888': {'objects': ['0', '1', '2', '3', '4', '5', '6', '7', '8', '9', '10', '11', '12', '13', '14', '15', '16', '17', '18', '19', '20', '21', '22', '23', '24', '25', '26', '27', '28', '29', '30', '31', '32'], 'relationships': [['0', '14', 'parent'], ['1', '15', 'parent'], ['2', '16', 'parent'], ['3', '17', 'parent'], ['4', '18', 'parent'], ['5', '19', 'parent'], ['6', '21', 'child'], ['7', '22', 'child'], ['8', '23', 'child'], ['9', '24', 'child'], ['10', '25', 'child'], ['11', '26', 'child'], ['14', '0', 'child'], ['15', '1', 'child'], ['16', '2', 'child'], ['17', '3', 'child'], ['18', '4', 'child'], ['19', '5', 'child'], ['20', '21', 'parent'], ['20', '22', 'parent'], ['20', '23', 'parent'], ['20', '24', 'parent'], ['20', '25', 'parent'], ['20', '26', 'parent'], ['21', '6', 'parent'], ['21', '20', 'child'], ['22', '7', 'parent'], ['22', '20', 'child'], ['23', '8', 'parent'], ['23', '20', 'child'], ['24', '9', 'parent'], ['24', '20', 'child'], ['25', '10', 'parent'], ['25', '20', 'child'], ['26', '11', 'parent'], ['26', '20', 'child']]}, '92327794': {'objects': ['0', '1', '2', '3', '4', '5', '6', '7', '8', '9', '10', '11', '12', '13', '14', '15', '16', '17', '18'], 'relationships': [['0', '10', 'parent'], ['1', '11', 'parent'], ['2', '12', 'parent'], ['4', '13', 'child'], ['10', '0', 'child'], ['11', '1', 'child'], ['12', '2', 'child'], ['13', '4', 'parent'], ['14', '15', 'parent'], ['15', '14', 'child']]}, '0001438955': {'objects': ['0', '1', '2', '3', '4', '5', '6', '7', '8', '9', '10', '11', '12', '13', '14', '15', '16', '17', '18', '19', '20', '21', '22', '23', '24', '25', '26', '27', '28', '29', '30', '31', '32', '33', '34', '35', '36', '37', '38', '39', '40', '41', '42', '43', '44', '45', '46', '47', '48', '49', '50', '51', '52', '53', '54', '55', '56', '57', '58', '59', '60', '61', '62', '63', '64', '65', '66', '67', '68', '69', '70', '71', '72', '73'], 'relationships': [['0', '52', 'parent'], ['1', '36', 'parent'], ['1', '37', 'parent'], ['1', '38', 'parent'], ['1', '39', 'parent'], ['2', '5', 'parent'], ['2', '7', 'parent'], ['3', '63', 'parent'], ['3', '64', 'parent'], ['3', '65', 'parent'], ['3', '66', 'parent'], ['4', '68', 'parent'], ['4', '69', 'parent'], ['5', '2', 'child'], ['5', '28', 'parent'], ['5', '30', 'parent'], ['5', '32', 'parent'], ['5', '34', 'parent'], ['7', '2', 'child'], ['7', '29', 'parent'], ['7', '31', 'parent'], ['7', '33', 'parent'], ['7', '35', 'parent'], ['8', '68', 'child'], ['8', '46', 'child'], ['9', '69', 'child'], ['9', '46', 'child'], ['10', '68', 'child'], ['10', '47', 'child'], ['11', '69', 'child'], ['11', '47', 'child'], ['12', '67', 'child'], ['12', '44', 'child'], ['13', '67', 'child'], ['13', '44', 'child'], ['14', '67', 'child'], ['14', '45', 'child'], ['15', '67', 'child'], ['15', '45', 'child'], ['16', '46', 'child'], ['16', '67', 'child'], ['17', '46', 'child'], ['17', '67', 'child'], ['18', '47', 'child'], ['18', '67', 'child'], ['19', '47', 'child'], ['19', '67', 'child'], ['20', '63', 'child'], ['20', '45', 'child'], ['21', '64', 'child'], ['21', '45', 'child'], ['22', '65', 'child'], ['22', '45', 'child'], ['23', '66', 'child'], ['23', '45', 'child'], ['24', '63', 'child'], ['24', '44', 'child'], ['25', '64', 'child'], ['25', '44', 'child'], ['26', '65', 'child'], ['26', '44', 'child'], ['27', '66', 'child'], ['27', '44', 'child'], ['28', '5', 'child'], ['28', '44', 'child'], ['29', '7', 'child'], ['29', '44', 'child'], ['30', '5', 'child'], ['30', '45', 'child'], ['31', '7', 'child'], ['31', '45', 'child'], ['32', '5', 'child'], ['32', '46', 'child'], ['33', '7', 'child'], ['33', '46', 'child'], ['34', '5', 'child'], ['34', '47', 'child'], ['35', '7', 'child'], ['35', '47', 'child'], ['36', '1', 'child'], ['36', '44', 'child'], ['37', '1', 'child'], ['37', '45', 'child'], ['38', '1', 'child'], ['38', '46', 'child'], ['39', '1', 'child'], ['39', '47', 'child'], ['40', '50', 'child'], ['41', '54', 'child'], ['44', '48', 'child'], ['44', '36', 'parent'], ['44', '28', 'parent'], ['44', '29', 'parent'], ['44', '24', 'parent'], ['44', '25', 'parent'], ['44', '26', 'parent'], ['44', '27', 'parent'], ['44', '12', 'parent'], ['44', '13', 'parent'], ['45', '48', 'child'], ['45', '37', 'parent'], ['45', '30', 'parent'], ['45', '31', 'parent'], ['45', '20', 'parent'], ['45', '21', 'parent'], ['45', '22', 'parent'], ['45', '23', 'parent'], ['45', '14', 'parent'], ['45', '15', 'parent'], ['46', '61', 'child'], ['46', '38', 'parent'], ['46', '32', 'parent'], ['46', '33', 'parent'], ['46', '16', 'parent'], ['46', '17', 'parent'], ['46', '8', 'parent'], ['46', '9', 'parent'], ['47', '61', 'child'], ['47', '39', 'parent'], ['47', '34', 'parent'], ['47', '35', 'parent'], ['47', '18', 'parent'], ['47', '19', 'parent'], ['47', '10', 'parent'], ['47', '11', 'parent'], ['48', '44', 'parent'], ['48', '45', 'parent'], ['50', '40', 'parent'], ['52', '0', 'child'], ['53', '55', 'parent'], ['54', '41', 'parent'], ['55', '53', 'child'], ['56', '59', 'parent'], ['57', '60', 'parent'], ['58', '70', 'parent'], ['58', '71', 'parent'], ['58', '72', 'parent'], ['58', '73', 'parent'], ['59', '56', 'child'], ['60', '57', 'child'], ['61', '46', 'parent'], ['61', '47', 'parent'], ['63', '3', 'child'], ['63', '24', 'parent'], ['63', '20', 'parent'], ['64', '3', 'child'], ['64', '25', 'parent'], ['64', '21', 'parent'], ['65', '3', 'child'], ['65', '26', 'parent'], ['65', '22', 'parent'], ['66', '3', 'child'], ['66', '27', 'parent'], ['66', '23', 'parent'], ['67', '12', 'parent'], ['67', '14', 'parent'], ['67', '13', 'parent'], ['67', '15', 'parent'], ['67', '16', 'parent'], ['67', '17', 'parent'], ['67', '18', 'parent'], ['67', '19', 'parent'], ['68', '4', 'child'], ['68', '8', 'parent'], ['68', '10', 'parent'], ['69', '4', 'child'], ['69', '9', 'parent'], ['69', '11', 'parent'], ['70', '58', 'child'], ['71', '58', 'child'], ['72', '58', 'child'], ['73', '58', 'child']]}, '0011974919': {'objects': ['0', '1', '2', '3', '4', '5', '6', '7', '8', '9', '10', '11', '12', '13', '14', '15', '16', '17', '18', '19', '20', '21', '22', '23', '24', '25', '26', '27', '28', '29', '30', '31', '32', '33', '34', '35', '36', '37', '38', '39', '40', '41'], 'relationships': [['0', '15', 'parent'], ['1', '16', 'parent'], ['2', '17', 'parent'], ['3', '5', 'parent'], ['4', '20', 'parent'], ['5', '3', 'child'], ['6', '21', 'parent'], ['7', '22', 'child'], ['8', '23', 'child'], ['9', '25', 'child'], ['10', '30', 'child'], ['11', '32', 'child'], ['12', '33', 'parent'], ['12', '34', 'parent'], ['12', '35', 'parent'], ['12', '36', 'parent'], ['12', '37', 'parent'], ['12', '38', 'parent'], ['12', '39', 'parent'], ['12', '40', 'parent'], ['13', '18', 'child'], ['15', '0', 'child'], ['16', '1', 'child'], ['17', '2', 'child'], ['18', '13', 'parent'], ['20', '4', 'child'], ['21', '6', 'child'], ['22', '7', 'parent'], ['23', '8', 'parent'], ['24', '28', 'parent'], ['25', '9', 'parent'], ['26', '27', 'parent'], ['27', '26', 'child'], ['28', '24', 'child'], ['30', '10', 'parent'], ['32', '11', 'parent'], ['33', '12', 'child'], ['34', '12', 'child'], ['35', '12', 'child'], ['36', '12', 'child'], ['37', '12', 'child'], ['38', '12', 'child'], ['39', '12', 'child'], ['40', '12', 'child']]}, '81310636': {'objects': ['0', '1', '2', '3', '4', '5', '6', '7', '8', '9', '10', '11', '12', '13', '14', '15', '16', '17', '18', '19', '20', '21', '22', '23', '24', '25', '26', '27'], 'relationships': [['0', '7', 'child'], ['1', '8', 'child'], ['7', '0', 'parent'], ['8', '1', 'parent'], ['9', '10', 'parent'], ['10', '9', 'child'], ['11', '12', 'child'], ['12', '11', 'parent'], ['13', '14', 'parent'], ['14', '13', 'child'], ['17', '18', 'parent'], ['18', '17', 'child'], ['19', '20', 'child'], ['20', '19', 'parent'], ['21', '22', 'parent'], ['22', '21', 'child'], ['25', '26', 'parent'], ['26', '25', 'child']]}, '93455715': {'objects': ['0', '1', '2', '3', '4', '5', '6', '7', '8', '9', '10', '11', '12', '13', '14', '15', '16', '17', '18', '19', '20', '21', '22', '23', '24', '25', '26', '27', '28', '29', '30', '31', '32', '33', '34', '35', '36'], 'relationships': [['0', '2', 'parent'], ['1', '10', 'parent'], ['2', '0', 'child'], ['4', '17', 'parent'], ['4', '36', 'parent'], ['4', '35', 'parent'], ['4', '34', 'parent'], ['4', '33', 'parent'], ['4', '32', 'parent'], ['4', '31', 'parent'], ['4', '30', 'parent'], ['4', '29', 'parent'], ['4', '28', 'parent'], ['4', '18', 'parent'], ['4', '19', 'parent'], ['4', '20', 'parent'], ['4', '21', 'parent'], ['4', '22', 'parent'], ['4', '23', 'parent'], ['4', '24', 'parent'], ['4', '25', 'parent'], ['4', '26', 'parent'], ['4', '27', 'parent'], ['6', '7', 'parent'], ['7', '6', 'child'], ['8', '9', 'parent'], ['9', '8', 'child'], ['10', '1', 'child'], ['11', '12', 'parent'], ['11', '13', 'parent'], ['11', '14', 'parent'], ['12', '11', 'child'], ['13', '11', 'child'], ['14', '11', 'child'], ['17', '4', 'child'], ['18', '4', 'child'], ['19', '4', 'child'], ['20', '4', 'child'], ['21', '4', 'child'], ['22', '4', 'child'], ['23', '4', 'child'], ['24', '4', 'child'], ['25', '4', 'child'], ['26', '4', 'child'], ['27', '4', 'child'], ['28', '4', 'child'], ['29', '4', 'child'], ['30', '4', 'child'], ['31', '4', 'child'], ['32', '4', 'child'], ['33', '4', 'child'], ['34', '4', 'child'], ['35', '4', 'child'], ['36', '4', 'child']]}, '0060094595': {'objects': ['0', '1', '2', '3', '4', '5', '6', '7', '8', '9', '10', '11', '12', '13', '14', '15', '16', '17', '18', '19', '20', '21', '22', '23', '24', '25', '26', '27', '28', '29', '30', '31', '32', '33', '34', '35', '36', '37', '38', '39', '40', '41', '42', '43', '44', '45', '46', '47', '48', '49', '50', '51', '52', '53', '54', '55', '56', '57', '58'], 'relationships': [['0', '24', None], ['0', '32', 'parent'], ['0', '37', 'parent'], ['0', '41', 'parent'], ['0', '46', 'parent'], ['1', '24', None], ['1', '33', 'parent'], ['1', '38', 'parent'], ['1', '42', 'parent'], ['1', '47', 'parent'], ['2', '24', None], ['2', '34', 'parent'], ['2', '39', 'parent'], ['2', '43', 'parent'], ['2', '48', 'parent'], ['3', '24', None], ['3', '35', 'parent'], ['3', '40', 'parent'], ['3', '44', 'parent'], ['3', '49', 'parent'], ['4', '28', 'child'], ['4', '51', 'child'], ['5', '28', 'child'], ['5', '52', 'child'], ['6', '28', 'child'], ['6', '53', 'child'], ['7', '28', 'child'], ['7', '54', 'child'], ['8', '29', 'child'], ['8', '51', 'child'], ['9', '29', 'child'], ['9', '52', 'child'], ['10', '29', 'child'], ['10', '53', 'child'], ['11', '29', 'child'], ['11', '54', 'child'], ['12', '30', 'child'], ['12', '51', 'child'], ['13', '30', 'child'], ['13', '52', 'child'], ['14', '30', 'child'], ['14', '53', 'child'], ['15', '30', 'child'], ['15', '54', 'child'], ['16', '31', 'child'], ['16', '51', 'child'], ['17', '31', 'child'], ['17', '53', 'child'], ['18', '31', 'child'], ['18', '52', 'child'], ['19', '31', 'child'], ['19', '54', 'child'], ['20', '31', 'child'], ['20', '36', 'child'], ['21', '29', 'child'], ['21', '36', 'child'], ['22', '28', 'child'], ['22', '36', 'child'], ['24', '27', 'parent'], ['24', '0', None], ['24', '1', None], ['24', '2', None], ['24', '3', None], ['24', '36', None], ['24', '50', 'parent'], ['24', '51', None], ['24', '52', None], ['24', '53', None], ['24', '54', None], ['24', '55', 'parent'], ['24', '56', 'parent'], ['25', '28', 'parent'], ['25', '29', 'parent'], ['26', '30', 'parent'], ['26', '31', 'parent'], ['27', '24', 'child'], ['28', '25', 'child'], ['28', '32', 'parent'], ['28', '33', 'parent'], ['28', '34', 'parent'], ['28', '35', 'parent'], ['28', '22', 'parent'], ['28', '4', 'parent'], ['28', '5', 'parent'], ['28', '6', 'parent'], ['28', '7', 'parent'], ['29', '25', 'child'], ['29', '37', 'parent'], ['29', '38', 'parent'], ['29', '39', 'parent'], ['29', '40', 'parent'], ['29', '21', 'parent'], ['29', '8', 'parent'], ['29', '9', 'parent'], ['29', '10', 'parent'], ['29', '11', 'parent'], ['30', '41', 'parent'], ['30', '42', 'parent'], ['30', '43', 'parent'], ['30', '44', 'parent'], ['30', '45', 'parent'], ['30', '12', 'parent'], ['30', '13', 'parent'], ['30', '14', 'parent'], ['30', '15', 'parent'], ['30', '26', 'child'], ['31', '46', 'parent'], ['31', '47', 'parent'], ['31', '48', 'parent'], ['31', '49', 'parent'], ['31', '20', 'parent'], ['31', '16', 'parent'], ['31', '18', 'parent'], ['31', '17', 'parent'], ['31', '19', 'parent'], ['31', '26', 'child'], ['32', '28', 'child'], ['32', '0', 'child'], ['33', '28', 'child'], ['33', '1', 'child'], ['34', '28', 'child'], ['34', '2', 'child'], ['35', '28', 'child'], ['35', '3', 'child'], ['36', '24', None], ['36', '22', 'parent'], ['36', '21', 'parent'], ['36', '45', 'parent'], ['36', '20', 'parent'], ['37', '29', 'child'], ['37', '0', 'child'], ['38', '29', 'child'], ['38', '1', 'child'], ['39', '29', 'child'], ['39', '2', 'child'], ['40', '29', 'child'], ['40', '3', 'child'], ['41', '30', 'child'], ['41', '0', 'child'], ['42', '30', 'child'], ['42', '1', 'child'], ['43', '30', 'child'], ['43', '2', 'child'], ['44', '30', 'child'], ['44', '3', 'child'], ['45', '30', 'child'], ['45', '36', 'child'], ['46', '31', 'child'], ['46', '0', 'child'], ['47', '31', 'child'], ['47', '1', 'child'], ['48', '31', 'child'], ['48', '2', 'child'], ['49', '31', 'child'], ['49', '3', 'child'], ['50', '24', 'child'], ['51', '24', None], ['51', '4', 'parent'], ['51', '8', 'parent'], ['51', '12', 'parent'], ['51', '16', 'parent'], ['52', '24', None], ['52', '5', 'parent'], ['52', '9', 'parent'], ['52', '13', 'parent'], ['52', '18', 'parent'], ['53', '24', None], ['53', '6', 'parent'], ['53', '10', 'parent'], ['53', '14', 'parent'], ['53', '17', 'parent'], ['54', '24', None], ['54', '7', 'parent'], ['54', '11', 'parent'], ['54', '15', 'parent'], ['54', '19', 'parent'], ['55', '24', 'child'], ['56', '24', 'child']]}, '0060173256': {'objects': ['0', '1', '2', '3', '4', '5', '6', '7', '8', '9', '10', '11', '12', '13', '14', '15', '16', '17', '18', '19', '20', '21', '22', '23', '24', '25', '26', '27', '28', '29', '30', '31', '32', '33', '34', '35', '36', '37'], 'relationships': [['0', '1', 'parent'], ['1', '0', 'child'], ['2', '21', 'parent'], ['2', '4', 'parent'], ['3', '26', 'parent'], ['4', '2', 'child'], ['5', '7', 'parent'], ['5', '8', 'parent'], ['6', '36', 'child'], ['7', '5', 'child'], ['8', '5', 'child'], ['10', '29', 'child'], ['11', '16', 'child'], ['12', '30', 'child'], ['12', '15', 'child'], ['15', '12', 'parent'], ['16', '11', 'parent'], ['20', '35', 'child'], ['21', '2', 'child'], ['22', '23', 'parent'], ['23', '22', 'child'], ['24', '25', 'parent'], ['25', '24', 'child'], ['26', '3', 'child'], ['27', '37', 'child'], ['28', '37', 'child'], ['29', '10', 'parent'], ['30', '12', 'parent'], ['33', '34', 'child'], ['34', '33', 'parent'], ['35', '20', 'parent'], ['36', '6', 'parent'], ['37', '27', 'parent'], ['37', '28', 'parent']]}, '00866042': {'objects': ['0', '1', '2', '3', '4', '5', '6', '7', '8', '9', '10', '11', '12', '13', '14', '15', '16', '17', '18', '19', '20', '21', '22', '23', '24', '25', '26', '27', '28', '29', '30', '31', '32', '33', '34', '35', '36', '37', '38', '39', '40', '41', '42', '43', '44', '45', '46', '47', '48', '49', '50', '51', '52', '53', '54', '55', '56', '57', '58', '59', '60', '61', '62', '63', '64'], 'relationships': [['0', '44', 'child'], ['1', '44', 'child'], ['2', '44', 'child'], ['3', '47', 'child'], ['4', '7', 'parent'], ['4', '47', 'child'], ['7', '4', 'child'], ['9', '31', 'child'], ['10', '32', 'child'], ['12', '13', 'parent'], ['13', '12', 'child'], ['15', '35', 'child'], ['16', '37', 'child'], ['17', '38', 'child'], ['18', '57', 'child'], ['19', '55', 'child'], ['20', '55', 'child'], ['21', '55', 'child'], ['22', '39', 'child'], ['24', '54', 'child'], ['29', '30', 'parent'], ['30', '29', 'child'], ['31', '9', 'parent'], ['32', '10', 'parent'], ['35', '15', 'parent'], ['37', '16', 'parent'], ['38', '17', 'parent'], ['39', '22', 'parent'], ['40', '42', None], ['42', '40', None], ['43', '44', 'child'], ['44', '43', 'parent'], ['44', '0', 'parent'], ['44', '45', 'parent'], ['44', '46', 'parent'], ['44', '1', 'parent'], ['44', '2', 'parent'], ['45', '44', 'child'], ['46', '44', 'child'], ['47', '3', 'parent'], ['47', '4', 'parent'], ['48', '49', 'parent'], ['48', '60', None], ['48', '61', None], ['48', '62', None], ['48', '63', None], ['49', '48', 'child'], ['54', '24', 'parent'], ['55', '56', 'parent'], ['55', '57', 'parent'], ['55', '58', 'parent'], ['55', '59', 'parent'], ['55', '19', 'parent'], ['55', '20', 'parent'], ['55', '21', 'parent'], ['56', '55', 'child'], ['57', '18', 'parent'], ['57', '55', 'child'], ['58', '55', 'child'], ['59', '55', 'child'], ['60', '48', None], ['61', '48', None], ['62', '48', None], ['63', '48', None]]}, '91581919': {'objects': ['0', '1', '2', '3', '4', '5', '6', '7', '8', '9', '10', '11', '12', '13', '14', '15', '16', '17', '18', '19', '20', '21', '22', '23', '24', '25', '26', '27', '28', '29', '30', '31', '32', '33', '34', '35', '36', '37', '38', '39', '40', '41'], 'relationships': [['0', '19', 'parent'], ['1', '20', 'parent'], ['3', '4', 'parent'], ['4', '3', 'child'], ['5', '32', 'child'], ['6', '8', 'parent'], ['8', '6', 'child'], ['9', '36', 'child'], ['10', '35', 'child'], ['11', '35', 'child'], ['14', '27', 'child'], ['17', '18', 'parent'], ['18', '17', 'child'], ['19', '0', 'child'], ['20', '1', 'child'], ['21', '23', 'parent'], ['22', '24', 'parent'], ['23', '21', 'child'], ['24', '22', 'child'], ['25', '26', 'parent'], ['26', '25', 'child'], ['27', '14', 'parent'], ['29', '30', 'parent'], ['30', '29', 'child'], ['32', '5', 'parent'], ['33', '34', 'parent'], ['34', '33', 'child'], ['35', '10', 'parent'], ['35', '11', 'parent'], ['36', '9', 'parent'], ['37', '38', 'parent'], ['38', '37', 'child'], ['40', '41', 'parent'], ['41', '40', 'child']]}, '12825369': {'objects': ['0', '1', '2', '3', '4', '5', '6', '7', '8', '9', '10', '11', '12', '13', '14', '15', '16', '17', '18', '19', '20', '21', '22', '23', '24', '25', '26', '27', '28', '29', '30', '31', '32', '33', '34', '35', '36', '37', '38', '39', '40', '41', '42'], 'relationships': [['0', '7', 'parent'], ['1', '23', 'parent'], ['2', '24', 'parent'], ['3', '8', 'parent'], ['4', '25', 'parent'], ['7', '0', 'child'], ['8', '3', 'child'], ['11', '27', 'parent'], ['11', '28', 'parent'], ['11', '15', 'parent'], ['12', '29', 'parent'], ['13', '35', 'parent'], ['14', '15', 'child'], ['15', '11', 'child'], ['15', '14', 'parent'], ['16', '34', 'child'], ['17', '34', 'child'], ['18', '36', 'parent'], ['18', '37', 'parent'], ['18', '38', 'parent'], ['19', '39', 'parent'], ['19', '40', 'parent'], ['23', '1', 'child'], ['24', '2', 'child'], ['25', '4', 'child'], ['27', '11', 'child'], ['28', '11', 'child'], ['29', '12', 'child'], ['30', '31', 'parent'], ['31', '30', 'child'], ['32', '33', 'child'], ['33', '32', 'parent'], ['34', '17', 'parent'], ['34', '16', 'parent'], ['35', '13', 'child'], ['36', '18', 'child'], ['37', '18', 'child'], ['38', '18', 'child'], ['39', '19', 'child'], ['40', '19', 'child']]}}\n"
          ],
          "name": "stdout"
        }
      ]
    },
    {
      "cell_type": "code",
      "metadata": {
        "id": "0tiX_wyfIED_"
      },
      "source": [
        "label_list_train = df_train_clean['label'].to_list()\n",
        "label_list_eval = df_eval_clean['label'].to_list()"
      ],
      "execution_count": null,
      "outputs": []
    },
    {
      "cell_type": "code",
      "metadata": {
        "id": "aXUqw4FxIn4s"
      },
      "source": [
        "id_list_train = df_train_clean['density'].to_list()\n",
        "id_list_eval = df_eval_clean['density'].to_list()"
      ],
      "execution_count": null,
      "outputs": []
    },
    {
      "cell_type": "code",
      "metadata": {
        "id": "uu-UcP7cGcpS"
      },
      "source": [
        "img_list_train = df_train_clean['image'].to_list()\n",
        "img_list_eval = df_eval_clean['image'].to_list()"
      ],
      "execution_count": null,
      "outputs": []
    },
    {
      "cell_type": "code",
      "metadata": {
        "id": "3CKOPtN6Iefr"
      },
      "source": [
        "obj_list_train = []\n",
        "for i in range(len(id_list_train)):\n",
        "  tem = []\n",
        "  tem = [id_list_train[i],img_list_train[i]]\n",
        "  obj_list_train.append(tem)\n",
        "obj_list_eval = []\n",
        "for i in range(len(id_list_eval)):\n",
        "  tem = []\n",
        "  tem = [id_list_eval[i],img_list_eval[i]]\n",
        "  obj_list_eval.append(tem)"
      ],
      "execution_count": null,
      "outputs": []
    },
    {
      "cell_type": "code",
      "metadata": {
        "colab": {
          "base_uri": "https://localhost:8080/"
        },
        "id": "nuplDSfsImMU",
        "outputId": "a99f978e-0afe-4945-b351-ba430390e5f6"
      },
      "source": [
        "print(len(obj_list_train))"
      ],
      "execution_count": null,
      "outputs": [
        {
          "output_type": "stream",
          "text": [
            "26969\n"
          ],
          "name": "stdout"
        }
      ]
    },
    {
      "cell_type": "markdown",
      "metadata": {
        "id": "fal52emMue4w"
      },
      "source": [
        "## Convert label into one-hot"
      ]
    },
    {
      "cell_type": "code",
      "metadata": {
        "id": "cg2jOKrAi8ho"
      },
      "source": [
        "from sklearn.preprocessing import LabelEncoder\n",
        "import numpy as np\n",
        "num_class = len(list(set(label_list_train)))\n",
        "lEnc = LabelEncoder()\n",
        "lEnc.fit(np.unique(list(set(label_list_train))))\n",
        "labels_one_hot_train = {}\n",
        "for f in label_dict_train:\n",
        "  num_labels = lEnc.transform(label_dict_train[f])\n",
        "  labels_one_hot_train[f] = []\n",
        "  for l in num_labels:\n",
        "    to_add = [0]*num_class\n",
        "    to_add[l]=1\n",
        "    labels_one_hot_train[f].append(to_add)\n",
        "\n",
        "\n",
        "labels_one_hot_eval = {}\n",
        "for f in label_dict_eval:\n",
        "  num_labels = lEnc.transform(label_dict_eval[f])\n",
        "  labels_one_hot_eval[f] = []\n",
        "  for l in num_labels:\n",
        "    to_add = [0]*num_class\n",
        "    to_add[l]=1\n",
        "    labels_one_hot_eval[f].append(to_add)"
      ],
      "execution_count": null,
      "outputs": []
    },
    {
      "cell_type": "code",
      "metadata": {
        "colab": {
          "base_uri": "https://localhost:8080/"
        },
        "id": "0Cx9gN-_B5eI",
        "outputId": "dd078905-55b5-41a9-b6af-227ea2753e94"
      },
      "source": [
        "print(len(labels_one_hot_train))"
      ],
      "execution_count": null,
      "outputs": [
        {
          "output_type": "stream",
          "text": [
            "149\n"
          ],
          "name": "stdout"
        }
      ]
    },
    {
      "cell_type": "markdown",
      "metadata": {
        "id": "s9sogUkt5S2Z"
      },
      "source": [
        "## Build Graph"
      ]
    },
    {
      "cell_type": "code",
      "metadata": {
        "colab": {
          "base_uri": "https://localhost:8080/"
        },
        "id": "XkIDf5NqSWTB",
        "outputId": "d9c46df3-674d-44b4-c172-f8fa1fcfecdb"
      },
      "source": [
        "print(new_train_list_dict.keys())"
      ],
      "execution_count": null,
      "outputs": [
        {
          "output_type": "stream",
          "text": [
            "dict_keys(['91391310', '92039708_9710', '0060214859', '01073843', '87533049', '92586242', '0060068489', '93380187', '0060036622', '91914407', '71601299', '12052385', '0030031163', '0000999294', '91939637', '71341634', '91355841', '00851879', '00836244', '93351929_93351931', '00836816', '80718412_8413', '80728670', '91315069_91315070', '0011838621', '88057519', '82254638', '00851772_1780', '00040534', '0060024314', '0013255595', '0060165115', '0060136394', '0011859695', '0001477983', '00922237', '0001456787', '91104867', '13149651', '0011505151', '81749056_9057', '0000990274', '0011976929', '71108371', '11508234', '81186212', '0060077689', '92433599_92433601', '0001118259', '00838511_00838525', '0000971160', '01150773_01150774', '0071032807', '00070353', '0030041455', '00093726', '89817999_8002', '0011973451', '0001463448', '92094746', '01408099_01408101', '93329540', '00837285', '92094751', '92314414', '0001485288', '71202511', '89368010', '0012199830', '92091873', '11875011', '92657311_7313', '91974562', '0060007216', '0012529295', '0060080406', '0060000813', '88547278_88547279', '91361993', '0011856542', '91356315', '92081358_1359', '0001476912', '93213298', '0001463282', '01191071_1072', '0012529284', '0060025670', '87682908', '81574683', '00920222', '00860012_00860014', '12603270', '00920294', '0071032790', '01197604', '91372360', '91161344_91161347', '0060262650', '87672097', '0060308461', '71366499', '0011906503', '0060308251', '0060091229', '92298125', '0000989556', '0012947358', '71190280', '71206427', '0001123541', '89386032', '0001209043', '660978', '81619486_9488', '91856041_6049', '80707440_7443', '0012602424', '0060270727', '92657391', '0060302201', '0001129658', '0001239897', '0012178355', '0060207528', '00865872', '716552', '81619511_9513', '71563825', '0060029036', '91391286', '0011845203', '80310840a', '0011899960', '91903177', '01122115', '00283813', '89867723', '0060255888', '92327794', '0001438955', '0011974919', '81310636', '93455715', '0060094595', '0060173256', '00866042', '91581919', '12825369'])\n"
          ],
          "name": "stdout"
        }
      ]
    },
    {
      "cell_type": "code",
      "metadata": {
        "id": "5wapjtC3urEY"
      },
      "source": [
        "node_lists_train = {}\n",
        "for l in new_train_list_dict:\n",
        "  node_lists_train[l] = []\n",
        "  for obj in new_train_list_dict[l]['objects']:\n",
        "    node_lists_train[l].append(obj)\n",
        "node_lists_eval = {}\n",
        "for l in new_eval_list_dict:\n",
        "  node_lists_eval[l] = []\n",
        "  for obj in new_eval_list_dict[l]['objects']:\n",
        "    node_lists_eval[l].append(obj)\n"
      ],
      "execution_count": null,
      "outputs": []
    },
    {
      "cell_type": "code",
      "metadata": {
        "colab": {
          "base_uri": "https://localhost:8080/"
        },
        "id": "Y61IV7mvzfJI",
        "outputId": "f41412d7-39f7-4286-8977-5a0d27b24c6d"
      },
      "source": [
        "print(node_lists_train)"
      ],
      "execution_count": null,
      "outputs": [
        {
          "output_type": "stream",
          "text": [
            "{'91391310': ['0', '1', '2', '3', '4', '5', '6', '7', '8', '9', '10', '11', '12', '13', '14', '15', '16', '17', '18', '19', '20', '21', '22', '23', '24', '25', '26', '27', '28', '29', '30', '31', '32', '33', '34', '35', '36', '37', '38', '39', '40'], '92039708_9710': ['0', '1', '2', '3', '4', '5', '6', '7', '8', '9', '10', '11', '12', '13', '14', '15', '16', '17', '18', '19', '20', '21', '22'], '0060214859': ['0', '1', '2', '3', '4', '5', '6', '7', '8', '9', '10', '11', '12', '13', '14', '15', '16', '17', '18', '19', '20', '21', '22', '23', '24', '25', '26', '27', '28', '29', '30', '31', '32', '33', '34', '35', '36', '37'], '01073843': ['0', '1', '2', '3', '4', '5', '6', '7', '8', '9', '10', '11', '12', '13', '14', '15', '16', '17', '18', '19', '20', '21', '22', '23', '24', '25', '26', '27', '28', '29', '30', '31', '32', '33', '34', '35', '36', '37', '38', '39', '40', '41', '42', '43', '44', '45', '46', '47', '48', '49', '50', '51', '52', '53', '54', '55', '56', '57', '58', '59', '60', '61', '62', '63', '64', '65', '66', '67', '68', '69', '70', '71', '72', '73', '74', '75', '76', '77', '78', '79', '80', '81', '82', '83', '84', '85', '86', '87', '88', '89', '90', '91', '92', '93', '94', '95', '96', '97', '98', '99', '100', '101', '102', '103'], '87533049': ['0', '1', '2', '3', '4', '5', '6', '7', '8', '9', '10', '11', '12', '13', '14', '15', '16', '17', '18', '19', '20', '21', '22', '23', '24', '25', '26', '27', '28', '29', '30', '31', '32', '33', '34', '35', '36', '37', '38', '39', '40', '41', '42', '43', '44'], '92586242': ['0', '1', '2', '3', '4', '5', '6', '7', '8', '9', '10', '11', '12', '13', '14', '15', '16', '17', '18', '19', '20', '21', '22', '23', '24', '25', '26', '27', '28', '29', '30', '31', '32'], '0060068489': ['0', '1', '2', '3', '4', '5', '6', '7', '8', '9', '10', '11', '12', '13', '14', '15', '16', '17', '18', '19', '20', '21', '22', '23', '24', '25', '26', '27', '28', '29', '30', '31', '32', '33', '34', '35', '36', '37', '38', '39', '40', '41', '42', '43', '44', '45', '46', '47', '48', '49'], '93380187': ['0', '1', '2', '3', '4', '5', '6', '7', '8', '9', '10', '11', '12', '13', '14', '15', '16', '17', '18', '19', '20', '21', '22', '23', '24', '25', '26', '27', '28', '29', '30', '31', '32', '33', '34', '35', '36', '37', '38', '39', '40', '41', '42', '43', '44', '45', '46', '47', '48', '49', '50', '51', '52', '53', '54', '55', '56', '57', '58', '59', '60', '61', '62', '63', '64', '65', '66', '67', '68', '69'], '0060036622': ['0', '1', '2', '3', '4', '5', '6', '7', '8', '9', '10', '11', '12', '13', '14', '15', '16', '17', '18', '19', '20', '21', '22', '23', '24', '25', '26', '27', '28', '29', '30', '31', '32', '33', '34'], '91914407': ['0', '1', '2', '3', '4', '5', '6', '7', '8', '9', '10', '11', '12', '13', '14', '15', '16', '17', '18', '19', '20', '21', '22', '23', '24', '25', '26', '27', '28', '29'], '71601299': ['0', '1', '2', '3', '4', '5', '6', '7', '8', '9', '10', '11', '12', '13', '14', '15', '16', '17', '18', '19', '20', '21', '22', '23', '24', '25', '26', '27', '28', '29', '30', '31', '32', '33', '34', '35', '36'], '12052385': ['0', '1', '2', '3', '4', '5', '6', '7', '8', '9', '10', '11', '12', '13', '14', '15', '16', '17', '18', '19'], '0030031163': ['0', '1', '2', '3', '4', '5', '6', '7', '8', '9', '10', '11', '12', '13', '14', '15', '16', '17', '18', '19', '20', '21', '22', '23', '24', '25'], '0000999294': ['0', '1', '2', '3', '4', '5', '6', '7', '8', '9', '10', '11', '12', '13', '14', '15', '16', '17', '18', '19', '20', '21', '22', '23', '24', '25', '26', '27', '28', '29', '30', '31', '32', '33', '34', '35', '36', '37', '38', '39', '40', '41', '42', '43', '44', '45', '46', '47', '48', '49', '50', '51', '52', '53', '54', '55', '56', '57', '58', '59', '60', '61', '62', '63', '64', '65', '66', '67', '68', '69', '70', '71', '72', '73', '74', '75', '76', '77', '78', '79', '80', '81', '82', '83', '84', '85', '86', '87', '88', '89', '90', '91', '92', '93', '94', '95', '96', '97', '98', '99', '100', '101', '102', '103', '104', '105', '106', '107', '108', '109', '110', '111', '112', '113', '114', '115', '116', '117', '118', '119', '120', '121', '122', '123', '124', '125', '126', '127', '128', '129', '130', '131', '132', '133', '134', '135', '136', '137', '138', '139', '140', '141', '142', '143', '144', '145', '146', '147', '148', '149', '150', '151', '152', '153', '154', '155', '156', '157', '158', '159', '160', '161', '162', '163', '164', '165', '166', '167', '168', '169', '170', '171', '172', '173', '174', '175', '176', '177', '178', '179', '180'], '91939637': ['0', '1', '2', '3', '4', '5', '6', '7', '8', '9', '10', '11', '12', '13', '14', '15', '16', '17', '18', '19', '20', '21', '22', '23', '24', '25', '26', '27', '28', '29', '30', '31', '32', '33', '34', '35', '36', '37', '38', '39', '40'], '71341634': ['0', '1', '2', '3', '4', '5', '6', '7', '8', '9', '10', '11', '12', '13', '14', '15', '16', '17', '18', '19', '20', '21', '22', '23', '24', '25', '26', '27', '28', '29', '30', '31', '32', '33', '34', '35', '36', '37', '38', '39', '40', '41', '42', '43', '44', '45', '46', '47', '48', '49', '50', '51', '52', '53', '54', '55', '56', '57', '58', '59', '60', '61', '62', '63', '64', '65', '66', '67', '68', '69', '70', '71', '72', '73', '74', '75', '76', '77', '78', '79', '80', '81', '82', '83', '84', '85', '86', '87', '88', '89', '90', '91', '92', '93', '94', '95', '96', '97', '98', '99', '100', '101', '102', '103'], '91355841': ['0', '1', '2', '3', '4', '5', '6', '7', '8', '9', '10', '11', '12', '13', '14', '15', '16', '17', '18', '19', '20', '21', '22', '23', '24', '25', '26', '27', '28', '29', '30', '31', '32', '33'], '00851879': ['0', '1', '2', '3', '4', '5', '6', '7', '8', '9', '10', '11', '12', '13', '14', '15', '16', '17', '18', '19', '20', '21', '22', '23', '24', '25', '26', '27'], '00836244': ['0', '1', '2', '3', '4', '5', '6', '7', '8', '9', '10', '11', '12', '13', '14', '15', '16', '17', '18', '19', '20', '21', '22', '23', '24', '25', '26', '27', '28', '29', '30', '31', '32', '33', '34', '35', '36', '37', '38', '39', '40', '41', '42', '43', '44', '45', '46', '47', '48', '49', '50', '51', '52', '53', '54', '55', '56', '57', '58', '59', '60', '61', '62', '63', '64', '65', '66', '67', '68', '69', '70', '71', '72', '73', '74', '75', '76', '77', '78', '79', '80', '81', '82', '83', '84', '85', '86', '87', '88', '89', '90', '91', '92'], '93351929_93351931': ['0', '1', '2', '3', '4', '5', '6', '7', '8', '9', '10', '11', '12', '13', '14', '15', '16', '17', '18', '19', '20', '21', '22', '23', '24', '25', '26', '27', '28', '29', '30', '31', '32', '33', '34', '35', '36', '37', '38', '39', '40', '41', '42', '43', '44', '45', '46', '47'], '00836816': ['0', '1', '2', '3', '4', '5', '6', '7', '8', '9', '10', '11', '12', '13', '14', '15', '16', '17', '18', '19', '20', '21', '22', '23', '24', '25', '26', '27', '28', '29'], '80718412_8413': ['0', '1', '2', '3', '4', '5', '6', '7', '8', '9', '10', '11', '12', '13', '14', '15', '16', '17', '18', '19', '20', '21', '22', '23', '24', '25'], '80728670': ['0', '1', '2', '3', '4', '5', '6', '7', '8', '9', '10', '11', '12', '13', '14', '15', '16', '17', '18', '19', '20', '21', '22', '23', '24', '25', '26', '27', '28', '29', '30', '31', '32', '33', '34', '35'], '91315069_91315070': ['0', '1', '2', '3', '4', '5', '6', '7', '8', '9', '10', '11', '12', '13', '14', '15', '16', '17', '18', '19', '20', '21', '22', '23', '24', '25'], '0011838621': ['0', '1', '2', '3', '4', '5', '6', '7', '8', '9', '10', '11', '12', '13', '14', '15', '16', '17', '18', '19', '20', '21', '22', '23', '24', '25', '26', '27', '28', '29', '30', '31', '32', '33', '34', '35', '36', '37', '38', '39', '40', '41', '42', '43', '44', '45', '46', '47', '48', '49', '50', '51', '52', '53', '54', '55', '56', '57', '58', '59', '60', '61'], '88057519': ['0', '1', '2', '3', '4', '5', '6', '7', '8', '9', '10', '11', '12', '13', '14', '15', '16'], '82254638': ['0', '1', '2', '3', '4', '5', '6', '7', '8', '9', '10', '11', '12', '13', '14', '15', '16', '17', '18', '19', '20', '21', '22', '23', '24', '25', '26', '27', '28', '29', '30', '31', '32', '33', '34', '35', '36', '37', '38', '39', '40', '41', '42', '43', '44', '45', '46', '47', '48', '49', '50', '51', '52', '53', '54', '55', '56', '57', '58', '59', '60', '61', '62', '63', '64'], '00851772_1780': ['0', '1', '2', '3', '4', '5', '6', '7', '8', '9', '10', '11', '12', '13', '14', '15', '16', '17', '18', '19', '20', '21', '22', '23', '24', '25', '26', '27', '28', '29', '30', '31', '32'], '00040534': ['0', '1', '2', '3', '4', '5', '6', '7', '8', '9', '10', '11', '12', '13', '14', '15', '16', '17', '18', '19', '20', '21', '22', '23', '24', '25', '26', '27', '28', '29', '30', '31', '32', '33', '34', '35', '36', '37', '38', '39', '40', '41', '42', '43', '44', '45', '46', '47', '48', '49', '50', '51', '52', '53', '54', '55', '56', '57', '58', '59', '60', '61', '62', '63', '64', '65', '66', '67', '68', '69', '70', '71', '72', '73', '74', '75', '76', '77', '78', '79', '80'], '0060024314': ['0', '1', '2', '3', '4', '5', '6', '7', '8', '9', '10', '11', '12', '13', '14', '15', '16', '17', '18', '19', '20', '21', '22', '23', '24', '25', '26', '27', '28', '29', '30', '31', '32', '33', '34', '35', '36', '37', '38'], '0013255595': ['0', '1', '2', '3', '4', '5', '6', '7', '8', '9', '10', '11', '12', '13', '14', '15', '16'], '0060165115': ['0', '1', '2', '3', '4', '5', '6', '7', '8', '9', '10', '11', '12', '13', '14', '15', '16', '17', '18', '19', '20', '21', '22', '23', '24', '25', '26', '27', '28', '29', '30', '31', '32', '33', '34', '35'], '0060136394': ['0', '1', '2', '3', '4', '5', '6', '7', '8', '9', '10', '11', '12', '13', '14', '15', '16', '17', '18', '19', '20', '21', '22', '23', '24', '25', '26'], '0011859695': ['0', '1', '2', '3', '4', '5', '6', '7', '8', '9', '10', '11', '12', '13', '14', '15', '16', '17', '18', '19', '20', '21', '22', '23', '24', '25', '26', '27', '28'], '0001477983': ['0', '1', '2', '3', '4', '5', '6', '7', '8', '9', '10', '11', '12', '13', '14', '15', '16', '17', '18', '19', '20', '21', '22', '23', '24', '25', '26', '27', '28', '29', '30', '31', '32', '33', '34', '35', '36', '37', '38', '39', '40', '41', '42', '43', '44', '45', '46', '47', '48', '49', '50', '51', '52', '53', '54', '55', '56', '57', '58', '59', '60', '61', '62', '63', '64'], '00922237': ['0', '1', '2', '3', '4', '5', '6', '7', '8', '9', '10', '11', '12', '13', '14', '15', '16', '17', '18', '19', '20', '21', '22', '23', '24', '25', '26', '27', '28', '29', '30', '31', '32', '33', '34'], '0001456787': ['0', '1', '2', '3', '4', '5', '6', '7', '8', '9', '10', '11', '12', '13', '14', '15', '16', '17', '18', '19', '20', '21', '22', '23', '24', '25', '26', '27', '28', '29', '30', '31', '32', '33', '34', '35', '36', '37', '38', '39', '40', '41', '42', '43', '44', '45', '46', '47', '48', '49', '50', '51', '52', '53', '54', '55', '56', '57', '58', '59', '60', '61', '62', '63', '64', '65', '66', '67', '68', '69', '70', '71', '72', '73'], '91104867': ['0', '1', '2', '3', '4', '5', '6', '7', '8', '9', '10', '11', '12', '13', '14', '15', '16', '17', '18', '19', '20', '21', '22', '23', '24', '25', '26', '27', '28', '29', '30', '31', '32', '33', '34', '35', '36', '37', '38', '39', '40', '41', '42', '43', '44', '45', '46', '47', '48', '49', '50', '51', '52', '53', '54', '55'], '13149651': ['0', '1', '2', '3', '4', '5', '6', '7', '8', '9', '10', '11', '12', '13', '14', '15', '16', '17', '18', '19', '20', '21', '22', '23', '24', '25', '26', '27', '28', '29', '30', '31', '32', '33', '34', '35', '36', '37', '38', '39', '40', '41', '42', '43', '44', '45', '46', '47', '48', '49', '50', '51', '52', '53', '54', '55', '56', '57', '58', '59', '60', '61', '62', '63', '64', '65', '66', '67', '68', '69', '70', '71', '72', '73', '74'], '0011505151': ['0', '1', '2', '3', '4', '5', '6', '7', '8', '9', '10', '11', '12', '13', '14', '15', '16', '17', '18', '19', '20', '21', '22', '23', '24', '25', '26', '27', '28', '29', '30', '31', '32', '33', '34', '35', '36', '37', '38', '39'], '81749056_9057': ['0', '1', '2', '3', '4', '5', '6', '7', '8', '9', '10', '11', '12', '13', '14', '15', '16', '17', '18', '19', '20', '21', '22', '23', '24', '25', '26', '27', '28', '29', '30', '31', '32', '33', '34', '35', '36', '37', '38', '39', '40', '41', '42', '43', '44', '45', '46', '47', '48', '49', '50', '51', '52', '53', '54', '55', '56', '57', '58', '59', '60', '61', '62', '63', '64', '65', '66', '67', '68', '69', '70', '71', '72', '73', '74', '75', '76'], '0000990274': ['0', '1', '2', '3', '4', '5', '6', '7', '8', '9', '10', '11', '12', '13', '14', '15', '16', '17', '18', '19', '20', '21', '22', '23', '24', '25', '26', '27', '28', '29', '30'], '0011976929': ['0', '1', '2', '3', '4', '5', '6', '7', '8', '9', '10', '11', '12', '13', '14', '15', '16', '17', '18', '19', '20', '21', '22', '23'], '71108371': ['0', '1', '2', '3', '4', '5', '6', '7', '8', '9', '10', '11', '12', '13', '14', '15', '16', '17', '18', '19', '20', '21', '22', '23', '24', '25', '26', '27', '28', '29', '30', '31', '32', '33', '34', '35', '36', '37', '38', '39', '40', '41', '42', '43', '44', '45', '46', '47', '48', '49', '50', '51', '52', '53', '54', '55', '56', '57', '58', '59', '60', '61', '62', '63', '64', '65', '66', '67', '68', '69', '70', '71', '72', '73', '74', '75', '76', '77', '78', '79', '80', '81'], '11508234': ['0', '1', '2', '3', '4', '5', '6', '7', '8', '9', '10', '11', '12', '13', '14', '15', '16', '17', '18', '19', '20', '21', '22', '23', '24', '25', '26', '27', '28', '29', '30', '31', '32', '33', '34', '35', '36', '37', '38', '39', '40', '41', '42', '43', '44', '45', '46', '47', '48', '49', '50', '51', '52', '53', '54', '55', '56', '57', '58', '59', '60', '61', '62', '63', '64', '65', '66', '67', '68', '69', '70', '71', '72', '73', '74', '75', '76', '77', '78', '79', '80', '81', '82', '83', '84', '85', '86', '87', '88', '89', '90', '91', '92', '93', '94', '95', '96', '97', '98', '99', '100', '101', '102', '103', '104', '105', '106', '107', '108', '109', '110'], '81186212': ['0', '1', '2', '3', '4', '5', '6', '7', '8', '9', '10'], '0060077689': ['0', '1', '2', '3', '4', '5', '6', '7', '8', '9', '10', '11', '12', '13', '14', '15', '16', '17', '18', '19', '20', '21', '22', '23', '24', '25', '26', '27', '28', '29', '30', '31', '32', '33', '34', '35', '36', '37', '38', '39', '40', '41', '42', '43', '44', '45', '46', '47', '48', '49', '50', '51', '52', '53', '54', '55', '56', '57', '58', '59', '60', '61', '62', '63', '64', '65'], '92433599_92433601': ['0', '1', '2', '3', '4', '5', '6', '7', '8', '9', '10', '11', '12', '13', '14', '15', '16', '17', '18', '19', '20', '21', '22', '23', '24', '25', '26', '27', '28', '29', '30', '31', '32', '33', '34', '35', '36', '37', '38'], '0001118259': ['0', '1', '2', '3', '4', '5', '6', '7', '8', '9', '10', '11', '12', '13', '14', '15', '16', '17', '18', '19', '20', '21', '22', '23', '24', '25', '26', '27', '28', '29', '30'], '00838511_00838525': ['0', '1', '2', '3', '4', '5', '6', '7', '8', '9', '10', '11', '12', '13', '14', '15', '16', '17'], '0000971160': ['0', '1', '2', '3', '4', '5', '6', '7', '8', '9', '10', '11', '12', '13', '14', '15', '16', '17', '18', '19', '20', '21', '22', '23'], '01150773_01150774': ['0', '1', '2', '3', '4', '5', '6', '7', '8', '9', '10', '11', '12', '13', '14', '15', '16', '17', '18', '19', '20', '21', '22', '23', '24', '25', '26', '27', '28', '29', '30', '31', '32'], '0071032807': ['0', '1', '2', '3', '4', '5', '6', '7', '8', '9', '10', '11', '12', '13', '14', '15', '16', '17'], '00070353': ['0', '1', '2', '3', '4', '5', '6', '7', '8', '9', '10', '11', '12', '13', '14', '15', '16', '17', '18', '19', '20', '21', '22', '23'], '0030041455': ['0', '1', '2', '3', '4', '5', '6', '7', '8', '9', '10', '11', '12'], '00093726': ['0', '1', '2', '3', '4', '5', '6', '7', '8', '9', '10', '11', '12', '13', '14', '15', '16', '17', '18', '19', '20', '21', '22', '23', '24', '25', '26', '27', '28', '29', '30', '31', '32', '33', '34', '35', '36', '37', '38', '39', '40', '41', '42', '43', '44', '45', '46', '47', '48', '49', '50', '51', '52', '53', '54', '55', '56', '57', '58', '59', '60', '61', '62', '63', '64', '65', '66', '67', '68', '69', '70', '71', '72', '73', '74', '75', '76', '77', '78', '79', '80', '81', '82', '83', '84', '85', '86', '87', '88', '89', '90', '91'], '89817999_8002': ['0', '1', '2', '3', '4', '5', '6', '7', '8', '9', '10', '11', '12', '13', '14', '15', '16', '17', '18', '19', '20', '21', '22', '23', '24', '25', '26', '27', '28'], '0011973451': ['0', '1', '2', '3', '4', '5', '6', '7', '8', '9', '10', '11', '12', '13', '14', '15', '16', '17', '18', '19', '20', '21', '22', '23', '24', '25', '26', '27', '28', '29', '30', '31', '32', '33', '34', '35', '36', '37', '38', '39', '40', '41', '42', '43', '44', '45', '46', '47', '48'], '0001463448': ['0', '1', '2', '3', '4', '5', '6', '7', '8', '9', '10', '11', '12', '13', '14', '15', '16', '17', '18', '19', '20', '21', '22', '23', '24', '25', '26', '27', '28', '29', '30', '31', '32', '33', '34', '35', '36', '37', '38', '39', '40', '41'], '92094746': ['0', '1', '2', '3', '4', '5', '6', '7', '8', '9', '10', '11', '12', '13', '14', '15', '16', '17', '18', '19', '20', '21', '22', '23', '24', '25', '26', '27', '28', '29', '30', '31', '32', '33', '34', '35', '36', '37', '38', '39', '40', '41', '42', '43', '44', '45', '46', '47', '48', '49', '50', '51', '52', '53', '54', '55', '56', '57', '58', '59', '60', '61', '62', '63', '64', '65', '66', '67'], '01408099_01408101': ['0', '1', '2', '3', '4', '5', '6', '7', '8', '9', '10', '11', '12', '13', '14', '15', '16', '17', '18', '19', '20', '21', '22', '23', '24', '25', '26', '27', '28', '29', '30', '31', '32', '33', '34', '35', '36', '37', '38', '39', '40', '41', '42', '43', '44', '45', '46', '47', '48', '49', '50', '51'], '93329540': ['0', '1', '2', '3', '4', '5', '6', '7', '8', '9', '10', '11', '12', '13', '14', '15', '16', '17', '18', '19', '20', '21', '22', '23', '24', '25', '26', '27', '28', '29', '30', '31', '32', '33', '34', '35', '36', '37', '38', '39', '40', '41'], '00837285': ['0', '1', '2', '3', '4', '5', '6', '7', '8', '9', '10', '11', '12', '13', '14', '15', '16', '17', '18', '19', '20', '21', '22', '23', '24', '25', '26', '27', '28', '29', '30', '31', '32', '33', '34', '35', '36', '37', '38', '39', '40', '41', '42', '43', '44', '45', '46', '47', '48', '49', '50', '51', '52', '53', '54', '55', '56', '57', '58', '59', '60', '61', '62', '63', '64', '65', '66', '67', '68', '69', '70', '71', '72', '73', '74', '75', '76', '77', '78'], '92094751': ['0', '1', '2', '3', '4', '5', '6', '7', '8', '9', '10', '11', '12', '13', '14', '15', '16', '17', '18', '19', '20', '21', '22', '23', '24', '25', '26', '27', '28', '29', '30', '31', '32', '33', '34', '35', '36', '37', '38', '39', '40', '41', '42', '43', '44', '45', '46', '47', '48', '49', '50', '51', '52', '53', '54', '55', '56', '57', '58', '59', '60', '61', '62', '63', '64', '65', '66', '67', '68', '69', '70'], '92314414': ['0', '1', '2', '3', '4', '5', '6', '7', '8', '9', '10', '11', '12', '13', '14', '15', '16', '17', '18', '19', '20', '21', '22', '23', '24', '25', '26', '27', '28', '29', '30'], '0001485288': ['0', '1', '2', '3', '4', '5', '6', '7', '8', '9', '10', '11', '12', '13', '14', '15', '16', '17', '18', '19', '20', '21', '22', '23', '24', '25', '26', '27', '28', '29'], '71202511': ['0', '1', '2', '3', '4', '5', '6', '7', '8', '9', '10', '11', '12', '13', '14', '15', '16', '17', '18', '19', '20', '21', '22', '23', '24', '25', '26', '27', '28', '29', '30', '31', '32', '33', '34', '35', '36', '37', '38', '39', '40', '41', '42', '43', '44', '45', '46', '47', '48', '49', '50', '51', '52', '53', '54', '55', '56', '57', '58', '59', '60', '61', '62', '63', '64', '65', '66', '67', '68', '69', '70', '71', '72', '73', '74', '75', '76', '77', '78'], '89368010': ['0', '1', '2', '3', '4', '5', '6', '7', '8', '9', '10', '11', '12', '13', '14', '15', '16', '17', '18', '19', '20', '21', '22', '23', '24', '25', '26', '27', '28', '29', '30', '31', '32', '33', '34', '35', '36', '37', '38', '39', '40'], '0012199830': ['0', '1', '2', '3', '4', '5', '6', '7', '8', '9', '10', '11', '12', '13', '14', '15', '16', '17', '18', '19', '20', '21', '22', '23', '24', '25', '26'], '92091873': ['0', '1', '2', '3', '4', '5', '6', '7', '8', '9', '10', '11', '12', '13', '14', '15', '16', '17', '18', '19', '20', '21', '22', '23', '24', '25', '26', '27', '28', '29', '30', '31', '32', '33', '34', '35', '36', '37', '38', '39', '40', '41', '42', '43', '44', '45', '46', '47', '48', '49', '50', '51', '52', '53', '54', '55', '56', '57', '58', '59', '60', '61', '62', '63', '64', '65', '66', '67', '68', '69', '70'], '11875011': ['0', '1', '2', '3', '4', '5', '6', '7', '8', '9', '10', '11', '12', '13', '14', '15', '16', '17', '18', '19', '20', '21', '22', '23', '24', '25', '26', '27', '28', '29'], '92657311_7313': ['0', '1', '2', '3', '4', '5', '6', '7', '8', '9', '10', '11', '12', '13', '14', '15', '16', '17', '18', '19', '20', '21', '22', '23', '24', '25', '26', '27', '28', '29', '30'], '91974562': ['0', '1', '2', '3', '4', '5', '6', '7', '8', '9', '10', '11', '12', '13', '14', '15', '16', '17', '18', '19', '20', '21', '22', '23', '24', '25', '26', '27', '28', '29', '30', '31', '32', '33', '34', '35', '36', '37', '38', '39'], '0060007216': ['0', '1', '2', '3', '4', '5', '6', '7', '8', '9', '10', '11', '12', '13', '14', '15', '16', '17', '18', '19', '20', '21', '22', '23', '24', '25', '26', '27', '28', '29', '30'], '0012529295': ['0', '1', '2', '3', '4', '5', '6', '7', '8', '9', '10', '11', '12', '13', '14', '15', '16', '17', '18', '19', '20', '21', '22', '23', '24', '25', '26', '27', '28', '29', '30', '31', '32', '33', '34', '35', '36', '37', '38', '39', '40', '41', '42', '43', '44', '45', '46', '47', '48', '49', '50', '51', '52', '53', '54', '55', '56', '57', '58', '59', '60', '61', '62', '63', '64', '65', '66', '67', '68', '69', '70', '71', '72', '73', '74', '75', '76', '77', '78', '79', '80', '81', '82', '83', '84', '85', '86', '87'], '0060080406': ['0', '1', '2', '3', '4', '5', '6', '7', '8', '9', '10', '11', '12', '13', '14', '15', '16', '17', '18', '19', '20', '21', '22', '23', '24', '25', '26', '27', '28', '29', '30', '31', '32', '33', '34', '35', '36', '37', '38', '39', '40', '41', '42', '43', '44', '45', '46', '47', '48', '49', '50', '51', '52', '53', '54', '55', '56', '57', '58'], '0060000813': ['0', '1', '2', '3', '4', '5', '6', '7', '8', '9', '10', '11', '12', '13', '14', '15', '16', '17', '18', '19', '20', '21', '22', '23', '24', '25', '26', '27', '28', '29', '30', '31', '32', '33', '34', '35', '36', '37', '38', '39', '40', '41', '42', '43', '44', '45', '46', '47'], '88547278_88547279': ['0', '1', '2', '3', '4', '5', '6', '7', '8', '9', '10', '11', '12', '13', '14', '15', '16', '17', '18', '19', '20', '21', '22', '23', '24', '25', '26', '27', '28', '29', '30', '31', '32', '33', '34', '35', '36', '37', '38', '39'], '91361993': ['0', '1', '2', '3', '4', '5', '6', '7', '8', '9', '10', '11', '12', '13', '14', '15', '16', '17', '18', '19', '20', '21', '22', '23', '24', '25', '26', '27', '28', '29', '30', '31', '32', '33', '34', '35', '36', '37', '38', '39'], '0011856542': ['0', '1', '2', '3', '4', '5', '6', '7', '8', '9', '10', '11', '12', '13', '14', '15', '16', '17'], '91356315': ['0', '1', '2', '3', '4', '5', '6', '7', '8', '9', '10', '11', '12', '13', '14', '15', '16', '17', '18', '19', '20', '21', '22', '23', '24', '25', '26', '27', '28', '29', '30', '31', '32', '33', '34'], '92081358_1359': ['0', '1', '2', '3', '4', '5', '6', '7', '8', '9', '10', '11', '12', '13', '14', '15', '16', '17', '18', '19', '20', '21', '22', '23', '24', '25', '26', '27', '28', '29', '30', '31', '32', '33', '34', '35', '36', '37', '38', '39', '40', '41', '42', '43', '44', '45', '46', '47', '48', '49', '50', '51', '52', '53'], '0001476912': ['0', '1', '2', '3', '4', '5', '6', '7', '8', '9', '10', '11', '12', '13', '14', '15', '16', '17', '18', '19', '20', '21', '22', '23', '24', '25', '26', '27', '28', '29', '30', '31', '32', '33', '34', '35', '36', '37', '38', '39', '40', '41', '42', '43', '44', '45', '46', '47', '48', '49', '50', '51'], '93213298': ['0', '1', '2', '3', '4', '5', '6', '7', '8', '9', '10', '11', '12', '13', '14', '15', '16', '17', '18', '19', '20', '21', '22', '23', '24', '25', '26', '27', '28', '29', '30', '31', '32', '33', '34', '35', '36', '37', '38', '39', '40', '41', '42', '43', '44', '45', '46', '47', '48', '49', '50', '51', '52', '53', '54', '55', '56', '57', '58', '59', '60', '61', '62', '63', '64', '65', '66'], '0001463282': ['0', '1', '2', '3', '4', '5', '6', '7', '8', '9', '10', '11', '12', '13', '14', '15', '16', '17', '18', '19', '20', '21', '22', '23', '24', '25', '26', '27', '28', '29', '30', '31', '32', '33', '34', '35', '36', '37', '38', '39', '40', '41', '42', '43', '44', '45', '46', '47', '48', '49', '50', '51', '52', '53', '54', '55', '56', '57', '58', '59', '60', '61', '62', '63', '64', '65', '66', '67', '68', '69', '70', '71', '72', '73', '74', '75', '76', '77', '78', '79', '80', '81', '82', '83', '84', '85', '86', '87', '88', '89', '90', '91', '92', '93', '94', '95', '96', '97', '98', '99', '100'], '01191071_1072': ['0', '1', '2', '3', '4', '5', '6', '7', '8', '9', '10', '11', '12', '13', '14', '15', '16', '17', '18', '19', '20', '21', '22', '23'], '0012529284': ['0', '1', '2', '3', '4', '5', '6', '7', '8', '9', '10', '11', '12', '13', '14', '15', '16', '17', '18', '19', '20', '21', '22', '23', '24', '25', '26', '27', '28', '29', '30', '31', '32', '33', '34', '35', '36', '37', '38', '39', '40', '41', '42', '43', '44', '45', '46', '47', '48', '49', '50', '51', '52', '53', '54', '55', '56', '57', '58', '59', '60', '61', '62', '63', '64', '65', '66', '67', '68', '69', '70'], '0060025670': ['0', '1', '2', '3', '4', '5', '6', '7', '8', '9', '10', '11', '12', '13'], '87682908': ['0', '1', '2', '3', '4', '5', '6', '7', '8', '9', '10', '11', '12', '13', '14', '15', '16', '17', '18', '19', '20', '21', '22', '23', '24', '25', '26', '27', '28', '29', '30'], '81574683': ['0', '1', '2', '3', '4', '5', '6', '7', '8', '9', '10', '11', '12', '13', '14', '15', '16', '17', '18', '19', '20', '21', '22', '23', '24', '25', '26', '27', '28', '29', '30', '31', '32', '33', '34', '35', '36', '37', '38', '39', '40', '41', '42', '43', '44', '45', '46', '47', '48', '49', '50', '51', '52', '53', '54', '55', '56', '57', '58', '59', '60', '61', '62', '63', '64', '65', '66', '67', '68', '69', '70', '71', '72', '73', '74', '75', '76', '77', '78', '79', '80', '81', '82', '83', '84', '85', '86', '87', '88', '89', '90', '91', '92', '93', '94', '95', '96', '97', '98', '99', '100', '101', '102', '103', '104'], '00920222': ['0', '1', '2', '3', '4', '5', '6', '7', '8', '9', '10', '11', '12', '13', '14', '15', '16', '17', '18', '19', '20', '21', '22', '23', '24', '25', '26', '27', '28', '29', '30', '31', '32', '33', '34', '35', '36', '37', '38', '39', '40', '41', '42', '43'], '00860012_00860014': ['0', '1', '2', '3', '4', '5', '6', '7', '8', '9', '10', '11', '12', '13', '14', '15', '16', '17', '18', '19', '20', '21', '22', '23', '24', '25', '26', '27', '28', '29', '30', '31', '32', '33', '34', '35', '36', '37', '38', '39', '40', '41', '42', '43', '44', '45', '46', '47', '48', '49', '50', '51', '52', '53', '54', '55', '56', '57', '58', '59', '60', '61', '62'], '12603270': ['0', '1', '2', '3', '4', '5', '6', '7', '8', '9', '10', '11', '12', '13', '14', '15', '16', '17', '18', '19', '20', '21', '22', '23', '24', '25', '26', '27', '28', '29', '30', '31', '32', '33', '34', '35', '36', '37', '38', '39', '40', '41', '42', '43', '44', '45', '46', '47', '48', '49', '50', '51', '52', '53', '54', '55', '56', '57', '58', '59', '60', '61', '62', '63', '64', '65', '66', '67', '68', '69', '70', '71', '72', '73', '74', '75', '76', '77'], '00920294': ['0', '1', '2', '3', '4', '5', '6', '7', '8', '9', '10', '11', '12', '13', '14', '15', '16', '17', '18', '19', '20', '21', '22', '23', '24', '25', '26', '27', '28', '29', '30', '31', '32', '33', '34', '35', '36', '37', '38', '39', '40', '41', '42', '43', '44', '45', '46', '47', '48', '49'], '0071032790': ['0', '1', '2', '3', '4', '5', '6', '7', '8', '9', '10', '11', '12', '13', '14', '15', '16', '17', '18', '19', '20', '21', '22', '23', '24', '25'], '01197604': ['0', '1', '2', '3', '4', '5', '6', '7', '8', '9', '10', '11', '12', '13', '14', '15', '16', '17', '18', '19', '20', '21', '22', '23', '24', '25', '26', '27', '28', '29'], '91372360': ['0', '1', '2', '3', '4', '5', '6', '7', '8', '9', '10', '11', '12', '13', '14', '15', '16', '17', '18', '19', '20', '21', '22', '23', '24', '25', '26', '27', '28', '29', '30', '31', '32'], '91161344_91161347': ['0', '1', '2', '3', '4', '5', '6', '7', '8', '9', '10', '11', '12', '13', '14', '15', '16', '17', '18', '19', '20', '21', '22', '23', '24', '25', '26', '27', '28', '29', '30', '31', '32', '33', '34', '35', '36', '37', '38', '39', '40', '41', '42', '43', '44', '45', '46', '47', '48', '49', '50', '51', '52', '53', '54', '55', '56', '57', '58', '59', '60', '61', '62', '63', '64', '65', '66', '67', '68', '69', '70', '71', '72', '73', '74', '75', '76', '77', '78', '79', '80', '81', '82', '83', '84', '85', '86', '87', '88', '89', '90', '91', '92', '93', '94', '95', '96', '97', '98', '99', '100', '101', '102', '103', '104', '105', '106', '107', '108', '109', '110', '111', '112', '113', '114', '115', '116', '117', '118', '119', '120', '121', '122', '123', '124', '125', '126', '127', '128', '129', '130', '131', '132', '133', '134', '135', '136', '137', '138', '139', '140', '141', '142', '143', '144', '145', '146', '147'], '0060262650': ['0', '1', '2', '3', '4', '5', '6', '7', '8', '9', '10', '11', '12', '13', '14', '15', '16', '17', '18', '19', '20', '21', '22', '23', '24', '25', '26', '27', '28', '29', '30', '31', '32', '33', '34', '35', '36', '37', '38', '39', '40', '41', '42', '43', '44', '45', '46', '47', '48', '49', '50', '51', '52', '53', '54', '55', '56', '57', '58', '59', '60', '61', '62', '63', '64', '65', '66', '67', '68', '69', '70', '71', '72', '73', '74', '75', '76', '77', '78', '79', '80'], '87672097': ['0', '1', '2', '3', '4', '5', '6', '7', '8', '9', '10', '11', '12', '13', '14', '15', '16', '17', '18', '19', '20', '21', '22', '23', '24', '25', '26', '27', '28', '29', '30', '31', '32', '33', '34', '35', '36', '37', '38', '39', '40', '41', '42', '43', '44', '45', '46', '47', '48', '49', '50', '51', '52', '53', '54', '55', '56', '57', '58', '59', '60', '61', '62', '63', '64', '65', '66', '67', '68', '69', '70', '71', '72', '73', '74', '75', '76', '77', '78', '79', '80', '81'], '0060308461': ['0', '1', '2', '3', '4', '5', '6', '7', '8', '9', '10', '11', '12', '13', '14', '15', '16', '17', '18', '19', '20', '21', '22', '23', '24', '25', '26', '27', '28', '29', '30', '31', '32', '33', '34', '35', '36', '37', '38', '39', '40', '41', '42', '43', '44', '45', '46', '47', '48', '49', '50', '51', '52', '53', '54', '55', '56', '57', '58', '59', '60'], '71366499': ['0', '1', '2', '3', '4', '5', '6', '7', '8', '9', '10', '11', '12', '13', '14', '15', '16', '17', '18', '19', '20', '21', '22', '23', '24', '25', '26', '27', '28', '29', '30', '31', '32', '33'], '0011906503': ['0', '1', '2', '3', '4', '5', '6', '7', '8', '9', '10', '11', '12', '13', '14', '15', '16', '17', '18', '19', '20', '21', '22', '23', '24', '25', '26', '27', '28', '29', '30', '31', '32', '33', '34', '35', '36', '37', '38', '39', '40', '41', '42', '43', '44', '45', '46', '47', '48', '49', '50', '51', '52', '53', '54', '55', '56', '57', '58', '59', '60', '61', '62', '63', '64', '65', '66', '67', '68', '69', '70', '71', '72', '73', '74', '75', '76', '77', '78', '79', '80', '81', '82', '83', '84', '85'], '0060308251': ['0', '1', '2', '3', '4', '5', '6', '7', '8', '9', '10', '11', '12', '13', '14', '15', '16', '17', '18'], '0060091229': ['0', '1', '2', '3', '4', '5', '6', '7', '8', '9', '10', '11', '12', '13', '14', '15', '16'], '92298125': ['0', '1', '2', '3', '4', '5', '6', '7', '8', '9', '10', '11', '12', '13', '14', '15', '16', '17', '18', '19'], '0000989556': ['0', '1', '2', '3', '4', '5', '6', '7', '8', '9', '10', '11', '12', '13', '14', '15', '16', '17', '18', '19', '20', '21', '22', '23', '24', '25', '26', '27', '28', '29', '30', '31', '32', '33', '34', '35', '36', '37', '38', '39', '40', '41', '42', '43', '44', '45', '46', '47', '48', '49', '50', '51', '52', '53', '54', '55', '56', '57', '58', '59', '60', '61', '62', '63', '64', '65', '66', '67', '68', '69', '70', '71', '72', '73', '74', '75', '76', '77', '78', '79', '80', '81', '82', '83', '84', '85', '86', '87', '88', '89', '90', '91', '92', '93', '94', '95', '96', '97', '98', '99'], '0012947358': ['0', '1', '2', '3', '4', '5', '6', '7', '8', '9', '10', '11', '12', '13', '14', '15', '16', '17', '18', '19', '20', '21', '22', '23', '24', '25', '26', '27', '28', '29', '30', '31', '32', '33', '34', '35', '36', '37', '38', '39', '40', '41', '42', '43', '44', '45', '46', '47', '48', '49', '50', '51', '52', '53', '54', '55', '56', '57', '58', '59', '60', '61', '62', '63', '64', '65', '66', '67', '68', '69', '70', '71', '72', '73', '74', '75', '76', '77', '78', '79', '80', '81', '82'], '71190280': ['0', '1', '2', '3', '4', '5', '6', '7', '8', '9', '10', '11', '12', '13', '14', '15', '16', '17', '18', '19', '20', '21', '22', '23', '24', '25', '26', '27', '28', '29', '30', '31', '32', '33', '34', '35', '36', '37'], '71206427': ['0', '1', '2', '3', '4', '5', '6', '7', '8', '9', '10', '11', '12', '13', '14', '15', '16', '17', '18', '19', '20', '21', '22', '23', '24', '25', '26', '27', '28', '29', '30'], '0001123541': ['0', '1', '2', '3', '4', '5', '6', '7', '8', '9', '10', '11', '12', '13', '14', '15', '16', '17', '18', '19', '20', '21', '22', '23', '24', '25', '26', '27', '28', '29', '30', '31', '32', '33', '34', '35', '36', '37', '38', '39'], '89386032': ['0', '1', '2', '3', '4', '5', '6', '7', '8', '9', '10', '11', '12', '13', '14', '15', '16', '17'], '0001209043': ['0', '1', '2', '3', '4', '5', '6', '7', '8', '9', '10', '11', '12', '13', '14', '15', '16', '17', '18', '19', '20', '21', '22', '23', '24', '25', '26', '27', '28', '29', '30', '31', '32', '33', '34', '35', '36', '37', '38', '39', '40', '41', '42', '43', '44', '45', '46', '47', '48', '49', '50', '51', '52', '53', '54', '55', '56', '57', '58', '59', '60', '61', '62', '63', '64', '65', '66', '67', '68', '69', '70', '71'], '660978': ['0', '1', '2', '3', '4', '5', '6', '7', '8', '9', '10', '11', '12', '13', '14', '15', '16', '17', '18', '19', '20', '21', '22', '23', '24', '25', '26', '27', '28', '29'], '81619486_9488': ['0', '1', '2', '3', '4', '5', '6', '7', '8', '9', '10', '11', '12', '13', '14', '15', '16', '17', '18', '19', '20', '21', '22', '23', '24', '25', '26', '27', '28', '29', '30', '31', '32', '33', '34', '35', '36', '37', '38', '39', '40', '41', '42', '43', '44', '45', '46', '47', '48', '49', '50', '51', '52', '53', '54', '55', '56', '57', '58', '59', '60', '61'], '91856041_6049': ['0', '1', '2', '3', '4', '5', '6', '7', '8', '9', '10', '11', '12', '13', '14', '15', '16', '17', '18', '19', '20', '21', '22', '23', '24', '25', '26', '27', '28', '29', '30', '31'], '80707440_7443': ['0', '1', '2', '3', '4', '5', '6', '7', '8', '9', '10', '11', '12', '13', '14', '15', '16', '17', '18', '19', '20', '21', '22', '23', '24', '25', '26'], '0012602424': ['0', '1', '2', '3', '4', '5', '6', '7', '8', '9', '10', '11', '12', '13', '14', '15', '16', '17', '18', '19', '20', '21', '22', '23', '24', '25', '26', '27', '28', '29', '30', '31', '32', '33', '34', '35', '36', '37', '38', '39', '40', '41', '42', '43', '44', '45', '46', '47', '48', '49', '50', '51', '52', '53', '54', '55', '56', '57', '58', '59', '60', '61', '62', '63', '64', '65', '66', '67', '68', '69', '70', '71', '72', '73', '74', '75', '76', '77', '78', '79', '80', '81', '82', '83', '84', '85', '86', '87'], '0060270727': ['0', '1', '2', '3', '4', '5', '6', '7', '8', '9', '10', '11', '12', '13', '14', '15', '16', '17', '18', '19', '20', '21', '22', '23', '24', '25', '26', '27', '28', '29', '30', '31', '32', '33', '34', '35', '36', '37', '38', '39', '40', '41', '42', '43', '44', '45', '46', '47', '48', '49', '50', '51', '52', '53', '54', '55', '56', '57', '58', '59', '60', '61', '62', '63', '64', '65', '66', '67', '68', '69', '70', '71', '72', '73', '74', '75', '76', '77', '78', '79', '80', '81', '82', '83', '84'], '92657391': ['0', '1', '2', '3', '4', '5', '6', '7', '8', '9', '10', '11', '12', '13', '14', '15', '16', '17', '18', '19', '20', '21', '22', '23', '24', '25', '26', '27', '28', '29', '30', '31', '32', '33', '34', '35', '36'], '0060302201': ['0', '1', '2', '3', '4', '5', '6', '7', '8', '9', '10', '11', '12', '13', '14', '15', '16', '17', '18', '19', '20', '21', '22', '23', '24', '25', '26', '27', '28', '29', '30', '31', '32', '33'], '0001129658': ['0', '1', '2', '3', '4', '5', '6', '7', '8', '9', '10', '11', '12', '13', '14', '15', '16', '17', '18', '19', '20', '21', '22', '23', '24', '25', '26', '27', '28', '29', '30', '31', '32', '33', '34', '35', '36', '37', '38', '39', '40', '41'], '0001239897': ['0', '1', '2', '3', '4', '5', '6', '7', '8', '9', '10', '11', '12', '13', '14', '15', '16', '17', '18', '19', '20', '21', '22', '23', '24', '25', '26', '27', '28', '29', '30', '31', '32', '33', '34', '35', '36', '37', '38', '39', '40', '41', '42', '43', '44', '45', '46', '47', '48'], '0012178355': ['0', '1', '2', '3', '4', '5', '6', '7', '8', '9', '10', '11', '12', '13', '14', '15', '16', '17', '18', '19', '20', '21', '22', '23', '24', '25', '26', '27', '28', '29', '30', '31', '32', '33', '34', '35', '36', '37', '38', '39', '40', '41', '42', '43', '44', '45', '46', '47', '48', '49', '50', '51', '52', '53', '54', '55', '56', '57', '58', '59', '60', '61'], '0060207528': ['0', '1', '2', '3', '4', '5', '6', '7', '8', '9', '10', '11', '12', '13', '14', '15', '16', '17', '18', '19', '20', '21', '22', '23', '24', '25', '26', '27', '28', '29', '30', '31', '32', '33', '34', '35', '36', '37', '38', '39', '40', '41', '42', '43'], '00865872': ['0', '1', '2', '3', '4', '5', '6', '7', '8', '9', '10', '11', '12', '13', '14', '15', '16', '17', '18', '19', '20', '21', '22', '23', '24', '25', '26', '27', '28', '29', '30', '31', '32', '33', '34', '35', '36', '37', '38', '39'], '716552': ['0', '1', '2', '3', '4', '5', '6', '7', '8', '9', '10', '11', '12', '13', '14', '15', '16', '17', '18', '19', '20', '21', '22', '23', '24', '25', '26', '27', '28', '29', '30', '31', '32', '33', '34', '35', '36', '37', '38', '39', '40', '41', '42', '43', '44', '45', '46', '47', '48', '49', '50', '51', '52', '53', '54', '55', '56', '57', '58', '59', '60', '61', '62', '63', '64', '65', '66', '67'], '81619511_9513': ['0', '1', '2', '3', '4', '5', '6', '7', '8', '9', '10', '11', '12', '13', '14', '15', '16', '17', '18', '19', '20', '21', '22', '23', '24', '25', '26', '27', '28', '29', '30', '31', '32', '33', '34', '35', '36', '37', '38', '39', '40', '41', '42', '43', '44', '45', '46', '47', '48', '49', '50', '51', '52', '53', '54', '55', '56', '57', '58', '59', '60', '61', '62', '63', '64', '65', '66', '67', '68', '69', '70', '71', '72', '73', '74', '75', '76', '77', '78', '79', '80', '81'], '71563825': ['0', '1', '2', '3', '4', '5', '6', '7', '8', '9', '10', '11', '12', '13', '14', '15', '16', '17', '18', '19', '20', '21', '22', '23', '24', '25', '26', '27', '28', '29', '30', '31', '32', '33', '34', '35', '36', '37', '38', '39', '40', '41', '42', '43', '44', '45', '46', '47', '48', '49', '50', '51', '52', '53'], '0060029036': ['0', '1', '2', '3', '4', '5', '6', '7', '8', '9', '10', '11', '12', '13', '14', '15', '16', '17', '18', '19', '20', '21', '22', '23', '24', '25', '26', '27', '28', '29', '30', '31', '32', '33', '34', '35', '36', '37', '38', '39', '40', '41', '42', '43', '44', '45', '46', '47'], '91391286': ['0', '1', '2', '3', '4', '5', '6', '7', '8', '9', '10', '11', '12', '13', '14', '15', '16', '17', '18', '19', '20', '21', '22', '23', '24', '25', '26', '27', '28', '29', '30', '31', '32', '33', '34', '35', '36', '37', '38', '39', '40', '41', '42', '43'], '0011845203': ['0', '1', '2', '3', '4', '5', '6', '7', '8', '9', '10', '11', '12', '13', '14', '15', '16', '17', '18', '19', '20', '21', '22', '23', '24', '25', '26', '27', '28', '29', '30', '31', '32', '33', '34', '35', '36', '37', '38', '39', '40', '41', '42', '43', '44', '45', '46', '47', '48', '49', '50', '51', '52'], '80310840a': ['0', '1', '2', '3', '4', '5', '6', '7', '8', '9', '10', '11', '12', '13', '14', '15', '16', '17', '18', '19', '20', '21', '22', '23', '24', '25', '26', '27', '28', '29', '30', '31', '32', '33', '34', '35', '36', '37', '38', '39', '40', '41', '42', '43', '44', '45', '46', '47', '48', '49', '50', '51', '52', '53', '54', '55', '56', '57', '58', '59', '60', '61', '62', '63', '64'], '0011899960': ['0', '1', '2', '3', '4', '5', '6', '7', '8', '9', '10', '11', '12', '13', '14', '15', '16', '17', '18', '19', '20', '21', '22', '23', '24', '25', '26', '27', '28', '29'], '91903177': ['0', '1', '2', '3', '4', '5', '6', '7', '8', '9', '10', '11', '12', '13', '14', '15', '16', '17', '18', '19', '20', '21', '22', '23', '24', '25', '26', '27', '28', '29', '30', '31', '32', '33', '34', '35', '36', '37'], '01122115': ['0', '1', '2', '3', '4', '5', '6', '7', '8', '9', '10', '11', '12', '13', '14', '15', '16', '17', '18', '19', '20', '21', '22', '23', '24', '25', '26', '27', '28', '29', '30', '31', '32', '33', '34', '35', '36', '37', '38', '39', '40', '41', '42', '43', '44', '45', '46', '47', '48', '49', '50', '51', '52', '53', '54', '55', '56', '57', '58', '59', '60', '61', '62', '63', '64', '65', '66', '67', '68', '69', '70', '71', '72', '73', '74', '75', '76', '77', '78', '79', '80', '81', '82', '83', '84', '85', '86', '87', '88', '89', '90', '91', '92', '93', '94'], '00283813': ['0', '1', '2', '3', '4', '5', '6', '7', '8', '9', '10', '11', '12', '13', '14', '15', '16', '17', '18', '19', '20', '21', '22', '23', '24', '25', '26', '27', '28', '29', '30', '31', '32', '33', '34', '35', '36', '37', '38', '39', '40', '41', '42', '43', '44', '45', '46', '47', '48', '49', '50', '51', '52', '53', '54', '55', '56', '57', '58', '59', '60', '61', '62', '63', '64', '65', '66', '67', '68', '69', '70', '71', '72', '73', '74', '75'], '89867723': ['0', '1', '2', '3', '4', '5', '6', '7', '8', '9', '10', '11', '12', '13', '14', '15', '16', '17', '18', '19', '20', '21', '22', '23', '24', '25', '26', '27', '28', '29', '30', '31', '32', '33', '34', '35', '36', '37', '38', '39', '40', '41', '42', '43', '44', '45', '46', '47', '48', '49', '50', '51', '52', '53', '54', '55', '56', '57'], '0060255888': ['0', '1', '2', '3', '4', '5', '6', '7', '8', '9', '10', '11', '12', '13', '14', '15', '16', '17', '18', '19', '20', '21', '22', '23', '24', '25', '26', '27', '28', '29', '30', '31', '32'], '92327794': ['0', '1', '2', '3', '4', '5', '6', '7', '8', '9', '10', '11', '12', '13', '14', '15', '16', '17', '18'], '0001438955': ['0', '1', '2', '3', '4', '5', '6', '7', '8', '9', '10', '11', '12', '13', '14', '15', '16', '17', '18', '19', '20', '21', '22', '23', '24', '25', '26', '27', '28', '29', '30', '31', '32', '33', '34', '35', '36', '37', '38', '39', '40', '41', '42', '43', '44', '45', '46', '47', '48', '49', '50', '51', '52', '53', '54', '55', '56', '57', '58', '59', '60', '61', '62', '63', '64', '65', '66', '67', '68', '69', '70', '71', '72', '73'], '0011974919': ['0', '1', '2', '3', '4', '5', '6', '7', '8', '9', '10', '11', '12', '13', '14', '15', '16', '17', '18', '19', '20', '21', '22', '23', '24', '25', '26', '27', '28', '29', '30', '31', '32', '33', '34', '35', '36', '37', '38', '39', '40', '41'], '81310636': ['0', '1', '2', '3', '4', '5', '6', '7', '8', '9', '10', '11', '12', '13', '14', '15', '16', '17', '18', '19', '20', '21', '22', '23', '24', '25', '26', '27'], '93455715': ['0', '1', '2', '3', '4', '5', '6', '7', '8', '9', '10', '11', '12', '13', '14', '15', '16', '17', '18', '19', '20', '21', '22', '23', '24', '25', '26', '27', '28', '29', '30', '31', '32', '33', '34', '35', '36'], '0060094595': ['0', '1', '2', '3', '4', '5', '6', '7', '8', '9', '10', '11', '12', '13', '14', '15', '16', '17', '18', '19', '20', '21', '22', '23', '24', '25', '26', '27', '28', '29', '30', '31', '32', '33', '34', '35', '36', '37', '38', '39', '40', '41', '42', '43', '44', '45', '46', '47', '48', '49', '50', '51', '52', '53', '54', '55', '56', '57', '58'], '0060173256': ['0', '1', '2', '3', '4', '5', '6', '7', '8', '9', '10', '11', '12', '13', '14', '15', '16', '17', '18', '19', '20', '21', '22', '23', '24', '25', '26', '27', '28', '29', '30', '31', '32', '33', '34', '35', '36', '37'], '00866042': ['0', '1', '2', '3', '4', '5', '6', '7', '8', '9', '10', '11', '12', '13', '14', '15', '16', '17', '18', '19', '20', '21', '22', '23', '24', '25', '26', '27', '28', '29', '30', '31', '32', '33', '34', '35', '36', '37', '38', '39', '40', '41', '42', '43', '44', '45', '46', '47', '48', '49', '50', '51', '52', '53', '54', '55', '56', '57', '58', '59', '60', '61', '62', '63', '64'], '91581919': ['0', '1', '2', '3', '4', '5', '6', '7', '8', '9', '10', '11', '12', '13', '14', '15', '16', '17', '18', '19', '20', '21', '22', '23', '24', '25', '26', '27', '28', '29', '30', '31', '32', '33', '34', '35', '36', '37', '38', '39', '40', '41'], '12825369': ['0', '1', '2', '3', '4', '5', '6', '7', '8', '9', '10', '11', '12', '13', '14', '15', '16', '17', '18', '19', '20', '21', '22', '23', '24', '25', '26', '27', '28', '29', '30', '31', '32', '33', '34', '35', '36', '37', '38', '39', '40', '41', '42']}\n"
          ],
          "name": "stdout"
        }
      ]
    },
    {
      "cell_type": "code",
      "metadata": {
        "id": "ea7iGEDQUlOh"
      },
      "source": [
        "# build local graph\n",
        "object_graph_dict_train = {}\n",
        "for l in new_train_list_dict:\n",
        "  object_graph_dict_train[l] = {}\n",
        "  for obj in new_train_list_dict[l]['objects']:\n",
        "    object_graph_dict_train[l][obj] = {}\n",
        "    object_graph_dict_train[l][obj]['obj2'] = []\n",
        "\n",
        "object_graph_dict_eval = {}\n",
        "for l in new_eval_list_dict:\n",
        "  object_graph_dict_eval[l] = {}\n",
        "  for obj in new_eval_list_dict[l]['objects']:\n",
        "    object_graph_dict_eval[l][obj] = {}\n",
        "    object_graph_dict_eval[l][obj]['obj2'] = []"
      ],
      "execution_count": null,
      "outputs": []
    },
    {
      "cell_type": "code",
      "metadata": {
        "colab": {
          "base_uri": "https://localhost:8080/"
        },
        "id": "G9LkwB0nHdX-",
        "outputId": "84cc1a64-9d9e-4115-bb05-cf7638c820e1"
      },
      "source": [
        "print(len(list_dict_train))"
      ],
      "execution_count": null,
      "outputs": [
        {
          "output_type": "stream",
          "text": [
            "149\n"
          ],
          "name": "stdout"
        }
      ]
    },
    {
      "cell_type": "code",
      "metadata": {
        "colab": {
          "base_uri": "https://localhost:8080/"
        },
        "id": "7jsI_KrbJBqp",
        "outputId": "a8fc784c-9a9e-4b9d-d777-9f0706de7ab2"
      },
      "source": [
        "print(list_dict_test.keys())\n",
        "print(list_dict_test['83594639'])"
      ],
      "execution_count": null,
      "outputs": [
        {
          "output_type": "stream",
          "text": [
            "dict_keys(['82253058_3059', '83594639', '83635935', '82253362_3364', '87332450', '83996357', '93106788', '82200067_0069', '83624198', '87594142_87594144', '82252956_2958', '87528380', '83772145', '87125460', '83443897', '83823750', '82491256', '87137840', '82562350', '83641919_1921', '86236474_6476', '92380595', '83553333_3334', '86328049_8050', '87528321', '85629964', '86244113', '82253245_3247', '86263525', '87147607', '86079776_9777', '91814768_91814769', '89856243', '82504862', '86075409_5410', '87086073', '82251504', '82837252', '82092117', '82254765', '86220490', '83573282', '85540866', '86230203_0206', '87428306', '85240939', '82250337_0338', '85201976', '82573104', '87093315_87093318'])\n",
            "{'objects': ['0', '1', '2', '3', '4', '5', '6', '7', '8', '9', '10', '11', '12', '13', '14', '15', '16', '17', '18', '19', '20'], 'relationships': [['0', '20', 'parent'], ['1', '13', 'parent'], ['2', '5', 'parent'], ['3', '16', 'parent'], ['4', '15', 'child'], ['5', '2', 'child'], ['13', '1', 'child'], ['14', '17', 'child'], ['15', '4', 'parent'], ['16', '3', 'child'], ['17', '14', 'parent'], ['20', '0', 'child']]}\n"
          ],
          "name": "stdout"
        }
      ]
    },
    {
      "cell_type": "code",
      "metadata": {
        "id": "kLHpMbpbu3am"
      },
      "source": [
        "#fill the empty graph\n",
        "for sg in list_dict_train:\n",
        "    obj_list = list_dict_train[sg]['objects']\n",
        "    for rel_item in list_dict_train[sg]['relationships']:\n",
        "        obj1 = str(rel_item[0])\n",
        "        obj2 = str(rel_item[1])\n",
        "        object_graph_dict_train[sg][rel_item[0]]['obj2'].append(obj2)\n",
        "\n",
        "#fill the empty graph\n",
        "for sg in list_dict_test:\n",
        "    obj_list = list_dict_test[sg]['objects']\n",
        "    for rel_item in list_dict_test[sg]['relationships']:\n",
        "        obj1 = str(rel_item[0])\n",
        "        obj2 = str(rel_item[1])\n",
        "        object_graph_dict_eval[sg][rel_item[0]]['obj2'].append(obj2)"
      ],
      "execution_count": null,
      "outputs": []
    },
    {
      "cell_type": "code",
      "metadata": {
        "id": "l1RcUHYSxpsQ"
      },
      "source": [
        "node_size_train = []\n",
        "for f in object_graph_dict_train:\n",
        "  l = object_graph_dict_train[f].keys()\n",
        "  node_size_train.append(len(l))\n",
        "\n",
        "node_size_eval = []\n",
        "for f in object_graph_dict_eval:\n",
        "  l = object_graph_dict_eval[f].keys()\n",
        "  node_size_eval.append(len(l))"
      ],
      "execution_count": null,
      "outputs": []
    },
    {
      "cell_type": "code",
      "metadata": {
        "id": "5oo9mLOsZzEU"
      },
      "source": [
        "\n",
        "#padding methods\n",
        "#weight for padding is -1\n",
        "#node id if for padding nodes is -1\n",
        "max_len = 177\n",
        "col_train = {}\n",
        "row_train = {}\n",
        "weight_train = {}\n",
        "for f in object_graph_dict_train:\n",
        "  col_train[f] = []\n",
        "  row_train[f] = []\n",
        "  weight_train[f] = []\n",
        "  for obj in object_graph_dict_train[f]:\n",
        "    obj_rel_list = object_graph_dict_train[f][obj]['obj2']\n",
        "    for obj2 in object_graph_dict_train[f]:\n",
        "      if obj2 in obj_rel_list:\n",
        "        weight_train[f].append(1.0)\n",
        "      else:\n",
        "        weight_train[f].append(0.0)\n",
        "      row_train[f].append(obj)\n",
        "      col_train[f].append(obj2)\n"
      ],
      "execution_count": null,
      "outputs": []
    },
    {
      "cell_type": "code",
      "metadata": {
        "id": "fWxnskPVLJ3_"
      },
      "source": [
        "\n",
        "#padding methods\n",
        "#weight for padding is -1\n",
        "#node id if for padding nodes is -1\n",
        "max_len = 181\n",
        "col_eval = {}\n",
        "row_eval = {}\n",
        "weight_eval = {}\n",
        "for f in object_graph_dict_eval:\n",
        "  col_eval[f] = []\n",
        "  row_eval[f] = []\n",
        "  weight_eval[f] = []\n",
        "  for obj in object_graph_dict_eval[f]:\n",
        "    obj_rel_list = object_graph_dict_eval[f][obj]['obj2']\n",
        "    for obj2 in object_graph_dict_eval[f]:\n",
        "      if obj2 in obj_rel_list:\n",
        "        weight_eval[f].append(1.0)\n",
        "      else:\n",
        "        weight_eval[f].append(0.0)\n",
        "      row_eval[f].append(obj)\n",
        "      col_eval[f].append(obj2)"
      ],
      "execution_count": null,
      "outputs": []
    },
    {
      "cell_type": "code",
      "metadata": {
        "id": "kD4wDEbP4Jmg"
      },
      "source": [
        "#PROBLEMS\n",
        "# how to determine the weight to the node itself\n",
        "# how to padding the node"
      ],
      "execution_count": null,
      "outputs": []
    },
    {
      "cell_type": "code",
      "metadata": {
        "id": "kYsUdteVLz_e"
      },
      "source": [
        "import scipy.sparse as sp\n",
        "node_size = 181\n",
        "adj_train = {}\n",
        "for f in weight_train:\n",
        "  adj_train[f] = sp.csr_matrix((weight_train[f], (row_train[f], col_train[f])), shape=(node_size, node_size))"
      ],
      "execution_count": null,
      "outputs": []
    },
    {
      "cell_type": "code",
      "metadata": {
        "id": "Num0kxITOwK6"
      },
      "source": [
        "import scipy.sparse as sp\n",
        "node_size = 181\n",
        "adj_eval = {}\n",
        "for f in weight_eval:\n",
        "  adj_eval[f] = sp.csr_matrix((weight_eval[f], (row_eval[f], col_eval[f])), shape=(node_size, node_size))"
      ],
      "execution_count": null,
      "outputs": []
    },
    {
      "cell_type": "markdown",
      "metadata": {
        "id": "XM89cDQb0j5Q"
      },
      "source": [
        "##Build Model"
      ]
    },
    {
      "cell_type": "code",
      "metadata": {
        "id": "mBRi-q_R0npl"
      },
      "source": [
        "# from inits import *\n",
        "import tensorflow.compat.v1 as tf\n",
        "\n",
        "flags = tf.app.flags\n",
        "FLAGS = flags.FLAGS\n",
        "\n",
        "# global unique layer ID dictionary for layer name assignment\n",
        "_LAYER_UIDS = {}\n",
        "\n",
        "\n",
        "def get_layer_uid(layer_name=''):\n",
        "    \"\"\"Helper function, assigns unique layer IDs.\"\"\"\n",
        "    if layer_name not in _LAYER_UIDS:\n",
        "        _LAYER_UIDS[layer_name] = 1\n",
        "        return 1\n",
        "    else:\n",
        "        _LAYER_UIDS[layer_name] += 1\n",
        "        return _LAYER_UIDS[layer_name]\n",
        "\n",
        "\n",
        "def sparse_dropout(x, keep_prob, noise_shape):\n",
        "    \"\"\"Dropout for sparse tensors.\"\"\"\n",
        "    random_tensor = keep_prob\n",
        "    random_tensor += tf.random_uniform(noise_shape)\n",
        "    dropout_mask = tf.cast(tf.floor(random_tensor), dtype=tf.bool)\n",
        "    pre_out = tf.sparse_retain(x, dropout_mask)\n",
        "    return pre_out * (1./keep_prob)\n",
        "\n",
        "\n",
        "def dot(x, y, sparse=False):\n",
        "    \"\"\"Wrapper for tf.matmul (sparse vs dense).\"\"\"\n",
        "    if sparse:\n",
        "        res = tf.sparse_tensor_dense_matmul(x, y)\n",
        "    else:\n",
        "        res = tf.matmul(x, y)\n",
        "    return res\n",
        "\n",
        "\n",
        "class Layer(object):\n",
        "    \"\"\"Base layer class. Defines basic API for all layer objects.\n",
        "    Implementation inspired by keras (http://keras.io).\n",
        "\n",
        "    # Properties\n",
        "        name: String, defines the variable scope of the layer.\n",
        "        logging: Boolean, switches Tensorflow histogram logging on/off\n",
        "\n",
        "    # Methods\n",
        "        _call(inputs): Defines computation graph of layer\n",
        "            (i.e. takes input, returns output)\n",
        "        __call__(inputs): Wrapper for _call()\n",
        "        _log_vars(): Log all variables\n",
        "    \"\"\"\n",
        "\n",
        "    def __init__(self, **kwargs):\n",
        "        allowed_kwargs = {'name', 'logging'}\n",
        "        for kwarg in kwargs.keys():\n",
        "            assert kwarg in allowed_kwargs, 'Invalid keyword argument: ' + kwarg\n",
        "        name = kwargs.get('name')\n",
        "        if not name:\n",
        "            layer = self.__class__.__name__.lower()\n",
        "            name = layer + '_' + str(get_layer_uid(layer))\n",
        "        self.name = name\n",
        "        self.vars = {}\n",
        "        logging = kwargs.get('logging', False)\n",
        "        self.logging = logging\n",
        "        self.sparse_inputs = False\n",
        "\n",
        "    def _call(self, inputs):\n",
        "        return inputs\n",
        "\n",
        "    def __call__(self, inputs):\n",
        "        with tf.name_scope(self.name):\n",
        "            if self.logging and not self.sparse_inputs:\n",
        "                tf.summary.histogram(self.name + '/inputs', inputs)\n",
        "            outputs = self._call(inputs)\n",
        "            if self.logging:\n",
        "                tf.summary.histogram(self.name + '/outputs', outputs)\n",
        "            return outputs\n",
        "\n",
        "    def _log_vars(self):\n",
        "        for var in self.vars:\n",
        "            tf.summary.histogram(self.name + '/vars/' + var, self.vars[var])\n",
        "\n",
        "\n",
        "\n",
        "class GraphConvolution(Layer):\n",
        "    \"\"\"Graph convolution layer.\"\"\"\n",
        "    def __init__(self, input_dim, output_dim, placeholders, dropout=0.,\n",
        "                 sparse_inputs=False, act=tf.nn.relu, bias=False,\n",
        "                 featureless=False, **kwargs):\n",
        "        super(GraphConvolution, self).__init__(**kwargs)\n",
        "\n",
        "        if dropout:\n",
        "            self.dropout = placeholders['dropout']\n",
        "        else:\n",
        "            self.dropout = 0.\n",
        "\n",
        "        self.act = act\n",
        "        self.support = placeholders['support']\n",
        "        self.sparse_inputs = sparse_inputs\n",
        "        self.featureless = featureless\n",
        "        self.bias = bias\n",
        "\n",
        "        # helper variable for sparse dropout\n",
        "        self.num_features_nonzero = placeholders['num_features_nonzero']\n",
        "\n",
        "        with tf.variable_scope(self.name + '_vars'):\n",
        "            for i in range(len(self.support)):\n",
        "                self.vars['weights_' + str(i)] = glorot([input_dim, output_dim],\n",
        "                                                        name='weights_' + str(i))\n",
        "            if self.bias:\n",
        "                self.vars['bias'] = zeros([output_dim], name='bias')\n",
        "\n",
        "        if self.logging:\n",
        "            self._log_vars()\n",
        "\n",
        "    def _call(self, inputs):\n",
        "        x = inputs\n",
        "\n",
        "        # dropout\n",
        "        if self.sparse_inputs:\n",
        "            x = sparse_dropout(x, 1-self.dropout, self.num_features_nonzero)\n",
        "        else:\n",
        "            x = tf.nn.dropout(x, 1-self.dropout)\n",
        "\n",
        "        # convolve\n",
        "        supports = list()\n",
        "        for i in range(len(self.support)):\n",
        "            if not self.featureless:\n",
        "                pre_sup = dot(x, self.vars['weights_' + str(i)],\n",
        "                              sparse=self.sparse_inputs)\n",
        "            else:\n",
        "                pre_sup = self.vars['weights_' + str(i)]            \n",
        "            support = dot(self.support[i], pre_sup, sparse=True)\n",
        "            supports.append(support)\n",
        "        output = tf.add_n(supports)\n",
        "\n",
        "        # bias\n",
        "        if self.bias:\n",
        "            output += self.vars['bias']\n",
        "\t\t\t\n",
        "\t\t\n",
        "        self.embedding = output #output\n",
        "        return self.act(output)\n"
      ],
      "execution_count": null,
      "outputs": []
    },
    {
      "cell_type": "code",
      "metadata": {
        "id": "SkVgGB0k0xOH"
      },
      "source": [
        "# from metrics import *\n",
        "import tensorflow.compat.v1 as tf\n",
        "\n",
        "flags = tf.app.flags\n",
        "FLAGS = flags.FLAGS\n",
        "\n",
        "def glorot(shape, name=None):\n",
        "    \"\"\"Glorot & Bengio (AISTATS 2010) init.\"\"\"\n",
        "    init_range = np.sqrt(6.0/(shape[0]+shape[1]))\n",
        "    initial = tf.random_uniform(shape, minval=-init_range, maxval=init_range, dtype=tf.float32)\n",
        "    return tf.Variable(initial, name=name)\n",
        "\n",
        "class Model(object):\n",
        "    def __init__(self, **kwargs):\n",
        "        allowed_kwargs = {'name', 'logging'}\n",
        "        for kwarg in kwargs.keys():\n",
        "            assert kwarg in allowed_kwargs, 'Invalid keyword argument: ' + kwarg\n",
        "        name = kwargs.get('name')\n",
        "        if not name:\n",
        "            name = self.__class__.__name__.lower()\n",
        "        self.name = name\n",
        "\n",
        "        logging = kwargs.get('logging', False)\n",
        "        self.logging = logging\n",
        "\n",
        "        self.vars = {}\n",
        "        self.placeholders = {}\n",
        "\n",
        "        self.layers = []\n",
        "        self.activations = []\n",
        "\n",
        "        self.inputs = None\n",
        "        self.outputs = None\n",
        "\n",
        "        self.loss = 0\n",
        "        self.accuracy = 0\n",
        "        self.optimizer = None\n",
        "        self.opt_op = None\n",
        "\n",
        "    def _build(self):\n",
        "        raise NotImplementedError\n",
        "\n",
        "    def build(self):\n",
        "        \"\"\" Wrapper for _build() \"\"\"\n",
        "        with tf.variable_scope(self.name):\n",
        "            self._build()\n",
        "\n",
        "        # Build sequential layer model\n",
        "        self.activations.append(self.inputs)\n",
        "        for layer in self.layers:\n",
        "            hidden = layer(self.activations[-1])\n",
        "            self.activations.append(hidden)\n",
        "        self.outputs = self.activations[-1]\n",
        "\n",
        "        # Store model variables for easy access\n",
        "        variables = tf.get_collection(tf.GraphKeys.GLOBAL_VARIABLES, scope=self.name)\n",
        "        self.vars = {var.name: var for var in variables}\n",
        "\n",
        "        # Build metrics\n",
        "        self._loss()\n",
        "        self._accuracy()\n",
        "\n",
        "        self.opt_op = self.optimizer.minimize(self.loss)\n",
        "\n",
        "    def predict(self):\n",
        "        pass\n",
        "\n",
        "    def _loss(self):\n",
        "        raise NotImplementedError\n",
        "\n",
        "    def _accuracy(self):\n",
        "        raise NotImplementedError\n",
        "\n",
        "    def save(self, sess=None):\n",
        "        if not sess:\n",
        "            raise AttributeError(\"TensorFlow session not provided.\")\n",
        "        saver = tf.train.Saver(self.vars)\n",
        "        save_path = saver.save(sess, \"tmp/%s.ckpt\" % self.name)\n",
        "        print(\"Model saved in file: %s\" % save_path)\n",
        "\n",
        "    def load(self, sess=None):\n",
        "        if not sess:\n",
        "            raise AttributeError(\"TensorFlow session not provided.\")\n",
        "        saver = tf.train.Saver(self.vars)\n",
        "        save_path = \"tmp/%s.ckpt\" % self.name\n",
        "        saver.restore(sess, save_path)\n",
        "        print(\"Model restored from file: %s\" % save_path)"
      ],
      "execution_count": null,
      "outputs": []
    },
    {
      "cell_type": "code",
      "metadata": {
        "id": "5dztZuyxcgRK"
      },
      "source": [
        "class GCN(Model):\n",
        "    def __init__(self, placeholders, input_dim, **kwargs):\n",
        "        super(GCN, self).__init__(**kwargs)\n",
        "\n",
        "        self.inputs = placeholders['features']\n",
        "        self.input_dim = input_dim\n",
        "        # self.input_dim = self.inputs.get_shape().as_list()[1]  # To be supported in future Tensorflow versions\n",
        "        self.output_dim = placeholders['labels'].get_shape().as_list()[1]\n",
        "        self.placeholders = placeholders\n",
        "\n",
        "        self.optimizer = tf.train.AdamOptimizer(learning_rate=FLAGS.learning_rate)\n",
        "\n",
        "        self.build()\n",
        "\n",
        "    def _loss(self):\n",
        "        # Weight decay loss\n",
        "        for var in self.layers[0].vars.values():\n",
        "            self.loss += FLAGS.weight_decay * tf.nn.l2_loss(var)\n",
        "\n",
        "        # Cross entropy error\n",
        "        self.loss += masked_softmax_cross_entropy(self.outputs, self.placeholders['labels'],\n",
        "                                                  self.placeholders['labels_mask'])\n",
        "\n",
        "    def _accuracy(self):\n",
        "        self.accuracy = masked_accuracy(self.outputs, self.placeholders['labels'],\n",
        "                                        self.placeholders['labels_mask'])\n",
        "        self.pred = tf.argmax(self.outputs, 1)\n",
        "        self.labels = tf.argmax(self.placeholders['labels'], 1)\n",
        "\n",
        "    def _build(self):\n",
        "\n",
        "        self.layers.append(GraphConvolution(input_dim=self.input_dim,\n",
        "                                            output_dim=FLAGS.hidden1,\n",
        "                                            placeholders=self.placeholders,\n",
        "                                            act=tf.nn.relu,\n",
        "                                            dropout=True,\n",
        "                                            featureless=False,\n",
        "                                            sparse_inputs=True,\n",
        "                                            logging=self.logging))\n",
        "        \n",
        "        self.layers.append(GraphConvolution(input_dim=FLAGS.hidden1,\n",
        "                                            output_dim=self.output_dim,\n",
        "                                            placeholders=self.placeholders,\n",
        "                                            act=lambda x: x, #\n",
        "                                            dropout=True,\n",
        "                                            logging=self.logging))\n",
        "\n",
        "    def predict(self):\n",
        "        return tf.nn.softmax(self.outputs)"
      ],
      "execution_count": null,
      "outputs": []
    },
    {
      "cell_type": "code",
      "metadata": {
        "id": "ZQXtEYgr054Z"
      },
      "source": [
        "def masked_softmax_cross_entropy(preds, labels, mask):\n",
        "    \"\"\"Softmax cross-entropy loss with masking.\"\"\"\n",
        "    print(preds)\n",
        "    loss = tf.nn.softmax_cross_entropy_with_logits(logits=preds, labels=labels)\n",
        "    mask = tf.cast(mask, dtype=tf.float32)\n",
        "    mask /= tf.reduce_mean(mask)\n",
        "    loss *= mask\n",
        "    return tf.reduce_mean(loss)\n",
        "\n",
        "\n",
        "def masked_accuracy(preds, labels, mask):\n",
        "    \"\"\"Accuracy with masking.\"\"\"\n",
        "    correct_prediction = tf.equal(tf.argmax(preds, 1), tf.argmax(labels, 1))\n",
        "\n",
        "    accuracy_all = tf.cast(correct_prediction, tf.float32)\n",
        "    mask = tf.cast(mask, dtype=tf.float32)\n",
        "    mask /= tf.reduce_mean(mask)\n",
        "    accuracy_all *= mask\n",
        "    return tf.reduce_mean(accuracy_all)"
      ],
      "execution_count": null,
      "outputs": []
    },
    {
      "cell_type": "markdown",
      "metadata": {
        "id": "LT7yBttEfj0r"
      },
      "source": [
        "## Model Setting"
      ]
    },
    {
      "cell_type": "code",
      "metadata": {
        "colab": {
          "base_uri": "https://localhost:8080/"
        },
        "id": "OMKQpSeQ073v",
        "outputId": "b8531f5b-8426-4cbb-9a18-a387043355dd"
      },
      "source": [
        "from __future__ import division\n",
        "from __future__ import print_function\n",
        "\n",
        "import time\n",
        "import tensorflow.compat.v1 as tf\n",
        "\n",
        "from sklearn import metrics\n",
        "import random\n",
        "import os\n",
        "import sys\n",
        "\n",
        "\n",
        "# # Set random seed\n",
        "# seed = random.randint(1, 200)\n",
        "# np.random.seed(seed)\n",
        "# tf.set_random_seed(seed)\n",
        "\n",
        "\n",
        "# Settings\n",
        "os.environ[\"CUDA_VISIBLE_DEVICES\"] = \"1,2\"\n",
        "\n",
        "flags = tf.app.flags\n",
        "FLAGS = flags.FLAGS\n",
        "for name in list(flags.FLAGS):\n",
        "      delattr(flags.FLAGS,name)\n",
        "flags.DEFINE_string('f', '', 'kernel')\n",
        "flags.DEFINE_string('dataset', 'sencegraph', 'Dataset string.')\n",
        "# 'gcn', 'gcn_cheby', 'dense'\n",
        "flags.DEFINE_string('model', 'gcn', 'Model string.')\n",
        "flags.DEFINE_float('learning_rate', 0.00001, 'Initial learning rate.')\n",
        "flags.DEFINE_integer('epochs', 100, 'Number of epochs to train.')\n",
        "flags.DEFINE_integer('hidden1', 1024, 'Number of units in hidden layer 1.')\n",
        "flags.DEFINE_float('dropout', 0.5, 'Dropout rate (1 - keep probability).')\n",
        "flags.DEFINE_float('weight_decay', 0,\n",
        "                   'Weight for L2 loss on embedding matrix.')  # 5e-4\n",
        "flags.DEFINE_integer('early_stopping', 20,\n",
        "                     'Tolerance for early stopping (# of epochs).')\n",
        "flags.DEFINE_integer('max_degree', 3, 'Maximum Chebyshev polynomial degree.')"
      ],
      "execution_count": null,
      "outputs": [
        {
          "output_type": "execute_result",
          "data": {
            "text/plain": [
              "<absl.flags._flagvalues.FlagHolder at 0x7ffb039aa110>"
            ]
          },
          "metadata": {
            "tags": []
          },
          "execution_count": 107
        }
      ]
    },
    {
      "cell_type": "code",
      "metadata": {
        "colab": {
          "base_uri": "https://localhost:8080/"
        },
        "id": "jxWFGY7LYPVM",
        "outputId": "59cbd844-bdbc-4151-ab43-23b08d78efff"
      },
      "source": [
        "print(node_lists_train['0000971160'])"
      ],
      "execution_count": null,
      "outputs": [
        {
          "output_type": "stream",
          "text": [
            "['0', '1', '2', '3', '4', '5', '6', '7', '8', '9', '10', '11', '12', '13', '14', '15', '16', '17', '18', '19', '20', '21', '22', '23']\n"
          ],
          "name": "stdout"
        }
      ]
    },
    {
      "cell_type": "code",
      "metadata": {
        "colab": {
          "base_uri": "https://localhost:8080/"
        },
        "id": "GymSjZk5aTZB",
        "outputId": "fca309d1-2130-419b-808c-3a54c9d41494"
      },
      "source": [
        "id_bert_dict.keys()"
      ],
      "execution_count": null,
      "outputs": [
        {
          "output_type": "execute_result",
          "data": {
            "text/plain": [
              "dict_keys(['82253058_3059'])"
            ]
          },
          "metadata": {
            "tags": []
          },
          "execution_count": 52
        }
      ]
    },
    {
      "cell_type": "markdown",
      "metadata": {
        "id": "-g7zxZ7kwarT"
      },
      "source": [
        "### Bert CLS as Node Feature"
      ]
    },
    {
      "cell_type": "code",
      "metadata": {
        "id": "opLAemuYZSrU"
      },
      "source": [
        "# wrong code for global level \n",
        "# transfer from node id to features\n",
        "import scipy.sparse as sp\n",
        "features_train = {}\n",
        "for l in node_lists_train:\n",
        "  features_train[l] = []\n",
        "  for node in node_lists_train[l]:\n",
        "    feature = np.array([0.0]*768)\n",
        "    feature += id_bert_dict[l][str(node)]\n",
        "    features_train[l].append(feature)\n",
        "  for i in range(len(node_lists_train[l]),181):\n",
        "    feature = np.array([0.0]*768)\n",
        "    features_train[l].append(feature)\n",
        "  features_train[l]=sp.csr_matrix(features_train[l])"
      ],
      "execution_count": null,
      "outputs": []
    },
    {
      "cell_type": "code",
      "metadata": {
        "id": "cBVUsDeWMX-P"
      },
      "source": [
        "import scipy.sparse as sp\n",
        "features_eval = {}\n",
        "for l in node_lists_eval:\n",
        "  features_eval[l] = []\n",
        "  for node in node_lists_eval[l]:\n",
        "    feature = np.array([0.0]*768)\n",
        "    feature += id_bert_dict[l][str(node)]\n",
        "    features_eval[l].append(feature)\n",
        "  for i in range(len(node_lists_eval[l]),181):\n",
        "    feature = np.array([0.0]*768)\n",
        "    features_eval[l].append(feature)\n",
        "  features_eval[l]=sp.csr_matrix(features_eval[l])"
      ],
      "execution_count": null,
      "outputs": []
    },
    {
      "cell_type": "markdown",
      "metadata": {
        "id": "fp8cD8Abwgdc"
      },
      "source": [
        "### Other features"
      ]
    },
    {
      "cell_type": "code",
      "metadata": {
        "id": "5RVAH0ZUzN44"
      },
      "source": [
        "# wrong code for global level \n",
        "# transfer from node id to features\n",
        "import scipy.sparse as sp\n",
        "features_train = {}\n",
        "for l in node_lists_train:\n",
        "  features_train[l] = []\n",
        "  for node in node_lists_train[l]:\n",
        "    feature = np.array([0.0]*1024)\n",
        "    feature += np.array((id_density_dict[l][str(node)]))\n",
        "    features_train[l].append(feature)\n",
        "  for i in range(len(node_lists_train[l]),181):\n",
        "    feature = np.array([0.0]*1024)\n",
        "    features_train[l].append(feature)\n",
        "  features_train[l]=sp.csr_matrix(features_train[l])"
      ],
      "execution_count": null,
      "outputs": []
    },
    {
      "cell_type": "code",
      "metadata": {
        "id": "njr92EuNzXJ0"
      },
      "source": [
        "# wrong code for global level \n",
        "# transfer from node id to features\n",
        "import scipy.sparse as sp\n",
        "features_eval = {}\n",
        "for l in node_lists_eval:\n",
        "  features_eval[l] = []\n",
        "  for node in node_lists_eval[l]:\n",
        "    feature = np.array([0.0]*1024)\n",
        "    feature += id_density_dict[l][str(node)]\n",
        "    features_eval[l].append(feature)\n",
        "  for i in range(len(node_lists_eval[l]),181):\n",
        "    feature = np.array([0.0]*1024)\n",
        "    features_eval[l].append(feature)\n",
        "  features_eval[l]=sp.csr_matrix(features_eval[l])"
      ],
      "execution_count": null,
      "outputs": []
    },
    {
      "cell_type": "code",
      "metadata": {
        "id": "dOR5-95JNHzx",
        "colab": {
          "base_uri": "https://localhost:8080/"
        },
        "outputId": "2a47a15c-f6ad-46ee-be2c-3b3eaff460b5"
      },
      "source": [
        "'''\n",
        "import scipy.sparse as sp\n",
        "features = []\n",
        "for tokens in tokenize_nodes:\n",
        "  feature = np.array([0.0]*2048)\n",
        "  for token in tokens:\n",
        "    try:\n",
        "      feature += id_density_dict[int(tokens[0])]\n",
        "    except:\n",
        "      pass\n",
        "  features.append(feature)\n",
        "features= sp.csr_matrix(features)\n",
        "'''"
      ],
      "execution_count": null,
      "outputs": [
        {
          "output_type": "execute_result",
          "data": {
            "application/vnd.google.colaboratory.intrinsic+json": {
              "type": "string"
            },
            "text/plain": [
              "'\\nimport scipy.sparse as sp\\nfeatures = []\\nfor tokens in tokenize_nodes:\\n  feature = np.array([0.0]*2048)\\n  for token in tokens:\\n    try:\\n      feature += id_density_dict[int(tokens[0])]\\n    except:\\n      pass\\n  features.append(feature)\\nfeatures= sp.csr_matrix(features)\\n'"
            ]
          },
          "metadata": {
            "tags": []
          },
          "execution_count": 110
        }
      ]
    },
    {
      "cell_type": "code",
      "metadata": {
        "id": "MXT_fRkf6unl",
        "colab": {
          "base_uri": "https://localhost:8080/"
        },
        "outputId": "f8dace05-cd01-4538-c4f0-10a3548a537d"
      },
      "source": [
        "print(len(features_train))"
      ],
      "execution_count": null,
      "outputs": [
        {
          "output_type": "stream",
          "text": [
            "149\n"
          ],
          "name": "stdout"
        }
      ]
    },
    {
      "cell_type": "markdown",
      "metadata": {
        "id": "NeCk4mzI3VtV"
      },
      "source": [
        "### Sparse to tuple"
      ]
    },
    {
      "cell_type": "code",
      "metadata": {
        "colab": {
          "base_uri": "https://localhost:8080/"
        },
        "id": "_oDB45X71krq",
        "outputId": "e3e59364-be74-4cdf-8c51-218bdf0c2b8e"
      },
      "source": [
        "def sparse_to_tuple(sparse_mx):\n",
        "    \"\"\"Convert sparse matrix to tuple representation.\"\"\"\n",
        "    def to_tuple(mx):\n",
        "        if not sp.isspmatrix_coo(mx):\n",
        "            mx = mx.tocoo()\n",
        "        coords = np.vstack((mx.row, mx.col)).transpose()\n",
        "        values = mx.data\n",
        "        shape = mx.shape\n",
        "        return coords, values, shape\n",
        "    if isinstance(sparse_mx, list):\n",
        "        for i in range(len(sparse_mx)):\n",
        "            sparse_mx[i] = to_tuple(sparse_mx[i])\n",
        "    else:\n",
        "        sparse_mx = to_tuple(sparse_mx)\n",
        "    return sparse_mx\n",
        "\n",
        "\n",
        "def preprocess_features(features):\n",
        "    \"\"\"Row-normalize feature matrix and convert to tuple representation\"\"\"\n",
        "    rowsum = np.array(features.sum(1))\n",
        "    r_inv = np.power(rowsum, -1).flatten()\n",
        "    r_inv[np.isinf(r_inv)] = 0.\n",
        "    r_mat_inv = sp.diags(r_inv)\n",
        "    features = r_mat_inv.dot(features)\n",
        "    return sparse_to_tuple(features)\n",
        "for l in features_train:\n",
        "  features_train[l] = preprocess_features(features_train[l])\n",
        "  \n",
        "for l in features_eval:\n",
        "  features_eval[l] = preprocess_features(features_eval[l])\n"
      ],
      "execution_count": null,
      "outputs": [
        {
          "output_type": "stream",
          "text": [
            "/usr/local/lib/python3.7/dist-packages/ipykernel_launcher.py:21: RuntimeWarning: divide by zero encountered in power\n",
            "/usr/local/lib/python3.7/dist-packages/ipykernel_launcher.py:21: RuntimeWarning: divide by zero encountered in power\n",
            "/usr/local/lib/python3.7/dist-packages/ipykernel_launcher.py:21: RuntimeWarning: divide by zero encountered in power\n",
            "/usr/local/lib/python3.7/dist-packages/ipykernel_launcher.py:21: RuntimeWarning: divide by zero encountered in power\n",
            "/usr/local/lib/python3.7/dist-packages/ipykernel_launcher.py:21: RuntimeWarning: divide by zero encountered in power\n",
            "/usr/local/lib/python3.7/dist-packages/ipykernel_launcher.py:21: RuntimeWarning: divide by zero encountered in power\n",
            "/usr/local/lib/python3.7/dist-packages/ipykernel_launcher.py:21: RuntimeWarning: divide by zero encountered in power\n",
            "/usr/local/lib/python3.7/dist-packages/ipykernel_launcher.py:21: RuntimeWarning: divide by zero encountered in power\n",
            "/usr/local/lib/python3.7/dist-packages/ipykernel_launcher.py:21: RuntimeWarning: divide by zero encountered in power\n",
            "/usr/local/lib/python3.7/dist-packages/ipykernel_launcher.py:21: RuntimeWarning: divide by zero encountered in power\n",
            "/usr/local/lib/python3.7/dist-packages/ipykernel_launcher.py:21: RuntimeWarning: divide by zero encountered in power\n",
            "/usr/local/lib/python3.7/dist-packages/ipykernel_launcher.py:21: RuntimeWarning: divide by zero encountered in power\n",
            "/usr/local/lib/python3.7/dist-packages/ipykernel_launcher.py:21: RuntimeWarning: divide by zero encountered in power\n",
            "/usr/local/lib/python3.7/dist-packages/ipykernel_launcher.py:21: RuntimeWarning: divide by zero encountered in power\n",
            "/usr/local/lib/python3.7/dist-packages/ipykernel_launcher.py:21: RuntimeWarning: divide by zero encountered in power\n",
            "/usr/local/lib/python3.7/dist-packages/ipykernel_launcher.py:21: RuntimeWarning: divide by zero encountered in power\n",
            "/usr/local/lib/python3.7/dist-packages/ipykernel_launcher.py:21: RuntimeWarning: divide by zero encountered in power\n",
            "/usr/local/lib/python3.7/dist-packages/ipykernel_launcher.py:21: RuntimeWarning: divide by zero encountered in power\n",
            "/usr/local/lib/python3.7/dist-packages/ipykernel_launcher.py:21: RuntimeWarning: divide by zero encountered in power\n",
            "/usr/local/lib/python3.7/dist-packages/ipykernel_launcher.py:21: RuntimeWarning: divide by zero encountered in power\n",
            "/usr/local/lib/python3.7/dist-packages/ipykernel_launcher.py:21: RuntimeWarning: divide by zero encountered in power\n",
            "/usr/local/lib/python3.7/dist-packages/ipykernel_launcher.py:21: RuntimeWarning: divide by zero encountered in power\n",
            "/usr/local/lib/python3.7/dist-packages/ipykernel_launcher.py:21: RuntimeWarning: divide by zero encountered in power\n",
            "/usr/local/lib/python3.7/dist-packages/ipykernel_launcher.py:21: RuntimeWarning: divide by zero encountered in power\n",
            "/usr/local/lib/python3.7/dist-packages/ipykernel_launcher.py:21: RuntimeWarning: divide by zero encountered in power\n",
            "/usr/local/lib/python3.7/dist-packages/ipykernel_launcher.py:21: RuntimeWarning: divide by zero encountered in power\n",
            "/usr/local/lib/python3.7/dist-packages/ipykernel_launcher.py:21: RuntimeWarning: divide by zero encountered in power\n",
            "/usr/local/lib/python3.7/dist-packages/ipykernel_launcher.py:21: RuntimeWarning: divide by zero encountered in power\n",
            "/usr/local/lib/python3.7/dist-packages/ipykernel_launcher.py:21: RuntimeWarning: divide by zero encountered in power\n",
            "/usr/local/lib/python3.7/dist-packages/ipykernel_launcher.py:21: RuntimeWarning: divide by zero encountered in power\n",
            "/usr/local/lib/python3.7/dist-packages/ipykernel_launcher.py:21: RuntimeWarning: divide by zero encountered in power\n",
            "/usr/local/lib/python3.7/dist-packages/ipykernel_launcher.py:21: RuntimeWarning: divide by zero encountered in power\n",
            "/usr/local/lib/python3.7/dist-packages/ipykernel_launcher.py:21: RuntimeWarning: divide by zero encountered in power\n",
            "/usr/local/lib/python3.7/dist-packages/ipykernel_launcher.py:21: RuntimeWarning: divide by zero encountered in power\n",
            "/usr/local/lib/python3.7/dist-packages/ipykernel_launcher.py:21: RuntimeWarning: divide by zero encountered in power\n",
            "/usr/local/lib/python3.7/dist-packages/ipykernel_launcher.py:21: RuntimeWarning: divide by zero encountered in power\n",
            "/usr/local/lib/python3.7/dist-packages/ipykernel_launcher.py:21: RuntimeWarning: divide by zero encountered in power\n",
            "/usr/local/lib/python3.7/dist-packages/ipykernel_launcher.py:21: RuntimeWarning: divide by zero encountered in power\n",
            "/usr/local/lib/python3.7/dist-packages/ipykernel_launcher.py:21: RuntimeWarning: divide by zero encountered in power\n",
            "/usr/local/lib/python3.7/dist-packages/ipykernel_launcher.py:21: RuntimeWarning: divide by zero encountered in power\n",
            "/usr/local/lib/python3.7/dist-packages/ipykernel_launcher.py:21: RuntimeWarning: divide by zero encountered in power\n",
            "/usr/local/lib/python3.7/dist-packages/ipykernel_launcher.py:21: RuntimeWarning: divide by zero encountered in power\n",
            "/usr/local/lib/python3.7/dist-packages/ipykernel_launcher.py:21: RuntimeWarning: divide by zero encountered in power\n",
            "/usr/local/lib/python3.7/dist-packages/ipykernel_launcher.py:21: RuntimeWarning: divide by zero encountered in power\n",
            "/usr/local/lib/python3.7/dist-packages/ipykernel_launcher.py:21: RuntimeWarning: divide by zero encountered in power\n",
            "/usr/local/lib/python3.7/dist-packages/ipykernel_launcher.py:21: RuntimeWarning: divide by zero encountered in power\n",
            "/usr/local/lib/python3.7/dist-packages/ipykernel_launcher.py:21: RuntimeWarning: divide by zero encountered in power\n",
            "/usr/local/lib/python3.7/dist-packages/ipykernel_launcher.py:21: RuntimeWarning: divide by zero encountered in power\n",
            "/usr/local/lib/python3.7/dist-packages/ipykernel_launcher.py:21: RuntimeWarning: divide by zero encountered in power\n",
            "/usr/local/lib/python3.7/dist-packages/ipykernel_launcher.py:21: RuntimeWarning: divide by zero encountered in power\n",
            "/usr/local/lib/python3.7/dist-packages/ipykernel_launcher.py:21: RuntimeWarning: divide by zero encountered in power\n",
            "/usr/local/lib/python3.7/dist-packages/ipykernel_launcher.py:21: RuntimeWarning: divide by zero encountered in power\n",
            "/usr/local/lib/python3.7/dist-packages/ipykernel_launcher.py:21: RuntimeWarning: divide by zero encountered in power\n",
            "/usr/local/lib/python3.7/dist-packages/ipykernel_launcher.py:21: RuntimeWarning: divide by zero encountered in power\n",
            "/usr/local/lib/python3.7/dist-packages/ipykernel_launcher.py:21: RuntimeWarning: divide by zero encountered in power\n",
            "/usr/local/lib/python3.7/dist-packages/ipykernel_launcher.py:21: RuntimeWarning: divide by zero encountered in power\n",
            "/usr/local/lib/python3.7/dist-packages/ipykernel_launcher.py:21: RuntimeWarning: divide by zero encountered in power\n",
            "/usr/local/lib/python3.7/dist-packages/ipykernel_launcher.py:21: RuntimeWarning: divide by zero encountered in power\n",
            "/usr/local/lib/python3.7/dist-packages/ipykernel_launcher.py:21: RuntimeWarning: divide by zero encountered in power\n",
            "/usr/local/lib/python3.7/dist-packages/ipykernel_launcher.py:21: RuntimeWarning: divide by zero encountered in power\n",
            "/usr/local/lib/python3.7/dist-packages/ipykernel_launcher.py:21: RuntimeWarning: divide by zero encountered in power\n",
            "/usr/local/lib/python3.7/dist-packages/ipykernel_launcher.py:21: RuntimeWarning: divide by zero encountered in power\n",
            "/usr/local/lib/python3.7/dist-packages/ipykernel_launcher.py:21: RuntimeWarning: divide by zero encountered in power\n",
            "/usr/local/lib/python3.7/dist-packages/ipykernel_launcher.py:21: RuntimeWarning: divide by zero encountered in power\n",
            "/usr/local/lib/python3.7/dist-packages/ipykernel_launcher.py:21: RuntimeWarning: divide by zero encountered in power\n",
            "/usr/local/lib/python3.7/dist-packages/ipykernel_launcher.py:21: RuntimeWarning: divide by zero encountered in power\n",
            "/usr/local/lib/python3.7/dist-packages/ipykernel_launcher.py:21: RuntimeWarning: divide by zero encountered in power\n",
            "/usr/local/lib/python3.7/dist-packages/ipykernel_launcher.py:21: RuntimeWarning: divide by zero encountered in power\n",
            "/usr/local/lib/python3.7/dist-packages/ipykernel_launcher.py:21: RuntimeWarning: divide by zero encountered in power\n",
            "/usr/local/lib/python3.7/dist-packages/ipykernel_launcher.py:21: RuntimeWarning: divide by zero encountered in power\n",
            "/usr/local/lib/python3.7/dist-packages/ipykernel_launcher.py:21: RuntimeWarning: divide by zero encountered in power\n",
            "/usr/local/lib/python3.7/dist-packages/ipykernel_launcher.py:21: RuntimeWarning: divide by zero encountered in power\n",
            "/usr/local/lib/python3.7/dist-packages/ipykernel_launcher.py:21: RuntimeWarning: divide by zero encountered in power\n",
            "/usr/local/lib/python3.7/dist-packages/ipykernel_launcher.py:21: RuntimeWarning: divide by zero encountered in power\n",
            "/usr/local/lib/python3.7/dist-packages/ipykernel_launcher.py:21: RuntimeWarning: divide by zero encountered in power\n",
            "/usr/local/lib/python3.7/dist-packages/ipykernel_launcher.py:21: RuntimeWarning: divide by zero encountered in power\n",
            "/usr/local/lib/python3.7/dist-packages/ipykernel_launcher.py:21: RuntimeWarning: divide by zero encountered in power\n",
            "/usr/local/lib/python3.7/dist-packages/ipykernel_launcher.py:21: RuntimeWarning: divide by zero encountered in power\n",
            "/usr/local/lib/python3.7/dist-packages/ipykernel_launcher.py:21: RuntimeWarning: divide by zero encountered in power\n",
            "/usr/local/lib/python3.7/dist-packages/ipykernel_launcher.py:21: RuntimeWarning: divide by zero encountered in power\n",
            "/usr/local/lib/python3.7/dist-packages/ipykernel_launcher.py:21: RuntimeWarning: divide by zero encountered in power\n",
            "/usr/local/lib/python3.7/dist-packages/ipykernel_launcher.py:21: RuntimeWarning: divide by zero encountered in power\n",
            "/usr/local/lib/python3.7/dist-packages/ipykernel_launcher.py:21: RuntimeWarning: divide by zero encountered in power\n",
            "/usr/local/lib/python3.7/dist-packages/ipykernel_launcher.py:21: RuntimeWarning: divide by zero encountered in power\n",
            "/usr/local/lib/python3.7/dist-packages/ipykernel_launcher.py:21: RuntimeWarning: divide by zero encountered in power\n",
            "/usr/local/lib/python3.7/dist-packages/ipykernel_launcher.py:21: RuntimeWarning: divide by zero encountered in power\n",
            "/usr/local/lib/python3.7/dist-packages/ipykernel_launcher.py:21: RuntimeWarning: divide by zero encountered in power\n",
            "/usr/local/lib/python3.7/dist-packages/ipykernel_launcher.py:21: RuntimeWarning: divide by zero encountered in power\n",
            "/usr/local/lib/python3.7/dist-packages/ipykernel_launcher.py:21: RuntimeWarning: divide by zero encountered in power\n",
            "/usr/local/lib/python3.7/dist-packages/ipykernel_launcher.py:21: RuntimeWarning: divide by zero encountered in power\n",
            "/usr/local/lib/python3.7/dist-packages/ipykernel_launcher.py:21: RuntimeWarning: divide by zero encountered in power\n",
            "/usr/local/lib/python3.7/dist-packages/ipykernel_launcher.py:21: RuntimeWarning: divide by zero encountered in power\n",
            "/usr/local/lib/python3.7/dist-packages/ipykernel_launcher.py:21: RuntimeWarning: divide by zero encountered in power\n",
            "/usr/local/lib/python3.7/dist-packages/ipykernel_launcher.py:21: RuntimeWarning: divide by zero encountered in power\n",
            "/usr/local/lib/python3.7/dist-packages/ipykernel_launcher.py:21: RuntimeWarning: divide by zero encountered in power\n",
            "/usr/local/lib/python3.7/dist-packages/ipykernel_launcher.py:21: RuntimeWarning: divide by zero encountered in power\n",
            "/usr/local/lib/python3.7/dist-packages/ipykernel_launcher.py:21: RuntimeWarning: divide by zero encountered in power\n",
            "/usr/local/lib/python3.7/dist-packages/ipykernel_launcher.py:21: RuntimeWarning: divide by zero encountered in power\n",
            "/usr/local/lib/python3.7/dist-packages/ipykernel_launcher.py:21: RuntimeWarning: divide by zero encountered in power\n",
            "/usr/local/lib/python3.7/dist-packages/ipykernel_launcher.py:21: RuntimeWarning: divide by zero encountered in power\n",
            "/usr/local/lib/python3.7/dist-packages/ipykernel_launcher.py:21: RuntimeWarning: divide by zero encountered in power\n",
            "/usr/local/lib/python3.7/dist-packages/ipykernel_launcher.py:21: RuntimeWarning: divide by zero encountered in power\n",
            "/usr/local/lib/python3.7/dist-packages/ipykernel_launcher.py:21: RuntimeWarning: divide by zero encountered in power\n",
            "/usr/local/lib/python3.7/dist-packages/ipykernel_launcher.py:21: RuntimeWarning: divide by zero encountered in power\n",
            "/usr/local/lib/python3.7/dist-packages/ipykernel_launcher.py:21: RuntimeWarning: divide by zero encountered in power\n",
            "/usr/local/lib/python3.7/dist-packages/ipykernel_launcher.py:21: RuntimeWarning: divide by zero encountered in power\n",
            "/usr/local/lib/python3.7/dist-packages/ipykernel_launcher.py:21: RuntimeWarning: divide by zero encountered in power\n",
            "/usr/local/lib/python3.7/dist-packages/ipykernel_launcher.py:21: RuntimeWarning: divide by zero encountered in power\n",
            "/usr/local/lib/python3.7/dist-packages/ipykernel_launcher.py:21: RuntimeWarning: divide by zero encountered in power\n",
            "/usr/local/lib/python3.7/dist-packages/ipykernel_launcher.py:21: RuntimeWarning: divide by zero encountered in power\n",
            "/usr/local/lib/python3.7/dist-packages/ipykernel_launcher.py:21: RuntimeWarning: divide by zero encountered in power\n",
            "/usr/local/lib/python3.7/dist-packages/ipykernel_launcher.py:21: RuntimeWarning: divide by zero encountered in power\n",
            "/usr/local/lib/python3.7/dist-packages/ipykernel_launcher.py:21: RuntimeWarning: divide by zero encountered in power\n",
            "/usr/local/lib/python3.7/dist-packages/ipykernel_launcher.py:21: RuntimeWarning: divide by zero encountered in power\n",
            "/usr/local/lib/python3.7/dist-packages/ipykernel_launcher.py:21: RuntimeWarning: divide by zero encountered in power\n",
            "/usr/local/lib/python3.7/dist-packages/ipykernel_launcher.py:21: RuntimeWarning: divide by zero encountered in power\n",
            "/usr/local/lib/python3.7/dist-packages/ipykernel_launcher.py:21: RuntimeWarning: divide by zero encountered in power\n",
            "/usr/local/lib/python3.7/dist-packages/ipykernel_launcher.py:21: RuntimeWarning: divide by zero encountered in power\n",
            "/usr/local/lib/python3.7/dist-packages/ipykernel_launcher.py:21: RuntimeWarning: divide by zero encountered in power\n",
            "/usr/local/lib/python3.7/dist-packages/ipykernel_launcher.py:21: RuntimeWarning: divide by zero encountered in power\n",
            "/usr/local/lib/python3.7/dist-packages/ipykernel_launcher.py:21: RuntimeWarning: divide by zero encountered in power\n",
            "/usr/local/lib/python3.7/dist-packages/ipykernel_launcher.py:21: RuntimeWarning: divide by zero encountered in power\n",
            "/usr/local/lib/python3.7/dist-packages/ipykernel_launcher.py:21: RuntimeWarning: divide by zero encountered in power\n",
            "/usr/local/lib/python3.7/dist-packages/ipykernel_launcher.py:21: RuntimeWarning: divide by zero encountered in power\n",
            "/usr/local/lib/python3.7/dist-packages/ipykernel_launcher.py:21: RuntimeWarning: divide by zero encountered in power\n",
            "/usr/local/lib/python3.7/dist-packages/ipykernel_launcher.py:21: RuntimeWarning: divide by zero encountered in power\n",
            "/usr/local/lib/python3.7/dist-packages/ipykernel_launcher.py:21: RuntimeWarning: divide by zero encountered in power\n",
            "/usr/local/lib/python3.7/dist-packages/ipykernel_launcher.py:21: RuntimeWarning: divide by zero encountered in power\n",
            "/usr/local/lib/python3.7/dist-packages/ipykernel_launcher.py:21: RuntimeWarning: divide by zero encountered in power\n",
            "/usr/local/lib/python3.7/dist-packages/ipykernel_launcher.py:21: RuntimeWarning: divide by zero encountered in power\n",
            "/usr/local/lib/python3.7/dist-packages/ipykernel_launcher.py:21: RuntimeWarning: divide by zero encountered in power\n",
            "/usr/local/lib/python3.7/dist-packages/ipykernel_launcher.py:21: RuntimeWarning: divide by zero encountered in power\n",
            "/usr/local/lib/python3.7/dist-packages/ipykernel_launcher.py:21: RuntimeWarning: divide by zero encountered in power\n",
            "/usr/local/lib/python3.7/dist-packages/ipykernel_launcher.py:21: RuntimeWarning: divide by zero encountered in power\n",
            "/usr/local/lib/python3.7/dist-packages/ipykernel_launcher.py:21: RuntimeWarning: divide by zero encountered in power\n",
            "/usr/local/lib/python3.7/dist-packages/ipykernel_launcher.py:21: RuntimeWarning: divide by zero encountered in power\n",
            "/usr/local/lib/python3.7/dist-packages/ipykernel_launcher.py:21: RuntimeWarning: divide by zero encountered in power\n",
            "/usr/local/lib/python3.7/dist-packages/ipykernel_launcher.py:21: RuntimeWarning: divide by zero encountered in power\n",
            "/usr/local/lib/python3.7/dist-packages/ipykernel_launcher.py:21: RuntimeWarning: divide by zero encountered in power\n",
            "/usr/local/lib/python3.7/dist-packages/ipykernel_launcher.py:21: RuntimeWarning: divide by zero encountered in power\n",
            "/usr/local/lib/python3.7/dist-packages/ipykernel_launcher.py:21: RuntimeWarning: divide by zero encountered in power\n",
            "/usr/local/lib/python3.7/dist-packages/ipykernel_launcher.py:21: RuntimeWarning: divide by zero encountered in power\n",
            "/usr/local/lib/python3.7/dist-packages/ipykernel_launcher.py:21: RuntimeWarning: divide by zero encountered in power\n",
            "/usr/local/lib/python3.7/dist-packages/ipykernel_launcher.py:21: RuntimeWarning: divide by zero encountered in power\n",
            "/usr/local/lib/python3.7/dist-packages/ipykernel_launcher.py:21: RuntimeWarning: divide by zero encountered in power\n",
            "/usr/local/lib/python3.7/dist-packages/ipykernel_launcher.py:21: RuntimeWarning: divide by zero encountered in power\n",
            "/usr/local/lib/python3.7/dist-packages/ipykernel_launcher.py:21: RuntimeWarning: divide by zero encountered in power\n",
            "/usr/local/lib/python3.7/dist-packages/ipykernel_launcher.py:21: RuntimeWarning: divide by zero encountered in power\n",
            "/usr/local/lib/python3.7/dist-packages/ipykernel_launcher.py:21: RuntimeWarning: divide by zero encountered in power\n",
            "/usr/local/lib/python3.7/dist-packages/ipykernel_launcher.py:21: RuntimeWarning: divide by zero encountered in power\n",
            "/usr/local/lib/python3.7/dist-packages/ipykernel_launcher.py:21: RuntimeWarning: divide by zero encountered in power\n",
            "/usr/local/lib/python3.7/dist-packages/ipykernel_launcher.py:21: RuntimeWarning: divide by zero encountered in power\n",
            "/usr/local/lib/python3.7/dist-packages/ipykernel_launcher.py:21: RuntimeWarning: divide by zero encountered in power\n",
            "/usr/local/lib/python3.7/dist-packages/ipykernel_launcher.py:21: RuntimeWarning: divide by zero encountered in power\n",
            "/usr/local/lib/python3.7/dist-packages/ipykernel_launcher.py:21: RuntimeWarning: divide by zero encountered in power\n",
            "/usr/local/lib/python3.7/dist-packages/ipykernel_launcher.py:21: RuntimeWarning: divide by zero encountered in power\n",
            "/usr/local/lib/python3.7/dist-packages/ipykernel_launcher.py:21: RuntimeWarning: divide by zero encountered in power\n",
            "/usr/local/lib/python3.7/dist-packages/ipykernel_launcher.py:21: RuntimeWarning: divide by zero encountered in power\n",
            "/usr/local/lib/python3.7/dist-packages/ipykernel_launcher.py:21: RuntimeWarning: divide by zero encountered in power\n",
            "/usr/local/lib/python3.7/dist-packages/ipykernel_launcher.py:21: RuntimeWarning: divide by zero encountered in power\n",
            "/usr/local/lib/python3.7/dist-packages/ipykernel_launcher.py:21: RuntimeWarning: divide by zero encountered in power\n",
            "/usr/local/lib/python3.7/dist-packages/ipykernel_launcher.py:21: RuntimeWarning: divide by zero encountered in power\n",
            "/usr/local/lib/python3.7/dist-packages/ipykernel_launcher.py:21: RuntimeWarning: divide by zero encountered in power\n",
            "/usr/local/lib/python3.7/dist-packages/ipykernel_launcher.py:21: RuntimeWarning: divide by zero encountered in power\n",
            "/usr/local/lib/python3.7/dist-packages/ipykernel_launcher.py:21: RuntimeWarning: divide by zero encountered in power\n",
            "/usr/local/lib/python3.7/dist-packages/ipykernel_launcher.py:21: RuntimeWarning: divide by zero encountered in power\n",
            "/usr/local/lib/python3.7/dist-packages/ipykernel_launcher.py:21: RuntimeWarning: divide by zero encountered in power\n",
            "/usr/local/lib/python3.7/dist-packages/ipykernel_launcher.py:21: RuntimeWarning: divide by zero encountered in power\n",
            "/usr/local/lib/python3.7/dist-packages/ipykernel_launcher.py:21: RuntimeWarning: divide by zero encountered in power\n",
            "/usr/local/lib/python3.7/dist-packages/ipykernel_launcher.py:21: RuntimeWarning: divide by zero encountered in power\n",
            "/usr/local/lib/python3.7/dist-packages/ipykernel_launcher.py:21: RuntimeWarning: divide by zero encountered in power\n",
            "/usr/local/lib/python3.7/dist-packages/ipykernel_launcher.py:21: RuntimeWarning: divide by zero encountered in power\n",
            "/usr/local/lib/python3.7/dist-packages/ipykernel_launcher.py:21: RuntimeWarning: divide by zero encountered in power\n",
            "/usr/local/lib/python3.7/dist-packages/ipykernel_launcher.py:21: RuntimeWarning: divide by zero encountered in power\n",
            "/usr/local/lib/python3.7/dist-packages/ipykernel_launcher.py:21: RuntimeWarning: divide by zero encountered in power\n",
            "/usr/local/lib/python3.7/dist-packages/ipykernel_launcher.py:21: RuntimeWarning: divide by zero encountered in power\n",
            "/usr/local/lib/python3.7/dist-packages/ipykernel_launcher.py:21: RuntimeWarning: divide by zero encountered in power\n",
            "/usr/local/lib/python3.7/dist-packages/ipykernel_launcher.py:21: RuntimeWarning: divide by zero encountered in power\n",
            "/usr/local/lib/python3.7/dist-packages/ipykernel_launcher.py:21: RuntimeWarning: divide by zero encountered in power\n",
            "/usr/local/lib/python3.7/dist-packages/ipykernel_launcher.py:21: RuntimeWarning: divide by zero encountered in power\n",
            "/usr/local/lib/python3.7/dist-packages/ipykernel_launcher.py:21: RuntimeWarning: divide by zero encountered in power\n",
            "/usr/local/lib/python3.7/dist-packages/ipykernel_launcher.py:21: RuntimeWarning: divide by zero encountered in power\n",
            "/usr/local/lib/python3.7/dist-packages/ipykernel_launcher.py:21: RuntimeWarning: divide by zero encountered in power\n",
            "/usr/local/lib/python3.7/dist-packages/ipykernel_launcher.py:21: RuntimeWarning: divide by zero encountered in power\n",
            "/usr/local/lib/python3.7/dist-packages/ipykernel_launcher.py:21: RuntimeWarning: divide by zero encountered in power\n",
            "/usr/local/lib/python3.7/dist-packages/ipykernel_launcher.py:21: RuntimeWarning: divide by zero encountered in power\n",
            "/usr/local/lib/python3.7/dist-packages/ipykernel_launcher.py:21: RuntimeWarning: divide by zero encountered in power\n",
            "/usr/local/lib/python3.7/dist-packages/ipykernel_launcher.py:21: RuntimeWarning: divide by zero encountered in power\n",
            "/usr/local/lib/python3.7/dist-packages/ipykernel_launcher.py:21: RuntimeWarning: divide by zero encountered in power\n",
            "/usr/local/lib/python3.7/dist-packages/ipykernel_launcher.py:21: RuntimeWarning: divide by zero encountered in power\n",
            "/usr/local/lib/python3.7/dist-packages/ipykernel_launcher.py:21: RuntimeWarning: divide by zero encountered in power\n",
            "/usr/local/lib/python3.7/dist-packages/ipykernel_launcher.py:21: RuntimeWarning: divide by zero encountered in power\n",
            "/usr/local/lib/python3.7/dist-packages/ipykernel_launcher.py:21: RuntimeWarning: divide by zero encountered in power\n",
            "/usr/local/lib/python3.7/dist-packages/ipykernel_launcher.py:21: RuntimeWarning: divide by zero encountered in power\n",
            "/usr/local/lib/python3.7/dist-packages/ipykernel_launcher.py:21: RuntimeWarning: divide by zero encountered in power\n",
            "/usr/local/lib/python3.7/dist-packages/ipykernel_launcher.py:21: RuntimeWarning: divide by zero encountered in power\n",
            "/usr/local/lib/python3.7/dist-packages/ipykernel_launcher.py:21: RuntimeWarning: divide by zero encountered in power\n",
            "/usr/local/lib/python3.7/dist-packages/ipykernel_launcher.py:21: RuntimeWarning: divide by zero encountered in power\n"
          ],
          "name": "stderr"
        }
      ]
    },
    {
      "cell_type": "code",
      "metadata": {
        "colab": {
          "base_uri": "https://localhost:8080/"
        },
        "id": "kHh8Lmvof7cn",
        "outputId": "1a4aaacc-92d7-4e22-c4f2-a8b86559c460"
      },
      "source": [
        "print(adj_train['91391310'][0].shape)"
      ],
      "execution_count": null,
      "outputs": [
        {
          "output_type": "stream",
          "text": [
            "(1, 181)\n"
          ],
          "name": "stdout"
        }
      ]
    },
    {
      "cell_type": "markdown",
      "metadata": {
        "id": "rFjyvVK3ChHf"
      },
      "source": [
        "## input setting"
      ]
    },
    {
      "cell_type": "code",
      "metadata": {
        "id": "LR-MQb4Sxkx6"
      },
      "source": [
        "#define input dictionary\n",
        "# num_obj_dict was defined to record the number of object in each document page\n",
        "#\n",
        "y_train = {}\n",
        "train_mask = {}\n",
        "for f in new_train_list_dict:\n",
        "  y_train[f] = np.array([[0]*num_class]*adj_train[f].shape[0])\n",
        "  y_train[f] = np.array(labels_one_hot_train[f])\n",
        "  train_mask[f] = [False]*adj_train[f].shape[0]\n",
        "  train_mask[f][:num_obj_dict[f]] = [True]*num_obj_dict[f]\n",
        "y_val = {}\n",
        "val_mask = {}\n",
        "for f in new_eval_list_dict:\n",
        "  y_val[f] = np.array([[0]*num_class]*adj_eval[f].shape[0])\n",
        "  y_val[f] = np.array(labels_one_hot_eval[f])\n",
        "  val_mask[f] = [False]*adj_eval[f].shape[0]\n",
        "  val_mask[f][:num_obj_dict[f]] = [True]*num_obj_dict[f]"
      ],
      "execution_count": null,
      "outputs": []
    },
    {
      "cell_type": "code",
      "metadata": {
        "id": "1nn66dfE3BDH"
      },
      "source": [
        "def normalize_adj(adj):\n",
        "    \"\"\"Symmetrically normalize adjacency matrix.\"\"\"\n",
        "    adj = sp.coo_matrix(adj)\n",
        "    rowsum = np.array(adj.sum(1))\n",
        "    d_inv_sqrt = np.power(rowsum, -0.5).flatten()\n",
        "    d_inv_sqrt[np.isinf(d_inv_sqrt)] = 0.\n",
        "    d_mat_inv_sqrt = sp.diags(d_inv_sqrt)\n",
        "    return adj.dot(d_mat_inv_sqrt).transpose().dot(d_mat_inv_sqrt).tocoo()\n",
        "\n",
        "def preprocess_adj(adj):\n",
        "    \"\"\"Preprocessing of adjacency matrix for simple GCN model and conversion to tuple representation.\"\"\"\n",
        "    adj_normalized = normalize_adj(adj + sp.eye(adj.shape[0]))\n",
        "    return sparse_to_tuple(adj_normalized)\n",
        "support_train = {}\n",
        "for f in adj_train:\n",
        "  support_train[f] = [preprocess_adj(adj_train[f])]\n",
        "support_eval = {}\n",
        "for f in adj_eval:\n",
        "  support_eval[f] = [preprocess_adj(adj_eval[f])]"
      ],
      "execution_count": null,
      "outputs": []
    },
    {
      "cell_type": "code",
      "metadata": {
        "colab": {
          "base_uri": "https://localhost:8080/"
        },
        "id": "VEfj1gmtX7gW",
        "outputId": "70ad4c5c-0381-4818-a3cd-6a9e9ae8d118"
      },
      "source": [
        "print(features_train['91391310'][2][1])\n",
        "print(y_train['91391310'].shape)"
      ],
      "execution_count": null,
      "outputs": [
        {
          "output_type": "stream",
          "text": [
            "1024\n",
            "(181, 5)\n"
          ],
          "name": "stdout"
        }
      ]
    },
    {
      "cell_type": "code",
      "metadata": {
        "colab": {
          "base_uri": "https://localhost:8080/"
        },
        "id": "lJpkmP403EB2",
        "outputId": "9a8706f3-8b9b-4ec4-ed0d-d6cd41cf86c0"
      },
      "source": [
        "# just change the number of support gpu\n",
        "num_supports = 1\n",
        "tf.compat.v1.disable_eager_execution()\n",
        "# Define placeholders\n",
        "placeholders = {\n",
        "    'support': [tf.sparse_placeholder(tf.float32) for _ in range(num_supports)],\n",
        "    'features': tf.sparse_placeholder(tf.float32, shape = (5,512)),\n",
        "    'labels': tf.placeholder(tf.float32, shape=(None, 5)),\n",
        "    'labels_mask': tf.placeholder(tf.int32),\n",
        "    'dropout': tf.placeholder_with_default(0.5, shape=()),\n",
        "    # helper variable for sparse dropout\n",
        "    'num_features_nonzero': tf.placeholder(tf.int32)\n",
        "}\n",
        "\n",
        "# Create model\n",
        "#print(features[2][1])\n",
        "# placeholders: number of GCN\n",
        "\n",
        "model = GCN(placeholders, input_dim=1024, logging=True)"
      ],
      "execution_count": null,
      "outputs": [
        {
          "output_type": "stream",
          "text": [
            "Tensor(\"graphconvolution_12/SparseTensorDenseMatMul/SparseTensorDenseMatMul:0\", shape=(None, 5), dtype=float32)\n"
          ],
          "name": "stdout"
        }
      ]
    },
    {
      "cell_type": "code",
      "metadata": {
        "id": "-6JjEOvYKfIB"
      },
      "source": [
        "# Initialize session\n",
        "session_conf = tf.ConfigProto(gpu_options=tf.GPUOptions(allow_growth=True))\n",
        "sess = tf.Session(config=session_conf)\n",
        "\n",
        "\n",
        "# Define model evaluation function\n",
        "def evaluate(features, support, labels, mask, placeholders):\n",
        "    feed_dict_val = construct_feed_dict(\n",
        "        features, support, labels, mask, placeholders)\n",
        "    outs_val = sess.run([model.loss, model.accuracy, model.pred, model.labels, model.layers[0].embedding, model.layers[1].embedding], feed_dict=feed_dict_val)\n",
        "    return outs_val[0], outs_val[1], outs_val[2], outs_val[3], outs_val[4], outs_val[5]\n",
        "\n",
        "\n",
        "# Init variables\n",
        "sess.run(tf.global_variables_initializer())\n",
        "\n",
        "cost_val = []\n",
        "\n"
      ],
      "execution_count": null,
      "outputs": []
    },
    {
      "cell_type": "code",
      "metadata": {
        "id": "qix0WbCOKu-D"
      },
      "source": [
        "def construct_feed_dict(features, support, labels, labels_mask, placeholders):\n",
        "    \"\"\"Construct feed dictionary.\"\"\"\n",
        "    feed_dict = dict()\n",
        "    feed_dict.update({placeholders['labels']: labels})\n",
        "    feed_dict.update({placeholders['labels_mask']: labels_mask})\n",
        "    feed_dict.update({placeholders['features']: features})\n",
        "    feed_dict.update({placeholders['support'][i]: support[i]\n",
        "                      for i in range(len(support))})\n",
        "    feed_dict.update({placeholders['num_features_nonzero']: features[1].shape})\n",
        "    return feed_dict"
      ],
      "execution_count": null,
      "outputs": []
    },
    {
      "cell_type": "markdown",
      "metadata": {
        "id": "p8w57b494ypu"
      },
      "source": [
        "## Training"
      ]
    },
    {
      "cell_type": "code",
      "metadata": {
        "colab": {
          "base_uri": "https://localhost:8080/"
        },
        "id": "6BHADqVKKxYf",
        "outputId": "0a24f15c-c845-41f4-8dc9-0fa32a11a9e1"
      },
      "source": [
        "# Train model\n",
        "for epoch in range(FLAGS.epochs):\n",
        "    \n",
        "    # Construct feed dictionary\n",
        "    if epoch == FLAGS.epochs-1:\n",
        "        output_dic_train = {}\n",
        "        output_dic_test = {}\n",
        "    loss = 0\n",
        "    for f in features_train:\n",
        "        feed_dict = construct_feed_dict(\n",
        "            features_train[f], support_train[f], y_train[f], train_mask[f], placeholders)\n",
        "        feed_dict.update({placeholders['dropout']: FLAGS.dropout})\n",
        "\n",
        "    # Training step\n",
        "        outs = sess.run([model.opt_op, model.loss, model.accuracy,\n",
        "                         model.layers[0].embedding, model.layers[1].embedding], feed_dict=feed_dict)\n",
        "        loss+=outs[1]\n",
        "    print(loss)\n",
        "print(\"Optimization Finished!\")"
      ],
      "execution_count": null,
      "outputs": [
        {
          "output_type": "stream",
          "text": [
            "1128.0040353536606\n",
            "947.4449367523193\n",
            "1102.969894170761\n",
            "367.8901323080063\n",
            "1379.7913759946823\n",
            "1650.361437678337\n",
            "592.4280685186386\n",
            "940.0719279050827\n",
            "625.8396482467651\n",
            "1050.6183519363403\n",
            "1116.1434614658356\n",
            "699.7078522443771\n",
            "382.52468621730804\n",
            "503.8559739589691\n",
            "480.1978635787964\n",
            "545.1487350463867\n",
            "489.29545521736145\n",
            "1283.2004293203354\n",
            "593.1637663841248\n",
            "464.6372388601303\n",
            "310.4984213709831\n",
            "870.2345412969589\n",
            "387.0766050815582\n",
            "1168.1030322313309\n",
            "404.35422146320343\n",
            "584.9296193122864\n",
            "332.2437012195587\n",
            "656.4736176729202\n",
            "295.19048821926117\n",
            "953.1827737092972\n",
            "303.86191272735596\n",
            "320.9718987941742\n",
            "819.6153608560562\n",
            "433.2816708087921\n",
            "600.4986945390701\n",
            "374.05009138584137\n",
            "316.90104246139526\n",
            "362.14366698265076\n",
            "614.5493577718735\n",
            "563.4142307043076\n",
            "608.4809246063232\n",
            "316.81751000881195\n",
            "656.5971658229828\n",
            "438.47382938861847\n",
            "479.18832671642303\n",
            "451.99444830417633\n",
            "1398.659961938858\n",
            "536.6687681674957\n",
            "315.2503709793091\n",
            "373.7437161207199\n",
            "453.24807488918304\n",
            "490.33978044986725\n",
            "668.1960184574127\n",
            "452.93149983882904\n",
            "506.57545602321625\n",
            "291.4533796310425\n",
            "347.60317635536194\n",
            "479.7063434123993\n",
            "425.65375649929047\n",
            "444.0519030094147\n",
            "454.7972232699394\n",
            "641.2288678884506\n",
            "462.5269441604614\n",
            "365.82223987579346\n",
            "397.3634773492813\n",
            "517.1583102345467\n",
            "427.30998718738556\n",
            "369.1183497905731\n",
            "660.6918475031853\n",
            "650.4426554441452\n",
            "298.8333250284195\n",
            "333.63570642471313\n",
            "444.2467768192291\n",
            "376.831683576107\n",
            "523.9693840742111\n",
            "646.104147195816\n",
            "329.7417470216751\n",
            "289.7107506990433\n",
            "337.7099179029465\n",
            "606.4417439699173\n",
            "367.8604106903076\n",
            "359.67068552970886\n",
            "287.93166494369507\n",
            "275.54926884174347\n",
            "456.120041847229\n",
            "285.0744913816452\n",
            "382.954891204834\n",
            "386.07092106342316\n",
            "493.3344086408615\n",
            "318.12564194202423\n",
            "541.4220979213715\n",
            "277.61538994312286\n",
            "388.1784602403641\n",
            "1237.2324030399323\n",
            "351.15696465969086\n",
            "280.30253636837006\n",
            "405.676970243454\n",
            "616.2291995286942\n",
            "273.7621214389801\n",
            "723.2276037931442\n",
            "Optimization Finished!\n"
          ],
          "name": "stdout"
        }
      ]
    },
    {
      "cell_type": "code",
      "metadata": {
        "id": "c0k3sF4U1Iuq"
      },
      "source": [
        "for f in features_train:\n",
        "    cost, acc, pred, labels, emb1, emb2 = evaluate(\n",
        "        features_train[f], support_train[f], y_train[f], train_mask[f], placeholders)\n",
        "    output_dic_train[f] = emb1"
      ],
      "execution_count": null,
      "outputs": []
    },
    {
      "cell_type": "code",
      "metadata": {
        "id": "Li_eXabrc-RH"
      },
      "source": [
        "for f in features_eval:\n",
        "    cost, acc, pred, labels, emb1, emb2 = evaluate(\n",
        "        features_eval[f], support_eval[f], y_val[f], val_mask[f], placeholders)\n",
        "    output_dic_test[f] = emb1"
      ],
      "execution_count": null,
      "outputs": []
    },
    {
      "cell_type": "code",
      "metadata": {
        "id": "_l7qd9feTMip"
      },
      "source": [
        "output_dic_train_bert = output_dic_train\n",
        "output_dic_test_bert = output_dic_test"
      ],
      "execution_count": null,
      "outputs": []
    },
    {
      "cell_type": "code",
      "metadata": {
        "id": "w0StgUxuUcDL"
      },
      "source": [
        "for img in output_dic_train_bert:\n",
        "  for i in range(len(train_list_dict[img]['objects'].keys())):\n",
        "    train_list_dict[img]['objects'][str(i)]['gcn_bert_large'] = output_dic_train_bert[img][i] \n",
        "\n",
        "for img in output_dic_test_bert:\n",
        "  for i in range(len(eval_list_dict[img]['objects'].keys())):\n",
        "    eval_list_dict[img]['objects'][str(i)]['gcn_bert_large'] = output_dic_test_bert[img][i] "
      ],
      "execution_count": null,
      "outputs": []
    },
    {
      "cell_type": "code",
      "metadata": {
        "id": "q9aqUfjYjH9d"
      },
      "source": [
        "bert_list_train = []\n",
        "bert_list_test = []"
      ],
      "execution_count": null,
      "outputs": []
    },
    {
      "cell_type": "code",
      "metadata": {
        "id": "8U8p1tSiwIYR"
      },
      "source": [
        "for img in train_list_dict:\n",
        "  for obj in train_list_dict[img]['objects']:\n",
        "    c_obj = train_list_dict[img]['objects'][obj]\n",
        "    bert_list_train.append(c_obj['gcn_bert_large'])\n",
        "\n",
        "for img in eval_list_dict:\n",
        "  for obj in eval_list_dict[img]['objects']:\n",
        "    c_obj = eval_list_dict[img]['objects'][obj]\n",
        "    bert_list_test.append(c_obj['gcn_bert_large'])"
      ],
      "execution_count": null,
      "outputs": []
    },
    {
      "cell_type": "code",
      "metadata": {
        "colab": {
          "base_uri": "https://localhost:8080/"
        },
        "id": "7DdW6hofct_l",
        "outputId": "3009b7a1-f178-48d8-e255-54dfca1b5e87"
      },
      "source": [
        "print(len(bert_list_train[0]))\n",
        "print(len(bert_list_test))"
      ],
      "execution_count": null,
      "outputs": [
        {
          "output_type": "stream",
          "text": [
            "1024\n",
            "2332\n"
          ],
          "name": "stdout"
        }
      ]
    },
    {
      "cell_type": "code",
      "metadata": {
        "id": "A6temHORk6x0"
      },
      "source": [
        "df_train = pd.read_pickle('/content/drive/MyDrive/funsd/funsd_object_gcn_visual_density_bert_base_gcn_bert_base_train_parsing1_parsing2_pos.pkl')\n",
        "df_test = pd.read_pickle('/content/drive/MyDrive/funsd/funsd_object_gcn_visual_density_bert_base_gcn_bert_base_test_parsing1_parsing2_pos.pkl')"
      ],
      "execution_count": null,
      "outputs": []
    },
    {
      "cell_type": "code",
      "metadata": {
        "id": "3sJ9kPIYevZq"
      },
      "source": [
        "df_train['gcn_bert_large'] = bert_list_train\n",
        "df_test['gcn_bert_large'] = bert_list_test"
      ],
      "execution_count": null,
      "outputs": []
    },
    {
      "cell_type": "code",
      "metadata": {
        "id": "8X5tbHI8g2Wu"
      },
      "source": [
        "df_train.to_pickle('/content/drive/MyDrive/funsd/funsd_object_gcn_visual_density_bert_base_gcn_bert_base_train_parsing1_parsing2_pos_large.pkl')\n",
        "df_test.to_pickle('/content/drive/MyDrive/funsd/funsd_object_gcn_visual_density_bert_base_gcn_bert_base_test_parsing1_parsing2_pos_large.pkl')\n"
      ],
      "execution_count": null,
      "outputs": []
    },
    {
      "cell_type": "code",
      "metadata": {
        "colab": {
          "base_uri": "https://localhost:8080/",
          "height": 496
        },
        "id": "NAV5Wpirguid",
        "outputId": "218465a5-bfa8-4531-c94b-0220082785e4"
      },
      "source": [
        "df_train.head()"
      ],
      "execution_count": null,
      "outputs": [
        {
          "output_type": "execute_result",
          "data": {
            "text/html": [
              "<div>\n",
              "<style scoped>\n",
              "    .dataframe tbody tr th:only-of-type {\n",
              "        vertical-align: middle;\n",
              "    }\n",
              "\n",
              "    .dataframe tbody tr th {\n",
              "        vertical-align: top;\n",
              "    }\n",
              "\n",
              "    .dataframe thead th {\n",
              "        text-align: right;\n",
              "    }\n",
              "</style>\n",
              "<table border=\"1\" class=\"dataframe\">\n",
              "  <thead>\n",
              "    <tr style=\"text-align: right;\">\n",
              "      <th></th>\n",
              "      <th>text</th>\n",
              "      <th>label</th>\n",
              "      <th>visual_feature</th>\n",
              "      <th>density</th>\n",
              "      <th>bert_base_cls</th>\n",
              "      <th>gcn_bert_base</th>\n",
              "      <th>level1_parse_emb</th>\n",
              "      <th>level2_parse_emb</th>\n",
              "      <th>near_density</th>\n",
              "      <th>near_visual_feature</th>\n",
              "      <th>gcn_near_char_density</th>\n",
              "      <th>gcn_near_char_number</th>\n",
              "      <th>gcn_near_token_density</th>\n",
              "      <th>gcn_near_token_number</th>\n",
              "      <th>gcn_parsing1</th>\n",
              "      <th>gcn_parsing2</th>\n",
              "      <th>pos_tag_emb</th>\n",
              "      <th>gcn_pos_emb</th>\n",
              "      <th>gcn_bert_large</th>\n",
              "    </tr>\n",
              "  </thead>\n",
              "  <tbody>\n",
              "    <tr>\n",
              "      <th>0</th>\n",
              "      <td>FROM:</td>\n",
              "      <td>0</td>\n",
              "      <td>[-0.14605296, -0.16459094, -0.05297, -0.055089...</td>\n",
              "      <td>[-0.055626415, -0.04288777, -0.053692736, -0.0...</td>\n",
              "      <td>[-1.1602972745895386, 0.40634241700172424, -0....</td>\n",
              "      <td>[-5.773429, -1.0417114, -2.1828141, -0.788962,...</td>\n",
              "      <td>[0.2709057927131653, -0.962605893611908, 0.806...</td>\n",
              "      <td>[0.0, 1.0, 1.0, 1.0, -1.0, 1.0, 0.0, -0.0, -1....</td>\n",
              "      <td>[-0.038513724, -0.057523392, -0.07019832, -0.0...</td>\n",
              "      <td>[-0.032794982, -0.19511, -0.05077531, -0.04878...</td>\n",
              "      <td>[-0.054437697, -0.017164217, -0.046604343, 0.1...</td>\n",
              "      <td>[-0.05678776, -0.05876425, -0.058096003, -0.05...</td>\n",
              "      <td>[-0.03138002, -0.040639125, -0.0595022, -0.018...</td>\n",
              "      <td>[-0.053816292, -0.05289785, -0.054027267, -0.0...</td>\n",
              "      <td>[-0.033245698, -0.39197296, -0.06698716, -0.07...</td>\n",
              "      <td>[-2.3100514, -2.2200646, -1.0136094, -0.759668...</td>\n",
              "      <td>[0.0, -0.0, -1.0, 0.0, 1.0, 1.0, 0.0, 0.0, 0.0...</td>\n",
              "      <td>[-1.0204778, -0.47903004, -0.32504275, -0.2633...</td>\n",
              "      <td>[0.036386997, 0.018442005, -0.09923802, -0.109...</td>\n",
              "    </tr>\n",
              "    <tr>\n",
              "      <th>1</th>\n",
              "      <td>TO:</td>\n",
              "      <td>0</td>\n",
              "      <td>[-0.07444859, -0.14759289, -0.05498426, -0.063...</td>\n",
              "      <td>[-0.059109252, -0.044888303, -0.057427548, -0....</td>\n",
              "      <td>[0.34755223989486694, 0.48073655366897583, -0....</td>\n",
              "      <td>[-6.957513, -1.1187, -2.230215, -1.0413656, -5...</td>\n",
              "      <td>[0.2709057927131653, -0.962605893611908, 0.806...</td>\n",
              "      <td>[0.0, 1.0, 1.0, 1.0, -1.0, 1.0, 0.0, -0.0, -1....</td>\n",
              "      <td>[-0.035946757, -0.05469693, -0.068453014, -0.0...</td>\n",
              "      <td>[0.008935843, -0.10750139, -0.051942326, -0.03...</td>\n",
              "      <td>[-0.05660252, -0.018605266, -0.045585666, 0.13...</td>\n",
              "      <td>[-0.049016792, -0.04999421, -0.053639263, -0.0...</td>\n",
              "      <td>[-0.030075125, -0.037472975, -0.05421398, -0.0...</td>\n",
              "      <td>[-0.061436642, -0.060031842, -0.06345818, -0.0...</td>\n",
              "      <td>[-0.035597026, -0.4854542, -0.0648092, -0.0764...</td>\n",
              "      <td>[-1.9864786, -2.022625, -1.0470014, -0.695816,...</td>\n",
              "      <td>[0.0, -0.0, -1.0, 0.0, 1.0, 1.0, 0.0, 0.0, 0.0...</td>\n",
              "      <td>[-0.9525763, -0.4266817, -0.32094085, -0.21244...</td>\n",
              "      <td>[-0.15765032, 0.0798881, -1.1382577, 0.7429129...</td>\n",
              "    </tr>\n",
              "    <tr>\n",
              "      <th>2</th>\n",
              "      <td>CC:</td>\n",
              "      <td>0</td>\n",
              "      <td>[-0.16252093, -0.12962683, -0.057510987, -0.06...</td>\n",
              "      <td>[-0.061404005, -0.046756633, -0.061196566, -0....</td>\n",
              "      <td>[-0.03836097568273544, 0.68309086561203, -0.21...</td>\n",
              "      <td>[-2.7018356, -1.2121015, -2.5539374, -1.168015...</td>\n",
              "      <td>[0.2709057927131653, -0.962605893611908, 0.806...</td>\n",
              "      <td>[0.0, 1.0, 1.0, 1.0, -1.0, 1.0, -0.0, 0.0, -1....</td>\n",
              "      <td>[-0.03539413, -0.047618706, -0.06595866, -0.04...</td>\n",
              "      <td>[0.084996946, -0.19689481, -0.04419114, -0.031...</td>\n",
              "      <td>[-0.047469404, -0.02167414, -0.04536049, 0.141...</td>\n",
              "      <td>[-0.044261906, -0.050114125, -0.049546476, -0....</td>\n",
              "      <td>[-0.025893634, -0.034434173, -0.056472085, -0....</td>\n",
              "      <td>[-0.056683403, -0.05927422, -0.059557024, -0.0...</td>\n",
              "      <td>[-0.037243284, -0.45954823, -0.06369393, -0.07...</td>\n",
              "      <td>[-2.0765593, -2.0653248, -1.0800002, -0.658574...</td>\n",
              "      <td>[0.0, -0.0, -1.0, 0.0, 1.0, 1.0, 0.0, 0.0, 0.0...</td>\n",
              "      <td>[-1.0286398, -0.4606863, -0.36516607, -0.27028...</td>\n",
              "      <td>[-0.23564151, -1.1800864, 0.027314771, -0.1590...</td>\n",
              "    </tr>\n",
              "    <tr>\n",
              "      <th>3</th>\n",
              "      <td>MEDIA</td>\n",
              "      <td>0</td>\n",
              "      <td>[-0.016628355, -0.039290257, -0.051831502, -0....</td>\n",
              "      <td>[-0.0576571, -0.04908401, -0.05640934, -0.0417...</td>\n",
              "      <td>[-0.11887850612401962, 0.06347160786390305, 0....</td>\n",
              "      <td>[-3.6020103, -0.9338926, -2.335067, -0.8474312...</td>\n",
              "      <td>[0.2709057927131653, -0.962605893611908, 0.806...</td>\n",
              "      <td>[0.0, 1.0, 1.0, 1.0, -1.0, 1.0, -0.0, 0.0, -1....</td>\n",
              "      <td>[-0.035100132, -0.052675277, -0.065407366, -0....</td>\n",
              "      <td>[-0.04977132, -0.109212466, -0.04089707, -0.03...</td>\n",
              "      <td>[-0.05202429, -0.012842626, -0.045560665, 0.11...</td>\n",
              "      <td>[-0.057137825, -0.05482267, -0.06060242, -0.05...</td>\n",
              "      <td>[-0.028566573, -0.040235694, -0.051490035, -0....</td>\n",
              "      <td>[-0.052258953, -0.055718645, -0.056104325, -0....</td>\n",
              "      <td>[-0.039581835, -0.48810416, -0.0642253, -0.082...</td>\n",
              "      <td>[-2.1292121, -2.0249276, -0.92865527, -0.67442...</td>\n",
              "      <td>[0.0, -0.0, -1.0, 0.0, 1.0, 1.0, 0.0, 0.0, 0.0...</td>\n",
              "      <td>[-1.0143833, -0.45260423, -0.36988825, -0.2379...</td>\n",
              "      <td>[-0.09929806, -0.024282277, -0.058045805, -0.2...</td>\n",
              "    </tr>\n",
              "    <tr>\n",
              "      <th>4</th>\n",
              "      <td>SPACE/COLOR</td>\n",
              "      <td>0</td>\n",
              "      <td>[-0.042129744, -0.050594453, -0.06379194, -0.0...</td>\n",
              "      <td>[-0.06207407, -0.045576364, -0.057492614, -0.0...</td>\n",
              "      <td>[-0.25426730513572693, 0.5315051674842834, -0....</td>\n",
              "      <td>[-5.1081696, -1.3020573, -1.6366057, -0.604607...</td>\n",
              "      <td>[0.2709057927131653, -0.962605893611908, 0.806...</td>\n",
              "      <td>[0.0, 1.0, 1.0, 1.0, -1.0, 1.0, 0.0, 0.0, -1.0...</td>\n",
              "      <td>[-0.034166675, -0.04868983, -0.06372996, -0.04...</td>\n",
              "      <td>[-0.054430287, -0.17914844, -0.04411397, -0.03...</td>\n",
              "      <td>[-0.053340584, -0.014225039, -0.049061842, 0.1...</td>\n",
              "      <td>[-0.066278696, -0.063308805, -0.06421309, -0.0...</td>\n",
              "      <td>[-0.032527316, -0.043336213, -0.06612405, -0.0...</td>\n",
              "      <td>[-0.050904356, -0.051926624, -0.04963486, -0.0...</td>\n",
              "      <td>[-0.036464088, -0.44855404, -0.06370942, -0.07...</td>\n",
              "      <td>[-1.8590572, -1.8062825, -0.89358187, -0.78974...</td>\n",
              "      <td>[0.0, -0.0, -1.0, 0.0, 1.0, 1.0, 0.0, 0.0, 0.0...</td>\n",
              "      <td>[-1.1841544, -0.63309634, -0.44078112, -0.2265...</td>\n",
              "      <td>[-0.503763, -0.4392054, -0.97709084, 0.7240227...</td>\n",
              "    </tr>\n",
              "  </tbody>\n",
              "</table>\n",
              "</div>"
            ],
            "text/plain": [
              "          text  ...                                     gcn_bert_large\n",
              "0        FROM:  ...  [0.036386997, 0.018442005, -0.09923802, -0.109...\n",
              "1          TO:  ...  [-0.15765032, 0.0798881, -1.1382577, 0.7429129...\n",
              "2          CC:  ...  [-0.23564151, -1.1800864, 0.027314771, -0.1590...\n",
              "3        MEDIA  ...  [-0.09929806, -0.024282277, -0.058045805, -0.2...\n",
              "4  SPACE/COLOR  ...  [-0.503763, -0.4392054, -0.97709084, 0.7240227...\n",
              "\n",
              "[5 rows x 19 columns]"
            ]
          },
          "metadata": {
            "tags": []
          },
          "execution_count": 135
        }
      ]
    }
  ]
}