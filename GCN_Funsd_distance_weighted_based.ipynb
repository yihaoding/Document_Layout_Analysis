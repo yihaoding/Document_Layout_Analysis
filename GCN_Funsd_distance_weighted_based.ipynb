{
  "nbformat": 4,
  "nbformat_minor": 0,
  "metadata": {
    "colab": {
      "name": "GCN_Funsd_distance_weighted_based.ipynb",
      "provenance": [],
      "collapsed_sections": [
        "fal52emMue4w",
        "XM89cDQb0j5Q",
        "LT7yBttEfj0r",
        "IXxIH23CKXxz"
      ],
      "toc_visible": true,
      "machine_shape": "hm"
    },
    "kernelspec": {
      "display_name": "Python 3",
      "name": "python3"
    },
    "language_info": {
      "name": "python"
    }
  },
  "cells": [
    {
      "cell_type": "markdown",
      "metadata": {
        "id": "YQFgr5EutIGe"
      },
      "source": [
        "## Import the scene graph file"
      ]
    },
    {
      "cell_type": "code",
      "metadata": {
        "id": "hG6Wahasg-sz"
      },
      "source": [
        "!pip install -U -q PyDrive\n",
        "from pydrive.auth import GoogleAuth\n",
        "from pydrive.drive import GoogleDrive\n",
        "from google.colab import auth\n",
        "from oauth2client.client import GoogleCredentials\n",
        "import pandas as pd\n",
        "\n",
        "# Authenticate\n",
        "drive = None\n",
        "def authenticate():\n",
        "  global drive\n",
        "  \n",
        "  auth.authenticate_user()\n",
        "  gauth = GoogleAuth()\n",
        "  gauth.credentials = GoogleCredentials.get_application_default()\n",
        "  drive = GoogleDrive(gauth)\n",
        "\n",
        "#Download files\n",
        "def downloadFiles(fileIds):\n",
        "  authenticate()\n",
        "  \n",
        "  for fileId in fileIds:    \n",
        "    \n",
        "    downloaded = drive.CreateFile({\"id\": fileId[1]})\n",
        "    downloaded.GetContentFile(fileId[0])"
      ],
      "execution_count": null,
      "outputs": []
    },
    {
      "cell_type": "code",
      "metadata": {
        "id": "QzwNedliyHp5"
      },
      "source": [
        "#Download file if not existing\n",
        "try:\n",
        "  _ = open(\"funsd_full_feature_sg_train.json\", \"r\")\n",
        "except:\n",
        "  downloadFiles([[\"funsd_full_feature_sg_train.json\", \"1RCnDFoJG9YLhiN21YXlnikcmS_NsiD2J\"]])\n",
        "\n",
        "try:\n",
        "  _ = open(\"funsd_full_feature_sg_test.json\", \"r\")\n",
        "except:\n",
        "  downloadFiles([[\"funsd_full_feature_sg_test.json\", \"1-5qLiidgT9M9LzwbqqJRF_rIDPqvWWR_\"]])"
      ],
      "execution_count": null,
      "outputs": []
    },
    {
      "cell_type": "code",
      "metadata": {
        "id": "qeCQ9knU7P9z"
      },
      "source": [
        "# downloading the scene graph file\n",
        "import json\n",
        "with open('funsd_full_feature_sg_train.json', 'r') as f:\n",
        "    train_list_dict=json.load(f)\n",
        "with open('funsd_full_feature_sg_test.json', 'r') as f:\n",
        "    eval_list_dict=json.load(f)"
      ],
      "execution_count": null,
      "outputs": []
    },
    {
      "cell_type": "code",
      "metadata": {
        "colab": {
          "base_uri": "https://localhost:8080/"
        },
        "id": "HSd3OmV2bPfd",
        "outputId": "113e665e-08c8-4edd-c6fa-1dd94c8fb88c"
      },
      "source": [
        "print(eval_list_dict.keys())\n",
        "print(eval_list_dict['82253058_3059']['objects']['1']['text_density'])\n",
        "print(eval_list_dict['82253058_3059']['objects']['4']['relations'])\n",
        "print(eval_list_dict['82253058_3059']['objects']['1'].keys())"
      ],
      "execution_count": null,
      "outputs": [
        {
          "output_type": "stream",
          "text": [
            "dict_keys(['82253058_3059', '83594639', '83635935', '82253362_3364', '87332450', '83996357', '93106788', '82200067_0069', '83624198', '87594142_87594144', '82252956_2958', '87528380', '83772145', '87125460', '83443897', '83823750', '82491256', '87137840', '82562350', '83641919_1921', '86236474_6476', '92380595', '83553333_3334', '86328049_8050', '87528321', '85629964', '86244113', '82253245_3247', '86263525', '87147607', '86079776_9777', '91814768_91814769', '89856243', '82504862', '86075409_5410', '87086073', '82251504', '82837252', '82092117', '82254765', '86220490', '83573282', '85540866', '86230203_0206', '87428306', '85240939', '82250337_0338', '85201976', '82573104', '87093315_87093318'])\n",
            "0.0012610340479192938\n",
            "{'0': {'name': 'answer', 'id': 8475, 'object': 7435}}\n",
            "dict_keys(['id', 'box', 'category', 'text', 'relations', 'visual_embedding', 'gap', 'text_density', 'parsing_level1', 'parsing_level2', 'text_number', 'char_density', 'char_number'])\n"
          ],
          "name": "stdout"
        }
      ]
    },
    {
      "cell_type": "markdown",
      "metadata": {
        "id": "UJYyF8y5tN9h"
      },
      "source": [
        "## Define some pre-processing function"
      ]
    },
    {
      "cell_type": "markdown",
      "metadata": {
        "id": "S9AkmDcQgLCk"
      },
      "source": [
        "### Set **k** nearest neighbour for distance base weighted graph\n",
        "This is used to generate visual feature and text density based graph embedding, to generate a new key for object dictionary named 'near gap'."
      ]
    },
    {
      "cell_type": "code",
      "metadata": {
        "id": "1mthzCoX9jun"
      },
      "source": [
        "# selected top k gap distance features\n",
        "def top_k_nearest(gap_dict, k):\n",
        "  new_gap_dict = {}\n",
        "  list1= sorted(gap_dict.values())\n",
        "  top_k_value = list1[:k]\n",
        "  for obj in gap_dict:\n",
        "    if gap_dict[obj] in top_k_value:\n",
        "      new_gap_dict[obj] = gap_dict[obj]\n",
        "  return new_gap_dict"
      ],
      "execution_count": null,
      "outputs": []
    },
    {
      "cell_type": "code",
      "metadata": {
        "id": "ewO2WGLg75Lh"
      },
      "source": [
        "# default k is 2\n",
        "for img in train_list_dict:\n",
        "  for obj in train_list_dict[img]['objects']:\n",
        "    new_gap_dict = top_k_nearest(train_list_dict[img]['objects'][obj]['gap'],2)\n",
        "    train_list_dict[img]['objects'][obj]['near_gap'] = new_gap_dict"
      ],
      "execution_count": null,
      "outputs": []
    },
    {
      "cell_type": "code",
      "metadata": {
        "id": "RJ-mGghw9SRu"
      },
      "source": [
        "for img in eval_list_dict:\n",
        "  for obj in eval_list_dict[img]['objects']:\n",
        "    new_gap_dict = top_k_nearest(eval_list_dict[img]['objects'][obj]['gap'],2)\n",
        "    eval_list_dict[img]['objects'][obj]['near_gap'] = new_gap_dict"
      ],
      "execution_count": null,
      "outputs": []
    },
    {
      "cell_type": "markdown",
      "metadata": {
        "id": "yFqjHdW19k6c"
      },
      "source": [
        "### Some Searching Tools"
      ]
    },
    {
      "cell_type": "code",
      "metadata": {
        "id": "3P55FJGdtDCc"
      },
      "source": [
        "# according to id to search text\n",
        "bbox_id_text = {}\n",
        "for l in train_list_dict:\n",
        "  for obj in train_list_dict[l]['objects']:\n",
        "    id = train_list_dict[l]['objects'][obj]['id']\n",
        "    bbox_id_text[id] = {}\n",
        "    bbox_id_text[id]['text'] = train_list_dict[l]['objects'][obj]['text']\n",
        "for l in eval_list_dict:\n",
        "  for obj in eval_list_dict[l]['objects']:\n",
        "    id = eval_list_dict[l]['objects'][obj]['id']\n",
        "    bbox_id_text[id] = {}\n",
        "    bbox_id_text[id]['text'] = eval_list_dict[l]['objects'][obj]['text']"
      ],
      "execution_count": null,
      "outputs": []
    },
    {
      "cell_type": "code",
      "metadata": {
        "id": "5AwmFBI2tF5L"
      },
      "source": [
        "# according to id to search object id in a document\n",
        "def globalid_to_localid(id):\n",
        "  for l in train_list_dict:\n",
        "    for obj in train_list_dict[l]['objects']:\n",
        "      if id == train_list_dict[l]['objects'][obj]['id']:\n",
        "        return obj\n",
        "  for l in eval_list_dict:\n",
        "    for obj in eval_list_dict[l]['objects']:\n",
        "      if id == eval_list_dict[l]['objects'][obj]['id']:\n",
        "        return obj"
      ],
      "execution_count": null,
      "outputs": []
    },
    {
      "cell_type": "code",
      "metadata": {
        "id": "pK1dGrPzAqdV"
      },
      "source": [
        "# this dictionary used to transfer object id to text_density/text_number/char_density/char_number/visual_embedding/\n",
        "id_density_dict = {}\n",
        "for l in eval_list_dict:\n",
        "  id_density_dict[l] = {}\n",
        "  for obj in eval_list_dict[l]['objects']:\n",
        "    id_density_dict[l][obj] = eval_list_dict[l]['objects'][obj]['text_number']\n",
        "for l in train_list_dict:\n",
        "  id_density_dict[l] = {}\n",
        "  for obj in train_list_dict[l]['objects']:\n",
        "    id_density_dict[l][obj] = train_list_dict[l]['objects'][obj]['text_number']"
      ],
      "execution_count": null,
      "outputs": []
    },
    {
      "cell_type": "markdown",
      "metadata": {
        "id": "XsTIpJ4Y-oiH"
      },
      "source": [
        "### Change Scalar to High Dimensional Vectors"
      ]
    },
    {
      "cell_type": "code",
      "metadata": {
        "id": "NMT2k0_UroHE"
      },
      "source": [
        "import math\n",
        "import torch\n",
        "# one dimensional feature embedding\n",
        "def positionalencoding1d(d_model, feature_list):\n",
        "    \"\"\"\n",
        "    :param d_model: dimension of the model\n",
        "    :param feature_list: length of positions\n",
        "    :return: length*d_model position matrix\n",
        "    \"\"\"\n",
        "    if d_model % 2 != 0:\n",
        "        raise ValueError(\"Cannot use sin/cos positional encoding with \"\n",
        "                         \"odd dim (got dim={:d})\".format(d_model))\n",
        "    pe = torch.zeros(len(feature_list), d_model)\n",
        "    feats = torch.tensor(feature_list).unsqueeze(1)\n",
        "    div_term = torch.exp((torch.arange(0, d_model, 2, dtype=torch.float) *\n",
        "                         -(math.log(10000.0) / d_model)))\n",
        "    pe[:, 0::2] = torch.sin(feats.float() * div_term)\n",
        "    pe[:, 1::2] = torch.cos(feats.float() * div_term)\n",
        "    pe = pe.tolist()\n",
        "    return pe\n"
      ],
      "execution_count": null,
      "outputs": []
    },
    {
      "cell_type": "markdown",
      "metadata": {
        "id": "D0ot2qaDtTCI"
      },
      "source": [
        "## Extracting Information from training and evaluation json file"
      ]
    },
    {
      "cell_type": "markdown",
      "metadata": {
        "id": "nsvRpOBN_PiS"
      },
      "source": [
        "### For Gap Distance weighted GCN model"
      ]
    },
    {
      "cell_type": "code",
      "metadata": {
        "colab": {
          "base_uri": "https://localhost:8080/"
        },
        "id": "5X4DlyOn7tcd",
        "outputId": "d06fd8b7-0821-4fa1-a833-51c3baec6e4a"
      },
      "source": [
        "train_list_dict['91391310']['objects']['0']['relations']"
      ],
      "execution_count": null,
      "outputs": [
        {
          "output_type": "execute_result",
          "data": {
            "text/plain": [
              "{'0': {'id': 0, 'name': 'answer', 'object': 6}}"
            ]
          },
          "metadata": {
            "tags": []
          },
          "execution_count": 12
        }
      ]
    },
    {
      "cell_type": "code",
      "metadata": {
        "id": "MTanPUdYskxb"
      },
      "source": [
        "# Generate local graph based training dataset objects and relations list\n",
        "new_train_list_dict = {}\n",
        "for l in train_list_dict:\n",
        "  tem_dic = {}\n",
        "  tem_dic['objects'] = []\n",
        "  tem_dic['relationships'] = []\n",
        "  \n",
        "  for obj in train_list_dict[l]['objects']:\n",
        "    tem_dic['objects'].append(obj)\n",
        "    tem_rel = [obj,obj,0]\n",
        "    tem_dic['relationships'].append(tem_rel)\n",
        "    for rel in train_list_dict[l]['objects'][obj]['near_gap']:\n",
        "      tem_rel = [obj,rel]\n",
        "      tem_rel.append(train_list_dict[l]['objects'][obj]['near_gap'][rel])\n",
        "      tem_dic['relationships'].append(tem_rel)\n",
        "  new_train_list_dict[l] = tem_dic"
      ],
      "execution_count": null,
      "outputs": []
    },
    {
      "cell_type": "code",
      "metadata": {
        "id": "pUqo9tC3_B9R"
      },
      "source": [
        "# Generate local graph based validation dataset objects and relations list\n",
        "new_eval_list_dict = {}\n",
        "for l in eval_list_dict:\n",
        "  tem_dic = {}\n",
        "  tem_dic['objects'] = []\n",
        "  tem_dic['relationships'] = []\n",
        "\n",
        "  for obj in eval_list_dict[l]['objects']:\n",
        "    tem_dic['objects'].append(obj)\n",
        "    tem_rel = [obj,obj,0]\n",
        "    tem_dic['relationships'].append(tem_rel)\n",
        "    for rel in eval_list_dict[l]['objects'][obj]['near_gap']:\n",
        "      tem_rel = [obj,rel]\n",
        "      tem_rel.append(eval_list_dict[l]['objects'][obj]['near_gap'][rel])\n",
        "      tem_dic['relationships'].append(tem_rel)\n",
        "  new_eval_list_dict[l] = tem_dic"
      ],
      "execution_count": null,
      "outputs": []
    },
    {
      "cell_type": "code",
      "metadata": {
        "id": "_FwWclhSu0Ip"
      },
      "source": [
        "#Using for searching real node size\n",
        "num_obj_dict = {}\n",
        "for l in new_train_list_dict:\n",
        "    num_obj_dict[l] = len(new_train_list_dict[l]['objects'])\n",
        "for l in new_eval_list_dict:\n",
        "    num_obj_dict[l] = len(new_eval_list_dict[l]['objects'])"
      ],
      "execution_count": null,
      "outputs": []
    },
    {
      "cell_type": "code",
      "metadata": {
        "id": "sprjdfPdIecq"
      },
      "source": [
        "# useless code only rename\n",
        "list_dict_train={}\n",
        "for l in new_train_list_dict:\n",
        "    list_dict_train[l] = new_train_list_dict[l]\n",
        "list_dict_test = {}\n",
        "for l in new_eval_list_dict:\n",
        "    list_dict_test[l] = new_eval_list_dict[l]"
      ],
      "execution_count": null,
      "outputs": []
    },
    {
      "cell_type": "markdown",
      "metadata": {
        "id": "LgahG2e8pAGx"
      },
      "source": [
        "## Training and Validation dataframe generation"
      ]
    },
    {
      "cell_type": "code",
      "metadata": {
        "id": "tyZaDNCsAH_2"
      },
      "source": [
        "#generate the training and labeling information for each image\n",
        "#this information can be used to transfer object id to corresponding visual, text density or other kinds of features.\n",
        "density_list_train = []\n",
        "label_list_train = []\n",
        "img_list_train = []\n",
        "label_dict_train = {}\n",
        "for l in train_list_dict:\n",
        "  label_dict_train[l] = []\n",
        "  for obj in train_list_dict[l]['objects']:\n",
        "    density_list_train.append(obj)\n",
        "    label_list_train.append(train_list_dict[l]['objects'][obj]['category'])\n",
        "    img_list_train.append(l)\n",
        "    label_dict_train[l].append(train_list_dict[l]['objects'][obj]['category'])\n",
        "  for obj in range(num_obj_dict[l],181):\n",
        "    density_list_train.append(str(obj))\n",
        "    label_list_train.append(str(-1))\n",
        "    img_list_train.append(l)\n",
        "    label_dict_train[l].append(str(-1))"
      ],
      "execution_count": null,
      "outputs": []
    },
    {
      "cell_type": "code",
      "metadata": {
        "id": "j3JfDgcmBQ0V"
      },
      "source": [
        "# generating evalutaion labeling informaiton dictionary\n",
        "density_list_eval = []\n",
        "label_list_eval = []\n",
        "label_dict_eval = {}\n",
        "img_list_eval = []\n",
        "for l in eval_list_dict:\n",
        "  label_dict_eval[l] = []\n",
        "  for obj in eval_list_dict[l]['objects']:\n",
        "    density_list_eval.append(obj)\n",
        "    label_list_eval.append(eval_list_dict[l]['objects'][obj]['category'])\n",
        "    img_list_eval.append(l)\n",
        "    label_dict_eval[l].append(eval_list_dict[l]['objects'][obj]['category'])\n",
        "  for obj in range(num_obj_dict[l],181):\n",
        "    density_list_eval.append(str(obj))\n",
        "    label_list_eval.append(str(-1))\n",
        "    img_list_eval.append(l)\n",
        "    label_dict_eval[l].append(str(-1))"
      ],
      "execution_count": null,
      "outputs": []
    },
    {
      "cell_type": "code",
      "metadata": {
        "id": "TlGkeE5VAxKg"
      },
      "source": [
        "from pandas import DataFrame\n",
        "df_train = DataFrame(density_list_train,columns=['density'])\n",
        "df_train['label'] = label_list_train\n",
        "df_train['image'] = img_list_train\n",
        "df_eval = DataFrame(density_list_eval,columns=['density'])\n",
        "df_eval['label'] = label_list_eval\n",
        "df_eval['image'] = img_list_eval"
      ],
      "execution_count": null,
      "outputs": []
    },
    {
      "cell_type": "code",
      "metadata": {
        "colab": {
          "base_uri": "https://localhost:8080/",
          "height": 419
        },
        "id": "O1YqiQzlBlo-",
        "outputId": "7f22da22-e6e7-41ce-a68a-c42881a40c34"
      },
      "source": [
        "df_train.head(181)"
      ],
      "execution_count": null,
      "outputs": [
        {
          "output_type": "execute_result",
          "data": {
            "text/html": [
              "<div>\n",
              "<style scoped>\n",
              "    .dataframe tbody tr th:only-of-type {\n",
              "        vertical-align: middle;\n",
              "    }\n",
              "\n",
              "    .dataframe tbody tr th {\n",
              "        vertical-align: top;\n",
              "    }\n",
              "\n",
              "    .dataframe thead th {\n",
              "        text-align: right;\n",
              "    }\n",
              "</style>\n",
              "<table border=\"1\" class=\"dataframe\">\n",
              "  <thead>\n",
              "    <tr style=\"text-align: right;\">\n",
              "      <th></th>\n",
              "      <th>density</th>\n",
              "      <th>label</th>\n",
              "      <th>image</th>\n",
              "    </tr>\n",
              "  </thead>\n",
              "  <tbody>\n",
              "    <tr>\n",
              "      <th>0</th>\n",
              "      <td>0</td>\n",
              "      <td>question</td>\n",
              "      <td>91391310</td>\n",
              "    </tr>\n",
              "    <tr>\n",
              "      <th>1</th>\n",
              "      <td>1</td>\n",
              "      <td>question</td>\n",
              "      <td>91391310</td>\n",
              "    </tr>\n",
              "    <tr>\n",
              "      <th>2</th>\n",
              "      <td>2</td>\n",
              "      <td>question</td>\n",
              "      <td>91391310</td>\n",
              "    </tr>\n",
              "    <tr>\n",
              "      <th>3</th>\n",
              "      <td>3</td>\n",
              "      <td>question</td>\n",
              "      <td>91391310</td>\n",
              "    </tr>\n",
              "    <tr>\n",
              "      <th>4</th>\n",
              "      <td>4</td>\n",
              "      <td>question</td>\n",
              "      <td>91391310</td>\n",
              "    </tr>\n",
              "    <tr>\n",
              "      <th>...</th>\n",
              "      <td>...</td>\n",
              "      <td>...</td>\n",
              "      <td>...</td>\n",
              "    </tr>\n",
              "    <tr>\n",
              "      <th>176</th>\n",
              "      <td>176</td>\n",
              "      <td>-1</td>\n",
              "      <td>91391310</td>\n",
              "    </tr>\n",
              "    <tr>\n",
              "      <th>177</th>\n",
              "      <td>177</td>\n",
              "      <td>-1</td>\n",
              "      <td>91391310</td>\n",
              "    </tr>\n",
              "    <tr>\n",
              "      <th>178</th>\n",
              "      <td>178</td>\n",
              "      <td>-1</td>\n",
              "      <td>91391310</td>\n",
              "    </tr>\n",
              "    <tr>\n",
              "      <th>179</th>\n",
              "      <td>179</td>\n",
              "      <td>-1</td>\n",
              "      <td>91391310</td>\n",
              "    </tr>\n",
              "    <tr>\n",
              "      <th>180</th>\n",
              "      <td>180</td>\n",
              "      <td>-1</td>\n",
              "      <td>91391310</td>\n",
              "    </tr>\n",
              "  </tbody>\n",
              "</table>\n",
              "<p>181 rows × 3 columns</p>\n",
              "</div>"
            ],
            "text/plain": [
              "    density     label     image\n",
              "0         0  question  91391310\n",
              "1         1  question  91391310\n",
              "2         2  question  91391310\n",
              "3         3  question  91391310\n",
              "4         4  question  91391310\n",
              "..      ...       ...       ...\n",
              "176     176        -1  91391310\n",
              "177     177        -1  91391310\n",
              "178     178        -1  91391310\n",
              "179     179        -1  91391310\n",
              "180     180        -1  91391310\n",
              "\n",
              "[181 rows x 3 columns]"
            ]
          },
          "metadata": {
            "tags": []
          },
          "execution_count": 20
        }
      ]
    },
    {
      "cell_type": "code",
      "metadata": {
        "id": "0ZsL5tzQQ3CH"
      },
      "source": [
        "label_list_train = df_train['label'].fillna('other').tolist()\n",
        "label_list_eval = df_eval['label'].fillna('other').tolist()"
      ],
      "execution_count": null,
      "outputs": []
    },
    {
      "cell_type": "code",
      "metadata": {
        "id": "E6ZNavS5Rgkn"
      },
      "source": [
        "df_train_clean = df_train[df_train['label'].notnull()][['density','label','image']]\n",
        "df_eval_clean = df_eval[df_eval['label'].notnull()][['density','label','image']] "
      ],
      "execution_count": null,
      "outputs": []
    },
    {
      "cell_type": "code",
      "metadata": {
        "colab": {
          "base_uri": "https://localhost:8080/",
          "height": 204
        },
        "id": "0Vx0NRPZSQO9",
        "outputId": "2c30bce8-36ed-4381-c8b3-92a9d384441a"
      },
      "source": [
        "df_train_clean.head()"
      ],
      "execution_count": null,
      "outputs": [
        {
          "output_type": "execute_result",
          "data": {
            "text/html": [
              "<div>\n",
              "<style scoped>\n",
              "    .dataframe tbody tr th:only-of-type {\n",
              "        vertical-align: middle;\n",
              "    }\n",
              "\n",
              "    .dataframe tbody tr th {\n",
              "        vertical-align: top;\n",
              "    }\n",
              "\n",
              "    .dataframe thead th {\n",
              "        text-align: right;\n",
              "    }\n",
              "</style>\n",
              "<table border=\"1\" class=\"dataframe\">\n",
              "  <thead>\n",
              "    <tr style=\"text-align: right;\">\n",
              "      <th></th>\n",
              "      <th>density</th>\n",
              "      <th>label</th>\n",
              "      <th>image</th>\n",
              "    </tr>\n",
              "  </thead>\n",
              "  <tbody>\n",
              "    <tr>\n",
              "      <th>0</th>\n",
              "      <td>0</td>\n",
              "      <td>question</td>\n",
              "      <td>91391310</td>\n",
              "    </tr>\n",
              "    <tr>\n",
              "      <th>1</th>\n",
              "      <td>1</td>\n",
              "      <td>question</td>\n",
              "      <td>91391310</td>\n",
              "    </tr>\n",
              "    <tr>\n",
              "      <th>2</th>\n",
              "      <td>2</td>\n",
              "      <td>question</td>\n",
              "      <td>91391310</td>\n",
              "    </tr>\n",
              "    <tr>\n",
              "      <th>3</th>\n",
              "      <td>3</td>\n",
              "      <td>question</td>\n",
              "      <td>91391310</td>\n",
              "    </tr>\n",
              "    <tr>\n",
              "      <th>4</th>\n",
              "      <td>4</td>\n",
              "      <td>question</td>\n",
              "      <td>91391310</td>\n",
              "    </tr>\n",
              "  </tbody>\n",
              "</table>\n",
              "</div>"
            ],
            "text/plain": [
              "  density     label     image\n",
              "0       0  question  91391310\n",
              "1       1  question  91391310\n",
              "2       2  question  91391310\n",
              "3       3  question  91391310\n",
              "4       4  question  91391310"
            ]
          },
          "metadata": {
            "tags": []
          },
          "execution_count": 23
        }
      ]
    },
    {
      "cell_type": "code",
      "metadata": {
        "colab": {
          "base_uri": "https://localhost:8080/"
        },
        "id": "Yh6B7x9NP_8_",
        "outputId": "0143d9d5-2f9f-4ffb-d211-539a42e26859"
      },
      "source": [
        "print(list_dict_train)"
      ],
      "execution_count": null,
      "outputs": [
        {
          "output_type": "stream",
          "text": [
            "{'91391310': {'objects': ['0', '1', '2', '3', '4', '5', '6', '7', '8', '9', '10', '11', '12', '13', '14', '15', '16', '17', '18', '19', '20', '21', '22', '23', '24', '25', '26', '27', '28', '29', '30', '31', '32', '33', '34', '35', '36', '37', '38', '39', '40'], 'relationships': [['0', '0', 0], ['0', '1', 18], ['0', '6', 8], ['1', '1', 0], ['1', '0', 18], ['1', '21', 15], ['2', '2', 0], ['2', '1', 20], ['2', '22', 26], ['3', '3', 0], ['3', '24', 20], ['3', '26', 15], ['4', '4', 0], ['4', '26', 17], ['4', '27', 17], ['5', '5', 0], ['5', '28', 34], ['5', '30', 31], ['6', '6', 0], ['6', '0', 8], ['6', '21', 29], ['7', '7', 0], ['7', '8', 11], ['7', '25', 16], ['8', '8', 0], ['8', '7', 11], ['8', '25', 44], ['9', '9', 0], ['9', '8', 51], ['9', '10', 18], ['10', '10', 0], ['10', '9', 18], ['10', '29', 37], ['11', '11', 0], ['11', '12', 15], ['11', '29', 38], ['12', '12', 0], ['12', '11', 15], ['12', '13', 23], ['13', '13', 0], ['13', '12', 23], ['13', '33', 43], ['14', '14', 0], ['14', '19', 17], ['14', '37', 49], ['15', '15', 0], ['15', '16', 45], ['15', '17', 22], ['16', '16', 0], ['16', '15', 45], ['16', '17', 30], ['17', '17', 0], ['17', '15', 22], ['17', '16', 30], ['18', '18', 0], ['18', '15', 125], ['18', '16', 132], ['19', '19', 0], ['19', '14', 17], ['19', '34', 48], ['20', '20', 0], ['20', '6', 127], ['20', '23', 115], ['21', '21', 0], ['21', '1', 15], ['21', '22', 8], ['22', '22', 0], ['22', '2', 26], ['22', '21', 8], ['23', '23', 0], ['23', '7', 52], ['23', '25', 21], ['24', '24', 0], ['24', '3', 20], ['24', '26', 48], ['25', '25', 0], ['25', '7', 16], ['25', '23', 21], ['26', '26', 0], ['26', '3', 15], ['26', '4', 17], ['27', '27', 0], ['27', '4', 17], ['27', '28', 16], ['28', '28', 0], ['28', '5', 34], ['28', '27', 16], ['29', '29', 0], ['29', '10', 37], ['29', '11', 38], ['30', '30', 0], ['30', '5', 31], ['30', '31', 19], ['31', '31', 0], ['31', '30', 19], ['31', '32', 18], ['32', '32', 0], ['32', '31', 18], ['32', '33', 14], ['33', '33', 0], ['33', '32', 14], ['33', '34', 17], ['34', '34', 0], ['34', '33', 17], ['34', '35', 16], ['35', '35', 0], ['35', '34', 16], ['35', '36', 15], ['36', '36', 0], ['36', '34', 49], ['36', '35', 15], ['37', '37', 0], ['37', '38', 14], ['37', '39', 31], ['38', '38', 0], ['38', '37', 14], ['38', '40', 15], ['39', '39', 0], ['39', '38', 17], ['39', '40', 18], ['40', '40', 0], ['40', '38', 15], ['40', '39', 18]]}, '92039708_9710': {'objects': ['0', '1', '2', '3', '4', '5', '6', '7', '8', '9', '10', '11', '12', '13', '14', '15', '16', '17', '18', '19', '20', '21', '22'], 'relationships': [['0', '0', 0], ['0', '1', 11], ['0', '2', 63], ['1', '1', 0], ['1', '0', 11], ['1', '2', 35], ['2', '2', 0], ['2', '1', 35], ['2', '9', 27], ['3', '3', 0], ['3', '19', 45], ['3', '22', 112], ['4', '4', 0], ['4', '5', 48], ['4', '6', 68], ['5', '5', 0], ['5', '6', 2], ['5', '7', 34], ['6', '6', 0], ['6', '5', 2], ['6', '8', 32], ['7', '7', 0], ['7', '5', 34], ['7', '8', 1], ['8', '8', 0], ['8', '6', 32], ['8', '7', 1], ['9', '9', 0], ['9', '2', 27], ['9', '10', 68], ['10', '10', 0], ['10', '0', 67], ['10', '9', 68], ['11', '11', 0], ['11', '12', 12], ['11', '13', 11], ['12', '12', 0], ['12', '9', 127], ['12', '11', 12], ['13', '13', 0], ['13', '11', 11], ['13', '14', 8], ['14', '14', 0], ['14', '11', 26], ['14', '13', 8], ['15', '15', 0], ['15', '14', 131], ['15', '16', 131], ['16', '16', 0], ['16', '15', 131], ['16', '17', 134], ['17', '17', 0], ['17', '18', 6], ['17', '19', 33], ['18', '18', 0], ['18', '17', 6], ['18', '19', 10], ['19', '19', 0], ['19', '17', 33], ['19', '18', 10], ['20', '20', 0], ['20', '19', 136], ['20', '21', 14], ['21', '21', 0], ['21', '19', 170], ['21', '20', 14], ['22', '22', 0], ['22', '3', 112], ['22', '21', 328]]}, '0060214859': {'objects': ['0', '1', '2', '3', '4', '5', '6', '7', '8', '9', '10', '11', '12', '13', '14', '15', '16', '17', '18', '19', '20', '21', '22', '23', '24', '25', '26', '27', '28', '29', '30', '31', '32', '33', '34', '35', '36', '37'], 'relationships': [['0', '0', 0], ['0', '1', 28], ['0', '16', 93], ['1', '1', 0], ['1', '0', 28], ['1', '16', 125], ['2', '2', 0], ['2', '3', 84], ['2', '4', 43], ['3', '3', 0], ['3', '4', 25], ['3', '26', 65], ['4', '4', 0], ['4', '2', 43], ['4', '3', 25], ['5', '5', 0], ['5', '6', 18], ['5', '21', 48], ['6', '6', 0], ['6', '5', 18], ['6', '21', 15], ['7', '7', 0], ['7', '28', 50], ['7', '29', 87], ['8', '8', 0], ['8', '29', 18], ['8', '30', 21], ['9', '9', 0], ['9', '10', 12], ['9', '31', 61], ['10', '10', 0], ['10', '9', 12], ['10', '30', 82], ['11', '11', 0], ['11', '12', 24], ['11', '14', 63], ['12', '12', 0], ['12', '11', 24], ['12', '14', 20], ['13', '13', 0], ['13', '12', 87], ['13', '14', 11], ['14', '14', 0], ['14', '13', 11], ['14', '37', 5], ['15', '15', 0], ['15', '11', 125], ['15', '37', 66], ['16', '16', 0], ['16', '17', 18], ['16', '22', 14], ['17', '17', 0], ['17', '16', 18], ['17', '23', 14], ['18', '18', 0], ['18', '6', 52], ['18', '19', 13], ['19', '19', 0], ['19', '6', 20], ['19', '18', 13], ['20', '20', 0], ['20', '19', 97], ['20', '21', 17], ['21', '21', 0], ['21', '6', 15], ['21', '20', 17], ['22', '22', 0], ['22', '16', 14], ['22', '25', 16], ['23', '23', 0], ['23', '17', 14], ['23', '24', 15], ['24', '24', 0], ['24', '23', 15], ['24', '25', 37], ['25', '25', 0], ['25', '22', 16], ['25', '24', 37], ['26', '26', 0], ['26', '27', 14], ['26', '28', 15], ['27', '27', 0], ['27', '20', 226], ['27', '26', 14], ['28', '28', 0], ['28', '7', 50], ['28', '26', 15], ['29', '29', 0], ['29', '8', 18], ['29', '10', 86], ['30', '30', 0], ['30', '31', 12], ['30', '32', 11], ['31', '31', 0], ['31', '30', 12], ['31', '32', 17], ['32', '32', 0], ['32', '30', 11], ['32', '33', 2], ['33', '33', 0], ['33', '32', 2], ['33', '34', 13], ['34', '34', 0], ['34', '33', 13], ['34', '35', 14], ['35', '35', 0], ['35', '33', 14], ['35', '34', 14], ['36', '36', 0], ['36', '34', 15], ['36', '35', 15], ['37', '37', 0], ['37', '14', 5], ['37', '15', 66]]}, '01073843': {'objects': ['0', '1', '2', '3', '4', '5', '6', '7', '8', '9', '10', '11', '12', '13', '14', '15', '16', '17', '18', '19', '20', '21', '22', '23', '24', '25', '26', '27', '28', '29', '30', '31', '32', '33', '34', '35', '36', '37', '38', '39', '40', '41', '42', '43', '44', '45', '46', '47', '48', '49', '50', '51', '52', '53', '54', '55', '56', '57', '58', '59', '60', '61', '62', '63', '64', '65', '66', '67', '68', '69', '70', '71', '72', '73', '74', '75', '76', '77', '78', '79', '80', '81', '82', '83', '84', '85', '86', '87', '88', '89', '90', '91', '92', '93', '94', '95', '96', '97', '98', '99', '100', '101', '102', '103'], 'relationships': [['0', '0', 0], ['0', '1', 21], ['0', '71', 19], ['1', '1', 0], ['1', '0', 21], ['1', '72', 14], ['1', '75', 21], ['2', '2', 0], ['2', '3', 18], ['2', '76', 21], ['3', '3', 0], ['3', '2', 18], ['3', '80', 46], ['4', '4', 0], ['4', '5', 56], ['4', '10', 67], ['5', '5', 0], ['5', '4', 56], ['5', '6', 56], ['5', '23', 32], ['6', '6', 0], ['6', '5', 56], ['6', '7', 52], ['7', '7', 0], ['7', '8', 31], ['7', '22', 11], ['8', '8', 0], ['8', '22', 7], ['8', '82', 4], ['9', '9', 0], ['9', '17', 42], ['9', '19', 29], ['10', '10', 0], ['10', '85', 17], ['10', '86', 17], ['11', '11', 0], ['11', '87', 17], ['11', '88', 18], ['12', '12', 0], ['12', '89', 19], ['12', '90', 19], ['13', '13', 0], ['13', '36', 11], ['13', '37', 5], ['14', '14', 0], ['14', '98', 18], ['14', '99', 30], ['15', '15', 0], ['15', '17', 35], ['15', '74', 18], ['16', '16', 0], ['16', '19', 34], ['16', '73', 27], ['17', '17', 0], ['17', '15', 35], ['17', '74', 35], ['18', '18', 0], ['18', '74', 48], ['18', '77', 18], ['19', '19', 0], ['19', '9', 29], ['19', '16', 34], ['20', '20', 0], ['20', '75', 40], ['20', '76', 34], ['21', '21', 0], ['21', '19', 40], ['21', '73', 77], ['22', '22', 0], ['22', '7', 11], ['22', '8', 7], ['23', '23', 0], ['23', '5', 32], ['23', '86', 60], ['24', '24', 0], ['24', '25', 8], ['24', '94', 11], ['25', '25', 0], ['25', '24', 8], ['25', '26', 10], ['26', '26', 0], ['26', '24', 32], ['26', '25', 10], ['27', '27', 0], ['27', '28', 21], ['27', '85', 28], ['28', '28', 0], ['28', '27', 21], ['28', '34', 9], ['29', '29', 0], ['29', '30', 59], ['29', '31', 27], ['29', '32', 59], ['30', '30', 0], ['30', '31', 18], ['30', '95', 13], ['31', '31', 0], ['31', '30', 18], ['31', '32', 17], ['32', '32', 0], ['32', '30', 32], ['32', '31', 17], ['33', '33', 0], ['33', '31', 29], ['33', '59', 38], ['34', '34', 0], ['34', '28', 9], ['34', '67', 10], ['35', '35', 0], ['35', '36', 10], ['35', '97', 13], ['36', '36', 0], ['36', '13', 11], ['36', '35', 10], ['37', '37', 0], ['37', '13', 5], ['37', '38', 7], ['38', '38', 0], ['38', '13', 25], ['38', '37', 7], ['39', '39', 0], ['39', '40', 18], ['39', '43', 29], ['40', '40', 0], ['40', '39', 18], ['40', '44', 26], ['41', '41', 0], ['41', '42', 9], ['41', '45', 18], ['42', '42', 0], ['42', '41', 9], ['42', '46', 17], ['43', '43', 0], ['43', '39', 29], ['43', '44', 8], ['44', '44', 0], ['44', '40', 26], ['44', '43', 8], ['45', '45', 0], ['45', '41', 18], ['45', '46', 10], ['46', '46', 0], ['46', '42', 17], ['46', '45', 10], ['47', '47', 0], ['47', '48', 8], ['47', '51', 28], ['48', '48', 0], ['48', '47', 8], ['48', '52', 27], ['49', '49', 0], ['49', '50', 12], ['49', '53', 27], ['50', '50', 0], ['50', '49', 12], ['50', '54', 29], ['51', '51', 0], ['51', '52', 7], ['51', '55', 27], ['52', '52', 0], ['52', '48', 27], ['52', '51', 7], ['53', '53', 0], ['53', '49', 27], ['53', '54', 7], ['54', '54', 0], ['54', '50', 29], ['54', '53', 7], ['55', '55', 0], ['55', '56', 10], ['55', '57', 19], ['56', '56', 0], ['56', '55', 10], ['56', '58', 18], ['57', '57', 0], ['57', '55', 19], ['57', '58', 8], ['58', '58', 0], ['58', '56', 18], ['58', '57', 8], ['59', '59', 0], ['59', '60', 9], ['59', '61', 8], ['60', '60', 0], ['60', '59', 9], ['60', '61', 32], ['61', '61', 0], ['61', '59', 8], ['61', '60', 32], ['62', '62', 0], ['62', '59', 29], ['62', '64', 40], ['63', '63', 0], ['63', '64', 9], ['63', '65', 31], ['64', '64', 0], ['64', '63', 9], ['64', '65', 10], ['65', '65', 0], ['65', '63', 31], ['65', '64', 10], ['66', '66', 0], ['66', '98', 100], ['66', '103', 138], ['67', '67', 0], ['67', '34', 10], ['67', '69', 17], ['68', '68', 0], ['68', '69', 17], ['68', '90', 31], ['69', '69', 0], ['69', '67', 17], ['69', '68', 17], ['70', '70', 0], ['70', '17', 141], ['70', '20', 120], ['71', '71', 0], ['71', '0', 19], ['71', '72', 32], ['72', '72', 0], ['72', '1', 14], ['72', '73', 31], ['73', '73', 0], ['73', '16', 27], ['73', '72', 31], ['74', '74', 0], ['74', '15', 18], ['74', '17', 35], ['75', '75', 0], ['75', '1', 21], ['75', '2', 22], ['76', '76', 0], ['76', '2', 21], ['76', '78', 15], ['77', '77', 0], ['77', '9', 56], ['77', '18', 18], ['78', '78', 0], ['78', '2', 32], ['78', '76', 15], ['79', '79', 0], ['79', '6', 62], ['79', '17', 64], ['80', '80', 0], ['80', '3', 46], ['80', '81', 16], ['81', '81', 0], ['81', '80', 16], ['81', '84', 31], ['82', '82', 0], ['82', '8', 4], ['82', '83', 27], ['83', '83', 0], ['83', '22', 18], ['83', '82', 27], ['84', '84', 0], ['84', '81', 31], ['84', '93', 26], ['85', '85', 0], ['85', '10', 17], ['85', '27', 28], ['86', '86', 0], ['86', '10', 17], ['86', '28', 30], ['87', '87', 0], ['87', '11', 17], ['87', '88', 34], ['88', '88', 0], ['88', '11', 18], ['88', '67', 32], ['89', '89', 0], ['89', '12', 19], ['89', '69', 28], ['90', '90', 0], ['90', '12', 19], ['90', '68', 31], ['91', '91', 0], ['91', '90', 38], ['91', '92', 33], ['92', '92', 0], ['92', '90', 99], ['92', '91', 33], ['93', '93', 0], ['93', '84', 26], ['93', '94', 28], ['94', '94', 0], ['94', '24', 11], ['94', '93', 28], ['95', '95', 0], ['95', '30', 13], ['95', '31', 35], ['96', '96', 0], ['96', '35', 34], ['96', '97', 11], ['97', '97', 0], ['97', '35', 13], ['97', '96', 11], ['98', '98', 0], ['98', '14', 18], ['98', '99', 90], ['99', '99', 0], ['99', '14', 30], ['99', '100', 18], ['100', '100', 0], ['100', '99', 18], ['100', '101', 3], ['101', '101', 0], ['101', '99', 37], ['101', '100', 3], ['102', '102', 0], ['102', '14', 140], ['102', '99', 97], ['103', '103', 0], ['103', '66', 138], ['103', '100', 317]]}, '87533049': {'objects': ['0', '1', '2', '3', '4', '5', '6', '7', '8', '9', '10', '11', '12', '13', '14', '15', '16', '17', '18', '19', '20', '21', '22', '23', '24', '25', '26', '27', '28', '29', '30', '31', '32', '33', '34', '35', '36', '37', '38', '39', '40', '41', '42', '43', '44'], 'relationships': [['0', '0', 0], ['0', '1', 24], ['0', '16', 54], ['1', '1', 0], ['1', '0', 24], ['1', '2', 28], ['2', '2', 0], ['2', '1', 28], ['2', '18', 61], ['3', '3', 0], ['3', '4', 40], ['3', '34', 14], ['4', '4', 0], ['4', '5', 12], ['4', '34', 13], ['5', '5', 0], ['5', '4', 12], ['5', '6', 13], ['6', '6', 0], ['6', '5', 13], ['6', '35', 10], ['7', '7', 0], ['7', '8', 17], ['7', '38', 15], ['8', '8', 0], ['8', '7', 17], ['8', '39', 12], ['9', '9', 0], ['9', '33', 20], ['9', '39', 24], ['10', '10', 0], ['10', '11', 7], ['10', '32', 79], ['11', '11', 0], ['11', '10', 7], ['11', '40', 22], ['12', '12', 0], ['12', '13', 170], ['12', '40', 103], ['13', '13', 0], ['13', '14', 9], ['13', '42', 21], ['14', '14', 0], ['14', '13', 9], ['14', '42', 32], ['15', '15', 0], ['15', '16', 74], ['15', '17', 119], ['16', '16', 0], ['16', '0', 54], ['16', '17', 29], ['17', '17', 0], ['17', '16', 29], ['17', '18', 26], ['18', '18', 0], ['18', '17', 26], ['18', '19', 50], ['19', '19', 0], ['19', '20', 11], ['19', '21', 36], ['20', '20', 0], ['20', '19', 11], ['20', '21', 11], ['21', '21', 0], ['21', '20', 11], ['21', '22', 20], ['22', '22', 0], ['22', '21', 20], ['22', '23', 13], ['23', '23', 0], ['23', '22', 13], ['23', '24', 20], ['24', '24', 0], ['24', '23', 20], ['24', '25', 13], ['25', '25', 0], ['25', '24', 13], ['25', '26', 10], ['26', '26', 0], ['26', '25', 10], ['26', '27', 13], ['27', '27', 0], ['27', '26', 13], ['27', '28', 11], ['28', '28', 0], ['28', '27', 11], ['28', '29', 11], ['29', '29', 0], ['29', '28', 11], ['29', '30', 22], ['30', '30', 0], ['30', '9', 27], ['30', '29', 22], ['31', '31', 0], ['31', '30', 36], ['31', '32', 10], ['32', '32', 0], ['32', '30', 61], ['32', '31', 10], ['33', '33', 0], ['33', '9', 20], ['33', '39', 66], ['34', '34', 0], ['34', '3', 14], ['34', '4', 13], ['35', '35', 0], ['35', '6', 10], ['35', '36', 13], ['36', '36', 0], ['36', '35', 13], ['36', '37', 16], ['37', '37', 0], ['37', '36', 16], ['37', '38', 16], ['38', '38', 0], ['38', '7', 15], ['38', '37', 16], ['39', '39', 0], ['39', '8', 12], ['39', '9', 24], ['40', '40', 0], ['40', '11', 22], ['40', '12', 103], ['40', '32', 103], ['41', '41', 0], ['41', '42', 10], ['41', '43', 36], ['42', '42', 0], ['42', '41', 10], ['42', '43', 12], ['43', '43', 0], ['43', '41', 36], ['43', '42', 12], ['44', '44', 0], ['44', '42', 97], ['44', '43', 71]]}, '92586242': {'objects': ['0', '1', '2', '3', '4', '5', '6', '7', '8', '9', '10', '11', '12', '13', '14', '15', '16', '17', '18', '19', '20', '21', '22', '23', '24', '25', '26', '27', '28', '29', '30', '31', '32'], 'relationships': [['0', '0', 0], ['0', '16', 14], ['0', '17', 41], ['1', '1', 0], ['1', '17', 55], ['1', '19', 1], ['2', '2', 0], ['2', '19', 83], ['2', '20', 2], ['3', '3', 0], ['3', '21', 16], ['3', '22', 6], ['4', '4', 0], ['4', '20', 6], ['4', '21', 15], ['5', '5', 0], ['5', '25', 168], ['5', '32', 155], ['6', '6', 0], ['6', '27', 147], ['6', '29', 117], ['7', '7', 0], ['7', '8', 122], ['7', '9', 218], ['8', '8', 0], ['8', '9', 74], ['8', '10', 109], ['9', '9', 0], ['9', '10', 16], ['9', '11', 49], ['10', '10', 0], ['10', '9', 16], ['10', '11', 15], ['11', '11', 0], ['11', '10', 15], ['11', '12', 13], ['11', '14', 15], ['12', '12', 0], ['12', '10', 41], ['12', '11', 13], ['13', '13', 0], ['13', '10', 43], ['13', '14', 13], ['14', '14', 0], ['14', '11', 15], ['14', '13', 13], ['14', '15', 15], ['15', '15', 0], ['15', '11', 43], ['15', '12', 43], ['15', '14', 15], ['16', '16', 0], ['16', '0', 14], ['16', '17', 11], ['17', '17', 0], ['17', '16', 11], ['17', '18', 24], ['18', '18', 0], ['18', '16', 61], ['18', '17', 24], ['19', '19', 0], ['19', '1', 1], ['19', '17', 77], ['20', '20', 0], ['20', '2', 2], ['20', '4', 6], ['21', '21', 0], ['21', '3', 16], ['21', '4', 15], ['22', '22', 0], ['22', '3', 6], ['22', '21', 30], ['23', '23', 0], ['23', '24', 15], ['23', '25', 47], ['24', '24', 0], ['24', '23', 15], ['24', '25', 17], ['25', '25', 0], ['25', '23', 47], ['25', '24', 17], ['26', '26', 0], ['26', '27', 18], ['26', '29', 48], ['27', '27', 0], ['27', '26', 18], ['27', '29', 12], ['28', '28', 0], ['28', '27', 37], ['28', '31', 26], ['29', '29', 0], ['29', '27', 12], ['29', '30', 14], ['30', '30', 0], ['30', '29', 14], ['30', '31', 28], ['31', '31', 0], ['31', '28', 26], ['31', '32', 18], ['32', '32', 0], ['32', '28', 79], ['32', '31', 18]]}, '0060068489': {'objects': ['0', '1', '2', '3', '4', '5', '6', '7', '8', '9', '10', '11', '12', '13', '14', '15', '16', '17', '18', '19', '20', '21', '22', '23', '24', '25', '26', '27', '28', '29', '30', '31', '32', '33', '34', '35', '36', '37', '38', '39', '40', '41', '42', '43', '44', '45', '46', '47', '48', '49'], 'relationships': [['0', '0', 0], ['0', '1', 28], ['0', '3', 19], ['1', '1', 0], ['1', '0', 28], ['1', '30', 32], ['2', '2', 0], ['2', '4', 16], ['2', '7', 84], ['3', '3', 0], ['3', '0', 19], ['3', '1', 82], ['4', '4', 0], ['4', '2', 16], ['4', '7', 95], ['5', '5', 0], ['5', '29', 51], ['5', '31', 38], ['6', '6', 0], ['6', '5', 52], ['6', '29', 34], ['7', '7', 0], ['7', '25', 83], ['7', '29', 74], ['8', '8', 0], ['8', '32', 69], ['8', '33', 53], ['9', '9', 0], ['9', '10', 94], ['9', '35', 81], ['10', '10', 0], ['10', '30', 60], ['10', '34', 72], ['11', '11', 0], ['11', '47', 14], ['11', '49', 15], ['12', '12', 0], ['12', '44', 16], ['12', '45', 16], ['13', '13', 0], ['13', '48', 44], ['13', '49', 28], ['14', '14', 0], ['14', '36', 100], ['14', '44', 80], ['15', '15', 0], ['15', '14', 137], ['15', '36', 27], ['16', '16', 0], ['16', '17', 57], ['16', '18', 77], ['17', '17', 0], ['17', '18', 11], ['17', '19', 39], ['18', '18', 0], ['18', '17', 11], ['18', '19', 18], ['19', '19', 0], ['19', '18', 18], ['19', '20', 15], ['20', '20', 0], ['20', '19', 15], ['20', '21', 14], ['21', '21', 0], ['21', '20', 14], ['21', '22', 14], ['22', '22', 0], ['22', '21', 14], ['22', '23', 14], ['23', '23', 0], ['23', '21', 38], ['23', '22', 14], ['24', '24', 0], ['24', '37', 33], ['24', '38', 70], ['25', '25', 0], ['25', '7', 83], ['25', '27', 136], ['26', '26', 0], ['26', '1', 157], ['26', '3', 131], ['27', '27', 0], ['27', '5', 67], ['27', '28', 91], ['28', '28', 0], ['28', '5', 65], ['28', '29', 47], ['29', '29', 0], ['29', '6', 34], ['29', '28', 47], ['30', '30', 0], ['30', '1', 32], ['30', '10', 60], ['31', '31', 0], ['31', '5', 38], ['31', '6', 64], ['32', '32', 0], ['32', '33', 37], ['32', '48', 60], ['33', '33', 0], ['33', '32', 37], ['33', '48', 43], ['34', '34', 0], ['34', '10', 72], ['34', '35', 54], ['35', '35', 0], ['35', '9', 81], ['35', '34', 54], ['36', '36', 0], ['36', '15', 27], ['36', '17', 84], ['37', '37', 0], ['37', '24', 33], ['37', '38', 10], ['38', '38', 0], ['38', '37', 10], ['38', '39', 7], ['39', '39', 0], ['39', '38', 7], ['39', '40', 44], ['40', '40', 0], ['40', '41', 16], ['40', '43', 22], ['41', '41', 0], ['41', '40', 16], ['41', '42', 27], ['42', '42', 0], ['42', '41', 27], ['42', '43', 13], ['43', '43', 0], ['43', '40', 22], ['43', '42', 13], ['44', '44', 0], ['44', '12', 16], ['44', '45', 45], ['45', '45', 0], ['45', '12', 16], ['45', '46', 14], ['46', '46', 0], ['46', '45', 14], ['46', '47', 17], ['47', '47', 0], ['47', '11', 14], ['47', '46', 17], ['48', '48', 0], ['48', '11', 37], ['48', '49', 20], ['49', '49', 0], ['49', '11', 15], ['49', '48', 20]]}, '93380187': {'objects': ['0', '1', '2', '3', '4', '5', '6', '7', '8', '9', '10', '11', '12', '13', '14', '15', '16', '17', '18', '19', '20', '21', '22', '23', '24', '25', '26', '27', '28', '29', '30', '31', '32', '33', '34', '35', '36', '37', '38', '39', '40', '41', '42', '43', '44', '45', '46', '47', '48', '49', '50', '51', '52', '53', '54', '55', '56', '57', '58', '59', '60', '61', '62', '63', '64', '65', '66', '67', '68', '69'], 'relationships': [['0', '0', 0], ['0', '1', 77], ['0', '21', 50], ['1', '1', 0], ['1', '2', 14], ['1', '3', 44], ['2', '2', 0], ['2', '1', 14], ['2', '3', 19], ['3', '3', 0], ['3', '1', 44], ['3', '2', 19], ['4', '4', 0], ['4', '29', 38], ['4', '46', 17], ['5', '5', 0], ['5', '48', 20], ['5', '49', 19], ['6', '6', 0], ['6', '7', 8], ['6', '60', 7], ['7', '7', 0], ['7', '6', 8], ['7', '8', 12], ['8', '8', 0], ['8', '7', 12], ['8', '9', 7], ['9', '9', 0], ['9', '8', 7], ['9', '10', 6], ['10', '10', 0], ['10', '9', 6], ['10', '69', 7], ['11', '11', 0], ['11', '62', 5], ['11', '63', 5], ['12', '12', 0], ['12', '13', 7], ['12', '63', 3], ['13', '13', 0], ['13', '12', 7], ['13', '64', 3], ['14', '14', 0], ['14', '17', 5], ['14', '65', 4], ['15', '15', 0], ['15', '67', 2], ['15', '68', 39], ['16', '16', 0], ['16', '66', 6], ['16', '67', 8], ['17', '17', 0], ['17', '14', 5], ['17', '65', 19], ['18', '18', 0], ['18', '19', 14], ['18', '55', 28], ['19', '19', 0], ['19', '18', 14], ['19', '58', 19], ['20', '20', 0], ['20', '18', 100], ['20', '54', 112], ['21', '21', 0], ['21', '24', 14], ['21', '25', 49], ['22', '22', 0], ['22', '21', 63], ['22', '23', 13], ['23', '23', 0], ['23', '21', 174], ['23', '22', 13], ['24', '24', 0], ['24', '21', 14], ['24', '25', 14], ['25', '25', 0], ['25', '24', 14], ['25', '26', 15], ['26', '26', 0], ['26', '25', 15], ['26', '27', 15], ['27', '27', 0], ['27', '26', 15], ['27', '28', 18], ['28', '28', 0], ['28', '26', 18], ['28', '27', 18], ['29', '29', 0], ['29', '4', 38], ['29', '26', 36], ['30', '30', 0], ['30', '31', 19], ['30', '32', 49], ['31', '31', 0], ['31', '30', 19], ['31', '32', 15], ['32', '32', 0], ['32', '31', 15], ['32', '33', 18], ['33', '33', 0], ['33', '32', 18], ['33', '34', 15], ['34', '34', 0], ['34', '33', 15], ['34', '35', 17], ['35', '35', 0], ['35', '34', 17], ['35', '36', 17], ['36', '36', 0], ['36', '35', 17], ['36', '37', 17], ['37', '37', 0], ['37', '36', 17], ['37', '38', 18], ['38', '38', 0], ['38', '37', 18], ['38', '39', 15], ['39', '39', 0], ['39', '38', 15], ['39', '40', 16], ['40', '40', 0], ['40', '39', 16], ['40', '41', 15], ['41', '41', 0], ['41', '40', 15], ['41', '42', 32], ['42', '42', 0], ['42', '41', 32], ['42', '43', 15], ['43', '43', 0], ['43', '42', 15], ['43', '44', 19], ['44', '44', 0], ['44', '43', 19], ['44', '45', 30], ['45', '45', 0], ['45', '44', 30], ['45', '59', 14], ['46', '46', 0], ['46', '4', 17], ['46', '29', 68], ['47', '47', 0], ['47', '5', 53], ['47', '48', 18], ['48', '48', 0], ['48', '5', 20], ['48', '47', 18], ['49', '49', 0], ['49', '5', 19], ['49', '50', 14], ['50', '50', 0], ['50', '49', 14], ['50', '51', 16], ['51', '51', 0], ['51', '49', 46], ['51', '50', 16], ['52', '52', 0], ['52', '51', 54], ['52', '53', 6], ['53', '53', 0], ['53', '44', 84], ['53', '52', 6], ['54', '54', 0], ['54', '55', 17], ['54', '56', 35], ['55', '55', 0], ['55', '54', 17], ['55', '56', 3], ['55', '57', 17], ['56', '56', 0], ['56', '55', 3], ['56', '57', 2], ['57', '57', 0], ['57', '55', 17], ['57', '56', 2], ['58', '58', 0], ['58', '19', 19], ['58', '57', 29], ['59', '59', 0], ['59', '45', 14], ['59', '61', 8], ['60', '60', 0], ['60', '6', 7], ['60', '7', 21], ['61', '61', 0], ['61', '59', 8], ['61', '62', 6], ['62', '62', 0], ['62', '11', 5], ['62', '61', 6], ['63', '63', 0], ['63', '11', 5], ['63', '12', 3], ['64', '64', 0], ['64', '13', 3], ['64', '65', 6], ['65', '65', 0], ['65', '14', 4], ['65', '64', 6], ['66', '66', 0], ['66', '16', 6], ['66', '67', 19], ['67', '67', 0], ['67', '15', 2], ['67', '68', 5], ['68', '68', 0], ['68', '67', 5], ['68', '69', 6], ['69', '69', 0], ['69', '10', 7], ['69', '68', 6]]}, '0060036622': {'objects': ['0', '1', '2', '3', '4', '5', '6', '7', '8', '9', '10', '11', '12', '13', '14', '15', '16', '17', '18', '19', '20', '21', '22', '23', '24', '25', '26', '27', '28', '29', '30', '31', '32', '33', '34'], 'relationships': [['0', '0', 0], ['0', '9', 28], ['0', '12', 41], ['1', '1', 0], ['1', '13', 36], ['1', '14', 9], ['2', '2', 0], ['2', '4', 55], ['2', '6', 9], ['3', '3', 0], ['3', '4', 7], ['3', '6', 28], ['4', '4', 0], ['4', '3', 7], ['4', '17', 41], ['5', '5', 0], ['5', '31', 82], ['5', '34', 59], ['6', '6', 0], ['6', '2', 9], ['6', '3', 28], ['7', '7', 0], ['7', '17', 37], ['7', '18', 40], ['8', '8', 0], ['8', '29', 38], ['8', '33', 96], ['9', '9', 0], ['9', '12', 1], ['9', '13', 15], ['10', '10', 0], ['10', '11', 14], ['10', '12', 64], ['11', '11', 0], ['11', '10', 14], ['11', '12', 50], ['12', '12', 0], ['12', '9', 1], ['12', '13', 14], ['13', '13', 0], ['13', '12', 14], ['13', '14', 13], ['14', '14', 0], ['14', '1', 9], ['14', '13', 13], ['15', '15', 0], ['15', '1', 56], ['15', '6', 41], ['16', '16', 0], ['16', '2', 58], ['16', '18', 74], ['17', '17', 0], ['17', '4', 41], ['17', '7', 37], ['18', '18', 0], ['18', '7', 40], ['18', '16', 74], ['19', '19', 0], ['19', '3', 72], ['19', '20', 61], ['20', '20', 0], ['20', '19', 61], ['20', '26', 38], ['21', '21', 0], ['21', '22', 14], ['21', '23', 14], ['21', '26', 14], ['22', '22', 0], ['22', '21', 14], ['22', '24', 11], ['23', '23', 0], ['23', '21', 14], ['23', '22', 15], ['24', '24', 0], ['24', '22', 11], ['24', '23', 16], ['25', '25', 0], ['25', '24', 138], ['25', '27', 44], ['26', '26', 0], ['26', '21', 14], ['26', '22', 18], ['27', '27', 0], ['27', '25', 44], ['27', '28', 75], ['28', '28', 0], ['28', '29', 30], ['28', '30', 58], ['29', '29', 0], ['29', '28', 30], ['29', '30', 11], ['30', '30', 0], ['30', '29', 11], ['30', '32', 12], ['31', '31', 0], ['31', '33', 60], ['31', '34', 29], ['32', '32', 0], ['32', '29', 41], ['32', '30', 12], ['33', '33', 0], ['33', '31', 60], ['33', '34', 47], ['34', '34', 0], ['34', '31', 29], ['34', '33', 47]]}, '91914407': {'objects': ['0', '1', '2', '3', '4', '5', '6', '7', '8', '9', '10', '11', '12', '13', '14', '15', '16', '17', '18', '19', '20', '21', '22', '23', '24', '25', '26', '27', '28', '29'], 'relationships': [['0', '0', 0], ['0', '1', 115], ['0', '12', 25], ['1', '1', 0], ['1', '2', 59], ['1', '16', 93], ['2', '2', 0], ['2', '1', 59], ['2', '15', 52], ['3', '3', 0], ['3', '12', 68], ['3', '15', 115], ['4', '4', 0], ['4', '17', 57], ['4', '20', 65], ['5', '5', 0], ['5', '6', 19], ['5', '20', 20], ['6', '6', 0], ['6', '5', 19], ['6', '22', 23], ['7', '7', 0], ['7', '18', 59], ['7', '19', 186], ['8', '8', 0], ['8', '23', 21], ['8', '25', 26], ['9', '9', 0], ['9', '25', 39], ['9', '27', 50], ['10', '10', 0], ['10', '27', 102], ['10', '28', 9], ['11', '11', 0], ['11', '27', 234], ['11', '29', 88], ['12', '12', 0], ['12', '0', 25], ['12', '3', 68], ['13', '13', 0], ['13', '0', 146], ['13', '14', 38], ['14', '14', 0], ['14', '13', 38], ['14', '15', 248], ['15', '15', 0], ['15', '1', 109], ['15', '2', 52], ['16', '16', 0], ['16', '1', 93], ['16', '17', 97], ['17', '17', 0], ['17', '4', 57], ['17', '16', 97], ['18', '18', 0], ['18', '7', 59], ['18', '19', 3], ['19', '19', 0], ['19', '18', 3], ['19', '20', 71], ['20', '20', 0], ['20', '5', 20], ['20', '6', 59], ['21', '21', 0], ['21', '5', 77], ['21', '6', 104], ['22', '22', 0], ['22', '6', 23], ['22', '23', 38], ['23', '23', 0], ['23', '8', 21], ['23', '22', 38], ['24', '24', 0], ['24', '26', 89], ['24', '27', 89], ['25', '25', 0], ['25', '8', 26], ['25', '26', 9], ['26', '26', 0], ['26', '24', 89], ['26', '25', 9], ['27', '27', 0], ['27', '9', 50], ['27', '24', 89], ['28', '28', 0], ['28', '10', 9], ['28', '26', 121], ['29', '29', 0], ['29', '9', 165], ['29', '11', 88]]}, '71601299': {'objects': ['0', '1', '2', '3', '4', '5', '6', '7', '8', '9', '10', '11', '12', '13', '14', '15', '16', '17', '18', '19', '20', '21', '22', '23', '24', '25', '26', '27', '28', '29', '30', '31', '32', '33', '34', '35', '36'], 'relationships': [['0', '0', 0], ['0', '7', 25], ['0', '9', 16], ['1', '1', 0], ['1', '2', 4], ['1', '14', 5], ['2', '2', 0], ['2', '1', 4], ['2', '16', 18], ['3', '3', 0], ['3', '18', 60], ['3', '19', 2], ['4', '4', 0], ['4', '25', 239], ['4', '28', 150], ['5', '5', 0], ['5', '3', 106], ['5', '23', 74], ['6', '6', 0], ['6', '7', 69], ['6', '8', 99], ['7', '7', 0], ['7', '0', 25], ['7', '8', 59], ['8', '8', 0], ['8', '9', 22], ['8', '11', 30], ['9', '9', 0], ['9', '0', 16], ['9', '10', 15], ['10', '10', 0], ['10', '9', 15], ['10', '11', 27], ['11', '11', 0], ['11', '8', 30], ['11', '10', 27], ['12', '12', 0], ['12', '11', 86], ['12', '13', 25], ['13', '13', 0], ['13', '12', 25], ['13', '14', 149], ['14', '14', 0], ['14', '1', 5], ['14', '11', 31], ['15', '15', 0], ['15', '14', 81], ['15', '16', 4], ['16', '16', 0], ['16', '15', 4], ['16', '17', 16], ['17', '17', 0], ['17', '16', 16], ['17', '18', 14], ['18', '18', 0], ['18', '17', 14], ['18', '19', 19], ['19', '19', 0], ['19', '3', 2], ['19', '18', 19], ['19', '20', 19], ['20', '20', 0], ['20', '19', 19], ['20', '21', 20], ['21', '21', 0], ['21', '20', 20], ['21', '22', 16], ['22', '22', 0], ['22', '21', 16], ['22', '23', 4], ['23', '23', 0], ['23', '5', 74], ['23', '22', 4], ['24', '24', 0], ['24', '22', 17], ['24', '25', 3], ['25', '25', 0], ['25', '23', 87], ['25', '24', 3], ['26', '26', 0], ['26', '27', 3], ['26', '28', 18], ['27', '27', 0], ['27', '23', 87], ['27', '26', 3], ['28', '28', 0], ['28', '26', 18], ['28', '29', 16], ['29', '29', 0], ['29', '28', 16], ['29', '31', 15], ['30', '30', 0], ['30', '24', 118], ['30', '25', 99], ['31', '31', 0], ['31', '29', 15], ['31', '32', 18], ['32', '32', 0], ['32', '29', 34], ['32', '31', 18], ['33', '33', 0], ['33', '34', 31], ['33', '35', 29], ['34', '34', 0], ['34', '33', 31], ['34', '35', 32], ['35', '35', 0], ['35', '33', 29], ['35', '34', 32], ['36', '36', 0], ['36', '34', 262], ['36', '35', 234]]}, '12052385': {'objects': ['0', '1', '2', '3', '4', '5', '6', '7', '8', '9', '10', '11', '12', '13', '14', '15', '16', '17', '18', '19'], 'relationships': [['0', '0', 0], ['0', '1', 53], ['0', '9', 5], ['1', '1', 0], ['1', '9', 39], ['1', '10', 49], ['2', '2', 0], ['2', '15', 29], ['2', '16', 25], ['3', '3', 0], ['3', '14', 324], ['3', '18', 182], ['4', '4', 0], ['4', '17', 95], ['4', '18', 124], ['5', '5', 0], ['5', '6', 73], ['5', '19', 450], ['6', '6', 0], ['6', '3', 344], ['6', '5', 73], ['7', '7', 0], ['7', '8', 35], ['7', '14', 250], ['8', '8', 0], ['8', '7', 35], ['8', '14', 322], ['9', '9', 0], ['9', '0', 5], ['9', '1', 39], ['10', '10', 0], ['10', '1', 49], ['10', '9', 49], ['11', '11', 0], ['11', '12', 23], ['11', '15', 37], ['12', '12', 0], ['12', '11', 23], ['12', '13', 25], ['13', '13', 0], ['13', '12', 25], ['13', '16', 8], ['14', '14', 0], ['14', '12', 209], ['14', '13', 105], ['15', '15', 0], ['15', '2', 29], ['15', '11', 37], ['16', '16', 0], ['16', '2', 25], ['16', '13', 8], ['17', '17', 0], ['17', '4', 95], ['17', '18', 149], ['18', '18', 0], ['18', '4', 124], ['18', '17', 149], ['19', '19', 0], ['19', '5', 450], ['19', '6', 386]]}, '0030031163': {'objects': ['0', '1', '2', '3', '4', '5', '6', '7', '8', '9', '10', '11', '12', '13', '14', '15', '16', '17', '18', '19', '20', '21', '22', '23', '24', '25'], 'relationships': [['0', '0', 0], ['0', '12', 45], ['0', '14', 16], ['1', '1', 0], ['1', '4', 28], ['1', '5', 13], ['2', '2', 0], ['2', '22', 35], ['2', '23', 18], ['3', '3', 0], ['3', '18', 347], ['3', '24', 64], ['4', '4', 0], ['4', '5', 5], ['4', '12', 17], ['5', '5', 0], ['5', '1', 13], ['5', '4', 5], ['6', '6', 0], ['6', '7', 34], ['6', '9', 200], ['7', '7', 0], ['7', '6', 34], ['7', '9', 105], ['8', '8', 0], ['8', '10', 71], ['8', '12', 139], ['9', '9', 0], ['9', '7', 105], ['9', '11', 78], ['10', '10', 0], ['10', '8', 71], ['10', '12', 48], ['11', '11', 0], ['11', '7', 147], ['11', '9', 78], ['12', '12', 0], ['12', '4', 17], ['12', '5', 35], ['13', '13', 0], ['13', '0', 69], ['13', '12', 77], ['14', '14', 0], ['14', '0', 16], ['14', '12', 75], ['15', '15', 0], ['15', '16', 95], ['15', '17', 135], ['16', '16', 0], ['16', '15', 95], ['16', '18', 50], ['16', '19', 95], ['17', '17', 0], ['17', '15', 135], ['17', '19', 172], ['18', '18', 0], ['18', '19', 15], ['18', '20', 32], ['19', '19', 0], ['19', '18', 15], ['19', '20', 1], ['20', '20', 0], ['20', '19', 1], ['20', '21', 3], ['21', '21', 0], ['21', '20', 3], ['21', '22', 2], ['22', '22', 0], ['22', '20', 18], ['22', '21', 2], ['23', '23', 0], ['23', '2', 18], ['23', '22', 66], ['24', '24', 0], ['24', '3', 64], ['24', '25', 38], ['25', '25', 0], ['25', '23', 99], ['25', '24', 38]]}, '0000999294': {'objects': ['0', '1', '2', '3', '4', '5', '6', '7', '8', '9', '10', '11', '12', '13', '14', '15', '16', '17', '18', '19', '20', '21', '22', '23', '24', '25', '26', '27', '28', '29', '30', '31', '32', '33', '34', '35', '36', '37', '38', '39', '40', '41', '42', '43', '44', '45', '46', '47', '48', '49', '50', '51', '52', '53', '54', '55', '56', '57', '58', '59', '60', '61', '62', '63', '64', '65', '66', '67', '68', '69', '70', '71', '72', '73', '74', '75', '76', '77', '78', '79', '80', '81', '82', '83', '84', '85', '86', '87', '88', '89', '90', '91', '92', '93', '94', '95', '96', '97', '98', '99', '100', '101', '102', '103', '104', '105', '106', '107', '108', '109', '110', '111', '112', '113', '114', '115', '116', '117', '118', '119', '120', '121', '122', '123', '124', '125', '126', '127', '128', '129', '130', '131', '132', '133', '134', '135', '136', '137', '138', '139', '140', '141', '142', '143', '144', '145', '146', '147', '148', '149', '150', '151', '152', '153', '154', '155', '156', '157', '158', '159', '160', '161', '162', '163', '164', '165', '166', '167', '168', '169', '170', '171', '172', '173', '174', '175', '176', '177', '178', '179', '180'], 'relationships': [['0', '0', 0], ['0', '1', 18], ['0', '139', 32], ['1', '1', 0], ['1', '0', 18], ['1', '149', 40], ['2', '2', 0], ['2', '149', 19], ['2', '150', 15], ['3', '3', 0], ['3', '4', 17], ['3', '5', 17], ['4', '4', 0], ['4', '3', 17], ['4', '6', 19], ['5', '5', 0], ['5', '3', 17], ['5', '6', 4], ['6', '6', 0], ['6', '4', 19], ['6', '5', 4], ['7', '7', 0], ['7', '5', 19], ['7', '8', 15], ['8', '8', 0], ['8', '6', 27], ['8', '7', 15], ['9', '9', 0], ['9', '7', 26], ['9', '153', 20], ['10', '10', 0], ['10', '153', 29], ['10', '154', 40], ['11', '11', 0], ['11', '2', 105], ['11', '151', 94], ['12', '12', 0], ['12', '165', 14], ['12', '166', 19], ['13', '13', 0], ['13', '22', 22], ['13', '29', 18], ['14', '14', 0], ['14', '21', 17], ['14', '30', 18], ['15', '15', 0], ['15', '20', 21], ['15', '31', 22], ['16', '16', 0], ['16', '19', 22], ['16', '32', 21], ['17', '17', 0], ['17', '18', 20], ['17', '33', 23], ['18', '18', 0], ['18', '17', 20], ['18', '27', 13], ['19', '19', 0], ['19', '16', 22], ['19', '26', 16], ['20', '20', 0], ['20', '15', 21], ['20', '25', 16], ['21', '21', 0], ['21', '14', 17], ['21', '24', 13], ['22', '22', 0], ['22', '13', 22], ['22', '23', 14], ['23', '23', 0], ['23', '22', 14], ['23', '37', 30], ['24', '24', 0], ['24', '14', 45], ['24', '21', 13], ['24', '25', 45], ['25', '25', 0], ['25', '20', 16], ['25', '26', 39], ['26', '26', 0], ['26', '19', 16], ['26', '27', 36], ['27', '27', 0], ['27', '18', 13], ['27', '26', 36], ['28', '28', 0], ['28', '39', 59], ['28', '168', 43], ['29', '29', 0], ['29', '13', 18], ['29', '160', 32], ['30', '30', 0], ['30', '14', 18], ['30', '161', 31], ['31', '31', 0], ['31', '15', 22], ['31', '30', 37], ['32', '32', 0], ['32', '16', 21], ['32', '33', 23], ['33', '33', 0], ['33', '17', 23], ['33', '32', 23], ['34', '34', 0], ['34', '160', 43], ['34', '165', 60], ['35', '35', 0], ['35', '39', 31], ['35', '40', 30], ['36', '36', 0], ['36', '41', 28], ['36', '42', 32], ['37', '37', 0], ['37', '23', 30], ['37', '43', 20], ['38', '38', 0], ['38', '47', 34], ['38', '48', 29], ['39', '39', 0], ['39', '40', 23], ['39', '53', 16], ['40', '40', 0], ['40', '39', 23], ['40', '41', 20], ['41', '41', 0], ['41', '40', 20], ['41', '51', 20], ['42', '42', 0], ['42', '43', 17], ['42', '50', 26], ['43', '43', 0], ['43', '37', 20], ['43', '42', 17], ['44', '44', 0], ['44', '43', 23], ['44', '45', 22], ['45', '45', 0], ['45', '44', 22], ['45', '91', 22], ['46', '46', 0], ['46', '47', 14], ['46', '98', 26], ['47', '47', 0], ['47', '46', 14], ['47', '105', 17], ['48', '48', 0], ['48', '47', 28], ['48', '112', 23], ['49', '49', 0], ['49', '50', 17], ['49', '81', 17], ['50', '50', 0], ['50', '49', 17], ['50', '82', 18], ['51', '51', 0], ['51', '41', 20], ['51', '52', 19], ['51', '61', 20], ['52', '52', 0], ['52', '53', 10], ['52', '60', 17], ['53', '53', 0], ['53', '52', 10], ['53', '54', 14], ['54', '54', 0], ['54', '53', 14], ['54', '60', 11], ['55', '55', 0], ['55', '54', 17], ['55', '63', 18], ['56', '56', 0], ['56', '64', 2], ['56', '171', 17], ['57', '57', 0], ['57', '56', 18], ['57', '67', 10], ['58', '58', 0], ['58', '57', 20], ['58', '68', 5], ['59', '59', 0], ['59', '69', 25], ['59', '174', 25], ['60', '60', 0], ['60', '54', 11], ['60', '61', 14], ['61', '61', 0], ['61', '51', 20], ['61', '60', 14], ['61', '62', 20], ['62', '62', 0], ['62', '63', 8], ['62', '83', 15], ['63', '63', 0], ['63', '55', 18], ['63', '62', 8], ['63', '64', 18], ['64', '64', 0], ['64', '56', 2], ['64', '65', 9], ['64', '67', 9], ['65', '65', 0], ['65', '64', 9], ['65', '66', 8], ['66', '66', 0], ['66', '65', 8], ['66', '67', 10], ['67', '67', 0], ['67', '57', 10], ['67', '64', 9], ['67', '66', 10], ['68', '68', 0], ['68', '58', 5], ['68', '71', 10], ['69', '69', 0], ['69', '68', 16], ['69', '70', 6], ['70', '70', 0], ['70', '69', 6], ['70', '71', 21], ['71', '71', 0], ['71', '66', 16], ['71', '68', 10], ['72', '72', 0], ['72', '65', 14], ['72', '73', 9], ['72', '79', 14], ['73', '73', 0], ['73', '72', 9], ['73', '78', 16], ['74', '74', 0], ['74', '73', 17], ['74', '75', 17], ['74', '77', 8], ['75', '75', 0], ['75', '74', 17], ['75', '76', 11], ['76', '76', 0], ['76', '75', 11], ['76', '77', 20], ['77', '77', 0], ['77', '74', 8], ['77', '76', 20], ['78', '78', 0], ['78', '73', 16], ['78', '79', 12], ['79', '79', 0], ['79', '78', 12], ['79', '80', 12], ['80', '80', 0], ['80', '79', 12], ['80', '86', 10], ['81', '81', 0], ['81', '49', 17], ['81', '80', 14], ['81', '82', 17], ['82', '82', 0], ['82', '50', 18], ['82', '81', 17], ['83', '83', 0], ['83', '62', 15], ['83', '72', 17], ['84', '84', 0], ['84', '85', 18], ['84', '91', 14], ['85', '85', 0], ['85', '86', 15], ['85', '92', 14], ['86', '86', 0], ['86', '80', 10], ['86', '93', 13], ['87', '87', 0], ['87', '88', 16], ['87', '94', 18], ['88', '88', 0], ['88', '87', 16], ['88', '95', 12], ['89', '89', 0], ['89', '90', 17], ['89', '96', 19], ['90', '90', 0], ['90', '89', 17], ['90', '97', 18], ['91', '91', 0], ['91', '84', 14], ['91', '92', 18], ['91', '98', 18], ['92', '92', 0], ['92', '85', 14], ['92', '91', 18], ['93', '93', 0], ['93', '86', 13], ['93', '94', 14], ['94', '94', 0], ['94', '95', 8], ['94', '101', 13], ['95', '95', 0], ['95', '88', 12], ['95', '94', 8], ['96', '96', 0], ['96', '89', 19], ['96', '95', 14], ['96', '97', 19], ['97', '97', 0], ['97', '90', 18], ['97', '96', 19], ['98', '98', 0], ['98', '91', 18], ['98', '99', 18], ['98', '105', 17], ['99', '99', 0], ['99', '98', 18], ['99', '106', 16], ['100', '100', 0], ['100', '101', 16], ['100', '107', 12], ['101', '101', 0], ['101', '94', 13], ['101', '102', 12], ['102', '102', 0], ['102', '95', 20], ['102', '101', 12], ['103', '103', 0], ['103', '102', 21], ['103', '104', 14], ['104', '104', 0], ['104', '103', 14], ['104', '135', 10], ['105', '105', 0], ['105', '47', 17], ['105', '98', 17], ['106', '106', 0], ['106', '99', 16], ['106', '113', 14], ['107', '107', 0], ['107', '100', 12], ['107', '114', 6], ['108', '108', 0], ['108', '109', 8], ['108', '115', 12], ['109', '109', 0], ['109', '108', 8], ['109', '116', 11], ['110', '110', 0], ['110', '109', 18], ['110', '117', 9], ['111', '111', 0], ['111', '104', 16], ['111', '110', 20], ['112', '112', 0], ['112', '105', 22], ['112', '113', 22], ['113', '113', 0], ['113', '106', 14], ['113', '112', 22], ['114', '114', 0], ['114', '107', 6], ['114', '115', 20], ['115', '115', 0], ['115', '108', 12], ['115', '116', 18], ['116', '116', 0], ['116', '109', 11], ['116', '115', 18], ['117', '117', 0], ['117', '110', 9], ['117', '116', 19], ['118', '118', 0], ['118', '111', 24], ['118', '117', 21], ['119', '119', 0], ['119', '134', 94], ['119', '135', 81], ['120', '120', 0], ['120', '121', 11], ['120', '124', 23], ['121', '121', 0], ['121', '120', 11], ['121', '122', 8], ['122', '122', 0], ['122', '121', 8], ['122', '180', 8], ['123', '123', 0], ['123', '124', 3], ['123', '138', 8], ['124', '124', 0], ['124', '120', 23], ['124', '123', 3], ['125', '125', 0], ['125', '59', 36], ['125', '127', 14], ['126', '126', 0], ['126', '69', 30], ['126', '127', 17], ['127', '127', 0], ['127', '125', 14], ['127', '126', 17], ['128', '128', 0], ['128', '75', 21], ['128', '129', 7], ['129', '129', 0], ['129', '128', 7], ['129', '130', 5], ['130', '130', 0], ['130', '129', 5], ['130', '131', 4], ['131', '131', 0], ['131', '130', 4], ['131', '133', 26], ['132', '132', 0], ['132', '90', 30], ['132', '133', 7], ['133', '133', 0], ['133', '132', 7], ['133', '134', 3], ['134', '134', 0], ['134', '97', 29], ['134', '133', 3], ['135', '135', 0], ['135', '104', 10], ['135', '111', 33], ['136', '136', 0], ['136', '111', 23], ['136', '137', 6], ['137', '137', 0], ['137', '111', 30], ['137', '136', 6], ['138', '138', 0], ['138', '123', 8], ['138', '174', 30], ['139', '139', 0], ['139', '0', 32], ['139', '1', 64], ['140', '140', 0], ['140', '141', 21], ['140', '143', 11], ['141', '141', 0], ['141', '142', 6], ['141', '144', 7], ['142', '142', 0], ['142', '141', 6], ['142', '145', 2], ['143', '143', 0], ['143', '140', 11], ['143', '141', 16], ['144', '144', 0], ['144', '141', 7], ['144', '142', 17], ['145', '145', 0], ['145', '141', 22], ['145', '142', 2], ['146', '146', 0], ['146', '0', 66], ['146', '147', 9], ['147', '147', 0], ['147', '146', 9], ['147', '148', 16], ['148', '148', 0], ['148', '147', 16], ['148', '150', 42], ['149', '149', 0], ['149', '1', 40], ['149', '2', 19], ['149', '150', 40], ['150', '150', 0], ['150', '2', 15], ['150', '152', 12], ['151', '151', 0], ['151', '157', 26], ['151', '158', 14], ['152', '152', 0], ['152', '150', 12], ['152', '158', 13], ['153', '153', 0], ['153', '9', 20], ['153', '10', 29], ['154', '154', 0], ['154', '8', 31], ['154', '155', 30], ['155', '155', 0], ['155', '6', 24], ['155', '156', 21], ['156', '156', 0], ['156', '4', 26], ['156', '155', 21], ['157', '157', 0], ['157', '152', 25], ['157', '158', 16], ['158', '158', 0], ['158', '151', 14], ['158', '152', 13], ['159', '159', 0], ['159', '156', 54], ['159', '161', 25], ['160', '160', 0], ['160', '29', 32], ['160', '161', 35], ['161', '161', 0], ['161', '159', 25], ['161', '162', 29], ['162', '162', 0], ['162', '161', 29], ['162', '163', 29], ['163', '163', 0], ['163', '162', 29], ['163', '164', 25], ['164', '164', 0], ['164', '33', 36], ['164', '163', 25], ['165', '165', 0], ['165', '12', 14], ['165', '166', 48], ['166', '166', 0], ['166', '12', 19], ['166', '165', 48], ['167', '167', 0], ['167', '45', 30], ['167', '46', 34], ['168', '168', 0], ['168', '53', 22], ['168', '169', 3], ['169', '169', 0], ['169', '54', 22], ['169', '168', 3], ['170', '170', 0], ['170', '55', 26], ['170', '171', 5], ['171', '171', 0], ['171', '56', 17], ['171', '170', 5], ['172', '172', 0], ['172', '171', 30], ['172', '173', 5], ['173', '173', 0], ['173', '172', 5], ['173', '174', 7], ['174', '174', 0], ['174', '59', 25], ['174', '173', 7], ['175', '175', 0], ['175', '176', 9], ['175', '179', 5], ['176', '176', 0], ['176', '175', 9], ['176', '178', 13], ['177', '177', 0], ['177', '176', 18], ['177', '178', 17], ['178', '178', 0], ['178', '176', 13], ['178', '180', 16], ['179', '179', 0], ['179', '121', 15], ['179', '175', 5], ['180', '180', 0], ['180', '122', 8], ['180', '178', 16]]}, '91939637': {'objects': ['0', '1', '2', '3', '4', '5', '6', '7', '8', '9', '10', '11', '12', '13', '14', '15', '16', '17', '18', '19', '20', '21', '22', '23', '24', '25', '26', '27', '28', '29', '30', '31', '32', '33', '34', '35', '36', '37', '38', '39', '40'], 'relationships': [['0', '0', 0], ['0', '1', 22], ['0', '17', 166], ['1', '1', 0], ['1', '0', 22], ['1', '16', 114], ['2', '2', 0], ['2', '22', 192], ['2', '25', 314], ['3', '3', 0], ['3', '5', 30], ['3', '26', 41], ['4', '4', 0], ['4', '5', 20], ['4', '8', 42], ['5', '5', 0], ['5', '3', 30], ['5', '4', 20], ['6', '6', 0], ['6', '4', 120], ['6', '7', 4], ['7', '7', 0], ['7', '4', 82], ['7', '6', 4], ['8', '8', 0], ['8', '4', 42], ['8', '5', 71], ['9', '9', 0], ['9', '19', 5], ['9', '23', 13], ['10', '10', 0], ['10', '12', 55], ['10', '35', 28], ['11', '11', 0], ['11', '32', 23], ['11', '33', 51], ['12', '12', 0], ['12', '10', 55], ['12', '30', 44], ['13', '13', 0], ['13', '38', 52], ['13', '40', 53], ['14', '14', 0], ['14', '15', 154], ['14', '37', 214], ['15', '15', 0], ['15', '14', 154], ['15', '31', 138], ['16', '16', 0], ['16', '18', 90], ['16', '19', 98], ['17', '17', 0], ['17', '21', 12], ['17', '22', 20], ['18', '18', 0], ['18', '19', 22], ['18', '22', 11], ['19', '19', 0], ['19', '9', 5], ['19', '23', 18], ['20', '20', 0], ['20', '9', 17], ['20', '23', 8], ['21', '21', 0], ['21', '9', 17], ['21', '17', 12], ['22', '22', 0], ['22', '18', 11], ['22', '23', 10], ['23', '23', 0], ['23', '20', 8], ['23', '22', 10], ['24', '24', 0], ['24', '19', 71], ['24', '25', 57], ['25', '25', 0], ['25', '24', 57], ['25', '26', 51], ['26', '26', 0], ['26', '3', 41], ['26', '25', 51], ['27', '27', 0], ['27', '4', 144], ['27', '25', 90], ['28', '28', 0], ['28', '6', 134], ['28', '29', 73], ['29', '29', 0], ['29', '11', 145], ['29', '28', 73], ['30', '30', 0], ['30', '11', 59], ['30', '12', 44], ['31', '31', 0], ['31', '10', 73], ['31', '35', 81], ['32', '32', 0], ['32', '11', 23], ['32', '33', 13], ['33', '33', 0], ['33', '32', 13], ['33', '34', 16], ['34', '34', 0], ['34', '32', 42], ['34', '33', 16], ['35', '35', 0], ['35', '10', 28], ['35', '36', 16], ['36', '36', 0], ['36', '35', 16], ['36', '37', 23], ['37', '37', 0], ['37', '35', 46], ['37', '36', 23], ['38', '38', 0], ['38', '13', 52], ['38', '39', 5], ['39', '39', 0], ['39', '38', 5], ['39', '40', 56], ['40', '40', 0], ['40', '13', 53], ['40', '39', 56]]}, '71341634': {'objects': ['0', '1', '2', '3', '4', '5', '6', '7', '8', '9', '10', '11', '12', '13', '14', '15', '16', '17', '18', '19', '20', '21', '22', '23', '24', '25', '26', '27', '28', '29', '30', '31', '32', '33', '34', '35', '36', '37', '38', '39', '40', '41', '42', '43', '44', '45', '46', '47', '48', '49', '50', '51', '52', '53', '54', '55', '56', '57', '58', '59', '60', '61', '62', '63', '64', '65', '66', '67', '68', '69', '70', '71', '72', '73', '74', '75', '76', '77', '78', '79', '80', '81', '82', '83', '84', '85', '86', '87', '88', '89', '90', '91', '92', '93', '94', '95', '96', '97', '98', '99', '100', '101', '102', '103'], 'relationships': [['0', '0', 0], ['0', '1', 10], ['0', '42', 6], ['1', '1', 0], ['1', '0', 10], ['1', '2', 11], ['2', '2', 0], ['2', '1', 11], ['2', '100', 52], ['2', '101', 52], ['3', '3', 0], ['3', '91', 7], ['3', '92', 40], ['4', '4', 0], ['4', '42', 8], ['4', '98', 31], ['5', '5', 0], ['5', '6', 7], ['5', '85', 3], ['6', '6', 0], ['6', '5', 7], ['6', '88', 17], ['7', '7', 0], ['7', '89', 79], ['7', '90', 53], ['8', '8', 0], ['8', '87', 49], ['8', '88', 24], ['9', '9', 0], ['9', '10', 12], ['9', '88', 40], ['10', '10', 0], ['10', '9', 12], ['10', '88', 31], ['11', '11', 0], ['11', '83', 47], ['11', '103', 34], ['12', '12', 0], ['12', '9', 80], ['12', '83', 70], ['13', '13', 0], ['13', '14', 33], ['13', '80', 3], ['14', '14', 0], ['14', '21', 5], ['14', '77', 30], ['15', '15', 0], ['15', '77', 36], ['15', '78', 2], ['16', '16', 0], ['16', '73', 44], ['16', '75', 21], ['17', '17', 0], ['17', '19', 46], ['17', '68', 39], ['18', '18', 0], ['18', '76', 18], ['18', '80', 39], ['19', '19', 0], ['19', '17', 46], ['19', '66', 41], ['20', '20', 0], ['20', '65', 41], ['20', '66', 38], ['21', '21', 0], ['21', '14', 5], ['21', '80', 35], ['22', '22', 0], ['22', '29', 37], ['22', '60', 19], ['23', '23', 0], ['23', '60', 19], ['23', '61', 20], ['24', '24', 0], ['24', '23', 35], ['24', '25', 39], ['25', '25', 0], ['25', '24', 39], ['25', '61', 36], ['26', '26', 0], ['26', '27', 5], ['26', '58', 41], ['27', '27', 0], ['27', '26', 5], ['27', '52', 53], ['28', '28', 0], ['28', '29', 41], ['28', '30', 4], ['29', '29', 0], ['29', '55', 3], ['29', '56', 26], ['30', '30', 0], ['30', '28', 4], ['30', '32', 28], ['31', '31', 0], ['31', '30', 36], ['31', '32', 18], ['32', '32', 0], ['32', '31', 18], ['32', '33', 18], ['33', '33', 0], ['33', '32', 18], ['33', '34', 19], ['34', '34', 0], ['34', '33', 19], ['34', '53', 18], ['35', '35', 0], ['35', '25', 96], ['35', '53', 27], ['36', '36', 0], ['36', '50', 41], ['36', '51', 82], ['37', '37', 0], ['37', '38', 9], ['37', '39', 33], ['38', '38', 0], ['38', '37', 9], ['38', '39', 14], ['39', '39', 0], ['39', '38', 14], ['39', '49', 4], ['40', '40', 0], ['40', '38', 57], ['40', '39', 58], ['41', '41', 0], ['41', '46', 11], ['41', '51', 35], ['42', '42', 0], ['42', '0', 6], ['42', '4', 8], ['43', '43', 0], ['43', '39', 105], ['43', '49', 104], ['44', '44', 0], ['44', '36', 172], ['44', '45', 97], ['45', '45', 0], ['45', '41', 70], ['45', '44', 97], ['46', '46', 0], ['46', '41', 11], ['46', '51', 85], ['47', '47', 0], ['47', '48', 12], ['47', '49', 16], ['48', '48', 0], ['48', '47', 12], ['48', '49', 1], ['49', '49', 0], ['49', '39', 4], ['49', '48', 1], ['50', '50', 0], ['50', '36', 41], ['50', '47', 75], ['51', '51', 0], ['51', '36', 82], ['51', '41', 35], ['52', '52', 0], ['52', '27', 53], ['52', '31', 58], ['53', '53', 0], ['53', '34', 18], ['53', '35', 27], ['54', '54', 0], ['54', '55', 17], ['54', '56', 18], ['55', '55', 0], ['55', '29', 3], ['55', '54', 17], ['56', '56', 0], ['56', '29', 26], ['56', '54', 18], ['57', '57', 0], ['57', '26', 56], ['57', '58', 38], ['58', '58', 0], ['58', '69', 30], ['58', '70', 16], ['59', '59', 0], ['59', '22', 50], ['59', '67', 29], ['60', '60', 0], ['60', '22', 19], ['60', '23', 19], ['61', '61', 0], ['61', '23', 20], ['61', '60', 25], ['62', '62', 0], ['62', '63', 33], ['62', '65', 45], ['63', '63', 0], ['63', '62', 33], ['63', '64', 31], ['64', '64', 0], ['64', '63', 31], ['64', '65', 48], ['65', '65', 0], ['65', '20', 41], ['65', '62', 45], ['66', '66', 0], ['66', '19', 41], ['66', '20', 38], ['67', '67', 0], ['67', '17', 52], ['67', '59', 29], ['68', '68', 0], ['68', '17', 39], ['68', '69', 31], ['68', '72', 39], ['69', '69', 0], ['69', '58', 30], ['69', '70', 14], ['70', '70', 0], ['70', '69', 14], ['70', '71', 10], ['71', '71', 0], ['71', '69', 44], ['71', '70', 10], ['72', '72', 0], ['72', '68', 39], ['72', '73', 28], ['73', '73', 0], ['73', '16', 44], ['73', '72', 28], ['74', '74', 0], ['74', '72', 74], ['74', '75', 73], ['75', '75', 0], ['75', '16', 21], ['75', '76', 19], ['76', '76', 0], ['76', '18', 18], ['76', '75', 19], ['77', '77', 0], ['77', '14', 30], ['77', '79', 10], ['78', '78', 0], ['78', '15', 2], ['78', '77', 45], ['79', '79', 0], ['79', '21', 39], ['79', '77', 10], ['80', '80', 0], ['80', '13', 3], ['80', '21', 35], ['81', '81', 0], ['81', '73', 63], ['81', '82', 19], ['82', '82', 0], ['82', '6', 61], ['82', '81', 19], ['83', '83', 0], ['83', '11', 47], ['83', '103', 61], ['84', '84', 0], ['84', '8', 50], ['84', '90', 78], ['85', '85', 0], ['85', '5', 3], ['85', '6', 18], ['86', '86', 0], ['86', '87', 5], ['86', '88', 19], ['87', '87', 0], ['87', '86', 5], ['87', '88', 14], ['88', '88', 0], ['88', '5', 14], ['88', '87', 14], ['89', '89', 0], ['89', '90', 6], ['89', '102', 18], ['90', '90', 0], ['90', '89', 6], ['90', '102', 32], ['91', '91', 0], ['91', '3', 7], ['91', '92', 3], ['92', '92', 0], ['92', '85', 32], ['92', '91', 3], ['93', '93', 0], ['93', '96', 39], ['93', '97', 22], ['94', '94', 0], ['94', '93', 59], ['94', '95', 34], ['95', '95', 0], ['95', '42', 32], ['95', '94', 34], ['96', '96', 0], ['96', '97', 5], ['96', '98', 7], ['97', '97', 0], ['97', '93', 22], ['97', '96', 5], ['98', '98', 0], ['98', '96', 7], ['98', '97', 29], ['99', '99', 0], ['99', '0', 26], ['99', '100', 27], ['100', '100', 0], ['100', '99', 27], ['100', '101', 6], ['101', '101', 0], ['101', '100', 6], ['101', '102', 25], ['102', '102', 0], ['102', '89', 18], ['102', '101', 25], ['103', '103', 0], ['103', '11', 34], ['103', '83', 61]]}, '91355841': {'objects': ['0', '1', '2', '3', '4', '5', '6', '7', '8', '9', '10', '11', '12', '13', '14', '15', '16', '17', '18', '19', '20', '21', '22', '23', '24', '25', '26', '27', '28', '29', '30', '31', '32', '33'], 'relationships': [['0', '0', 0], ['0', '5', 98], ['0', '7', 47], ['1', '1', 0], ['1', '8', 77], ['1', '9', 54], ['2', '2', 0], ['2', '15', 18], ['2', '16', 35], ['3', '3', 0], ['3', '28', 279], ['3', '31', 277], ['4', '4', 0], ['4', '5', 52], ['4', '7', 121], ['5', '5', 0], ['5', '4', 52], ['5', '6', 68], ['6', '6', 0], ['6', '1', 121], ['6', '5', 68], ['7', '7', 0], ['7', '0', 47], ['7', '8', 58], ['8', '8', 0], ['8', '7', 58], ['8', '10', 72], ['9', '9', 0], ['9', '1', 54], ['9', '11', 51], ['10', '10', 0], ['10', '9', 63], ['10', '12', 64], ['11', '11', 0], ['11', '9', 51], ['11', '12', 51], ['12', '12', 0], ['12', '10', 64], ['12', '11', 51], ['13', '13', 0], ['13', '11', 107], ['13', '14', 56], ['14', '14', 0], ['14', '2', 144], ['14', '13', 56], ['15', '15', 0], ['15', '2', 18], ['15', '16', 2], ['16', '16', 0], ['16', '15', 2], ['16', '17', 1], ['17', '17', 0], ['17', '16', 1], ['17', '18', 17], ['18', '18', 0], ['18', '17', 17], ['18', '19', 5], ['19', '19', 0], ['19', '18', 5], ['19', '20', 6], ['20', '20', 0], ['20', '18', 21], ['20', '19', 6], ['21', '21', 0], ['21', '22', 2], ['21', '23', 18], ['22', '22', 0], ['22', '21', 2], ['22', '23', 3], ['23', '23', 0], ['23', '22', 3], ['23', '24', 4], ['24', '24', 0], ['24', '23', 4], ['24', '25', 3], ['25', '25', 0], ['25', '24', 3], ['25', '26', 5], ['26', '26', 0], ['26', '25', 5], ['26', '27', 5], ['27', '27', 0], ['27', '25', 19], ['27', '26', 5], ['28', '28', 0], ['28', '29', 3], ['28', '30', 19], ['29', '29', 0], ['29', '28', 3], ['29', '30', 3], ['30', '30', 0], ['30', '29', 3], ['30', '31', 2], ['31', '31', 0], ['31', '30', 2], ['31', '32', 4], ['32', '32', 0], ['32', '31', 4], ['32', '33', 4], ['33', '33', 0], ['33', '31', 23], ['33', '32', 4]]}, '00851879': {'objects': ['0', '1', '2', '3', '4', '5', '6', '7', '8', '9', '10', '11', '12', '13', '14', '15', '16', '17', '18', '19', '20', '21', '22', '23', '24', '25', '26', '27'], 'relationships': [['0', '0', 0], ['0', '1', 5], ['0', '5', 115], ['1', '1', 0], ['1', '0', 5], ['1', '18', 112], ['2', '2', 0], ['2', '20', 26], ['2', '21', 17], ['3', '3', 0], ['3', '4', 10], ['3', '23', 59], ['4', '4', 0], ['4', '3', 10], ['4', '5', 24], ['5', '5', 0], ['5', '10', 5], ['5', '11', 5], ['6', '6', 0], ['6', '7', 27], ['6', '25', 108], ['7', '7', 0], ['7', '6', 27], ['7', '8', 92], ['8', '8', 0], ['8', '7', 92], ['8', '13', 69], ['9', '9', 0], ['9', '13', 297], ['9', '27', 232], ['10', '10', 0], ['10', '5', 5], ['10', '11', 52], ['11', '11', 0], ['11', '4', 43], ['11', '5', 5], ['12', '12', 0], ['12', '14', 46], ['12', '24', 14], ['13', '13', 0], ['13', '8', 69], ['13', '10', 142], ['14', '14', 0], ['14', '12', 46], ['14', '17', 10], ['15', '15', 0], ['15', '16', 48], ['15', '17', 79], ['16', '16', 0], ['16', '15', 48], ['16', '17', 52], ['17', '17', 0], ['17', '14', 10], ['17', '16', 52], ['18', '18', 0], ['18', '1', 112], ['18', '19', 135], ['19', '19', 0], ['19', '18', 135], ['19', '20', 139], ['20', '20', 0], ['20', '2', 26], ['20', '21', 73], ['21', '21', 0], ['21', '2', 17], ['21', '20', 73], ['22', '22', 0], ['22', '23', 11], ['22', '24', 38], ['23', '23', 0], ['23', '22', 11], ['23', '25', 30], ['24', '24', 0], ['24', '12', 14], ['24', '25', 13], ['25', '25', 0], ['25', '23', 30], ['25', '24', 13], ['26', '26', 0], ['26', '15', 248], ['26', '27', 41], ['27', '27', 0], ['27', '9', 232], ['27', '26', 41]]}, '00836244': {'objects': ['0', '1', '2', '3', '4', '5', '6', '7', '8', '9', '10', '11', '12', '13', '14', '15', '16', '17', '18', '19', '20', '21', '22', '23', '24', '25', '26', '27', '28', '29', '30', '31', '32', '33', '34', '35', '36', '37', '38', '39', '40', '41', '42', '43', '44', '45', '46', '47', '48', '49', '50', '51', '52', '53', '54', '55', '56', '57', '58', '59', '60', '61', '62', '63', '64', '65', '66', '67', '68', '69', '70', '71', '72', '73', '74', '75', '76', '77', '78', '79', '80', '81', '82', '83', '84', '85', '86', '87', '88', '89', '90', '91', '92'], 'relationships': [['0', '0', 0], ['0', '1', 17], ['0', '42', 28], ['1', '1', 0], ['1', '0', 17], ['1', '45', 14], ['2', '2', 0], ['2', '3', 15], ['2', '45', 17], ['3', '3', 0], ['3', '2', 15], ['3', '53', 44], ['4', '4', 0], ['4', '5', 2], ['4', '47', 44], ['5', '5', 0], ['5', '4', 2], ['5', '44', 29], ['6', '6', 0], ['6', '44', 42], ['6', '50', 49], ['7', '7', 0], ['7', '8', 2], ['7', '48', 9], ['8', '8', 0], ['8', '7', 2], ['8', '48', 21], ['9', '9', 0], ['9', '88', 46], ['9', '89', 43], ['10', '10', 0], ['10', '63', 25], ['10', '64', 21], ['11', '11', 0], ['11', '61', 21], ['11', '62', 20], ['12', '12', 0], ['12', '59', 17], ['12', '60', 16], ['13', '13', 0], ['13', '4', 80], ['13', '47', 21], ['14', '14', 0], ['14', '15', 30], ['14', '16', 15], ['15', '15', 0], ['15', '16', 3], ['15', '56', 10], ['16', '16', 0], ['16', '15', 3], ['16', '55', 11], ['17', '17', 0], ['17', '12', 65], ['17', '18', 55], ['18', '18', 0], ['18', '17', 55], ['18', '20', 21], ['19', '19', 0], ['19', '14', 55], ['19', '18', 56], ['20', '20', 0], ['20', '18', 21], ['20', '61', 60], ['21', '21', 0], ['21', '23', 32], ['21', '26', 32], ['22', '22', 0], ['22', '23', 7], ['22', '24', 28], ['23', '23', 0], ['23', '22', 7], ['23', '24', 6], ['24', '24', 0], ['24', '22', 28], ['24', '23', 6], ['25', '25', 0], ['25', '26', 8], ['25', '27', 28], ['26', '26', 0], ['26', '25', 8], ['26', '27', 7], ['27', '27', 0], ['27', '25', 28], ['27', '26', 7], ['28', '28', 0], ['28', '29', 9], ['28', '75', 4], ['29', '29', 0], ['29', '28', 9], ['29', '30', 7], ['30', '30', 0], ['30', '28', 31], ['30', '29', 7], ['31', '31', 0], ['31', '26', 42], ['31', '29', 50], ['32', '32', 0], ['32', '33', 13], ['32', '34', 32], ['33', '33', 0], ['33', '32', 13], ['33', '34', 8], ['34', '34', 0], ['34', '32', 32], ['34', '33', 8], ['35', '35', 0], ['35', '36', 10], ['35', '77', 67], ['36', '36', 0], ['36', '35', 10], ['36', '77', 88], ['37', '37', 0], ['37', '78', 17], ['37', '87', 17], ['38', '38', 0], ['38', '82', 13], ['38', '84', 20], ['39', '39', 0], ['39', '88', 38], ['39', '91', 103], ['40', '40', 0], ['40', '7', 180], ['40', '8', 159], ['41', '41', 0], ['41', '42', 130], ['41', '46', 134], ['42', '42', 0], ['42', '0', 28], ['42', '43', 21], ['43', '43', 0], ['43', '1', 32], ['43', '42', 21], ['44', '44', 0], ['44', '5', 29], ['44', '6', 42], ['45', '45', 0], ['45', '1', 14], ['45', '2', 17], ['46', '46', 0], ['46', '45', 38], ['46', '49', 10], ['47', '47', 0], ['47', '4', 44], ['47', '13', 21], ['48', '48', 0], ['48', '7', 9], ['48', '8', 21], ['49', '49', 0], ['49', '46', 10], ['49', '52', 15], ['50', '50', 0], ['50', '48', 47], ['50', '51', 32], ['51', '51', 0], ['51', '48', 27], ['51', '50', 32], ['52', '52', 0], ['52', '46', 47], ['52', '49', 15], ['53', '53', 0], ['53', '3', 44], ['53', '54', 12], ['54', '54', 0], ['54', '53', 12], ['54', '57', 28], ['55', '55', 0], ['55', '15', 27], ['55', '16', 11], ['56', '56', 0], ['56', '15', 10], ['56', '55', 28], ['57', '57', 0], ['57', '54', 28], ['57', '58', 22], ['58', '58', 0], ['58', '57', 22], ['58', '74', 30], ['59', '59', 0], ['59', '12', 17], ['59', '67', 30], ['60', '60', 0], ['60', '12', 16], ['60', '68', 28], ['61', '61', 0], ['61', '11', 21], ['61', '69', 33], ['62', '62', 0], ['62', '11', 20], ['62', '70', 28], ['63', '63', 0], ['63', '10', 25], ['63', '71', 22], ['64', '64', 0], ['64', '10', 21], ['64', '72', 34], ['65', '65', 0], ['65', '64', 41], ['65', '66', 34], ['66', '66', 0], ['66', '64', 101], ['66', '65', 34], ['67', '67', 0], ['67', '59', 30], ['67', '68', 22], ['68', '68', 0], ['68', '67', 22], ['68', '69', 17], ['69', '69', 0], ['69', '68', 17], ['69', '70', 9], ['70', '70', 0], ['70', '69', 9], ['70', '71', 19], ['71', '71', 0], ['71', '70', 19], ['71', '72', 11], ['72', '72', 0], ['72', '64', 34], ['72', '71', 11], ['73', '73', 0], ['73', '28', 52], ['73', '29', 33], ['74', '74', 0], ['74', '32', 67], ['74', '58', 30], ['75', '75', 0], ['75', '28', 4], ['75', '29', 31], ['75', '68', 31], ['76', '76', 0], ['76', '35', 92], ['76', '77', 12], ['77', '77', 0], ['77', '35', 67], ['77', '76', 12], ['78', '78', 0], ['78', '37', 17], ['78', '79', 18], ['79', '79', 0], ['79', '78', 18], ['79', '87', 7], ['80', '80', 0], ['80', '79', 24], ['80', '86', 9], ['81', '81', 0], ['81', '80', 25], ['81', '85', 8], ['82', '82', 0], ['82', '38', 13], ['82', '83', 21], ['83', '83', 0], ['83', '82', 21], ['83', '84', 7], ['84', '84', 0], ['84', '38', 20], ['84', '83', 7], ['85', '85', 0], ['85', '81', 8], ['85', '86', 25], ['86', '86', 0], ['86', '80', 9], ['86', '87', 22], ['87', '87', 0], ['87', '37', 17], ['87', '79', 7], ['88', '88', 0], ['88', '9', 46], ['88', '39', 38], ['89', '89', 0], ['89', '9', 43], ['89', '90', 16], ['90', '90', 0], ['90', '86', 167], ['90', '89', 16], ['91', '91', 0], ['91', '39', 103], ['91', '90', 221], ['92', '92', 0], ['92', '9', 138], ['92', '89', 157]]}, '93351929_93351931': {'objects': ['0', '1', '2', '3', '4', '5', '6', '7', '8', '9', '10', '11', '12', '13', '14', '15', '16', '17', '18', '19', '20', '21', '22', '23', '24', '25', '26', '27', '28', '29', '30', '31', '32', '33', '34', '35', '36', '37', '38', '39', '40', '41', '42', '43', '44', '45', '46', '47'], 'relationships': [['0', '0', 0], ['0', '1', 21], ['0', '13', 6], ['1', '1', 0], ['1', '0', 21], ['1', '2', 21], ['1', '14', 19], ['2', '2', 0], ['2', '1', 21], ['2', '15', 19], ['3', '3', 0], ['3', '16', 20], ['3', '17', 56], ['4', '4', 0], ['4', '7', 21], ['4', '10', 20], ['5', '5', 0], ['5', '6', 19], ['5', '37', 20], ['6', '6', 0], ['6', '5', 19], ['6', '25', 18], ['7', '7', 0], ['7', '41', 18], ['7', '42', 3], ['8', '8', 0], ['8', '7', 42], ['8', '43', 5], ['9', '9', 0], ['9', '46', 8], ['9', '47', 1], ['10', '10', 0], ['10', '44', 4], ['10', '47', 4], ['11', '11', 0], ['11', '33', 131], ['11', '35', 118], ['12', '12', 0], ['12', '13', 102], ['12', '14', 161], ['13', '13', 0], ['13', '0', 6], ['13', '14', 29], ['14', '14', 0], ['14', '1', 19], ['14', '15', 20], ['15', '15', 0], ['15', '2', 19], ['15', '14', 20], ['16', '16', 0], ['16', '2', 57], ['16', '3', 20], ['17', '17', 0], ['17', '3', 56], ['17', '18', 19], ['17', '19', 56], ['18', '18', 0], ['18', '17', 19], ['18', '19', 20], ['19', '19', 0], ['19', '18', 20], ['19', '20', 20], ['20', '20', 0], ['20', '19', 20], ['20', '21', 40], ['20', '40', 40], ['21', '21', 0], ['21', '20', 40], ['21', '22', 24], ['22', '22', 0], ['22', '21', 24], ['22', '23', 20], ['23', '23', 0], ['23', '22', 20], ['23', '24', 18], ['24', '24', 0], ['24', '23', 18], ['24', '25', 20], ['25', '25', 0], ['25', '6', 18], ['25', '24', 20], ['26', '26', 0], ['26', '25', 22], ['26', '27', 19], ['27', '27', 0], ['27', '26', 19], ['27', '28', 18], ['28', '28', 0], ['28', '26', 52], ['28', '27', 18], ['29', '29', 0], ['29', '30', 18], ['29', '31', 36], ['30', '30', 0], ['30', '29', 18], ['30', '31', 4], ['31', '31', 0], ['31', '30', 4], ['31', '32', 1], ['32', '32', 0], ['32', '30', 22], ['32', '31', 1], ['33', '33', 0], ['33', '34', 32], ['33', '35', 59], ['34', '34', 0], ['34', '33', 32], ['34', '35', 27], ['35', '35', 0], ['35', '33', 59], ['35', '34', 27], ['36', '36', 0], ['36', '6', 54], ['36', '29', 50], ['37', '37', 0], ['37', '5', 20], ['37', '38', 20], ['38', '38', 0], ['38', '37', 20], ['38', '39', 19], ['39', '39', 0], ['39', '38', 19], ['39', '40', 39], ['40', '40', 0], ['40', '39', 39], ['40', '41', 21], ['41', '41', 0], ['41', '7', 18], ['41', '40', 21], ['42', '42', 0], ['42', '4', 34], ['42', '7', 3], ['43', '43', 0], ['43', '8', 5], ['43', '42', 81], ['44', '44', 0], ['44', '10', 4], ['44', '46', 17], ['45', '45', 0], ['45', '9', 21], ['45', '47', 36], ['46', '46', 0], ['46', '9', 8], ['46', '44', 17], ['47', '47', 0], ['47', '9', 1], ['47', '10', 4]]}, '00836816': {'objects': ['0', '1', '2', '3', '4', '5', '6', '7', '8', '9', '10', '11', '12', '13', '14', '15', '16', '17', '18', '19', '20', '21', '22', '23', '24', '25', '26', '27', '28', '29'], 'relationships': [['0', '0', 0], ['0', '28', 98], ['0', '29', 41], ['1', '1', 0], ['1', '26', 19], ['1', '27', 47], ['2', '2', 0], ['2', '28', 26], ['2', '29', 151], ['3', '3', 0], ['3', '22', 36], ['3', '23', 31], ['4', '4', 0], ['4', '9', 20], ['4', '12', 13], ['5', '5', 0], ['5', '11', 18], ['5', '13', 15], ['6', '6', 0], ['6', '7', 29], ['6', '15', 18], ['7', '7', 0], ['7', '6', 29], ['7', '14', 23], ['8', '8', 0], ['8', '4', 136], ['8', '9', 109], ['9', '9', 0], ['9', '4', 20], ['9', '11', 19], ['10', '10', 0], ['10', '12', 233], ['10', '14', 248], ['11', '11', 0], ['11', '5', 18], ['11', '9', 19], ['12', '12', 0], ['12', '4', 13], ['12', '13', 11], ['13', '13', 0], ['13', '5', 15], ['13', '12', 11], ['14', '14', 0], ['14', '6', 36], ['14', '7', 23], ['15', '15', 0], ['15', '6', 18], ['15', '7', 47], ['16', '16', 0], ['16', '15', 54], ['16', '17', 7], ['17', '17', 0], ['17', '16', 7], ['17', '18', 41], ['18', '18', 0], ['18', '17', 41], ['18', '19', 23], ['19', '19', 0], ['19', '17', 46], ['19', '18', 23], ['20', '20', 0], ['20', '21', 32], ['20', '25', 39], ['21', '21', 0], ['21', '20', 32], ['21', '22', 14], ['22', '22', 0], ['22', '21', 14], ['22', '23', 16], ['23', '23', 0], ['23', '22', 16], ['23', '24', 13], ['24', '24', 0], ['24', '22', 77], ['24', '23', 13], ['25', '25', 0], ['25', '20', 39], ['25', '21', 36], ['26', '26', 0], ['26', '1', 19], ['26', '25', 112], ['27', '27', 0], ['27', '1', 47], ['27', '22', 117], ['27', '26', 117], ['28', '28', 0], ['28', '2', 26], ['28', '29', 49], ['29', '29', 0], ['29', '0', 41], ['29', '28', 49]]}, '80718412_8413': {'objects': ['0', '1', '2', '3', '4', '5', '6', '7', '8', '9', '10', '11', '12', '13', '14', '15', '16', '17', '18', '19', '20', '21', '22', '23', '24', '25'], 'relationships': [['0', '0', 0], ['0', '1', 38], ['0', '7', 90], ['1', '1', 0], ['1', '0', 38], ['1', '12', 37], ['2', '2', 0], ['2', '13', 44], ['2', '16', 41], ['3', '3', 0], ['3', '4', 15], ['3', '5', 14], ['4', '4', 0], ['4', '3', 15], ['4', '5', 5], ['5', '5', 0], ['5', '3', 14], ['5', '4', 5], ['6', '6', 0], ['6', '17', 54], ['6', '18', 58], ['7', '7', 0], ['7', '9', 54], ['7', '10', 42], ['8', '8', 0], ['8', '22', 189], ['8', '25', 219], ['9', '9', 0], ['9', '7', 54], ['9', '10', 105], ['10', '10', 0], ['10', '7', 42], ['10', '11', 54], ['11', '11', 0], ['11', '10', 54], ['11', '14', 51], ['12', '12', 0], ['12', '1', 37], ['12', '13', 42], ['13', '13', 0], ['13', '2', 44], ['13', '12', 42], ['14', '14', 0], ['14', '11', 51], ['14', '15', 39], ['15', '15', 0], ['15', '2', 58], ['15', '14', 39], ['16', '16', 0], ['16', '2', 41], ['16', '18', 38], ['17', '17', 0], ['17', '6', 54], ['17', '15', 66], ['18', '18', 0], ['18', '16', 38], ['18', '19', 39], ['19', '19', 0], ['19', '3', 56], ['19', '18', 39], ['20', '20', 0], ['20', '21', 5], ['20', '22', 16], ['21', '21', 0], ['21', '20', 5], ['21', '22', 1], ['22', '22', 0], ['22', '20', 16], ['22', '21', 1], ['23', '23', 0], ['23', '4', 107], ['23', '24', 25], ['24', '24', 0], ['24', '23', 25], ['24', '25', 44], ['25', '25', 0], ['25', '19', 177], ['25', '24', 44]]}, '80728670': {'objects': ['0', '1', '2', '3', '4', '5', '6', '7', '8', '9', '10', '11', '12', '13', '14', '15', '16', '17', '18', '19', '20', '21', '22', '23', '24', '25', '26', '27', '28', '29', '30', '31', '32', '33', '34', '35'], 'relationships': [['0', '0', 0], ['0', '1', 26], ['0', '13', 69], ['1', '1', 0], ['1', '0', 26], ['1', '14', 37], ['2', '2', 0], ['2', '12', 84], ['2', '15', 34], ['3', '3', 0], ['3', '23', 37], ['3', '24', 16], ['4', '4', 0], ['4', '3', 39], ['4', '5', 39], ['5', '5', 0], ['5', '4', 39], ['5', '6', 36], ['6', '6', 0], ['6', '5', 36], ['6', '26', 85], ['7', '7', 0], ['7', '26', 141], ['7', '34', 102], ['8', '8', 0], ['8', '4', 98], ['8', '21', 25], ['9', '9', 0], ['9', '28', 24], ['9', '30', 110], ['10', '10', 0], ['10', '11', 81], ['10', '34', 18], ['11', '11', 0], ['11', '10', 81], ['11', '34', 106], ['12', '12', 0], ['12', '2', 84], ['12', '15', 141], ['13', '13', 0], ['13', '0', 69], ['13', '14', 41], ['14', '14', 0], ['14', '1', 37], ['14', '13', 41], ['15', '15', 0], ['15', '2', 34], ['15', '17', 122], ['16', '16', 0], ['16', '17', 18], ['16', '18', 28], ['17', '17', 0], ['17', '2', 107], ['17', '16', 18], ['18', '18', 0], ['18', '16', 28], ['18', '20', 29], ['19', '19', 0], ['19', '18', 37], ['19', '23', 127], ['20', '20', 0], ['20', '18', 29], ['20', '21', 46], ['21', '21', 0], ['21', '8', 25], ['21', '22', 23], ['22', '22', 0], ['22', '21', 23], ['22', '24', 25], ['23', '23', 0], ['23', '3', 37], ['23', '22', 32], ['24', '24', 0], ['24', '3', 16], ['24', '22', 25], ['25', '25', 0], ['25', '24', 26], ['25', '26', 23], ['26', '26', 0], ['26', '6', 85], ['26', '25', 23], ['27', '27', 0], ['27', '25', 30], ['27', '28', 48], ['28', '28', 0], ['28', '9', 24], ['28', '29', 31], ['29', '29', 0], ['29', '28', 31], ['29', '30', 25], ['30', '30', 0], ['30', '29', 25], ['30', '31', 25], ['31', '31', 0], ['31', '30', 25], ['31', '32', 17], ['32', '32', 0], ['32', '31', 17], ['32', '33', 37], ['33', '33', 0], ['33', '32', 37], ['33', '34', 38], ['34', '34', 0], ['34', '10', 18], ['34', '33', 38], ['35', '35', 0], ['35', '30', 225], ['35', '31', 180]]}, '91315069_91315070': {'objects': ['0', '1', '2', '3', '4', '5', '6', '7', '8', '9', '10', '11', '12', '13', '14', '15', '16', '17', '18', '19', '20', '21', '22', '23', '24', '25'], 'relationships': [['0', '0', 0], ['0', '1', 15], ['0', '7', 30], ['1', '1', 0], ['1', '0', 15], ['1', '2', 18], ['2', '2', 0], ['2', '1', 18], ['2', '13', 9], ['3', '3', 0], ['3', '2', 47], ['3', '14', 10], ['4', '4', 0], ['4', '14', 159], ['4', '15', 169], ['5', '5', 0], ['5', '16', 56], ['5', '17', 25], ['6', '6', 0], ['6', '19', 421], ['6', '20', 418], ['7', '7', 0], ['7', '0', 30], ['7', '1', 47], ['8', '8', 0], ['8', '9', 36], ['8', '10', 53], ['9', '9', 0], ['9', '10', 2], ['9', '11', 20], ['10', '10', 0], ['10', '9', 2], ['10', '12', 18], ['11', '11', 0], ['11', '9', 20], ['11', '12', 1], ['12', '12', 0], ['12', '10', 18], ['12', '11', 1], ['13', '13', 0], ['13', '1', 58], ['13', '2', 9], ['14', '14', 0], ['14', '3', 10], ['14', '13', 73], ['15', '15', 0], ['15', '3', 72], ['15', '5', 97], ['16', '16', 0], ['16', '5', 56], ['16', '17', 88], ['17', '17', 0], ['17', '5', 25], ['17', '16', 88], ['18', '18', 0], ['18', '21', 64], ['18', '22', 100], ['19', '19', 0], ['19', '20', 7], ['19', '21', 149], ['20', '20', 0], ['20', '19', 7], ['20', '21', 129], ['21', '21', 0], ['21', '18', 64], ['21', '22', 15], ['22', '22', 0], ['22', '21', 15], ['22', '23', 62], ['23', '23', 0], ['23', '22', 62], ['23', '24', 60], ['24', '24', 0], ['24', '23', 60], ['24', '25', 77], ['25', '25', 0], ['25', '23', 154], ['25', '24', 77]]}, '0011838621': {'objects': ['0', '1', '2', '3', '4', '5', '6', '7', '8', '9', '10', '11', '12', '13', '14', '15', '16', '17', '18', '19', '20', '21', '22', '23', '24', '25', '26', '27', '28', '29', '30', '31', '32', '33', '34', '35', '36', '37', '38', '39', '40', '41', '42', '43', '44', '45', '46', '47', '48', '49', '50', '51', '52', '53', '54', '55', '56', '57', '58', '59', '60', '61'], 'relationships': [['0', '0', 0], ['0', '1', 11], ['0', '23', 14], ['1', '1', 0], ['1', '0', 11], ['1', '2', 13], ['2', '2', 0], ['2', '1', 13], ['2', '25', 19], ['2', '28', 19], ['3', '3', 0], ['3', '4', 19], ['3', '22', 63], ['3', '27', 63], ['4', '4', 0], ['4', '3', 19], ['4', '27', 96], ['5', '5', 0], ['5', '30', 12], ['5', '34', 19], ['6', '6', 0], ['6', '35', 17], ['6', '37', 13], ['7', '7', 0], ['7', '8', 11], ['7', '27', 51], ['8', '8', 0], ['8', '7', 11], ['8', '33', 59], ['9', '9', 0], ['9', '37', 25], ['9', '38', 12], ['10', '10', 0], ['10', '41', 17], ['10', '43', 25], ['11', '11', 0], ['11', '10', 67], ['11', '41', 99], ['12', '12', 0], ['12', '13', 82], ['12', '42', 98], ['13', '13', 0], ['13', '14', 36], ['13', '49', 59], ['14', '14', 0], ['14', '13', 36], ['14', '48', 58], ['15', '15', 0], ['15', '56', 39], ['15', '57', 15], ['16', '16', 0], ['16', '17', 24], ['16', '50', 37], ['17', '17', 0], ['17', '16', 24], ['17', '52', 33], ['18', '18', 0], ['18', '53', 5], ['18', '54', 9], ['19', '19', 0], ['19', '18', 63], ['19', '53', 81], ['20', '20', 0], ['20', '55', 25], ['20', '61', 31], ['21', '21', 0], ['21', '20', 41], ['21', '61', 47], ['22', '22', 0], ['22', '3', 63], ['22', '24', 81], ['23', '23', 0], ['23', '0', 14], ['23', '24', 25], ['24', '24', 0], ['24', '1', 26], ['24', '23', 25], ['25', '25', 0], ['25', '2', 19], ['25', '24', 32], ['26', '26', 0], ['26', '31', 23], ['26', '36', 24], ['27', '27', 0], ['27', '26', 34], ['27', '36', 28], ['28', '28', 0], ['28', '2', 19], ['28', '29', 12], ['29', '29', 0], ['29', '30', 10], ['29', '35', 9], ['30', '30', 0], ['30', '5', 12], ['30', '29', 10], ['31', '31', 0], ['31', '32', 8], ['31', '36', 19], ['32', '32', 0], ['32', '31', 8], ['32', '33', 14], ['33', '33', 0], ['33', '31', 36], ['33', '32', 14], ['34', '34', 0], ['34', '5', 19], ['34', '30', 31], ['35', '35', 0], ['35', '6', 17], ['35', '29', 9], ['36', '36', 0], ['36', '26', 24], ['36', '31', 19], ['37', '37', 0], ['37', '6', 13], ['37', '9', 25], ['38', '38', 0], ['38', '9', 12], ['38', '39', 11], ['39', '39', 0], ['39', '9', 29], ['39', '38', 11], ['40', '40', 0], ['40', '42', 16], ['40', '43', 22], ['41', '41', 0], ['41', '10', 17], ['41', '40', 31], ['42', '42', 0], ['42', '40', 16], ['42', '43', 9], ['43', '43', 0], ['43', '42', 9], ['43', '44', 10], ['44', '44', 0], ['44', '43', 10], ['44', '49', 11], ['45', '45', 0], ['45', '39', 47], ['45', '46', 45], ['46', '46', 0], ['46', '45', 45], ['46', '55', 75], ['47', '47', 0], ['47', '48', 32], ['47', '49', 29], ['48', '48', 0], ['48', '14', 58], ['48', '47', 32], ['49', '49', 0], ['49', '44', 11], ['49', '47', 29], ['50', '50', 0], ['50', '16', 37], ['50', '51', 17], ['51', '51', 0], ['51', '17', 50], ['51', '50', 17], ['52', '52', 0], ['52', '53', 11], ['52', '54', 16], ['53', '53', 0], ['53', '18', 5], ['53', '52', 11], ['54', '54', 0], ['54', '18', 9], ['54', '52', 16], ['55', '55', 0], ['55', '56', 23], ['55', '61', 14], ['56', '56', 0], ['56', '55', 23], ['56', '60', 22], ['57', '57', 0], ['57', '15', 15], ['57', '56', 24], ['58', '58', 0], ['58', '59', 14], ['58', '60', 10], ['59', '59', 0], ['59', '58', 14], ['59', '60', 24], ['60', '60', 0], ['60', '56', 22], ['60', '58', 10], ['61', '61', 0], ['61', '55', 14], ['61', '60', 25]]}, '88057519': {'objects': ['0', '1', '2', '3', '4', '5', '6', '7', '8', '9', '10', '11', '12', '13', '14', '15', '16'], 'relationships': [['0', '0', 0], ['0', '1', 13], ['0', '9', 11], ['1', '1', 0], ['1', '0', 13], ['1', '2', 13], ['2', '2', 0], ['2', '1', 13], ['2', '10', 15], ['3', '3', 0], ['3', '4', 81], ['3', '5', 151], ['4', '4', 0], ['4', '11', 66], ['4', '12', 64], ['5', '5', 0], ['5', '3', 151], ['5', '4', 201], ['6', '6', 0], ['6', '12', 149], ['6', '16', 181], ['7', '7', 0], ['7', '5', 214], ['7', '8', 240], ['8', '8', 0], ['8', '0', 38], ['8', '9', 10], ['9', '9', 0], ['9', '0', 11], ['9', '8', 10], ['10', '10', 0], ['10', '2', 15], ['10', '11', 31], ['11', '11', 0], ['11', '10', 31], ['11', '12', 54], ['12', '12', 0], ['12', '11', 54], ['12', '13', 18], ['13', '13', 0], ['13', '11', 89], ['13', '12', 18], ['14', '14', 0], ['14', '15', 17], ['14', '16', 106], ['15', '15', 0], ['15', '14', 17], ['15', '16', 53], ['16', '16', 0], ['16', '14', 106], ['16', '15', 53]]}, '82254638': {'objects': ['0', '1', '2', '3', '4', '5', '6', '7', '8', '9', '10', '11', '12', '13', '14', '15', '16', '17', '18', '19', '20', '21', '22', '23', '24', '25', '26', '27', '28', '29', '30', '31', '32', '33', '34', '35', '36', '37', '38', '39', '40', '41', '42', '43', '44', '45', '46', '47', '48', '49', '50', '51', '52', '53', '54', '55', '56', '57', '58', '59', '60', '61', '62', '63', '64'], 'relationships': [['0', '0', 0], ['0', '1', 13], ['0', '29', 41], ['1', '1', 0], ['1', '0', 13], ['1', '29', 14], ['2', '2', 0], ['2', '45', 14], ['2', '46', 28], ['3', '3', 0], ['3', '49', 40], ['3', '54', 13], ['3', '56', 40], ['4', '4', 0], ['4', '27', 148], ['4', '33', 15], ['5', '5', 0], ['5', '6', 20], ['5', '7', 16], ['6', '6', 0], ['6', '5', 20], ['6', '7', 5], ['6', '23', 20], ['7', '7', 0], ['7', '6', 5], ['7', '23', 5], ['8', '8', 0], ['8', '26', 18], ['8', '50', 24], ['9', '9', 0], ['9', '54', 46], ['9', '56', 16], ['10', '10', 0], ['10', '11', 18], ['10', '12', 42], ['11', '11', 0], ['11', '10', 18], ['11', '12', 13], ['12', '12', 0], ['12', '10', 42], ['12', '11', 13], ['13', '13', 0], ['13', '10', 48], ['13', '11', 45], ['14', '14', 0], ['14', '15', 78], ['14', '61', 68], ['15', '15', 0], ['15', '14', 78], ['15', '59', 69], ['16', '16', 0], ['16', '63', 65], ['16', '64', 72], ['17', '17', 0], ['17', '14', 222], ['17', '18', 44], ['18', '18', 0], ['18', '17', 44], ['18', '63', 228], ['19', '19', 0], ['19', '20', 36], ['19', '34', 37], ['20', '20', 0], ['20', '19', 36], ['20', '21', 44], ['21', '21', 0], ['21', '20', 44], ['21', '40', 26], ['22', '22', 0], ['22', '28', 79], ['22', '45', 65], ['22', '46', 79], ['23', '23', 0], ['23', '6', 20], ['23', '7', 5], ['24', '24', 0], ['24', '25', 17], ['24', '53', 26], ['25', '25', 0], ['25', '28', 16], ['25', '53', 8], ['26', '26', 0], ['26', '8', 18], ['26', '50', 10], ['27', '27', 0], ['27', '31', 31], ['27', '33', 37], ['28', '28', 0], ['28', '25', 16], ['28', '52', 14], ['29', '29', 0], ['29', '0', 41], ['29', '1', 14], ['30', '30', 0], ['30', '31', 16], ['30', '32', 42], ['31', '31', 0], ['31', '30', 16], ['31', '32', 9], ['32', '32', 0], ['32', '29', 42], ['32', '30', 42], ['32', '31', 9], ['33', '33', 0], ['33', '4', 15], ['33', '27', 37], ['34', '34', 0], ['34', '19', 37], ['34', '32', 81], ['35', '35', 0], ['35', '36', 15], ['35', '37', 31], ['36', '36', 0], ['36', '35', 15], ['36', '38', 29], ['37', '37', 0], ['37', '35', 31], ['37', '38', 9], ['38', '38', 0], ['38', '36', 29], ['38', '37', 9], ['39', '39', 0], ['39', '36', 40], ['39', '40', 17], ['40', '40', 0], ['40', '21', 26], ['40', '39', 17], ['41', '41', 0], ['41', '42', 2], ['41', '43', 14], ['42', '42', 0], ['42', '41', 2], ['42', '43', 12], ['43', '43', 0], ['43', '41', 14], ['43', '42', 12], ['44', '44', 0], ['44', '42', 14], ['44', '43', 15], ['45', '45', 0], ['45', '46', 1], ['45', '47', 13], ['46', '46', 0], ['46', '45', 1], ['46', '47', 1], ['47', '47', 0], ['47', '46', 1], ['47', '48', 4], ['48', '48', 0], ['48', '47', 4], ['48', '49', 5], ['49', '49', 0], ['49', '47', 16], ['49', '48', 5], ['50', '50', 0], ['50', '26', 10], ['50', '51', 16], ['51', '51', 0], ['51', '50', 16], ['51', '52', 35], ['52', '52', 0], ['52', '28', 14], ['52', '53', 7], ['53', '53', 0], ['53', '25', 8], ['53', '52', 7], ['54', '54', 0], ['54', '3', 13], ['54', '56', 12], ['55', '55', 0], ['55', '10', 60], ['55', '51', 82], ['56', '56', 0], ['56', '54', 12], ['56', '57', 9], ['57', '57', 0], ['57', '54', 38], ['57', '56', 9], ['58', '58', 0], ['58', '59', 15], ['58', '60', 53], ['59', '59', 0], ['59', '58', 15], ['59', '60', 27], ['60', '60', 0], ['60', '59', 27], ['60', '61', 14], ['61', '61', 0], ['61', '60', 14], ['61', '63', 40], ['62', '62', 0], ['62', '14', 98], ['62', '15', 109], ['63', '63', 0], ['63', '16', 65], ['63', '60', 65], ['63', '61', 40], ['64', '64', 0], ['64', '16', 72], ['64', '63', 68]]}, '00851772_1780': {'objects': ['0', '1', '2', '3', '4', '5', '6', '7', '8', '9', '10', '11', '12', '13', '14', '15', '16', '17', '18', '19', '20', '21', '22', '23', '24', '25', '26', '27', '28', '29', '30', '31', '32'], 'relationships': [['0', '0', 0], ['0', '3', 20], ['0', '21', 31], ['1', '1', 0], ['1', '2', 2], ['1', '19', 17], ['2', '2', 0], ['2', '1', 2], ['2', '19', 56], ['3', '3', 0], ['3', '5', 18], ['3', '21', 2], ['4', '4', 0], ['4', '5', 1], ['4', '20', 29], ['5', '5', 0], ['5', '3', 18], ['5', '4', 1], ['6', '6', 0], ['6', '22', 29], ['6', '24', 30], ['7', '7', 0], ['7', '1', 26], ['7', '19', 1], ['8', '8', 0], ['8', '19', 77], ['8', '23', 28], ['9', '9', 0], ['9', '10', 13], ['9', '26', 42], ['10', '10', 0], ['10', '9', 13], ['10', '26', 27], ['11', '11', 0], ['11', '27', 100], ['11', '29', 171], ['12', '12', 0], ['12', '6', 40], ['12', '13', 16], ['13', '13', 0], ['13', '12', 16], ['13', '14', 16], ['13', '24', 16], ['14', '14', 0], ['14', '13', 16], ['14', '25', 28], ['15', '15', 0], ['15', '26', 142], ['15', '27', 101], ['16', '16', 0], ['16', '1', 40], ['16', '17', 47], ['17', '17', 0], ['17', '16', 47], ['17', '21', 24], ['18', '18', 0], ['18', '7', 109], ['18', '17', 116], ['19', '19', 0], ['19', '1', 17], ['19', '7', 1], ['20', '20', 0], ['20', '4', 29], ['20', '5', 30], ['20', '21', 30], ['21', '21', 0], ['21', '3', 2], ['21', '17', 24], ['22', '22', 0], ['22', '6', 29], ['22', '24', 17], ['23', '23', 0], ['23', '8', 28], ['23', '9', 48], ['24', '24', 0], ['24', '13', 16], ['24', '22', 17], ['25', '25', 0], ['25', '13', 57], ['25', '14', 28], ['26', '26', 0], ['26', '9', 42], ['26', '10', 27], ['27', '27', 0], ['27', '11', 100], ['27', '15', 101], ['28', '28', 0], ['28', '30', 274], ['28', '31', 163], ['29', '29', 0], ['29', '11', 171], ['29', '27', 279], ['30', '30', 0], ['30', '31', 50], ['30', '32', 51], ['31', '31', 0], ['31', '28', 163], ['31', '30', 50], ['32', '32', 0], ['32', '25', 89], ['32', '30', 51]]}, '00040534': {'objects': ['0', '1', '2', '3', '4', '5', '6', '7', '8', '9', '10', '11', '12', '13', '14', '15', '16', '17', '18', '19', '20', '21', '22', '23', '24', '25', '26', '27', '28', '29', '30', '31', '32', '33', '34', '35', '36', '37', '38', '39', '40', '41', '42', '43', '44', '45', '46', '47', '48', '49', '50', '51', '52', '53', '54', '55', '56', '57', '58', '59', '60', '61', '62', '63', '64', '65', '66', '67', '68', '69', '70', '71', '72', '73', '74', '75', '76', '77', '78', '79', '80'], 'relationships': [['0', '0', 0], ['0', '1', 23], ['0', '37', 20], ['1', '1', 0], ['1', '0', 23], ['1', '42', 20], ['2', '2', 0], ['2', '3', 18], ['2', '42', 21], ['3', '3', 0], ['3', '2', 18], ['3', '42', 50], ['4', '4', 0], ['4', '40', 35], ['4', '43', 44], ['5', '5', 0], ['5', '12', 23], ['5', '39', 79], ['6', '6', 0], ['6', '7', 43], ['6', '13', 20], ['7', '7', 0], ['7', '8', 19], ['7', '13', 29], ['8', '8', 0], ['8', '7', 19], ['8', '15', 38], ['9', '9', 0], ['9', '44', 30], ['9', '45', 35], ['10', '10', 0], ['10', '17', 12], ['10', '53', 47], ['11', '11', 0], ['11', '41', 33], ['11', '46', 75], ['12', '12', 0], ['12', '5', 23], ['12', '39', 45], ['13', '13', 0], ['13', '6', 20], ['13', '7', 29], ['14', '14', 0], ['14', '16', 86], ['14', '50', 42], ['15', '15', 0], ['15', '16', 11], ['15', '50', 33], ['16', '16', 0], ['16', '15', 11], ['16', '50', 39], ['17', '17', 0], ['17', '10', 12], ['17', '52', 44], ['18', '18', 0], ['18', '56', 34], ['18', '57', 5], ['19', '19', 0], ['19', '20', 21], ['19', '62', 30], ['20', '20', 0], ['20', '19', 21], ['20', '21', 15], ['21', '21', 0], ['21', '20', 15], ['21', '22', 19], ['22', '22', 0], ['22', '21', 19], ['22', '23', 16], ['23', '23', 0], ['23', '22', 16], ['23', '71', 38], ['24', '24', 0], ['24', '25', 15], ['24', '61', 42], ['25', '25', 0], ['25', '24', 15], ['25', '26', 16], ['26', '26', 0], ['26', '25', 16], ['26', '27', 17], ['27', '27', 0], ['27', '26', 17], ['27', '28', 18], ['28', '28', 0], ['28', '26', 47], ['28', '27', 18], ['29', '29', 0], ['29', '30', 17], ['29', '63', 30], ['30', '30', 0], ['30', '29', 17], ['30', '31', 18], ['31', '31', 0], ['31', '30', 18], ['31', '32', 16], ['32', '32', 0], ['32', '31', 16], ['32', '33', 14], ['33', '33', 0], ['33', '31', 45], ['33', '32', 14], ['34', '34', 0], ['34', '78', 20], ['34', '80', 17], ['35', '35', 0], ['35', '74', 189], ['35', '77', 30], ['36', '36', 0], ['36', '5', 123], ['36', '43', 153], ['37', '37', 0], ['37', '0', 20], ['37', '38', 13], ['38', '38', 0], ['38', '37', 13], ['38', '39', 15], ['39', '39', 0], ['39', '38', 15], ['39', '40', 40], ['40', '40', 0], ['40', '4', 35], ['40', '43', 30], ['41', '41', 0], ['41', '11', 33], ['41', '43', 49], ['42', '42', 0], ['42', '1', 20], ['42', '2', 21], ['43', '43', 0], ['43', '4', 44], ['43', '40', 30], ['44', '44', 0], ['44', '9', 30], ['44', '45', 29], ['45', '45', 0], ['45', '9', 35], ['45', '44', 29], ['46', '46', 0], ['46', '41', 63], ['46', '47', 29], ['47', '47', 0], ['47', '43', 49], ['47', '46', 29], ['48', '48', 0], ['48', '49', 24], ['48', '51', 19], ['49', '49', 0], ['49', '45', 46], ['49', '48', 24], ['50', '50', 0], ['50', '15', 33], ['50', '16', 39], ['51', '51', 0], ['51', '48', 19], ['51', '52', 23], ['52', '52', 0], ['52', '51', 23], ['52', '56', 19], ['53', '53', 0], ['53', '54', 43], ['53', '58', 24], ['54', '54', 0], ['54', '58', 34], ['54', '59', 39], ['55', '55', 0], ['55', '54', 45], ['55', '59', 48], ['56', '56', 0], ['56', '18', 34], ['56', '52', 19], ['57', '57', 0], ['57', '18', 5], ['57', '58', 41], ['58', '58', 0], ['58', '53', 24], ['58', '54', 34], ['59', '59', 0], ['59', '54', 39], ['59', '58', 43], ['60', '60', 0], ['60', '55', 67], ['60', '59', 45], ['61', '61', 0], ['61', '24', 42], ['61', '62', 66], ['62', '62', 0], ['62', '19', 30], ['62', '57', 46], ['63', '63', 0], ['63', '29', 30], ['63', '58', 46], ['64', '64', 0], ['64', '65', 35], ['64', '66', 60], ['65', '65', 0], ['65', '64', 35], ['65', '66', 10], ['66', '66', 0], ['66', '65', 10], ['66', '67', 13], ['67', '67', 0], ['67', '66', 13], ['67', '68', 12], ['68', '68', 0], ['68', '67', 12], ['68', '69', 11], ['69', '69', 0], ['69', '67', 42], ['69', '68', 11], ['70', '70', 0], ['70', '71', 38], ['70', '72', 18], ['71', '71', 0], ['71', '23', 38], ['71', '70', 38], ['72', '72', 0], ['72', '70', 18], ['72', '80', 31], ['73', '73', 0], ['73', '71', 53], ['73', '80', 44], ['74', '74', 0], ['74', '35', 189], ['74', '75', 37], ['75', '75', 0], ['75', '74', 37], ['75', '78', 36], ['76', '76', 0], ['76', '75', 73], ['76', '78', 124], ['77', '77', 0], ['77', '35', 30], ['77', '74', 229], ['78', '78', 0], ['78', '34', 20], ['78', '75', 36], ['79', '79', 0], ['79', '78', 50], ['79', '80', 58], ['80', '80', 0], ['80', '34', 17], ['80', '72', 31]]}, '0060024314': {'objects': ['0', '1', '2', '3', '4', '5', '6', '7', '8', '9', '10', '11', '12', '13', '14', '15', '16', '17', '18', '19', '20', '21', '22', '23', '24', '25', '26', '27', '28', '29', '30', '31', '32', '33', '34', '35', '36', '37', '38'], 'relationships': [['0', '0', 0], ['0', '16', 23], ['0', '18', 87], ['1', '1', 0], ['1', '13', 37], ['1', '17', 125], ['2', '2', 0], ['2', '18', 20], ['2', '20', 8], ['3', '3', 0], ['3', '4', 24], ['3', '22', 20], ['4', '4', 0], ['4', '3', 24], ['4', '29', 25], ['5', '5', 0], ['5', '7', 63], ['5', '30', 94], ['6', '6', 0], ['6', '9', 81], ['6', '24', 100], ['7', '7', 0], ['7', '5', 63], ['7', '26', 57], ['8', '8', 0], ['8', '36', 60], ['8', '37', 24], ['9', '9', 0], ['9', '21', 67], ['9', '23', 67], ['10', '10', 0], ['10', '27', 38], ['10', '30', 66], ['11', '11', 0], ['11', '12', 27], ['11', '32', 25], ['12', '12', 0], ['12', '11', 27], ['12', '32', 19], ['13', '13', 0], ['13', '1', 37], ['13', '15', 111], ['14', '14', 0], ['14', '13', 142], ['14', '15', 36], ['15', '15', 0], ['15', '13', 111], ['15', '14', 36], ['16', '16', 0], ['16', '0', 23], ['16', '18', 91], ['17', '17', 0], ['17', '18', 95], ['17', '19', 70], ['18', '18', 0], ['18', '2', 20], ['18', '19', 30], ['19', '19', 0], ['19', '17', 70], ['19', '18', 30], ['20', '20', 0], ['20', '2', 8], ['20', '18', 95], ['20', '21', 95], ['21', '21', 0], ['21', '2', 23], ['21', '22', 23], ['22', '22', 0], ['22', '3', 20], ['22', '21', 23], ['23', '23', 0], ['23', '22', 36], ['23', '28', 55], ['24', '24', 0], ['24', '5', 100], ['24', '6', 100], ['24', '25', 12], ['25', '25', 0], ['25', '24', 12], ['25', '26', 58], ['26', '26', 0], ['26', '7', 57], ['26', '25', 58], ['27', '27', 0], ['27', '4', 36], ['27', '10', 38], ['28', '28', 0], ['28', '3', 55], ['28', '23', 55], ['29', '29', 0], ['29', '3', 63], ['29', '4', 25], ['30', '30', 0], ['30', '10', 66], ['30', '11', 67], ['31', '31', 0], ['31', '11', 47], ['31', '32', 21], ['32', '32', 0], ['32', '12', 19], ['32', '33', 20], ['33', '33', 0], ['33', '32', 20], ['33', '34', 34], ['34', '34', 0], ['34', '33', 34], ['34', '36', 26], ['35', '35', 0], ['35', '11', 71], ['35', '12', 62], ['35', '34', 71], ['36', '36', 0], ['36', '34', 26], ['36', '37', 24], ['37', '37', 0], ['37', '8', 24], ['37', '36', 24], ['38', '38', 0], ['38', '5', 420], ['38', '35', 377]]}, '0013255595': {'objects': ['0', '1', '2', '3', '4', '5', '6', '7', '8', '9', '10', '11', '12', '13', '14', '15', '16'], 'relationships': [['0', '0', 0], ['0', '1', 10], ['0', '2', 63], ['1', '1', 0], ['1', '0', 10], ['1', '2', 33], ['2', '2', 0], ['2', '1', 33], ['2', '3', 28], ['3', '3', 0], ['3', '2', 28], ['3', '11', 37], ['4', '4', 0], ['4', '15', 41], ['4', '16', 12], ['5', '5', 0], ['5', '6', 107], ['5', '14', 46], ['6', '6', 0], ['6', '5', 107], ['6', '7', 122], ['7', '7', 0], ['7', '6', 122], ['7', '10', 55], ['8', '8', 0], ['8', '0', 151], ['8', '9', 52], ['9', '9', 0], ['9', '7', 311], ['9', '8', 52], ['10', '10', 0], ['10', '5', 112], ['10', '7', 55], ['11', '11', 0], ['11', '12', 7], ['11', '13', 36], ['12', '12', 0], ['12', '11', 7], ['12', '13', 10], ['13', '13', 0], ['13', '12', 10], ['13', '14', 10], ['14', '14', 0], ['14', '13', 10], ['14', '15', 1], ['15', '15', 0], ['15', '14', 1], ['15', '16', 12], ['16', '16', 0], ['16', '4', 12], ['16', '15', 12]]}, '0060165115': {'objects': ['0', '1', '2', '3', '4', '5', '6', '7', '8', '9', '10', '11', '12', '13', '14', '15', '16', '17', '18', '19', '20', '21', '22', '23', '24', '25', '26', '27', '28', '29', '30', '31', '32', '33', '34', '35'], 'relationships': [['0', '0', 0], ['0', '1', 32], ['0', '15', 56], ['1', '1', 0], ['1', '0', 32], ['1', '2', 34], ['2', '2', 0], ['2', '1', 34], ['2', '3', 49], ['3', '3', 0], ['3', '2', 49], ['3', '20', 91], ['4', '4', 0], ['4', '5', 2], ['4', '33', 2], ['5', '5', 0], ['5', '4', 2], ['5', '33', 21], ['6', '6', 0], ['6', '27', 4], ['6', '28', 30], ['7', '7', 0], ['7', '14', 47], ['7', '16', 124], ['8', '8', 0], ['8', '9', 69], ['8', '30', 175], ['9', '9', 0], ['9', '8', 69], ['9', '30', 52], ['10', '10', 0], ['10', '4', 22], ['10', '11', 3], ['11', '11', 0], ['11', '10', 3], ['11', '33', 34], ['12', '12', 0], ['12', '4', 35], ['12', '5', 43], ['13', '13', 0], ['13', '14', 27], ['13', '15', 66], ['14', '14', 0], ['14', '13', 27], ['14', '15', 20], ['15', '15', 0], ['15', '0', 56], ['15', '14', 20], ['16', '16', 0], ['16', '17', 32], ['16', '18', 82], ['17', '17', 0], ['17', '16', 32], ['17', '18', 33], ['18', '18', 0], ['18', '17', 33], ['18', '20', 33], ['19', '19', 0], ['19', '18', 94], ['19', '24', 66], ['20', '20', 0], ['20', '18', 33], ['20', '21', 15], ['21', '21', 0], ['21', '20', 15], ['21', '23', 32], ['22', '22', 0], ['22', '23', 16], ['22', '26', 57], ['23', '23', 0], ['23', '21', 32], ['23', '22', 16], ['24', '24', 0], ['24', '19', 66], ['24', '20', 48], ['25', '25', 0], ['25', '6', 49], ['25', '26', 45], ['26', '26', 0], ['26', '22', 57], ['26', '25', 45], ['27', '27', 0], ['27', '6', 4], ['27', '28', 62], ['28', '28', 0], ['28', '6', 30], ['28', '27', 62], ['29', '29', 0], ['29', '30', 10], ['29', '32', 2], ['30', '30', 0], ['30', '29', 10], ['30', '32', 20], ['31', '31', 0], ['31', '29', 69], ['31', '30', 69], ['31', '32', 9], ['32', '32', 0], ['32', '29', 2], ['32', '31', 9], ['33', '33', 0], ['33', '4', 2], ['33', '5', 21], ['33', '34', 21], ['34', '34', 0], ['34', '4', 32], ['34', '5', 32], ['34', '33', 21], ['35', '35', 0], ['35', '4', 38], ['35', '5', 30]]}, '0060136394': {'objects': ['0', '1', '2', '3', '4', '5', '6', '7', '8', '9', '10', '11', '12', '13', '14', '15', '16', '17', '18', '19', '20', '21', '22', '23', '24', '25', '26'], 'relationships': [['0', '0', 0], ['0', '23', 43], ['0', '24', 122], ['1', '1', 0], ['1', '2', 58], ['1', '22', 33], ['2', '2', 0], ['2', '1', 58], ['2', '21', 17], ['3', '3', 0], ['3', '18', 70], ['3', '25', 87], ['4', '4', 0], ['4', '5', 14], ['4', '11', 15], ['5', '5', 0], ['5', '4', 14], ['5', '11', 43], ['6', '6', 0], ['6', '7', 15], ['6', '15', 14], ['7', '7', 0], ['7', '6', 15], ['7', '16', 18], ['8', '8', 0], ['8', '9', 39], ['8', '10', 69], ['9', '9', 0], ['9', '8', 39], ['9', '26', 76], ['10', '10', 0], ['10', '8', 69], ['10', '26', 30], ['11', '11', 0], ['11', '4', 15], ['11', '5', 43], ['12', '12', 0], ['12', '13', 149], ['12', '17', 251], ['13', '13', 0], ['13', '14', 14], ['13', '15', 36], ['14', '14', 0], ['14', '13', 14], ['14', '15', 14], ['15', '15', 0], ['15', '6', 14], ['15', '14', 14], ['15', '16', 9], ['16', '16', 0], ['16', '7', 18], ['16', '15', 9], ['17', '17', 0], ['17', '7', 76], ['17', '18', 15], ['18', '18', 0], ['18', '17', 15], ['18', '19', 36], ['19', '19', 0], ['19', '18', 36], ['19', '20', 13], ['20', '20', 0], ['20', '19', 13], ['20', '21', 57], ['21', '21', 0], ['21', '2', 17], ['21', '20', 57], ['22', '22', 0], ['22', '1', 33], ['22', '21', 63], ['23', '23', 0], ['23', '0', 43], ['23', '20', 117], ['24', '24', 0], ['24', '0', 122], ['24', '3', 118], ['25', '25', 0], ['25', '4', 57], ['25', '26', 15], ['26', '26', 0], ['26', '10', 30], ['26', '25', 15]]}, '0011859695': {'objects': ['0', '1', '2', '3', '4', '5', '6', '7', '8', '9', '10', '11', '12', '13', '14', '15', '16', '17', '18', '19', '20', '21', '22', '23', '24', '25', '26', '27', '28'], 'relationships': [['0', '0', 0], ['0', '4', 39], ['0', '13', 28], ['1', '1', 0], ['1', '2', 31], ['1', '15', 25], ['2', '2', 0], ['2', '1', 31], ['2', '14', 35], ['3', '3', 0], ['3', '4', 38], ['3', '17', 27], ['4', '4', 0], ['4', '3', 38], ['4', '16', 21], ['5', '5', 0], ['5', '3', 41], ['5', '6', 41], ['5', '18', 26], ['6', '6', 0], ['6', '5', 41], ['6', '19', 65], ['7', '7', 0], ['7', '20', 38], ['7', '21', 80], ['8', '8', 0], ['8', '9', 3], ['8', '26', 18], ['9', '9', 0], ['9', '8', 3], ['9', '10', 21], ['10', '10', 0], ['10', '8', 25], ['10', '9', 21], ['11', '11', 0], ['11', '12', 25], ['11', '14', 138], ['12', '12', 0], ['12', '11', 25], ['12', '13', 124], ['13', '13', 0], ['13', '0', 28], ['13', '16', 36], ['14', '14', 0], ['14', '2', 35], ['14', '15', 30], ['15', '15', 0], ['15', '1', 25], ['15', '14', 30], ['16', '16', 0], ['16', '4', 21], ['16', '13', 36], ['17', '17', 0], ['17', '3', 27], ['17', '18', 30], ['18', '18', 0], ['18', '5', 26], ['18', '17', 30], ['19', '19', 0], ['19', '6', 65], ['19', '22', 83], ['20', '20', 0], ['20', '7', 38], ['20', '21', 18], ['21', '21', 0], ['21', '7', 80], ['21', '20', 18], ['22', '22', 0], ['22', '6', 73], ['22', '23', 22], ['23', '23', 0], ['23', '6', 127], ['23', '22', 22], ['24', '24', 0], ['24', '25', 5], ['24', '26', 57], ['25', '25', 0], ['25', '24', 5], ['25', '26', 29], ['26', '26', 0], ['26', '8', 18], ['26', '25', 29], ['27', '27', 0], ['27', '10', 306], ['27', '26', 239], ['28', '28', 0], ['28', '9', 79], ['28', '10', 91]]}, '0001477983': {'objects': ['0', '1', '2', '3', '4', '5', '6', '7', '8', '9', '10', '11', '12', '13', '14', '15', '16', '17', '18', '19', '20', '21', '22', '23', '24', '25', '26', '27', '28', '29', '30', '31', '32', '33', '34', '35', '36', '37', '38', '39', '40', '41', '42', '43', '44', '45', '46', '47', '48', '49', '50', '51', '52', '53', '54', '55', '56', '57', '58', '59', '60', '61', '62', '63', '64'], 'relationships': [['0', '0', 0], ['0', '5', 2], ['0', '62', 14], ['1', '1', 0], ['1', '57', 4], ['1', '64', 5], ['2', '2', 0], ['2', '3', 19], ['2', '59', 22], ['3', '3', 0], ['3', '2', 19], ['3', '59', 3], ['4', '4', 0], ['4', '3', 24], ['4', '60', 4], ['5', '5', 0], ['5', '0', 2], ['5', '62', 49], ['6', '6', 0], ['6', '25', 87], ['6', '62', 4], ['7', '7', 0], ['7', '8', 8], ['7', '61', 16], ['8', '8', 0], ['8', '7', 8], ['8', '10', 21], ['9', '9', 0], ['9', '12', 32], ['9', '13', 25], ['10', '10', 0], ['10', '7', 20], ['10', '55', 8], ['11', '11', 0], ['11', '7', 27], ['11', '8', 22], ['12', '12', 0], ['12', '10', 31], ['12', '14', 16], ['13', '13', 0], ['13', '9', 25], ['13', '14', 14], ['14', '14', 0], ['14', '12', 16], ['14', '13', 14], ['15', '15', 0], ['15', '16', 4], ['15', '17', 19], ['16', '16', 0], ['16', '15', 4], ['16', '17', 4], ['17', '17', 0], ['17', '16', 4], ['17', '18', 11], ['18', '18', 0], ['18', '16', 11], ['18', '17', 11], ['19', '19', 0], ['19', '20', 5], ['19', '21', 17], ['20', '20', 0], ['20', '19', 5], ['20', '21', 16], ['21', '21', 0], ['21', '20', 16], ['21', '22', 4], ['22', '22', 0], ['22', '21', 4], ['22', '24', 17], ['23', '23', 0], ['23', '24', 2], ['23', '25', 44], ['24', '24', 0], ['24', '22', 17], ['24', '23', 2], ['25', '25', 0], ['25', '23', 44], ['25', '24', 42], ['26', '26', 0], ['26', '27', 17], ['26', '54', 21], ['27', '27', 0], ['27', '26', 17], ['27', '28', 18], ['28', '28', 0], ['28', '27', 18], ['28', '29', 10], ['29', '29', 0], ['29', '28', 10], ['29', '51', 74], ['30', '30', 0], ['30', '31', 28], ['30', '51', 106], ['31', '31', 0], ['31', '30', 28], ['31', '52', 131], ['32', '32', 0], ['32', '33', 16], ['32', '34', 42], ['33', '33', 0], ['33', '32', 16], ['33', '34', 32], ['34', '34', 0], ['34', '32', 42], ['34', '33', 32], ['35', '35', 0], ['35', '37', 26], ['35', '40', 25], ['36', '36', 0], ['36', '37', 134], ['36', '42', 127], ['37', '37', 0], ['37', '32', 125], ['37', '35', 26], ['38', '38', 0], ['38', '39', 6], ['38', '41', 31], ['39', '39', 0], ['39', '38', 6], ['39', '40', 4], ['40', '40', 0], ['40', '35', 25], ['40', '39', 4], ['41', '41', 0], ['41', '39', 7], ['41', '45', 17], ['42', '42', 0], ['42', '41', 22], ['42', '44', 74], ['43', '43', 0], ['43', '41', 19], ['43', '45', 18], ['44', '44', 0], ['44', '40', 54], ['44', '43', 44], ['45', '45', 0], ['45', '41', 17], ['45', '46', 5], ['46', '46', 0], ['46', '45', 5], ['46', '64', 16], ['47', '47', 0], ['47', '48', 135], ['47', '52', 135], ['47', '54', 120], ['48', '48', 0], ['48', '49', 31], ['48', '54', 123], ['49', '49', 0], ['49', '47', 144], ['49', '48', 31], ['50', '50', 0], ['50', '49', 209], ['50', '52', 283], ['51', '51', 0], ['51', '29', 74], ['51', '52', 91], ['52', '52', 0], ['52', '27', 57], ['52', '53', 15], ['53', '53', 0], ['53', '27', 23], ['53', '52', 15], ['54', '54', 0], ['54', '26', 21], ['54', '27', 20], ['55', '55', 0], ['55', '7', 27], ['55', '10', 8], ['56', '56', 0], ['56', '10', 59], ['56', '54', 59], ['56', '55', 51], ['57', '57', 0], ['57', '1', 4], ['57', '2', 32], ['58', '58', 0], ['58', '60', 17], ['58', '63', 14], ['59', '59', 0], ['59', '3', 3], ['59', '61', 15], ['60', '60', 0], ['60', '4', 4], ['60', '58', 17], ['61', '61', 0], ['61', '7', 16], ['61', '59', 15], ['62', '62', 0], ['62', '0', 14], ['62', '6', 4], ['63', '63', 0], ['63', '58', 14], ['63', '64', 16], ['64', '64', 0], ['64', '1', 5], ['64', '46', 16], ['64', '63', 16]]}, '00922237': {'objects': ['0', '1', '2', '3', '4', '5', '6', '7', '8', '9', '10', '11', '12', '13', '14', '15', '16', '17', '18', '19', '20', '21', '22', '23', '24', '25', '26', '27', '28', '29', '30', '31', '32', '33', '34'], 'relationships': [['0', '0', 0], ['0', '30', 104], ['0', '32', 21], ['1', '1', 0], ['1', '3', 60], ['1', '33', 22], ['2', '2', 0], ['2', '31', 10], ['2', '34', 19], ['3', '3', 0], ['3', '1', 60], ['3', '34', 68], ['4', '4', 0], ['4', '25', 22], ['4', '26', 45], ['5', '5', 0], ['5', '4', 58], ['5', '26', 46], ['6', '6', 0], ['6', '19', 123], ['6', '25', 88], ['7', '7', 0], ['7', '8', 7], ['7', '15', 55], ['8', '8', 0], ['8', '7', 7], ['8', '11', 41], ['9', '9', 0], ['9', '14', 13], ['9', '17', 29], ['10', '10', 0], ['10', '22', 43], ['10', '23', 12], ['11', '11', 0], ['11', '8', 41], ['11', '16', 5], ['12', '12', 0], ['12', '20', 16], ['12', '21', 29], ['13', '13', 0], ['13', '14', 62], ['13', '15', 93], ['14', '14', 0], ['14', '9', 13], ['14', '17', 50], ['15', '15', 0], ['15', '7', 55], ['15', '8', 48], ['16', '16', 0], ['16', '11', 5], ['16', '21', 31], ['17', '17', 0], ['17', '9', 29], ['17', '18', 19], ['18', '18', 0], ['18', '9', 60], ['18', '17', 19], ['19', '19', 0], ['19', '16', 62], ['19', '24', 41], ['20', '20', 0], ['20', '11', 60], ['20', '12', 16], ['21', '21', 0], ['21', '12', 29], ['21', '22', 13], ['21', '25', 29], ['22', '22', 0], ['22', '21', 13], ['22', '25', 11], ['23', '23', 0], ['23', '10', 12], ['23', '19', 69], ['24', '24', 0], ['24', '18', 68], ['24', '19', 41], ['25', '25', 0], ['25', '4', 22], ['25', '22', 11], ['26', '26', 0], ['26', '4', 45], ['26', '5', 46], ['27', '27', 0], ['27', '19', 130], ['27', '24', 85], ['28', '28', 0], ['28', '29', 55], ['28', '30', 153], ['29', '29', 0], ['29', '28', 55], ['29', '32', 120], ['30', '30', 0], ['30', '1', 79], ['30', '32', 86], ['31', '31', 0], ['31', '2', 10], ['31', '34', 46], ['32', '32', 0], ['32', '0', 21], ['32', '33', 67], ['33', '33', 0], ['33', '1', 22], ['33', '32', 67], ['34', '34', 0], ['34', '2', 19], ['34', '31', 46]]}, '0001456787': {'objects': ['0', '1', '2', '3', '4', '5', '6', '7', '8', '9', '10', '11', '12', '13', '14', '15', '16', '17', '18', '19', '20', '21', '22', '23', '24', '25', '26', '27', '28', '29', '30', '31', '32', '33', '34', '35', '36', '37', '38', '39', '40', '41', '42', '43', '44', '45', '46', '47', '48', '49', '50', '51', '52', '53', '54', '55', '56', '57', '58', '59', '60', '61', '62', '63', '64', '65', '66', '67', '68', '69', '70', '71', '72', '73'], 'relationships': [['0', '0', 0], ['0', '20', 66], ['0', '21', 92], ['1', '1', 0], ['1', '33', 15], ['1', '34', 12], ['2', '2', 0], ['2', '38', 15], ['2', '39', 10], ['3', '3', 0], ['3', '39', 16], ['3', '40', 13], ['4', '4', 0], ['4', '40', 16], ['4', '41', 16], ['5', '5', 0], ['5', '42', 31], ['5', '43', 6], ['6', '6', 0], ['6', '64', 51], ['6', '73', 49], ['7', '7', 0], ['7', '59', 74], ['7', '65', 56], ['8', '8', 0], ['8', '6', 67], ['8', '63', 53], ['9', '9', 0], ['9', '58', 13], ['9', '59', 43], ['10', '10', 0], ['10', '55', 77], ['10', '56', 52], ['11', '11', 0], ['11', '54', 70], ['11', '57', 47], ['12', '12', 0], ['12', '14', 38], ['12', '50', 15], ['13', '13', 0], ['13', '15', 39], ['13', '46', 13], ['14', '14', 0], ['14', '50', 14], ['14', '51', 11], ['15', '15', 0], ['15', '46', 14], ['15', '47', 5], ['16', '16', 0], ['16', '52', 52], ['16', '53', 49], ['17', '17', 0], ['17', '18', 83], ['17', '21', 77], ['18', '18', 0], ['18', '71', 30], ['18', '72', 55], ['19', '19', 0], ['19', '69', 46], ['19', '70', 22], ['20', '20', 0], ['20', '21', 11], ['20', '22', 37], ['21', '21', 0], ['21', '20', 11], ['21', '22', 11], ['22', '22', 0], ['22', '21', 11], ['22', '23', 12], ['23', '23', 0], ['23', '22', 12], ['23', '24', 11], ['24', '24', 0], ['24', '23', 11], ['24', '25', 11], ['25', '25', 0], ['25', '24', 11], ['25', '26', 9], ['26', '26', 0], ['26', '25', 9], ['26', '27', 12], ['27', '27', 0], ['27', '26', 12], ['27', '28', 17], ['28', '28', 0], ['28', '27', 17], ['28', '29', 13], ['29', '29', 0], ['29', '28', 13], ['29', '30', 12], ['30', '30', 0], ['30', '29', 12], ['30', '31', 14], ['31', '31', 0], ['31', '30', 14], ['31', '32', 15], ['32', '32', 0], ['32', '31', 15], ['32', '33', 11], ['33', '33', 0], ['33', '1', 15], ['33', '32', 11], ['34', '34', 0], ['34', '1', 12], ['34', '35', 11], ['35', '35', 0], ['35', '34', 11], ['35', '36', 14], ['36', '36', 0], ['36', '35', 14], ['36', '37', 16], ['37', '37', 0], ['37', '36', 16], ['37', '38', 11], ['38', '38', 0], ['38', '2', 15], ['38', '37', 11], ['39', '39', 0], ['39', '2', 10], ['39', '3', 16], ['40', '40', 0], ['40', '3', 13], ['40', '4', 16], ['41', '41', 0], ['41', '4', 16], ['41', '42', 7], ['42', '42', 0], ['42', '41', 7], ['42', '43', 8], ['43', '43', 0], ['43', '5', 6], ['43', '42', 8], ['44', '44', 0], ['44', '13', 70], ['44', '45', 51], ['45', '45', 0], ['45', '12', 65], ['45', '44', 51], ['46', '46', 0], ['46', '13', 13], ['46', '15', 14], ['47', '47', 0], ['47', '15', 5], ['47', '48', 6], ['48', '48', 0], ['48', '47', 6], ['48', '49', 12], ['49', '49', 0], ['49', '47', 31], ['49', '48', 12], ['50', '50', 0], ['50', '12', 15], ['50', '14', 14], ['51', '51', 0], ['51', '14', 11], ['51', '52', 8], ['52', '52', 0], ['52', '51', 8], ['52', '53', 12], ['53', '53', 0], ['53', '51', 35], ['53', '52', 12], ['54', '54', 0], ['54', '55', 39], ['54', '57', 10], ['55', '55', 0], ['55', '54', 39], ['55', '56', 6], ['56', '56', 0], ['56', '10', 52], ['56', '55', 6], ['57', '57', 0], ['57', '11', 47], ['57', '54', 10], ['58', '58', 0], ['58', '9', 13], ['58', '59', 16], ['59', '59', 0], ['59', '9', 43], ['59', '58', 16], ['60', '60', 0], ['60', '61', 14], ['60', '62', 38], ['61', '61', 0], ['61', '60', 14], ['61', '62', 13], ['62', '62', 0], ['62', '60', 38], ['62', '61', 13], ['63', '63', 0], ['63', '8', 53], ['63', '64', 4], ['64', '64', 0], ['64', '63', 4], ['64', '73', 45], ['65', '65', 0], ['65', '66', 9], ['65', '67', 41], ['66', '66', 0], ['66', '65', 9], ['66', '67', 18], ['67', '67', 0], ['67', '66', 18], ['67', '68', 13], ['68', '68', 0], ['68', '67', 13], ['68', '69', 16], ['69', '69', 0], ['69', '68', 16], ['69', '70', 14], ['70', '70', 0], ['70', '19', 22], ['70', '69', 14], ['71', '71', 0], ['71', '18', 30], ['71', '72', 11], ['72', '72', 0], ['72', '71', 11], ['72', '73', 14], ['73', '73', 0], ['73', '71', 38], ['73', '72', 14]]}, '91104867': {'objects': ['0', '1', '2', '3', '4', '5', '6', '7', '8', '9', '10', '11', '12', '13', '14', '15', '16', '17', '18', '19', '20', '21', '22', '23', '24', '25', '26', '27', '28', '29', '30', '31', '32', '33', '34', '35', '36', '37', '38', '39', '40', '41', '42', '43', '44', '45', '46', '47', '48', '49', '50', '51', '52', '53', '54', '55'], 'relationships': [['0', '0', 0], ['0', '1', 18], ['0', '10', 22], ['1', '1', 0], ['1', '2', 15], ['1', '9', 17], ['2', '2', 0], ['2', '1', 15], ['2', '3', 19], ['3', '3', 0], ['3', '2', 19], ['3', '11', 18], ['4', '4', 0], ['4', '5', 17], ['4', '10', 21], ['5', '5', 0], ['5', '4', 17], ['5', '6', 15], ['6', '6', 0], ['6', '5', 15], ['6', '8', 15], ['7', '7', 0], ['7', '6', 17], ['7', '11', 18], ['8', '8', 0], ['8', '6', 15], ['8', '11', 19], ['9', '9', 0], ['9', '1', 17], ['9', '10', 16], ['10', '10', 0], ['10', '4', 21], ['10', '9', 16], ['11', '11', 0], ['11', '3', 18], ['11', '7', 18], ['12', '12', 0], ['12', '13', 13], ['12', '16', 17], ['13', '13', 0], ['13', '12', 13], ['13', '14', 12], ['14', '14', 0], ['14', '13', 12], ['14', '15', 15], ['15', '15', 0], ['15', '14', 15], ['15', '19', 20], ['16', '16', 0], ['16', '12', 17], ['16', '17', 21], ['17', '17', 0], ['17', '13', 21], ['17', '16', 21], ['17', '18', 10], ['18', '18', 0], ['18', '17', 10], ['18', '19', 18], ['19', '19', 0], ['19', '15', 20], ['19', '18', 18], ['20', '20', 0], ['20', '21', 14], ['20', '24', 14], ['21', '21', 0], ['21', '22', 11], ['21', '25', 12], ['22', '22', 0], ['22', '21', 11], ['22', '23', 15], ['23', '23', 0], ['23', '22', 15], ['23', '26', 14], ['24', '24', 0], ['24', '20', 14], ['24', '25', 15], ['25', '25', 0], ['25', '21', 12], ['25', '24', 15], ['26', '26', 0], ['26', '23', 14], ['26', '25', 39], ['27', '27', 0], ['27', '29', 19], ['27', '48', 60], ['28', '28', 0], ['28', '16', 95], ['28', '45', 101], ['29', '29', 0], ['29', '27', 19], ['29', '44', 17], ['30', '30', 0], ['30', '45', 11], ['30', '50', 57], ['31', '31', 0], ['31', '46', 95], ['31', '53', 72], ['32', '32', 0], ['32', '33', 16], ['32', '55', 11], ['33', '33', 0], ['33', '32', 16], ['33', '34', 16], ['34', '34', 0], ['34', '33', 16], ['34', '41', 71], ['35', '35', 0], ['35', '36', 16], ['35', '40', 13], ['36', '36', 0], ['36', '35', 16], ['36', '40', 28], ['37', '37', 0], ['37', '39', 3], ['37', '41', 30], ['38', '38', 0], ['38', '35', 18], ['38', '40', 5], ['39', '39', 0], ['39', '37', 3], ['39', '41', 17], ['40', '40', 0], ['40', '35', 13], ['40', '38', 5], ['41', '41', 0], ['41', '37', 30], ['41', '39', 17], ['42', '42', 0], ['42', '35', 187], ['42', '36', 104], ['43', '43', 0], ['43', '44', 12], ['43', '46', 61], ['44', '44', 0], ['44', '29', 17], ['44', '43', 12], ['45', '45', 0], ['45', '30', 11], ['45', '46', 42], ['46', '46', 0], ['46', '43', 61], ['46', '45', 42], ['47', '47', 0], ['47', '48', 5], ['47', '51', 19], ['48', '48', 0], ['48', '47', 5], ['48', '49', 10], ['49', '49', 0], ['49', '4', 24], ['49', '48', 10], ['50', '50', 0], ['50', '49', 31], ['50', '51', 43], ['51', '51', 0], ['51', '29', 30], ['51', '47', 19], ['52', '52', 0], ['52', '20', 22], ['52', '53', 36], ['53', '53', 0], ['53', '24', 17], ['53', '52', 36], ['54', '54', 0], ['54', '46', 66], ['54', '52', 81], ['55', '55', 0], ['55', '32', 11], ['55', '39', 19]]}, '13149651': {'objects': ['0', '1', '2', '3', '4', '5', '6', '7', '8', '9', '10', '11', '12', '13', '14', '15', '16', '17', '18', '19', '20', '21', '22', '23', '24', '25', '26', '27', '28', '29', '30', '31', '32', '33', '34', '35', '36', '37', '38', '39', '40', '41', '42', '43', '44', '45', '46', '47', '48', '49', '50', '51', '52', '53', '54', '55', '56', '57', '58', '59', '60', '61', '62', '63', '64', '65', '66', '67', '68', '69', '70', '71', '72', '73', '74'], 'relationships': [['0', '0', 0], ['0', '1', 2], ['0', '29', 5], ['1', '1', 0], ['1', '0', 2], ['1', '29', 19], ['2', '2', 0], ['2', '31', 4], ['2', '32', 20], ['3', '3', 0], ['3', '32', 28], ['3', '40', 15], ['4', '4', 0], ['4', '6', 14], ['4', '51', 12], ['5', '5', 0], ['5', '6', 14], ['5', '73', 3], ['6', '6', 0], ['6', '4', 14], ['6', '5', 14], ['6', '74', 13], ['7', '7', 0], ['7', '8', 17], ['7', '64', 3], ['8', '8', 0], ['8', '7', 17], ['8', '67', 4], ['9', '9', 0], ['9', '49', 8], ['9', '50', 13], ['10', '10', 0], ['10', '11', 6], ['10', '50', 16], ['11', '11', 0], ['11', '10', 6], ['11', '48', 14], ['12', '12', 0], ['12', '13', 2], ['12', '52', 17], ['13', '13', 0], ['13', '12', 2], ['13', '52', 29], ['14', '14', 0], ['14', '16', 4], ['14', '61', 8], ['15', '15', 0], ['15', '17', 3], ['15', '60', 22], ['16', '16', 0], ['16', '14', 4], ['16', '34', 21], ['17', '17', 0], ['17', '15', 3], ['17', '59', 26], ['18', '18', 0], ['18', '36', 72], ['18', '37', 14], ['19', '19', 0], ['19', '20', 27], ['19', '21', 19], ['20', '20', 0], ['20', '19', 27], ['20', '21', 14], ['21', '21', 0], ['21', '19', 19], ['21', '20', 14], ['22', '22', 0], ['22', '20', 183], ['22', '21', 169], ['23', '23', 0], ['23', '25', 49], ['23', '26', 77], ['24', '24', 0], ['24', '25', 36], ['24', '26', 13], ['25', '25', 0], ['25', '24', 36], ['25', '26', 37], ['26', '26', 0], ['26', '24', 13], ['26', '25', 37], ['27', '27', 0], ['27', '1', 38], ['27', '28', 3], ['27', '29', 38], ['28', '28', 0], ['28', '27', 3], ['28', '29', 27], ['29', '29', 0], ['29', '0', 5], ['29', '1', 19], ['30', '30', 0], ['30', '2', 50], ['30', '32', 78], ['31', '31', 0], ['31', '2', 4], ['31', '3', 32], ['32', '32', 0], ['32', '2', 20], ['32', '40', 14], ['33', '33', 0], ['33', '14', 18], ['33', '61', 14], ['34', '34', 0], ['34', '16', 21], ['34', '35', 4], ['35', '35', 0], ['35', '16', 93], ['35', '34', 4], ['36', '36', 0], ['36', '18', 72], ['36', '37', 120], ['37', '37', 0], ['37', '18', 14], ['37', '38', 63], ['38', '38', 0], ['38', '19', 30], ['38', '37', 63], ['39', '39', 0], ['39', '18', 149], ['39', '37', 167], ['40', '40', 0], ['40', '3', 15], ['40', '32', 14], ['41', '41', 0], ['41', '40', 26], ['41', '42', 17], ['42', '42', 0], ['42', '43', 1], ['42', '44', 15], ['43', '43', 0], ['43', '42', 1], ['43', '44', 1], ['44', '44', 0], ['44', '43', 1], ['44', '51', 10], ['45', '45', 0], ['45', '42', 22], ['45', '46', 2], ['46', '46', 0], ['46', '43', 18], ['46', '45', 2], ['47', '47', 0], ['47', '9', 17], ['47', '50', 17], ['48', '48', 0], ['48', '10', 31], ['48', '11', 14], ['49', '49', 0], ['49', '9', 8], ['49', '50', 4], ['50', '50', 0], ['50', '9', 13], ['50', '49', 4], ['51', '51', 0], ['51', '4', 12], ['51', '44', 10], ['52', '52', 0], ['52', '12', 17], ['52', '13', 29], ['53', '53', 0], ['53', '54', 1], ['53', '55', 39], ['54', '54', 0], ['54', '53', 1], ['54', '62', 44], ['55', '55', 0], ['55', '53', 39], ['55', '54', 58], ['56', '56', 0], ['56', '66', 16], ['56', '68', 17], ['57', '57', 0], ['57', '58', 23], ['57', '62', 34], ['58', '58', 0], ['58', '57', 23], ['58', '59', 12], ['59', '59', 0], ['59', '17', 26], ['59', '58', 12], ['60', '60', 0], ['60', '15', 22], ['60', '16', 24], ['61', '61', 0], ['61', '14', 8], ['61', '33', 14], ['62', '62', 0], ['62', '57', 34], ['62', '63', 34], ['63', '63', 0], ['63', '57', 50], ['63', '62', 34], ['64', '64', 0], ['64', '7', 3], ['64', '67', 15], ['65', '65', 0], ['65', '66', 14], ['65', '68', 16], ['66', '66', 0], ['66', '56', 16], ['66', '65', 14], ['67', '67', 0], ['67', '8', 4], ['67', '64', 15], ['68', '68', 0], ['68', '56', 17], ['68', '65', 16], ['69', '69', 0], ['69', '70', 13], ['69', '72', 11], ['70', '70', 0], ['70', '69', 13], ['70', '71', 13], ['71', '71', 0], ['71', '70', 13], ['71', '72', 15], ['72', '72', 0], ['72', '69', 11], ['72', '71', 15], ['73', '73', 0], ['73', '5', 3], ['73', '74', 15], ['74', '74', 0], ['74', '4', 15], ['74', '6', 13], ['74', '73', 15]]}, '0011505151': {'objects': ['0', '1', '2', '3', '4', '5', '6', '7', '8', '9', '10', '11', '12', '13', '14', '15', '16', '17', '18', '19', '20', '21', '22', '23', '24', '25', '26', '27', '28', '29', '30', '31', '32', '33', '34', '35', '36', '37', '38', '39'], 'relationships': [['0', '0', 0], ['0', '1', 59], ['0', '15', 13], ['1', '1', 0], ['1', '2', 29], ['1', '15', 46], ['2', '2', 0], ['2', '1', 29], ['2', '20', 12], ['3', '3', 0], ['3', '8', 411], ['3', '14', 362], ['4', '4', 0], ['4', '5', 7], ['4', '6', 14], ['5', '5', 0], ['5', '4', 7], ['5', '7', 5], ['6', '6', 0], ['6', '4', 14], ['6', '7', 15], ['7', '7', 0], ['7', '5', 5], ['7', '6', 15], ['8', '8', 0], ['8', '7', 138], ['8', '14', 68], ['9', '9', 0], ['9', '10', 6], ['9', '37', 57], ['10', '10', 0], ['10', '9', 6], ['10', '37', 52], ['11', '11', 0], ['11', '13', 17], ['11', '38', 8], ['12', '12', 0], ['12', '13', 11], ['12', '39', 2], ['13', '13', 0], ['13', '12', 11], ['13', '39', 13], ['14', '14', 0], ['14', '8', 68], ['14', '12', 199], ['15', '15', 0], ['15', '0', 13], ['15', '1', 46], ['16', '16', 0], ['16', '17', 45], ['16', '21', 238], ['17', '17', 0], ['17', '16', 45], ['17', '19', 225], ['18', '18', 0], ['18', '19', 31], ['18', '21', 60], ['19', '19', 0], ['19', '18', 31], ['19', '21', 13], ['20', '20', 0], ['20', '2', 12], ['20', '22', 23], ['21', '21', 0], ['21', '19', 13], ['21', '23', 27], ['22', '22', 0], ['22', '2', 53], ['22', '20', 23], ['23', '23', 0], ['23', '19', 56], ['23', '21', 27], ['24', '24', 0], ['24', '25', 14], ['24', '26', 12], ['25', '25', 0], ['25', '24', 14], ['25', '29', 8], ['26', '26', 0], ['26', '24', 12], ['26', '30', 6], ['27', '27', 0], ['27', '25', 16], ['27', '26', 15], ['28', '28', 0], ['28', '29', 8], ['28', '30', 23], ['29', '29', 0], ['29', '25', 8], ['29', '28', 8], ['29', '30', 2], ['30', '30', 0], ['30', '26', 6], ['30', '29', 2], ['31', '31', 0], ['31', '29', 22], ['31', '30', 22], ['32', '32', 0], ['32', '9', 112], ['32', '37', 52], ['33', '33', 0], ['33', '38', 32], ['33', '39', 42], ['34', '34', 0], ['34', '35', 14], ['34', '36', 14], ['35', '35', 0], ['35', '34', 14], ['35', '36', 15], ['36', '36', 0], ['36', '34', 14], ['36', '35', 15], ['37', '37', 0], ['37', '10', 52], ['37', '32', 52], ['38', '38', 0], ['38', '11', 8], ['38', '12', 13], ['39', '39', 0], ['39', '12', 2], ['39', '13', 13]]}, '81749056_9057': {'objects': ['0', '1', '2', '3', '4', '5', '6', '7', '8', '9', '10', '11', '12', '13', '14', '15', '16', '17', '18', '19', '20', '21', '22', '23', '24', '25', '26', '27', '28', '29', '30', '31', '32', '33', '34', '35', '36', '37', '38', '39', '40', '41', '42', '43', '44', '45', '46', '47', '48', '49', '50', '51', '52', '53', '54', '55', '56', '57', '58', '59', '60', '61', '62', '63', '64', '65', '66', '67', '68', '69', '70', '71', '72', '73', '74', '75', '76'], 'relationships': [['0', '0', 0], ['0', '1', 18], ['0', '43', 31], ['1', '1', 0], ['1', '0', 18], ['1', '44', 8], ['2', '2', 0], ['2', '5', 26], ['2', '45', 19], ['3', '3', 0], ['3', '46', 44], ['3', '48', 21], ['4', '4', 0], ['4', '53', 60], ['4', '54', 115], ['5', '5', 0], ['5', '2', 26], ['5', '52', 15], ['6', '6', 0], ['6', '63', 51], ['6', '65', 40], ['7', '7', 0], ['7', '13', 19], ['7', '14', 33], ['7', '63', 33], ['8', '8', 0], ['8', '21', 19], ['8', '64', 32], ['9', '9', 0], ['9', '10', 4], ['9', '11', 22], ['10', '10', 0], ['10', '9', 4], ['10', '11', 8], ['11', '11', 0], ['11', '10', 8], ['11', '12', 7], ['12', '12', 0], ['12', '10', 19], ['12', '11', 7], ['13', '13', 0], ['13', '7', 19], ['13', '14', 6], ['14', '14', 0], ['14', '13', 6], ['14', '15', 6], ['15', '15', 0], ['15', '14', 6], ['15', '16', 5], ['16', '16', 0], ['16', '14', 25], ['16', '15', 5], ['17', '17', 0], ['17', '18', 5], ['17', '19', 26], ['18', '18', 0], ['18', '17', 5], ['18', '19', 8], ['19', '19', 0], ['19', '18', 8], ['19', '20', 7], ['20', '20', 0], ['20', '18', 26], ['20', '19', 7], ['21', '21', 0], ['21', '8', 19], ['21', '22', 7], ['22', '22', 0], ['22', '21', 7], ['22', '24', 3], ['23', '23', 0], ['23', '22', 20], ['23', '24', 4], ['24', '24', 0], ['24', '22', 3], ['24', '23', 4], ['25', '25', 0], ['25', '66', 6], ['25', '67', 4], ['26', '26', 0], ['26', '8', 86], ['26', '27', 21], ['27', '27', 0], ['27', '26', 21], ['27', '64', 35], ['28', '28', 0], ['28', '32', 19], ['28', '35', 16], ['29', '29', 0], ['29', '28', 22], ['29', '32', 1], ['30', '30', 0], ['30', '36', 17], ['30', '75', 24], ['31', '31', 0], ['31', '37', 15], ['31', '76', 18], ['32', '32', 0], ['32', '28', 19], ['32', '29', 1], ['33', '33', 0], ['33', '34', 20], ['33', '72', 30], ['34', '34', 0], ['34', '33', 20], ['34', '72', 18], ['35', '35', 0], ['35', '28', 16], ['35', '36', 40], ['36', '36', 0], ['36', '30', 17], ['36', '37', 37], ['37', '37', 0], ['37', '31', 15], ['37', '36', 37], ['38', '38', 0], ['38', '31', 95], ['38', '75', 95], ['38', '76', 64], ['39', '39', 0], ['39', '71', 138], ['39', '74', 197], ['40', '40', 0], ['40', '0', 36], ['40', '41', 58], ['41', '41', 0], ['41', '42', 50], ['41', '46', 56], ['42', '42', 0], ['42', '41', 50], ['42', '48', 98], ['43', '43', 0], ['43', '0', 31], ['43', '44', 17], ['44', '44', 0], ['44', '1', 8], ['44', '43', 17], ['45', '45', 0], ['45', '1', 19], ['45', '2', 19], ['45', '51', 13], ['46', '46', 0], ['46', '3', 44], ['46', '47', 14], ['47', '47', 0], ['47', '3', 65], ['47', '46', 14], ['48', '48', 0], ['48', '3', 21], ['48', '46', 72], ['49', '49', 0], ['49', '3', 77], ['49', '48', 105], ['50', '50', 0], ['50', '45', 30], ['50', '51', 23], ['51', '51', 0], ['51', '45', 13], ['51', '50', 23], ['52', '52', 0], ['52', '2', 38], ['52', '5', 15], ['53', '53', 0], ['53', '52', 48], ['53', '54', 43], ['54', '54', 0], ['54', '53', 43], ['54', '55', 27], ['55', '55', 0], ['55', '54', 27], ['55', '56', 16], ['56', '56', 0], ['56', '55', 16], ['56', '57', 19], ['57', '57', 0], ['57', '56', 19], ['57', '58', 29], ['58', '58', 0], ['58', '57', 29], ['58', '59', 22], ['59', '59', 0], ['59', '58', 22], ['59', '60', 32], ['60', '60', 0], ['60', '58', 78], ['60', '59', 32], ['61', '61', 0], ['61', '26', 88], ['61', '62', 17], ['62', '62', 0], ['62', '61', 17], ['62', '65', 58], ['63', '63', 0], ['63', '7', 33], ['63', '9', 49], ['64', '64', 0], ['64', '7', 35], ['64', '8', 32], ['64', '27', 35], ['65', '65', 0], ['65', '25', 22], ['65', '66', 3], ['66', '66', 0], ['66', '25', 6], ['66', '65', 3], ['67', '67', 0], ['67', '25', 4], ['67', '68', 6], ['68', '68', 0], ['68', '67', 6], ['68', '69', 5], ['69', '69', 0], ['69', '67', 17], ['69', '68', 5], ['70', '70', 0], ['70', '69', 23], ['70', '71', 20], ['71', '71', 0], ['71', '69', 48], ['71', '70', 20], ['72', '72', 0], ['72', '33', 30], ['72', '34', 18], ['73', '73', 0], ['73', '34', 71], ['73', '72', 53], ['74', '74', 0], ['74', '38', 194], ['74', '71', 140], ['75', '75', 0], ['75', '30', 24], ['75', '36', 40], ['76', '76', 0], ['76', '31', 18], ['76', '37', 40]]}, '0000990274': {'objects': ['0', '1', '2', '3', '4', '5', '6', '7', '8', '9', '10', '11', '12', '13', '14', '15', '16', '17', '18', '19', '20', '21', '22', '23', '24', '25', '26', '27', '28', '29', '30'], 'relationships': [['0', '0', 0], ['0', '1', 14], ['0', '14', 16], ['1', '1', 0], ['1', '2', 6], ['1', '3', 13], ['2', '2', 0], ['2', '1', 6], ['2', '17', 52], ['3', '3', 0], ['3', '1', 13], ['3', '18', 30], ['4', '4', 0], ['4', '5', 11], ['4', '18', 28], ['5', '5', 0], ['5', '4', 11], ['5', '21', 14], ['6', '6', 0], ['6', '19', 13], ['6', '20', 15], ['7', '7', 0], ['7', '8', 29], ['7', '9', 66], ['8', '8', 0], ['8', '7', 29], ['8', '9', 24], ['9', '9', 0], ['9', '7', 66], ['9', '8', 24], ['10', '10', 0], ['10', '27', 421], ['10', '29', 429], ['11', '11', 0], ['11', '12', 140], ['11', '30', 8], ['12', '12', 0], ['12', '15', 55], ['12', '16', 90], ['13', '13', 0], ['13', '11', 147], ['13', '30', 174], ['14', '14', 0], ['14', '0', 16], ['14', '1', 44], ['15', '15', 0], ['15', '16', 18], ['15', '17', 30], ['16', '16', 0], ['16', '15', 18], ['16', '17', 16], ['17', '17', 0], ['17', '15', 30], ['17', '16', 16], ['18', '18', 0], ['18', '4', 28], ['18', '19', 27], ['19', '19', 0], ['19', '6', 13], ['19', '18', 27], ['20', '20', 0], ['20', '6', 15], ['20', '19', 42], ['21', '21', 0], ['21', '5', 14], ['21', '22', 28], ['22', '22', 0], ['22', '21', 28], ['22', '24', 43], ['23', '23', 0], ['23', '7', 72], ['23', '21', 72], ['23', '24', 33], ['24', '24', 0], ['24', '22', 43], ['24', '23', 33], ['25', '25', 0], ['25', '26', 13], ['25', '27', 59], ['26', '26', 0], ['26', '25', 13], ['26', '27', 17], ['27', '27', 0], ['27', '25', 59], ['27', '26', 17], ['28', '28', 0], ['28', '9', 113], ['28', '29', 29], ['29', '29', 0], ['29', '9', 158], ['29', '28', 29], ['30', '30', 0], ['30', '11', 8], ['30', '13', 174]]}, '0011976929': {'objects': ['0', '1', '2', '3', '4', '5', '6', '7', '8', '9', '10', '11', '12', '13', '14', '15', '16', '17', '18', '19', '20', '21', '22', '23'], 'relationships': [['0', '0', 0], ['0', '4', 67], ['0', '13', 19], ['1', '1', 0], ['1', '21', 173], ['1', '23', 159], ['2', '2', 0], ['2', '3', 27], ['2', '23', 142], ['3', '3', 0], ['3', '2', 27], ['3', '20', 165], ['4', '4', 0], ['4', '0', 67], ['4', '15', 65], ['5', '5', 0], ['5', '9', 55], ['5', '11', 133], ['6', '6', 0], ['6', '7', 42], ['6', '10', 41], ['7', '7', 0], ['7', '6', 42], ['7', '10', 133], ['8', '8', 0], ['8', '9', 143], ['8', '11', 140], ['9', '9', 0], ['9', '5', 55], ['9', '11', 96], ['10', '10', 0], ['10', '6', 41], ['10', '12', 123], ['11', '11', 0], ['11', '9', 96], ['11', '10', 129], ['12', '12', 0], ['12', '4', 84], ['12', '14', 40], ['13', '13', 0], ['13', '0', 19], ['13', '4', 140], ['14', '14', 0], ['14', '12', 40], ['14', '16', 69], ['15', '15', 0], ['15', '4', 65], ['15', '17', 72], ['16', '16', 0], ['16', '17', 23], ['16', '18', 40], ['17', '17', 0], ['17', '16', 23], ['17', '19', 38], ['18', '18', 0], ['18', '16', 40], ['18', '19', 46], ['19', '19', 0], ['19', '17', 38], ['19', '18', 46], ['20', '20', 0], ['20', '18', 95], ['20', '21', 39], ['21', '21', 0], ['21', '20', 39], ['21', '23', 82], ['22', '22', 0], ['22', '20', 107], ['22', '23', 11], ['23', '23', 0], ['23', '21', 82], ['23', '22', 11]]}, '71108371': {'objects': ['0', '1', '2', '3', '4', '5', '6', '7', '8', '9', '10', '11', '12', '13', '14', '15', '16', '17', '18', '19', '20', '21', '22', '23', '24', '25', '26', '27', '28', '29', '30', '31', '32', '33', '34', '35', '36', '37', '38', '39', '40', '41', '42', '43', '44', '45', '46', '47', '48', '49', '50', '51', '52', '53', '54', '55', '56', '57', '58', '59', '60', '61', '62', '63', '64', '65', '66', '67', '68', '69', '70', '71', '72', '73', '74', '75', '76', '77', '78', '79', '80', '81'], 'relationships': [['0', '0', 0], ['0', '21', 12], ['0', '22', 4], ['1', '1', 0], ['1', '22', 6], ['1', '25', 22], ['2', '2', 0], ['2', '28', 17], ['2', '29', 10], ['3', '3', 0], ['3', '21', 16], ['3', '22', 4], ['4', '4', 0], ['4', '32', 8], ['4', '33', 20], ['5', '5', 0], ['5', '9', 7], ['5', '10', 16], ['6', '6', 0], ['6', '7', 7], ['6', '24', 7], ['7', '7', 0], ['7', '6', 7], ['7', '23', 2], ['8', '8', 0], ['8', '9', 4], ['8', '10', 13], ['9', '9', 0], ['9', '8', 4], ['9', '10', 4], ['10', '10', 0], ['10', '9', 4], ['10', '11', 4], ['11', '11', 0], ['11', '10', 4], ['11', '12', 2], ['12', '12', 0], ['12', '10', 17], ['12', '11', 2], ['13', '13', 0], ['13', '8', 37], ['13', '9', 35], ['14', '14', 0], ['14', '73', 15], ['14', '78', 15], ['15', '15', 0], ['15', '48', 53], ['15', '80', 40], ['16', '16', 0], ['16', '18', 81], ['16', '20', 75], ['17', '17', 0], ['17', '0', 20], ['17', '18', 8], ['18', '18', 0], ['18', '17', 8], ['18', '21', 24], ['19', '19', 0], ['19', '20', 4], ['19', '23', 18], ['20', '20', 0], ['20', '7', 20], ['20', '19', 4], ['21', '21', 0], ['21', '0', 12], ['21', '3', 16], ['22', '22', 0], ['22', '0', 4], ['22', '3', 4], ['23', '23', 0], ['23', '7', 2], ['23', '24', 4], ['24', '24', 0], ['24', '6', 7], ['24', '23', 4], ['25', '25', 0], ['25', '27', 3], ['25', '28', 19], ['26', '26', 0], ['26', '32', 15], ['26', '33', 29], ['27', '27', 0], ['27', '25', 3], ['27', '28', 4], ['28', '28', 0], ['28', '27', 4], ['28', '29', 3], ['29', '29', 0], ['29', '2', 10], ['29', '28', 3], ['30', '30', 0], ['30', '28', 15], ['30', '31', 3], ['31', '31', 0], ['31', '29', 18], ['31', '30', 3], ['32', '32', 0], ['32', '4', 8], ['32', '33', 14], ['33', '33', 0], ['33', '32', 14], ['33', '35', 14], ['34', '34', 0], ['34', '33', 16], ['34', '35', 12], ['34', '36', 16], ['35', '35', 0], ['35', '34', 12], ['35', '36', 3], ['36', '36', 0], ['36', '35', 3], ['36', '37', 12], ['37', '37', 0], ['37', '35', 15], ['37', '36', 12], ['37', '38', 15], ['38', '38', 0], ['38', '36', 14], ['38', '37', 15], ['39', '39', 0], ['39', '40', 4], ['39', '41', 12], ['40', '40', 0], ['40', '39', 4], ['40', '41', 8], ['41', '41', 0], ['41', '39', 12], ['41', '40', 8], ['42', '42', 0], ['42', '41', 55], ['42', '43', 10], ['43', '43', 0], ['43', '42', 10], ['43', '44', 60], ['44', '44', 0], ['44', '43', 60], ['44', '45', 69], ['45', '45', 0], ['45', '44', 69], ['45', '47', 125], ['45', '51', 125], ['46', '46', 0], ['46', '49', 15], ['46', '50', 21], ['47', '47', 0], ['47', '62', 16], ['47', '63', 13], ['48', '48', 0], ['48', '79', 8], ['48', '80', 11], ['49', '49', 0], ['49', '50', 3], ['49', '52', 14], ['50', '50', 0], ['50', '49', 3], ['50', '53', 17], ['51', '51', 0], ['51', '46', 33], ['51', '49', 33], ['51', '56', 27], ['52', '52', 0], ['52', '53', 3], ['52', '54', 1], ['53', '53', 0], ['53', '50', 17], ['53', '52', 3], ['54', '54', 0], ['54', '52', 1], ['54', '55', 4], ['55', '55', 0], ['55', '54', 4], ['55', '69', 25], ['56', '56', 0], ['56', '59', 15], ['56', '69', 13], ['57', '57', 0], ['57', '54', 15], ['57', '58', 2], ['57', '60', 15], ['58', '58', 0], ['58', '57', 2], ['58', '71', 23], ['59', '59', 0], ['59', '56', 15], ['59', '57', 22], ['59', '60', 22], ['60', '60', 0], ['60', '57', 15], ['60', '61', 2], ['61', '61', 0], ['61', '58', 32], ['61', '60', 2], ['62', '62', 0], ['62', '63', 14], ['62', '64', 14], ['62', '66', 4], ['63', '63', 0], ['63', '47', 13], ['63', '65', 2], ['64', '64', 0], ['64', '62', 14], ['64', '67', 4], ['64', '69', 14], ['65', '65', 0], ['65', '63', 2], ['65', '66', 25], ['66', '66', 0], ['66', '62', 4], ['66', '65', 25], ['67', '67', 0], ['67', '64', 4], ['67', '72', 32], ['68', '68', 0], ['68', '69', 21], ['68', '70', 24], ['69', '69', 0], ['69', '56', 13], ['69', '70', 4], ['69', '71', 13], ['70', '70', 0], ['70', '68', 24], ['70', '69', 4], ['71', '71', 0], ['71', '69', 13], ['71', '72', 1], ['72', '72', 0], ['72', '71', 1], ['72', '75', 29], ['73', '73', 0], ['73', '14', 15], ['73', '68', 29], ['74', '74', 0], ['74', '71', 14], ['74', '75', 4], ['74', '76', 14], ['75', '75', 0], ['75', '72', 29], ['75', '74', 4], ['76', '76', 0], ['76', '74', 14], ['76', '77', 7], ['77', '77', 0], ['77', '75', 31], ['77', '76', 7], ['78', '78', 0], ['78', '14', 15], ['78', '76', 22], ['79', '79', 0], ['79', '48', 8], ['79', '61', 146], ['80', '80', 0], ['80', '15', 40], ['80', '48', 11], ['81', '81', 0], ['81', '15', 198], ['81', '79', 215]]}, '11508234': {'objects': ['0', '1', '2', '3', '4', '5', '6', '7', '8', '9', '10', '11', '12', '13', '14', '15', '16', '17', '18', '19', '20', '21', '22', '23', '24', '25', '26', '27', '28', '29', '30', '31', '32', '33', '34', '35', '36', '37', '38', '39', '40', '41', '42', '43', '44', '45', '46', '47', '48', '49', '50', '51', '52', '53', '54', '55', '56', '57', '58', '59', '60', '61', '62', '63', '64', '65', '66', '67', '68', '69', '70', '71', '72', '73', '74', '75', '76', '77', '78', '79', '80', '81', '82', '83', '84', '85', '86', '87', '88', '89', '90', '91', '92', '93', '94', '95', '96', '97', '98', '99', '100', '101', '102', '103', '104', '105', '106', '107', '108', '109', '110'], 'relationships': [['0', '0', 0], ['0', '1', 5], ['0', '61', 34], ['1', '1', 0], ['1', '0', 5], ['1', '61', 16], ['2', '2', 0], ['2', '8', 33], ['2', '59', 23], ['3', '3', 0], ['3', '63', 15], ['3', '64', 35], ['4', '4', 0], ['4', '5', 2], ['4', '10', 19], ['5', '5', 0], ['5', '4', 2], ['5', '10', 3], ['6', '6', 0], ['6', '7', 4], ['6', '8', 23], ['7', '7', 0], ['7', '6', 4], ['7', '9', 33], ['8', '8', 0], ['8', '4', 30], ['8', '6', 23], ['9', '9', 0], ['9', '7', 33], ['9', '66', 43], ['10', '10', 0], ['10', '5', 3], ['10', '11', 7], ['11', '11', 0], ['11', '5', 10], ['11', '10', 7], ['12', '12', 0], ['12', '65', 3], ['12', '67', 32], ['13', '13', 0], ['13', '12', 65], ['13', '20', 91], ['14', '14', 0], ['14', '15', 4], ['14', '70', 15], ['15', '15', 0], ['15', '14', 4], ['15', '26', 32], ['15', '70', 32], ['16', '16', 0], ['16', '17', 4], ['16', '71', 28], ['17', '17', 0], ['17', '16', 4], ['17', '71', 28], ['18', '18', 0], ['18', '19', 18], ['18', '72', 22], ['19', '19', 0], ['19', '18', 18], ['19', '72', 23], ['20', '20', 0], ['20', '68', 18], ['20', '73', 4], ['21', '21', 0], ['21', '73', 33], ['21', '76', 3], ['22', '22', 0], ['22', '80', 5], ['22', '87', 33], ['23', '23', 0], ['23', '87', 7], ['23', '90', 48], ['24', '24', 0], ['24', '25', 43], ['24', '85', 48], ['25', '25', 0], ['25', '24', 43], ['25', '89', 23], ['26', '26', 0], ['26', '15', 32], ['26', '27', 6], ['27', '27', 0], ['27', '26', 6], ['27', '28', 20], ['28', '28', 0], ['28', '27', 20], ['28', '29', 19], ['29', '29', 0], ['29', '27', 51], ['29', '28', 19], ['30', '30', 0], ['30', '29', 66], ['30', '31', 71], ['31', '31', 0], ['31', '30', 71], ['31', '32', 16], ['32', '32', 0], ['32', '31', 16], ['32', '85', 78], ['33', '33', 0], ['33', '34', 21], ['33', '44', 10], ['34', '34', 0], ['34', '35', 3], ['34', '109', 14], ['35', '35', 0], ['35', '34', 3], ['35', '36', 2], ['36', '36', 0], ['36', '35', 2], ['36', '37', 5], ['37', '37', 0], ['37', '36', 5], ['37', '38', 2], ['38', '38', 0], ['38', '37', 2], ['38', '39', 3], ['39', '39', 0], ['39', '38', 3], ['39', '40', 2], ['40', '40', 0], ['40', '38', 10], ['40', '39', 2], ['41', '41', 0], ['41', '108', 21], ['41', '110', 28], ['42', '42', 0], ['42', '41', 60], ['42', '110', 15], ['43', '43', 0], ['43', '35', 25], ['43', '108', 24], ['44', '44', 0], ['44', '33', 10], ['44', '109', 25], ['45', '45', 0], ['45', '44', 31], ['45', '46', 6], ['46', '46', 0], ['46', '37', 20], ['46', '45', 6], ['47', '47', 0], ['47', '48', 17], ['47', '100', 18], ['48', '48', 0], ['48', '47', 17], ['48', '49', 18], ['49', '49', 0], ['49', '48', 18], ['49', '50', 17], ['50', '50', 0], ['50', '49', 17], ['50', '51', 15], ['51', '51', 0], ['51', '50', 15], ['51', '103', 14], ['52', '52', 0], ['52', '103', 75], ['52', '104', 114], ['53', '53', 0], ['53', '54', 4], ['53', '106', 7], ['54', '54', 0], ['54', '53', 4], ['54', '55', 8], ['55', '55', 0], ['55', '53', 22], ['55', '54', 8], ['56', '56', 0], ['56', '2', 67], ['56', '57', 47], ['57', '57', 0], ['57', '56', 47], ['57', '58', 40], ['58', '58', 0], ['58', '60', 16], ['58', '62', 31], ['59', '59', 0], ['59', '2', 23], ['59', '6', 40], ['60', '60', 0], ['60', '58', 16], ['60', '62', 3], ['61', '61', 0], ['61', '1', 16], ['61', '62', 22], ['62', '62', 0], ['62', '60', 3], ['62', '61', 22], ['63', '63', 0], ['63', '3', 15], ['63', '64', 35], ['64', '64', 0], ['64', '3', 35], ['64', '63', 35], ['65', '65', 0], ['65', '12', 3], ['65', '66', 5], ['66', '66', 0], ['66', '64', 40], ['66', '65', 5], ['67', '67', 0], ['67', '12', 32], ['67', '20', 32], ['67', '68', 2], ['68', '68', 0], ['68', '20', 18], ['68', '67', 2], ['69', '69', 0], ['69', '7', 65], ['69', '70', 40], ['70', '70', 0], ['70', '14', 15], ['70', '71', 27], ['71', '71', 0], ['71', '16', 28], ['71', '17', 28], ['71', '70', 27], ['72', '72', 0], ['72', '18', 22], ['72', '19', 23], ['73', '73', 0], ['73', '20', 4], ['73', '76', 16], ['74', '74', 0], ['74', '19', 25], ['74', '75', 33], ['74', '77', 33], ['75', '75', 0], ['75', '74', 33], ['75', '77', 35], ['76', '76', 0], ['76', '21', 3], ['76', '73', 16], ['77', '77', 0], ['77', '74', 33], ['77', '75', 35], ['78', '78', 0], ['78', '79', 71], ['78', '84', 80], ['79', '79', 0], ['79', '77', 49], ['79', '86', 54], ['80', '80', 0], ['80', '21', 34], ['80', '22', 5], ['81', '81', 0], ['81', '82', 50], ['81', '86', 33], ['82', '82', 0], ['82', '81', 50], ['82', '83', 39], ['83', '83', 0], ['83', '73', 54], ['83', '82', 39], ['84', '84', 0], ['84', '24', 65], ['84', '85', 49], ['85', '85', 0], ['85', '24', 48], ['85', '84', 49], ['86', '86', 0], ['86', '79', 54], ['86', '81', 33], ['87', '87', 0], ['87', '22', 33], ['87', '23', 7], ['88', '88', 0], ['88', '81', 66], ['88', '85', 89], ['88', '87', 89], ['89', '89', 0], ['89', '24', 54], ['89', '25', 23], ['90', '90', 0], ['90', '91', 1], ['90', '92', 19], ['91', '91', 0], ['91', '90', 1], ['91', '92', 3], ['92', '92', 0], ['92', '90', 19], ['92', '91', 3], ['93', '93', 0], ['93', '46', 26], ['93', '94', 1], ['94', '94', 0], ['94', '46', 41], ['94', '93', 1], ['95', '95', 0], ['95', '92', 32], ['95', '96', 17], ['96', '96', 0], ['96', '95', 17], ['96', '97', 18], ['97', '97', 0], ['97', '96', 18], ['97', '98', 15], ['98', '98', 0], ['98', '97', 15], ['98', '99', 18], ['99', '99', 0], ['99', '97', 48], ['99', '98', 18], ['100', '100', 0], ['100', '47', 18], ['100', '101', 33], ['101', '101', 0], ['101', '47', 29], ['101', '100', 33], ['101', '102', 33], ['102', '102', 0], ['102', '50', 28], ['102', '101', 33], ['103', '103', 0], ['103', '51', 14], ['103', '104', 1], ['104', '104', 0], ['104', '51', 28], ['104', '103', 1], ['105', '105', 0], ['105', '53', 22], ['105', '106', 15], ['106', '106', 0], ['106', '53', 7], ['106', '105', 15], ['107', '107', 0], ['107', '54', 177], ['107', '55', 158], ['108', '108', 0], ['108', '109', 14], ['108', '110', 15], ['109', '109', 0], ['109', '34', 14], ['109', '108', 14], ['110', '110', 0], ['110', '42', 15], ['110', '108', 15]]}, '81186212': {'objects': ['0', '1', '2', '3', '4', '5', '6', '7', '8', '9', '10'], 'relationships': [['0', '0', 0], ['0', '5', 21], ['0', '6', 20], ['1', '1', 0], ['1', '9', 441], ['1', '10', 160], ['2', '2', 0], ['2', '9', 415], ['2', '10', 224], ['3', '3', 0], ['3', '4', 200], ['3', '5', 196], ['4', '4', 0], ['4', '0', 71], ['4', '5', 37], ['5', '5', 0], ['5', '0', 21], ['5', '4', 37], ['6', '6', 0], ['6', '0', 20], ['6', '7', 22], ['7', '7', 0], ['7', '0', 53], ['7', '6', 22], ['8', '8', 0], ['8', '7', 89], ['8', '9', 89], ['9', '9', 0], ['9', '8', 89], ['9', '10', 156], ['10', '10', 0], ['10', '1', 160], ['10', '9', 156]]}, '0060077689': {'objects': ['0', '1', '2', '3', '4', '5', '6', '7', '8', '9', '10', '11', '12', '13', '14', '15', '16', '17', '18', '19', '20', '21', '22', '23', '24', '25', '26', '27', '28', '29', '30', '31', '32', '33', '34', '35', '36', '37', '38', '39', '40', '41', '42', '43', '44', '45', '46', '47', '48', '49', '50', '51', '52', '53', '54', '55', '56', '57', '58', '59', '60', '61', '62', '63', '64', '65'], 'relationships': [['0', '0', 0], ['0', '1', 15], ['0', '25', 26], ['1', '1', 0], ['1', '0', 15], ['1', '28', 16], ['2', '2', 0], ['2', '30', 16], ['2', '31', 27], ['3', '3', 0], ['3', '4', 19], ['3', '38', 31], ['4', '4', 0], ['4', '3', 19], ['4', '38', 14], ['5', '5', 0], ['5', '36', 17], ['5', '37', 18], ['6', '6', 0], ['6', '5', 39], ['6', '37', 38], ['7', '7', 0], ['7', '4', 65], ['7', '38', 69], ['8', '8', 0], ['8', '40', 114], ['8', '47', 108], ['9', '9', 0], ['9', '31', 3], ['9', '32', 3], ['10', '10', 0], ['10', '17', 7], ['10', '58', 14], ['11', '11', 0], ['11', '10', 19], ['11', '12', 20], ['12', '12', 0], ['12', '10', 47], ['12', '11', 20], ['13', '13', 0], ['13', '14', 17], ['13', '62', 48], ['14', '14', 0], ['14', '13', 17], ['14', '62', 20], ['15', '15', 0], ['15', '60', 47], ['15', '61', 17], ['16', '16', 0], ['16', '19', 23], ['16', '64', 6], ['17', '17', 0], ['17', '10', 7], ['17', '58', 23], ['18', '18', 0], ['18', '19', 18], ['18', '65', 3], ['19', '19', 0], ['19', '18', 18], ['19', '64', 8], ['20', '20', 0], ['20', '57', 17], ['20', '60', 5], ['21', '21', 0], ['21', '22', 5], ['21', '30', 14], ['22', '22', 0], ['22', '21', 5], ['22', '29', 59], ['23', '23', 0], ['23', '26', 12], ['23', '27', 42], ['24', '24', 0], ['24', '23', 160], ['24', '26', 131], ['25', '25', 0], ['25', '0', 26], ['25', '1', 25], ['26', '26', 0], ['26', '23', 12], ['26', '27', 20], ['27', '27', 0], ['27', '23', 42], ['27', '26', 20], ['28', '28', 0], ['28', '0', 31], ['28', '1', 16], ['29', '29', 0], ['29', '30', 29], ['29', '31', 16], ['30', '30', 0], ['30', '2', 16], ['30', '21', 14], ['31', '31', 0], ['31', '9', 3], ['31', '29', 16], ['31', '33', 16], ['32', '32', 0], ['32', '9', 3], ['32', '31', 39], ['33', '33', 0], ['33', '9', 13], ['33', '31', 16], ['34', '34', 0], ['34', '28', 33], ['34', '35', 18], ['35', '35', 0], ['35', '1', 79], ['35', '34', 18], ['36', '36', 0], ['36', '5', 17], ['36', '37', 37], ['37', '37', 0], ['37', '5', 18], ['37', '36', 37], ['38', '38', 0], ['38', '3', 31], ['38', '4', 14], ['39', '39', 0], ['39', '6', 54], ['39', '40', 14], ['40', '40', 0], ['40', '39', 14], ['40', '41', 16], ['41', '41', 0], ['41', '40', 16], ['41', '42', 3], ['42', '42', 0], ['42', '41', 3], ['42', '43', 17], ['43', '43', 0], ['43', '42', 17], ['43', '44', 12], ['44', '44', 0], ['44', '43', 12], ['44', '45', 15], ['45', '45', 0], ['45', '43', 44], ['45', '44', 15], ['46', '46', 0], ['46', '53', 132], ['46', '54', 139], ['47', '47', 0], ['47', '48', 4], ['47', '49', 49], ['48', '48', 0], ['48', '47', 4], ['48', '49', 33], ['49', '49', 0], ['49', '48', 33], ['49', '50', 21], ['50', '50', 0], ['50', '48', 69], ['50', '49', 21], ['51', '51', 0], ['51', '56', 28], ['51', '57', 17], ['52', '52', 0], ['52', '53', 21], ['52', '55', 7], ['53', '53', 0], ['53', '52', 21], ['53', '54', 8], ['54', '54', 0], ['54', '53', 8], ['54', '55', 39], ['55', '55', 0], ['55', '52', 7], ['55', '58', 37], ['56', '56', 0], ['56', '51', 28], ['56', '57', 28], ['57', '57', 0], ['57', '20', 17], ['57', '51', 17], ['58', '58', 0], ['58', '10', 14], ['58', '17', 23], ['59', '59', 0], ['59', '19', 47], ['59', '63', 16], ['60', '60', 0], ['60', '20', 5], ['60', '61', 16], ['61', '61', 0], ['61', '15', 17], ['61', '60', 16], ['62', '62', 0], ['62', '14', 20], ['62', '63', 45], ['63', '63', 0], ['63', '19', 19], ['63', '59', 16], ['64', '64', 0], ['64', '16', 6], ['64', '65', 6], ['65', '65', 0], ['65', '18', 3], ['65', '64', 6]]}, '92433599_92433601': {'objects': ['0', '1', '2', '3', '4', '5', '6', '7', '8', '9', '10', '11', '12', '13', '14', '15', '16', '17', '18', '19', '20', '21', '22', '23', '24', '25', '26', '27', '28', '29', '30', '31', '32', '33', '34', '35', '36', '37', '38'], 'relationships': [['0', '0', 0], ['0', '1', 16], ['0', '22', 21], ['1', '1', 0], ['1', '0', 16], ['1', '2', 15], ['2', '2', 0], ['2', '1', 15], ['2', '25', 14], ['3', '3', 0], ['3', '18', 17], ['3', '24', 15], ['4', '4', 0], ['4', '6', 27], ['4', '26', 46], ['5', '5', 0], ['5', '4', 96], ['5', '26', 27], ['6', '6', 0], ['6', '4', 27], ['6', '24', 50], ['7', '7', 0], ['7', '8', 14], ['7', '29', 29], ['8', '8', 0], ['8', '7', 14], ['8', '27', 25], ['9', '9', 0], ['9', '10', 4], ['9', '12', 13], ['10', '10', 0], ['10', '9', 4], ['10', '11', 6], ['11', '11', 0], ['11', '10', 6], ['11', '13', 14], ['12', '12', 0], ['12', '9', 13], ['12', '19', 18], ['13', '13', 0], ['13', '11', 14], ['13', '15', 16], ['14', '14', 0], ['14', '15', 10], ['14', '19', 9], ['15', '15', 0], ['15', '13', 16], ['15', '14', 10], ['16', '16', 0], ['16', '36', 138], ['16', '37', 109], ['17', '17', 0], ['17', '16', 341], ['17', '38', 159], ['18', '18', 0], ['18', '3', 17], ['18', '25', 36], ['19', '19', 0], ['19', '12', 18], ['19', '14', 9], ['20', '20', 0], ['20', '21', 30], ['20', '23', 151], ['21', '21', 0], ['21', '20', 30], ['21', '23', 125], ['22', '22', 0], ['22', '0', 21], ['22', '1', 52], ['23', '23', 0], ['23', '3', 45], ['23', '24', 10], ['24', '24', 0], ['24', '3', 15], ['24', '23', 10], ['25', '25', 0], ['25', '2', 14], ['25', '27', 34], ['26', '26', 0], ['26', '4', 46], ['26', '5', 27], ['27', '27', 0], ['27', '8', 25], ['27', '25', 34], ['28', '28', 0], ['28', '8', 29], ['28', '29', 16], ['29', '29', 0], ['29', '7', 29], ['29', '28', 16], ['30', '30', 0], ['30', '7', 37], ['30', '31', 37], ['30', '32', 30], ['31', '31', 0], ['31', '9', 115], ['31', '30', 37], ['32', '32', 0], ['32', '30', 30], ['32', '33', 20], ['33', '33', 0], ['33', '32', 20], ['33', '34', 16], ['34', '34', 0], ['34', '33', 16], ['34', '35', 12], ['35', '35', 0], ['35', '34', 12], ['35', '36', 24], ['36', '36', 0], ['36', '34', 53], ['36', '35', 24], ['36', '37', 53], ['37', '37', 0], ['37', '16', 109], ['37', '36', 53], ['38', '38', 0], ['38', '36', 128], ['38', '37', 136]]}, '0001118259': {'objects': ['0', '1', '2', '3', '4', '5', '6', '7', '8', '9', '10', '11', '12', '13', '14', '15', '16', '17', '18', '19', '20', '21', '22', '23', '24', '25', '26', '27', '28', '29', '30'], 'relationships': [['0', '0', 0], ['0', '1', 1], ['0', '6', 98], ['1', '1', 0], ['1', '0', 1], ['1', '6', 117], ['2', '2', 0], ['2', '17', 13], ['2', '18', 31], ['3', '3', 0], ['3', '27', 255], ['3', '29', 295], ['4', '4', 0], ['4', '5', 92], ['4', '6', 105], ['5', '5', 0], ['5', '4', 92], ['5', '6', 161], ['6', '6', 0], ['6', '0', 98], ['6', '4', 105], ['7', '7', 0], ['7', '8', 85], ['7', '9', 48], ['7', '16', 85], ['8', '8', 0], ['8', '7', 85], ['8', '16', 47], ['9', '9', 0], ['9', '7', 48], ['9', '10', 23], ['10', '10', 0], ['10', '9', 23], ['10', '11', 60], ['11', '11', 0], ['11', '10', 60], ['11', '18', 76], ['12', '12', 0], ['12', '13', 30], ['12', '14', 78], ['13', '13', 0], ['13', '12', 30], ['13', '14', 31], ['14', '14', 0], ['14', '13', 31], ['14', '24', 70], ['15', '15', 0], ['15', '14', 89], ['15', '27', 95], ['16', '16', 0], ['16', '8', 47], ['16', '17', 30], ['17', '17', 0], ['17', '2', 13], ['17', '16', 30], ['18', '18', 0], ['18', '2', 31], ['18', '19', 11], ['19', '19', 0], ['19', '18', 11], ['19', '20', 16], ['20', '20', 0], ['20', '19', 16], ['20', '21', 14], ['21', '21', 0], ['21', '20', 14], ['21', '22', 32], ['22', '22', 0], ['22', '21', 32], ['22', '23', 30], ['23', '23', 0], ['23', '22', 30], ['23', '24', 29], ['24', '24', 0], ['24', '23', 29], ['24', '25', 16], ['25', '25', 0], ['25', '24', 16], ['25', '26', 16], ['26', '26', 0], ['26', '25', 16], ['26', '27', 33], ['27', '27', 0], ['27', '26', 33], ['27', '28', 13], ['28', '28', 0], ['28', '27', 13], ['28', '29', 17], ['29', '29', 0], ['29', '28', 17], ['29', '30', 15], ['30', '30', 0], ['30', '28', 46], ['30', '29', 15]]}, '00838511_00838525': {'objects': ['0', '1', '2', '3', '4', '5', '6', '7', '8', '9', '10', '11', '12', '13', '14', '15', '16', '17'], 'relationships': [['0', '0', 0], ['0', '8', 11], ['0', '10', 19], ['1', '1', 0], ['1', '10', 47], ['1', '11', 47], ['1', '12', 39], ['2', '2', 0], ['2', '3', 105], ['2', '13', 25], ['3', '3', 0], ['3', '13', 16], ['3', '15', 48], ['4', '4', 0], ['4', '2', 246], ['4', '14', 64], ['5', '5', 0], ['5', '15', 457], ['5', '17', 23], ['6', '6', 0], ['6', '8', 200], ['6', '9', 28], ['7', '7', 0], ['7', '8', 116], ['7', '10', 114], ['8', '8', 0], ['8', '0', 11], ['8', '11', 32], ['9', '9', 0], ['9', '6', 28], ['9', '14', 220], ['10', '10', 0], ['10', '0', 19], ['10', '8', 39], ['11', '11', 0], ['11', '8', 32], ['11', '10', 43], ['12', '12', 0], ['12', '1', 39], ['12', '11', 75], ['13', '13', 0], ['13', '2', 25], ['13', '3', 16], ['14', '14', 0], ['14', '2', 182], ['14', '4', 64], ['15', '15', 0], ['15', '3', 48], ['15', '13', 75], ['16', '16', 0], ['16', '15', 528], ['16', '17', 465], ['17', '17', 0], ['17', '5', 23], ['17', '16', 465]]}, '0000971160': {'objects': ['0', '1', '2', '3', '4', '5', '6', '7', '8', '9', '10', '11', '12', '13', '14', '15', '16', '17', '18', '19', '20', '21', '22', '23'], 'relationships': [['0', '0', 0], ['0', '9', 62], ['0', '11', 173], ['1', '1', 0], ['1', '14', 14], ['1', '15', 1], ['2', '2', 0], ['2', '15', 28], ['2', '16', 30], ['3', '3', 0], ['3', '11', 34], ['3', '12', 29], ['4', '4', 0], ['4', '3', 56], ['4', '13', 21], ['5', '5', 0], ['5', '20', 113], ['5', '21', 22], ['6', '6', 0], ['6', '7', 64], ['6', '19', 66], ['7', '7', 0], ['7', '6', 64], ['7', '19', 152], ['8', '8', 0], ['8', '6', 341], ['8', '7', 307], ['9', '9', 0], ['9', '0', 62], ['9', '11', 82], ['10', '10', 0], ['10', '11', 12], ['10', '15', 29], ['11', '11', 0], ['11', '1', 33], ['11', '10', 12], ['12', '12', 0], ['12', '3', 29], ['12', '4', 62], ['13', '13', 0], ['13', '3', 90], ['13', '4', 21], ['14', '14', 0], ['14', '1', 14], ['14', '15', 21], ['15', '15', 0], ['15', '1', 1], ['15', '14', 21], ['16', '16', 0], ['16', '1', 48], ['16', '2', 30], ['17', '17', 0], ['17', '18', 16], ['17', '19', 105], ['18', '18', 0], ['18', '16', 109], ['18', '17', 16], ['19', '19', 0], ['19', '20', 29], ['19', '22', 41], ['20', '20', 0], ['20', '21', 28], ['20', '22', 12], ['21', '21', 0], ['21', '5', 22], ['21', '20', 28], ['22', '22', 0], ['22', '19', 41], ['22', '20', 12], ['23', '23', 0], ['23', '20', 162], ['23', '22', 149]]}, '01150773_01150774': {'objects': ['0', '1', '2', '3', '4', '5', '6', '7', '8', '9', '10', '11', '12', '13', '14', '15', '16', '17', '18', '19', '20', '21', '22', '23', '24', '25', '26', '27', '28', '29', '30', '31', '32'], 'relationships': [['0', '0', 0], ['0', '1', 45], ['0', '24', 36], ['1', '1', 0], ['1', '2', 42], ['1', '25', 31], ['2', '2', 0], ['2', '3', 27], ['2', '26', 26], ['3', '3', 0], ['3', '2', 27], ['3', '5', 29], ['4', '4', 0], ['4', '27', 140], ['4', '28', 82], ['5', '5', 0], ['5', '3', 29], ['5', '26', 25], ['6', '6', 0], ['6', '28', 137], ['6', '30', 94], ['7', '7', 0], ['7', '24', 79], ['7', '25', 119], ['8', '8', 0], ['8', '30', 177], ['8', '32', 138], ['9', '9', 0], ['9', '16', 43], ['9', '17', 4], ['10', '10', 0], ['10', '12', 26], ['10', '18', 19], ['11', '11', 0], ['11', '10', 28], ['11', '12', 30], ['12', '12', 0], ['12', '13', 2], ['12', '18', 10], ['13', '13', 0], ['13', '12', 2], ['13', '19', 16], ['14', '14', 0], ['14', '15', 91], ['14', '22', 135], ['15', '15', 0], ['15', '10', 50], ['15', '11', 44], ['16', '16', 0], ['16', '9', 43], ['16', '17', 64], ['16', '23', 64], ['17', '17', 0], ['17', '9', 4], ['17', '16', 64], ['18', '18', 0], ['18', '10', 19], ['18', '12', 10], ['19', '19', 0], ['19', '12', 31], ['19', '13', 16], ['20', '20', 0], ['20', '18', 75], ['20', '19', 81], ['21', '21', 0], ['21', '20', 154], ['21', '22', 1], ['22', '22', 0], ['22', '20', 90], ['22', '21', 1], ['23', '23', 0], ['23', '9', 55], ['23', '16', 64], ['24', '24', 0], ['24', '0', 36], ['24', '25', 18], ['25', '25', 0], ['25', '24', 18], ['25', '26', 21], ['26', '26', 0], ['26', '5', 25], ['26', '25', 21], ['27', '27', 0], ['27', '5', 37], ['27', '26', 82], ['28', '28', 0], ['28', '4', 82], ['28', '29', 64], ['29', '29', 0], ['29', '28', 64], ['29', '30', 5], ['30', '30', 0], ['30', '28', 86], ['30', '29', 5], ['31', '31', 0], ['31', '6', 151], ['31', '29', 183], ['32', '32', 0], ['32', '8', 138], ['32', '31', 184]]}, '0071032807': {'objects': ['0', '1', '2', '3', '4', '5', '6', '7', '8', '9', '10', '11', '12', '13', '14', '15', '16', '17'], 'relationships': [['0', '0', 0], ['0', '3', 88], ['0', '4', 12], ['1', '1', 0], ['1', '2', 41], ['1', '10', 21], ['2', '2', 0], ['2', '1', 41], ['2', '9', 12], ['3', '3', 0], ['3', '0', 88], ['3', '5', 130], ['4', '4', 0], ['4', '0', 12], ['4', '3', 134], ['5', '5', 0], ['5', '6', 24], ['5', '8', 53], ['6', '6', 0], ['6', '5', 24], ['6', '7', 51], ['7', '7', 0], ['7', '8', 28], ['7', '9', 42], ['8', '8', 0], ['8', '2', 46], ['8', '7', 28], ['9', '9', 0], ['9', '2', 12], ['9', '10', 16], ['10', '10', 0], ['10', '1', 21], ['10', '9', 16], ['11', '11', 0], ['11', '10', 40], ['11', '12', 21], ['12', '12', 0], ['12', '1', 44], ['12', '11', 21], ['13', '13', 0], ['13', '11', 111], ['13', '12', 124], ['14', '14', 0], ['14', '15', 19], ['14', '16', 26], ['15', '15', 0], ['15', '14', 19], ['15', '16', 191], ['16', '16', 0], ['16', '14', 26], ['16', '17', 71], ['17', '17', 0], ['17', '14', 90], ['17', '16', 71]]}, '00070353': {'objects': ['0', '1', '2', '3', '4', '5', '6', '7', '8', '9', '10', '11', '12', '13', '14', '15', '16', '17', '18', '19', '20', '21', '22', '23'], 'relationships': [['0', '0', 0], ['0', '1', 10], ['0', '11', 13], ['1', '1', 0], ['1', '0', 10], ['1', '11', 41], ['2', '2', 0], ['2', '5', 14], ['2', '18', 38], ['3', '3', 0], ['3', '11', 18], ['3', '13', 16], ['4', '4', 0], ['4', '10', 96], ['4', '12', 7], ['5', '5', 0], ['5', '2', 14], ['5', '18', 11], ['6', '6', 0], ['6', '7', 4], ['6', '16', 32], ['7', '7', 0], ['7', '6', 4], ['7', '19', 6], ['8', '8', 0], ['8', '21', 454], ['8', '22', 366], ['9', '9', 0], ['9', '0', 117], ['9', '11', 87], ['10', '10', 0], ['10', '4', 96], ['10', '12', 132], ['11', '11', 0], ['11', '0', 13], ['11', '3', 18], ['12', '12', 0], ['12', '4', 7], ['12', '5', 128], ['13', '13', 0], ['13', '3', 16], ['13', '14', 9], ['14', '14', 0], ['14', '3', 41], ['14', '13', 9], ['15', '15', 0], ['15', '16', 15], ['15', '17', 35], ['16', '16', 0], ['16', '15', 15], ['16', '21', 11], ['17', '17', 0], ['17', '7', 20], ['17', '15', 35], ['18', '18', 0], ['18', '2', 38], ['18', '5', 11], ['19', '19', 0], ['19', '7', 6], ['19', '20', 34], ['20', '20', 0], ['20', '5', 59], ['20', '19', 34], ['21', '21', 0], ['21', '16', 11], ['21', '22', 30], ['22', '22', 0], ['22', '16', 61], ['22', '21', 30], ['23', '23', 0], ['23', '21', 462], ['23', '22', 387]]}, '0030041455': {'objects': ['0', '1', '2', '3', '4', '5', '6', '7', '8', '9', '10', '11', '12'], 'relationships': [['0', '0', 0], ['0', '1', 24], ['0', '7', 89], ['1', '1', 0], ['1', '0', 24], ['1', '7', 117], ['2', '2', 0], ['2', '6', 87], ['2', '7', 37], ['3', '3', 0], ['3', '8', 828], ['3', '11', 668], ['4', '4', 0], ['4', '2', 181], ['4', '5', 111], ['5', '5', 0], ['5', '6', 17], ['5', '8', 71], ['6', '6', 0], ['6', '5', 17], ['6', '8', 38], ['7', '7', 0], ['7', '2', 37], ['7', '6', 72], ['8', '8', 0], ['8', '6', 38], ['8', '9', 27], ['9', '9', 0], ['9', '8', 27], ['9', '10', 29], ['10', '10', 0], ['10', '9', 29], ['10', '11', 51], ['11', '11', 0], ['11', '10', 51], ['11', '12', 20], ['12', '12', 0], ['12', '10', 110], ['12', '11', 20]]}, '00093726': {'objects': ['0', '1', '2', '3', '4', '5', '6', '7', '8', '9', '10', '11', '12', '13', '14', '15', '16', '17', '18', '19', '20', '21', '22', '23', '24', '25', '26', '27', '28', '29', '30', '31', '32', '33', '34', '35', '36', '37', '38', '39', '40', '41', '42', '43', '44', '45', '46', '47', '48', '49', '50', '51', '52', '53', '54', '55', '56', '57', '58', '59', '60', '61', '62', '63', '64', '65', '66', '67', '68', '69', '70', '71', '72', '73', '74', '75', '76', '77', '78', '79', '80', '81', '82', '83', '84', '85', '86', '87', '88', '89', '90', '91'], 'relationships': [['0', '0', 0], ['0', '11', 70], ['0', '46', 21], ['1', '1', 0], ['1', '12', 69], ['1', '54', 21], ['2', '2', 0], ['2', '15', 5], ['2', '55', 13], ['3', '3', 0], ['3', '2', 88], ['3', '14', 16], ['4', '4', 0], ['4', '13', 25], ['4', '56', 62], ['5', '5', 0], ['5', '15', 45], ['5', '29', 41], ['6', '6', 0], ['6', '40', 46], ['6', '60', 42], ['7', '7', 0], ['7', '63', 56], ['7', '74', 44], ['8', '8', 0], ['8', '34', 21], ['8', '35', 35], ['9', '9', 0], ['9', '38', 41], ['9', '39', 58], ['10', '10', 0], ['10', '82', 44], ['10', '83', 40], ['11', '11', 0], ['11', '47', 23], ['11', '49', 13], ['12', '12', 0], ['12', '1', 69], ['12', '57', 41], ['13', '13', 0], ['13', '4', 25], ['13', '56', 60], ['14', '14', 0], ['14', '3', 16], ['14', '16', 108], ['15', '15', 0], ['15', '2', 5], ['15', '55', 35], ['16', '16', 0], ['16', '17', 41], ['16', '67', 14], ['17', '17', 0], ['17', '31', 14], ['17', '69', 17], ['18', '18', 0], ['18', '17', 21], ['18', '31', 33], ['18', '67', 33], ['19', '19', 0], ['19', '69', 17], ['19', '70', 17], ['19', '71', 3], ['20', '20', 0], ['20', '21', 24], ['20', '78', 12], ['21', '21', 0], ['21', '75', 6], ['21', '78', 18], ['22', '22', 0], ['22', '21', 20], ['22', '78', 15], ['23', '23', 0], ['23', '77', 24], ['23', '78', 29], ['24', '24', 0], ['24', '25', 17], ['24', '26', 15], ['25', '25', 0], ['25', '24', 17], ['25', '26', 16], ['26', '26', 0], ['26', '24', 15], ['26', '25', 16], ['27', '27', 0], ['27', '25', 31], ['27', '26', 17], ['28', '28', 0], ['28', '90', 247], ['28', '91', 256], ['29', '29', 0], ['29', '30', 3], ['29', '31', 18], ['30', '30', 0], ['30', '29', 3], ['30', '31', 15], ['31', '31', 0], ['31', '17', 14], ['31', '32', 3], ['32', '32', 0], ['32', '31', 3], ['32', '66', 6], ['33', '33', 0], ['33', '64', 14], ['33', '66', 16], ['34', '34', 0], ['34', '35', 16], ['34', '72', 16], ['35', '35', 0], ['35', '34', 16], ['35', '72', 2], ['36', '36', 0], ['36', '37', 1], ['36', '72', 2], ['37', '37', 0], ['37', '36', 1], ['37', '72', 16], ['38', '38', 0], ['38', '39', 4], ['38', '79', 24], ['39', '39', 0], ['39', '38', 4], ['39', '82', 54], ['40', '40', 0], ['40', '41', 19], ['40', '60', 24], ['41', '41', 0], ['41', '61', 2], ['41', '62', 17], ['42', '42', 0], ['42', '43', 13], ['42', '44', 17], ['42', '61', 17], ['42', '62', 17], ['43', '43', 0], ['43', '42', 13], ['43', '44', 5], ['43', '62', 13], ['44', '44', 0], ['44', '43', 5], ['44', '63', 3], ['45', '45', 0], ['45', '76', 19], ['45', '77', 1], ['46', '46', 0], ['46', '0', 21], ['46', '49', 87], ['47', '47', 0], ['47', '11', 23], ['47', '50', 49], ['48', '48', 0], ['48', '11', 57], ['48', '49', 31], ['49', '49', 0], ['49', '11', 13], ['49', '51', 12], ['50', '50', 0], ['50', '51', 27], ['50', '53', 16], ['51', '51', 0], ['51', '49', 12], ['51', '50', 27], ['52', '52', 0], ['52', '53', 31], ['52', '55', 8], ['53', '53', 0], ['53', '50', 16], ['53', '52', 31], ['54', '54', 0], ['54', '1', 21], ['54', '49', 95], ['55', '55', 0], ['55', '2', 13], ['55', '52', 8], ['56', '56', 0], ['56', '55', 39], ['56', '57', 51], ['57', '57', 0], ['57', '12', 41], ['57', '58', 40], ['58', '58', 0], ['58', '57', 40], ['58', '59', 22], ['59', '59', 0], ['59', '57', 45], ['59', '58', 22], ['60', '60', 0], ['60', '6', 42], ['60', '40', 24], ['61', '61', 0], ['61', '41', 2], ['61', '62', 2], ['62', '62', 0], ['62', '43', 13], ['62', '61', 2], ['63', '63', 0], ['63', '43', 19], ['63', '44', 3], ['64', '64', 0], ['64', '33', 14], ['64', '65', 14], ['64', '71', 13], ['65', '65', 0], ['65', '64', 14], ['65', '66', 11], ['66', '66', 0], ['66', '32', 6], ['66', '65', 11], ['67', '67', 0], ['67', '16', 14], ['67', '18', 33], ['68', '68', 0], ['68', '32', 9], ['68', '67', 36], ['69', '69', 0], ['69', '17', 17], ['69', '19', 17], ['69', '66', 17], ['70', '70', 0], ['70', '19', 17], ['70', '71', 17], ['71', '71', 0], ['71', '19', 3], ['71', '64', 13], ['72', '72', 0], ['72', '35', 2], ['72', '36', 2], ['73', '73', 0], ['73', '37', 26], ['73', '72', 39], ['74', '74', 0], ['74', '75', 1], ['74', '76', 15], ['75', '75', 0], ['75', '74', 1], ['75', '76', 1], ['76', '76', 0], ['76', '74', 15], ['76', '75', 1], ['77', '77', 0], ['77', '45', 1], ['77', '76', 17], ['78', '78', 0], ['78', '20', 12], ['78', '22', 15], ['79', '79', 0], ['79', '38', 24], ['79', '80', 15], ['80', '80', 0], ['80', '38', 35], ['80', '79', 15], ['81', '81', 0], ['81', '82', 19], ['81', '87', 76], ['82', '82', 0], ['82', '10', 44], ['82', '81', 19], ['83', '83', 0], ['83', '84', 15], ['83', '85', 16], ['84', '84', 0], ['84', '85', 3], ['84', '88', 14], ['85', '85', 0], ['85', '83', 16], ['85', '84', 3], ['86', '86', 0], ['86', '87', 10], ['86', '88', 15], ['87', '87', 0], ['87', '86', 10], ['87', '88', 21], ['88', '88', 0], ['88', '84', 14], ['88', '86', 15], ['89', '89', 0], ['89', '77', 90], ['89', '90', 17], ['90', '90', 0], ['90', '77', 55], ['90', '89', 17], ['91', '91', 0], ['91', '86', 151], ['91', '89', 174]]}, '89817999_8002': {'objects': ['0', '1', '2', '3', '4', '5', '6', '7', '8', '9', '10', '11', '12', '13', '14', '15', '16', '17', '18', '19', '20', '21', '22', '23', '24', '25', '26', '27', '28'], 'relationships': [['0', '0', 0], ['0', '1', 17], ['0', '6', 32], ['1', '1', 0], ['1', '0', 17], ['1', '2', 17], ['1', '7', 7], ['2', '2', 0], ['2', '1', 17], ['2', '13', 10], ['3', '3', 0], ['3', '2', 45], ['3', '14', 16], ['4', '4', 0], ['4', '10', 12], ['4', '12', 18], ['5', '5', 0], ['5', '26', 125], ['5', '27', 87], ['6', '6', 0], ['6', '0', 32], ['6', '7', 13], ['7', '7', 0], ['7', '1', 7], ['7', '6', 13], ['8', '8', 0], ['8', '9', 16], ['8', '10', 32], ['9', '9', 0], ['9', '8', 16], ['9', '10', 16], ['10', '10', 0], ['10', '4', 12], ['10', '9', 16], ['11', '11', 0], ['11', '4', 33], ['11', '12', 15], ['12', '12', 0], ['12', '4', 18], ['12', '11', 15], ['13', '13', 0], ['13', '2', 10], ['13', '7', 39], ['14', '14', 0], ['14', '3', 16], ['14', '13', 70], ['15', '15', 0], ['15', '3', 90], ['15', '18', 69], ['16', '16', 0], ['16', '17', 10], ['16', '18', 112], ['17', '17', 0], ['17', '16', 10], ['17', '18', 85], ['18', '18', 0], ['18', '15', 69], ['18', '20', 64], ['19', '19', 0], ['19', '20', 20], ['19', '22', 15], ['20', '20', 0], ['20', '19', 20], ['20', '21', 45], ['21', '21', 0], ['21', '20', 45], ['21', '22', 34], ['22', '22', 0], ['22', '19', 15], ['22', '21', 34], ['23', '23', 0], ['23', '24', 25], ['23', '25', 49], ['24', '24', 0], ['24', '22', 73], ['24', '23', 25], ['25', '25', 0], ['25', '26', 12], ['25', '27', 3], ['26', '26', 0], ['26', '5', 125], ['26', '25', 12], ['27', '27', 0], ['27', '23', 67], ['27', '25', 3], ['28', '28', 0], ['28', '25', 142], ['28', '27', 83]]}, '0011973451': {'objects': ['0', '1', '2', '3', '4', '5', '6', '7', '8', '9', '10', '11', '12', '13', '14', '15', '16', '17', '18', '19', '20', '21', '22', '23', '24', '25', '26', '27', '28', '29', '30', '31', '32', '33', '34', '35', '36', '37', '38', '39', '40', '41', '42', '43', '44', '45', '46', '47', '48'], 'relationships': [['0', '0', 0], ['0', '42', 18], ['0', '43', 7], ['1', '1', 0], ['1', '20', 6], ['1', '21', 3], ['2', '2', 0], ['2', '25', 38], ['2', '26', 20], ['3', '3', 0], ['3', '4', 8], ['3', '38', 6], ['4', '4', 0], ['4', '3', 8], ['4', '38', 22], ['5', '5', 0], ['5', '4', 24], ['5', '6', 9], ['6', '6', 0], ['6', '5', 9], ['6', '39', 7], ['7', '7', 0], ['7', '41', 52], ['7', '46', 34], ['8', '8', 0], ['8', '27', 40], ['8', '28', 24], ['9', '9', 0], ['9', '32', 81], ['9', '35', 80], ['10', '10', 0], ['10', '19', 46], ['10', '31', 31], ['11', '11', 0], ['11', '18', 52], ['11', '19', 58], ['12', '12', 0], ['12', '36', 21], ['12', '37', 6], ['13', '13', 0], ['13', '16', 58], ['13', '35', 89], ['14', '14', 0], ['14', '47', 122], ['14', '48', 104], ['15', '15', 0], ['15', '14', 154], ['15', '46', 237], ['16', '16', 0], ['16', '40', 3], ['16', '41', 21], ['17', '17', 0], ['17', '18', 5], ['17', '19', 9], ['18', '18', 0], ['18', '17', 5], ['18', '19', 30], ['19', '19', 0], ['19', '17', 9], ['19', '18', 30], ['20', '20', 0], ['20', '1', 6], ['20', '22', 37], ['21', '21', 0], ['21', '1', 3], ['21', '20', 43], ['22', '22', 0], ['22', '1', 20], ['22', '23', 15], ['23', '23', 0], ['23', '22', 15], ['23', '24', 30], ['24', '24', 0], ['24', '23', 30], ['24', '25', 14], ['25', '25', 0], ['25', '2', 38], ['25', '24', 14], ['26', '26', 0], ['26', '2', 20], ['26', '27', 51], ['27', '27', 0], ['27', '8', 40], ['27', '28', 6], ['28', '28', 0], ['28', '8', 24], ['28', '27', 6], ['29', '29', 0], ['29', '30', 20], ['29', '32', 189], ['30', '30', 0], ['30', '29', 20], ['30', '32', 156], ['31', '31', 0], ['31', '8', 59], ['31', '10', 31], ['32', '32', 0], ['32', '9', 81], ['32', '35', 57], ['33', '33', 0], ['33', '3', 26], ['33', '38', 10], ['34', '34', 0], ['34', '36', 3], ['34', '37', 22], ['35', '35', 0], ['35', '32', 57], ['35', '34', 40], ['36', '36', 0], ['36', '34', 3], ['36', '37', 5], ['37', '37', 0], ['37', '12', 6], ['37', '36', 5], ['38', '38', 0], ['38', '3', 6], ['38', '33', 10], ['39', '39', 0], ['39', '6', 7], ['39', '42', 7], ['40', '40', 0], ['40', '16', 3], ['40', '41', 7], ['41', '41', 0], ['41', '16', 21], ['41', '40', 7], ['42', '42', 0], ['42', '0', 18], ['42', '39', 7], ['43', '43', 0], ['43', '0', 7], ['43', '44', 24], ['44', '44', 0], ['44', '43', 24], ['44', '45', 24], ['45', '45', 0], ['45', '43', 58], ['45', '44', 24], ['46', '46', 0], ['46', '7', 34], ['46', '47', 23], ['47', '47', 0], ['47', '46', 23], ['47', '48', 24], ['48', '48', 0], ['48', '46', 56], ['48', '47', 24]]}, '0001463448': {'objects': ['0', '1', '2', '3', '4', '5', '6', '7', '8', '9', '10', '11', '12', '13', '14', '15', '16', '17', '18', '19', '20', '21', '22', '23', '24', '25', '26', '27', '28', '29', '30', '31', '32', '33', '34', '35', '36', '37', '38', '39', '40', '41'], 'relationships': [['0', '0', 0], ['0', '1', 27], ['0', '2', 55], ['1', '1', 0], ['1', '0', 27], ['1', '29', 47], ['2', '2', 0], ['2', '3', 26], ['2', '4', 53], ['3', '3', 0], ['3', '2', 26], ['3', '30', 47], ['4', '4', 0], ['4', '5', 41], ['4', '31', 15], ['5', '5', 0], ['5', '4', 41], ['5', '6', 27], ['6', '6', 0], ['6', '5', 27], ['6', '32', 46], ['7', '7', 0], ['7', '5', 52], ['7', '8', 25], ['8', '8', 0], ['8', '7', 25], ['8', '33', 47], ['9', '9', 0], ['9', '10', 27], ['9', '11', 10], ['10', '10', 0], ['10', '9', 27], ['10', '12', 14], ['11', '11', 0], ['11', '9', 10], ['11', '13', 14], ['12', '12', 0], ['12', '10', 14], ['12', '14', 13], ['13', '13', 0], ['13', '11', 14], ['13', '15', 14], ['14', '14', 0], ['14', '12', 13], ['14', '16', 12], ['15', '15', 0], ['15', '13', 14], ['15', '17', 12], ['16', '16', 0], ['16', '14', 12], ['16', '18', 11], ['17', '17', 0], ['17', '15', 12], ['17', '18', 27], ['18', '18', 0], ['18', '16', 11], ['18', '17', 27], ['19', '19', 0], ['19', '20', 27], ['19', '21', 52], ['20', '20', 0], ['20', '19', 27], ['20', '39', 44], ['21', '21', 0], ['21', '22', 27], ['21', '23', 38], ['22', '22', 0], ['22', '21', 27], ['22', '24', 40], ['23', '23', 0], ['23', '21', 38], ['23', '24', 24], ['24', '24', 0], ['24', '22', 40], ['24', '23', 24], ['25', '25', 0], ['25', '27', 194], ['25', '28', 91], ['26', '26', 0], ['26', '0', 69], ['26', '27', 32], ['27', '27', 0], ['27', '25', 194], ['27', '26', 32], ['28', '28', 0], ['28', '25', 91], ['28', '29', 80], ['29', '29', 0], ['29', '1', 47], ['29', '30', 40], ['30', '30', 0], ['30', '3', 47], ['30', '29', 40], ['31', '31', 0], ['31', '4', 15], ['31', '6', 54], ['32', '32', 0], ['32', '6', 46], ['32', '33', 38], ['33', '33', 0], ['33', '8', 47], ['33', '32', 38], ['34', '34', 0], ['34', '35', 11], ['34', '36', 39], ['35', '35', 0], ['35', '34', 11], ['35', '36', 11], ['36', '36', 0], ['36', '35', 11], ['36', '37', 14], ['37', '37', 0], ['37', '36', 14], ['37', '38', 14], ['38', '38', 0], ['38', '36', 39], ['38', '37', 14], ['39', '39', 0], ['39', '20', 44], ['39', '40', 39], ['40', '40', 0], ['40', '39', 39], ['40', '41', 41], ['41', '41', 0], ['41', '24', 45], ['41', '40', 41]]}, '92094746': {'objects': ['0', '1', '2', '3', '4', '5', '6', '7', '8', '9', '10', '11', '12', '13', '14', '15', '16', '17', '18', '19', '20', '21', '22', '23', '24', '25', '26', '27', '28', '29', '30', '31', '32', '33', '34', '35', '36', '37', '38', '39', '40', '41', '42', '43', '44', '45', '46', '47', '48', '49', '50', '51', '52', '53', '54', '55', '56', '57', '58', '59', '60', '61', '62', '63', '64', '65', '66', '67'], 'relationships': [['0', '0', 0], ['0', '42', 60], ['0', '43', 40], ['1', '1', 0], ['1', '46', 38], ['1', '51', 53], ['2', '2', 0], ['2', '49', 27], ['2', '53', 29], ['3', '3', 0], ['3', '40', 12], ['3', '52', 5], ['4', '4', 0], ['4', '53', 14], ['4', '54', 30], ['5', '5', 0], ['5', '6', 48], ['5', '50', 39], ['6', '6', 0], ['6', '5', 48], ['6', '7', 36], ['7', '7', 0], ['7', '6', 36], ['7', '39', 12], ['8', '8', 0], ['8', '9', 33], ['8', '12', 21], ['9', '9', 0], ['9', '8', 33], ['9', '15', 24], ['10', '10', 0], ['10', '9', 39], ['10', '11', 39], ['10', '18', 18], ['11', '11', 0], ['11', '10', 39], ['11', '21', 22], ['12', '12', 0], ['12', '8', 21], ['12', '24', 22], ['13', '13', 0], ['13', '14', 24], ['13', '25', 18], ['14', '14', 0], ['14', '13', 24], ['14', '26', 15], ['15', '15', 0], ['15', '16', 21], ['15', '24', 3], ['16', '16', 0], ['16', '15', 21], ['16', '25', 6], ['17', '17', 0], ['17', '16', 26], ['17', '26', 7], ['18', '18', 0], ['18', '10', 18], ['18', '19', 25], ['19', '19', 0], ['19', '18', 25], ['19', '20', 20], ['20', '20', 0], ['20', '19', 20], ['20', '23', 38], ['21', '21', 0], ['21', '11', 22], ['21', '22', 20], ['22', '22', 0], ['22', '21', 20], ['22', '23', 29], ['23', '23', 0], ['23', '20', 38], ['23', '22', 29], ['24', '24', 0], ['24', '12', 22], ['24', '15', 3], ['24', '25', 22], ['25', '25', 0], ['25', '13', 18], ['25', '16', 6], ['26', '26', 0], ['26', '14', 15], ['26', '17', 7], ['27', '27', 0], ['27', '28', 33], ['27', '61', 47], ['28', '28', 0], ['28', '27', 33], ['28', '30', 7], ['29', '29', 0], ['29', '31', 14], ['29', '63', 44], ['30', '30', 0], ['30', '28', 7], ['30', '36', 58], ['31', '31', 0], ['31', '29', 14], ['31', '32', 61], ['32', '32', 0], ['32', '31', 61], ['32', '36', 70], ['33', '33', 0], ['33', '31', 267], ['33', '32', 189], ['33', '36', 267], ['34', '34', 0], ['34', '35', 16], ['34', '55', 8], ['35', '35', 0], ['35', '34', 16], ['35', '55', 24], ['36', '36', 0], ['36', '30', 58], ['36', '32', 70], ['37', '37', 0], ['37', '62', 12], ['37', '63', 31], ['38', '38', 0], ['38', '58', 18], ['38', '59', 19], ['38', '60', 19], ['39', '39', 0], ['39', '6', 67], ['39', '7', 12], ['40', '40', 0], ['40', '3', 12], ['40', '54', 27], ['41', '41', 0], ['41', '42', 22], ['41', '47', 91], ['42', '42', 0], ['42', '0', 60], ['42', '41', 22], ['43', '43', 0], ['43', '0', 40], ['43', '44', 37], ['44', '44', 0], ['44', '43', 37], ['44', '51', 103], ['45', '45', 0], ['45', '0', 98], ['45', '42', 66], ['46', '46', 0], ['46', '1', 38], ['46', '51', 43], ['47', '47', 0], ['47', '48', 28], ['47', '49', 10], ['48', '48', 0], ['48', '47', 28], ['48', '49', 40], ['49', '49', 0], ['49', '47', 10], ['49', '52', 4], ['50', '50', 0], ['50', '5', 39], ['50', '51', 47], ['51', '51', 0], ['51', '7', 40], ['51', '46', 43], ['52', '52', 0], ['52', '3', 5], ['52', '49', 4], ['53', '53', 0], ['53', '2', 29], ['53', '4', 14], ['54', '54', 0], ['54', '4', 30], ['54', '40', 27], ['55', '55', 0], ['55', '34', 8], ['55', '56', 19], ['56', '56', 0], ['56', '55', 19], ['56', '57', 16], ['57', '57', 0], ['57', '56', 16], ['57', '58', 15], ['58', '58', 0], ['58', '38', 18], ['58', '57', 15], ['59', '59', 0], ['59', '38', 19], ['59', '60', 89], ['60', '60', 0], ['60', '38', 19], ['60', '58', 35], ['61', '61', 0], ['61', '37', 41], ['61', '62', 8], ['62', '62', 0], ['62', '37', 12], ['62', '61', 8], ['63', '63', 0], ['63', '37', 31], ['63', '64', 7], ['64', '64', 0], ['64', '63', 7], ['64', '65', 32], ['65', '65', 0], ['65', '66', 29], ['65', '67', 6], ['66', '66', 0], ['66', '63', 73], ['66', '65', 29], ['67', '67', 0], ['67', '64', 61], ['67', '65', 6]]}, '01408099_01408101': {'objects': ['0', '1', '2', '3', '4', '5', '6', '7', '8', '9', '10', '11', '12', '13', '14', '15', '16', '17', '18', '19', '20', '21', '22', '23', '24', '25', '26', '27', '28', '29', '30', '31', '32', '33', '34', '35', '36', '37', '38', '39', '40', '41', '42', '43', '44', '45', '46', '47', '48', '49', '50', '51'], 'relationships': [['0', '0', 0], ['0', '24', 20], ['0', '25', 17], ['1', '1', 0], ['1', '27', 19], ['1', '31', 35], ['2', '2', 0], ['2', '3', 16], ['2', '26', 28], ['3', '3', 0], ['3', '2', 16], ['3', '26', 12], ['4', '4', 0], ['4', '5', 28], ['4', '6', 48], ['5', '5', 0], ['5', '6', 5], ['5', '10', 20], ['6', '6', 0], ['6', '5', 5], ['6', '10', 4], ['7', '7', 0], ['7', '6', 10], ['7', '8', 10], ['8', '8', 0], ['8', '7', 10], ['8', '9', 9], ['9', '9', 0], ['9', '8', 9], ['9', '13', 18], ['10', '10', 0], ['10', '6', 4], ['10', '11', 10], ['11', '11', 0], ['11', '10', 10], ['11', '12', 9], ['12', '12', 0], ['12', '11', 9], ['12', '13', 10], ['13', '13', 0], ['13', '9', 18], ['13', '12', 10], ['14', '14', 0], ['14', '15', 15], ['14', '16', 21], ['15', '15', 0], ['15', '14', 15], ['15', '16', 3], ['16', '16', 0], ['16', '15', 3], ['16', '17', 4], ['17', '17', 0], ['17', '15', 20], ['17', '16', 4], ['18', '18', 0], ['18', '45', 13], ['18', '46', 17], ['19', '19', 0], ['19', '20', 9], ['19', '48', 31], ['20', '20', 0], ['20', '19', 9], ['20', '21', 22], ['21', '21', 0], ['21', '19', 66], ['21', '20', 22], ['22', '22', 0], ['22', '17', 235], ['22', '50', 195], ['23', '23', 0], ['23', '0', 79], ['23', '28', 94], ['24', '24', 0], ['24', '0', 20], ['24', '25', 74], ['25', '25', 0], ['25', '0', 17], ['25', '26', 15], ['26', '26', 0], ['26', '3', 12], ['26', '25', 15], ['27', '27', 0], ['27', '31', 16], ['27', '32', 17], ['28', '28', 0], ['28', '27', 18], ['28', '33', 12], ['29', '29', 0], ['29', '30', 20], ['29', '33', 30], ['30', '30', 0], ['30', '29', 20], ['30', '33', 18], ['31', '31', 0], ['31', '27', 16], ['31', '33', 5], ['32', '32', 0], ['32', '27', 17], ['32', '34', 7], ['33', '33', 0], ['33', '28', 12], ['33', '31', 5], ['34', '34', 0], ['34', '29', 70], ['34', '30', 70], ['34', '32', 7], ['35', '35', 0], ['35', '32', 19], ['35', '37', 16], ['36', '36', 0], ['36', '32', 23], ['36', '35', 23], ['36', '37', 14], ['37', '37', 0], ['37', '35', 16], ['37', '36', 14], ['38', '38', 0], ['38', '41', 151], ['38', '42', 139], ['39', '39', 0], ['39', '5', 90], ['39', '37', 83], ['40', '40', 0], ['40', '9', 35], ['40', '41', 42], ['41', '41', 0], ['41', '40', 42], ['41', '42', 24], ['42', '42', 0], ['42', '41', 24], ['42', '43', 38], ['43', '43', 0], ['43', '42', 38], ['43', '44', 34], ['44', '44', 0], ['44', '14', 51], ['44', '43', 34], ['45', '45', 0], ['45', '18', 13], ['45', '46', 16], ['46', '46', 0], ['46', '18', 17], ['46', '45', 16], ['47', '47', 0], ['47', '18', 64], ['47', '49', 4], ['48', '48', 0], ['48', '19', 31], ['48', '20', 69], ['49', '49', 0], ['49', '18', 32], ['49', '47', 4], ['50', '50', 0], ['50', '21', 142], ['50', '44', 142], ['50', '48', 91], ['51', '51', 0], ['51', '47', 85], ['51', '49', 105]]}, '93329540': {'objects': ['0', '1', '2', '3', '4', '5', '6', '7', '8', '9', '10', '11', '12', '13', '14', '15', '16', '17', '18', '19', '20', '21', '22', '23', '24', '25', '26', '27', '28', '29', '30', '31', '32', '33', '34', '35', '36', '37', '38', '39', '40', '41'], 'relationships': [['0', '0', 0], ['0', '1', 87], ['0', '8', 6], ['1', '1', 0], ['1', '7', 39], ['1', '8', 33], ['2', '2', 0], ['2', '9', 63], ['2', '11', 37], ['3', '3', 0], ['3', '18', 3], ['3', '19', 22], ['4', '4', 0], ['4', '38', 93], ['4', '39', 109], ['5', '5', 0], ['5', '1', 132], ['5', '7', 93], ['6', '6', 0], ['6', '2', 88], ['6', '7', 82], ['7', '7', 0], ['7', '1', 39], ['7', '6', 82], ['8', '8', 0], ['8', '0', 6], ['8', '1', 33], ['9', '9', 0], ['9', '1', 43], ['9', '10', 36], ['10', '10', 0], ['10', '1', 87], ['10', '9', 36], ['10', '11', 87], ['11', '11', 0], ['11', '2', 37], ['11', '12', 35], ['12', '12', 0], ['12', '11', 35], ['12', '13', 36], ['13', '13', 0], ['13', '12', 36], ['13', '14', 35], ['14', '14', 0], ['14', '13', 35], ['14', '15', 35], ['15', '15', 0], ['15', '14', 35], ['15', '16', 72], ['16', '16', 0], ['16', '15', 72], ['16', '17', 88], ['17', '17', 0], ['17', '16', 88], ['17', '24', 147], ['18', '18', 0], ['18', '3', 3], ['18', '19', 3], ['19', '19', 0], ['19', '18', 3], ['19', '20', 6], ['20', '20', 0], ['20', '19', 6], ['20', '21', 5], ['21', '21', 0], ['21', '20', 5], ['21', '22', 5], ['22', '22', 0], ['22', '21', 5], ['22', '23', 5], ['23', '23', 0], ['23', '21', 19], ['23', '22', 5], ['24', '24', 0], ['24', '25', 8], ['24', '26', 23], ['25', '25', 0], ['25', '24', 8], ['25', '26', 5], ['26', '26', 0], ['26', '25', 5], ['26', '27', 3], ['27', '27', 0], ['27', '26', 3], ['27', '28', 4], ['28', '28', 0], ['28', '27', 4], ['28', '29', 4], ['29', '29', 0], ['29', '28', 4], ['29', '30', 3], ['30', '30', 0], ['30', '28', 20], ['30', '29', 3], ['31', '31', 0], ['31', '32', 4], ['31', '33', 23], ['32', '32', 0], ['32', '31', 4], ['32', '33', 3], ['33', '33', 0], ['33', '32', 3], ['33', '34', 4], ['34', '34', 0], ['34', '33', 4], ['34', '35', 3], ['35', '35', 0], ['35', '34', 3], ['35', '36', 2], ['36', '36', 0], ['36', '35', 2], ['36', '37', 4], ['37', '37', 0], ['37', '35', 20], ['37', '36', 4], ['38', '38', 0], ['38', '39', 1], ['38', '40', 22], ['39', '39', 0], ['39', '38', 1], ['39', '40', 6], ['40', '40', 0], ['40', '39', 6], ['40', '41', 3], ['41', '41', 0], ['41', '39', 23], ['41', '40', 3]]}, '00837285': {'objects': ['0', '1', '2', '3', '4', '5', '6', '7', '8', '9', '10', '11', '12', '13', '14', '15', '16', '17', '18', '19', '20', '21', '22', '23', '24', '25', '26', '27', '28', '29', '30', '31', '32', '33', '34', '35', '36', '37', '38', '39', '40', '41', '42', '43', '44', '45', '46', '47', '48', '49', '50', '51', '52', '53', '54', '55', '56', '57', '58', '59', '60', '61', '62', '63', '64', '65', '66', '67', '68', '69', '70', '71', '72', '73', '74', '75', '76', '77', '78'], 'relationships': [['0', '0', 0], ['0', '9', 28], ['0', '54', 20], ['1', '1', 0], ['1', '53', 30], ['1', '55', 33], ['2', '2', 0], ['2', '3', 19], ['2', '4', 53], ['3', '3', 0], ['3', '2', 19], ['3', '7', 31], ['4', '4', 0], ['4', '3', 45], ['4', '5', 25], ['5', '5', 0], ['5', '4', 25], ['5', '6', 41], ['6', '6', 0], ['6', '5', 41], ['6', '57', 29], ['7', '7', 0], ['7', '3', 31], ['7', '56', 55], ['8', '8', 0], ['8', '54', 42], ['8', '55', 20], ['9', '9', 0], ['9', '0', 28], ['9', '59', 53], ['10', '10', 0], ['10', '11', 21], ['10', '56', 41], ['11', '11', 0], ['11', '10', 21], ['11', '12', 25], ['12', '12', 0], ['12', '11', 25], ['12', '13', 22], ['13', '13', 0], ['13', '12', 22], ['13', '14', 21], ['14', '14', 0], ['14', '13', 21], ['14', '15', 18], ['15', '15', 0], ['15', '13', 47], ['15', '14', 18], ['16', '16', 0], ['16', '17', 17], ['16', '56', 21], ['17', '17', 0], ['17', '16', 17], ['17', '18', 23], ['18', '18', 0], ['18', '17', 23], ['18', '19', 23], ['19', '19', 0], ['19', '18', 23], ['19', '20', 21], ['20', '20', 0], ['20', '19', 21], ['20', '21', 18], ['21', '21', 0], ['21', '19', 47], ['21', '20', 18], ['22', '22', 0], ['22', '23', 15], ['22', '58', 38], ['23', '23', 0], ['23', '22', 15], ['23', '24', 24], ['24', '24', 0], ['24', '23', 24], ['24', '25', 21], ['25', '25', 0], ['25', '24', 21], ['25', '26', 21], ['26', '26', 0], ['26', '25', 21], ['26', '27', 16], ['27', '27', 0], ['27', '25', 45], ['27', '26', 16], ['28', '28', 0], ['28', '29', 18], ['28', '30', 47], ['29', '29', 0], ['29', '28', 18], ['29', '30', 21], ['30', '30', 0], ['30', '29', 21], ['30', '31', 23], ['31', '31', 0], ['31', '30', 23], ['31', '32', 19], ['32', '32', 0], ['32', '31', 19], ['32', '33', 19], ['33', '33', 0], ['33', '31', 48], ['33', '32', 19], ['34', '34', 0], ['34', '32', 87], ['34', '33', 63], ['35', '35', 0], ['35', '36', 36], ['35', '70', 16], ['36', '36', 0], ['36', '35', 36], ['36', '37', 40], ['37', '37', 0], ['37', '38', 35], ['37', '70', 29], ['38', '38', 0], ['38', '37', 35], ['38', '39', 37], ['39', '39', 0], ['39', '38', 37], ['39', '69', 45], ['40', '40', 0], ['40', '35', 37], ['40', '70', 39], ['41', '41', 0], ['41', '76', 20], ['41', '77', 29], ['42', '42', 0], ['42', '43', 33], ['42', '77', 138], ['43', '43', 0], ['43', '42', 33], ['43', '78', 134], ['44', '44', 0], ['44', '48', 37], ['44', '50', 20], ['45', '45', 0], ['45', '44', 88], ['45', '49', 108], ['46', '46', 0], ['46', '47', 23], ['46', '48', 13], ['47', '47', 0], ['47', '46', 23], ['47', '48', 30], ['48', '48', 0], ['48', '46', 13], ['48', '50', 27], ['49', '49', 0], ['49', '44', 168], ['49', '45', 108], ['50', '50', 0], ['50', '44', 20], ['50', '48', 27], ['51', '51', 0], ['51', '4', 111], ['51', '5', 108], ['52', '52', 0], ['52', '1', 63], ['52', '2', 79], ['53', '53', 0], ['53', '1', 30], ['53', '54', 20], ['54', '54', 0], ['54', '0', 20], ['54', '53', 20], ['54', '55', 20], ['55', '55', 0], ['55', '8', 20], ['55', '54', 20], ['56', '56', 0], ['56', '10', 41], ['56', '16', 21], ['57', '57', 0], ['57', '6', 29], ['57', '47', 36], ['58', '58', 0], ['58', '22', 38], ['58', '57', 50], ['59', '59', 0], ['59', '60', 19], ['59', '61', 47], ['60', '60', 0], ['60', '59', 19], ['60', '61', 18], ['61', '61', 0], ['61', '60', 18], ['61', '62', 22], ['62', '62', 0], ['62', '61', 22], ['62', '63', 20], ['63', '63', 0], ['63', '62', 20], ['63', '64', 18], ['64', '64', 0], ['64', '63', 18], ['64', '65', 32], ['65', '65', 0], ['65', '63', 58], ['65', '64', 32], ['66', '66', 0], ['66', '68', 28], ['66', '70', 58], ['67', '67', 0], ['67', '69', 50], ['67', '71', 120], ['68', '68', 0], ['68', '66', 28], ['68', '70', 20], ['69', '69', 0], ['69', '39', 45], ['69', '67', 50], ['70', '70', 0], ['70', '35', 16], ['70', '68', 20], ['71', '71', 0], ['71', '67', 120], ['71', '69', 108], ['72', '72', 0], ['72', '73', 12], ['72', '74', 38], ['73', '73', 0], ['73', '72', 12], ['73', '74', 11], ['74', '74', 0], ['74', '73', 11], ['74', '75', 17], ['75', '75', 0], ['75', '74', 17], ['75', '77', 53], ['76', '76', 0], ['76', '41', 20], ['76', '77', 27], ['77', '77', 0], ['77', '41', 29], ['77', '76', 27], ['78', '78', 0], ['78', '42', 157], ['78', '43', 134]]}, '92094751': {'objects': ['0', '1', '2', '3', '4', '5', '6', '7', '8', '9', '10', '11', '12', '13', '14', '15', '16', '17', '18', '19', '20', '21', '22', '23', '24', '25', '26', '27', '28', '29', '30', '31', '32', '33', '34', '35', '36', '37', '38', '39', '40', '41', '42', '43', '44', '45', '46', '47', '48', '49', '50', '51', '52', '53', '54', '55', '56', '57', '58', '59', '60', '61', '62', '63', '64', '65', '66', '67', '68', '69', '70'], 'relationships': [['0', '0', 0], ['0', '39', 74], ['0', '41', 110], ['1', '1', 0], ['1', '44', 53], ['1', '47', 32], ['2', '2', 0], ['2', '3', 6], ['2', '48', 11], ['3', '3', 0], ['3', '2', 6], ['3', '50', 11], ['4', '4', 0], ['4', '49', 34], ['4', '50', 51], ['5', '5', 0], ['5', '4', 53], ['5', '46', 47], ['6', '6', 0], ['6', '5', 55], ['6', '32', 33], ['7', '7', 0], ['7', '6', 65], ['7', '32', 22], ['8', '8', 0], ['8', '9', 26], ['8', '12', 39], ['9', '9', 0], ['9', '8', 26], ['9', '10', 26], ['10', '10', 0], ['10', '9', 26], ['10', '11', 24], ['11', '11', 0], ['11', '10', 24], ['11', '15', 39], ['12', '12', 0], ['12', '8', 39], ['12', '13', 28], ['12', '18', 39], ['13', '13', 0], ['13', '12', 28], ['13', '14', 26], ['14', '14', 0], ['14', '13', 26], ['14', '15', 24], ['15', '15', 0], ['15', '11', 39], ['15', '14', 24], ['16', '16', 0], ['16', '18', 41], ['16', '19', 25], ['17', '17', 0], ['17', '18', 24], ['17', '21', 25], ['18', '18', 0], ['18', '12', 39], ['18', '17', 24], ['19', '19', 0], ['19', '16', 25], ['19', '33', 8], ['20', '20', 0], ['20', '23', 23], ['20', '34', 9], ['21', '21', 0], ['21', '17', 25], ['21', '22', 27], ['22', '22', 0], ['22', '21', 27], ['22', '23', 39], ['23', '23', 0], ['23', '20', 23], ['23', '35', 7], ['24', '24', 0], ['24', '56', 19], ['24', '57', 11], ['25', '25', 0], ['25', '60', 15], ['25', '62', 10], ['26', '26', 0], ['26', '27', 65], ['26', '36', 15], ['27', '27', 0], ['27', '26', 65], ['27', '28', 74], ['28', '28', 0], ['28', '29', 64], ['28', '37', 11], ['29', '29', 0], ['29', '28', 64], ['29', '37', 43], ['30', '30', 0], ['30', '65', 61], ['30', '68', 87], ['31', '31', 0], ['31', '45', 11], ['31', '49', 38], ['32', '32', 0], ['32', '6', 33], ['32', '7', 22], ['33', '33', 0], ['33', '19', 8], ['33', '53', 19], ['34', '34', 0], ['34', '20', 9], ['34', '35', 26], ['35', '35', 0], ['35', '23', 7], ['35', '34', 26], ['36', '36', 0], ['36', '26', 15], ['36', '60', 44], ['37', '37', 0], ['37', '28', 11], ['37', '29', 43], ['38', '38', 0], ['38', '39', 23], ['38', '42', 125], ['39', '39', 0], ['39', '0', 74], ['39', '38', 23], ['40', '40', 0], ['40', '1', 176], ['40', '41', 151], ['41', '41', 0], ['41', '42', 72], ['41', '47', 93], ['42', '42', 0], ['42', '43', 9], ['42', '45', 34], ['43', '43', 0], ['43', '42', 9], ['43', '45', 11], ['44', '44', 0], ['44', '1', 53], ['44', '47', 60], ['45', '45', 0], ['45', '31', 11], ['45', '43', 11], ['46', '46', 0], ['46', '5', 47], ['46', '47', 21], ['47', '47', 0], ['47', '1', 32], ['47', '46', 21], ['48', '48', 0], ['48', '2', 11], ['48', '49', 13], ['49', '49', 0], ['49', '4', 34], ['49', '48', 13], ['50', '50', 0], ['50', '3', 11], ['50', '4', 51], ['51', '51', 0], ['51', '52', 11], ['51', '53', 25], ['52', '52', 0], ['52', '16', 57], ['52', '51', 11], ['53', '53', 0], ['53', '33', 19], ['53', '54', 24], ['54', '54', 0], ['54', '53', 24], ['54', '55', 27], ['55', '55', 0], ['55', '24', 24], ['55', '54', 27], ['56', '56', 0], ['56', '24', 19], ['56', '57', 95], ['57', '57', 0], ['57', '24', 11], ['57', '55', 48], ['58', '58', 0], ['58', '36', 96], ['58', '59', 13], ['59', '59', 0], ['59', '58', 13], ['59', '60', 13], ['60', '60', 0], ['60', '25', 15], ['60', '59', 13], ['61', '61', 0], ['61', '25', 25], ['61', '65', 95], ['62', '62', 0], ['62', '25', 10], ['62', '63', 9], ['63', '63', 0], ['63', '62', 9], ['63', '64', 11], ['64', '64', 0], ['64', '63', 11], ['64', '66', 10], ['65', '65', 0], ['65', '30', 61], ['65', '64', 13], ['66', '66', 0], ['66', '64', 10], ['66', '67', 12], ['67', '67', 0], ['67', '66', 12], ['67', '68', 12], ['67', '69', 8], ['68', '68', 0], ['68', '30', 87], ['68', '67', 12], ['69', '69', 0], ['69', '66', 37], ['69', '67', 8], ['70', '70', 0], ['70', '30', 94], ['70', '65', 101]]}, '92314414': {'objects': ['0', '1', '2', '3', '4', '5', '6', '7', '8', '9', '10', '11', '12', '13', '14', '15', '16', '17', '18', '19', '20', '21', '22', '23', '24', '25', '26', '27', '28', '29', '30'], 'relationships': [['0', '0', 0], ['0', '1', 4], ['0', '9', 10], ['1', '1', 0], ['1', '0', 4], ['1', '2', 12], ['2', '2', 0], ['2', '1', 12], ['2', '9', 52], ['3', '3', 0], ['3', '16', 10], ['3', '17', 15], ['4', '4', 0], ['4', '7', 187], ['4', '29', 105], ['5', '5', 0], ['5', '28', 102], ['5', '30', 65], ['6', '6', 0], ['6', '24', 59], ['6', '28', 63], ['7', '7', 0], ['7', '4', 187], ['7', '28', 159], ['8', '8', 0], ['8', '13', 181], ['8', '14', 227], ['9', '9', 0], ['9', '0', 10], ['9', '1', 49], ['10', '10', 0], ['10', '0', 17], ['10', '1', 15], ['11', '11', 0], ['11', '12', 23], ['11', '18', 154], ['12', '12', 0], ['12', '11', 23], ['12', '18', 80], ['13', '13', 0], ['13', '12', 161], ['13', '14', 13], ['14', '14', 0], ['14', '13', 13], ['14', '18', 169], ['15', '15', 0], ['15', '3', 16], ['15', '16', 29], ['16', '16', 0], ['16', '3', 10], ['16', '15', 29], ['17', '17', 0], ['17', '3', 15], ['17', '15', 31], ['18', '18', 0], ['18', '12', 80], ['18', '19', 24], ['19', '19', 0], ['19', '18', 24], ['19', '20', 55], ['20', '20', 0], ['20', '19', 55], ['20', '21', 15], ['21', '21', 0], ['21', '20', 15], ['21', '22', 30], ['22', '22', 0], ['22', '21', 30], ['22', '23', 30], ['22', '26', 27], ['23', '23', 0], ['23', '22', 30], ['23', '24', 17], ['24', '24', 0], ['24', '6', 59], ['24', '23', 17], ['25', '25', 0], ['25', '26', 9], ['25', '27', 55], ['26', '26', 0], ['26', '25', 9], ['26', '27', 9], ['27', '27', 0], ['27', '26', 9], ['27', '28', 15], ['28', '28', 0], ['28', '26', 43], ['28', '27', 15], ['29', '29', 0], ['29', '4', 105], ['29', '7', 188], ['30', '30', 0], ['30', '5', 65], ['30', '6', 164]]}, '0001485288': {'objects': ['0', '1', '2', '3', '4', '5', '6', '7', '8', '9', '10', '11', '12', '13', '14', '15', '16', '17', '18', '19', '20', '21', '22', '23', '24', '25', '26', '27', '28', '29'], 'relationships': [['0', '0', 0], ['0', '7', 10], ['0', '8', 85], ['1', '1', 0], ['1', '18', 91], ['1', '20', 188], ['2', '2', 0], ['2', '3', 83], ['2', '29', 35], ['3', '3', 0], ['3', '2', 83], ['3', '29', 37], ['4', '4', 0], ['4', '18', 214], ['4', '19', 75], ['5', '5', 0], ['5', '6', 125], ['5', '15', 130], ['6', '6', 0], ['6', '5', 125], ['6', '7', 64], ['7', '7', 0], ['7', '0', 10], ['7', '6', 64], ['8', '8', 0], ['8', '9', 6], ['8', '11', 80], ['9', '9', 0], ['9', '8', 6], ['9', '11', 59], ['10', '10', 0], ['10', '9', 100], ['10', '16', 63], ['11', '11', 0], ['11', '12', 15], ['11', '13', 49], ['11', '14', 49], ['12', '12', 0], ['12', '11', 15], ['12', '14', 42], ['13', '13', 0], ['13', '11', 49], ['13', '14', 18], ['14', '14', 0], ['14', '12', 42], ['14', '13', 18], ['15', '15', 0], ['15', '5', 130], ['15', '16', 99], ['16', '16', 0], ['16', '10', 63], ['16', '15', 99], ['17', '17', 0], ['17', '18', 141], ['17', '20', 84], ['18', '18', 0], ['18', '1', 91], ['18', '19', 108], ['19', '19', 0], ['19', '4', 75], ['19', '18', 108], ['20', '20', 0], ['20', '17', 84], ['20', '21', 51], ['20', '22', 84], ['21', '21', 0], ['21', '20', 51], ['21', '22', 18], ['22', '22', 0], ['22', '20', 84], ['22', '21', 18], ['23', '23', 0], ['23', '22', 100], ['23', '24', 43], ['24', '24', 0], ['24', '23', 43], ['24', '26', 109], ['25', '25', 0], ['25', '24', 116], ['25', '26', 131], ['26', '26', 0], ['26', '24', 109], ['26', '25', 131], ['27', '27', 0], ['27', '26', 162], ['27', '28', 57], ['28', '28', 0], ['28', '3', 152], ['28', '27', 57], ['29', '29', 0], ['29', '2', 35], ['29', '3', 37]]}, '71202511': {'objects': ['0', '1', '2', '3', '4', '5', '6', '7', '8', '9', '10', '11', '12', '13', '14', '15', '16', '17', '18', '19', '20', '21', '22', '23', '24', '25', '26', '27', '28', '29', '30', '31', '32', '33', '34', '35', '36', '37', '38', '39', '40', '41', '42', '43', '44', '45', '46', '47', '48', '49', '50', '51', '52', '53', '54', '55', '56', '57', '58', '59', '60', '61', '62', '63', '64', '65', '66', '67', '68', '69', '70', '71', '72', '73', '74', '75', '76', '77', '78'], 'relationships': [['0', '0', 0], ['0', '1', 5], ['0', '31', 35], ['1', '1', 0], ['1', '0', 5], ['1', '31', 20], ['2', '2', 0], ['2', '31', 88], ['2', '32', 88], ['3', '3', 0], ['3', '33', 5], ['3', '34', 31], ['4', '4', 0], ['4', '5', 7], ['4', '8', 27], ['5', '5', 0], ['5', '4', 7], ['5', '9', 29], ['6', '6', 0], ['6', '37', 13], ['6', '40', 57], ['7', '7', 0], ['7', '37', 56], ['7', '38', 17], ['8', '8', 0], ['8', '9', 5], ['8', '10', 21], ['9', '9', 0], ['9', '8', 5], ['9', '11', 13], ['10', '10', 0], ['10', '8', 21], ['10', '11', 5], ['11', '11', 0], ['11', '9', 13], ['11', '10', 5], ['12', '12', 0], ['12', '8', 38], ['12', '30', 10], ['13', '13', 0], ['13', '48', 4], ['13', '49', 16], ['14', '14', 0], ['14', '13', 31], ['14', '48', 33], ['15', '15', 0], ['15', '50', 32], ['15', '51', 53], ['16', '16', 0], ['16', '50', 61], ['16', '51', 39], ['17', '17', 0], ['17', '69', 8], ['17', '70', 10], ['18', '18', 0], ['18', '19', 18], ['18', '71', 38], ['19', '19', 0], ['19', '18', 18], ['19', '20', 15], ['20', '20', 0], ['20', '19', 15], ['20', '21', 17], ['21', '21', 0], ['21', '20', 17], ['21', '22', 16], ['22', '22', 0], ['22', '21', 16], ['22', '74', 21], ['23', '23', 0], ['23', '24', 17], ['23', '76', 14], ['24', '24', 0], ['24', '23', 17], ['24', '25', 9], ['25', '25', 0], ['25', '23', 20], ['25', '24', 9], ['26', '26', 0], ['26', '12', 82], ['26', '27', 60], ['27', '27', 0], ['27', '26', 60], ['27', '28', 93], ['28', '28', 0], ['28', '29', 11], ['28', '32', 34], ['29', '29', 0], ['29', '28', 11], ['29', '32', 20], ['30', '30', 0], ['30', '10', 35], ['30', '12', 10], ['31', '31', 0], ['31', '1', 20], ['31', '32', 29], ['32', '32', 0], ['32', '29', 20], ['32', '31', 29], ['33', '33', 0], ['33', '3', 5], ['33', '4', 36], ['33', '34', 36], ['34', '34', 0], ['34', '3', 31], ['34', '33', 36], ['35', '35', 0], ['35', '31', 33], ['35', '41', 34], ['36', '36', 0], ['36', '37', 38], ['36', '40', 18], ['37', '37', 0], ['37', '6', 13], ['37', '38', 30], ['38', '38', 0], ['38', '7', 17], ['38', '37', 30], ['39', '39', 0], ['39', '11', 56], ['39', '38', 43], ['40', '40', 0], ['40', '6', 57], ['40', '36', 18], ['41', '41', 0], ['41', '35', 34], ['41', '42', 49], ['42', '42', 0], ['42', '46', 23], ['42', '47', 39], ['43', '43', 0], ['43', '7', 83], ['43', '44', 38], ['44', '44', 0], ['44', '43', 38], ['44', '45', 32], ['45', '45', 0], ['45', '15', 63], ['45', '44', 32], ['46', '46', 0], ['46', '42', 23], ['46', '47', 2], ['47', '47', 0], ['47', '46', 2], ['47', '48', 15], ['48', '48', 0], ['48', '13', 4], ['48', '47', 15], ['49', '49', 0], ['49', '13', 16], ['49', '52', 15], ['50', '50', 0], ['50', '15', 32], ['50', '51', 9], ['51', '51', 0], ['51', '16', 39], ['51', '50', 9], ['52', '52', 0], ['52', '49', 15], ['52', '53', 32], ['53', '53', 0], ['53', '52', 32], ['53', '54', 16], ['54', '54', 0], ['54', '52', 33], ['54', '53', 16], ['55', '55', 0], ['55', '57', 17], ['55', '58', 19], ['56', '56', 0], ['56', '55', 58], ['56', '59', 50], ['57', '57', 0], ['57', '55', 17], ['57', '58', 2], ['58', '58', 0], ['58', '55', 19], ['58', '57', 2], ['59', '59', 0], ['59', '56', 50], ['59', '60', 12], ['60', '60', 0], ['60', '56', 62], ['60', '59', 12], ['61', '61', 0], ['61', '62', 17], ['61', '69', 36], ['62', '62', 0], ['62', '61', 17], ['62', '63', 14], ['63', '63', 0], ['63', '62', 14], ['63', '64', 16], ['64', '64', 0], ['64', '63', 16], ['64', '65', 17], ['65', '65', 0], ['65', '64', 17], ['65', '66', 39], ['66', '66', 0], ['66', '65', 39], ['66', '67', 11], ['67', '67', 0], ['67', '66', 11], ['67', '68', 14], ['68', '68', 0], ['68', '67', 14], ['68', '69', 16], ['69', '69', 0], ['69', '17', 8], ['69', '68', 16], ['70', '70', 0], ['70', '17', 10], ['70', '69', 33], ['71', '71', 0], ['71', '18', 38], ['71', '72', 8], ['72', '72', 0], ['72', '19', 47], ['72', '71', 8], ['73', '73', 0], ['73', '74', 25], ['73', '75', 43], ['74', '74', 0], ['74', '22', 21], ['74', '75', 9], ['75', '75', 0], ['75', '73', 43], ['75', '74', 9], ['76', '76', 0], ['76', '23', 14], ['76', '77', 16], ['77', '77', 0], ['77', '23', 22], ['77', '76', 16], ['78', '78', 0], ['78', '24', 126], ['78', '25', 111]]}, '89368010': {'objects': ['0', '1', '2', '3', '4', '5', '6', '7', '8', '9', '10', '11', '12', '13', '14', '15', '16', '17', '18', '19', '20', '21', '22', '23', '24', '25', '26', '27', '28', '29', '30', '31', '32', '33', '34', '35', '36', '37', '38', '39', '40'], 'relationships': [['0', '0', 0], ['0', '1', 28], ['0', '3', 61], ['1', '1', 0], ['1', '0', 28], ['1', '3', 65], ['2', '2', 0], ['2', '7', 74], ['2', '31', 53], ['3', '3', 0], ['3', '0', 61], ['3', '32', 22], ['4', '4', 0], ['4', '5', 21], ['4', '35', 28], ['5', '5', 0], ['5', '4', 21], ['5', '6', 25], ['6', '6', 0], ['6', '5', 25], ['6', '9', 51], ['7', '7', 0], ['7', '4', 43], ['7', '8', 48], ['8', '8', 0], ['8', '36', 19], ['8', '37', 44], ['9', '9', 0], ['9', '8', 48], ['9', '37', 28], ['10', '10', 0], ['10', '11', 34], ['10', '39', 36], ['11', '11', 0], ['11', '10', 34], ['11', '40', 28], ['12', '12', 0], ['12', '9', 70], ['12', '38', 96], ['13', '13', 0], ['13', '15', 135], ['13', '24', 134], ['14', '14', 0], ['14', '22', 82], ['14', '23', 107], ['15', '15', 0], ['15', '16', 5], ['15', '24', 4], ['16', '16', 0], ['16', '15', 5], ['16', '17', 9], ['17', '17', 0], ['17', '16', 9], ['17', '18', 10], ['18', '18', 0], ['18', '17', 10], ['18', '19', 6], ['19', '19', 0], ['19', '18', 6], ['19', '20', 14], ['20', '20', 0], ['20', '18', 38], ['20', '19', 14], ['21', '21', 0], ['21', '18', 33], ['21', '22', 113], ['22', '22', 0], ['22', '17', 38], ['22', '23', 52], ['23', '23', 0], ['23', '15', 52], ['23', '16', 16], ['23', '22', 52], ['24', '24', 0], ['24', '15', 4], ['24', '23', 54], ['25', '25', 0], ['25', '26', 16], ['25', '27', 18], ['26', '26', 0], ['26', '22', 169], ['26', '25', 16], ['27', '27', 0], ['27', '25', 18], ['27', '28', 50], ['28', '28', 0], ['28', '29', 14], ['28', '30', 23], ['29', '29', 0], ['29', '2', 163], ['29', '28', 14], ['30', '30', 0], ['30', '27', 69], ['30', '28', 23], ['31', '31', 0], ['31', '2', 53], ['31', '7', 75], ['32', '32', 0], ['32', '3', 22], ['32', '33', 34], ['33', '33', 0], ['33', '32', 34], ['33', '34', 17], ['34', '34', 0], ['34', '33', 17], ['34', '40', 57], ['35', '35', 0], ['35', '4', 28], ['35', '5', 66], ['36', '36', 0], ['36', '8', 19], ['36', '37', 31], ['37', '37', 0], ['37', '9', 28], ['37', '36', 31], ['38', '38', 0], ['38', '10', 43], ['38', '37', 33], ['39', '39', 0], ['39', '10', 36], ['39', '11', 56], ['40', '40', 0], ['40', '11', 28], ['40', '34', 57]]}, '0012199830': {'objects': ['0', '1', '2', '3', '4', '5', '6', '7', '8', '9', '10', '11', '12', '13', '14', '15', '16', '17', '18', '19', '20', '21', '22', '23', '24', '25', '26'], 'relationships': [['0', '0', 0], ['0', '1', 52], ['0', '12', 45], ['1', '1', 0], ['1', '10', 19], ['1', '11', 49], ['2', '2', 0], ['2', '8', 40], ['2', '9', 78], ['3', '3', 0], ['3', '24', 66], ['3', '26', 8], ['4', '4', 0], ['4', '25', 368], ['4', '26', 340], ['5', '5', 0], ['5', '22', 8], ['5', '23', 29], ['6', '6', 0], ['6', '1', 75], ['6', '7', 73], ['7', '7', 0], ['7', '1', 62], ['7', '6', 73], ['8', '8', 0], ['8', '2', 40], ['8', '9', 17], ['9', '9', 0], ['9', '2', 78], ['9', '8', 17], ['10', '10', 0], ['10', '1', 19], ['10', '11', 15], ['11', '11', 0], ['11', '10', 15], ['11', '12', 33], ['12', '12', 0], ['12', '0', 45], ['12', '11', 33], ['13', '13', 0], ['13', '11', 50], ['13', '12', 54], ['14', '14', 0], ['14', '15', 7], ['14', '16', 31], ['15', '15', 0], ['15', '14', 7], ['15', '16', 6], ['16', '16', 0], ['16', '15', 6], ['16', '17', 7], ['17', '17', 0], ['17', '16', 7], ['17', '18', 6], ['18', '18', 0], ['18', '17', 6], ['18', '19', 4], ['19', '19', 0], ['19', '17', 27], ['19', '18', 4], ['20', '20', 0], ['20', '5', 123], ['20', '21', 112], ['21', '21', 0], ['21', '5', 65], ['21', '22', 88], ['22', '22', 0], ['22', '5', 8], ['22', '23', 6], ['23', '23', 0], ['23', '5', 29], ['23', '22', 6], ['24', '24', 0], ['24', '3', 66], ['24', '25', 39], ['25', '25', 0], ['25', '24', 39], ['25', '26', 55], ['26', '26', 0], ['26', '3', 8], ['26', '25', 55]]}, '92091873': {'objects': ['0', '1', '2', '3', '4', '5', '6', '7', '8', '9', '10', '11', '12', '13', '14', '15', '16', '17', '18', '19', '20', '21', '22', '23', '24', '25', '26', '27', '28', '29', '30', '31', '32', '33', '34', '35', '36', '37', '38', '39', '40', '41', '42', '43', '44', '45', '46', '47', '48', '49', '50', '51', '52', '53', '54', '55', '56', '57', '58', '59', '60', '61', '62', '63', '64', '65', '66', '67', '68', '69', '70'], 'relationships': [['0', '0', 0], ['0', '39', 19], ['0', '42', 12], ['1', '1', 0], ['1', '39', 47], ['1', '40', 47], ['1', '44', 13], ['2', '2', 0], ['2', '11', 11], ['2', '51', 27], ['3', '3', 0], ['3', '48', 10], ['3', '49', 15], ['4', '4', 0], ['4', '12', 12], ['4', '50', 3], ['5', '5', 0], ['5', '6', 13], ['5', '7', 29], ['6', '6', 0], ['6', '7', 6], ['6', '49', 9], ['7', '7', 0], ['7', '6', 6], ['7', '8', 7], ['8', '8', 0], ['8', '7', 7], ['8', '35', 22], ['8', '50', 22], ['9', '9', 0], ['9', '11', 33], ['9', '54', 19], ['10', '10', 0], ['10', '52', 10], ['10', '54', 19], ['11', '11', 0], ['11', '2', 11], ['11', '52', 14], ['12', '12', 0], ['12', '4', 12], ['12', '13', 8], ['13', '13', 0], ['13', '12', 8], ['13', '35', 19], ['14', '14', 0], ['14', '57', 5], ['14', '58', 25], ['15', '15', 0], ['15', '16', 5], ['15', '56', 7], ['16', '16', 0], ['16', '15', 5], ['16', '17', 4], ['17', '17', 0], ['17', '16', 4], ['17', '60', 21], ['18', '18', 0], ['18', '19', 11], ['18', '20', 26], ['19', '19', 0], ['19', '18', 11], ['19', '20', 13], ['20', '20', 0], ['20', '18', 26], ['20', '19', 13], ['21', '21', 0], ['21', '22', 6], ['21', '23', 22], ['22', '22', 0], ['22', '21', 6], ['22', '23', 6], ['23', '23', 0], ['23', '22', 6], ['23', '59', 15], ['24', '24', 0], ['24', '25', 16], ['24', '26', 15], ['25', '25', 0], ['25', '24', 16], ['25', '26', 3], ['26', '26', 0], ['26', '24', 15], ['26', '25', 3], ['27', '27', 0], ['27', '28', 99], ['27', '68', 42], ['28', '28', 0], ['28', '29', 44], ['28', '32', 86], ['29', '29', 0], ['29', '28', 44], ['29', '30', 141], ['30', '30', 0], ['30', '31', 1], ['30', '32', 31], ['31', '31', 0], ['31', '30', 1], ['31', '32', 30], ['32', '32', 0], ['32', '30', 31], ['32', '31', 30], ['33', '33', 0], ['33', '69', 110], ['33', '70', 17], ['34', '34', 0], ['34', '32', 108], ['34', '69', 46], ['35', '35', 0], ['35', '13', 19], ['35', '36', 4], ['36', '36', 0], ['36', '35', 4], ['36', '37', 2], ['37', '37', 0], ['37', '35', 28], ['37', '36', 2], ['38', '38', 0], ['38', '40', 27], ['38', '41', 61], ['39', '39', 0], ['39', '0', 19], ['39', '43', 12], ['40', '40', 0], ['40', '38', 27], ['40', '41', 15], ['41', '41', 0], ['41', '40', 15], ['41', '44', 17], ['42', '42', 0], ['42', '0', 12], ['42', '43', 24], ['43', '43', 0], ['43', '39', 12], ['43', '42', 24], ['44', '44', 0], ['44', '1', 13], ['44', '41', 17], ['45', '45', 0], ['45', '46', 9], ['45', '47', 44], ['46', '46', 0], ['46', '44', 41], ['46', '45', 9], ['47', '47', 0], ['47', '45', 44], ['47', '46', 82], ['48', '48', 0], ['48', '3', 10], ['48', '49', 25], ['49', '49', 0], ['49', '4', 13], ['49', '6', 9], ['50', '50', 0], ['50', '4', 3], ['50', '7', 14], ['51', '51', 0], ['51', '52', 15], ['51', '54', 13], ['52', '52', 0], ['52', '10', 10], ['52', '11', 14], ['53', '53', 0], ['53', '52', 25], ['53', '55', 21], ['54', '54', 0], ['54', '9', 19], ['54', '10', 19], ['54', '51', 13], ['55', '55', 0], ['55', '10', 33], ['55', '53', 21], ['56', '56', 0], ['56', '12', 22], ['56', '15', 7], ['57', '57', 0], ['57', '14', 5], ['57', '59', 14], ['58', '58', 0], ['58', '22', 9], ['58', '59', 14], ['59', '59', 0], ['59', '57', 14], ['59', '58', 14], ['60', '60', 0], ['60', '17', 21], ['60', '61', 15], ['61', '61', 0], ['61', '60', 15], ['61', '63', 26], ['62', '62', 0], ['62', '60', 28], ['62', '64', 29], ['63', '63', 0], ['63', '61', 26], ['63', '62', 33], ['64', '64', 0], ['64', '62', 29], ['64', '65', 13], ['65', '65', 0], ['65', '64', 13], ['65', '67', 13], ['66', '66', 0], ['66', '24', 67], ['66', '65', 32], ['67', '67', 0], ['67', '64', 39], ['67', '65', 13], ['68', '68', 0], ['68', '27', 42], ['68', '69', 57], ['69', '69', 0], ['69', '34', 46], ['69', '68', 57], ['70', '70', 0], ['70', '33', 17], ['70', '69', 149]]}, '11875011': {'objects': ['0', '1', '2', '3', '4', '5', '6', '7', '8', '9', '10', '11', '12', '13', '14', '15', '16', '17', '18', '19', '20', '21', '22', '23', '24', '25', '26', '27', '28', '29'], 'relationships': [['0', '0', 0], ['0', '12', 25], ['0', '13', 7], ['1', '1', 0], ['1', '0', 39], ['1', '14', 16], ['2', '2', 0], ['2', '3', 3], ['2', '17', 9], ['3', '3', 0], ['3', '2', 3], ['3', '18', 13], ['4', '4', 0], ['4', '19', 87], ['4', '21', 34], ['5', '5', 0], ['5', '7', 223], ['5', '28', 107], ['6', '6', 0], ['6', '26', 30], ['6', '27', 11], ['7', '7', 0], ['7', '27', 43], ['7', '28', 6], ['8', '8', 0], ['8', '9', 91], ['8', '10', 108], ['9', '9', 0], ['9', '10', 4], ['9', '11', 19], ['10', '10', 0], ['10', '9', 4], ['10', '11', 2], ['11', '11', 0], ['11', '9', 19], ['11', '10', 2], ['12', '12', 0], ['12', '0', 25], ['12', '9', 25], ['12', '13', 5], ['13', '13', 0], ['13', '0', 7], ['13', '12', 5], ['14', '14', 0], ['14', '1', 16], ['14', '15', 52], ['15', '15', 0], ['15', '14', 52], ['15', '16', 14], ['16', '16', 0], ['16', '14', 118], ['16', '15', 14], ['17', '17', 0], ['17', '2', 9], ['17', '3', 38], ['18', '18', 0], ['18', '2', 89], ['18', '3', 13], ['19', '19', 0], ['19', '4', 87], ['19', '20', 57], ['20', '20', 0], ['20', '19', 57], ['20', '21', 15], ['21', '21', 0], ['21', '4', 34], ['21', '20', 15], ['22', '22', 0], ['22', '7', 131], ['22', '24', 8], ['23', '23', 0], ['23', '7', 107], ['23', '24', 11], ['24', '24', 0], ['24', '22', 8], ['24', '23', 11], ['25', '25', 0], ['25', '26', 19], ['25', '27', 41], ['26', '26', 0], ['26', '25', 19], ['26', '27', 9], ['27', '27', 0], ['27', '6', 11], ['27', '26', 9], ['28', '28', 0], ['28', '7', 6], ['28', '27', 20], ['29', '29', 0], ['29', '6', 191], ['29', '28', 195]]}, '92657311_7313': {'objects': ['0', '1', '2', '3', '4', '5', '6', '7', '8', '9', '10', '11', '12', '13', '14', '15', '16', '17', '18', '19', '20', '21', '22', '23', '24', '25', '26', '27', '28', '29', '30'], 'relationships': [['0', '0', 0], ['0', '1', 19], ['0', '10', 38], ['1', '1', 0], ['1', '0', 19], ['1', '11', 13], ['2', '2', 0], ['2', '1', 22], ['2', '12', 4], ['3', '3', 0], ['3', '2', 41], ['3', '17', 6], ['4', '4', 0], ['4', '15', 41], ['4', '16', 20], ['5', '5', 0], ['5', '6', 17], ['5', '17', 162], ['6', '6', 0], ['6', '5', 17], ['6', '17', 190], ['7', '7', 0], ['7', '27', 184], ['7', '29', 228], ['8', '8', 0], ['8', '19', 64], ['8', '20', 24], ['9', '9', 0], ['9', '13', 21], ['9', '14', 39], ['10', '10', 0], ['10', '0', 38], ['10', '11', 17], ['11', '11', 0], ['11', '1', 13], ['11', '10', 17], ['12', '12', 0], ['12', '2', 4], ['12', '11', 34], ['13', '13', 0], ['13', '9', 21], ['13', '14', 6], ['14', '14', 0], ['14', '9', 39], ['14', '13', 6], ['15', '15', 0], ['15', '4', 41], ['15', '16', 3], ['16', '16', 0], ['16', '4', 20], ['16', '15', 3], ['17', '17', 0], ['17', '3', 6], ['17', '12', 79], ['18', '18', 0], ['18', '3', 77], ['18', '8', 123], ['19', '19', 0], ['19', '8', 64], ['19', '20', 100], ['20', '20', 0], ['20', '8', 24], ['20', '19', 100], ['21', '21', 0], ['21', '23', 68], ['21', '24', 104], ['22', '22', 0], ['22', '23', 121], ['22', '27', 137], ['23', '23', 0], ['23', '21', 68], ['23', '24', 22], ['24', '24', 0], ['24', '23', 22], ['24', '27', 55], ['25', '25', 0], ['25', '24', 63], ['25', '28', 35], ['26', '26', 0], ['26', '25', 65], ['26', '29', 34], ['27', '27', 0], ['27', '24', 55], ['27', '28', 39], ['28', '28', 0], ['28', '25', 35], ['28', '27', 39], ['29', '29', 0], ['29', '26', 34], ['29', '28', 62], ['30', '30', 0], ['30', '25', 156], ['30', '26', 81]]}, '91974562': {'objects': ['0', '1', '2', '3', '4', '5', '6', '7', '8', '9', '10', '11', '12', '13', '14', '15', '16', '17', '18', '19', '20', '21', '22', '23', '24', '25', '26', '27', '28', '29', '30', '31', '32', '33', '34', '35', '36', '37', '38', '39'], 'relationships': [['0', '0', 0], ['0', '1', 18], ['0', '12', 10], ['1', '1', 0], ['1', '0', 18], ['1', '13', 14], ['2', '2', 0], ['2', '1', 19], ['2', '14', 13], ['3', '3', 0], ['3', '15', 12], ['3', '17', 16], ['4', '4', 0], ['4', '17', 77], ['4', '22', 69], ['5', '5', 0], ['5', '16', 17], ['5', '18', 19], ['6', '6', 0], ['6', '21', 29], ['6', '24', 31], ['7', '7', 0], ['7', '8', 36], ['7', '9', 30], ['8', '8', 0], ['8', '7', 36], ['8', '9', 19], ['9', '9', 0], ['9', '7', 30], ['9', '8', 19], ['10', '10', 0], ['10', '8', 113], ['10', '9', 95], ['11', '11', 0], ['11', '12', 104], ['11', '15', 109], ['12', '12', 0], ['12', '0', 10], ['12', '13', 31], ['13', '13', 0], ['13', '1', 14], ['13', '14', 15], ['14', '14', 0], ['14', '2', 13], ['14', '13', 15], ['15', '15', 0], ['15', '3', 12], ['15', '17', 42], ['16', '16', 0], ['16', '5', 17], ['16', '18', 46], ['17', '17', 0], ['17', '3', 16], ['17', '15', 42], ['18', '18', 0], ['18', '5', 19], ['18', '19', 16], ['19', '19', 0], ['19', '18', 16], ['19', '20', 15], ['20', '20', 0], ['20', '19', 15], ['20', '21', 14], ['21', '21', 0], ['21', '6', 29], ['21', '20', 14], ['22', '22', 0], ['22', '4', 69], ['22', '21', 69], ['22', '23', 17], ['23', '23', 0], ['23', '21', 41], ['23', '22', 17], ['24', '24', 0], ['24', '6', 31], ['24', '26', 14], ['25', '25', 0], ['25', '27', 16], ['25', '29', 44], ['26', '26', 0], ['26', '24', 14], ['26', '28', 16], ['27', '27', 0], ['27', '25', 16], ['27', '29', 11], ['28', '28', 0], ['28', '26', 16], ['28', '30', 16], ['29', '29', 0], ['29', '25', 44], ['29', '27', 11], ['29', '30', 44], ['30', '30', 0], ['30', '28', 16], ['30', '31', 15], ['31', '31', 0], ['31', '30', 15], ['31', '34', 16], ['32', '32', 0], ['32', '29', 49], ['32', '30', 67], ['33', '33', 0], ['33', '35', 52], ['33', '36', 45], ['34', '34', 0], ['34', '31', 16], ['34', '35', 15], ['35', '35', 0], ['35', '31', 46], ['35', '34', 15], ['36', '36', 0], ['36', '37', 17], ['36', '38', 34], ['37', '37', 0], ['37', '38', 2], ['37', '39', 13], ['38', '38', 0], ['38', '37', 2], ['38', '39', 11], ['39', '39', 0], ['39', '37', 13], ['39', '38', 11]]}, '0060007216': {'objects': ['0', '1', '2', '3', '4', '5', '6', '7', '8', '9', '10', '11', '12', '13', '14', '15', '16', '17', '18', '19', '20', '21', '22', '23', '24', '25', '26', '27', '28', '29', '30'], 'relationships': [['0', '0', 0], ['0', '19', 12], ['0', '22', 128], ['1', '1', 0], ['1', '20', 22], ['1', '21', 63], ['2', '2', 0], ['2', '3', 8], ['2', '4', 10], ['3', '3', 0], ['3', '2', 8], ['3', '24', 16], ['4', '4', 0], ['4', '2', 10], ['4', '25', 28], ['5', '5', 0], ['5', '6', 17], ['5', '7', 25], ['6', '6', 0], ['6', '7', 14], ['6', '8', 15], ['7', '7', 0], ['7', '6', 14], ['7', '8', 14], ['7', '9', 14], ['8', '8', 0], ['8', '7', 14], ['8', '9', 3], ['9', '9', 0], ['9', '8', 3], ['9', '10', 12], ['10', '10', 0], ['10', '9', 12], ['10', '11', 3], ['11', '11', 0], ['11', '9', 14], ['11', '10', 3], ['11', '28', 14], ['12', '12', 0], ['12', '1', 83], ['12', '19', 103], ['13', '13', 0], ['13', '14', 23], ['13', '15', 62], ['14', '14', 0], ['14', '13', 23], ['14', '15', 25], ['15', '15', 0], ['15', '14', 25], ['15', '16', 21], ['16', '16', 0], ['16', '15', 21], ['16', '17', 24], ['17', '17', 0], ['17', '16', 24], ['17', '23', 27], ['18', '18', 0], ['18', '4', 69], ['18', '25', 56], ['19', '19', 0], ['19', '0', 12], ['19', '20', 53], ['20', '20', 0], ['20', '1', 22], ['20', '21', 24], ['21', '21', 0], ['21', '20', 24], ['21', '22', 23], ['22', '22', 0], ['22', '21', 23], ['22', '23', 22], ['23', '23', 0], ['23', '2', 11], ['23', '22', 22], ['24', '24', 0], ['24', '2', 110], ['24', '3', 16], ['25', '25', 0], ['25', '2', 47], ['25', '4', 28], ['26', '26', 0], ['26', '25', 143], ['26', '30', 5], ['27', '27', 0], ['27', '11', 15], ['27', '28', 13], ['28', '28', 0], ['28', '10', 13], ['28', '27', 13], ['29', '29', 0], ['29', '26', 211], ['29', '27', 221], ['30', '30', 0], ['30', '26', 5], ['30', '27', 159]]}, '0012529295': {'objects': ['0', '1', '2', '3', '4', '5', '6', '7', '8', '9', '10', '11', '12', '13', '14', '15', '16', '17', '18', '19', '20', '21', '22', '23', '24', '25', '26', '27', '28', '29', '30', '31', '32', '33', '34', '35', '36', '37', '38', '39', '40', '41', '42', '43', '44', '45', '46', '47', '48', '49', '50', '51', '52', '53', '54', '55', '56', '57', '58', '59', '60', '61', '62', '63', '64', '65', '66', '67', '68', '69', '70', '71', '72', '73', '74', '75', '76', '77', '78', '79', '80', '81', '82', '83', '84', '85', '86', '87'], 'relationships': [['0', '0', 0], ['0', '25', 12], ['0', '26', 10], ['1', '1', 0], ['1', '31', 63], ['1', '42', 58], ['2', '2', 0], ['2', '44', 21], ['2', '45', 28], ['3', '3', 0], ['3', '14', 4], ['3', '15', 7], ['4', '4', 0], ['4', '5', 13], ['4', '33', 31], ['5', '5', 0], ['5', '4', 13], ['5', '38', 28], ['6', '6', 0], ['6', '7', 13], ['6', '85', 21], ['7', '7', 0], ['7', '6', 13], ['7', '8', 14], ['8', '8', 0], ['8', '7', 14], ['8', '9', 8], ['9', '9', 0], ['9', '8', 8], ['9', '10', 11], ['10', '10', 0], ['10', '8', 41], ['10', '9', 11], ['11', '11', 0], ['11', '12', 9], ['11', '20', 5], ['12', '12', 0], ['12', '11', 9], ['12', '74', 37], ['13', '13', 0], ['13', '22', 43], ['13', '23', 20], ['14', '14', 0], ['14', '3', 4], ['14', '30', 13], ['15', '15', 0], ['15', '3', 7], ['15', '14', 25], ['16', '16', 0], ['16', '59', 93], ['16', '60', 94], ['17', '17', 0], ['17', '83', 13], ['17', '84', 14], ['18', '18', 0], ['18', '12', 48], ['18', '81', 43], ['19', '19', 0], ['19', '17', 83], ['19', '84', 82], ['20', '20', 0], ['20', '11', 5], ['20', '78', 7], ['21', '21', 0], ['21', '13', 66], ['21', '22', 19], ['22', '22', 0], ['22', '13', 43], ['22', '21', 19], ['23', '23', 0], ['23', '13', 20], ['23', '24', 71], ['24', '24', 0], ['24', '3', 63], ['24', '13', 52], ['25', '25', 0], ['25', '0', 12], ['25', '26', 59], ['26', '26', 0], ['26', '0', 10], ['26', '27', 12], ['27', '27', 0], ['27', '22', 55], ['27', '26', 12], ['28', '28', 0], ['28', '29', 14], ['28', '31', 11], ['29', '29', 0], ['29', '28', 14], ['29', '30', 62], ['30', '30', 0], ['30', '3', 42], ['30', '14', 13], ['31', '31', 0], ['31', '28', 11], ['31', '32', 34], ['32', '32', 0], ['32', '31', 34], ['32', '40', 44], ['33', '33', 0], ['33', '4', 31], ['33', '5', 57], ['34', '34', 0], ['34', '35', 54], ['34', '39', 35], ['35', '35', 0], ['35', '36', 13], ['35', '37', 37], ['36', '36', 0], ['36', '35', 13], ['36', '37', 6], ['37', '37', 0], ['37', '36', 6], ['37', '38', 30], ['38', '38', 0], ['38', '5', 28], ['38', '39', 18], ['39', '39', 0], ['39', '34', 35], ['39', '38', 18], ['40', '40', 0], ['40', '41', 12], ['40', '42', 25], ['41', '41', 0], ['41', '5', 34], ['41', '40', 12], ['42', '42', 0], ['42', '40', 25], ['42', '43', 10], ['43', '43', 0], ['43', '2', 31], ['43', '42', 10], ['44', '44', 0], ['44', '45', 15], ['44', '48', 6], ['45', '45', 0], ['45', '44', 15], ['45', '46', 12], ['46', '46', 0], ['46', '45', 12], ['46', '47', 11], ['47', '47', 0], ['47', '46', 11], ['47', '51', 9], ['48', '48', 0], ['48', '44', 6], ['48', '49', 13], ['49', '49', 0], ['49', '48', 13], ['49', '50', 18], ['50', '50', 0], ['50', '46', 14], ['50', '49', 18], ['51', '51', 0], ['51', '47', 9], ['51', '50', 20], ['52', '52', 0], ['52', '53', 23], ['52', '54', 27], ['53', '53', 0], ['53', '52', 23], ['53', '54', 12], ['54', '54', 0], ['54', '53', 12], ['54', '55', 14], ['55', '55', 0], ['55', '54', 14], ['55', '87', 14], ['56', '56', 0], ['56', '57', 17], ['56', '58', 41], ['57', '57', 0], ['57', '56', 17], ['57', '58', 20], ['58', '58', 0], ['58', '56', 41], ['58', '57', 20], ['59', '59', 0], ['59', '62', 29], ['59', '87', 10], ['60', '60', 0], ['60', '58', 76], ['60', '61', 36], ['61', '61', 0], ['61', '60', 36], ['61', '62', 84], ['62', '62', 0], ['62', '59', 29], ['62', '68', 58], ['62', '87', 58], ['63', '63', 0], ['63', '64', 14], ['63', '67', 16], ['64', '64', 0], ['64', '63', 14], ['64', '66', 46], ['65', '65', 0], ['65', '63', 19], ['65', '66', 19], ['66', '66', 0], ['66', '64', 46], ['66', '65', 19], ['67', '67', 0], ['67', '63', 16], ['67', '68', 13], ['68', '68', 0], ['68', '62', 58], ['68', '67', 13], ['69', '69', 0], ['69', '71', 11], ['69', '75', 10], ['70', '70', 0], ['70', '47', 29], ['70', '65', 23], ['71', '71', 0], ['71', '69', 11], ['71', '76', 15], ['72', '72', 0], ['72', '71', 17], ['72', '73', 19], ['73', '73', 0], ['73', '72', 19], ['73', '74', 10], ['74', '74', 0], ['74', '11', 16], ['74', '73', 10], ['75', '75', 0], ['75', '69', 10], ['75', '76', 25], ['76', '76', 0], ['76', '69', 19], ['76', '71', 15], ['77', '77', 0], ['77', '74', 21], ['77', '78', 29], ['78', '78', 0], ['78', '20', 7], ['78', '80', 15], ['79', '79', 0], ['79', '20', 13], ['79', '80', 6], ['80', '80', 0], ['80', '79', 6], ['80', '81', 12], ['81', '81', 0], ['81', '79', 18], ['81', '80', 12], ['82', '82', 0], ['82', '83', 23], ['82', '84', 14], ['83', '83', 0], ['83', '17', 13], ['83', '82', 23], ['84', '84', 0], ['84', '17', 14], ['84', '82', 14], ['85', '85', 0], ['85', '6', 21], ['85', '86', 31], ['86', '86', 0], ['86', '6', 28], ['86', '7', 17], ['87', '87', 0], ['87', '55', 14], ['87', '59', 10]]}, '0060080406': {'objects': ['0', '1', '2', '3', '4', '5', '6', '7', '8', '9', '10', '11', '12', '13', '14', '15', '16', '17', '18', '19', '20', '21', '22', '23', '24', '25', '26', '27', '28', '29', '30', '31', '32', '33', '34', '35', '36', '37', '38', '39', '40', '41', '42', '43', '44', '45', '46', '47', '48', '49', '50', '51', '52', '53', '54', '55', '56', '57', '58'], 'relationships': [['0', '0', 0], ['0', '1', 26], ['0', '2', 41], ['1', '1', 0], ['1', '0', 26], ['1', '2', 41], ['2', '2', 0], ['2', '0', 41], ['2', '1', 41], ['2', '34', 28], ['3', '3', 0], ['3', '31', 71], ['3', '33', 56], ['4', '4', 0], ['4', '5', 24], ['4', '6', 27], ['5', '5', 0], ['5', '4', 24], ['5', '6', 43], ['6', '6', 0], ['6', '4', 27], ['6', '30', 35], ['7', '7', 0], ['7', '36', 110], ['7', '37', 26], ['8', '8', 0], ['8', '38', 71], ['8', '39', 115], ['9', '9', 0], ['9', '10', 4], ['9', '47', 1], ['10', '10', 0], ['10', '9', 4], ['10', '47', 16], ['11', '11', 0], ['11', '44', 14], ['11', '45', 11], ['12', '12', 0], ['12', '43', 111], ['12', '48', 60], ['13', '13', 0], ['13', '17', 70], ['13', '18', 80], ['14', '14', 0], ['14', '16', 13], ['14', '52', 6], ['15', '15', 0], ['15', '52', 14], ['15', '53', 5], ['16', '16', 0], ['16', '14', 13], ['16', '54', 9], ['17', '17', 0], ['17', '18', 17], ['17', '19', 44], ['18', '18', 0], ['18', '17', 17], ['18', '19', 13], ['19', '19', 0], ['19', '18', 13], ['19', '20', 16], ['20', '20', 0], ['20', '19', 16], ['20', '50', 18], ['21', '21', 0], ['21', '22', 45], ['21', '50', 38], ['22', '22', 0], ['22', '21', 45], ['22', '50', 45], ['22', '51', 18], ['23', '23', 0], ['23', '56', 35], ['23', '57', 33], ['24', '24', 0], ['24', '23', 57], ['24', '25', 56], ['25', '25', 0], ['25', '23', 118], ['25', '24', 56], ['26', '26', 0], ['26', '27', 23], ['26', '30', 51], ['27', '27', 0], ['27', '26', 23], ['27', '33', 115], ['28', '28', 0], ['28', '0', 105], ['28', '2', 156], ['29', '29', 0], ['29', '1', 99], ['29', '27', 130], ['30', '30', 0], ['30', '6', 35], ['30', '26', 51], ['31', '31', 0], ['31', '5', 49], ['31', '32', 16], ['32', '32', 0], ['32', '5', 65], ['32', '31', 16], ['33', '33', 0], ['33', '1', 115], ['33', '3', 56], ['33', '27', 115], ['34', '34', 0], ['34', '1', 45], ['34', '2', 28], ['35', '35', 0], ['35', '8', 144], ['35', '36', 26], ['36', '36', 0], ['36', '7', 110], ['36', '35', 26], ['37', '37', 0], ['37', '7', 26], ['37', '34', 119], ['38', '38', 0], ['38', '39', 11], ['38', '40', 55], ['39', '39', 0], ['39', '38', 11], ['39', '40', 14], ['40', '40', 0], ['40', '9', 16], ['40', '39', 14], ['41', '41', 0], ['41', '42', 16], ['41', '43', 15], ['42', '42', 0], ['42', '41', 16], ['42', '43', 14], ['43', '43', 0], ['43', '41', 15], ['43', '42', 14], ['44', '44', 0], ['44', '11', 14], ['44', '45', 16], ['45', '45', 0], ['45', '11', 11], ['45', '46', 10], ['46', '46', 0], ['46', '11', 16], ['46', '45', 10], ['47', '47', 0], ['47', '9', 1], ['47', '10', 16], ['48', '48', 0], ['48', '12', 60], ['48', '49', 33], ['49', '49', 0], ['49', '48', 33], ['49', '52', 90], ['50', '50', 0], ['50', '20', 18], ['50', '21', 38], ['51', '51', 0], ['51', '21', 68], ['51', '22', 18], ['52', '52', 0], ['52', '14', 6], ['52', '54', 11], ['53', '53', 0], ['53', '15', 5], ['53', '54', 12], ['54', '54', 0], ['54', '16', 9], ['54', '52', 11], ['55', '55', 0], ['55', '56', 14], ['55', '58', 40], ['56', '56', 0], ['56', '55', 14], ['56', '57', 13], ['57', '57', 0], ['57', '23', 33], ['57', '56', 13], ['58', '58', 0], ['58', '23', 66], ['58', '55', 40]]}, '0060000813': {'objects': ['0', '1', '2', '3', '4', '5', '6', '7', '8', '9', '10', '11', '12', '13', '14', '15', '16', '17', '18', '19', '20', '21', '22', '23', '24', '25', '26', '27', '28', '29', '30', '31', '32', '33', '34', '35', '36', '37', '38', '39', '40', '41', '42', '43', '44', '45', '46', '47'], 'relationships': [['0', '0', 0], ['0', '2', 11], ['0', '30', 13], ['1', '1', 0], ['1', '31', 52], ['1', '32', 80], ['2', '2', 0], ['2', '0', 11], ['2', '32', 28], ['3', '3', 0], ['3', '23', 50], ['3', '29', 14], ['4', '4', 0], ['4', '5', 10], ['4', '36', 6], ['5', '5', 0], ['5', '4', 10], ['5', '6', 9], ['6', '6', 0], ['6', '4', 34], ['6', '5', 9], ['7', '7', 0], ['7', '8', 10], ['7', '37', 11], ['8', '8', 0], ['8', '7', 10], ['8', '9', 13], ['9', '9', 0], ['9', '8', 13], ['9', '10', 20], ['10', '10', 0], ['10', '9', 20], ['10', '42', 9], ['11', '11', 0], ['11', '12', 8], ['11', '43', 52], ['12', '12', 0], ['12', '11', 8], ['12', '43', 27], ['13', '13', 0], ['13', '14', 11], ['13', '44', 10], ['14', '14', 0], ['14', '13', 11], ['14', '15', 11], ['15', '15', 0], ['15', '13', 35], ['15', '14', 11], ['16', '16', 0], ['16', '17', 14], ['16', '46', 6], ['17', '17', 0], ['17', '16', 14], ['17', '18', 15], ['18', '18', 0], ['18', '16', 41], ['18', '17', 15], ['19', '19', 0], ['19', '41', 98], ['19', '43', 79], ['20', '20', 0], ['20', '3', 53], ['20', '29', 31], ['21', '21', 0], ['21', '33', 17], ['21', '34', 9], ['22', '22', 0], ['22', '38', 11], ['22', '40', 12], ['23', '23', 0], ['23', '3', 50], ['23', '29', 78], ['24', '24', 0], ['24', '25', 105], ['24', '28', 38], ['25', '25', 0], ['25', '26', 21], ['25', '30', 75], ['26', '26', 0], ['26', '25', 21], ['26', '27', 50], ['27', '27', 0], ['27', '1', 113], ['27', '26', 50], ['28', '28', 0], ['28', '20', 64], ['28', '24', 38], ['29', '29', 0], ['29', '3', 14], ['29', '20', 31], ['30', '30', 0], ['30', '0', 13], ['30', '2', 41], ['31', '31', 0], ['31', '1', 52], ['31', '32', 54], ['32', '32', 0], ['32', '0', 50], ['32', '2', 28], ['33', '33', 0], ['33', '21', 17], ['33', '34', 43], ['34', '34', 0], ['34', '21', 9], ['34', '35', 10], ['35', '35', 0], ['35', '21', 36], ['35', '34', 10], ['36', '36', 0], ['36', '4', 6], ['36', '5', 33], ['37', '37', 0], ['37', '7', 11], ['37', '8', 36], ['38', '38', 0], ['38', '22', 11], ['38', '40', 34], ['39', '39', 0], ['39', '21', 101], ['39', '22', 50], ['40', '40', 0], ['40', '22', 12], ['40', '41', 12], ['41', '41', 0], ['41', '22', 33], ['41', '40', 12], ['42', '42', 0], ['42', '10', 9], ['42', '44', 43], ['43', '43', 0], ['43', '11', 52], ['43', '12', 27], ['44', '44', 0], ['44', '13', 10], ['44', '14', 35], ['45', '45', 0], ['45', '12', 178], ['45', '43', 131], ['46', '46', 0], ['46', '16', 6], ['46', '17', 37], ['47', '47', 0], ['47', '19', 341], ['47', '45', 223]]}, '88547278_88547279': {'objects': ['0', '1', '2', '3', '4', '5', '6', '7', '8', '9', '10', '11', '12', '13', '14', '15', '16', '17', '18', '19', '20', '21', '22', '23', '24', '25', '26', '27', '28', '29', '30', '31', '32', '33', '34', '35', '36', '37', '38', '39'], 'relationships': [['0', '0', 0], ['0', '17', 68], ['0', '21', 37], ['1', '1', 0], ['1', '25', 50], ['1', '28', 50], ['2', '2', 0], ['2', '38', 99], ['2', '39', 93], ['3', '3', 0], ['3', '12', 18], ['3', '13', 6], ['4', '4', 0], ['4', '18', 39], ['4', '19', 15], ['5', '5', 0], ['5', '37', 5], ['5', '39', 69], ['6', '6', 0], ['6', '37', 8], ['6', '38', 3], ['7', '7', 0], ['7', '5', 154], ['7', '37', 181], ['8', '8', 0], ['8', '11', 55], ['8', '17', 150], ['9', '9', 0], ['9', '3', 58], ['9', '13', 78], ['10', '10', 0], ['10', '11', 46], ['10', '18', 48], ['11', '11', 0], ['11', '8', 55], ['11', '10', 46], ['12', '12', 0], ['12', '3', 18], ['12', '14', 16], ['13', '13', 0], ['13', '3', 6], ['13', '15', 15], ['14', '14', 0], ['14', '12', 16], ['14', '16', 21], ['15', '15', 0], ['15', '3', 35], ['15', '13', 15], ['16', '16', 0], ['16', '12', 48], ['16', '14', 21], ['17', '17', 0], ['17', '0', 68], ['17', '19', 75], ['18', '18', 0], ['18', '4', 39], ['18', '10', 48], ['19', '19', 0], ['19', '4', 15], ['19', '17', 75], ['20', '20', 0], ['20', '4', 40], ['20', '22', 35], ['21', '21', 0], ['21', '0', 37], ['21', '22', 27], ['22', '22', 0], ['22', '20', 35], ['22', '21', 27], ['23', '23', 0], ['23', '21', 42], ['23', '25', 81], ['24', '24', 0], ['24', '22', 48], ['24', '26', 35], ['25', '25', 0], ['25', '1', 50], ['25', '26', 15], ['26', '26', 0], ['26', '24', 35], ['26', '25', 15], ['27', '27', 0], ['27', '26', 36], ['27', '29', 52], ['28', '28', 0], ['28', '30', 23], ['28', '31', 49], ['29', '29', 0], ['29', '27', 52], ['29', '32', 30], ['30', '30', 0], ['30', '28', 23], ['30', '31', 19], ['31', '31', 0], ['31', '30', 19], ['31', '32', 25], ['32', '32', 0], ['32', '29', 30], ['32', '31', 25], ['33', '33', 0], ['33', '31', 71], ['33', '35', 47], ['34', '34', 0], ['34', '37', 75], ['34', '39', 42], ['35', '35', 0], ['35', '33', 47], ['35', '36', 33], ['36', '36', 0], ['36', '33', 94], ['36', '35', 33], ['37', '37', 0], ['37', '5', 5], ['37', '6', 8], ['38', '38', 0], ['38', '6', 3], ['38', '37', 37], ['39', '39', 0], ['39', '5', 69], ['39', '34', 42]]}, '91361993': {'objects': ['0', '1', '2', '3', '4', '5', '6', '7', '8', '9', '10', '11', '12', '13', '14', '15', '16', '17', '18', '19', '20', '21', '22', '23', '24', '25', '26', '27', '28', '29', '30', '31', '32', '33', '34', '35', '36', '37', '38', '39'], 'relationships': [['0', '0', 0], ['0', '6', 78], ['0', '8', 9], ['1', '1', 0], ['1', '8', 12], ['1', '9', 46], ['2', '2', 0], ['2', '9', 46], ['2', '11', 34], ['3', '3', 0], ['3', '19', 153], ['3', '20', 131], ['4', '4', 0], ['4', '34', 3], ['4', '35', 22], ['5', '5', 0], ['5', '1', 126], ['5', '6', 151], ['6', '6', 0], ['6', '7', 22], ['6', '8', 47], ['7', '7', 0], ['7', '6', 22], ['7', '8', 59], ['8', '8', 0], ['8', '0', 9], ['8', '1', 12], ['9', '9', 0], ['9', '1', 46], ['9', '2', 46], ['10', '10', 0], ['10', '2', 61], ['10', '11', 32], ['11', '11', 0], ['11', '2', 34], ['11', '10', 32], ['12', '12', 0], ['12', '11', 36], ['12', '13', 31], ['13', '13', 0], ['13', '12', 31], ['13', '14', 38], ['14', '14', 0], ['14', '13', 38], ['14', '15', 35], ['15', '15', 0], ['15', '14', 35], ['15', '16', 68], ['16', '16', 0], ['16', '15', 68], ['16', '17', 76], ['17', '17', 0], ['17', '16', 76], ['17', '28', 136], ['18', '18', 0], ['18', '19', 18], ['18', '20', 20], ['19', '19', 0], ['19', '18', 18], ['19', '20', 18], ['20', '20', 0], ['20', '18', 20], ['20', '19', 18], ['21', '21', 0], ['21', '22', 1], ['21', '23', 19], ['22', '22', 0], ['22', '21', 1], ['22', '23', 1], ['23', '23', 0], ['23', '22', 1], ['23', '24', 2], ['24', '24', 0], ['24', '23', 2], ['24', '25', 4], ['25', '25', 0], ['25', '24', 4], ['25', '26', 4], ['26', '26', 0], ['26', '25', 4], ['26', '27', 15], ['27', '27', 0], ['27', '25', 19], ['27', '26', 15], ['28', '28', 0], ['28', '29', 14], ['28', '30', 18], ['29', '29', 0], ['29', '28', 14], ['29', '30', 18], ['30', '30', 0], ['30', '28', 18], ['30', '29', 18], ['30', '31', 6], ['31', '31', 0], ['31', '30', 6], ['31', '32', 4], ['32', '32', 0], ['32', '31', 4], ['32', '33', 2], ['33', '33', 0], ['33', '31', 20], ['33', '32', 2], ['34', '34', 0], ['34', '4', 3], ['34', '35', 5], ['35', '35', 0], ['35', '34', 5], ['35', '36', 3], ['36', '36', 0], ['36', '35', 3], ['36', '37', 1], ['37', '37', 0], ['37', '36', 1], ['37', '38', 3], ['38', '38', 0], ['38', '37', 3], ['38', '39', 3], ['39', '39', 0], ['39', '37', 20], ['39', '38', 3]]}, '0011856542': {'objects': ['0', '1', '2', '3', '4', '5', '6', '7', '8', '9', '10', '11', '12', '13', '14', '15', '16', '17'], 'relationships': [['0', '0', 0], ['0', '1', 127], ['0', '2', 39], ['1', '1', 0], ['1', '9', 26], ['1', '10', 71], ['2', '2', 0], ['2', '0', 39], ['2', '6', 151], ['3', '3', 0], ['3', '10', 28], ['3', '14', 28], ['4', '4', 0], ['4', '15', 135], ['4', '17', 16], ['5', '5', 0], ['5', '16', 10], ['5', '17', 69], ['6', '6', 0], ['6', '1', 84], ['6', '9', 125], ['7', '7', 0], ['7', '8', 27], ['7', '11', 69], ['8', '8', 0], ['8', '7', 27], ['8', '11', 28], ['9', '9', 0], ['9', '1', 26], ['9', '10', 25], ['10', '10', 0], ['10', '3', 28], ['10', '9', 25], ['11', '11', 0], ['11', '8', 28], ['11', '12', 25], ['12', '12', 0], ['12', '11', 25], ['12', '13', 29], ['13', '13', 0], ['13', '12', 29], ['13', '14', 41], ['14', '14', 0], ['14', '3', 28], ['14', '13', 41], ['15', '15', 0], ['15', '4', 135], ['15', '13', 144], ['16', '16', 0], ['16', '5', 10], ['16', '17', 93], ['17', '17', 0], ['17', '4', 16], ['17', '5', 69]]}, '91356315': {'objects': ['0', '1', '2', '3', '4', '5', '6', '7', '8', '9', '10', '11', '12', '13', '14', '15', '16', '17', '18', '19', '20', '21', '22', '23', '24', '25', '26', '27', '28', '29', '30', '31', '32', '33', '34'], 'relationships': [['0', '0', 0], ['0', '6', 76], ['0', '7', 22], ['1', '1', 0], ['1', '10', 39], ['1', '11', 40], ['2', '2', 0], ['2', '17', 322], ['2', '20', 310], ['3', '3', 0], ['3', '29', 38], ['3', '30', 39], ['4', '4', 0], ['4', '6', 53], ['4', '7', 107], ['5', '5', 0], ['5', '6', 60], ['5', '8', 89], ['6', '6', 0], ['6', '4', 53], ['6', '7', 37], ['7', '7', 0], ['7', '0', 22], ['7', '6', 37], ['8', '8', 0], ['8', '1', 41], ['8', '9', 76], ['9', '9', 0], ['9', '7', 58], ['9', '10', 43], ['10', '10', 0], ['10', '1', 39], ['10', '9', 43], ['11', '11', 0], ['11', '1', 40], ['11', '13', 36], ['12', '12', 0], ['12', '11', 45], ['12', '14', 66], ['13', '13', 0], ['13', '11', 36], ['13', '14', 66], ['14', '14', 0], ['14', '12', 66], ['14', '13', 66], ['15', '15', 0], ['15', '13', 119], ['15', '16', 34], ['16', '16', 0], ['16', '3', 168], ['16', '15', 34], ['17', '17', 0], ['17', '18', 14], ['17', '19', 15], ['18', '18', 0], ['18', '17', 14], ['18', '19', 1], ['19', '19', 0], ['19', '17', 15], ['19', '18', 1], ['19', '20', 15], ['19', '21', 15], ['20', '20', 0], ['20', '19', 15], ['20', '21', 15], ['21', '21', 0], ['21', '19', 15], ['21', '20', 15], ['22', '22', 0], ['22', '23', 16], ['22', '24', 14], ['23', '23', 0], ['23', '24', 12], ['23', '25', 15], ['24', '24', 0], ['24', '23', 12], ['24', '26', 11], ['25', '25', 0], ['25', '26', 11], ['25', '27', 14], ['26', '26', 0], ['26', '24', 11], ['26', '25', 11], ['26', '27', 2], ['27', '27', 0], ['27', '26', 2], ['27', '28', 4], ['28', '28', 0], ['28', '26', 15], ['28', '27', 4], ['29', '29', 0], ['29', '30', 16], ['29', '31', 13], ['30', '30', 0], ['30', '31', 13], ['30', '32', 14], ['31', '31', 0], ['31', '29', 13], ['31', '30', 13], ['31', '32', 1], ['32', '32', 0], ['32', '31', 1], ['32', '33', 4], ['33', '33', 0], ['33', '32', 4], ['33', '34', 11], ['34', '34', 0], ['34', '32', 13], ['34', '33', 11]]}, '92081358_1359': {'objects': ['0', '1', '2', '3', '4', '5', '6', '7', '8', '9', '10', '11', '12', '13', '14', '15', '16', '17', '18', '19', '20', '21', '22', '23', '24', '25', '26', '27', '28', '29', '30', '31', '32', '33', '34', '35', '36', '37', '38', '39', '40', '41', '42', '43', '44', '45', '46', '47', '48', '49', '50', '51', '52', '53'], 'relationships': [['0', '0', 0], ['0', '28', 32], ['0', '29', 10], ['1', '1', 0], ['1', '2', 40], ['1', '3', 88], ['2', '2', 0], ['2', '1', 40], ['2', '5', 78], ['3', '3', 0], ['3', '4', 8], ['3', '5', 38], ['4', '4', 0], ['4', '3', 8], ['4', '5', 18], ['5', '5', 0], ['5', '3', 38], ['5', '4', 18], ['6', '6', 0], ['6', '8', 5], ['6', '10', 32], ['7', '7', 0], ['7', '9', 7], ['7', '11', 28], ['8', '8', 0], ['8', '6', 5], ['8', '10', 16], ['9', '9', 0], ['9', '7', 7], ['9', '11', 9], ['10', '10', 0], ['10', '8', 16], ['10', '12', 11], ['11', '11', 0], ['11', '9', 9], ['11', '13', 5], ['12', '12', 0], ['12', '10', 11], ['12', '16', 6], ['13', '13', 0], ['13', '11', 5], ['13', '15', 6], ['14', '14', 0], ['14', '13', 21], ['14', '15', 4], ['15', '15', 0], ['15', '13', 6], ['15', '14', 4], ['16', '16', 0], ['16', '12', 6], ['16', '17', 8], ['17', '17', 0], ['17', '12', 23], ['17', '16', 8], ['18', '18', 0], ['18', '48', 27], ['18', '49', 13], ['19', '19', 0], ['19', '20', 14], ['19', '45', 34], ['20', '20', 0], ['20', '19', 14], ['20', '46', 37], ['21', '21', 0], ['21', '7', 36], ['21', '9', 48], ['22', '22', 0], ['22', '52', 262], ['22', '53', 110], ['23', '23', 0], ['23', '25', 97], ['23', '28', 117], ['24', '24', 0], ['24', '23', 139], ['24', '25', 29], ['25', '25', 0], ['25', '24', 29], ['25', '26', 73], ['26', '26', 0], ['26', '23', 141], ['26', '25', 73], ['27', '27', 0], ['27', '23', 186], ['27', '26', 184], ['28', '28', 0], ['28', '0', 32], ['28', '31', 105], ['29', '29', 0], ['29', '0', 10], ['29', '30', 15], ['30', '30', 0], ['30', '0', 58], ['30', '29', 15], ['31', '31', 0], ['31', '32', 5], ['31', '33', 24], ['32', '32', 0], ['32', '31', 5], ['32', '33', 6], ['33', '33', 0], ['33', '32', 6], ['33', '34', 15], ['34', '34', 0], ['34', '32', 15], ['34', '33', 15], ['34', '35', 2], ['35', '35', 0], ['35', '33', 18], ['35', '34', 2], ['36', '36', 0], ['36', '37', 36], ['36', '39', 10], ['37', '37', 0], ['37', '36', 36], ['37', '38', 11], ['38', '38', 0], ['38', '37', 11], ['38', '41', 53], ['39', '39', 0], ['39', '36', 10], ['39', '41', 17], ['40', '40', 0], ['40', '5', 78], ['40', '39', 23], ['41', '41', 0], ['41', '36', 44], ['41', '39', 17], ['42', '42', 0], ['42', '6', 47], ['42', '21', 52], ['43', '43', 0], ['43', '44', 10], ['43', '45', 16], ['44', '44', 0], ['44', '43', 10], ['44', '45', 4], ['45', '45', 0], ['45', '44', 4], ['45', '46', 10], ['46', '46', 0], ['46', '44', 27], ['46', '45', 10], ['47', '47', 0], ['47', '48', 23], ['47', '49', 18], ['48', '48', 0], ['48', '18', 27], ['48', '47', 23], ['49', '49', 0], ['49', '18', 13], ['49', '47', 18], ['50', '50', 0], ['50', '49', 27], ['50', '51', 4], ['51', '51', 0], ['51', '50', 4], ['51', '53', 14], ['52', '52', 0], ['52', '18', 88], ['52', '51', 31], ['53', '53', 0], ['53', '50', 32], ['53', '51', 14]]}, '0001476912': {'objects': ['0', '1', '2', '3', '4', '5', '6', '7', '8', '9', '10', '11', '12', '13', '14', '15', '16', '17', '18', '19', '20', '21', '22', '23', '24', '25', '26', '27', '28', '29', '30', '31', '32', '33', '34', '35', '36', '37', '38', '39', '40', '41', '42', '43', '44', '45', '46', '47', '48', '49', '50', '51'], 'relationships': [['0', '0', 0], ['0', '46', 215], ['0', '47', 84], ['1', '1', 0], ['1', '2', 13], ['1', '40', 40], ['2', '2', 0], ['2', '1', 13], ['2', '38', 5], ['3', '3', 0], ['3', '40', 16], ['3', '42', 15], ['4', '4', 0], ['4', '38', 7], ['4', '39', 5], ['5', '5', 0], ['5', '3', 96], ['5', '44', 13], ['6', '6', 0], ['6', '43', 72], ['6', '45', 25], ['7', '7', 0], ['7', '38', 78], ['7', '41', 76], ['8', '8', 0], ['8', '9', 9], ['8', '37', 30], ['9', '9', 0], ['9', '8', 9], ['9', '39', 27], ['10', '10', 0], ['10', '11', 12], ['10', '48', 32], ['11', '11', 0], ['11', '10', 12], ['11', '48', 7], ['12', '12', 0], ['12', '11', 13], ['12', '48', 6], ['13', '13', 0], ['13', '15', 15], ['13', '16', 19], ['14', '14', 0], ['14', '17', 5], ['14', '18', 15], ['15', '15', 0], ['15', '13', 15], ['15', '16', 4], ['16', '16', 0], ['16', '13', 19], ['16', '15', 4], ['17', '17', 0], ['17', '14', 5], ['17', '19', 10], ['18', '18', 0], ['18', '17', 14], ['18', '19', 13], ['19', '19', 0], ['19', '17', 10], ['19', '49', 2], ['20', '20', 0], ['20', '21', 26], ['20', '46', 36], ['21', '21', 0], ['21', '20', 26], ['21', '22', 1], ['22', '22', 0], ['22', '20', 40], ['22', '21', 1], ['23', '23', 0], ['23', '22', 43], ['23', '24', 1], ['24', '24', 0], ['24', '23', 1], ['24', '25', 40], ['25', '25', 0], ['25', '26', 5], ['25', '27', 16], ['26', '26', 0], ['26', '25', 5], ['26', '27', 5], ['27', '27', 0], ['27', '26', 5], ['27', '28', 13], ['28', '28', 0], ['28', '26', 18], ['28', '27', 13], ['29', '29', 0], ['29', '31', 186], ['29', '32', 57], ['30', '30', 0], ['30', '28', 28], ['30', '31', 4], ['31', '31', 0], ['31', '28', 42], ['31', '30', 4], ['32', '32', 0], ['32', '29', 57], ['32', '47', 322], ['33', '33', 0], ['33', '1', 128], ['33', '2', 156], ['34', '34', 0], ['34', '35', 118], ['34', '38', 141], ['35', '35', 0], ['35', '38', 13], ['35', '41', 41], ['36', '36', 0], ['36', '4', 14], ['36', '37', 12], ['37', '37', 0], ['37', '8', 30], ['37', '36', 12], ['38', '38', 0], ['38', '2', 5], ['38', '41', 6], ['39', '39', 0], ['39', '4', 5], ['39', '38', 21], ['40', '40', 0], ['40', '2', 14], ['40', '3', 16], ['41', '41', 0], ['41', '38', 6], ['41', '42', 13], ['42', '42', 0], ['42', '3', 15], ['42', '41', 13], ['43', '43', 0], ['43', '42', 69], ['43', '45', 29], ['44', '44', 0], ['44', '3', 76], ['44', '5', 13], ['45', '45', 0], ['45', '6', 25], ['45', '43', 29], ['46', '46', 0], ['46', '20', 36], ['46', '21', 77], ['47', '47', 0], ['47', '0', 84], ['47', '20', 158], ['48', '48', 0], ['48', '11', 7], ['48', '12', 6], ['49', '49', 0], ['49', '18', 15], ['49', '19', 2], ['50', '50', 0], ['50', '49', 28], ['50', '51', 3], ['51', '51', 0], ['51', '49', 41], ['51', '50', 3]]}, '93213298': {'objects': ['0', '1', '2', '3', '4', '5', '6', '7', '8', '9', '10', '11', '12', '13', '14', '15', '16', '17', '18', '19', '20', '21', '22', '23', '24', '25', '26', '27', '28', '29', '30', '31', '32', '33', '34', '35', '36', '37', '38', '39', '40', '41', '42', '43', '44', '45', '46', '47', '48', '49', '50', '51', '52', '53', '54', '55', '56', '57', '58', '59', '60', '61', '62', '63', '64', '65', '66'], 'relationships': [['0', '0', 0], ['0', '35', 51], ['0', '37', 12], ['1', '1', 0], ['1', '38', 17], ['1', '39', 28], ['2', '2', 0], ['2', '44', 11], ['2', '45', 1], ['3', '3', 0], ['3', '48', 4], ['3', '49', 23], ['4', '4', 0], ['4', '45', 11], ['4', '47', 11], ['5', '5', 0], ['5', '6', 16], ['5', '7', 16], ['5', '53', 9], ['6', '6', 0], ['6', '5', 16], ['6', '7', 1], ['7', '7', 0], ['7', '6', 1], ['7', '57', 12], ['8', '8', 0], ['8', '64', 36], ['8', '65', 10], ['9', '9', 0], ['9', '10', 92], ['9', '27', 37], ['10', '10', 0], ['10', '28', 36], ['10', '29', 20], ['11', '11', 0], ['11', '12', 1], ['11', '13', 13], ['12', '12', 0], ['12', '11', 1], ['12', '13', 12], ['13', '13', 0], ['13', '11', 13], ['13', '12', 12], ['14', '14', 0], ['14', '54', 8], ['14', '55', 23], ['15', '15', 0], ['15', '48', 32], ['15', '49', 53], ['16', '16', 0], ['16', '17', 12], ['16', '18', 14], ['17', '17', 0], ['17', '16', 12], ['17', '18', 4], ['18', '18', 0], ['18', '16', 14], ['18', '17', 4], ['19', '19', 0], ['19', '20', 17], ['19', '21', 17], ['20', '20', 0], ['20', '19', 17], ['20', '21', 2], ['21', '21', 0], ['21', '19', 17], ['21', '20', 2], ['22', '22', 0], ['22', '23', 17], ['22', '24', 12], ['23', '23', 0], ['23', '24', 2], ['23', '25', 16], ['24', '24', 0], ['24', '22', 12], ['24', '23', 2], ['25', '25', 0], ['25', '23', 16], ['25', '24', 14], ['26', '26', 0], ['26', '61', 26], ['26', '62', 36], ['27', '27', 0], ['27', '9', 37], ['27', '62', 84], ['28', '28', 0], ['28', '10', 36], ['28', '29', 19], ['29', '29', 0], ['29', '10', 20], ['29', '28', 19], ['30', '30', 0], ['30', '28', 52], ['30', '62', 26], ['31', '31', 0], ['31', '65', 80], ['31', '66', 60], ['32', '32', 0], ['32', '3', 51], ['32', '43', 17], ['33', '33', 0], ['33', '14', 49], ['33', '51', 62], ['34', '34', 0], ['34', '35', 26], ['34', '36', 58], ['35', '35', 0], ['35', '34', 26], ['35', '36', 9], ['36', '36', 0], ['36', '35', 9], ['36', '37', 22], ['37', '37', 0], ['37', '0', 12], ['37', '36', 22], ['38', '38', 0], ['38', '1', 17], ['38', '40', 38], ['39', '39', 0], ['39', '1', 28], ['39', '40', 10], ['40', '40', 0], ['40', '38', 38], ['40', '39', 10], ['41', '41', 0], ['41', '42', 18], ['41', '43', 49], ['42', '42', 0], ['42', '37', 37], ['42', '41', 18], ['43', '43', 0], ['43', '32', 17], ['43', '41', 49], ['44', '44', 0], ['44', '2', 11], ['44', '45', 27], ['45', '45', 0], ['45', '2', 1], ['45', '4', 11], ['46', '46', 0], ['46', '2', 13], ['46', '45', 12], ['47', '47', 0], ['47', '4', 11], ['47', '53', 22], ['48', '48', 0], ['48', '3', 4], ['48', '50', 15], ['49', '49', 0], ['49', '48', 19], ['49', '50', 19], ['50', '50', 0], ['50', '48', 15], ['50', '49', 19], ['51', '51', 0], ['51', '50', 28], ['51', '52', 21], ['52', '52', 0], ['52', '50', 48], ['52', '51', 21], ['53', '53', 0], ['53', '5', 9], ['53', '47', 22], ['54', '54', 0], ['54', '14', 8], ['54', '56', 13], ['55', '55', 0], ['55', '54', 19], ['55', '56', 14], ['56', '56', 0], ['56', '54', 13], ['56', '55', 14], ['57', '57', 0], ['57', '7', 12], ['57', '59', 13], ['58', '58', 0], ['58', '21', 53], ['58', '57', 27], ['59', '59', 0], ['59', '7', 25], ['59', '57', 13], ['60', '60', 0], ['60', '61', 28], ['60', '63', 15], ['61', '61', 0], ['61', '26', 26], ['61', '60', 28], ['62', '62', 0], ['62', '26', 36], ['62', '30', 26], ['63', '63', 0], ['63', '60', 15], ['63', '64', 65], ['64', '64', 0], ['64', '65', 13], ['64', '66', 12], ['65', '65', 0], ['65', '8', 10], ['65', '64', 13], ['66', '66', 0], ['66', '31', 60], ['66', '64', 12]]}, '0001463282': {'objects': ['0', '1', '2', '3', '4', '5', '6', '7', '8', '9', '10', '11', '12', '13', '14', '15', '16', '17', '18', '19', '20', '21', '22', '23', '24', '25', '26', '27', '28', '29', '30', '31', '32', '33', '34', '35', '36', '37', '38', '39', '40', '41', '42', '43', '44', '45', '46', '47', '48', '49', '50', '51', '52', '53', '54', '55', '56', '57', '58', '59', '60', '61', '62', '63', '64', '65', '66', '67', '68', '69', '70', '71', '72', '73', '74', '75', '76', '77', '78', '79', '80', '81', '82', '83', '84', '85', '86', '87', '88', '89', '90', '91', '92', '93', '94', '95', '96', '97', '98', '99', '100'], 'relationships': [['0', '0', 0], ['0', '1', 12], ['0', '46', 42], ['1', '1', 0], ['1', '0', 12], ['1', '44', 5], ['2', '2', 0], ['2', '47', 16], ['2', '48', 14], ['3', '3', 0], ['3', '4', 13], ['3', '7', 10], ['3', '47', 13], ['4', '4', 0], ['4', '3', 13], ['4', '8', 11], ['5', '5', 0], ['5', '6', 14], ['5', '9', 17], ['6', '6', 0], ['6', '5', 14], ['6', '7', 21], ['7', '7', 0], ['7', '3', 10], ['7', '8', 4], ['8', '8', 0], ['8', '7', 4], ['8', '9', 6], ['9', '9', 0], ['9', '5', 17], ['9', '8', 6], ['10', '10', 0], ['10', '15', 29], ['10', '49', 31], ['11', '11', 0], ['11', '12', 8], ['11', '48', 47], ['12', '12', 0], ['12', '11', 8], ['12', '48', 26], ['13', '13', 0], ['13', '2', 41], ['13', '14', 13], ['14', '14', 0], ['14', '13', 13], ['14', '57', 23], ['15', '15', 0], ['15', '10', 29], ['15', '50', 12], ['16', '16', 0], ['16', '50', 16], ['16', '61', 13], ['17', '17', 0], ['17', '18', 16], ['17', '93', 26], ['18', '18', 0], ['18', '17', 16], ['18', '19', 10], ['19', '19', 0], ['19', '18', 10], ['19', '20', 15], ['20', '20', 0], ['20', '19', 15], ['20', '21', 13], ['21', '21', 0], ['21', '20', 13], ['21', '94', 38], ['22', '22', 0], ['22', '88', 3], ['22', '89', 15], ['23', '23', 0], ['23', '24', 39], ['23', '60', 31], ['24', '24', 0], ['24', '23', 39], ['24', '25', 13], ['25', '25', 0], ['25', '24', 13], ['25', '26', 19], ['26', '26', 0], ['26', '25', 19], ['26', '72', 41], ['27', '27', 0], ['27', '26', 82], ['27', '73', 37], ['28', '28', 0], ['28', '29', 25], ['28', '74', 56], ['29', '29', 0], ['29', '28', 25], ['29', '30', 39], ['30', '30', 0], ['30', '31', 9], ['30', '77', 25], ['31', '31', 0], ['31', '29', 83], ['31', '30', 9], ['32', '32', 0], ['32', '33', 22], ['32', '80', 30], ['33', '33', 0], ['33', '32', 22], ['33', '80', 15], ['34', '34', 0], ['34', '37', 34], ['34', '91', 38], ['35', '35', 0], ['35', '36', 6], ['35', '37', 28], ['36', '36', 0], ['36', '35', 6], ['36', '37', 18], ['37', '37', 0], ['37', '35', 28], ['37', '36', 18], ['38', '38', 0], ['38', '95', 13], ['38', '97', 17], ['39', '39', 0], ['39', '38', 59], ['39', '95', 72], ['40', '40', 0], ['40', '7', 45], ['40', '41', 41], ['41', '41', 0], ['41', '40', 41], ['41', '43', 36], ['42', '42', 0], ['42', '41', 47], ['42', '43', 17], ['43', '43', 0], ['43', '41', 36], ['43', '42', 17], ['44', '44', 0], ['44', '1', 5], ['44', '45', 17], ['45', '45', 0], ['45', '44', 17], ['45', '46', 3], ['46', '46', 0], ['46', '1', 16], ['46', '45', 3], ['47', '47', 0], ['47', '3', 13], ['47', '48', 11], ['48', '48', 0], ['48', '2', 14], ['48', '47', 11], ['49', '49', 0], ['49', '46', 26], ['49', '48', 27], ['50', '50', 0], ['50', '15', 12], ['50', '16', 16], ['51', '51', 0], ['51', '52', 10], ['51', '57', 8], ['52', '52', 0], ['52', '51', 10], ['52', '58', 7], ['53', '53', 0], ['53', '54', 40], ['53', '55', 22], ['54', '54', 0], ['54', '9', 33], ['54', '59', 16], ['55', '55', 0], ['55', '53', 22], ['55', '56', 9], ['56', '56', 0], ['56', '55', 9], ['56', '58', 48], ['57', '57', 0], ['57', '51', 8], ['57', '58', 13], ['58', '58', 0], ['58', '52', 7], ['58', '57', 13], ['59', '59', 0], ['59', '54', 16], ['59', '60', 13], ['60', '60', 0], ['60', '23', 31], ['60', '59', 13], ['61', '61', 0], ['61', '16', 13], ['61', '64', 11], ['62', '62', 0], ['62', '61', 17], ['62', '63', 9], ['63', '63', 0], ['63', '62', 9], ['63', '71', 35], ['64', '64', 0], ['64', '16', 26], ['64', '61', 11], ['65', '65', 0], ['65', '66', 49], ['65', '67', 41], ['66', '66', 0], ['66', '73', 44], ['66', '74', 35], ['67', '67', 0], ['67', '65', 41], ['67', '68', 40], ['68', '68', 0], ['68', '66', 51], ['68', '67', 40], ['69', '69', 0], ['69', '70', 15], ['69', '71', 24], ['70', '70', 0], ['70', '69', 15], ['70', '71', 11], ['71', '71', 0], ['71', '70', 11], ['71', '72', 12], ['72', '72', 0], ['72', '71', 12], ['72', '73', 13], ['73', '73', 0], ['73', '72', 13], ['73', '74', 15], ['74', '74', 0], ['74', '72', 26], ['74', '73', 15], ['74', '75', 26], ['75', '75', 0], ['75', '74', 26], ['75', '76', 27], ['76', '76', 0], ['76', '68', 53], ['76', '75', 27], ['77', '77', 0], ['77', '29', 76], ['77', '30', 25], ['77', '78', 76], ['78', '78', 0], ['78', '30', 62], ['78', '76', 57], ['79', '79', 0], ['79', '80', 15], ['79', '81', 42], ['80', '80', 0], ['80', '33', 15], ['80', '79', 15], ['80', '81', 10], ['81', '81', 0], ['81', '80', 10], ['81', '82', 14], ['82', '82', 0], ['82', '33', 30], ['82', '81', 14], ['83', '83', 0], ['83', '81', 21], ['83', '84', 12], ['84', '84', 0], ['84', '83', 12], ['84', '85', 10], ['85', '85', 0], ['85', '84', 10], ['85', '86', 10], ['86', '86', 0], ['86', '85', 10], ['86', '87', 11], ['87', '87', 0], ['87', '86', 11], ['87', '88', 11], ['88', '88', 0], ['88', '22', 3], ['88', '98', 8], ['89', '89', 0], ['89', '22', 15], ['89', '88', 31], ['90', '90', 0], ['90', '33', 57], ['90', '91', 43], ['91', '91', 0], ['91', '34', 38], ['91', '90', 43], ['92', '92', 0], ['92', '17', 30], ['92', '93', 34], ['93', '93', 0], ['93', '17', 26], ['93', '18', 23], ['94', '94', 0], ['94', '20', 28], ['94', '95', 29], ['95', '95', 0], ['95', '38', 13], ['95', '96', 23], ['96', '96', 0], ['96', '95', 23], ['96', '97', 15], ['97', '97', 0], ['97', '38', 17], ['97', '96', 15], ['98', '98', 0], ['98', '88', 8], ['98', '100', 17], ['99', '99', 0], ['99', '88', 16], ['99', '100', 15], ['100', '100', 0], ['100', '98', 17], ['100', '99', 15]]}, '01191071_1072': {'objects': ['0', '1', '2', '3', '4', '5', '6', '7', '8', '9', '10', '11', '12', '13', '14', '15', '16', '17', '18', '19', '20', '21', '22', '23'], 'relationships': [['0', '0', 0], ['0', '13', 69], ['0', '14', 77], ['1', '1', 0], ['1', '3', 11], ['1', '4', 32], ['2', '2', 0], ['2', '0', 122], ['2', '15', 9], ['3', '3', 0], ['3', '1', 11], ['3', '4', 69], ['4', '4', 0], ['4', '1', 32], ['4', '3', 69], ['5', '5', 0], ['5', '19', 174], ['5', '20', 196], ['6', '6', 0], ['6', '10', 36], ['6', '17', 44], ['7', '7', 0], ['7', '8', 11], ['7', '19', 37], ['8', '8', 0], ['8', '7', 11], ['8', '20', 34], ['9', '9', 0], ['9', '22', 38], ['9', '23', 25], ['10', '10', 0], ['10', '6', 36], ['10', '19', 8], ['10', '20', 36], ['11', '11', 0], ['11', '0', 89], ['11', '12', 89], ['12', '12', 0], ['12', '1', 71], ['12', '11', 89], ['13', '13', 0], ['13', '0', 69], ['13', '14', 4], ['14', '14', 0], ['14', '0', 77], ['14', '13', 4], ['15', '15', 0], ['15', '0', 103], ['15', '2', 9], ['16', '16', 0], ['16', '5', 346], ['16', '18', 161], ['17', '17', 0], ['17', '6', 44], ['17', '10', 63], ['18', '18', 0], ['18', '16', 161], ['18', '17', 118], ['19', '19', 0], ['19', '10', 8], ['19', '20', 10], ['20', '20', 0], ['20', '19', 10], ['20', '21', 11], ['21', '21', 0], ['21', '20', 11], ['21', '22', 9], ['22', '22', 0], ['22', '20', 34], ['22', '21', 9], ['23', '23', 0], ['23', '8', 35], ['23', '9', 25]]}, '0012529284': {'objects': ['0', '1', '2', '3', '4', '5', '6', '7', '8', '9', '10', '11', '12', '13', '14', '15', '16', '17', '18', '19', '20', '21', '22', '23', '24', '25', '26', '27', '28', '29', '30', '31', '32', '33', '34', '35', '36', '37', '38', '39', '40', '41', '42', '43', '44', '45', '46', '47', '48', '49', '50', '51', '52', '53', '54', '55', '56', '57', '58', '59', '60', '61', '62', '63', '64', '65', '66', '67', '68', '69', '70'], 'relationships': [['0', '0', 0], ['0', '1', 9], ['0', '21', 27], ['1', '1', 0], ['1', '0', 9], ['1', '23', 25], ['2', '2', 0], ['2', '20', 32], ['2', '22', 38], ['3', '3', 0], ['3', '24', 28], ['3', '26', 14], ['4', '4', 0], ['4', '28', 40], ['4', '31', 12], ['5', '5', 0], ['5', '6', 24], ['5', '28', 11], ['6', '6', 0], ['6', '5', 24], ['6', '29', 32], ['7', '7', 0], ['7', '41', 22], ['7', '42', 34], ['8', '8', 0], ['8', '33', 16], ['8', '34', 44], ['9', '9', 0], ['9', '38', 45], ['9', '39', 60], ['10', '10', 0], ['10', '7', 52], ['10', '47', 54], ['11', '11', 0], ['11', '55', 5], ['11', '60', 48], ['12', '12', 0], ['12', '13', 14], ['12', '14', 41], ['13', '13', 0], ['13', '12', 14], ['13', '14', 13], ['14', '14', 0], ['14', '13', 13], ['14', '15', 13], ['15', '15', 0], ['15', '14', 13], ['15', '16', 13], ['16', '16', 0], ['16', '14', 41], ['16', '15', 13], ['17', '17', 0], ['17', '11', 64], ['17', '59', 56], ['18', '18', 0], ['18', '52', 150], ['18', '54', 139], ['19', '19', 0], ['19', '60', 86], ['19', '70', 10], ['20', '20', 0], ['20', '2', 32], ['20', '21', 90], ['21', '21', 0], ['21', '0', 27], ['21', '23', 64], ['22', '22', 0], ['22', '2', 38], ['22', '20', 94], ['23', '23', 0], ['23', '1', 25], ['23', '25', 44], ['24', '24', 0], ['24', '1', 28], ['24', '3', 28], ['25', '25', 0], ['25', '5', 45], ['25', '23', 44], ['26', '26', 0], ['26', '3', 14], ['26', '28', 12], ['27', '27', 0], ['27', '29', 13], ['27', '30', 41], ['28', '28', 0], ['28', '5', 11], ['28', '26', 12], ['28', '31', 12], ['29', '29', 0], ['29', '27', 13], ['29', '30', 14], ['30', '30', 0], ['30', '27', 41], ['30', '29', 14], ['31', '31', 0], ['31', '4', 12], ['31', '28', 12], ['32', '32', 0], ['32', '4', 71], ['32', '5', 75], ['33', '33', 0], ['33', '8', 16], ['33', '34', 14], ['34', '34', 0], ['34', '33', 14], ['34', '35', 12], ['35', '35', 0], ['35', '34', 12], ['35', '36', 11], ['36', '36', 0], ['36', '34', 41], ['36', '35', 11], ['37', '37', 0], ['37', '41', 11], ['37', '42', 41], ['38', '38', 0], ['38', '39', 13], ['38', '40', 42], ['39', '39', 0], ['39', '38', 13], ['39', '40', 14], ['40', '40', 0], ['40', '38', 42], ['40', '39', 14], ['41', '41', 0], ['41', '37', 11], ['41', '42', 16], ['42', '42', 0], ['42', '41', 16], ['42', '43', 14], ['43', '43', 0], ['43', '42', 14], ['43', '44', 12], ['44', '44', 0], ['44', '43', 12], ['44', '45', 4], ['45', '45', 0], ['45', '44', 4], ['45', '67', 28], ['46', '46', 0], ['46', '44', 17], ['46', '67', 68], ['47', '47', 0], ['47', '7', 68], ['47', '10', 54], ['48', '48', 0], ['48', '45', 65], ['48', '49', 54], ['49', '49', 0], ['49', '48', 54], ['49', '50', 53], ['50', '50', 0], ['50', '16', 71], ['50', '49', 53], ['51', '51', 0], ['51', '12', 60], ['51', '52', 58], ['52', '52', 0], ['52', '53', 10], ['52', '54', 34], ['53', '53', 0], ['53', '52', 10], ['53', '54', 19], ['54', '54', 0], ['54', '52', 34], ['54', '53', 19], ['55', '55', 0], ['55', '11', 5], ['55', '56', 4], ['56', '56', 0], ['56', '55', 4], ['56', '57', 15], ['57', '57', 0], ['57', '56', 15], ['57', '58', 3], ['58', '58', 0], ['58', '56', 18], ['58', '57', 3], ['58', '59', 18], ['59', '59', 0], ['59', '57', 21], ['59', '58', 18], ['60', '60', 0], ['60', '61', 14], ['60', '69', 17], ['61', '61', 0], ['61', '60', 14], ['61', '62', 16], ['62', '62', 0], ['62', '61', 16], ['62', '63', 12], ['63', '63', 0], ['63', '62', 12], ['63', '64', 16], ['64', '64', 0], ['64', '63', 16], ['64', '65', 26], ['65', '65', 0], ['65', '63', 62], ['65', '64', 26], ['66', '66', 0], ['66', '49', 68], ['66', '67', 44], ['67', '67', 0], ['67', '45', 28], ['67', '66', 44], ['68', '68', 0], ['68', '36', 97], ['68', '64', 113], ['69', '69', 0], ['69', '60', 17], ['69', '61', 19], ['70', '70', 0], ['70', '19', 10], ['70', '60', 42]]}, '0060025670': {'objects': ['0', '1', '2', '3', '4', '5', '6', '7', '8', '9', '10', '11', '12', '13'], 'relationships': [['0', '0', 0], ['0', '5', 27], ['0', '6', 69], ['1', '1', 0], ['1', '7', 88], ['1', '9', 86], ['2', '2', 0], ['2', '10', 7], ['2', '11', 26], ['3', '3', 0], ['3', '11', 6], ['3', '12', 21], ['4', '4', 0], ['4', '0', 149], ['4', '5', 144], ['5', '5', 0], ['5', '0', 27], ['5', '6', 28], ['6', '6', 0], ['6', '5', 28], ['6', '7', 23], ['7', '7', 0], ['7', '5', 78], ['7', '6', 23], ['8', '8', 0], ['8', '6', 105], ['8', '9', 73], ['9', '9', 0], ['9', '1', 86], ['9', '8', 73], ['10', '10', 0], ['10', '2', 7], ['10', '11', 4], ['11', '11', 0], ['11', '3', 6], ['11', '10', 4], ['12', '12', 0], ['12', '3', 21], ['12', '11', 38], ['13', '13', 0], ['13', '10', 519], ['13', '11', 494]]}, '87682908': {'objects': ['0', '1', '2', '3', '4', '5', '6', '7', '8', '9', '10', '11', '12', '13', '14', '15', '16', '17', '18', '19', '20', '21', '22', '23', '24', '25', '26', '27', '28', '29', '30'], 'relationships': [['0', '0', 0], ['0', '1', 33], ['0', '16', 14], ['1', '1', 0], ['1', '0', 33], ['1', '2', 18], ['2', '2', 0], ['2', '1', 18], ['2', '3', 41], ['3', '3', 0], ['3', '2', 41], ['3', '4', 36], ['4', '4', 0], ['4', '3', 36], ['4', '10', 40], ['5', '5', 0], ['5', '17', 30], ['5', '19', 23], ['6', '6', 0], ['6', '0', 51], ['6', '1', 46], ['7', '7', 0], ['7', '8', 82], ['7', '17', 64], ['8', '8', 0], ['8', '7', 82], ['8', '17', 142], ['9', '9', 0], ['9', '18', 68], ['9', '23', 126], ['10', '10', 0], ['10', '4', 40], ['10', '20', 13], ['11', '11', 0], ['11', '23', 49], ['11', '24', 31], ['12', '12', 0], ['12', '21', 50], ['12', '29', 3], ['13', '13', 0], ['13', '25', 86], ['13', '26', 89], ['14', '14', 0], ['14', '6', 189], ['14', '15', 79], ['15', '15', 0], ['15', '6', 81], ['15', '14', 79], ['16', '16', 0], ['16', '0', 14], ['16', '1', 62], ['17', '17', 0], ['17', '5', 30], ['17', '7', 64], ['18', '18', 0], ['18', '5', 54], ['18', '19', 51], ['19', '19', 0], ['19', '5', 23], ['19', '18', 51], ['20', '20', 0], ['20', '10', 13], ['20', '28', 58], ['21', '21', 0], ['21', '12', 50], ['21', '22', 49], ['22', '22', 0], ['22', '20', 61], ['22', '21', 49], ['23', '23', 0], ['23', '11', 49], ['23', '24', 4], ['24', '24', 0], ['24', '11', 31], ['24', '23', 4], ['25', '25', 0], ['25', '13', 86], ['25', '29', 86], ['26', '26', 0], ['26', '13', 89], ['26', '27', 30], ['27', '27', 0], ['27', '25', 136], ['27', '26', 30], ['28', '28', 0], ['28', '20', 58], ['28', '29', 18], ['29', '29', 0], ['29', '12', 3], ['29', '28', 18], ['30', '30', 0], ['30', '28', 82], ['30', '29', 81]]}, '81574683': {'objects': ['0', '1', '2', '3', '4', '5', '6', '7', '8', '9', '10', '11', '12', '13', '14', '15', '16', '17', '18', '19', '20', '21', '22', '23', '24', '25', '26', '27', '28', '29', '30', '31', '32', '33', '34', '35', '36', '37', '38', '39', '40', '41', '42', '43', '44', '45', '46', '47', '48', '49', '50', '51', '52', '53', '54', '55', '56', '57', '58', '59', '60', '61', '62', '63', '64', '65', '66', '67', '68', '69', '70', '71', '72', '73', '74', '75', '76', '77', '78', '79', '80', '81', '82', '83', '84', '85', '86', '87', '88', '89', '90', '91', '92', '93', '94', '95', '96', '97', '98', '99', '100', '101', '102', '103', '104'], 'relationships': [['0', '0', 0], ['0', '1', 5], ['0', '2', 110], ['1', '1', 0], ['1', '0', 5], ['1', '52', 37], ['2', '2', 0], ['2', '0', 110], ['2', '1', 51], ['3', '3', 0], ['3', '5', 34], ['3', '8', 18], ['4', '4', 0], ['4', '10', 51], ['4', '11', 45], ['5', '5', 0], ['5', '8', 2], ['5', '58', 17], ['6', '6', 0], ['6', '9', 14], ['6', '56', 55], ['7', '7', 0], ['7', '10', 18], ['7', '57', 25], ['8', '8', 0], ['8', '3', 18], ['8', '5', 2], ['9', '9', 0], ['9', '6', 14], ['9', '8', 59], ['10', '10', 0], ['10', '7', 18], ['10', '57', 41], ['11', '11', 0], ['11', '4', 45], ['11', '59', 17], ['12', '12', 0], ['12', '13', 10], ['12', '14', 33], ['13', '13', 0], ['13', '12', 10], ['13', '14', 10], ['14', '14', 0], ['14', '13', 10], ['14', '15', 6], ['15', '15', 0], ['15', '13', 23], ['15', '14', 6], ['16', '16', 0], ['16', '14', 11], ['16', '17', 10], ['17', '17', 0], ['17', '16', 10], ['17', '18', 9], ['18', '18', 0], ['18', '17', 9], ['18', '68', 13], ['19', '19', 0], ['19', '20', 1], ['19', '59', 69], ['20', '20', 0], ['20', '19', 1], ['20', '73', 62], ['21', '21', 0], ['21', '74', 10], ['21', '76', 38], ['22', '22', 0], ['22', '23', 11], ['22', '78', 8], ['23', '23', 0], ['23', '22', 11], ['23', '79', 9], ['24', '24', 0], ['24', '26', 11], ['24', '80', 8], ['25', '25', 0], ['25', '24', 16], ['25', '80', 22], ['26', '26', 0], ['26', '24', 11], ['26', '25', 24], ['27', '27', 0], ['27', '93', 196], ['27', '100', 185], ['28', '28', 0], ['28', '29', 26], ['28', '30', 49], ['29', '29', 0], ['29', '28', 26], ['29', '30', 8], ['30', '30', 0], ['30', '29', 8], ['30', '95', 6], ['31', '31', 0], ['31', '32', 12], ['31', '95', 11], ['32', '32', 0], ['32', '31', 12], ['32', '95', 32], ['33', '33', 0], ['33', '34', 7], ['33', '35', 35], ['34', '34', 0], ['34', '33', 7], ['34', '35', 11], ['35', '35', 0], ['35', '34', 11], ['35', '36', 8], ['36', '36', 0], ['36', '35', 8], ['36', '94', 4], ['37', '37', 0], ['37', '85', 38], ['37', '86', 27], ['38', '38', 0], ['38', '88', 7], ['38', '89', 8], ['39', '39', 0], ['39', '96', 23], ['39', '102', 71], ['40', '40', 0], ['40', '41', 7], ['40', '103', 9], ['41', '41', 0], ['41', '40', 7], ['41', '103', 38], ['42', '42', 0], ['42', '40', 55], ['42', '41', 50], ['43', '43', 0], ['43', '90', 12], ['43', '91', 13], ['44', '44', 0], ['44', '45', 31], ['44', '72', 9], ['45', '45', 0], ['45', '44', 31], ['45', '72', 6], ['46', '46', 0], ['46', '47', 35], ['46', '81', 59], ['47', '47', 0], ['47', '48', 8], ['47', '81', 15], ['48', '48', 0], ['48', '47', 8], ['48', '81', 44], ['49', '49', 0], ['49', '50', 9], ['49', '81', 7], ['50', '50', 0], ['50', '49', 9], ['50', '51', 11], ['51', '51', 0], ['51', '50', 11], ['51', '82', 11], ['52', '52', 0], ['52', '1', 37], ['52', '57', 57], ['53', '53', 0], ['53', '54', 8], ['53', '55', 21], ['54', '54', 0], ['54', '53', 8], ['54', '56', 59], ['55', '55', 0], ['55', '56', 5], ['55', '58', 7], ['56', '56', 0], ['56', '6', 55], ['56', '55', 5], ['57', '57', 0], ['57', '7', 25], ['57', '58', 7], ['58', '58', 0], ['58', '55', 7], ['58', '57', 7], ['59', '59', 0], ['59', '4', 62], ['59', '11', 17], ['60', '60', 0], ['60', '61', 7], ['60', '62', 32], ['61', '61', 0], ['61', '60', 7], ['61', '62', 5], ['62', '62', 0], ['62', '61', 5], ['62', '63', 7], ['63', '63', 0], ['63', '62', 7], ['63', '64', 8], ['64', '64', 0], ['64', '63', 8], ['64', '65', 6], ['65', '65', 0], ['65', '63', 31], ['65', '64', 6], ['66', '66', 0], ['66', '49', 32], ['66', '65', 37], ['67', '67', 0], ['67', '50', 31], ['67', '68', 30], ['68', '68', 0], ['68', '17', 29], ['68', '18', 13], ['69', '69', 0], ['69', '70', 5], ['69', '71', 28], ['70', '70', 0], ['70', '69', 5], ['70', '71', 8], ['71', '71', 0], ['71', '69', 28], ['71', '70', 8], ['72', '72', 0], ['72', '44', 9], ['72', '45', 6], ['73', '73', 0], ['73', '75', 9], ['73', '76', 31], ['74', '74', 0], ['74', '21', 10], ['74', '73', 33], ['75', '75', 0], ['75', '73', 9], ['75', '76', 9], ['76', '76', 0], ['76', '75', 9], ['76', '77', 12], ['77', '77', 0], ['77', '76', 12], ['77', '78', 14], ['78', '78', 0], ['78', '22', 8], ['78', '77', 14], ['79', '79', 0], ['79', '23', 9], ['79', '80', 6], ['80', '80', 0], ['80', '24', 8], ['80', '79', 6], ['81', '81', 0], ['81', '47', 15], ['81', '49', 7], ['82', '82', 0], ['82', '51', 11], ['82', '83', 10], ['83', '83', 0], ['83', '82', 10], ['83', '84', 7], ['84', '84', 0], ['84', '83', 7], ['84', '85', 7], ['85', '85', 0], ['85', '83', 31], ['85', '84', 7], ['86', '86', 0], ['86', '37', 27], ['86', '87', 10], ['87', '87', 0], ['87', '86', 10], ['87', '88', 10], ['88', '88', 0], ['88', '38', 7], ['88', '87', 10], ['89', '89', 0], ['89', '38', 8], ['89', '93', 12], ['90', '90', 0], ['90', '43', 12], ['90', '87', 32], ['91', '91', 0], ['91', '43', 13], ['91', '92', 14], ['92', '92', 0], ['92', '91', 14], ['92', '93', 7], ['93', '93', 0], ['93', '89', 12], ['93', '92', 7], ['94', '94', 0], ['94', '35', 26], ['94', '36', 4], ['95', '95', 0], ['95', '30', 6], ['95', '31', 11], ['96', '96', 0], ['96', '32', 60], ['96', '39', 23], ['97', '97', 0], ['97', '94', 54], ['97', '98', 23], ['98', '98', 0], ['98', '96', 87], ['98', '97', 23], ['99', '99', 0], ['99', '89', 56], ['99', '100', 20], ['100', '100', 0], ['100', '99', 20], ['100', '101', 30], ['101', '101', 0], ['101', '99', 73], ['101', '100', 30], ['102', '102', 0], ['102', '39', 71], ['102', '103', 5], ['103', '103', 0], ['103', '40', 9], ['103', '102', 5], ['104', '104', 0], ['104', '40', 55], ['104', '41', 84]]}, '00920222': {'objects': ['0', '1', '2', '3', '4', '5', '6', '7', '8', '9', '10', '11', '12', '13', '14', '15', '16', '17', '18', '19', '20', '21', '22', '23', '24', '25', '26', '27', '28', '29', '30', '31', '32', '33', '34', '35', '36', '37', '38', '39', '40', '41', '42', '43'], 'relationships': [['0', '0', 0], ['0', '19', 24], ['0', '20', 22], ['1', '1', 0], ['1', '13', 23], ['1', '20', 29], ['2', '2', 0], ['2', '26', 76], ['2', '27', 42], ['3', '3', 0], ['3', '31', 15], ['3', '32', 32], ['4', '4', 0], ['4', '1', 34], ['4', '12', 15], ['5', '5', 0], ['5', '22', 12], ['5', '23', 12], ['6', '6', 0], ['6', '7', 2], ['6', '30', 81], ['7', '7', 0], ['7', '6', 2], ['7', '30', 111], ['8', '8', 0], ['8', '2', 77], ['8', '33', 65], ['9', '9', 0], ['9', '32', 50], ['9', '33', 24], ['10', '10', 0], ['10', '9', 54], ['10', '34', 37], ['11', '11', 0], ['11', '38', 37], ['11', '39', 83], ['12', '12', 0], ['12', '4', 15], ['12', '42', 25], ['13', '13', 0], ['13', '20', 13], ['13', '42', 18], ['14', '14', 0], ['14', '37', 77], ['14', '41', 13], ['15', '15', 0], ['15', '16', 46], ['15', '40', 35], ['16', '16', 0], ['16', '15', 46], ['16', '40', 67], ['17', '17', 0], ['17', '23', 56], ['17', '43', 79], ['18', '18', 0], ['18', '19', 2], ['18', '20', 33], ['19', '19', 0], ['19', '18', 2], ['19', '20', 16], ['20', '20', 0], ['20', '13', 13], ['20', '19', 16], ['21', '21', 0], ['21', '22', 24], ['21', '29', 20], ['22', '22', 0], ['22', '5', 12], ['22', '21', 24], ['23', '23', 0], ['23', '5', 12], ['23', '22', 37], ['24', '24', 0], ['24', '19', 37], ['24', '43', 29], ['25', '25', 0], ['25', '12', 36], ['25', '43', 46], ['26', '26', 0], ['26', '3', 38], ['26', '31', 35], ['27', '27', 0], ['27', '2', 42], ['27', '31', 32], ['28', '28', 0], ['28', '27', 63], ['28', '30', 35], ['29', '29', 0], ['29', '20', 50], ['29', '21', 20], ['30', '30', 0], ['30', '28', 35], ['30', '29', 69], ['31', '31', 0], ['31', '3', 15], ['31', '27', 32], ['32', '32', 0], ['32', '33', 10], ['32', '42', 13], ['33', '33', 0], ['33', '9', 24], ['33', '32', 10], ['34', '34', 0], ['34', '9', 58], ['34', '10', 37], ['35', '35', 0], ['35', '36', 52], ['35', '37', 147], ['36', '36', 0], ['36', '35', 52], ['36', '41', 122], ['37', '37', 0], ['37', '14', 77], ['37', '41', 79], ['38', '38', 0], ['38', '11', 37], ['38', '39', 47], ['39', '39', 0], ['39', '16', 69], ['39', '38', 47], ['40', '40', 0], ['40', '15', 35], ['40', '41', 65], ['41', '41', 0], ['41', '14', 13], ['41', '40', 65], ['42', '42', 0], ['42', '13', 18], ['42', '32', 13], ['43', '43', 0], ['43', '24', 29], ['43', '25', 46]]}, '00860012_00860014': {'objects': ['0', '1', '2', '3', '4', '5', '6', '7', '8', '9', '10', '11', '12', '13', '14', '15', '16', '17', '18', '19', '20', '21', '22', '23', '24', '25', '26', '27', '28', '29', '30', '31', '32', '33', '34', '35', '36', '37', '38', '39', '40', '41', '42', '43', '44', '45', '46', '47', '48', '49', '50', '51', '52', '53', '54', '55', '56', '57', '58', '59', '60', '61', '62'], 'relationships': [['0', '0', 0], ['0', '22', 9], ['0', '27', 51], ['1', '1', 0], ['1', '2', 27], ['1', '27', 25], ['2', '2', 0], ['2', '27', 23], ['2', '30', 20], ['3', '3', 0], ['3', '4', 10], ['3', '7', 11], ['4', '4', 0], ['4', '3', 10], ['4', '7', 32], ['5', '5', 0], ['5', '39', 57], ['5', '41', 43], ['6', '6', 0], ['6', '28', 34], ['6', '35', 24], ['7', '7', 0], ['7', '3', 11], ['7', '30', 13], ['8', '8', 0], ['8', '9', 10], ['8', '47', 18], ['9', '9', 0], ['9', '8', 10], ['9', '10', 7], ['10', '10', 0], ['10', '9', 7], ['10', '62', 5], ['11', '11', 0], ['11', '12', 15], ['11', '13', 10], ['12', '12', 0], ['12', '11', 15], ['12', '13', 26], ['13', '13', 0], ['13', '11', 10], ['13', '12', 26], ['14', '14', 0], ['14', '13', 27], ['14', '61', 11], ['15', '15', 0], ['15', '16', 39], ['15', '55', 121], ['16', '16', 0], ['16', '15', 39], ['16', '50', 51], ['16', '57', 51], ['17', '17', 0], ['17', '58', 277], ['17', '59', 224], ['18', '18', 0], ['18', '19', 6], ['18', '20', 21], ['19', '19', 0], ['19', '18', 6], ['19', '20', 2], ['20', '20', 0], ['20', '18', 21], ['20', '19', 2], ['21', '21', 0], ['21', '45', 28], ['21', '51', 35], ['22', '22', 0], ['22', '0', 9], ['22', '27', 36], ['23', '23', 0], ['23', '22', 39], ['23', '29', 17], ['24', '24', 0], ['24', '26', 40], ['24', '32', 60], ['25', '25', 0], ['25', '26', 20], ['25', '27', 39], ['26', '26', 0], ['26', '25', 20], ['26', '32', 6], ['27', '27', 0], ['27', '1', 25], ['27', '2', 23], ['28', '28', 0], ['28', '6', 34], ['28', '29', 33], ['29', '29', 0], ['29', '23', 17], ['29', '28', 33], ['30', '30', 0], ['30', '3', 16], ['30', '7', 13], ['31', '31', 0], ['31', '32', 10], ['31', '33', 13], ['32', '32', 0], ['32', '26', 6], ['32', '31', 10], ['33', '33', 0], ['33', '31', 13], ['33', '32', 28], ['34', '34', 0], ['34', '30', 30], ['34', '35', 54], ['35', '35', 0], ['35', '7', 15], ['35', '37', 14], ['36', '36', 0], ['36', '35', 58], ['36', '38', 16], ['37', '37', 0], ['37', '7', 43], ['37', '35', 14], ['38', '38', 0], ['38', '36', 16], ['38', '37', 73], ['39', '39', 0], ['39', '40', 25], ['39', '41', 14], ['40', '40', 0], ['40', '39', 25], ['40', '47', 41], ['41', '41', 0], ['41', '5', 43], ['41', '39', 14], ['42', '42', 0], ['42', '43', 62], ['42', '46', 34], ['43', '43', 0], ['43', '44', 16], ['43', '46', 49], ['44', '44', 0], ['44', '43', 16], ['44', '45', 27], ['45', '45', 0], ['45', '21', 28], ['45', '44', 27], ['46', '46', 0], ['46', '42', 34], ['46', '51', 16], ['47', '47', 0], ['47', '8', 18], ['47', '9', 39], ['48', '48', 0], ['48', '41', 68], ['48', '49', 53], ['49', '49', 0], ['49', '47', 41], ['49', '50', 8], ['50', '50', 0], ['50', '16', 51], ['50', '49', 8], ['51', '51', 0], ['51', '46', 16], ['51', '52', 8], ['52', '52', 0], ['52', '51', 8], ['52', '53', 17], ['53', '53', 0], ['53', '52', 17], ['53', '54', 10], ['54', '54', 0], ['54', '53', 10], ['54', '55', 11], ['55', '55', 0], ['55', '54', 11], ['55', '56', 5], ['56', '56', 0], ['56', '54', 27], ['56', '55', 5], ['57', '57', 0], ['57', '16', 51], ['57', '61', 17], ['58', '58', 0], ['58', '13', 106], ['58', '61', 92], ['59', '59', 0], ['59', '58', 151], ['59', '60', 196], ['60', '60', 0], ['60', '58', 366], ['60', '59', 196], ['61', '61', 0], ['61', '14', 11], ['61', '57', 17], ['62', '62', 0], ['62', '9', 27], ['62', '10', 5]]}, '12603270': {'objects': ['0', '1', '2', '3', '4', '5', '6', '7', '8', '9', '10', '11', '12', '13', '14', '15', '16', '17', '18', '19', '20', '21', '22', '23', '24', '25', '26', '27', '28', '29', '30', '31', '32', '33', '34', '35', '36', '37', '38', '39', '40', '41', '42', '43', '44', '45', '46', '47', '48', '49', '50', '51', '52', '53', '54', '55', '56', '57', '58', '59', '60', '61', '62', '63', '64', '65', '66', '67', '68', '69', '70', '71', '72', '73', '74', '75', '76', '77'], 'relationships': [['0', '0', 0], ['0', '42', 17], ['0', '44', 15], ['1', '1', 0], ['1', '2', 19], ['1', '45', 25], ['2', '2', 0], ['2', '1', 19], ['2', '47', 11], ['3', '3', 0], ['3', '4', 1], ['3', '45', 93], ['4', '4', 0], ['4', '3', 1], ['4', '45', 107], ['5', '5', 0], ['5', '48', 43], ['5', '49', 16], ['6', '6', 0], ['6', '48', 7], ['6', '76', 31], ['7', '7', 0], ['7', '75', 39], ['7', '77', 50], ['8', '8', 0], ['8', '52', 46], ['8', '56', 37], ['9', '9', 0], ['9', '10', 22], ['9', '11', 35], ['10', '10', 0], ['10', '9', 22], ['10', '11', 34], ['11', '11', 0], ['11', '10', 34], ['11', '12', 20], ['12', '12', 0], ['12', '10', 62], ['12', '11', 20], ['13', '13', 0], ['13', '12', 102], ['13', '14', 55], ['14', '14', 0], ['14', '13', 55], ['14', '23', 62], ['15', '15', 0], ['15', '59', 53], ['15', '61', 112], ['16', '16', 0], ['16', '17', 10], ['16', '68', 25], ['17', '17', 0], ['17', '16', 10], ['17', '67', 47], ['18', '18', 0], ['18', '19', 15], ['18', '20', 38], ['19', '19', 0], ['19', '18', 15], ['19', '20', 14], ['20', '20', 0], ['20', '19', 14], ['20', '21', 19], ['21', '21', 0], ['21', '20', 19], ['21', '22', 17], ['22', '22', 0], ['22', '20', 48], ['22', '21', 17], ['23', '23', 0], ['23', '24', 9], ['23', '25', 32], ['24', '24', 0], ['24', '23', 9], ['24', '25', 13], ['25', '25', 0], ['25', '23', 32], ['25', '24', 13], ['26', '26', 0], ['26', '27', 14], ['26', '29', 18], ['27', '27', 0], ['27', '26', 14], ['27', '28', 7], ['27', '30', 14], ['28', '28', 0], ['28', '27', 7], ['28', '31', 19], ['29', '29', 0], ['29', '30', 7], ['29', '65', 15], ['30', '30', 0], ['30', '29', 7], ['30', '31', 2], ['31', '31', 0], ['31', '30', 2], ['31', '35', 9], ['32', '32', 0], ['32', '33', 6], ['32', '37', 9], ['33', '33', 0], ['33', '32', 6], ['33', '34', 4], ['34', '34', 0], ['34', '33', 4], ['34', '35', 12], ['35', '35', 0], ['35', '31', 9], ['35', '34', 12], ['36', '36', 0], ['36', '32', 33], ['36', '37', 28], ['37', '37', 0], ['37', '32', 9], ['37', '36', 28], ['38', '38', 0], ['38', '70', 21], ['38', '72', 15], ['39', '39', 0], ['39', '71', 86], ['39', '72', 63], ['40', '40', 0], ['40', '16', 77], ['40', '17', 57], ['41', '41', 0], ['41', '3', 109], ['41', '42', 56], ['42', '42', 0], ['42', '0', 17], ['42', '41', 56], ['43', '43', 0], ['43', '44', 15], ['43', '45', 35], ['44', '44', 0], ['44', '0', 15], ['44', '43', 15], ['45', '45', 0], ['45', '1', 25], ['45', '46', 32], ['46', '46', 0], ['46', '2', 22], ['46', '45', 32], ['47', '47', 0], ['47', '2', 11], ['47', '48', 13], ['48', '48', 0], ['48', '6', 7], ['48', '49', 12], ['49', '49', 0], ['49', '5', 16], ['49', '48', 12], ['50', '50', 0], ['50', '74', 42], ['50', '77', 14], ['51', '51', 0], ['51', '55', 52], ['51', '56', 68], ['52', '52', 0], ['52', '53', 15], ['52', '54', 45], ['53', '53', 0], ['53', '52', 15], ['53', '54', 16], ['54', '54', 0], ['54', '52', 45], ['54', '53', 16], ['55', '55', 0], ['55', '56', 16], ['55', '57', 29], ['56', '56', 0], ['56', '55', 16], ['56', '57', 15], ['57', '57', 0], ['57', '56', 15], ['57', '58', 15], ['58', '58', 0], ['58', '57', 15], ['58', '59', 13], ['59', '59', 0], ['59', '58', 13], ['59', '60', 13], ['60', '60', 0], ['60', '58', 22], ['60', '59', 13], ['61', '61', 0], ['61', '60', 41], ['61', '62', 42], ['62', '62', 0], ['62', '14', 89], ['62', '61', 42], ['63', '63', 0], ['63', '64', 17], ['63', '65', 42], ['64', '64', 0], ['64', '32', 14], ['64', '65', 16], ['65', '65', 0], ['65', '32', 14], ['65', '66', 13], ['66', '66', 0], ['66', '29', 16], ['66', '65', 13], ['66', '67', 16], ['67', '67', 0], ['67', '16', 29], ['67', '66', 16], ['68', '68', 0], ['68', '16', 25], ['68', '69', 30], ['69', '69', 0], ['69', '70', 21], ['69', '71', 13], ['70', '70', 0], ['70', '38', 21], ['70', '69', 21], ['70', '71', 16], ['71', '71', 0], ['71', '69', 13], ['71', '70', 16], ['72', '72', 0], ['72', '38', 15], ['72', '71', 17], ['73', '73', 0], ['73', '17', 239], ['73', '40', 174], ['74', '74', 0], ['74', '76', 36], ['74', '77', 13], ['75', '75', 0], ['75', '7', 39], ['75', '45', 98], ['76', '76', 0], ['76', '6', 31], ['76', '77', 14], ['77', '77', 0], ['77', '50', 14], ['77', '74', 13], ['77', '76', 14]]}, '00920294': {'objects': ['0', '1', '2', '3', '4', '5', '6', '7', '8', '9', '10', '11', '12', '13', '14', '15', '16', '17', '18', '19', '20', '21', '22', '23', '24', '25', '26', '27', '28', '29', '30', '31', '32', '33', '34', '35', '36', '37', '38', '39', '40', '41', '42', '43', '44', '45', '46', '47', '48', '49'], 'relationships': [['0', '0', 0], ['0', '29', 2], ['0', '40', 188], ['1', '1', 0], ['1', '2', 18], ['1', '30', 4], ['2', '2', 0], ['2', '3', 7], ['2', '31', 4], ['3', '3', 0], ['3', '2', 7], ['3', '32', 5], ['4', '4', 0], ['4', '26', 35], ['4', '38', 8], ['4', '39', 35], ['5', '5', 0], ['5', '6', 6], ['5', '41', 21], ['6', '6', 0], ['6', '5', 6], ['6', '41', 6], ['7', '7', 0], ['7', '24', 4], ['7', '41', 17], ['8', '8', 0], ['8', '9', 39], ['8', '21', 35], ['9', '9', 0], ['9', '21', 18], ['9', '44', 26], ['10', '10', 0], ['10', '19', 75], ['10', '47', 17], ['11', '11', 0], ['11', '12', 9], ['11', '45', 11], ['12', '12', 0], ['12', '13', 5], ['12', '46', 5], ['13', '13', 0], ['13', '12', 5], ['13', '14', 5], ['14', '14', 0], ['14', '13', 5], ['14', '20', 6], ['15', '15', 0], ['15', '16', 5], ['15', '17', 5], ['16', '16', 0], ['16', '15', 5], ['16', '20', 4], ['17', '17', 0], ['17', '15', 5], ['17', '18', 7], ['18', '18', 0], ['18', '17', 7], ['18', '19', 12], ['19', '19', 0], ['19', '17', 30], ['19', '18', 12], ['20', '20', 0], ['20', '14', 6], ['20', '16', 4], ['21', '21', 0], ['21', '8', 35], ['21', '9', 18], ['22', '22', 0], ['22', '8', 88], ['22', '21', 81], ['23', '23', 0], ['23', '26', 40], ['23', '41', 36], ['24', '24', 0], ['24', '7', 4], ['24', '41', 1], ['25', '25', 0], ['25', '26', 11], ['25', '36', 31], ['26', '26', 0], ['26', '4', 35], ['26', '25', 11], ['27', '27', 0], ['27', '33', 25], ['27', '35', 8], ['28', '28', 0], ['28', '1', 95], ['28', '34', 95], ['29', '29', 0], ['29', '0', 2], ['29', '28', 135], ['30', '30', 0], ['30', '1', 4], ['30', '31', 5], ['31', '31', 0], ['31', '2', 4], ['31', '32', 3], ['32', '32', 0], ['32', '3', 5], ['32', '31', 3], ['33', '33', 0], ['33', '34', 8], ['33', '35', 2], ['34', '34', 0], ['34', '33', 8], ['34', '35', 25], ['35', '35', 0], ['35', '27', 8], ['35', '33', 2], ['36', '36', 0], ['36', '25', 31], ['36', '37', 26], ['37', '37', 0], ['37', '25', 32], ['37', '36', 26], ['38', '38', 0], ['38', '4', 8], ['38', '39', 20], ['39', '39', 0], ['39', '4', 35], ['39', '38', 20], ['40', '40', 0], ['40', '38', 77], ['40', '39', 80], ['41', '41', 0], ['41', '6', 6], ['41', '24', 1], ['42', '42', 0], ['42', '6', 43], ['42', '7', 22], ['43', '43', 0], ['43', '8', 48], ['43', '42', 51], ['44', '44', 0], ['44', '9', 26], ['44', '45', 20], ['45', '45', 0], ['45', '11', 11], ['45', '46', 5], ['46', '46', 0], ['46', '12', 5], ['46', '45', 5], ['47', '47', 0], ['47', '10', 17], ['47', '19', 110], ['48', '48', 0], ['48', '46', 587], ['48', '47', 539], ['49', '49', 0], ['49', '10', 217], ['49', '47', 204]]}, '0071032790': {'objects': ['0', '1', '2', '3', '4', '5', '6', '7', '8', '9', '10', '11', '12', '13', '14', '15', '16', '17', '18', '19', '20', '21', '22', '23', '24', '25'], 'relationships': [['0', '0', 0], ['0', '1', 5], ['0', '16', 31], ['1', '1', 0], ['1', '0', 5], ['1', '19', 51], ['2', '2', 0], ['2', '11', 130], ['2', '12', 17], ['3', '3', 0], ['3', '4', 33], ['3', '17', 67], ['4', '4', 0], ['4', '3', 33], ['4', '17', 26], ['5', '5', 0], ['5', '6', 19], ['5', '13', 177], ['6', '6', 0], ['6', '5', 19], ['6', '11', 194], ['7', '7', 0], ['7', '11', 171], ['7', '12', 192], ['8', '8', 0], ['8', '9', 13], ['8', '10', 35], ['9', '9', 0], ['9', '8', 13], ['9', '25', 16], ['10', '10', 0], ['10', '8', 35], ['10', '9', 35], ['10', '25', 22], ['11', '11', 0], ['11', '2', 130], ['11', '3', 99], ['12', '12', 0], ['12', '2', 17], ['12', '11', 170], ['13', '13', 0], ['13', '14', 26], ['13', '15', 72], ['14', '14', 0], ['14', '13', 26], ['14', '15', 29], ['15', '15', 0], ['15', '14', 29], ['15', '16', 29], ['16', '16', 0], ['16', '0', 31], ['16', '15', 29], ['17', '17', 0], ['17', '4', 26], ['17', '18', 26], ['18', '18', 0], ['18', '17', 26], ['18', '19', 25], ['19', '19', 0], ['19', '18', 25], ['19', '21', 38], ['20', '20', 0], ['20', '21', 70], ['20', '22', 98], ['21', '21', 0], ['21', '19', 38], ['21', '22', 10], ['22', '22', 0], ['22', '19', 66], ['22', '21', 10], ['23', '23', 0], ['23', '22', 151], ['23', '24', 17], ['24', '24', 0], ['24', '22', 168], ['24', '23', 17], ['25', '25', 0], ['25', '9', 16], ['25', '10', 22]]}, '01197604': {'objects': ['0', '1', '2', '3', '4', '5', '6', '7', '8', '9', '10', '11', '12', '13', '14', '15', '16', '17', '18', '19', '20', '21', '22', '23', '24', '25', '26', '27', '28', '29'], 'relationships': [['0', '0', 0], ['0', '11', 17], ['0', '12', 50], ['1', '1', 0], ['1', '16', 15], ['1', '20', 14], ['2', '2', 0], ['2', '25', 44], ['2', '28', 19], ['3', '3', 0], ['3', '4', 15], ['3', '7', 40], ['4', '4', 0], ['4', '3', 15], ['4', '10', 16], ['5', '5', 0], ['5', '24', 419], ['5', '28', 97], ['6', '6', 0], ['6', '3', 45], ['6', '7', 52], ['7', '7', 0], ['7', '3', 40], ['7', '8', 11], ['8', '8', 0], ['8', '7', 11], ['8', '9', 14], ['9', '9', 0], ['9', '8', 14], ['9', '10', 8], ['10', '10', 0], ['10', '4', 16], ['10', '9', 8], ['11', '11', 0], ['11', '0', 17], ['11', '13', 57], ['12', '12', 0], ['12', '13', 17], ['12', '14', 20], ['13', '13', 0], ['13', '11', 57], ['13', '12', 17], ['14', '14', 0], ['14', '12', 20], ['14', '15', 20], ['15', '15', 0], ['15', '13', 75], ['15', '14', 20], ['16', '16', 0], ['16', '1', 15], ['16', '14', 46], ['17', '17', 0], ['17', '18', 15], ['17', '19', 42], ['18', '18', 0], ['18', '17', 15], ['18', '19', 14], ['19', '19', 0], ['19', '18', 14], ['19', '21', 28], ['20', '20', 0], ['20', '1', 14], ['20', '21', 14], ['21', '21', 0], ['21', '19', 28], ['21', '20', 14], ['22', '22', 0], ['22', '23', 15], ['22', '24', 46], ['23', '23', 0], ['23', '22', 15], ['23', '24', 16], ['24', '24', 0], ['24', '23', 16], ['24', '25', 42], ['25', '25', 0], ['25', '24', 42], ['25', '26', 13], ['26', '26', 0], ['26', '25', 13], ['26', '27', 12], ['27', '27', 0], ['27', '25', 45], ['27', '26', 12], ['28', '28', 0], ['28', '2', 19], ['28', '25', 61], ['29', '29', 0], ['29', '2', 195], ['29', '28', 186]]}, '91372360': {'objects': ['0', '1', '2', '3', '4', '5', '6', '7', '8', '9', '10', '11', '12', '13', '14', '15', '16', '17', '18', '19', '20', '21', '22', '23', '24', '25', '26', '27', '28', '29', '30', '31', '32'], 'relationships': [['0', '0', 0], ['0', '6', 27], ['0', '17', 12], ['1', '1', 0], ['1', '6', 67], ['1', '16', 27], ['2', '2', 0], ['2', '3', 9], ['2', '18', 28], ['3', '3', 0], ['3', '2', 9], ['3', '22', 6], ['4', '4', 0], ['4', '5', 4], ['4', '23', 27], ['5', '5', 0], ['5', '4', 4], ['5', '25', 6], ['6', '6', 0], ['6', '0', 27], ['6', '1', 67], ['7', '7', 0], ['7', '26', 22], ['7', '28', 19], ['8', '8', 0], ['8', '30', 11], ['8', '31', 25], ['9', '9', 0], ['9', '28', 300], ['9', '29', 157], ['10', '10', 0], ['10', '11', 55], ['10', '14', 72], ['11', '11', 0], ['11', '10', 55], ['11', '12', 84], ['12', '12', 0], ['12', '11', 84], ['12', '15', 191], ['13', '13', 0], ['13', '12', 310], ['13', '14', 264], ['14', '14', 0], ['14', '10', 72], ['14', '11', 119], ['15', '15', 0], ['15', '1', 78], ['15', '6', 82], ['16', '16', 0], ['16', '1', 27], ['16', '6', 133], ['17', '17', 0], ['17', '0', 12], ['17', '18', 21], ['18', '18', 0], ['18', '2', 28], ['18', '17', 21], ['19', '19', 0], ['19', '2', 36], ['19', '20', 8], ['20', '20', 0], ['20', '3', 21], ['20', '19', 8], ['21', '21', 0], ['21', '22', 25], ['21', '24', 99], ['22', '22', 0], ['22', '3', 6], ['22', '23', 23], ['23', '23', 0], ['23', '4', 27], ['23', '22', 23], ['24', '24', 0], ['24', '4', 40], ['24', '25', 36], ['25', '25', 0], ['25', '5', 6], ['25', '24', 36], ['26', '26', 0], ['26', '5', 9], ['26', '27', 5], ['27', '27', 0], ['27', '26', 5], ['27', '28', 84], ['28', '28', 0], ['28', '7', 19], ['28', '32', 3], ['29', '29', 0], ['29', '7', 83], ['29', '26', 119], ['30', '30', 0], ['30', '8', 11], ['30', '31', 20], ['31', '31', 0], ['31', '8', 25], ['31', '30', 20], ['32', '32', 0], ['32', '8', 79], ['32', '28', 3]]}, '91161344_91161347': {'objects': ['0', '1', '2', '3', '4', '5', '6', '7', '8', '9', '10', '11', '12', '13', '14', '15', '16', '17', '18', '19', '20', '21', '22', '23', '24', '25', '26', '27', '28', '29', '30', '31', '32', '33', '34', '35', '36', '37', '38', '39', '40', '41', '42', '43', '44', '45', '46', '47', '48', '49', '50', '51', '52', '53', '54', '55', '56', '57', '58', '59', '60', '61', '62', '63', '64', '65', '66', '67', '68', '69', '70', '71', '72', '73', '74', '75', '76', '77', '78', '79', '80', '81', '82', '83', '84', '85', '86', '87', '88', '89', '90', '91', '92', '93', '94', '95', '96', '97', '98', '99', '100', '101', '102', '103', '104', '105', '106', '107', '108', '109', '110', '111', '112', '113', '114', '115', '116', '117', '118', '119', '120', '121', '122', '123', '124', '125', '126', '127', '128', '129', '130', '131', '132', '133', '134', '135', '136', '137', '138', '139', '140', '141', '142', '143', '144', '145', '146', '147'], 'relationships': [['0', '0', 0], ['0', '97', 20], ['0', '103', 35], ['1', '1', 0], ['1', '107', 18], ['1', '108', 48], ['2', '2', 0], ['2', '1', 65], ['2', '3', 17], ['3', '3', 0], ['3', '2', 17], ['3', '109', 31], ['4', '4', 0], ['4', '5', 4], ['4', '6', 17], ['5', '5', 0], ['5', '4', 4], ['5', '6', 1], ['6', '6', 0], ['6', '5', 1], ['6', '7', 5], ['7', '7', 0], ['7', '6', 5], ['7', '8', 2], ['8', '8', 0], ['8', '7', 2], ['8', '9', 7], ['9', '9', 0], ['9', '8', 7], ['9', '10', 5], ['10', '10', 0], ['10', '9', 5], ['10', '11', 2], ['11', '11', 0], ['11', '10', 2], ['11', '12', 17], ['12', '12', 0], ['12', '13', 6], ['12', '111', 14], ['13', '13', 0], ['13', '12', 6], ['13', '14', 13], ['13', '78', 13], ['14', '14', 0], ['14', '13', 13], ['14', '78', 2], ['15', '15', 0], ['15', '16', 19], ['15', '17', 32], ['16', '16', 0], ['16', '15', 19], ['16', '17', 9], ['17', '17', 0], ['17', '16', 9], ['17', '18', 7], ['18', '18', 0], ['18', '17', 7], ['18', '19', 3], ['19', '19', 0], ['19', '18', 3], ['19', '20', 5], ['20', '20', 0], ['20', '19', 5], ['20', '21', 4], ['21', '21', 0], ['21', '20', 4], ['21', '22', 4], ['22', '22', 0], ['22', '20', 18], ['22', '21', 4], ['23', '23', 0], ['23', '21', 33], ['23', '22', 19], ['24', '24', 0], ['24', '25', 7], ['24', '26', 21], ['25', '25', 0], ['25', '24', 7], ['25', '26', 2], ['26', '26', 0], ['26', '24', 21], ['26', '25', 2], ['27', '27', 0], ['27', '28', 6], ['27', '29', 18], ['28', '28', 0], ['28', '27', 6], ['28', '29', 10], ['29', '29', 0], ['29', '28', 10], ['29', '30', 9], ['30', '30', 0], ['30', '29', 9], ['30', '31', 7], ['31', '31', 0], ['31', '30', 7], ['31', '32', 8], ['32', '32', 0], ['32', '30', 22], ['32', '31', 8], ['33', '33', 0], ['33', '34', 6], ['33', '35', 21], ['34', '34', 0], ['34', '33', 6], ['34', '35', 7], ['35', '35', 0], ['35', '34', 7], ['35', '36', 8], ['36', '36', 0], ['36', '35', 8], ['36', '37', 6], ['37', '37', 0], ['37', '36', 6], ['37', '38', 5], ['38', '38', 0], ['38', '37', 5], ['38', '39', 8], ['39', '39', 0], ['39', '37', 20], ['39', '38', 8], ['40', '40', 0], ['40', '41', 6], ['40', '42', 19], ['41', '41', 0], ['41', '40', 6], ['41', '42', 5], ['42', '42', 0], ['42', '41', 5], ['42', '43', 5], ['43', '43', 0], ['43', '42', 5], ['43', '44', 16], ['44', '44', 0], ['44', '43', 16], ['44', '45', 19], ['45', '45', 0], ['45', '44', 19], ['45', '46', 5], ['46', '46', 0], ['46', '45', 5], ['46', '47', 8], ['47', '47', 0], ['47', '46', 8], ['47', '48', 19], ['48', '48', 0], ['48', '47', 19], ['48', '49', 5], ['49', '49', 0], ['49', '48', 5], ['49', '50', 7], ['50', '50', 0], ['50', '49', 7], ['50', '51', 2], ['51', '51', 0], ['51', '50', 2], ['51', '52', 6], ['52', '52', 0], ['52', '50', 21], ['52', '51', 6], ['53', '53', 0], ['53', '54', 5], ['53', '118', 15], ['54', '54', 0], ['54', '53', 5], ['54', '118', 16], ['55', '55', 0], ['55', '56', 3], ['55', '121', 2], ['56', '56', 0], ['56', '55', 3], ['56', '57', 6], ['57', '57', 0], ['57', '56', 6], ['57', '58', 5], ['58', '58', 0], ['58', '57', 5], ['58', '59', 4], ['59', '59', 0], ['59', '58', 4], ['59', '60', 6], ['60', '60', 0], ['60', '59', 6], ['60', '61', 15], ['60', '122', 15], ['61', '61', 0], ['61', '60', 15], ['61', '62', 3], ['62', '62', 0], ['62', '61', 3], ['62', '123', 2], ['63', '63', 0], ['63', '64', 3], ['63', '65', 17], ['64', '64', 0], ['64', '63', 3], ['64', '65', 4], ['65', '65', 0], ['65', '64', 4], ['65', '66', 6], ['66', '66', 0], ['66', '65', 6], ['66', '67', 13], ['67', '67', 0], ['67', '66', 13], ['67', '68', 4], ['68', '68', 0], ['68', '67', 4], ['68', '69', 5], ['69', '69', 0], ['69', '68', 5], ['69', '70', 5], ['70', '70', 0], ['70', '69', 5], ['70', '71', 4], ['71', '71', 0], ['71', '70', 4], ['71', '72', 6], ['72', '72', 0], ['72', '71', 6], ['72', '73', 5], ['73', '73', 0], ['73', '72', 5], ['73', '112', 1], ['74', '74', 0], ['74', '116', 20], ['74', '117', 6], ['75', '75', 0], ['75', '23', 36], ['75', '76', 35], ['76', '76', 0], ['76', '75', 35], ['76', '77', 7], ['77', '77', 0], ['77', '75', 50], ['77', '76', 7], ['78', '78', 0], ['78', '14', 2], ['78', '79', 3], ['79', '79', 0], ['79', '78', 3], ['79', '80', 6], ['80', '80', 0], ['80', '79', 6], ['80', '81', 3], ['81', '81', 0], ['81', '80', 3], ['81', '82', 2], ['82', '82', 0], ['82', '81', 2], ['82', '83', 10], ['83', '83', 0], ['83', '81', 20], ['83', '82', 10], ['84', '84', 0], ['84', '74', 63], ['84', '132', 29], ['85', '85', 0], ['85', '86', 4], ['85', '126', 9], ['86', '86', 0], ['86', '85', 4], ['86', '87', 3], ['87', '87', 0], ['87', '86', 3], ['87', '88', 2], ['88', '88', 0], ['88', '86', 17], ['88', '87', 2], ['89', '89', 0], ['89', '90', 6], ['89', '127', 12], ['90', '90', 0], ['90', '89', 6], ['90', '91', 5], ['91', '91', 0], ['91', '89', 17], ['91', '90', 5], ['92', '92', 0], ['92', '134', 24], ['92', '135', 43], ['93', '93', 0], ['93', '141', 28], ['93', '142', 45], ['94', '94', 0], ['94', '130', 99], ['94', '131', 108], ['95', '95', 0], ['95', '96', 38], ['95', '99', 125], ['96', '96', 0], ['96', '95', 38], ['96', '99', 98], ['97', '97', 0], ['97', '103', 3], ['97', '104', 14], ['98', '98', 0], ['98', '105', 15], ['98', '106', 17], ['99', '99', 0], ['99', '100', 17], ['99', '101', 14], ['100', '100', 0], ['100', '101', 14], ['100', '102', 14], ['101', '101', 0], ['101', '99', 14], ['101', '100', 14], ['101', '102', 14], ['102', '102', 0], ['102', '100', 14], ['102', '101', 14], ['103', '103', 0], ['103', '97', 3], ['103', '104', 11], ['104', '104', 0], ['104', '97', 14], ['104', '103', 11], ['105', '105', 0], ['105', '98', 15], ['105', '106', 17], ['106', '106', 0], ['106', '98', 17], ['106', '105', 17], ['107', '107', 0], ['107', '1', 18], ['107', '108', 17], ['108', '108', 0], ['108', '107', 17], ['108', '109', 30], ['109', '109', 0], ['109', '3', 31], ['109', '108', 30], ['110', '110', 0], ['110', '4', 45], ['110', '108', 61], ['111', '111', 0], ['111', '11', 18], ['111', '12', 14], ['111', '13', 18], ['112', '112', 0], ['112', '73', 1], ['112', '113', 2], ['113', '113', 0], ['113', '112', 2], ['113', '114', 7], ['114', '114', 0], ['114', '113', 7], ['114', '115', 4], ['115', '115', 0], ['115', '114', 4], ['115', '116', 14], ['116', '116', 0], ['116', '114', 14], ['116', '115', 14], ['116', '117', 5], ['117', '117', 0], ['117', '74', 6], ['117', '116', 5], ['118', '118', 0], ['118', '53', 15], ['118', '119', 2], ['119', '119', 0], ['119', '118', 2], ['119', '120', 4], ['120', '120', 0], ['120', '119', 4], ['120', '121', 14], ['121', '121', 0], ['121', '55', 2], ['121', '120', 14], ['122', '122', 0], ['122', '60', 15], ['122', '61', 18], ['123', '123', 0], ['123', '62', 2], ['123', '124', 1], ['124', '124', 0], ['124', '62', 16], ['124', '123', 1], ['125', '125', 0], ['125', '83', 57], ['125', '126', 48], ['126', '126', 0], ['126', '85', 9], ['126', '86', 25], ['127', '127', 0], ['127', '89', 12], ['127', '90', 30], ['128', '128', 0], ['128', '124', 81], ['128', '129', 38], ['129', '129', 0], ['129', '128', 38], ['129', '132', 76], ['130', '130', 0], ['130', '131', 38], ['130', '133', 83], ['131', '131', 0], ['131', '94', 108], ['131', '130', 38], ['132', '132', 0], ['132', '84', 29], ['132', '93', 48], ['133', '133', 0], ['133', '88', 65], ['133', '92', 51], ['134', '134', 0], ['134', '135', 5], ['134', '136', 18], ['135', '135', 0], ['135', '134', 5], ['135', '136', 1], ['136', '136', 0], ['136', '135', 1], ['136', '137', 2], ['137', '137', 0], ['137', '136', 2], ['137', '138', 1], ['138', '138', 0], ['138', '137', 1], ['138', '139', 1], ['139', '139', 0], ['139', '138', 1], ['139', '140', 7], ['140', '140', 0], ['140', '138', 20], ['140', '139', 7], ['141', '141', 0], ['141', '93', 28], ['141', '142', 5], ['141', '143', 28], ['142', '142', 0], ['142', '141', 5], ['142', '143', 11], ['143', '143', 0], ['143', '142', 11], ['143', '144', 4], ['144', '144', 0], ['144', '143', 4], ['144', '145', 8], ['145', '145', 0], ['145', '144', 8], ['145', '146', 1], ['146', '146', 0], ['146', '145', 1], ['146', '147', 5], ['147', '147', 0], ['147', '145', 18], ['147', '146', 5]]}, '0060262650': {'objects': ['0', '1', '2', '3', '4', '5', '6', '7', '8', '9', '10', '11', '12', '13', '14', '15', '16', '17', '18', '19', '20', '21', '22', '23', '24', '25', '26', '27', '28', '29', '30', '31', '32', '33', '34', '35', '36', '37', '38', '39', '40', '41', '42', '43', '44', '45', '46', '47', '48', '49', '50', '51', '52', '53', '54', '55', '56', '57', '58', '59', '60', '61', '62', '63', '64', '65', '66', '67', '68', '69', '70', '71', '72', '73', '74', '75', '76', '77', '78', '79', '80'], 'relationships': [['0', '0', 0], ['0', '39', 34], ['0', '40', 45], ['1', '1', 0], ['1', '26', 23], ['1', '44', 13], ['2', '2', 0], ['2', '4', 12], ['2', '45', 10], ['3', '3', 0], ['3', '45', 64], ['3', '48', 56], ['4', '4', 0], ['4', '2', 12], ['4', '51', 13], ['5', '5', 0], ['5', '49', 24], ['5', '50', 19], ['6', '6', 0], ['6', '3', 68], ['6', '52', 61], ['7', '7', 0], ['7', '8', 15], ['7', '51', 13], ['8', '8', 0], ['8', '7', 15], ['8', '51', 42], ['9', '9', 0], ['9', '13', 37], ['9', '57', 13], ['10', '10', 0], ['10', '11', 18], ['10', '56', 19], ['11', '11', 0], ['11', '10', 18], ['11', '58', 10], ['12', '12', 0], ['12', '34', 9], ['12', '59', 16], ['13', '13', 0], ['13', '9', 37], ['13', '30', 38], ['14', '14', 0], ['14', '65', 15], ['14', '67', 54], ['15', '15', 0], ['15', '16', 6], ['15', '63', 11], ['16', '16', 0], ['16', '15', 6], ['16', '68', 23], ['17', '17', 0], ['17', '18', 9], ['17', '68', 15], ['18', '18', 0], ['18', '17', 9], ['18', '71', 26], ['19', '19', 0], ['19', '31', 29], ['19', '67', 54], ['20', '20', 0], ['20', '21', 55], ['20', '32', 39], ['21', '21', 0], ['21', '20', 55], ['21', '33', 31], ['22', '22', 0], ['22', '23', 9], ['22', '76', 13], ['23', '23', 0], ['23', '22', 9], ['23', '76', 35], ['24', '24', 0], ['24', '25', 8], ['24', '73', 18], ['25', '25', 0], ['25', '24', 8], ['25', '76', 24], ['26', '26', 0], ['26', '1', 23], ['26', '27', 3], ['27', '27', 0], ['27', '26', 3], ['27', '28', 33], ['28', '28', 0], ['28', '26', 54], ['28', '27', 33], ['29', '29', 0], ['29', '28', 75], ['29', '50', 33], ['30', '30', 0], ['30', '13', 38], ['30', '57', 61], ['31', '31', 0], ['31', '19', 29], ['31', '71', 48], ['32', '32', 0], ['32', '20', 39], ['32', '71', 38], ['33', '33', 0], ['33', '21', 31], ['33', '32', 60], ['34', '34', 0], ['34', '12', 9], ['34', '63', 21], ['35', '35', 0], ['35', '37', 42], ['35', '38', 47], ['36', '36', 0], ['36', '35', 73], ['36', '39', 63], ['37', '37', 0], ['37', '38', 6], ['37', '40', 32], ['38', '38', 0], ['38', '37', 6], ['38', '39', 22], ['39', '39', 0], ['39', '0', 34], ['39', '38', 22], ['40', '40', 0], ['40', '37', 32], ['40', '41', 18], ['41', '41', 0], ['41', '38', 42], ['41', '40', 18], ['42', '42', 0], ['42', '0', 57], ['42', '27', 77], ['43', '43', 0], ['43', '26', 61], ['43', '44', 37], ['44', '44', 0], ['44', '1', 13], ['44', '26', 24], ['45', '45', 0], ['45', '2', 10], ['45', '4', 39], ['46', '46', 0], ['46', '2', 19], ['46', '47', 9], ['47', '47', 0], ['47', '46', 9], ['47', '48', 5], ['48', '48', 0], ['48', '47', 5], ['48', '49', 10], ['49', '49', 0], ['49', '5', 24], ['49', '48', 10], ['50', '50', 0], ['50', '5', 19], ['50', '29', 33], ['51', '51', 0], ['51', '4', 13], ['51', '7', 13], ['52', '52', 0], ['52', '6', 61], ['52', '54', 61], ['53', '53', 0], ['53', '8', 64], ['53', '10', 69], ['54', '54', 0], ['54', '52', 61], ['54', '55', 18], ['55', '55', 0], ['55', '52', 97], ['55', '54', 18], ['56', '56', 0], ['56', '10', 19], ['56', '58', 31], ['57', '57', 0], ['57', '9', 13], ['57', '30', 61], ['58', '58', 0], ['58', '11', 10], ['58', '60', 10], ['59', '59', 0], ['59', '12', 16], ['59', '60', 16], ['60', '60', 0], ['60', '58', 10], ['60', '59', 16], ['61', '61', 0], ['61', '12', 36], ['61', '60', 36], ['61', '62', 29], ['62', '62', 0], ['62', '34', 29], ['62', '60', 29], ['62', '61', 29], ['62', '64', 12], ['63', '63', 0], ['63', '15', 11], ['63', '64', 20], ['63', '66', 20], ['64', '64', 0], ['64', '62', 12], ['64', '63', 20], ['65', '65', 0], ['65', '13', 62], ['65', '14', 15], ['66', '66', 0], ['66', '15', 12], ['66', '63', 20], ['66', '67', 20], ['67', '67', 0], ['67', '66', 20], ['67', '70', 31], ['68', '68', 0], ['68', '17', 15], ['68', '69', 12], ['69', '69', 0], ['69', '68', 12], ['69', '71', 23], ['70', '70', 0], ['70', '17', 26], ['70', '67', 31], ['71', '71', 0], ['71', '18', 26], ['71', '69', 23], ['72', '72', 0], ['72', '74', 25], ['72', '75', 23], ['73', '73', 0], ['73', '18', 27], ['73', '24', 18], ['74', '74', 0], ['74', '72', 25], ['74', '75', 20], ['75', '75', 0], ['75', '72', 23], ['75', '74', 20], ['76', '76', 0], ['76', '22', 13], ['76', '77', 20], ['77', '77', 0], ['77', '75', 26], ['77', '76', 20], ['78', '78', 0], ['78', '75', 29], ['78', '79', 5], ['79', '79', 0], ['79', '22', 39], ['79', '78', 5], ['80', '80', 0], ['80', '33', 132], ['80', '78', 75]]}, '87672097': {'objects': ['0', '1', '2', '3', '4', '5', '6', '7', '8', '9', '10', '11', '12', '13', '14', '15', '16', '17', '18', '19', '20', '21', '22', '23', '24', '25', '26', '27', '28', '29', '30', '31', '32', '33', '34', '35', '36', '37', '38', '39', '40', '41', '42', '43', '44', '45', '46', '47', '48', '49', '50', '51', '52', '53', '54', '55', '56', '57', '58', '59', '60', '61', '62', '63', '64', '65', '66', '67', '68', '69', '70', '71', '72', '73', '74', '75', '76', '77', '78', '79', '80', '81'], 'relationships': [['0', '0', 0], ['0', '1', 22], ['0', '2', 16], ['1', '1', 0], ['1', '3', 17], ['1', '37', 21], ['2', '2', 0], ['2', '0', 16], ['2', '3', 30], ['3', '3', 0], ['3', '1', 17], ['3', '2', 30], ['4', '4', 0], ['4', '35', 79], ['4', '39', 12], ['5', '5', 0], ['5', '39', 17], ['5', '40', 28], ['6', '6', 0], ['6', '5', 43], ['6', '35', 24], ['7', '7', 0], ['7', '8', 41], ['7', '10', 11], ['8', '8', 0], ['8', '9', 20], ['8', '10', 23], ['9', '9', 0], ['9', '8', 20], ['9', '52', 25], ['10', '10', 0], ['10', '7', 11], ['10', '8', 23], ['11', '11', 0], ['11', '12', 9], ['11', '13', 14], ['12', '12', 0], ['12', '11', 9], ['12', '13', 7], ['13', '13', 0], ['13', '11', 14], ['13', '12', 7], ['14', '14', 0], ['14', '15', 12], ['14', '61', 16], ['15', '15', 0], ['15', '14', 12], ['15', '60', 39], ['16', '16', 0], ['16', '17', 20], ['16', '62', 40], ['17', '17', 0], ['17', '16', 20], ['17', '18', 19], ['18', '18', 0], ['18', '17', 19], ['18', '19', 24], ['19', '19', 0], ['19', '18', 24], ['19', '20', 18], ['20', '20', 0], ['20', '18', 49], ['20', '19', 18], ['21', '21', 0], ['21', '22', 12], ['21', '63', 30], ['22', '22', 0], ['22', '21', 12], ['22', '24', 17], ['23', '23', 0], ['23', '24', 15], ['23', '25', 15], ['24', '24', 0], ['24', '22', 17], ['24', '23', 15], ['25', '25', 0], ['25', '23', 15], ['25', '72', 30], ['26', '26', 0], ['26', '27', 12], ['26', '28', 40], ['26', '64', 40], ['27', '27', 0], ['27', '26', 12], ['27', '28', 15], ['28', '28', 0], ['28', '27', 15], ['28', '29', 14], ['29', '29', 0], ['29', '28', 14], ['29', '30', 17], ['30', '30', 0], ['30', '28', 46], ['30', '29', 17], ['31', '31', 0], ['31', '76', 14], ['31', '77', 6], ['32', '32', 0], ['32', '76', 80], ['32', '77', 77], ['33', '33', 0], ['33', '49', 28], ['33', '52', 31], ['34', '34', 0], ['34', '2', 108], ['34', '4', 120], ['35', '35', 0], ['35', '6', 24], ['35', '39', 57], ['36', '36', 0], ['36', '40', 51], ['36', '41', 42], ['37', '37', 0], ['37', '1', 21], ['37', '44', 21], ['38', '38', 0], ['38', '37', 26], ['38', '43', 23], ['39', '39', 0], ['39', '4', 12], ['39', '5', 17], ['40', '40', 0], ['40', '5', 28], ['40', '42', 50], ['41', '41', 0], ['41', '36', 42], ['41', '42', 12], ['42', '42', 0], ['42', '41', 12], ['42', '46', 13], ['43', '43', 0], ['43', '38', 23], ['43', '46', 9], ['44', '44', 0], ['44', '37', 21], ['44', '45', 18], ['45', '45', 0], ['45', '37', 49], ['45', '44', 18], ['46', '46', 0], ['46', '42', 13], ['46', '43', 9], ['47', '47', 0], ['47', '48', 10], ['47', '50', 20], ['48', '48', 0], ['48', '46', 55], ['48', '47', 10], ['49', '49', 0], ['49', '33', 28], ['49', '52', 45], ['50', '50', 0], ['50', '47', 20], ['50', '53', 22], ['51', '51', 0], ['51', '50', 39], ['51', '54', 50], ['52', '52', 0], ['52', '9', 25], ['52', '33', 31], ['53', '53', 0], ['53', '50', 22], ['53', '57', 18], ['54', '54', 0], ['54', '13', 39], ['54', '53', 43], ['55', '55', 0], ['55', '59', 33], ['55', '60', 37], ['56', '56', 0], ['56', '55', 39], ['56', '60', 42], ['57', '57', 0], ['57', '53', 18], ['57', '58', 36], ['58', '58', 0], ['58', '57', 36], ['58', '59', 41], ['59', '59', 0], ['59', '11', 17], ['59', '13', 22], ['60', '60', 0], ['60', '15', 39], ['60', '55', 37], ['61', '61', 0], ['61', '14', 16], ['61', '15', 43], ['62', '62', 0], ['62', '16', 40], ['62', '57', 64], ['63', '63', 0], ['63', '21', 30], ['63', '22', 53], ['64', '64', 0], ['64', '26', 40], ['64', '59', 46], ['65', '65', 0], ['65', '66', 19], ['65', '67', 48], ['66', '66', 0], ['66', '65', 19], ['66', '67', 12], ['67', '67', 0], ['67', '66', 12], ['67', '68', 11], ['68', '68', 0], ['68', '67', 11], ['68', '69', 13], ['69', '69', 0], ['69', '68', 13], ['69', '70', 10], ['70', '70', 0], ['70', '68', 41], ['70', '69', 10], ['71', '71', 0], ['71', '72', 16], ['71', '73', 13], ['72', '72', 0], ['72', '25', 30], ['72', '71', 16], ['73', '73', 0], ['73', '71', 13], ['73', '75', 22], ['74', '74', 0], ['74', '72', 37], ['74', '75', 13], ['75', '75', 0], ['75', '31', 18], ['75', '74', 13], ['76', '76', 0], ['76', '31', 14], ['76', '77', 61], ['77', '77', 0], ['77', '31', 6], ['77', '78', 28], ['78', '78', 0], ['78', '77', 28], ['78', '79', 14], ['79', '79', 0], ['79', '74', 208], ['79', '78', 14], ['80', '80', 0], ['80', '77', 127], ['80', '78', 81], ['81', '81', 0], ['81', '32', 167], ['81', '79', 301]]}, '0060308461': {'objects': ['0', '1', '2', '3', '4', '5', '6', '7', '8', '9', '10', '11', '12', '13', '14', '15', '16', '17', '18', '19', '20', '21', '22', '23', '24', '25', '26', '27', '28', '29', '30', '31', '32', '33', '34', '35', '36', '37', '38', '39', '40', '41', '42', '43', '44', '45', '46', '47', '48', '49', '50', '51', '52', '53', '54', '55', '56', '57', '58', '59', '60'], 'relationships': [['0', '0', 0], ['0', '56', 27], ['0', '59', 42], ['1', '1', 0], ['1', '5', 33], ['1', '29', 14], ['1', '57', 33], ['2', '2', 0], ['2', '4', 38], ['2', '29', 16], ['3', '3', 0], ['3', '52', 17], ['3', '53', 44], ['4', '4', 0], ['4', '2', 38], ['4', '53', 9], ['5', '5', 0], ['5', '0', 51], ['5', '1', 33], ['6', '6', 0], ['6', '7', 13], ['6', '27', 18], ['7', '7', 0], ['7', '6', 13], ['7', '30', 43], ['8', '8', 0], ['8', '9', 13], ['8', '10', 54], ['9', '9', 0], ['9', '8', 13], ['9', '10', 25], ['10', '10', 0], ['10', '9', 25], ['10', '11', 34], ['11', '11', 0], ['11', '10', 34], ['11', '13', 25], ['12', '12', 0], ['12', '13', 17], ['12', '14', 31], ['13', '13', 0], ['13', '11', 25], ['13', '12', 17], ['14', '14', 0], ['14', '12', 31], ['14', '15', 19], ['15', '15', 0], ['15', '14', 19], ['15', '16', 16], ['16', '16', 0], ['16', '15', 16], ['16', '17', 5], ['17', '17', 0], ['17', '16', 5], ['17', '18', 14], ['18', '18', 0], ['18', '17', 14], ['18', '19', 25], ['19', '19', 0], ['19', '18', 25], ['19', '20', 15], ['20', '20', 0], ['20', '18', 54], ['20', '19', 15], ['21', '21', 0], ['21', '20', 132], ['21', '51', 12], ['22', '22', 0], ['22', '3', 69], ['22', '23', 82], ['23', '23', 0], ['23', '24', 14], ['23', '25', 41], ['24', '24', 0], ['24', '23', 14], ['24', '25', 12], ['25', '25', 0], ['25', '24', 12], ['25', '26', 13], ['26', '26', 0], ['26', '25', 13], ['26', '27', 15], ['27', '27', 0], ['27', '26', 15], ['27', '28', 13], ['28', '28', 0], ['28', '27', 13], ['28', '30', 11], ['29', '29', 0], ['29', '1', 14], ['29', '2', 16], ['30', '30', 0], ['30', '28', 11], ['30', '31', 13], ['31', '31', 0], ['31', '30', 13], ['31', '32', 12], ['32', '32', 0], ['32', '31', 12], ['32', '33', 11], ['33', '33', 0], ['33', '32', 11], ['33', '34', 11], ['34', '34', 0], ['34', '33', 11], ['34', '35', 11], ['35', '35', 0], ['35', '33', 42], ['35', '34', 11], ['36', '36', 0], ['36', '8', 70], ['36', '60', 59], ['37', '37', 0], ['37', '38', 33], ['37', '39', 63], ['38', '38', 0], ['38', '37', 33], ['38', '39', 15], ['39', '39', 0], ['39', '38', 15], ['39', '40', 17], ['40', '40', 0], ['40', '39', 17], ['40', '41', 12], ['41', '41', 0], ['41', '40', 12], ['41', '42', 13], ['42', '42', 0], ['42', '41', 13], ['42', '43', 12], ['43', '43', 0], ['43', '42', 12], ['43', '44', 14], ['44', '44', 0], ['44', '43', 14], ['44', '45', 19], ['45', '45', 0], ['45', '44', 19], ['45', '46', 14], ['46', '46', 0], ['46', '45', 14], ['46', '47', 15], ['47', '47', 0], ['47', '46', 15], ['47', '48', 17], ['48', '48', 0], ['48', '47', 17], ['48', '49', 13], ['49', '49', 0], ['49', '48', 13], ['49', '50', 10], ['50', '50', 0], ['50', '49', 10], ['50', '51', 13], ['51', '51', 0], ['51', '21', 12], ['51', '50', 13], ['52', '52', 0], ['52', '3', 17], ['52', '53', 12], ['53', '53', 0], ['53', '4', 9], ['53', '52', 12], ['54', '54', 0], ['54', '55', 16], ['54', '56', 114], ['55', '55', 0], ['55', '54', 16], ['55', '56', 83], ['56', '56', 0], ['56', '0', 27], ['56', '55', 83], ['57', '57', 0], ['57', '1', 33], ['57', '29', 65], ['58', '58', 0], ['58', '7', 68], ['58', '32', 29], ['59', '59', 0], ['59', '0', 42], ['59', '60', 21], ['60', '60', 0], ['60', '34', 20], ['60', '59', 21]]}, '71366499': {'objects': ['0', '1', '2', '3', '4', '5', '6', '7', '8', '9', '10', '11', '12', '13', '14', '15', '16', '17', '18', '19', '20', '21', '22', '23', '24', '25', '26', '27', '28', '29', '30', '31', '32', '33'], 'relationships': [['0', '0', 0], ['0', '1', 19], ['0', '5', 13], ['1', '1', 0], ['1', '0', 19], ['1', '17', 9], ['2', '2', 0], ['2', '18', 13], ['2', '20', 17], ['3', '3', 0], ['3', '23', 3], ['3', '24', 32], ['4', '4', 0], ['4', '5', 23], ['4', '16', 13], ['5', '5', 0], ['5', '0', 13], ['5', '4', 23], ['6', '6', 0], ['6', '23', 49], ['6', '24', 9], ['7', '7', 0], ['7', '25', 27], ['7', '26', 23], ['8', '8', 0], ['8', '26', 92], ['8', '27', 23], ['9', '9', 0], ['9', '8', 93], ['9', '28', 14], ['10', '10', 0], ['10', '28', 76], ['10', '31', 86], ['11', '11', 0], ['11', '27', 82], ['11', '30', 87], ['12', '12', 0], ['12', '26', 90], ['12', '29', 39], ['13', '13', 0], ['13', '12', 109], ['13', '29', 102], ['14', '14', 0], ['14', '4', 59], ['14', '15', 33], ['15', '15', 0], ['15', '14', 33], ['15', '16', 15], ['16', '16', 0], ['16', '4', 13], ['16', '15', 15], ['17', '17', 0], ['17', '1', 9], ['17', '5', 41], ['18', '18', 0], ['18', '2', 13], ['18', '19', 43], ['19', '19', 0], ['19', '18', 43], ['19', '20', 7], ['20', '20', 0], ['20', '2', 17], ['20', '19', 7], ['21', '21', 0], ['21', '22', 6], ['21', '23', 34], ['22', '22', 0], ['22', '20', 31], ['22', '21', 6], ['23', '23', 0], ['23', '3', 3], ['23', '21', 34], ['24', '24', 0], ['24', '3', 32], ['24', '6', 9], ['24', '25', 32], ['25', '25', 0], ['25', '7', 27], ['25', '24', 32], ['26', '26', 0], ['26', '7', 23], ['26', '25', 50], ['27', '27', 0], ['27', '8', 23], ['27', '11', 82], ['28', '28', 0], ['28', '9', 14], ['28', '10', 76], ['29', '29', 0], ['29', '12', 39], ['29', '25', 101], ['29', '26', 101], ['30', '30', 0], ['30', '11', 87], ['30', '31', 65], ['31', '31', 0], ['31', '10', 86], ['31', '30', 65], ['32', '32', 0], ['32', '13', 348], ['32', '30', 332], ['33', '33', 0], ['33', '14', 188], ['33', '17', 281]]}, '0011906503': {'objects': ['0', '1', '2', '3', '4', '5', '6', '7', '8', '9', '10', '11', '12', '13', '14', '15', '16', '17', '18', '19', '20', '21', '22', '23', '24', '25', '26', '27', '28', '29', '30', '31', '32', '33', '34', '35', '36', '37', '38', '39', '40', '41', '42', '43', '44', '45', '46', '47', '48', '49', '50', '51', '52', '53', '54', '55', '56', '57', '58', '59', '60', '61', '62', '63', '64', '65', '66', '67', '68', '69', '70', '71', '72', '73', '74', '75', '76', '77', '78', '79', '80', '81', '82', '83', '84', '85'], 'relationships': [['0', '0', 0], ['0', '61', 136], ['0', '62', 130], ['1', '1', 0], ['1', '9', 81], ['1', '65', 68], ['2', '2', 0], ['2', '3', 22], ['2', '63', 23], ['3', '3', 0], ['3', '2', 22], ['3', '65', 33], ['4', '4', 0], ['4', '5', 4], ['4', '64', 14], ['5', '5', 0], ['5', '4', 4], ['5', '6', 2], ['6', '6', 0], ['6', '5', 2], ['6', '7', 1], ['7', '7', 0], ['7', '5', 17], ['7', '6', 1], ['8', '8', 0], ['8', '9', 27], ['8', '10', 15], ['9', '9', 0], ['9', '8', 27], ['9', '10', 2], ['10', '10', 0], ['10', '8', 15], ['10', '9', 2], ['11', '11', 0], ['11', '7', 40], ['11', '72', 25], ['12', '12', 0], ['12', '13', 5], ['12', '26', 8], ['13', '13', 0], ['13', '12', 5], ['13', '73', 5], ['14', '14', 0], ['14', '27', 25], ['14', '74', 18], ['15', '15', 0], ['15', '14', 32], ['15', '16', 23], ['16', '16', 0], ['16', '15', 23], ['16', '29', 26], ['17', '17', 0], ['17', '18', 30], ['17', '31', 18], ['18', '18', 0], ['18', '17', 30], ['18', '31', 10], ['19', '19', 0], ['19', '18', 32], ['19', '30', 7], ['20', '20', 0], ['20', '21', 31], ['20', '25', 23], ['21', '21', 0], ['21', '20', 31], ['21', '25', 5], ['22', '22', 0], ['22', '23', 35], ['22', '33', 27], ['23', '23', 0], ['23', '22', 35], ['23', '33', 10], ['24', '24', 0], ['24', '23', 37], ['24', '32', 5], ['25', '25', 0], ['25', '20', 23], ['25', '21', 5], ['26', '26', 0], ['26', '12', 8], ['26', '72', 10], ['27', '27', 0], ['27', '14', 25], ['27', '17', 34], ['28', '28', 0], ['28', '15', 40], ['28', '31', 33], ['29', '29', 0], ['29', '16', 26], ['29', '30', 37], ['30', '30', 0], ['30', '19', 7], ['30', '29', 37], ['31', '31', 0], ['31', '17', 18], ['31', '18', 10], ['32', '32', 0], ['32', '24', 5], ['32', '33', 35], ['33', '33', 0], ['33', '22', 27], ['33', '23', 10], ['34', '34', 0], ['34', '35', 15], ['34', '79', 43], ['35', '35', 0], ['35', '34', 15], ['35', '79', 43], ['36', '36', 0], ['36', '37', 4], ['36', '80', 26], ['37', '37', 0], ['37', '36', 4], ['37', '80', 40], ['38', '38', 0], ['38', '39', 6], ['38', '80', 6], ['39', '39', 0], ['39', '38', 6], ['39', '40', 12], ['40', '40', 0], ['40', '38', 25], ['40', '39', 12], ['41', '41', 0], ['41', '42', 27], ['41', '49', 41], ['42', '42', 0], ['42', '41', 27], ['42', '43', 11], ['43', '43', 0], ['43', '42', 11], ['43', '44', 30], ['44', '44', 0], ['44', '43', 30], ['44', '45', 15], ['45', '45', 0], ['45', '44', 15], ['45', '50', 30], ['46', '46', 0], ['46', '47', 30], ['46', '51', 1], ['47', '47', 0], ['47', '46', 30], ['47', '55', 45], ['48', '48', 0], ['48', '49', 11], ['48', '83', 62], ['49', '49', 0], ['49', '41', 41], ['49', '48', 11], ['50', '50', 0], ['50', '45', 30], ['50', '51', 12], ['51', '51', 0], ['51', '46', 1], ['51', '50', 12], ['52', '52', 0], ['52', '54', 28], ['52', '55', 26], ['53', '53', 0], ['53', '52', 95], ['53', '54', 20], ['54', '54', 0], ['54', '52', 28], ['54', '53', 20], ['55', '55', 0], ['55', '52', 26], ['55', '56', 12], ['56', '56', 0], ['56', '55', 12], ['56', '57', 18], ['57', '57', 0], ['57', '56', 18], ['57', '58', 16], ['58', '58', 0], ['58', '57', 16], ['58', '85', 11], ['59', '59', 0], ['59', '58', 105], ['59', '82', 103], ['60', '60', 0], ['60', '2', 88], ['60', '63', 75], ['61', '61', 0], ['61', '1', 119], ['61', '60', 127], ['62', '62', 0], ['62', '0', 130], ['62', '71', 130], ['63', '63', 0], ['63', '2', 23], ['63', '64', 44], ['64', '64', 0], ['64', '4', 14], ['64', '5', 29], ['65', '65', 0], ['65', '66', 17], ['65', '67', 14], ['66', '66', 0], ['66', '67', 16], ['66', '68', 11], ['67', '67', 0], ['67', '65', 14], ['67', '68', 3], ['68', '68', 0], ['68', '66', 11], ['68', '67', 3], ['69', '69', 0], ['69', '70', 16], ['69', '71', 25], ['70', '70', 0], ['70', '69', 16], ['70', '71', 26], ['71', '71', 0], ['71', '69', 25], ['71', '70', 26], ['72', '72', 0], ['72', '11', 25], ['72', '26', 10], ['73', '73', 0], ['73', '12', 24], ['73', '13', 5], ['74', '74', 0], ['74', '14', 18], ['74', '28', 51], ['75', '75', 0], ['75', '20', 48], ['75', '72', 48], ['75', '76', 46], ['76', '76', 0], ['76', '75', 46], ['76', '77', 34], ['77', '77', 0], ['77', '36', 93], ['77', '76', 34], ['78', '78', 0], ['78', '38', 115], ['78', '50', 135], ['79', '79', 0], ['79', '34', 43], ['79', '35', 43], ['80', '80', 0], ['80', '38', 6], ['80', '39', 22], ['81', '81', 0], ['81', '43', 40], ['81', '44', 40], ['82', '82', 0], ['82', '58', 68], ['82', '85', 46], ['83', '83', 0], ['83', '48', 62], ['83', '84', 23], ['84', '84', 0], ['84', '48', 99], ['84', '83', 23], ['85', '85', 0], ['85', '57', 38], ['85', '58', 11]]}, '0060308251': {'objects': ['0', '1', '2', '3', '4', '5', '6', '7', '8', '9', '10', '11', '12', '13', '14', '15', '16', '17', '18'], 'relationships': [['0', '0', 0], ['0', '9', 51], ['0', '14', 142], ['1', '1', 0], ['1', '6', 46], ['1', '7', 30], ['2', '2', 0], ['2', '12', 31], ['2', '13', 37], ['3', '3', 0], ['3', '14', 34], ['3', '15', 54], ['4', '4', 0], ['4', '5', 173], ['4', '18', 13], ['5', '5', 0], ['5', '12', 41], ['5', '17', 120], ['6', '6', 0], ['6', '7', 31], ['6', '14', 39], ['7', '7', 0], ['7', '1', 30], ['7', '6', 31], ['8', '8', 0], ['8', '2', 199], ['8', '10', 170], ['9', '9', 0], ['9', '0', 51], ['9', '3', 118], ['10', '10', 0], ['10', '11', 45], ['10', '13', 93], ['11', '11', 0], ['11', '10', 45], ['11', '12', 68], ['12', '12', 0], ['12', '2', 31], ['12', '5', 41], ['13', '13', 0], ['13', '2', 37], ['13', '17', 38], ['14', '14', 0], ['14', '3', 34], ['14', '6', 39], ['15', '15', 0], ['15', '3', 54], ['15', '16', 40], ['16', '16', 0], ['16', '6', 125], ['16', '15', 40], ['17', '17', 0], ['17', '1', 78], ['17', '13', 38], ['18', '18', 0], ['18', '4', 13], ['18', '5', 181]]}, '0060091229': {'objects': ['0', '1', '2', '3', '4', '5', '6', '7', '8', '9', '10', '11', '12', '13', '14', '15', '16'], 'relationships': [['0', '0', 0], ['0', '15', 2], ['0', '16', 11], ['1', '1', 0], ['1', '2', 126], ['1', '3', 232], ['2', '2', 0], ['2', '1', 126], ['2', '4', 179], ['3', '3', 0], ['3', '4', 22], ['3', '5', 63], ['4', '4', 0], ['4', '3', 22], ['4', '5', 32], ['5', '5', 0], ['5', '4', 32], ['5', '6', 31], ['6', '6', 0], ['6', '5', 31], ['6', '7', 30], ['7', '7', 0], ['7', '6', 30], ['7', '8', 31], ['8', '8', 0], ['8', '7', 31], ['8', '9', 31], ['9', '9', 0], ['9', '8', 31], ['9', '10', 29], ['10', '10', 0], ['10', '9', 29], ['10', '11', 30], ['11', '11', 0], ['11', '10', 30], ['11', '12', 28], ['12', '12', 0], ['12', '11', 28], ['12', '13', 40], ['13', '13', 0], ['13', '12', 40], ['13', '14', 63], ['14', '14', 0], ['14', '0', 61], ['14', '15', 21], ['15', '15', 0], ['15', '0', 2], ['15', '14', 21], ['16', '16', 0], ['16', '0', 11], ['16', '15', 135]]}, '92298125': {'objects': ['0', '1', '2', '3', '4', '5', '6', '7', '8', '9', '10', '11', '12', '13', '14', '15', '16', '17', '18', '19'], 'relationships': [['0', '0', 0], ['0', '1', 15], ['0', '2', 48], ['1', '1', 0], ['1', '0', 15], ['1', '2', 16], ['2', '2', 0], ['2', '1', 16], ['2', '4', 18], ['3', '3', 0], ['3', '2', 51], ['3', '4', 15], ['4', '4', 0], ['4', '2', 18], ['4', '3', 15], ['5', '5', 0], ['5', '18', 599], ['5', '19', 134], ['6', '6', 0], ['6', '0', 132], ['6', '8', 30], ['7', '7', 0], ['7', '9', 197], ['7', '10', 134], ['8', '8', 0], ['8', '0', 99], ['8', '6', 30], ['9', '9', 0], ['9', '10', 50], ['9', '11', 54], ['10', '10', 0], ['10', '7', 134], ['10', '9', 50], ['11', '11', 0], ['11', '12', 15], ['11', '13', 49], ['12', '12', 0], ['12', '11', 15], ['12', '13', 16], ['13', '13', 0], ['13', '2', 45], ['13', '12', 16], ['14', '14', 0], ['14', '12', 99], ['14', '13', 66], ['15', '15', 0], ['15', '4', 71], ['15', '13', 55], ['16', '16', 0], ['16', '3', 60], ['16', '17', 10], ['17', '17', 0], ['17', '16', 10], ['17', '18', 15], ['18', '18', 0], ['18', '16', 81], ['18', '17', 15], ['19', '19', 0], ['19', '5', 134], ['19', '18', 375]]}, '0000989556': {'objects': ['0', '1', '2', '3', '4', '5', '6', '7', '8', '9', '10', '11', '12', '13', '14', '15', '16', '17', '18', '19', '20', '21', '22', '23', '24', '25', '26', '27', '28', '29', '30', '31', '32', '33', '34', '35', '36', '37', '38', '39', '40', '41', '42', '43', '44', '45', '46', '47', '48', '49', '50', '51', '52', '53', '54', '55', '56', '57', '58', '59', '60', '61', '62', '63', '64', '65', '66', '67', '68', '69', '70', '71', '72', '73', '74', '75', '76', '77', '78', '79', '80', '81', '82', '83', '84', '85', '86', '87', '88', '89', '90', '91', '92', '93', '94', '95', '96', '97', '98', '99'], 'relationships': [['0', '0', 0], ['0', '1', 5], ['0', '39', 18], ['1', '1', 0], ['1', '0', 5], ['1', '39', 5], ['2', '2', 0], ['2', '0', 29], ['2', '36', 4], ['3', '3', 0], ['3', '4', 4], ['3', '37', 11], ['4', '4', 0], ['4', '3', 4], ['4', '5', 2], ['5', '5', 0], ['5', '4', 2], ['5', '38', 3], ['6', '6', 0], ['6', '4', 14], ['6', '37', 15], ['7', '7', 0], ['7', '6', 72], ['7', '38', 14], ['8', '8', 0], ['8', '54', 37], ['8', '66', 13], ['9', '9', 0], ['9', '85', 1], ['9', '86', 15], ['10', '10', 0], ['10', '73', 5], ['10', '74', 5], ['11', '11', 0], ['11', '74', 12], ['11', '76', 3], ['12', '12', 0], ['12', '76', 3], ['12', '77', 4], ['13', '13', 0], ['13', '79', 14], ['13', '80', 1], ['14', '14', 0], ['14', '15', 2], ['14', '75', 28], ['15', '15', 0], ['15', '14', 2], ['15', '75', 15], ['16', '16', 0], ['16', '75', 24], ['16', '82', 30], ['17', '17', 0], ['17', '19', 21], ['17', '89', 33], ['18', '18', 0], ['18', '86', 2], ['18', '88', 11], ['19', '19', 0], ['19', '89', 5], ['19', '90', 17], ['20', '20', 0], ['20', '25', 36], ['20', '26', 18], ['21', '21', 0], ['21', '22', 5], ['21', '90', 2], ['22', '22', 0], ['22', '21', 5], ['22', '90', 17], ['23', '23', 0], ['23', '85', 20], ['23', '87', 25], ['24', '24', 0], ['24', '20', 46], ['24', '89', 48], ['25', '25', 0], ['25', '90', 14], ['25', '92', 19], ['26', '26', 0], ['26', '19', 20], ['26', '20', 18], ['27', '27', 0], ['27', '93', 17], ['27', '96', 17], ['28', '28', 0], ['28', '96', 57], ['28', '99', 77], ['29', '29', 0], ['29', '95', 184], ['29', '99', 91], ['30', '30', 0], ['30', '31', 16], ['30', '98', 34], ['31', '31', 0], ['31', '30', 16], ['31', '32', 16], ['32', '32', 0], ['32', '30', 42], ['32', '31', 16], ['33', '33', 0], ['33', '31', 28], ['33', '98', 39], ['34', '34', 0], ['34', '35', 42], ['34', '37', 105], ['35', '35', 0], ['35', '2', 95], ['35', '34', 42], ['36', '36', 0], ['36', '1', 26], ['36', '2', 4], ['37', '37', 0], ['37', '3', 11], ['37', '6', 15], ['38', '38', 0], ['38', '5', 3], ['38', '7', 14], ['39', '39', 0], ['39', '0', 18], ['39', '1', 5], ['40', '40', 0], ['40', '41', 15], ['40', '42', 41], ['41', '41', 0], ['41', '40', 15], ['41', '42', 13], ['42', '42', 0], ['42', '41', 13], ['42', '43', 15], ['43', '43', 0], ['43', '42', 15], ['43', '44', 4], ['43', '45', 15], ['44', '44', 0], ['44', '43', 4], ['44', '45', 11], ['45', '45', 0], ['45', '43', 15], ['45', '44', 11], ['46', '46', 0], ['46', '44', 15], ['46', '47', 4], ['46', '48', 15], ['47', '47', 0], ['47', '46', 4], ['47', '48', 3], ['48', '48', 0], ['48', '47', 3], ['48', '49', 2], ['49', '49', 0], ['49', '48', 2], ['49', '50', 9], ['50', '50', 0], ['50', '49', 9], ['50', '51', 9], ['51', '51', 0], ['51', '50', 9], ['51', '52', 5], ['52', '52', 0], ['52', '51', 5], ['52', '53', 4], ['53', '53', 0], ['53', '52', 4], ['53', '72', 16], ['54', '54', 0], ['54', '55', 15], ['54', '66', 15], ['55', '55', 0], ['55', '54', 15], ['55', '56', 5], ['55', '57', 15], ['56', '56', 0], ['56', '55', 5], ['56', '57', 3], ['57', '57', 0], ['57', '56', 3], ['57', '58', 3], ['58', '58', 0], ['58', '57', 3], ['58', '59', 6], ['59', '59', 0], ['59', '58', 6], ['59', '60', 8], ['60', '60', 0], ['60', '59', 8], ['60', '61', 7], ['61', '61', 0], ['61', '60', 7], ['61', '62', 10], ['62', '62', 0], ['62', '61', 10], ['62', '63', 2], ['63', '63', 0], ['63', '62', 2], ['63', '64', 8], ['64', '64', 0], ['64', '63', 8], ['64', '65', 16], ['65', '65', 0], ['65', '63', 16], ['65', '64', 16], ['66', '66', 0], ['66', '8', 13], ['66', '54', 15], ['67', '67', 0], ['67', '66', 39], ['67', '68', 20], ['68', '68', 0], ['68', '67', 20], ['68', '69', 14], ['69', '69', 0], ['69', '68', 14], ['69', '70', 3], ['70', '70', 0], ['70', '58', 9], ['70', '69', 3], ['71', '71', 0], ['71', '56', 9], ['71', '70', 12], ['72', '72', 0], ['72', '53', 16], ['72', '73', 15], ['73', '73', 0], ['73', '10', 5], ['73', '72', 15], ['74', '74', 0], ['74', '10', 5], ['74', '11', 12], ['75', '75', 0], ['75', '15', 15], ['75', '74', 21], ['76', '76', 0], ['76', '11', 3], ['76', '12', 3], ['77', '77', 0], ['77', '12', 4], ['77', '79', 5], ['78', '78', 0], ['78', '77', 19], ['78', '82', 28], ['79', '79', 0], ['79', '77', 5], ['79', '80', 1], ['80', '80', 0], ['80', '13', 1], ['80', '79', 1], ['81', '81', 0], ['81', '22', 20], ['81', '82', 20], ['81', '83', 18], ['82', '82', 0], ['82', '83', 2], ['82', '90', 12], ['83', '83', 0], ['83', '81', 18], ['83', '82', 2], ['84', '84', 0], ['84', '13', 17], ['84', '80', 30], ['85', '85', 0], ['85', '9', 1], ['85', '18', 13], ['86', '86', 0], ['86', '18', 2], ['86', '87', 6], ['87', '87', 0], ['87', '23', 25], ['87', '86', 6], ['88', '88', 0], ['88', '18', 11], ['88', '86', 43], ['89', '89', 0], ['89', '18', 19], ['89', '19', 5], ['90', '90', 0], ['90', '21', 2], ['90', '82', 12], ['91', '91', 0], ['91', '25', 34], ['91', '92', 3], ['92', '92', 0], ['92', '25', 19], ['92', '91', 3], ['93', '93', 0], ['93', '27', 17], ['93', '94', 31], ['94', '94', 0], ['94', '93', 31], ['94', '95', 12], ['95', '95', 0], ['95', '93', 55], ['95', '94', 12], ['96', '96', 0], ['96', '27', 17], ['96', '97', 16], ['97', '97', 0], ['97', '96', 16], ['97', '99', 35], ['98', '98', 0], ['98', '30', 34], ['98', '31', 32], ['99', '99', 0], ['99', '28', 77], ['99', '97', 35]]}, '0012947358': {'objects': ['0', '1', '2', '3', '4', '5', '6', '7', '8', '9', '10', '11', '12', '13', '14', '15', '16', '17', '18', '19', '20', '21', '22', '23', '24', '25', '26', '27', '28', '29', '30', '31', '32', '33', '34', '35', '36', '37', '38', '39', '40', '41', '42', '43', '44', '45', '46', '47', '48', '49', '50', '51', '52', '53', '54', '55', '56', '57', '58', '59', '60', '61', '62', '63', '64', '65', '66', '67', '68', '69', '70', '71', '72', '73', '74', '75', '76', '77', '78', '79', '80', '81', '82'], 'relationships': [['0', '0', 0], ['0', '16', 6], ['0', '55', 24], ['1', '1', 0], ['1', '43', 23], ['1', '44', 38], ['2', '2', 0], ['2', '3', 31], ['2', '45', 25], ['3', '3', 0], ['3', '2', 31], ['3', '46', 27], ['4', '4', 0], ['4', '30', 37], ['4', '48', 20], ['5', '5', 0], ['5', '18', 15], ['5', '49', 3], ['6', '6', 0], ['6', '0', 27], ['6', '56', 8], ['7', '7', 0], ['7', '6', 34], ['7', '58', 21], ['7', '60', 34], ['8', '8', 0], ['8', '17', 41], ['8', '54', 41], ['8', '56', 8], ['9', '9', 0], ['9', '10', 3], ['9', '40', 3], ['10', '10', 0], ['10', '9', 3], ['10', '63', 18], ['11', '11', 0], ['11', '39', 5], ['11', '65', 14], ['12', '12', 0], ['12', '33', 2], ['12', '72', 43], ['13', '13', 0], ['13', '14', 17], ['13', '78', 8], ['14', '14', 0], ['14', '13', 17], ['14', '79', 20], ['15', '15', 0], ['15', '42', 43], ['15', '51', 18], ['16', '16', 0], ['16', '53', 2], ['16', '55', 5], ['17', '17', 0], ['17', '8', 41], ['17', '56', 70], ['18', '18', 0], ['18', '49', 1], ['18', '50', 3], ['19', '19', 0], ['19', '47', 16], ['19', '48', 24], ['20', '20', 0], ['20', '18', 36], ['20', '50', 22], ['21', '21', 0], ['21', '44', 16], ['21', '45', 23], ['22', '22', 0], ['22', '21', 49], ['22', '23', 3], ['23', '23', 0], ['23', '22', 3], ['23', '24', 42], ['24', '24', 0], ['24', '23', 42], ['24', '27', 33], ['25', '25', 0], ['25', '26', 11], ['25', '27', 8], ['26', '26', 0], ['26', '25', 11], ['26', '27', 8], ['27', '27', 0], ['27', '25', 8], ['27', '26', 8], ['28', '28', 0], ['28', '29', 28], ['28', '57', 21], ['28', '60', 28], ['29', '29', 0], ['29', '28', 28], ['29', '57', 20], ['30', '30', 0], ['30', '18', 27], ['30', '48', 34], ['31', '31', 0], ['31', '74', 113], ['31', '77', 60], ['32', '32', 0], ['32', '80', 93], ['32', '81', 35], ['33', '33', 0], ['33', '12', 2], ['33', '34', 41], ['34', '34', 0], ['34', '35', 17], ['34', '72', 4], ['35', '35', 0], ['35', '34', 17], ['35', '36', 17], ['35', '71', 6], ['36', '36', 0], ['36', '35', 17], ['36', '70', 4], ['37', '37', 0], ['37', '67', 15], ['37', '68', 2], ['38', '38', 0], ['38', '65', 4], ['38', '67', 12], ['39', '39', 0], ['39', '11', 5], ['39', '38', 15], ['40', '40', 0], ['40', '9', 3], ['40', '39', 17], ['41', '41', 0], ['41', '40', 30], ['41', '61', 4], ['42', '42', 0], ['42', '15', 43], ['42', '51', 73], ['43', '43', 0], ['43', '1', 23], ['43', '44', 27], ['44', '44', 0], ['44', '21', 16], ['44', '45', 13], ['45', '45', 0], ['45', '44', 13], ['45', '46', 15], ['46', '46', 0], ['46', '45', 15], ['46', '47', 14], ['47', '47', 0], ['47', '19', 16], ['47', '46', 14], ['48', '48', 0], ['48', '4', 20], ['48', '47', 23], ['49', '49', 0], ['49', '5', 3], ['49', '18', 1], ['50', '50', 0], ['50', '18', 3], ['50', '20', 22], ['51', '51', 0], ['51', '15', 18], ['51', '16', 47], ['52', '52', 0], ['52', '53', 79], ['52', '54', 57], ['53', '53', 0], ['53', '16', 2], ['53', '54', 4], ['54', '54', 0], ['54', '8', 41], ['54', '53', 4], ['55', '55', 0], ['55', '16', 5], ['55', '56', 12], ['56', '56', 0], ['56', '6', 8], ['56', '8', 8], ['57', '57', 0], ['57', '28', 21], ['57', '29', 20], ['58', '58', 0], ['58', '7', 21], ['58', '60', 24], ['59', '59', 0], ['59', '8', 52], ['59', '56', 75], ['60', '60', 0], ['60', '58', 24], ['60', '61', 22], ['61', '61', 0], ['61', '41', 4], ['61', '62', 17], ['62', '62', 0], ['62', '10', 28], ['62', '61', 17], ['63', '63', 0], ['63', '10', 18], ['63', '66', 47], ['64', '64', 0], ['64', '10', 22], ['64', '11', 25], ['65', '65', 0], ['65', '38', 4], ['65', '67', 12], ['66', '66', 0], ['66', '63', 47], ['66', '65', 21], ['67', '67', 0], ['67', '38', 12], ['67', '65', 12], ['68', '68', 0], ['68', '37', 2], ['68', '67', 18], ['69', '69', 0], ['69', '68', 26], ['69', '74', 21], ['70', '70', 0], ['70', '36', 4], ['70', '71', 16], ['71', '71', 0], ['71', '35', 6], ['71', '70', 16], ['71', '72', 16], ['72', '72', 0], ['72', '34', 4], ['72', '71', 16], ['73', '73', 0], ['73', '74', 37], ['73', '75', 14], ['74', '74', 0], ['74', '69', 21], ['74', '75', 4], ['75', '75', 0], ['75', '73', 14], ['75', '74', 4], ['76', '76', 0], ['76', '13', 22], ['76', '77', 27], ['77', '77', 0], ['77', '31', 60], ['77', '76', 27], ['78', '78', 0], ['78', '13', 8], ['78', '79', 1], ['79', '79', 0], ['79', '78', 1], ['79', '80', 7], ['80', '80', 0], ['80', '14', 51], ['80', '79', 7], ['81', '81', 0], ['81', '32', 35], ['81', '80', 132], ['82', '82', 0], ['82', '13', 50], ['82', '76', 72]]}, '71190280': {'objects': ['0', '1', '2', '3', '4', '5', '6', '7', '8', '9', '10', '11', '12', '13', '14', '15', '16', '17', '18', '19', '20', '21', '22', '23', '24', '25', '26', '27', '28', '29', '30', '31', '32', '33', '34', '35', '36', '37'], 'relationships': [['0', '0', 0], ['0', '30', 35], ['0', '31', 20], ['1', '1', 0], ['1', '2', 123], ['1', '32', 22], ['2', '2', 0], ['2', '32', 94], ['2', '33', 14], ['3', '3', 0], ['3', '4', 120], ['3', '33', 100], ['4', '4', 0], ['4', '32', 101], ['4', '35', 117], ['5', '5', 0], ['5', '11', 88], ['5', '34', 38], ['6', '6', 0], ['6', '7', 48], ['6', '30', 45], ['7', '7', 0], ['7', '6', 48], ['7', '27', 42], ['8', '8', 0], ['8', '13', 20], ['8', '26', 25], ['9', '9', 0], ['9', '24', 88], ['9', '29', 93], ['10', '10', 0], ['10', '28', 40], ['10', '30', 65], ['11', '11', 0], ['11', '5', 88], ['11', '34', 41], ['12', '12', 0], ['12', '25', 43], ['12', '28', 44], ['13', '13', 0], ['13', '8', 20], ['13', '25', 43], ['14', '14', 0], ['14', '9', 140], ['14', '29', 107], ['15', '15', 0], ['15', '5', 149], ['15', '34', 146], ['16', '16', 0], ['16', '19', 22], ['16', '23', 15], ['17', '17', 0], ['17', '16', 26], ['17', '24', 18], ['18', '18', 0], ['18', '19', 13], ['18', '23', 28], ['19', '19', 0], ['19', '16', 22], ['19', '18', 13], ['20', '20', 0], ['20', '16', 58], ['20', '19', 23], ['21', '21', 0], ['21', '9', 198], ['21', '22', 55], ['22', '22', 0], ['22', '9', 195], ['22', '21', 55], ['23', '23', 0], ['23', '16', 15], ['23', '18', 28], ['24', '24', 0], ['24', '17', 18], ['24', '23', 38], ['25', '25', 0], ['25', '12', 43], ['25', '13', 43], ['25', '26', 11], ['26', '26', 0], ['26', '8', 25], ['26', '25', 11], ['27', '27', 0], ['27', '7', 42], ['27', '26', 46], ['28', '28', 0], ['28', '10', 40], ['28', '12', 44], ['29', '29', 0], ['29', '9', 93], ['29', '14', 107], ['30', '30', 0], ['30', '0', 35], ['30', '6', 45], ['31', '31', 0], ['31', '0', 20], ['31', '30', 55], ['32', '32', 0], ['32', '1', 22], ['32', '33', 88], ['33', '33', 0], ['33', '2', 14], ['33', '32', 88], ['34', '34', 0], ['34', '5', 38], ['34', '11', 41], ['35', '35', 0], ['35', '4', 117], ['35', '36', 86], ['36', '36', 0], ['36', '3', 123], ['36', '35', 86], ['37', '37', 0], ['37', '15', 181], ['37', '35', 234]]}, '71206427': {'objects': ['0', '1', '2', '3', '4', '5', '6', '7', '8', '9', '10', '11', '12', '13', '14', '15', '16', '17', '18', '19', '20', '21', '22', '23', '24', '25', '26', '27', '28', '29', '30'], 'relationships': [['0', '0', 0], ['0', '14', 45], ['0', '15', 19], ['1', '1', 0], ['1', '2', 12], ['1', '13', 46], ['2', '2', 0], ['2', '1', 12], ['2', '14', 19], ['3', '3', 0], ['3', '2', 29], ['3', '4', 8], ['4', '4', 0], ['4', '3', 8], ['4', '5', 8], ['5', '5', 0], ['5', '4', 8], ['5', '7', 17], ['6', '6', 0], ['6', '0', 50], ['6', '7', 7], ['7', '7', 0], ['7', '5', 17], ['7', '6', 7], ['8', '8', 0], ['8', '21', 27], ['8', '22', 15], ['9', '9', 0], ['9', '24', 24], ['9', '25', 66], ['10', '10', 0], ['10', '27', 82], ['10', '28', 43], ['11', '11', 0], ['11', '15', 125], ['11', '16', 104], ['12', '12', 0], ['12', '13', 74], ['12', '15', 86], ['13', '13', 0], ['13', '1', 46], ['13', '14', 30], ['14', '14', 0], ['14', '2', 19], ['14', '4', 15], ['15', '15', 0], ['15', '0', 19], ['15', '12', 86], ['16', '16', 0], ['16', '11', 104], ['16', '15', 141], ['17', '17', 0], ['17', '18', 10], ['17', '19', 39], ['18', '18', 0], ['18', '17', 10], ['18', '19', 12], ['19', '19', 0], ['19', '18', 12], ['19', '20', 12], ['20', '20', 0], ['20', '19', 12], ['20', '21', 8], ['21', '21', 0], ['21', '8', 27], ['21', '20', 8], ['22', '22', 0], ['22', '8', 15], ['22', '23', 9], ['23', '23', 0], ['23', '8', 43], ['23', '22', 9], ['24', '24', 0], ['24', '9', 24], ['24', '25', 25], ['25', '25', 0], ['25', '24', 25], ['25', '26', 27], ['26', '26', 0], ['26', '25', 27], ['26', '27', 27], ['27', '27', 0], ['27', '26', 27], ['27', '28', 28], ['28', '28', 0], ['28', '27', 28], ['28', '29', 19], ['29', '29', 0], ['29', '10', 84], ['29', '28', 19], ['30', '30', 0], ['30', '10', 212], ['30', '28', 265]]}, '0001123541': {'objects': ['0', '1', '2', '3', '4', '5', '6', '7', '8', '9', '10', '11', '12', '13', '14', '15', '16', '17', '18', '19', '20', '21', '22', '23', '24', '25', '26', '27', '28', '29', '30', '31', '32', '33', '34', '35', '36', '37', '38', '39'], 'relationships': [['0', '0', 0], ['0', '13', 6], ['0', '17', 16], ['1', '1', 0], ['1', '14', 28], ['1', '15', 12], ['2', '2', 0], ['2', '20', 3], ['2', '21', 14], ['3', '3', 0], ['3', '2', 20], ['3', '12', 48], ['4', '4', 0], ['4', '0', 78], ['4', '9', 42], ['5', '5', 0], ['5', '9', 35], ['5', '10', 88], ['6', '6', 0], ['6', '34', 19], ['6', '35', 77], ['7', '7', 0], ['7', '35', 99], ['7', '36', 18], ['8', '8', 0], ['8', '7', 233], ['8', '38', 210], ['9', '9', 0], ['9', '4', 42], ['9', '5', 35], ['10', '10', 0], ['10', '1', 76], ['10', '9', 53], ['11', '11', 0], ['11', '1', 50], ['11', '14', 48], ['12', '12', 0], ['12', '3', 48], ['12', '23', 54], ['13', '13', 0], ['13', '0', 6], ['13', '16', 55], ['14', '14', 0], ['14', '1', 28], ['14', '11', 48], ['15', '15', 0], ['15', '1', 12], ['15', '16', 15], ['16', '16', 0], ['16', '15', 15], ['16', '18', 28], ['17', '17', 0], ['17', '0', 16], ['17', '18', 16], ['18', '18', 0], ['18', '16', 28], ['18', '17', 16], ['19', '19', 0], ['19', '2', 16], ['19', '20', 2], ['20', '20', 0], ['20', '2', 3], ['20', '19', 2], ['21', '21', 0], ['21', '2', 14], ['21', '22', 2], ['22', '22', 0], ['22', '2', 15], ['22', '21', 2], ['23', '23', 0], ['23', '19', 29], ['23', '24', 27], ['24', '24', 0], ['24', '19', 24], ['24', '20', 15], ['25', '25', 0], ['25', '18', 44], ['25', '26', 32], ['26', '26', 0], ['26', '25', 32], ['26', '27', 67], ['27', '27', 0], ['27', '28', 30], ['27', '29', 57], ['28', '28', 0], ['28', '27', 30], ['28', '29', 10], ['28', '30', 30], ['29', '29', 0], ['29', '28', 10], ['29', '30', 4], ['30', '30', 0], ['30', '28', 30], ['30', '29', 4], ['31', '31', 0], ['31', '32', 7], ['31', '33', 42], ['32', '32', 0], ['32', '31', 7], ['32', '34', 96], ['33', '33', 0], ['33', '30', 67], ['33', '31', 42], ['34', '34', 0], ['34', '6', 19], ['34', '35', 16], ['35', '35', 0], ['35', '34', 16], ['35', '36', 14], ['36', '36', 0], ['36', '7', 18], ['36', '35', 14], ['37', '37', 0], ['37', '38', 198], ['37', '39', 43], ['38', '38', 0], ['38', '37', 198], ['38', '39', 6], ['39', '39', 0], ['39', '37', 43], ['39', '38', 6]]}, '89386032': {'objects': ['0', '1', '2', '3', '4', '5', '6', '7', '8', '9', '10', '11', '12', '13', '14', '15', '16', '17'], 'relationships': [['0', '0', 0], ['0', '6', 56], ['0', '8', 152], ['1', '1', 0], ['1', '11', 15], ['1', '15', 19], ['2', '2', 0], ['2', '4', 141], ['2', '13', 51], ['3', '3', 0], ['3', '4', 34], ['3', '13', 152], ['4', '4', 0], ['4', '3', 34], ['4', '13', 136], ['5', '5', 0], ['5', '16', 354], ['5', '17', 219], ['6', '6', 0], ['6', '0', 56], ['6', '8', 127], ['7', '7', 0], ['7', '12', 120], ['7', '13', 143], ['8', '8', 0], ['8', '9', 27], ['8', '12', 12], ['9', '9', 0], ['9', '8', 27], ['9', '14', 5], ['10', '10', 0], ['10', '9', 28], ['10', '11', 32], ['11', '11', 0], ['11', '1', 15], ['11', '10', 32], ['12', '12', 0], ['12', '8', 12], ['12', '13', 8], ['13', '13', 0], ['13', '2', 51], ['13', '12', 8], ['14', '14', 0], ['14', '9', 5], ['14', '15', 11], ['15', '15', 0], ['15', '1', 19], ['15', '14', 11], ['16', '16', 0], ['16', '10', 129], ['16', '11', 82], ['17', '17', 0], ['17', '3', 285], ['17', '5', 219]]}, '0001209043': {'objects': ['0', '1', '2', '3', '4', '5', '6', '7', '8', '9', '10', '11', '12', '13', '14', '15', '16', '17', '18', '19', '20', '21', '22', '23', '24', '25', '26', '27', '28', '29', '30', '31', '32', '33', '34', '35', '36', '37', '38', '39', '40', '41', '42', '43', '44', '45', '46', '47', '48', '49', '50', '51', '52', '53', '54', '55', '56', '57', '58', '59', '60', '61', '62', '63', '64', '65', '66', '67', '68', '69', '70', '71'], 'relationships': [['0', '0', 0], ['0', '1', 10], ['0', '51', 38], ['1', '1', 0], ['1', '0', 10], ['1', '51', 10], ['2', '2', 0], ['2', '3', 15], ['2', '51', 8], ['3', '3', 0], ['3', '2', 15], ['3', '53', 14], ['4', '4', 0], ['4', '53', 13], ['4', '55', 29], ['5', '5', 0], ['5', '47', 96], ['5', '48', 70], ['6', '6', 0], ['6', '7', 25], ['6', '58', 40], ['7', '7', 0], ['7', '6', 25], ['7', '11', 45], ['8', '8', 0], ['8', '9', 22], ['8', '59', 24], ['9', '9', 0], ['9', '8', 22], ['9', '22', 51], ['10', '10', 0], ['10', '58', 97], ['10', '59', 108], ['11', '11', 0], ['11', '7', 45], ['11', '58', 19], ['12', '12', 0], ['12', '13', 41], ['12', '15', 55], ['13', '13', 0], ['13', '15', 1], ['13', '16', 14], ['14', '14', 0], ['14', '61', 14], ['14', '62', 15], ['15', '15', 0], ['15', '13', 1], ['15', '16', 13], ['16', '16', 0], ['16', '13', 14], ['16', '15', 13], ['17', '17', 0], ['17', '48', 4], ['17', '49', 13], ['18', '18', 0], ['18', '52', 14], ['18', '54', 11], ['19', '19', 0], ['19', '20', 26], ['19', '29', 56], ['20', '20', 0], ['20', '7', 49], ['20', '19', 26], ['21', '21', 0], ['21', '22', 32], ['21', '25', 54], ['22', '22', 0], ['22', '21', 32], ['22', '60', 32], ['23', '23', 0], ['23', '24', 15], ['23', '25', 32], ['24', '24', 0], ['24', '23', 15], ['24', '26', 34], ['25', '25', 0], ['25', '23', 32], ['25', '26', 3], ['26', '26', 0], ['26', '24', 34], ['26', '25', 3], ['27', '27', 0], ['27', '28', 18], ['27', '29', 26], ['28', '28', 0], ['28', '27', 18], ['28', '30', 21], ['29', '29', 0], ['29', '27', 26], ['29', '30', 1], ['30', '30', 0], ['30', '28', 21], ['30', '29', 1], ['31', '31', 0], ['31', '32', 16], ['31', '33', 31], ['32', '32', 0], ['32', '31', 16], ['32', '34', 32], ['33', '33', 0], ['33', '31', 31], ['33', '34', 6], ['34', '34', 0], ['34', '32', 32], ['34', '33', 6], ['35', '35', 0], ['35', '36', 16], ['35', '37', 25], ['36', '36', 0], ['36', '35', 16], ['36', '38', 23], ['37', '37', 0], ['37', '35', 25], ['37', '38', 15], ['38', '38', 0], ['38', '36', 23], ['38', '37', 15], ['39', '39', 0], ['39', '70', 5], ['39', '71', 17], ['40', '40', 0], ['40', '70', 59], ['40', '71', 110], ['41', '41', 0], ['41', '42', 33], ['41', '44', 5], ['42', '42', 0], ['42', '41', 33], ['42', '43', 16], ['43', '43', 0], ['43', '42', 16], ['43', '44', 33], ['44', '44', 0], ['44', '41', 5], ['44', '43', 33], ['45', '45', 0], ['45', '46', 131], ['45', '50', 129], ['46', '46', 0], ['46', '0', 57], ['46', '50', 12], ['47', '47', 0], ['47', '48', 10], ['47', '49', 34], ['48', '48', 0], ['48', '17', 4], ['48', '47', 10], ['49', '49', 0], ['49', '17', 13], ['49', '47', 34], ['50', '50', 0], ['50', '46', 12], ['50', '52', 44], ['51', '51', 0], ['51', '1', 10], ['51', '2', 8], ['52', '52', 0], ['52', '18', 14], ['52', '54', 40], ['53', '53', 0], ['53', '4', 13], ['53', '54', 13], ['54', '54', 0], ['54', '18', 11], ['54', '55', 8], ['55', '55', 0], ['55', '54', 8], ['55', '56', 9], ['56', '56', 0], ['56', '54', 37], ['56', '55', 9], ['57', '57', 0], ['57', '4', 47], ['57', '58', 12], ['58', '58', 0], ['58', '11', 19], ['58', '57', 12], ['59', '59', 0], ['59', '7', 65], ['59', '8', 24], ['60', '60', 0], ['60', '9', 93], ['60', '22', 32], ['61', '61', 0], ['61', '14', 14], ['61', '63', 12], ['62', '62', 0], ['62', '63', 13], ['62', '64', 13], ['63', '63', 0], ['63', '61', 12], ['63', '62', 13], ['64', '64', 0], ['64', '62', 13], ['64', '63', 16], ['65', '65', 0], ['65', '64', 40], ['65', '66', 15], ['66', '66', 0], ['66', '65', 15], ['66', '67', 41], ['67', '67', 0], ['67', '68', 16], ['67', '69', 14], ['68', '68', 0], ['68', '67', 16], ['68', '69', 16], ['69', '69', 0], ['69', '67', 14], ['69', '68', 16], ['70', '70', 0], ['70', '39', 5], ['70', '71', 22], ['71', '71', 0], ['71', '39', 17], ['71', '70', 22]]}, '660978': {'objects': ['0', '1', '2', '3', '4', '5', '6', '7', '8', '9', '10', '11', '12', '13', '14', '15', '16', '17', '18', '19', '20', '21', '22', '23', '24', '25', '26', '27', '28', '29'], 'relationships': [['0', '0', 0], ['0', '1', 14], ['0', '17', 16], ['1', '1', 0], ['1', '12', 10], ['1', '21', 12], ['2', '2', 0], ['2', '17', 37], ['2', '18', 9], ['3', '3', 0], ['3', '4', 15], ['3', '16', 16], ['4', '4', 0], ['4', '3', 15], ['4', '5', 15], ['5', '5', 0], ['5', '19', 5], ['5', '20', 10], ['6', '6', 0], ['6', '24', 21], ['6', '27', 78], ['7', '7', 0], ['7', '25', 6], ['7', '26', 96], ['8', '8', 0], ['8', '9', 19], ['8', '11', 7], ['9', '9', 0], ['9', '8', 19], ['9', '28', 14], ['10', '10', 0], ['10', '7', 463], ['10', '27', 383], ['11', '11', 0], ['11', '8', 7], ['11', '28', 26], ['12', '12', 0], ['12', '1', 10], ['12', '17', 11], ['13', '13', 0], ['13', '4', 23], ['13', '16', 28], ['14', '14', 0], ['14', '3', 56], ['14', '15', 31], ['15', '15', 0], ['15', '14', 31], ['15', '18', 80], ['16', '16', 0], ['16', '3', 16], ['16', '4', 28], ['16', '13', 28], ['17', '17', 0], ['17', '0', 16], ['17', '12', 11], ['18', '18', 0], ['18', '2', 9], ['18', '17', 66], ['19', '19', 0], ['19', '5', 5], ['19', '13', 33], ['20', '20', 0], ['20', '4', 38], ['20', '5', 10], ['21', '21', 0], ['21', '1', 12], ['21', '22', 7], ['22', '22', 0], ['22', '12', 51], ['22', '21', 7], ['23', '23', 0], ['23', '19', 47], ['23', '24', 68], ['24', '24', 0], ['24', '6', 21], ['24', '20', 49], ['25', '25', 0], ['25', '7', 6], ['25', '26', 13], ['26', '26', 0], ['26', '7', 96], ['26', '25', 13], ['27', '27', 0], ['27', '6', 78], ['27', '8', 65], ['28', '28', 0], ['28', '9', 14], ['28', '11', 26], ['29', '29', 0], ['29', '9', 503], ['29', '28', 505]]}, '81619486_9488': {'objects': ['0', '1', '2', '3', '4', '5', '6', '7', '8', '9', '10', '11', '12', '13', '14', '15', '16', '17', '18', '19', '20', '21', '22', '23', '24', '25', '26', '27', '28', '29', '30', '31', '32', '33', '34', '35', '36', '37', '38', '39', '40', '41', '42', '43', '44', '45', '46', '47', '48', '49', '50', '51', '52', '53', '54', '55', '56', '57', '58', '59', '60', '61'], 'relationships': [['0', '0', 0], ['0', '1', 17], ['0', '19', 51], ['1', '1', 0], ['1', '0', 17], ['1', '21', 33], ['2', '2', 0], ['2', '20', 51], ['2', '23', 33], ['3', '3', 0], ['3', '4', 67], ['3', '26', 51], ['4', '4', 0], ['4', '9', 37], ['4', '27', 8], ['5', '5', 0], ['5', '8', 36], ['5', '34', 63], ['6', '6', 0], ['6', '7', 37], ['6', '39', 66], ['7', '7', 0], ['7', '6', 37], ['7', '39', 17], ['8', '8', 0], ['8', '14', 33], ['8', '34', 13], ['9', '9', 0], ['9', '27', 13], ['9', '28', 33], ['10', '10', 0], ['10', '4', 48], ['10', '26', 15], ['11', '11', 0], ['11', '12', 8], ['11', '13', 32], ['12', '12', 0], ['12', '11', 8], ['12', '13', 9], ['13', '13', 0], ['13', '11', 32], ['13', '12', 9], ['14', '14', 0], ['14', '8', 33], ['14', '38', 48], ['15', '15', 0], ['15', '30', 77], ['15', '31', 57], ['16', '16', 0], ['16', '17', 7], ['16', '45', 29], ['17', '17', 0], ['17', '16', 7], ['17', '45', 45], ['18', '18', 0], ['18', '59', 118], ['18', '61', 77], ['19', '19', 0], ['19', '0', 51], ['19', '21', 18], ['20', '20', 0], ['20', '2', 51], ['20', '22', 55], ['21', '21', 0], ['21', '1', 33], ['21', '19', 18], ['22', '22', 0], ['22', '20', 55], ['22', '23', 19], ['23', '23', 0], ['23', '2', 33], ['23', '22', 19], ['24', '24', 0], ['24', '2', 92], ['24', '25', 20], ['25', '25', 0], ['25', '24', 20], ['25', '26', 34], ['26', '26', 0], ['26', '10', 15], ['26', '25', 34], ['27', '27', 0], ['27', '4', 8], ['27', '9', 13], ['28', '28', 0], ['28', '30', 25], ['28', '32', 8], ['29', '29', 0], ['29', '30', 11], ['29', '31', 36], ['30', '30', 0], ['30', '29', 11], ['30', '31', 11], ['30', '32', 2], ['31', '31', 0], ['31', '30', 11], ['31', '33', 4], ['32', '32', 0], ['32', '30', 2], ['32', '33', 4], ['33', '33', 0], ['33', '31', 4], ['33', '32', 4], ['34', '34', 0], ['34', '35', 10], ['34', '38', 8], ['35', '35', 0], ['35', '36', 7], ['35', '37', 5], ['36', '36', 0], ['36', '34', 30], ['36', '35', 7], ['37', '37', 0], ['37', '35', 5], ['37', '38', 15], ['38', '38', 0], ['38', '34', 8], ['38', '37', 15], ['39', '39', 0], ['39', '7', 17], ['39', '40', 8], ['40', '40', 0], ['40', '39', 8], ['40', '41', 11], ['41', '41', 0], ['41', '39', 33], ['41', '40', 11], ['42', '42', 0], ['42', '43', 26], ['42', '49', 42], ['43', '43', 0], ['43', '42', 26], ['43', '49', 25], ['44', '44', 0], ['44', '45', 26], ['44', '51', 6], ['45', '45', 0], ['45', '16', 29], ['45', '44', 26], ['46', '46', 0], ['46', '45', 44], ['46', '47', 44], ['47', '47', 0], ['47', '46', 44], ['47', '48', 31], ['48', '48', 0], ['48', '13', 105], ['48', '47', 31], ['49', '49', 0], ['49', '43', 25], ['49', '50', 8], ['50', '50', 0], ['50', '43', 45], ['50', '49', 8], ['51', '51', 0], ['51', '44', 6], ['51', '52', 12], ['52', '52', 0], ['52', '44', 28], ['52', '51', 12], ['53', '53', 0], ['53', '54', 31], ['53', '58', 140], ['54', '54', 0], ['54', '53', 31], ['54', '55', 39], ['55', '55', 0], ['55', '54', 39], ['55', '56', 26], ['56', '56', 0], ['56', '55', 26], ['56', '57', 49], ['57', '57', 0], ['57', '56', 49], ['57', '58', 45], ['58', '58', 0], ['58', '57', 45], ['58', '59', 25], ['59', '59', 0], ['59', '57', 110], ['59', '58', 25], ['60', '60', 0], ['60', '53', 228], ['60', '54', 218], ['61', '61', 0], ['61', '18', 77], ['61', '59', 219]]}, '91856041_6049': {'objects': ['0', '1', '2', '3', '4', '5', '6', '7', '8', '9', '10', '11', '12', '13', '14', '15', '16', '17', '18', '19', '20', '21', '22', '23', '24', '25', '26', '27', '28', '29', '30', '31'], 'relationships': [['0', '0', 0], ['0', '14', 15], ['0', '15', 46], ['1', '1', 0], ['1', '15', 44], ['1', '17', 6], ['2', '2', 0], ['2', '18', 6], ['2', '19', 13], ['3', '3', 0], ['3', '19', 13], ['3', '20', 17], ['4', '4', 0], ['4', '25', 142], ['4', '27', 114], ['5', '5', 0], ['5', '23', 159], ['5', '30', 123], ['6', '6', 0], ['6', '7', 71], ['6', '8', 107], ['7', '7', 0], ['7', '8', 22], ['7', '9', 47], ['8', '8', 0], ['8', '7', 22], ['8', '9', 12], ['9', '9', 0], ['9', '8', 12], ['9', '10', 13], ['10', '10', 0], ['10', '8', 39], ['10', '9', 13], ['11', '11', 0], ['11', '12', 15], ['11', '13', 41], ['12', '12', 0], ['12', '11', 15], ['12', '13', 16], ['13', '13', 0], ['13', '11', 41], ['13', '12', 16], ['14', '14', 0], ['14', '0', 15], ['14', '15', 11], ['15', '15', 0], ['15', '14', 11], ['15', '16', 12], ['16', '16', 0], ['16', '14', 51], ['16', '15', 12], ['17', '17', 0], ['17', '1', 6], ['17', '15', 70], ['18', '18', 0], ['18', '2', 6], ['18', '19', 30], ['19', '19', 0], ['19', '2', 13], ['19', '3', 13], ['20', '20', 0], ['20', '3', 17], ['20', '19', 26], ['21', '21', 0], ['21', '22', 12], ['21', '23', 44], ['22', '22', 0], ['22', '21', 12], ['22', '23', 14], ['23', '23', 0], ['23', '21', 44], ['23', '22', 14], ['24', '24', 0], ['24', '25', 20], ['24', '27', 48], ['25', '25', 0], ['25', '24', 20], ['25', '27', 16], ['26', '26', 0], ['26', '25', 30], ['26', '28', 30], ['26', '29', 25], ['27', '27', 0], ['27', '25', 16], ['27', '28', 20], ['28', '28', 0], ['28', '27', 20], ['28', '29', 20], ['29', '29', 0], ['29', '28', 20], ['29', '30', 24], ['30', '30', 0], ['30', '26', 79], ['30', '29', 24], ['31', '31', 0], ['31', '6', 113], ['31', '7', 210]]}, '80707440_7443': {'objects': ['0', '1', '2', '3', '4', '5', '6', '7', '8', '9', '10', '11', '12', '13', '14', '15', '16', '17', '18', '19', '20', '21', '22', '23', '24', '25', '26'], 'relationships': [['0', '0', 0], ['0', '1', 14], ['0', '11', 22], ['1', '1', 0], ['1', '0', 14], ['1', '13', 11], ['2', '2', 0], ['2', '14', 105], ['2', '17', 107], ['3', '3', 0], ['3', '4', 14], ['3', '14', 22], ['4', '4', 0], ['4', '3', 14], ['4', '5', 10], ['5', '5', 0], ['5', '4', 10], ['5', '16', 8], ['6', '6', 0], ['6', '16', 8], ['6', '17', 13], ['7', '7', 0], ['7', '19', 15], ['7', '20', 15], ['8', '8', 0], ['8', '9', 17], ['8', '21', 17], ['9', '9', 0], ['9', '22', 16], ['9', '23', 13], ['10', '10', 0], ['10', '24', 360], ['10', '26', 242], ['11', '11', 0], ['11', '0', 22], ['11', '12', 11], ['12', '12', 0], ['12', '1', 21], ['12', '11', 11], ['13', '13', 0], ['13', '0', 39], ['13', '1', 11], ['14', '14', 0], ['14', '3', 22], ['14', '15', 15], ['15', '15', 0], ['15', '3', 44], ['15', '14', 15], ['16', '16', 0], ['16', '5', 8], ['16', '6', 8], ['17', '17', 0], ['17', '6', 13], ['17', '15', 49], ['17', '16', 49], ['18', '18', 0], ['18', '19', 14], ['18', '20', 44], ['19', '19', 0], ['19', '7', 15], ['19', '18', 14], ['20', '20', 0], ['20', '7', 15], ['20', '21', 36], ['21', '21', 0], ['21', '8', 17], ['21', '20', 36], ['21', '22', 36], ['22', '22', 0], ['22', '9', 16], ['22', '24', 30], ['23', '23', 0], ['23', '9', 13], ['23', '24', 22], ['24', '24', 0], ['24', '22', 30], ['24', '23', 22], ['25', '25', 0], ['25', '23', 79], ['25', '26', 61], ['26', '26', 0], ['26', '24', 85], ['26', '25', 61]]}, '0012602424': {'objects': ['0', '1', '2', '3', '4', '5', '6', '7', '8', '9', '10', '11', '12', '13', '14', '15', '16', '17', '18', '19', '20', '21', '22', '23', '24', '25', '26', '27', '28', '29', '30', '31', '32', '33', '34', '35', '36', '37', '38', '39', '40', '41', '42', '43', '44', '45', '46', '47', '48', '49', '50', '51', '52', '53', '54', '55', '56', '57', '58', '59', '60', '61', '62', '63', '64', '65', '66', '67', '68', '69', '70', '71', '72', '73', '74', '75', '76', '77', '78', '79', '80', '81', '82', '83', '84', '85', '86', '87'], 'relationships': [['0', '0', 0], ['0', '1', 52], ['0', '42', 22], ['1', '1', 0], ['1', '2', 22], ['1', '42', 6], ['2', '2', 0], ['2', '3', 11], ['2', '48', 12], ['3', '3', 0], ['3', '2', 11], ['3', '4', 10], ['4', '4', 0], ['4', '3', 10], ['4', '5', 11], ['5', '5', 0], ['5', '4', 11], ['5', '6', 8], ['6', '6', 0], ['6', '4', 55], ['6', '5', 8], ['7', '7', 0], ['7', '8', 8], ['7', '45', 9], ['8', '8', 0], ['8', '7', 8], ['8', '46', 17], ['9', '9', 0], ['9', '8', 32], ['9', '47', 18], ['10', '10', 0], ['10', '48', 47], ['10', '49', 21], ['11', '11', 0], ['11', '12', 9], ['11', '15', 17], ['12', '12', 0], ['12', '11', 9], ['12', '13', 5], ['13', '13', 0], ['13', '11', 31], ['13', '12', 5], ['14', '14', 0], ['14', '12', 27], ['14', '15', 7], ['15', '15', 0], ['15', '11', 17], ['15', '14', 7], ['16', '16', 0], ['16', '17', 18], ['16', '69', 46], ['17', '17', 0], ['17', '16', 18], ['17', '18', 22], ['18', '18', 0], ['18', '17', 22], ['18', '19', 20], ['19', '19', 0], ['19', '18', 20], ['19', '20', 19], ['20', '20', 0], ['20', '19', 19], ['20', '73', 21], ['21', '21', 0], ['21', '22', 9], ['21', '27', 22], ['22', '22', 0], ['22', '21', 9], ['22', '23', 6], ['23', '23', 0], ['23', '22', 6], ['23', '24', 21], ['24', '24', 0], ['24', '25', 6], ['24', '83', 12], ['25', '25', 0], ['25', '24', 6], ['25', '27', 10], ['26', '26', 0], ['26', '27', 24], ['26', '28', 6], ['27', '27', 0], ['27', '21', 22], ['27', '25', 10], ['28', '28', 0], ['28', '26', 6], ['28', '29', 6], ['29', '29', 0], ['29', '24', 23], ['29', '28', 6], ['30', '30', 0], ['30', '78', 21], ['30', '79', 9], ['31', '31', 0], ['31', '30', 24], ['31', '78', 45], ['32', '32', 0], ['32', '51', 24], ['32', '52', 18], ['33', '33', 0], ['33', '24', 41], ['33', '83', 35], ['34', '34', 0], ['34', '23', 31], ['34', '83', 31], ['35', '35', 0], ['35', '26', 36], ['35', '82', 47], ['36', '36', 0], ['36', '26', 67], ['36', '35', 57], ['37', '37', 0], ['37', '86', 43], ['37', '87', 3], ['38', '38', 0], ['38', '41', 88], ['38', '43', 136], ['39', '39', 0], ['39', '7', 128], ['39', '40', 46], ['40', '40', 0], ['40', '39', 46], ['40', '43', 78], ['41', '41', 0], ['41', '0', 59], ['41', '43', 54], ['42', '42', 0], ['42', '1', 6], ['42', '43', 21], ['43', '43', 0], ['43', '42', 21], ['43', '44', 19], ['44', '44', 0], ['44', '42', 39], ['44', '43', 19], ['45', '45', 0], ['45', '7', 9], ['45', '46', 17], ['46', '46', 0], ['46', '8', 17], ['46', '45', 17], ['47', '47', 0], ['47', '9', 18], ['47', '46', 26], ['48', '48', 0], ['48', '2', 12], ['48', '49', 6], ['49', '49', 0], ['49', '10', 21], ['49', '48', 6], ['50', '50', 0], ['50', '10', 66], ['50', '32', 102], ['51', '51', 0], ['51', '52', 2], ['51', '53', 15], ['52', '52', 0], ['52', '51', 2], ['52', '53', 15], ['53', '53', 0], ['53', '51', 15], ['53', '52', 15], ['54', '54', 0], ['54', '55', 1], ['54', '56', 17], ['55', '55', 0], ['55', '54', 1], ['55', '56', 3], ['56', '56', 0], ['56', '54', 17], ['56', '55', 3], ['57', '57', 0], ['57', '58', 9], ['57', '67', 22], ['58', '58', 0], ['58', '57', 9], ['58', '59', 8], ['59', '59', 0], ['59', '58', 8], ['59', '60', 8], ['60', '60', 0], ['60', '59', 8], ['60', '61', 23], ['60', '62', 23], ['61', '61', 0], ['61', '60', 23], ['61', '62', 11], ['62', '62', 0], ['62', '60', 23], ['62', '61', 11], ['63', '63', 0], ['63', '66', 79], ['63', '68', 70], ['64', '64', 0], ['64', '60', 31], ['64', '62', 59], ['65', '65', 0], ['65', '58', 87], ['65', '66', 24], ['66', '66', 0], ['66', '63', 79], ['66', '65', 24], ['67', '67', 0], ['67', '57', 22], ['67', '64', 113], ['68', '68', 0], ['68', '63', 70], ['68', '69', 67], ['69', '69', 0], ['69', '16', 46], ['69', '70', 40], ['70', '70', 0], ['70', '16', 58], ['70', '69', 40], ['71', '71', 0], ['71', '17', 38], ['71', '72', 19], ['72', '72', 0], ['72', '71', 19], ['72', '73', 6], ['73', '73', 0], ['73', '20', 21], ['73', '72', 6], ['74', '74', 0], ['74', '33', 53], ['74', '75', 14], ['75', '75', 0], ['75', '74', 14], ['75', '76', 18], ['76', '76', 0], ['76', '75', 18], ['76', '77', 16], ['77', '77', 0], ['77', '76', 16], ['77', '78', 19], ['78', '78', 0], ['78', '30', 21], ['78', '77', 19], ['79', '79', 0], ['79', '30', 9], ['79', '80', 33], ['80', '80', 0], ['80', '30', 38], ['80', '79', 33], ['81', '81', 0], ['81', '82', 20], ['81', '83', 61], ['82', '82', 0], ['82', '81', 20], ['82', '83', 24], ['83', '83', 0], ['83', '24', 12], ['83', '82', 24], ['84', '84', 0], ['84', '85', 13], ['84', '86', 21], ['85', '85', 0], ['85', '84', 13], ['85', '87', 5], ['86', '86', 0], ['86', '84', 21], ['86', '87', 13], ['87', '87', 0], ['87', '37', 3], ['87', '85', 5]]}, '0060270727': {'objects': ['0', '1', '2', '3', '4', '5', '6', '7', '8', '9', '10', '11', '12', '13', '14', '15', '16', '17', '18', '19', '20', '21', '22', '23', '24', '25', '26', '27', '28', '29', '30', '31', '32', '33', '34', '35', '36', '37', '38', '39', '40', '41', '42', '43', '44', '45', '46', '47', '48', '49', '50', '51', '52', '53', '54', '55', '56', '57', '58', '59', '60', '61', '62', '63', '64', '65', '66', '67', '68', '69', '70', '71', '72', '73', '74', '75', '76', '77', '78', '79', '80', '81', '82', '83', '84'], 'relationships': [['0', '0', 0], ['0', '1', 13], ['0', '51', 42], ['1', '1', 0], ['1', '0', 13], ['1', '51', 12], ['2', '2', 0], ['2', '53', 28], ['2', '57', 17], ['3', '3', 0], ['3', '6', 33], ['3', '58', 35], ['4', '4', 0], ['4', '56', 27], ['4', '57', 15], ['4', '60', 27], ['5', '5', 0], ['5', '22', 15], ['5', '48', 10], ['6', '6', 0], ['6', '25', 12], ['6', '52', 11], ['7', '7', 0], ['7', '27', 12], ['7', '58', 13], ['8', '8', 0], ['8', '29', 11], ['8', '59', 15], ['9', '9', 0], ['9', '37', 42], ['9', '75', 30], ['10', '10', 0], ['10', '11', 42], ['10', '77', 47], ['11', '11', 0], ['11', '12', 22], ['11', '78', 29], ['12', '12', 0], ['12', '11', 22], ['12', '79', 31], ['13', '13', 0], ['13', '45', 59], ['13', '83', 47], ['14', '14', 0], ['14', '21', 156], ['14', '84', 32], ['15', '15', 0], ['15', '62', 30], ['15', '64', 39], ['16', '16', 0], ['16', '17', 20], ['16', '18', 44], ['17', '17', 0], ['17', '16', 20], ['17', '18', 23], ['18', '18', 0], ['18', '16', 44], ['18', '17', 23], ['19', '19', 0], ['19', '18', 112], ['19', '20', 76], ['20', '20', 0], ['20', '19', 76], ['20', '21', 81], ['21', '21', 0], ['21', '20', 81], ['21', '83', 123], ['22', '22', 0], ['22', '23', 12], ['22', '49', 11], ['23', '23', 0], ['23', '22', 12], ['23', '50', 11], ['24', '24', 0], ['24', '25', 13], ['24', '52', 12], ['25', '25', 0], ['25', '6', 12], ['25', '24', 13], ['26', '26', 0], ['26', '27', 16], ['26', '58', 11], ['27', '27', 0], ['27', '7', 12], ['27', '28', 15], ['28', '28', 0], ['28', '27', 15], ['28', '59', 13], ['29', '29', 0], ['29', '8', 11], ['29', '30', 16], ['30', '30', 0], ['30', '29', 16], ['30', '31', 16], ['30', '63', 13], ['31', '31', 0], ['31', '32', 11], ['31', '66', 12], ['32', '32', 0], ['32', '31', 11], ['32', '67', 12], ['33', '33', 0], ['33', '34', 14], ['33', '71', 12], ['34', '34', 0], ['34', '35', 13], ['34', '72', 10], ['35', '35', 0], ['35', '34', 13], ['35', '73', 14], ['36', '36', 0], ['36', '37', 13], ['36', '74', 12], ['37', '37', 0], ['37', '36', 13], ['37', '75', 12], ['38', '38', 0], ['38', '37', 14], ['38', '76', 9], ['39', '39', 0], ['39', '40', 13], ['39', '77', 11], ['40', '40', 0], ['40', '39', 13], ['40', '41', 14], ['40', '78', 14], ['41', '41', 0], ['41', '40', 14], ['41', '79', 10], ['42', '42', 0], ['42', '43', 14], ['42', '80', 11], ['43', '43', 0], ['43', '44', 13], ['43', '81', 12], ['44', '44', 0], ['44', '45', 11], ['44', '82', 11], ['45', '45', 0], ['45', '44', 11], ['45', '83', 12], ['46', '46', 0], ['46', '45', 18], ['46', '84', 14], ['47', '47', 0], ['47', '0', 61], ['47', '49', 74], ['48', '48', 0], ['48', '5', 10], ['48', '49', 13], ['49', '49', 0], ['49', '22', 11], ['49', '48', 13], ['50', '50', 0], ['50', '23', 11], ['50', '49', 14], ['50', '52', 14], ['51', '51', 0], ['51', '1', 12], ['51', '53', 13], ['52', '52', 0], ['52', '6', 11], ['52', '24', 12], ['53', '53', 0], ['53', '2', 28], ['53', '51', 13], ['54', '54', 0], ['54', '55', 102], ['54', '62', 118], ['55', '55', 0], ['55', '56', 10], ['55', '57', 38], ['56', '56', 0], ['56', '4', 27], ['56', '55', 10], ['57', '57', 0], ['57', '2', 17], ['57', '4', 15], ['58', '58', 0], ['58', '7', 13], ['58', '26', 11], ['59', '59', 0], ['59', '8', 15], ['59', '28', 13], ['60', '60', 0], ['60', '4', 27], ['60', '57', 52], ['61', '61', 0], ['61', '7', 78], ['61', '8', 46], ['62', '62', 0], ['62', '15', 30], ['62', '56', 100], ['63', '63', 0], ['63', '30', 13], ['63', '66', 13], ['64', '64', 0], ['64', '15', 39], ['64', '65', 20], ['65', '65', 0], ['65', '64', 20], ['65', '68', 38], ['66', '66', 0], ['66', '31', 12], ['66', '63', 13], ['67', '67', 0], ['67', '32', 12], ['67', '68', 10], ['68', '68', 0], ['68', '65', 38], ['68', '67', 10], ['69', '69', 0], ['69', '65', 46], ['69', '68', 42], ['70', '70', 0], ['70', '68', 42], ['70', '71', 38], ['71', '71', 0], ['71', '33', 12], ['71', '72', 14], ['72', '72', 0], ['72', '34', 10], ['72', '73', 13], ['73', '73', 0], ['73', '35', 14], ['73', '72', 13], ['74', '74', 0], ['74', '36', 12], ['74', '73', 15], ['75', '75', 0], ['75', '37', 12], ['75', '76', 14], ['76', '76', 0], ['76', '38', 9], ['76', '75', 14], ['77', '77', 0], ['77', '39', 11], ['77', '76', 15], ['78', '78', 0], ['78', '40', 14], ['78', '79', 16], ['79', '79', 0], ['79', '41', 10], ['79', '78', 16], ['79', '80', 16], ['80', '80', 0], ['80', '42', 11], ['80', '81', 14], ['81', '81', 0], ['81', '43', 12], ['81', '80', 14], ['81', '82', 14], ['82', '82', 0], ['82', '44', 11], ['82', '81', 14], ['83', '83', 0], ['83', '45', 12], ['83', '82', 15], ['84', '84', 0], ['84', '46', 14], ['84', '83', 17]]}, '92657391': {'objects': ['0', '1', '2', '3', '4', '5', '6', '7', '8', '9', '10', '11', '12', '13', '14', '15', '16', '17', '18', '19', '20', '21', '22', '23', '24', '25', '26', '27', '28', '29', '30', '31', '32', '33', '34', '35', '36'], 'relationships': [['0', '0', 0], ['0', '11', 41], ['0', '13', 119], ['1', '1', 0], ['1', '16', 104], ['1', '18', 38], ['2', '2', 0], ['2', '16', 106], ['2', '17', 74], ['3', '3', 0], ['3', '17', 42], ['3', '18', 44], ['4', '4', 0], ['4', '5', 16], ['4', '21', 50], ['5', '5', 0], ['5', '4', 16], ['5', '21', 16], ['6', '6', 0], ['6', '7', 24], ['6', '29', 56], ['7', '7', 0], ['7', '6', 24], ['7', '29', 17], ['8', '8', 0], ['8', '7', 84], ['8', '29', 46], ['9', '9', 0], ['9', '31', 14], ['9', '32', 28], ['10', '10', 0], ['10', '27', 271], ['10', '36', 88], ['11', '11', 0], ['11', '0', 41], ['11', '12', 27], ['12', '12', 0], ['12', '11', 27], ['12', '13', 71], ['13', '13', 0], ['13', '12', 71], ['13', '14', 28], ['14', '14', 0], ['14', '13', 28], ['14', '15', 277], ['15', '15', 0], ['15', '16', 62], ['15', '17', 69], ['16', '16', 0], ['16', '15', 62], ['16', '20', 95], ['17', '17', 0], ['17', '3', 42], ['17', '15', 69], ['18', '18', 0], ['18', '1', 38], ['18', '3', 44], ['19', '19', 0], ['19', '3', 53], ['19', '17', 82], ['20', '20', 0], ['20', '19', 91], ['20', '22', 77], ['21', '21', 0], ['21', '5', 16], ['21', '24', 35], ['22', '22', 0], ['22', '23', 19], ['22', '24', 52], ['23', '23', 0], ['23', '22', 19], ['23', '24', 17], ['24', '24', 0], ['24', '21', 35], ['24', '23', 17], ['25', '25', 0], ['25', '26', 22], ['25', '27', 59], ['26', '26', 0], ['26', '25', 22], ['26', '27', 25], ['27', '27', 0], ['27', '26', 25], ['27', '28', 12], ['28', '28', 0], ['28', '27', 12], ['28', '29', 14], ['29', '29', 0], ['29', '7', 17], ['29', '28', 14], ['30', '30', 0], ['30', '9', 53], ['30', '28', 63], ['31', '31', 0], ['31', '9', 14], ['31', '32', 3], ['32', '32', 0], ['32', '31', 3], ['32', '33', 5], ['33', '33', 0], ['33', '32', 5], ['33', '34', 5], ['34', '34', 0], ['34', '33', 5], ['34', '35', 4], ['35', '35', 0], ['35', '33', 20], ['35', '34', 4], ['36', '36', 0], ['36', '8', 194], ['36', '10', 88]]}, '0060302201': {'objects': ['0', '1', '2', '3', '4', '5', '6', '7', '8', '9', '10', '11', '12', '13', '14', '15', '16', '17', '18', '19', '20', '21', '22', '23', '24', '25', '26', '27', '28', '29', '30', '31', '32', '33'], 'relationships': [['0', '0', 0], ['0', '7', 15], ['0', '9', 13], ['1', '1', 0], ['1', '2', 9], ['1', '27', 15], ['2', '2', 0], ['2', '1', 9], ['2', '27', 91], ['3', '3', 0], ['3', '8', 6], ['3', '12', 148], ['4', '4', 0], ['4', '31', 13], ['4', '33', 23], ['5', '5', 0], ['5', '15', 13], ['5', '18', 72], ['6', '6', 0], ['6', '7', 84], ['6', '10', 57], ['7', '7', 0], ['7', '0', 15], ['7', '9', 65], ['8', '8', 0], ['8', '3', 6], ['8', '12', 129], ['9', '9', 0], ['9', '0', 13], ['9', '10', 12], ['10', '10', 0], ['10', '6', 57], ['10', '9', 12], ['11', '11', 0], ['11', '12', 9], ['11', '13', 10], ['12', '12', 0], ['12', '11', 9], ['12', '16', 126], ['13', '13', 0], ['13', '11', 10], ['13', '14', 10], ['14', '14', 0], ['14', '13', 10], ['14', '16', 12], ['15', '15', 0], ['15', '5', 13], ['15', '14', 46], ['16', '16', 0], ['16', '14', 12], ['16', '17', 10], ['17', '17', 0], ['17', '16', 10], ['17', '18', 8], ['18', '18', 0], ['18', '15', 55], ['18', '17', 8], ['19', '19', 0], ['19', '20', 10], ['19', '21', 11], ['20', '20', 0], ['20', '18', 70], ['20', '19', 10], ['21', '21', 0], ['21', '19', 11], ['21', '23', 11], ['22', '22', 0], ['22', '23', 37], ['22', '24', 10], ['23', '23', 0], ['23', '21', 11], ['23', '24', 7], ['24', '24', 0], ['24', '22', 10], ['24', '23', 7], ['25', '25', 0], ['25', '23', 16], ['25', '27', 14], ['26', '26', 0], ['26', '20', 97], ['26', '28', 17], ['27', '27', 0], ['27', '1', 15], ['27', '25', 14], ['28', '28', 0], ['28', '25', 30], ['28', '26', 17], ['29', '29', 0], ['29', '30', 11], ['29', '31', 38], ['30', '30', 0], ['30', '29', 11], ['30', '31', 11], ['31', '31', 0], ['31', '4', 13], ['31', '30', 11], ['32', '32', 0], ['32', '4', 30], ['32', '33', 85], ['33', '33', 0], ['33', '4', 23], ['33', '31', 53]]}, '0001129658': {'objects': ['0', '1', '2', '3', '4', '5', '6', '7', '8', '9', '10', '11', '12', '13', '14', '15', '16', '17', '18', '19', '20', '21', '22', '23', '24', '25', '26', '27', '28', '29', '30', '31', '32', '33', '34', '35', '36', '37', '38', '39', '40', '41'], 'relationships': [['0', '0', 0], ['0', '17', 23], ['0', '18', 10], ['1', '1', 0], ['1', '2', 36], ['1', '26', 47], ['2', '2', 0], ['2', '1', 36], ['2', '25', 44], ['3', '3', 0], ['3', '24', 35], ['3', '27', 16], ['4', '4', 0], ['4', '29', 14], ['4', '30', 43], ['5', '5', 0], ['5', '28', 26], ['5', '31', 11], ['6', '6', 0], ['6', '7', 2], ['6', '33', 15], ['7', '7', 0], ['7', '6', 2], ['7', '33', 41], ['8', '8', 0], ['8', '29', 114], ['8', '30', 88], ['9', '9', 0], ['9', '10', 241], ['9', '13', 227], ['10', '10', 0], ['10', '11', 37], ['10', '12', 66], ['11', '11', 0], ['11', '10', 37], ['11', '12', 4], ['12', '12', 0], ['12', '11', 4], ['12', '41', 2], ['13', '13', 0], ['13', '39', 57], ['13', '40', 100], ['14', '14', 0], ['14', '15', 110], ['14', '16', 112], ['15', '15', 0], ['15', '0', 45], ['15', '17', 22], ['16', '16', 0], ['16', '17', 66], ['16', '22', 65], ['17', '17', 0], ['17', '0', 23], ['17', '15', 22], ['18', '18', 0], ['18', '0', 10], ['18', '17', 55], ['19', '19', 0], ['19', '0', 32], ['19', '20', 24], ['20', '20', 0], ['20', '19', 24], ['20', '21', 15], ['21', '21', 0], ['21', '20', 15], ['21', '24', 18], ['22', '22', 0], ['22', '16', 65], ['22', '21', 59], ['23', '23', 0], ['23', '21', 53], ['23', '24', 4], ['24', '24', 0], ['24', '21', 18], ['24', '23', 4], ['25', '25', 0], ['25', '2', 44], ['25', '26', 31], ['26', '26', 0], ['26', '1', 47], ['26', '25', 31], ['27', '27', 0], ['27', '3', 16], ['27', '24', 68], ['28', '28', 0], ['28', '5', 26], ['28', '31', 54], ['29', '29', 0], ['29', '4', 14], ['29', '30', 10], ['30', '30', 0], ['30', '4', 43], ['30', '29', 10], ['31', '31', 0], ['31', '5', 11], ['31', '32', 10], ['32', '32', 0], ['32', '31', 10], ['32', '37', 21], ['33', '33', 0], ['33', '6', 15], ['33', '34', 14], ['34', '34', 0], ['34', '6', 44], ['34', '33', 14], ['35', '35', 0], ['35', '33', 32], ['35', '36', 12], ['36', '36', 0], ['36', '33', 60], ['36', '35', 12], ['37', '37', 0], ['37', '31', 51], ['37', '32', 21], ['38', '38', 0], ['38', '8', 139], ['38', '39', 102], ['39', '39', 0], ['39', '13', 57], ['39', '40', 10], ['40', '40', 0], ['40', '39', 10], ['40', '41', 32], ['41', '41', 0], ['41', '12', 2], ['41', '40', 32]]}, '0001239897': {'objects': ['0', '1', '2', '3', '4', '5', '6', '7', '8', '9', '10', '11', '12', '13', '14', '15', '16', '17', '18', '19', '20', '21', '22', '23', '24', '25', '26', '27', '28', '29', '30', '31', '32', '33', '34', '35', '36', '37', '38', '39', '40', '41', '42', '43', '44', '45', '46', '47', '48'], 'relationships': [['0', '0', 0], ['0', '1', 11], ['0', '31', 23], ['1', '1', 0], ['1', '0', 11], ['1', '31', 34], ['2', '2', 0], ['2', '3', 13], ['2', '31', 24], ['3', '3', 0], ['3', '2', 13], ['3', '4', 11], ['4', '4', 0], ['4', '2', 37], ['4', '3', 11], ['5', '5', 0], ['5', '32', 6], ['5', '34', 82], ['6', '6', 0], ['6', '42', 17], ['6', '43', 16], ['7', '7', 0], ['7', '43', 10], ['7', '47', 21], ['8', '8', 0], ['8', '12', 40], ['8', '13', 40], ['9', '9', 0], ['9', '11', 45], ['9', '15', 44], ['10', '10', 0], ['10', '11', 10], ['10', '46', 41], ['11', '11', 0], ['11', '10', 10], ['11', '46', 31], ['12', '12', 0], ['12', '8', 40], ['12', '13', 1], ['13', '13', 0], ['13', '8', 40], ['13', '12', 1], ['14', '14', 0], ['14', '7', 55], ['14', '44', 55], ['14', '48', 50], ['15', '15', 0], ['15', '9', 44], ['15', '46', 41], ['16', '16', 0], ['16', '18', 5], ['16', '20', 16], ['17', '17', 0], ['17', '19', 3], ['17', '21', 16], ['18', '18', 0], ['18', '16', 5], ['18', '20', 3], ['19', '19', 0], ['19', '17', 3], ['19', '21', 13], ['20', '20', 0], ['20', '16', 16], ['20', '18', 3], ['21', '21', 0], ['21', '17', 16], ['21', '19', 13], ['22', '22', 0], ['22', '26', 13], ['22', '27', 11], ['23', '23', 0], ['23', '24', 15], ['23', '25', 4], ['24', '24', 0], ['24', '23', 15], ['24', '25', 1], ['25', '25', 0], ['25', '23', 4], ['25', '24', 1], ['26', '26', 0], ['26', '22', 13], ['26', '27', 4], ['27', '27', 0], ['27', '26', 4], ['27', '41', 9], ['28', '28', 0], ['28', '29', 3], ['28', '30', 13], ['29', '29', 0], ['29', '28', 3], ['29', '30', 10], ['30', '30', 0], ['30', '28', 13], ['30', '29', 10], ['31', '31', 0], ['31', '0', 23], ['31', '2', 24], ['32', '32', 0], ['32', '5', 6], ['32', '34', 134], ['33', '33', 0], ['33', '34', 7], ['33', '35', 43], ['34', '34', 0], ['34', '33', 7], ['34', '35', 20], ['35', '35', 0], ['35', '36', 11], ['35', '37', 6], ['36', '36', 0], ['36', '35', 11], ['36', '38', 5], ['37', '37', 0], ['37', '35', 6], ['37', '38', 10], ['38', '38', 0], ['38', '36', 5], ['38', '37', 10], ['39', '39', 0], ['39', '23', 331], ['39', '40', 8], ['40', '40', 0], ['40', '23', 319], ['40', '39', 8], ['41', '41', 0], ['41', '26', 22], ['41', '27', 9], ['42', '42', 0], ['42', '43', 12], ['42', '44', 12], ['43', '43', 0], ['43', '7', 10], ['43', '42', 12], ['44', '44', 0], ['44', '6', 23], ['44', '42', 12], ['44', '47', 23], ['45', '45', 0], ['45', '16', 36], ['45', '46', 15], ['46', '46', 0], ['46', '11', 31], ['46', '45', 15], ['47', '47', 0], ['47', '7', 21], ['47', '48', 16], ['48', '48', 0], ['48', '22', 34], ['48', '47', 16]]}, '0012178355': {'objects': ['0', '1', '2', '3', '4', '5', '6', '7', '8', '9', '10', '11', '12', '13', '14', '15', '16', '17', '18', '19', '20', '21', '22', '23', '24', '25', '26', '27', '28', '29', '30', '31', '32', '33', '34', '35', '36', '37', '38', '39', '40', '41', '42', '43', '44', '45', '46', '47', '48', '49', '50', '51', '52', '53', '54', '55', '56', '57', '58', '59', '60', '61'], 'relationships': [['0', '0', 0], ['0', '24', 30], ['0', '26', 47], ['1', '1', 0], ['1', '2', 24], ['1', '26', 8], ['2', '2', 0], ['2', '1', 24], ['2', '3', 26], ['3', '3', 0], ['3', '2', 26], ['3', '25', 31], ['4', '4', 0], ['4', '40', 15], ['4', '41', 15], ['5', '5', 0], ['5', '7', 42], ['5', '59', 45], ['6', '6', 0], ['6', '57', 41], ['6', '58', 68], ['7', '7', 0], ['7', '5', 42], ['7', '56', 75], ['8', '8', 0], ['8', '57', 39], ['8', '60', 15], ['9', '9', 0], ['9', '10', 12], ['9', '61', 12], ['10', '10', 0], ['10', '9', 12], ['10', '61', 39], ['11', '11', 0], ['11', '10', 62], ['11', '61', 82], ['12', '12', 0], ['12', '7', 155], ['12', '11', 138], ['13', '13', 0], ['13', '10', 45], ['13', '14', 16], ['14', '14', 0], ['14', '13', 16], ['14', '22', 57], ['15', '15', 0], ['15', '48', 2], ['15', '49', 15], ['16', '16', 0], ['16', '27', 36], ['16', '35', 49], ['17', '17', 0], ['17', '16', 81], ['17', '28', 90], ['18', '18', 0], ['18', '34', 54], ['18', '38', 46], ['19', '19', 0], ['19', '38', 13], ['19', '39', 15], ['20', '20', 0], ['20', '21', 18], ['20', '54', 44], ['21', '21', 0], ['21', '20', 18], ['21', '52', 45], ['21', '56', 45], ['22', '22', 0], ['22', '13', 81], ['22', '14', 57], ['23', '23', 0], ['23', '12', 311], ['23', '59', 378], ['24', '24', 0], ['24', '0', 30], ['24', '28', 100], ['25', '25', 0], ['25', '3', 31], ['25', '26', 46], ['26', '26', 0], ['26', '1', 8], ['26', '3', 35], ['27', '27', 0], ['27', '16', 36], ['27', '35', 43], ['28', '28', 0], ['28', '29', 1], ['28', '30', 13], ['29', '29', 0], ['29', '28', 1], ['29', '30', 12], ['29', '31', 12], ['30', '30', 0], ['30', '28', 13], ['30', '29', 12], ['30', '31', 13], ['31', '31', 0], ['31', '29', 12], ['31', '30', 13], ['31', '33', 13], ['32', '32', 0], ['32', '33', 15], ['32', '34', 12], ['33', '33', 0], ['33', '31', 13], ['33', '34', 13], ['34', '34', 0], ['34', '32', 12], ['34', '33', 13], ['35', '35', 0], ['35', '36', 17], ['35', '37', 12], ['36', '36', 0], ['36', '35', 17], ['36', '37', 17], ['36', '38', 17], ['37', '37', 0], ['37', '35', 12], ['37', '38', 2], ['38', '38', 0], ['38', '37', 2], ['38', '39', 12], ['39', '39', 0], ['39', '37', 14], ['39', '38', 12], ['40', '40', 0], ['40', '4', 15], ['40', '34', 81], ['41', '41', 0], ['41', '4', 15], ['41', '42', 39], ['42', '42', 0], ['42', '43', 36], ['42', '44', 14], ['43', '43', 0], ['43', '19', 94], ['43', '42', 36], ['43', '45', 94], ['44', '44', 0], ['44', '42', 14], ['44', '45', 29], ['45', '45', 0], ['45', '46', 13], ['45', '47', 16], ['46', '46', 0], ['46', '45', 13], ['46', '47', 16], ['47', '47', 0], ['47', '45', 16], ['47', '46', 16], ['48', '48', 0], ['48', '15', 2], ['48', '49', 17], ['49', '49', 0], ['49', '15', 15], ['49', '50', 3], ['50', '50', 0], ['50', '49', 3], ['50', '51', 13], ['51', '51', 0], ['51', '50', 13], ['51', '52', 15], ['52', '52', 0], ['52', '50', 14], ['52', '51', 15], ['53', '53', 0], ['53', '54', 12], ['53', '55', 14], ['54', '54', 0], ['54', '53', 12], ['54', '56', 14], ['55', '55', 0], ['55', '53', 14], ['55', '56', 14], ['56', '56', 0], ['56', '54', 14], ['56', '55', 14], ['57', '57', 0], ['57', '8', 39], ['57', '52', 29], ['58', '58', 0], ['58', '6', 68], ['58', '21', 62], ['58', '57', 68], ['59', '59', 0], ['59', '5', 45], ['59', '7', 100], ['59', '53', 100], ['60', '60', 0], ['60', '8', 15], ['60', '61', 12], ['61', '61', 0], ['61', '9', 12], ['61', '60', 12]]}, '0060207528': {'objects': ['0', '1', '2', '3', '4', '5', '6', '7', '8', '9', '10', '11', '12', '13', '14', '15', '16', '17', '18', '19', '20', '21', '22', '23', '24', '25', '26', '27', '28', '29', '30', '31', '32', '33', '34', '35', '36', '37', '38', '39', '40', '41', '42', '43'], 'relationships': [['0', '0', 0], ['0', '1', 19], ['0', '21', 25], ['1', '1', 0], ['1', '22', 16], ['1', '24', 18], ['2', '2', 0], ['2', '24', 14], ['2', '28', 16], ['3', '3', 0], ['3', '8', 50], ['3', '27', 71], ['4', '4', 0], ['4', '7', 54], ['4', '16', 101], ['5', '5', 0], ['5', '6', 10], ['5', '16', 95], ['6', '6', 0], ['6', '5', 10], ['6', '16', 71], ['7', '7', 0], ['7', '4', 54], ['7', '16', 59], ['8', '8', 0], ['8', '3', 50], ['8', '27', 71], ['9', '9', 0], ['9', '10', 31], ['9', '11', 23], ['10', '10', 0], ['10', '9', 31], ['10', '33', 42], ['11', '11', 0], ['11', '9', 23], ['11', '10', 68], ['12', '12', 0], ['12', '13', 29], ['12', '42', 20], ['13', '13', 0], ['13', '12', 29], ['13', '43', 35], ['14', '14', 0], ['14', '42', 77], ['14', '43', 26], ['15', '15', 0], ['15', '37', 246], ['15', '40', 217], ['16', '16', 0], ['16', '31', 13], ['16', '32', 58], ['17', '17', 0], ['17', '18', 34], ['17', '19', 126], ['18', '18', 0], ['18', '17', 34], ['18', '19', 73], ['19', '19', 0], ['19', '17', 126], ['19', '18', 73], ['20', '20', 0], ['20', '0', 32], ['20', '1', 61], ['21', '21', 0], ['21', '0', 25], ['21', '22', 39], ['21', '23', 39], ['22', '22', 0], ['22', '1', 16], ['22', '23', 37], ['23', '23', 0], ['23', '24', 14], ['23', '25', 29], ['24', '24', 0], ['24', '2', 14], ['24', '23', 14], ['25', '25', 0], ['25', '2', 33], ['25', '23', 29], ['26', '26', 0], ['26', '27', 39], ['26', '28', 30], ['27', '27', 0], ['27', '26', 39], ['27', '29', 16], ['28', '28', 0], ['28', '2', 16], ['28', '29', 13], ['29', '29', 0], ['29', '27', 16], ['29', '28', 13], ['30', '30', 0], ['30', '9', 40], ['30', '29', 28], ['31', '31', 0], ['31', '16', 13], ['31', '32', 30], ['32', '32', 0], ['32', '16', 58], ['32', '31', 30], ['33', '33', 0], ['33', '35', 13], ['33', '37', 39], ['34', '34', 0], ['34', '32', 82], ['34', '33', 43], ['35', '35', 0], ['35', '33', 13], ['35', '37', 15], ['36', '36', 0], ['36', '35', 22], ['36', '38', 91], ['37', '37', 0], ['37', '35', 15], ['37', '40', 13], ['38', '38', 0], ['38', '37', 38], ['38', '39', 29], ['39', '39', 0], ['39', '38', 29], ['39', '40', 36], ['40', '40', 0], ['40', '37', 13], ['40', '39', 36], ['41', '41', 0], ['41', '38', 104], ['41', '39', 63], ['42', '42', 0], ['42', '12', 20], ['42', '43', 38], ['43', '43', 0], ['43', '13', 35], ['43', '14', 26]]}, '00865872': {'objects': ['0', '1', '2', '3', '4', '5', '6', '7', '8', '9', '10', '11', '12', '13', '14', '15', '16', '17', '18', '19', '20', '21', '22', '23', '24', '25', '26', '27', '28', '29', '30', '31', '32', '33', '34', '35', '36', '37', '38', '39'], 'relationships': [['0', '0', 0], ['0', '25', 12], ['0', '28', 18], ['1', '1', 0], ['1', '25', 45], ['1', '27', 17], ['2', '2', 0], ['2', '31', 11], ['2', '32', 12], ['3', '3', 0], ['3', '2', 20], ['3', '30', 25], ['4', '4', 0], ['4', '3', 29], ['4', '30', 17], ['5', '5', 0], ['5', '32', 44], ['5', '33', 19], ['6', '6', 0], ['6', '34', 3], ['6', '35', 17], ['7', '7', 0], ['7', '37', 69], ['7', '39', 167], ['8', '8', 0], ['8', '10', 2], ['8', '15', 36], ['9', '9', 0], ['9', '10', 4], ['9', '14', 33], ['10', '10', 0], ['10', '8', 2], ['10', '9', 4], ['11', '11', 0], ['11', '21', 40], ['11', '38', 18], ['12', '12', 0], ['12', '13', 15], ['12', '18', 28], ['13', '13', 0], ['13', '12', 15], ['13', '14', 15], ['14', '14', 0], ['14', '13', 15], ['14', '15', 15], ['15', '15', 0], ['15', '14', 15], ['15', '20', 25], ['16', '16', 0], ['16', '15', 39], ['16', '20', 2], ['17', '17', 0], ['17', '13', 34], ['17', '18', 1], ['18', '18', 0], ['18', '12', 28], ['18', '17', 1], ['19', '19', 0], ['19', '14', 25], ['19', '20', 4], ['20', '20', 0], ['20', '16', 2], ['20', '19', 4], ['21', '21', 0], ['21', '11', 40], ['21', '38', 42], ['22', '22', 0], ['22', '23', 15], ['22', '39', 153], ['23', '23', 0], ['23', '22', 15], ['23', '39', 50], ['24', '24', 0], ['24', '0', 85], ['24', '25', 113], ['25', '25', 0], ['25', '0', 12], ['25', '27', 17], ['26', '26', 0], ['26', '24', 268], ['26', '28', 203], ['27', '27', 0], ['27', '1', 17], ['27', '25', 17], ['28', '28', 0], ['28', '0', 18], ['28', '27', 25], ['29', '29', 0], ['29', '1', 61], ['29', '4', 75], ['29', '30', 75], ['30', '30', 0], ['30', '3', 25], ['30', '4', 17], ['31', '31', 0], ['31', '2', 11], ['31', '30', 84], ['32', '32', 0], ['32', '2', 12], ['32', '3', 37], ['33', '33', 0], ['33', '5', 19], ['33', '6', 18], ['34', '34', 0], ['34', '5', 63], ['34', '6', 3], ['35', '35', 0], ['35', '6', 17], ['35', '33', 39], ['36', '36', 0], ['36', '35', 93], ['36', '37', 43], ['37', '37', 0], ['37', '7', 69], ['37', '36', 43], ['38', '38', 0], ['38', '11', 18], ['38', '21', 42], ['39', '39', 0], ['39', '22', 153], ['39', '23', 50]]}, '716552': {'objects': ['0', '1', '2', '3', '4', '5', '6', '7', '8', '9', '10', '11', '12', '13', '14', '15', '16', '17', '18', '19', '20', '21', '22', '23', '24', '25', '26', '27', '28', '29', '30', '31', '32', '33', '34', '35', '36', '37', '38', '39', '40', '41', '42', '43', '44', '45', '46', '47', '48', '49', '50', '51', '52', '53', '54', '55', '56', '57', '58', '59', '60', '61', '62', '63', '64', '65', '66', '67'], 'relationships': [['0', '0', 0], ['0', '33', 20], ['0', '35', 17], ['1', '1', 0], ['1', '2', 1], ['1', '41', 14], ['2', '2', 0], ['2', '1', 1], ['2', '41', 51], ['3', '3', 0], ['3', '38', 32], ['3', '43', 47], ['4', '4', 0], ['4', '5', 23], ['4', '8', 12], ['5', '5', 0], ['5', '4', 23], ['5', '8', 35], ['6', '6', 0], ['6', '7', 3], ['6', '42', 23], ['7', '7', 0], ['7', '6', 3], ['7', '41', 23], ['8', '8', 0], ['8', '4', 12], ['8', '5', 35], ['9', '9', 0], ['9', '44', 34], ['9', '45', 7], ['10', '10', 0], ['10', '11', 51], ['10', '45', 17], ['11', '11', 0], ['11', '10', 51], ['11', '45', 68], ['12', '12', 0], ['12', '13', 11], ['12', '43', 32], ['13', '13', 0], ['13', '12', 11], ['13', '48', 26], ['14', '14', 0], ['14', '52', 21], ['14', '53', 54], ['15', '15', 0], ['15', '19', 19], ['15', '53', 19], ['16', '16', 0], ['16', '17', 57], ['16', '51', 30], ['17', '17', 0], ['17', '16', 57], ['17', '18', 68], ['18', '18', 0], ['18', '17', 68], ['18', '49', 59], ['19', '19', 0], ['19', '15', 19], ['19', '55', 16], ['20', '20', 0], ['20', '55', 29], ['20', '60', 20], ['21', '21', 0], ['21', '22', 57], ['21', '61', 17], ['22', '22', 0], ['22', '25', 25], ['22', '56', 51], ['23', '23', 0], ['23', '24', 3], ['23', '54', 14], ['24', '24', 0], ['24', '23', 3], ['24', '54', 35], ['25', '25', 0], ['25', '22', 25], ['25', '56', 32], ['26', '26', 0], ['26', '60', 16], ['26', '62', 34], ['27', '27', 0], ['27', '57', 26], ['27', '59', 57], ['28', '28', 0], ['28', '59', 201], ['28', '66', 187], ['29', '29', 0], ['29', '64', 101], ['29', '65', 61], ['30', '30', 0], ['30', '65', 225], ['30', '66', 42], ['31', '31', 0], ['31', '5', 136], ['31', '32', 154], ['32', '32', 0], ['32', '0', 87], ['32', '33', 54], ['33', '33', 0], ['33', '0', 20], ['33', '35', 45], ['34', '34', 0], ['34', '36', 11], ['34', '37', 39], ['35', '35', 0], ['35', '0', 17], ['35', '1', 19], ['36', '36', 0], ['36', '34', 11], ['36', '37', 13], ['37', '37', 0], ['37', '34', 39], ['37', '36', 13], ['38', '38', 0], ['38', '3', 32], ['38', '5', 44], ['39', '39', 0], ['39', '40', 21], ['39', '44', 52], ['40', '40', 0], ['40', '10', 69], ['40', '39', 21], ['41', '41', 0], ['41', '1', 14], ['41', '7', 23], ['42', '42', 0], ['42', '6', 23], ['42', '41', 34], ['43', '43', 0], ['43', '12', 32], ['43', '44', 25], ['44', '44', 0], ['44', '9', 34], ['44', '43', 25], ['45', '45', 0], ['45', '9', 7], ['45', '10', 17], ['46', '46', 0], ['46', '47', 2], ['46', '48', 21], ['47', '47', 0], ['47', '7', 50], ['47', '46', 2], ['48', '48', 0], ['48', '13', 26], ['48', '46', 21], ['49', '49', 0], ['49', '18', 59], ['49', '58', 134], ['50', '50', 0], ['50', '16', 61], ['50', '51', 18], ['51', '51', 0], ['51', '16', 30], ['51', '50', 18], ['52', '52', 0], ['52', '14', 21], ['52', '53', 10], ['53', '53', 0], ['53', '15', 19], ['53', '52', 10], ['54', '54', 0], ['54', '23', 14], ['54', '24', 35], ['55', '55', 0], ['55', '19', 16], ['55', '20', 29], ['56', '56', 0], ['56', '22', 51], ['56', '25', 32], ['57', '57', 0], ['57', '27', 26], ['57', '58', 25], ['58', '58', 0], ['58', '57', 25], ['58', '59', 22], ['59', '59', 0], ['59', '57', 48], ['59', '58', 22], ['60', '60', 0], ['60', '20', 20], ['60', '26', 16], ['61', '61', 0], ['61', '21', 17], ['61', '56', 70], ['62', '62', 0], ['62', '26', 34], ['62', '60', 39], ['63', '63', 0], ['63', '64', 9], ['63', '65', 30], ['64', '64', 0], ['64', '29', 101], ['64', '63', 9], ['65', '65', 0], ['65', '29', 61], ['65', '63', 30], ['66', '66', 0], ['66', '28', 187], ['66', '30', 42], ['67', '67', 0], ['67', '29', 113], ['67', '65', 165]]}, '81619511_9513': {'objects': ['0', '1', '2', '3', '4', '5', '6', '7', '8', '9', '10', '11', '12', '13', '14', '15', '16', '17', '18', '19', '20', '21', '22', '23', '24', '25', '26', '27', '28', '29', '30', '31', '32', '33', '34', '35', '36', '37', '38', '39', '40', '41', '42', '43', '44', '45', '46', '47', '48', '49', '50', '51', '52', '53', '54', '55', '56', '57', '58', '59', '60', '61', '62', '63', '64', '65', '66', '67', '68', '69', '70', '71', '72', '73', '74', '75', '76', '77', '78', '79', '80', '81'], 'relationships': [['0', '0', 0], ['0', '1', 14], ['0', '5', 67], ['1', '1', 0], ['1', '0', 14], ['1', '5', 40], ['2', '2', 0], ['2', '3', 13], ['2', '36', 68], ['3', '3', 0], ['3', '2', 13], ['3', '36', 42], ['4', '4', 0], ['4', '33', 32], ['4', '34', 5], ['5', '5', 0], ['5', '1', 40], ['5', '7', 39], ['6', '6', 0], ['6', '9', 51], ['6', '36', 35], ['7', '7', 0], ['7', '5', 39], ['7', '37', 14], ['8', '8', 0], ['8', '37', 12], ['8', '38', 26], ['9', '9', 0], ['9', '10', 22], ['9', '12', 39], ['10', '10', 0], ['10', '9', 22], ['10', '12', 74], ['11', '11', 0], ['11', '13', 40], ['11', '36', 52], ['12', '12', 0], ['12', '9', 39], ['12', '41', 14], ['13', '13', 0], ['13', '11', 40], ['13', '44', 16], ['13', '45', 40], ['14', '14', 0], ['14', '15', 9], ['14', '50', 27], ['15', '15', 0], ['15', '14', 9], ['15', '16', 11], ['16', '16', 0], ['16', '15', 11], ['16', '17', 7], ['17', '17', 0], ['17', '16', 7], ['17', '18', 8], ['18', '18', 0], ['18', '16', 25], ['18', '17', 8], ['19', '19', 0], ['19', '69', 65], ['19', '70', 20], ['20', '20', 0], ['20', '21', 10], ['20', '67', 26], ['21', '21', 0], ['21', '20', 10], ['21', '22', 7], ['22', '22', 0], ['22', '21', 7], ['22', '23', 9], ['23', '23', 0], ['23', '22', 9], ['23', '24', 10], ['24', '24', 0], ['24', '23', 10], ['24', '25', 9], ['25', '25', 0], ['25', '24', 9], ['25', '26', 10], ['26', '26', 0], ['26', '25', 10], ['26', '27', 9], ['27', '27', 0], ['27', '26', 9], ['27', '28', 8], ['28', '28', 0], ['28', '26', 28], ['28', '27', 8], ['29', '29', 0], ['29', '79', 120], ['29', '80', 101], ['30', '30', 0], ['30', '19', 246], ['30', '81', 180], ['31', '31', 0], ['31', '32', 63], ['31', '33', 63], ['32', '32', 0], ['32', '31', 63], ['32', '35', 18], ['33', '33', 0], ['33', '4', 32], ['33', '34', 17], ['34', '34', 0], ['34', '4', 5], ['34', '33', 17], ['35', '35', 0], ['35', '11', 81], ['35', '32', 18], ['36', '36', 0], ['36', '3', 42], ['36', '6', 35], ['37', '37', 0], ['37', '7', 14], ['37', '8', 12], ['38', '38', 0], ['38', '8', 26], ['38', '39', 15], ['39', '39', 0], ['39', '38', 15], ['39', '40', 16], ['40', '40', 0], ['40', '39', 16], ['40', '47', 32], ['41', '41', 0], ['41', '12', 14], ['41', '42', 14], ['42', '42', 0], ['42', '41', 14], ['42', '43', 15], ['43', '43', 0], ['43', '41', 38], ['43', '42', 15], ['44', '44', 0], ['44', '13', 16], ['44', '45', 13], ['45', '45', 0], ['45', '44', 13], ['45', '46', 13], ['46', '46', 0], ['46', '44', 38], ['46', '45', 13], ['47', '47', 0], ['47', '48', 20], ['47', '59', 31], ['48', '48', 0], ['48', '47', 20], ['48', '59', 15], ['49', '49', 0], ['49', '50', 22], ['49', '54', 11], ['50', '50', 0], ['50', '14', 27], ['50', '49', 22], ['51', '51', 0], ['51', '50', 48], ['51', '52', 37], ['52', '52', 0], ['52', '51', 37], ['52', '53', 21], ['53', '53', 0], ['53', '51', 100], ['53', '52', 21], ['54', '54', 0], ['54', '49', 11], ['54', '55', 8], ['55', '55', 0], ['55', '54', 8], ['55', '56', 9], ['56', '56', 0], ['56', '55', 9], ['56', '57', 3], ['57', '57', 0], ['57', '56', 3], ['57', '58', 8], ['58', '58', 0], ['58', '56', 25], ['58', '57', 8], ['59', '59', 0], ['59', '48', 15], ['59', '60', 5], ['60', '60', 0], ['60', '59', 5], ['60', '61', 3], ['61', '61', 0], ['61', '60', 3], ['61', '62', 4], ['62', '62', 0], ['62', '61', 4], ['62', '63', 3], ['63', '63', 0], ['63', '61', 24], ['63', '62', 3], ['64', '64', 0], ['64', '65', 20], ['64', '72', 33], ['65', '65', 0], ['65', '64', 20], ['65', '72', 10], ['66', '66', 0], ['66', '65', 31], ['66', '67', 24], ['67', '67', 0], ['67', '20', 26], ['67', '66', 24], ['68', '68', 0], ['68', '69', 37], ['68', '71', 16], ['69', '69', 0], ['69', '68', 37], ['69', '70', 18], ['70', '70', 0], ['70', '19', 20], ['70', '69', 18], ['71', '71', 0], ['71', '20', 33], ['71', '68', 16], ['72', '72', 0], ['72', '65', 10], ['72', '73', 4], ['73', '73', 0], ['73', '72', 4], ['73', '74', 1], ['74', '74', 0], ['74', '73', 1], ['74', '76', 19], ['75', '75', 0], ['75', '74', 20], ['75', '76', 1], ['76', '76', 0], ['76', '75', 1], ['76', '77', 3], ['77', '77', 0], ['77', '76', 3], ['77', '78', 5], ['78', '78', 0], ['78', '77', 5], ['78', '79', 6], ['79', '79', 0], ['79', '78', 6], ['79', '80', 4], ['80', '80', 0], ['80', '78', 25], ['80', '79', 4], ['81', '81', 0], ['81', '19', 252], ['81', '30', 180]]}, '71563825': {'objects': ['0', '1', '2', '3', '4', '5', '6', '7', '8', '9', '10', '11', '12', '13', '14', '15', '16', '17', '18', '19', '20', '21', '22', '23', '24', '25', '26', '27', '28', '29', '30', '31', '32', '33', '34', '35', '36', '37', '38', '39', '40', '41', '42', '43', '44', '45', '46', '47', '48', '49', '50', '51', '52', '53'], 'relationships': [['0', '0', 0], ['0', '20', 70], ['0', '21', 101], ['1', '1', 0], ['1', '19', 92], ['1', '22', 63], ['2', '2', 0], ['2', '22', 17], ['2', '28', 103], ['3', '3', 0], ['3', '29', 20], ['3', '31', 3], ['4', '4', 0], ['4', '5', 4], ['4', '37', 4], ['5', '5', 0], ['5', '4', 4], ['5', '39', 5], ['6', '6', 0], ['6', '41', 5], ['6', '53', 5], ['7', '7', 0], ['7', '45', 11], ['7', '53', 14], ['8', '8', 0], ['8', '46', 5], ['8', '52', 3], ['9', '9', 0], ['9', '20', 11], ['9', '23', 20], ['10', '10', 0], ['10', '24', 5], ['10', '26', 19], ['11', '11', 0], ['11', '12', 6], ['11', '24', 35], ['12', '12', 0], ['12', '11', 6], ['12', '24', 18], ['13', '13', 0], ['13', '14', 18], ['13', '38', 15], ['14', '14', 0], ['14', '13', 18], ['14', '38', 4], ['15', '15', 0], ['15', '16', 4], ['15', '32', 3], ['16', '16', 0], ['16', '15', 4], ['16', '17', 5], ['16', '34', 5], ['17', '17', 0], ['17', '16', 5], ['17', '18', 4], ['17', '35', 5], ['18', '18', 0], ['18', '17', 4], ['18', '36', 4], ['19', '19', 0], ['19', '9', 54], ['19', '20', 74], ['20', '20', 0], ['20', '9', 11], ['20', '21', 25], ['21', '21', 0], ['21', '20', 25], ['21', '23', 17], ['22', '22', 0], ['22', '1', 63], ['22', '2', 17], ['23', '23', 0], ['23', '21', 17], ['23', '24', 9], ['24', '24', 0], ['24', '10', 5], ['24', '23', 9], ['25', '25', 0], ['25', '26', 14], ['25', '29', 38], ['26', '26', 0], ['26', '10', 19], ['26', '25', 14], ['27', '27', 0], ['27', '26', 40], ['27', '28', 6], ['28', '28', 0], ['28', '27', 6], ['28', '30', 82], ['29', '29', 0], ['29', '3', 20], ['29', '30', 4], ['30', '30', 0], ['30', '26', 73], ['30', '29', 4], ['31', '31', 0], ['31', '3', 3], ['31', '29', 82], ['32', '32', 0], ['32', '15', 3], ['32', '16', 18], ['33', '33', 0], ['33', '15', 6], ['33', '35', 16], ['34', '34', 0], ['34', '16', 5], ['34', '35', 1], ['35', '35', 0], ['35', '34', 1], ['35', '36', 2], ['36', '36', 0], ['36', '18', 4], ['36', '35', 2], ['37', '37', 0], ['37', '4', 4], ['37', '18', 21], ['38', '38', 0], ['38', '14', 4], ['38', '41', 2], ['39', '39', 0], ['39', '5', 5], ['39', '40', 2], ['40', '40', 0], ['40', '39', 2], ['40', '42', 1], ['41', '41', 0], ['41', '6', 5], ['41', '38', 2], ['42', '42', 0], ['42', '39', 17], ['42', '40', 1], ['43', '43', 0], ['43', '44', 17], ['43', '45', 17], ['44', '44', 0], ['44', '45', 3], ['44', '53', 11], ['45', '45', 0], ['45', '7', 11], ['45', '44', 3], ['46', '46', 0], ['46', '8', 5], ['46', '52', 52], ['47', '47', 0], ['47', '45', 51], ['47', '52', 3], ['48', '48', 0], ['48', '49', 17], ['48', '52', 23], ['49', '49', 0], ['49', '48', 17], ['49', '50', 1], ['50', '50', 0], ['50', '48', 52], ['50', '49', 1], ['51', '51', 0], ['51', '47', 269], ['51', '50', 258], ['52', '52', 0], ['52', '8', 3], ['52', '47', 3], ['53', '53', 0], ['53', '6', 5], ['53', '44', 11]]}, '0060029036': {'objects': ['0', '1', '2', '3', '4', '5', '6', '7', '8', '9', '10', '11', '12', '13', '14', '15', '16', '17', '18', '19', '20', '21', '22', '23', '24', '25', '26', '27', '28', '29', '30', '31', '32', '33', '34', '35', '36', '37', '38', '39', '40', '41', '42', '43', '44', '45', '46', '47'], 'relationships': [['0', '0', 0], ['0', '23', 19], ['0', '24', 45], ['1', '1', 0], ['1', '21', 18], ['1', '25', 21], ['2', '2', 0], ['2', '13', 71], ['2', '34', 81], ['3', '3', 0], ['3', '31', 33], ['3', '34', 61], ['4', '4', 0], ['4', '32', 19], ['4', '33', 60], ['5', '5', 0], ['5', '6', 26], ['5', '35', 59], ['6', '6', 0], ['6', '5', 26], ['6', '35', 19], ['7', '7', 0], ['7', '13', 53], ['7', '34', 100], ['8', '8', 0], ['8', '7', 124], ['8', '10', 135], ['9', '9', 0], ['9', '7', 108], ['9', '34', 49], ['10', '10', 0], ['10', '8', 135], ['10', '9', 126], ['11', '11', 0], ['11', '12', 22], ['11', '35', 40], ['12', '12', 0], ['12', '11', 22], ['12', '36', 22], ['13', '13', 0], ['13', '7', 53], ['13', '34', 61], ['14', '14', 0], ['14', '39', 156], ['14', '47', 62], ['15', '15', 0], ['15', '16', 37], ['15', '20', 81], ['16', '16', 0], ['16', '15', 37], ['16', '20', 27], ['17', '17', 0], ['17', '16', 62], ['17', '21', 34], ['18', '18', 0], ['18', '16', 81], ['18', '19', 69], ['19', '19', 0], ['19', '18', 69], ['19', '23', 96], ['20', '20', 0], ['20', '16', 27], ['20', '21', 39], ['21', '21', 0], ['21', '1', 18], ['21', '17', 34], ['22', '22', 0], ['22', '1', 33], ['22', '20', 64], ['23', '23', 0], ['23', '0', 19], ['23', '27', 80], ['24', '24', 0], ['24', '0', 45], ['24', '27', 57], ['25', '25', 0], ['25', '1', 21], ['25', '28', 20], ['26', '26', 0], ['26', '25', 44], ['26', '29', 22], ['27', '27', 0], ['27', '23', 80], ['27', '24', 57], ['28', '28', 0], ['28', '25', 20], ['28', '30', 52], ['29', '29', 0], ['29', '26', 22], ['29', '28', 66], ['30', '30', 0], ['30', '5', 60], ['30', '28', 52], ['31', '31', 0], ['31', '3', 33], ['31', '24', 100], ['32', '32', 0], ['32', '4', 19], ['32', '33', 24], ['33', '33', 0], ['33', '32', 24], ['33', '35', 55], ['34', '34', 0], ['34', '3', 61], ['34', '9', 49], ['34', '13', 61], ['35', '35', 0], ['35', '6', 19], ['35', '11', 40], ['36', '36', 0], ['36', '12', 22], ['36', '41', 20], ['37', '37', 0], ['37', '45', 67], ['37', '46', 32], ['38', '38', 0], ['38', '39', 47], ['38', '40', 161], ['39', '39', 0], ['39', '38', 47], ['39', '40', 153], ['40', '40', 0], ['40', '38', 161], ['40', '39', 153], ['41', '41', 0], ['41', '36', 20], ['41', '42', 23], ['42', '42', 0], ['42', '43', 1], ['42', '44', 22], ['43', '43', 0], ['43', '42', 1], ['43', '44', 21], ['44', '44', 0], ['44', '43', 21], ['44', '45', 17], ['45', '45', 0], ['45', '44', 17], ['45', '46', 22], ['46', '46', 0], ['46', '37', 32], ['46', '45', 22], ['47', '47', 0], ['47', '14', 62], ['47', '46', 76]]}, '91391286': {'objects': ['0', '1', '2', '3', '4', '5', '6', '7', '8', '9', '10', '11', '12', '13', '14', '15', '16', '17', '18', '19', '20', '21', '22', '23', '24', '25', '26', '27', '28', '29', '30', '31', '32', '33', '34', '35', '36', '37', '38', '39', '40', '41', '42', '43'], 'relationships': [['0', '0', 0], ['0', '1', 18], ['0', '16', 7], ['1', '1', 0], ['1', '0', 18], ['1', '17', 18], ['2', '2', 0], ['2', '1', 19], ['2', '18', 16], ['3', '3', 0], ['3', '22', 18], ['3', '23', 20], ['4', '4', 0], ['4', '27', 33], ['4', '28', 33], ['5', '5', 0], ['5', '21', 16], ['5', '25', 18], ['6', '6', 0], ['6', '7', 15], ['6', '25', 28], ['7', '7', 0], ['7', '6', 15], ['7', '8', 50], ['8', '8', 0], ['8', '7', 50], ['8', '29', 16], ['9', '9', 0], ['9', '31', 18], ['9', '34', 23], ['10', '10', 0], ['10', '34', 62], ['10', '39', 79], ['11', '11', 0], ['11', '13', 34], ['11', '40', 14], ['12', '12', 0], ['12', '11', 43], ['12', '13', 14], ['13', '13', 0], ['13', '11', 34], ['13', '12', 14], ['14', '14', 0], ['14', '12', 139], ['14', '13', 129], ['15', '15', 0], ['15', '16', 118], ['15', '19', 101], ['16', '16', 0], ['16', '0', 7], ['16', '17', 30], ['17', '17', 0], ['17', '1', 18], ['17', '18', 19], ['18', '18', 0], ['18', '2', 16], ['18', '17', 19], ['19', '19', 0], ['19', '15', 101], ['19', '20', 220], ['20', '20', 0], ['20', '5', 48], ['20', '21', 18], ['21', '21', 0], ['21', '5', 16], ['21', '20', 18], ['22', '22', 0], ['22', '3', 18], ['22', '23', 48], ['23', '23', 0], ['23', '3', 20], ['23', '24', 18], ['24', '24', 0], ['24', '23', 18], ['24', '26', 16], ['25', '25', 0], ['25', '5', 18], ['25', '6', 28], ['26', '26', 0], ['26', '24', 16], ['26', '27', 19], ['27', '27', 0], ['27', '4', 33], ['27', '26', 19], ['28', '28', 0], ['28', '4', 33], ['28', '30', 16], ['29', '29', 0], ['29', '8', 16], ['29', '31', 21], ['30', '30', 0], ['30', '28', 16], ['30', '32', 19], ['31', '31', 0], ['31', '9', 18], ['31', '29', 21], ['32', '32', 0], ['32', '30', 19], ['32', '33', 16], ['33', '33', 0], ['33', '32', 16], ['33', '35', 16], ['34', '34', 0], ['34', '9', 23], ['34', '33', 26], ['35', '35', 0], ['35', '33', 16], ['35', '37', 18], ['36', '36', 0], ['36', '9', 84], ['36', '34', 35], ['37', '37', 0], ['37', '35', 18], ['37', '38', 14], ['38', '38', 0], ['38', '35', 48], ['38', '37', 14], ['39', '39', 0], ['39', '41', 17], ['39', '42', 34], ['40', '40', 0], ['40', '11', 14], ['40', '13', 48], ['41', '41', 0], ['41', '39', 17], ['41', '42', 3], ['42', '42', 0], ['42', '41', 3], ['42', '43', 1], ['43', '43', 0], ['43', '41', 18], ['43', '42', 1]]}, '0011845203': {'objects': ['0', '1', '2', '3', '4', '5', '6', '7', '8', '9', '10', '11', '12', '13', '14', '15', '16', '17', '18', '19', '20', '21', '22', '23', '24', '25', '26', '27', '28', '29', '30', '31', '32', '33', '34', '35', '36', '37', '38', '39', '40', '41', '42', '43', '44', '45', '46', '47', '48', '49', '50', '51', '52'], 'relationships': [['0', '0', 0], ['0', '31', 12], ['0', '33', 20], ['1', '1', 0], ['1', '0', 28], ['1', '34', 10], ['2', '2', 0], ['2', '3', 7], ['2', '22', 8], ['3', '3', 0], ['3', '2', 7], ['3', '4', 2], ['4', '4', 0], ['4', '3', 2], ['4', '5', 4], ['5', '5', 0], ['5', '4', 4], ['5', '6', 4], ['6', '6', 0], ['6', '5', 4], ['6', '7', 4], ['7', '7', 0], ['7', '6', 4], ['7', '8', 5], ['8', '8', 0], ['8', '7', 5], ['8', '9', 4], ['9', '9', 0], ['9', '8', 4], ['9', '10', 6], ['10', '10', 0], ['10', '9', 6], ['10', '11', 2], ['11', '11', 0], ['11', '10', 2], ['11', '12', 8], ['12', '12', 0], ['12', '11', 8], ['12', '13', 7], ['13', '13', 0], ['13', '12', 7], ['13', '14', 10], ['14', '14', 0], ['14', '8', 13], ['14', '13', 10], ['15', '15', 0], ['15', '7', 14], ['15', '16', 6], ['16', '16', 0], ['16', '15', 6], ['16', '17', 3], ['17', '17', 0], ['17', '16', 3], ['17', '18', 4], ['18', '18', 0], ['18', '17', 4], ['18', '19', 5], ['19', '19', 0], ['19', '18', 5], ['19', '20', 6], ['20', '20', 0], ['20', '19', 6], ['20', '21', 5], ['21', '21', 0], ['21', '20', 5], ['21', '22', 19], ['22', '22', 0], ['22', '2', 8], ['22', '21', 19], ['23', '23', 0], ['23', '11', 66], ['23', '42', 35], ['24', '24', 0], ['24', '25', 3], ['24', '40', 23], ['25', '25', 0], ['25', '24', 3], ['25', '41', 14], ['26', '26', 0], ['26', '38', 193], ['26', '39', 233], ['27', '27', 0], ['27', '28', 48], ['27', '30', 95], ['28', '28', 0], ['28', '27', 48], ['28', '30', 78], ['29', '29', 0], ['29', '0', 44], ['29', '31', 15], ['29', '32', 44], ['30', '30', 0], ['30', '29', 60], ['30', '32', 53], ['31', '31', 0], ['31', '0', 12], ['31', '29', 15], ['32', '32', 0], ['32', '29', 44], ['32', '31', 18], ['33', '33', 0], ['33', '0', 20], ['33', '31', 48], ['34', '34', 0], ['34', '0', 47], ['34', '1', 10], ['35', '35', 0], ['35', '36', 13], ['35', '37', 30], ['36', '36', 0], ['36', '35', 13], ['36', '37', 17], ['37', '37', 0], ['37', '35', 30], ['37', '36', 17], ['38', '38', 0], ['38', '37', 58], ['38', '39', 6], ['39', '39', 0], ['39', '37', 36], ['39', '38', 6], ['40', '40', 0], ['40', '24', 23], ['40', '25', 28], ['41', '41', 0], ['41', '25', 14], ['41', '35', 51], ['42', '42', 0], ['42', '11', 18], ['42', '40', 33], ['43', '43', 0], ['43', '10', 56], ['43', '23', 68], ['44', '44', 0], ['44', '4', 59], ['44', '45', 12], ['45', '45', 0], ['45', '44', 12], ['45', '46', 14], ['46', '46', 0], ['46', '45', 14], ['46', '50', 43], ['47', '47', 0], ['47', '51', 10], ['47', '52', 9], ['48', '48', 0], ['48', '49', 12], ['48', '52', 13], ['49', '49', 0], ['49', '48', 12], ['49', '51', 20], ['50', '50', 0], ['50', '48', 14], ['50', '52', 27], ['51', '51', 0], ['51', '47', 10], ['51', '49', 20], ['52', '52', 0], ['52', '47', 9], ['52', '48', 13]]}, '80310840a': {'objects': ['0', '1', '2', '3', '4', '5', '6', '7', '8', '9', '10', '11', '12', '13', '14', '15', '16', '17', '18', '19', '20', '21', '22', '23', '24', '25', '26', '27', '28', '29', '30', '31', '32', '33', '34', '35', '36', '37', '38', '39', '40', '41', '42', '43', '44', '45', '46', '47', '48', '49', '50', '51', '52', '53', '54', '55', '56', '57', '58', '59', '60', '61', '62', '63', '64'], 'relationships': [['0', '0', 0], ['0', '26', 15], ['0', '29', 121], ['1', '1', 0], ['1', '18', 22], ['1', '33', 59], ['2', '2', 0], ['2', '3', 9], ['2', '32', 7], ['3', '3', 0], ['3', '2', 9], ['3', '20', 11], ['4', '4', 0], ['4', '19', 14], ['4', '33', 28], ['5', '5', 0], ['5', '61', 87], ['5', '62', 102], ['6', '6', 0], ['6', '7', 5], ['6', '25', 12], ['7', '7', 0], ['7', '6', 5], ['7', '16', 3], ['8', '8', 0], ['8', '9', 2], ['8', '21', 17], ['9', '9', 0], ['9', '8', 2], ['9', '21', 15], ['10', '10', 0], ['10', '11', 7], ['10', '12', 22], ['11', '11', 0], ['11', '10', 7], ['11', '12', 7], ['12', '12', 0], ['12', '11', 7], ['12', '13', 5], ['13', '13', 0], ['13', '12', 5], ['13', '14', 5], ['14', '14', 0], ['14', '13', 5], ['14', '15', 4], ['15', '15', 0], ['15', '13', 18], ['15', '14', 4], ['16', '16', 0], ['16', '7', 3], ['16', '17', 8], ['17', '17', 0], ['17', '16', 8], ['17', '57', 19], ['18', '18', 0], ['18', '1', 22], ['18', '29', 59], ['19', '19', 0], ['19', '20', 6], ['19', '31', 4], ['20', '20', 0], ['20', '3', 11], ['20', '19', 6], ['21', '21', 0], ['21', '9', 15], ['21', '22', 6], ['22', '22', 0], ['22', '21', 6], ['22', '23', 5], ['23', '23', 0], ['23', '22', 5], ['23', '24', 4], ['24', '24', 0], ['24', '23', 4], ['24', '62', 6], ['25', '25', 0], ['25', '6', 12], ['25', '55', 18], ['26', '26', 0], ['26', '0', 15], ['26', '29', 74], ['27', '27', 0], ['27', '30', 51], ['27', '31', 65], ['28', '28', 0], ['28', '29', 16], ['28', '30', 32], ['29', '29', 0], ['29', '18', 59], ['29', '28', 16], ['30', '30', 0], ['30', '19', 22], ['30', '31', 16], ['31', '31', 0], ['31', '19', 4], ['31', '30', 16], ['32', '32', 0], ['32', '2', 7], ['32', '31', 27], ['33', '33', 0], ['33', '1', 59], ['33', '4', 28], ['34', '34', 0], ['34', '2', 21], ['34', '35', 15], ['35', '35', 0], ['35', '34', 15], ['35', '36', 13], ['36', '36', 0], ['36', '35', 13], ['36', '37', 8], ['37', '37', 0], ['37', '36', 8], ['37', '38', 17], ['38', '38', 0], ['38', '36', 34], ['38', '37', 17], ['39', '39', 0], ['39', '38', 76], ['39', '40', 71], ['40', '40', 0], ['40', '38', 71], ['40', '39', 71], ['40', '41', 50], ['41', '41', 0], ['41', '42', 29], ['41', '47', 33], ['42', '42', 0], ['42', '41', 29], ['42', '64', 49], ['43', '43', 0], ['43', '8', 79], ['43', '44', 18], ['44', '44', 0], ['44', '43', 18], ['44', '45', 59], ['45', '45', 0], ['45', '44', 59], ['45', '46', 9], ['46', '46', 0], ['46', '44', 72], ['46', '45', 9], ['47', '47', 0], ['47', '48', 19], ['47', '64', 26], ['48', '48', 0], ['48', '47', 19], ['48', '49', 20], ['49', '49', 0], ['49', '48', 20], ['49', '53', 31], ['50', '50', 0], ['50', '49', 32], ['50', '51', 18], ['51', '51', 0], ['51', '50', 18], ['51', '55', 43], ['52', '52', 0], ['52', '53', 17], ['52', '64', 18], ['53', '53', 0], ['53', '52', 17], ['53', '54', 18], ['54', '54', 0], ['54', '23', 25], ['54', '25', 25], ['54', '53', 18], ['55', '55', 0], ['55', '6', 18], ['55', '25', 18], ['56', '56', 0], ['56', '25', 40], ['56', '57', 18], ['57', '57', 0], ['57', '17', 19], ['57', '56', 18], ['58', '58', 0], ['58', '59', 25], ['58', '63', 16], ['59', '59', 0], ['59', '58', 25], ['59', '60', 24], ['60', '60', 0], ['60', '58', 45], ['60', '59', 24], ['61', '61', 0], ['61', '14', 32], ['61', '15', 20], ['62', '62', 0], ['62', '24', 6], ['62', '63', 10], ['63', '63', 0], ['63', '58', 16], ['63', '62', 10], ['64', '64', 0], ['64', '47', 26], ['64', '52', 18]]}, '0011899960': {'objects': ['0', '1', '2', '3', '4', '5', '6', '7', '8', '9', '10', '11', '12', '13', '14', '15', '16', '17', '18', '19', '20', '21', '22', '23', '24', '25', '26', '27', '28', '29'], 'relationships': [['0', '0', 0], ['0', '10', 8], ['0', '12', 34], ['1', '1', 0], ['1', '0', 39], ['1', '13', 15], ['2', '2', 0], ['2', '10', 34], ['2', '11', 9], ['3', '3', 0], ['3', '13', 50], ['3', '14', 33], ['4', '4', 0], ['4', '2', 148], ['4', '11', 93], ['5', '5', 0], ['5', '17', 12], ['5', '19', 35], ['6', '6', 0], ['6', '16', 114], ['6', '21', 24], ['7', '7', 0], ['7', '21', 39], ['7', '22', 33], ['8', '8', 0], ['8', '9', 50], ['8', '29', 13], ['9', '9', 0], ['9', '8', 50], ['9', '29', 59], ['10', '10', 0], ['10', '0', 8], ['10', '12', 4], ['11', '11', 0], ['11', '2', 9], ['11', '14', 77], ['12', '12', 0], ['12', '10', 4], ['12', '13', 25], ['13', '13', 0], ['13', '1', 15], ['13', '12', 25], ['14', '14', 0], ['14', '2', 62], ['14', '3', 33], ['15', '15', 0], ['15', '3', 94], ['15', '18', 103], ['16', '16', 0], ['16', '5', 41], ['16', '17', 32], ['17', '17', 0], ['17', '5', 12], ['17', '19', 10], ['18', '18', 0], ['18', '16', 42], ['18', '17', 40], ['19', '19', 0], ['19', '17', 10], ['19', '23', 9], ['20', '20', 0], ['20', '16', 54], ['20', '19', 19], ['21', '21', 0], ['21', '6', 24], ['21', '7', 39], ['22', '22', 0], ['22', '7', 33], ['22', '21', 103], ['23', '23', 0], ['23', '19', 9], ['23', '25', 7], ['24', '24', 0], ['24', '18', 66], ['24', '23', 23], ['25', '25', 0], ['25', '19', 36], ['25', '23', 7], ['26', '26', 0], ['26', '25', 48], ['26', '27', 4], ['27', '27', 0], ['27', '25', 87], ['27', '26', 4], ['28', '28', 0], ['28', '6', 251], ['28', '24', 280], ['29', '29', 0], ['29', '8', 13], ['29', '9', 59]]}, '91903177': {'objects': ['0', '1', '2', '3', '4', '5', '6', '7', '8', '9', '10', '11', '12', '13', '14', '15', '16', '17', '18', '19', '20', '21', '22', '23', '24', '25', '26', '27', '28', '29', '30', '31', '32', '33', '34', '35', '36', '37'], 'relationships': [['0', '0', 0], ['0', '1', 13], ['0', '10', 39], ['1', '1', 0], ['1', '0', 13], ['1', '10', 11], ['2', '2', 0], ['2', '25', 38], ['2', '29', 14], ['3', '3', 0], ['3', '31', 16], ['3', '32', 5], ['4', '4', 0], ['4', '32', 81], ['4', '34', 60], ['5', '5', 0], ['5', '6', 134], ['5', '37', 198], ['6', '6', 0], ['6', '5', 134], ['6', '28', 247], ['7', '7', 0], ['7', '36', 108], ['7', '37', 51], ['8', '8', 0], ['8', '0', 110], ['8', '10', 88], ['9', '9', 0], ['9', '8', 188], ['9', '11', 134], ['10', '10', 0], ['10', '0', 39], ['10', '1', 11], ['11', '11', 0], ['11', '9', 134], ['11', '15', 123], ['12', '12', 0], ['12', '13', 10], ['12', '14', 65], ['13', '13', 0], ['13', '12', 10], ['13', '14', 39], ['14', '14', 0], ['14', '13', 39], ['14', '15', 15], ['15', '15', 0], ['15', '14', 15], ['15', '16', 69], ['16', '16', 0], ['16', '21', 14], ['16', '22', 26], ['17', '17', 0], ['17', '18', 14], ['17', '19', 14], ['18', '18', 0], ['18', '17', 14], ['18', '19', 14], ['19', '19', 0], ['19', '17', 14], ['19', '18', 14], ['20', '20', 0], ['20', '18', 15], ['20', '19', 17], ['21', '21', 0], ['21', '22', 12], ['21', '23', 10], ['22', '22', 0], ['22', '21', 12], ['22', '24', 12], ['23', '23', 0], ['23', '21', 10], ['23', '22', 13], ['24', '24', 0], ['24', '22', 12], ['24', '23', 14], ['25', '25', 0], ['25', '23', 15], ['25', '24', 15], ['26', '26', 0], ['26', '27', 15], ['26', '28', 90], ['27', '27', 0], ['27', '26', 15], ['27', '28', 78], ['28', '28', 0], ['28', '26', 90], ['28', '27', 78], ['29', '29', 0], ['29', '2', 14], ['29', '30', 14], ['30', '30', 0], ['30', '29', 14], ['30', '31', 11], ['31', '31', 0], ['31', '30', 11], ['31', '32', 14], ['32', '32', 0], ['32', '3', 5], ['32', '31', 14], ['33', '33', 0], ['33', '34', 14], ['33', '35', 52], ['34', '34', 0], ['34', '33', 14], ['34', '35', 27], ['35', '35', 0], ['35', '34', 27], ['35', '36', 14], ['36', '36', 0], ['36', '35', 14], ['36', '37', 41], ['37', '37', 0], ['37', '7', 51], ['37', '36', 41]]}, '01122115': {'objects': ['0', '1', '2', '3', '4', '5', '6', '7', '8', '9', '10', '11', '12', '13', '14', '15', '16', '17', '18', '19', '20', '21', '22', '23', '24', '25', '26', '27', '28', '29', '30', '31', '32', '33', '34', '35', '36', '37', '38', '39', '40', '41', '42', '43', '44', '45', '46', '47', '48', '49', '50', '51', '52', '53', '54', '55', '56', '57', '58', '59', '60', '61', '62', '63', '64', '65', '66', '67', '68', '69', '70', '71', '72', '73', '74', '75', '76', '77', '78', '79', '80', '81', '82', '83', '84', '85', '86', '87', '88', '89', '90', '91', '92', '93', '94'], 'relationships': [['0', '0', 0], ['0', '9', 5], ['0', '54', 42], ['1', '1', 0], ['1', '54', 3], ['1', '55', 12], ['2', '2', 0], ['2', '49', 5], ['2', '52', 32], ['3', '3', 0], ['3', '31', 4], ['3', '32', 6], ['4', '4', 0], ['4', '30', 12], ['4', '31', 8], ['5', '5', 0], ['5', '24', 14], ['5', '87', 43], ['6', '6', 0], ['6', '5', 48], ['6', '85', 45], ['7', '7', 0], ['7', '81', 86], ['7', '85', 79], ['8', '8', 0], ['8', '7', 91], ['8', '26', 19], ['9', '9', 0], ['9', '0', 5], ['9', '55', 45], ['10', '10', 0], ['10', '11', 2], ['10', '12', 24], ['11', '11', 0], ['11', '10', 2], ['11', '12', 9], ['12', '12', 0], ['12', '11', 9], ['12', '13', 10], ['13', '13', 0], ['13', '12', 10], ['13', '14', 9], ['14', '14', 0], ['14', '13', 9], ['14', '15', 10], ['15', '15', 0], ['15', '14', 10], ['15', '16', 22], ['16', '16', 0], ['16', '15', 22], ['16', '17', 15], ['17', '17', 0], ['17', '16', 15], ['17', '68', 8], ['18', '18', 0], ['18', '36', 30], ['18', '37', 11], ['19', '19', 0], ['19', '21', 33], ['19', '41', 39], ['20', '20', 0], ['20', '21', 2], ['20', '44', 5], ['21', '21', 0], ['21', '20', 2], ['21', '44', 19], ['22', '22', 0], ['22', '67', 17], ['22', '72', 19], ['23', '23', 0], ['23', '80', 13], ['23', '81', 39], ['24', '24', 0], ['24', '5', 14], ['24', '80', 33], ['25', '25', 0], ['25', '26', 67], ['25', '81', 28], ['25', '83', 67], ['26', '26', 0], ['26', '8', 19], ['26', '85', 63], ['27', '27', 0], ['27', '8', 120], ['27', '89', 31], ['28', '28', 0], ['28', '4', 42], ['28', '30', 9], ['29', '29', 0], ['29', '4', 70], ['29', '28', 70], ['29', '30', 8], ['30', '30', 0], ['30', '28', 9], ['30', '29', 8], ['31', '31', 0], ['31', '3', 4], ['31', '4', 8], ['32', '32', 0], ['32', '3', 6], ['32', '33', 8], ['33', '33', 0], ['33', '32', 8], ['33', '34', 10], ['34', '34', 0], ['34', '33', 10], ['34', '35', 5], ['35', '35', 0], ['35', '34', 5], ['35', '39', 7], ['36', '36', 0], ['36', '18', 30], ['36', '37', 59], ['37', '37', 0], ['37', '18', 11], ['37', '32', 11], ['38', '38', 0], ['38', '34', 29], ['38', '62', 41], ['39', '39', 0], ['39', '35', 7], ['39', '40', 7], ['40', '40', 0], ['40', '39', 7], ['40', '42', 5], ['41', '41', 0], ['41', '20', 17], ['41', '21', 35], ['42', '42', 0], ['42', '40', 5], ['42', '43', 8], ['43', '43', 0], ['43', '42', 8], ['43', '51', 7], ['44', '44', 0], ['44', '20', 5], ['44', '45', 18], ['45', '45', 0], ['45', '44', 18], ['45', '46', 10], ['46', '46', 0], ['46', '47', 6], ['46', '50', 6], ['47', '47', 0], ['47', '46', 6], ['47', '48', 6], ['48', '48', 0], ['48', '46', 36], ['48', '47', 6], ['49', '49', 0], ['49', '2', 5], ['49', '94', 9], ['50', '50', 0], ['50', '46', 6], ['50', '51', 5], ['51', '51', 0], ['51', '43', 7], ['51', '50', 5], ['52', '52', 0], ['52', '2', 32], ['52', '53', 35], ['53', '53', 0], ['53', '2', 103], ['53', '52', 35], ['54', '54', 0], ['54', '0', 42], ['54', '1', 3], ['55', '55', 0], ['55', '1', 12], ['55', '11', 11], ['56', '56', 0], ['56', '57', 7], ['56', '58', 31], ['57', '57', 0], ['57', '56', 7], ['57', '58', 5], ['58', '58', 0], ['58', '57', 5], ['58', '59', 5], ['59', '59', 0], ['59', '58', 5], ['59', '60', 4], ['60', '60', 0], ['60', '59', 4], ['60', '61', 10], ['61', '61', 0], ['61', '60', 10], ['61', '62', 7], ['62', '62', 0], ['62', '61', 7], ['62', '63', 9], ['63', '63', 0], ['63', '62', 9], ['63', '64', 6], ['64', '64', 0], ['64', '63', 6], ['64', '65', 8], ['65', '65', 0], ['65', '64', 8], ['65', '66', 4], ['66', '66', 0], ['66', '65', 4], ['66', '67', 4], ['67', '67', 0], ['67', '66', 4], ['67', '77', 4], ['68', '68', 0], ['68', '17', 8], ['68', '69', 6], ['69', '69', 0], ['69', '68', 6], ['69', '70', 8], ['70', '70', 0], ['70', '69', 8], ['70', '71', 6], ['71', '71', 0], ['71', '69', 32], ['71', '70', 6], ['72', '72', 0], ['72', '22', 19], ['72', '73', 26], ['73', '73', 0], ['73', '74', 15], ['73', '76', 11], ['74', '74', 0], ['74', '72', 46], ['74', '73', 15], ['75', '75', 0], ['75', '76', 4], ['75', '77', 28], ['76', '76', 0], ['76', '75', 4], ['76', '77', 5], ['77', '77', 0], ['77', '67', 4], ['77', '76', 5], ['78', '78', 0], ['78', '79', 2], ['78', '82', 6], ['79', '79', 0], ['79', '78', 2], ['79', '80', 33], ['80', '80', 0], ['80', '23', 13], ['80', '24', 33], ['80', '79', 33], ['81', '81', 0], ['81', '23', 39], ['81', '25', 28], ['82', '82', 0], ['82', '78', 6], ['82', '84', 5], ['83', '83', 0], ['83', '23', 52], ['83', '85', 5], ['84', '84', 0], ['84', '78', 33], ['84', '82', 5], ['85', '85', 0], ['85', '6', 45], ['85', '83', 5], ['86', '86', 0], ['86', '84', 39], ['86', '87', 9], ['87', '87', 0], ['87', '5', 43], ['87', '86', 9], ['88', '88', 0], ['88', '89', 21], ['88', '92', 26], ['89', '89', 0], ['89', '27', 31], ['89', '88', 21], ['90', '90', 0], ['90', '88', 73], ['90', '89', 72], ['91', '91', 0], ['91', '7', 112], ['91', '90', 81], ['92', '92', 0], ['92', '88', 26], ['92', '93', 4], ['93', '93', 0], ['93', '86', 53], ['93', '92', 4], ['94', '94', 0], ['94', '49', 9], ['94', '50', 9]]}, '00283813': {'objects': ['0', '1', '2', '3', '4', '5', '6', '7', '8', '9', '10', '11', '12', '13', '14', '15', '16', '17', '18', '19', '20', '21', '22', '23', '24', '25', '26', '27', '28', '29', '30', '31', '32', '33', '34', '35', '36', '37', '38', '39', '40', '41', '42', '43', '44', '45', '46', '47', '48', '49', '50', '51', '52', '53', '54', '55', '56', '57', '58', '59', '60', '61', '62', '63', '64', '65', '66', '67', '68', '69', '70', '71', '72', '73', '74', '75'], 'relationships': [['0', '0', 0], ['0', '2', 67], ['0', '39', 93], ['1', '1', 0], ['1', '35', 50], ['1', '42', 58], ['2', '2', 0], ['2', '37', 27], ['2', '39', 54], ['3', '3', 0], ['3', '38', 10], ['3', '40', 31], ['4', '4', 0], ['4', '3', 74], ['4', '5', 71], ['5', '5', 0], ['5', '35', 60], ['5', '42', 61], ['6', '6', 0], ['6', '7', 29], ['6', '8', 47], ['7', '7', 0], ['7', '8', 4], ['7', '9', 20], ['8', '8', 0], ['8', '7', 4], ['8', '9', 2], ['9', '9', 0], ['9', '8', 2], ['9', '10', 4], ['10', '10', 0], ['10', '9', 4], ['10', '11', 1], ['11', '11', 0], ['11', '10', 1], ['11', '12', 3], ['12', '12', 0], ['12', '11', 3], ['12', '13', 4], ['13', '13', 0], ['13', '12', 4], ['13', '51', 4], ['14', '14', 0], ['14', '51', 17], ['14', '52', 6], ['15', '15', 0], ['15', '16', 26], ['15', '49', 27], ['16', '16', 0], ['16', '17', 4], ['16', '57', 19], ['17', '17', 0], ['17', '16', 4], ['17', '57', 15], ['18', '18', 0], ['18', '19', 3], ['18', '57', 4], ['19', '19', 0], ['19', '18', 3], ['19', '57', 22], ['20', '20', 0], ['20', '54', 2], ['20', '55', 5], ['21', '21', 0], ['21', '23', 30], ['21', '24', 47], ['21', '52', 47], ['22', '22', 0], ['22', '64', 30], ['22', '65', 33], ['23', '23', 0], ['23', '21', 30], ['23', '24', 2], ['24', '24', 0], ['24', '23', 2], ['24', '59', 36], ['25', '25', 0], ['25', '66', 20], ['25', '67', 18], ['26', '26', 0], ['26', '25', 38], ['26', '70', 27], ['27', '27', 0], ['27', '61', 222], ['27', '69', 87], ['28', '28', 0], ['28', '74', 144], ['28', '75', 175], ['29', '29', 0], ['29', '62', 11], ['29', '63', 10], ['30', '30', 0], ['30', '36', 33], ['30', '38', 9], ['31', '31', 0], ['31', '14', 41], ['31', '52', 29], ['32', '32', 0], ['32', '71', 55], ['32', '72', 37], ['33', '33', 0], ['33', '1', 62], ['33', '39', 83], ['34', '34', 0], ['34', '1', 72], ['34', '41', 60], ['35', '35', 0], ['35', '1', 50], ['35', '36', 50], ['36', '36', 0], ['36', '30', 33], ['36', '38', 6], ['37', '37', 0], ['37', '2', 27], ['37', '35', 77], ['38', '38', 0], ['38', '30', 9], ['38', '36', 6], ['39', '39', 0], ['39', '2', 54], ['39', '42', 30], ['40', '40', 0], ['40', '3', 31], ['40', '38', 49], ['41', '41', 0], ['41', '34', 60], ['41', '39', 72], ['42', '42', 0], ['42', '1', 58], ['42', '39', 30], ['43', '43', 0], ['43', '44', 16], ['43', '45', 16], ['44', '44', 0], ['44', '43', 16], ['44', '45', 3], ['45', '45', 0], ['45', '44', 3], ['45', '46', 4], ['46', '46', 0], ['46', '45', 4], ['46', '47', 1], ['47', '47', 0], ['47', '46', 1], ['47', '48', 4], ['48', '48', 0], ['48', '47', 4], ['48', '49', 17], ['49', '49', 0], ['49', '47', 17], ['49', '48', 17], ['50', '50', 0], ['50', '48', 41], ['50', '49', 24], ['51', '51', 0], ['51', '13', 4], ['51', '14', 17], ['52', '52', 0], ['52', '14', 6], ['52', '51', 18], ['53', '53', 0], ['53', '20', 17], ['53', '54', 17], ['54', '54', 0], ['54', '20', 2], ['54', '53', 17], ['55', '55', 0], ['55', '20', 5], ['55', '56', 3], ['56', '56', 0], ['56', '20', 19], ['56', '55', 3], ['57', '57', 0], ['57', '17', 15], ['57', '18', 4], ['58', '58', 0], ['58', '50', 67], ['58', '60', 8], ['59', '59', 0], ['59', '24', 36], ['59', '64', 28], ['60', '60', 0], ['60', '58', 8], ['60', '68', 87], ['61', '61', 0], ['61', '55', 90], ['61', '56', 59], ['62', '62', 0], ['62', '29', 11], ['62', '63', 34], ['63', '63', 0], ['63', '29', 10], ['63', '64', 25], ['64', '64', 0], ['64', '59', 28], ['64', '63', 25], ['65', '65', 0], ['65', '66', 14], ['65', '67', 17], ['66', '66', 0], ['66', '25', 20], ['66', '65', 14], ['66', '67', 20], ['67', '67', 0], ['67', '25', 18], ['67', '65', 17], ['68', '68', 0], ['68', '66', 43], ['68', '69', 14], ['69', '69', 0], ['69', '67', 42], ['69', '68', 14], ['70', '70', 0], ['70', '71', 2], ['70', '72', 20], ['71', '71', 0], ['71', '70', 2], ['71', '72', 3], ['72', '72', 0], ['72', '70', 20], ['72', '71', 3], ['73', '73', 0], ['73', '74', 3], ['73', '75', 18], ['74', '74', 0], ['74', '73', 3], ['74', '75', 15], ['75', '75', 0], ['75', '73', 18], ['75', '74', 15]]}, '89867723': {'objects': ['0', '1', '2', '3', '4', '5', '6', '7', '8', '9', '10', '11', '12', '13', '14', '15', '16', '17', '18', '19', '20', '21', '22', '23', '24', '25', '26', '27', '28', '29', '30', '31', '32', '33', '34', '35', '36', '37', '38', '39', '40', '41', '42', '43', '44', '45', '46', '47', '48', '49', '50', '51', '52', '53', '54', '55', '56', '57'], 'relationships': [['0', '0', 0], ['0', '1', 97], ['0', '29', 127], ['1', '1', 0], ['1', '25', 20], ['1', '29', 15], ['2', '2', 0], ['2', '27', 46], ['2', '28', 8], ['3', '3', 0], ['3', '4', 3], ['3', '20', 11], ['4', '4', 0], ['4', '3', 3], ['4', '21', 8], ['5', '5', 0], ['5', '6', 4], ['5', '12', 28], ['5', '40', 28], ['6', '6', 0], ['6', '5', 4], ['6', '41', 25], ['7', '7', 0], ['7', '6', 38], ['7', '41', 25], ['8', '8', 0], ['8', '42', 6], ['8', '43', 71], ['9', '9', 0], ['9', '10', 61], ['9', '44', 5], ['10', '10', 0], ['10', '7', 43], ['10', '9', 61], ['11', '11', 0], ['11', '12', 6], ['11', '20', 33], ['12', '12', 0], ['12', '5', 28], ['12', '11', 6], ['13', '13', 0], ['13', '14', 14], ['13', '47', 12], ['14', '14', 0], ['14', '13', 14], ['14', '15', 16], ['15', '15', 0], ['15', '13', 16], ['15', '14', 16], ['15', '49', 14], ['16', '16', 0], ['16', '17', 1], ['16', '56', 1], ['17', '17', 0], ['17', '16', 1], ['17', '56', 16], ['18', '18', 0], ['18', '54', 21], ['18', '55', 31], ['19', '19', 0], ['19', '2', 102], ['19', '23', 10], ['20', '20', 0], ['20', '3', 11], ['20', '21', 4], ['21', '21', 0], ['21', '4', 8], ['21', '20', 4], ['22', '22', 0], ['22', '23', 33], ['22', '25', 76], ['23', '23', 0], ['23', '19', 10], ['23', '22', 33], ['24', '24', 0], ['24', '2', 50], ['24', '25', 59], ['25', '25', 0], ['25', '1', 20], ['25', '24', 59], ['26', '26', 0], ['26', '25', 93], ['26', '27', 8], ['27', '27', 0], ['27', '2', 46], ['27', '26', 8], ['28', '28', 0], ['28', '2', 8], ['28', '27', 81], ['29', '29', 0], ['29', '1', 15], ['29', '30', 43], ['30', '30', 0], ['30', '29', 43], ['30', '31', 12], ['31', '31', 0], ['31', '30', 12], ['31', '32', 12], ['32', '32', 0], ['32', '30', 57], ['32', '31', 12], ['33', '33', 0], ['33', '34', 25], ['33', '35', 85], ['34', '34', 0], ['34', '33', 25], ['34', '35', 61], ['35', '35', 0], ['35', '34', 61], ['35', '36', 26], ['36', '36', 0], ['36', '35', 26], ['36', '38', 71], ['37', '37', 0], ['37', '3', 52], ['37', '38', 30], ['38', '38', 0], ['38', '37', 30], ['38', '39', 14], ['39', '39', 0], ['39', '38', 14], ['39', '40', 13], ['40', '40', 0], ['40', '39', 13], ['40', '41', 14], ['41', '41', 0], ['41', '6', 25], ['41', '7', 25], ['41', '40', 14], ['42', '42', 0], ['42', '8', 6], ['42', '43', 28], ['43', '43', 0], ['43', '42', 28], ['43', '44', 44], ['44', '44', 0], ['44', '9', 5], ['44', '43', 44], ['45', '45', 0], ['45', '14', 19], ['45', '46', 17], ['46', '46', 0], ['46', '45', 17], ['46', '48', 38], ['47', '47', 0], ['47', '13', 12], ['47', '48', 15], ['48', '48', 0], ['48', '13', 27], ['48', '47', 15], ['49', '49', 0], ['49', '15', 14], ['49', '50', 12], ['50', '50', 0], ['50', '49', 12], ['50', '51', 15], ['51', '51', 0], ['51', '50', 15], ['51', '52', 11], ['52', '52', 0], ['52', '51', 11], ['52', '57', 27], ['53', '53', 0], ['53', '54', 18], ['53', '55', 34], ['54', '54', 0], ['54', '53', 18], ['54', '55', 3], ['55', '55', 0], ['55', '54', 3], ['55', '56', 26], ['56', '56', 0], ['56', '16', 1], ['56', '17', 16], ['57', '57', 0], ['57', '16', 35], ['57', '52', 27]]}, '0060255888': {'objects': ['0', '1', '2', '3', '4', '5', '6', '7', '8', '9', '10', '11', '12', '13', '14', '15', '16', '17', '18', '19', '20', '21', '22', '23', '24', '25', '26', '27', '28', '29', '30', '31', '32'], 'relationships': [['0', '0', 0], ['0', '1', 27], ['0', '14', 34], ['1', '1', 0], ['1', '0', 27], ['1', '15', 31], ['2', '2', 0], ['2', '3', 42], ['2', '16', 38], ['3', '3', 0], ['3', '2', 42], ['3', '17', 28], ['4', '4', 0], ['4', '3', 43], ['4', '18', 44], ['5', '5', 0], ['5', '19', 38], ['5', '20', 40], ['6', '6', 0], ['6', '7', 2], ['6', '8', 14], ['7', '7', 0], ['7', '6', 2], ['7', '8', 14], ['8', '8', 0], ['8', '6', 14], ['8', '7', 14], ['8', '9', 1], ['9', '9', 0], ['9', '8', 1], ['9', '10', 5], ['10', '10', 0], ['10', '11', 1], ['10', '25', 3], ['11', '11', 0], ['11', '10', 1], ['11', '26', 2], ['12', '12', 0], ['12', '13', 21], ['12', '14', 140], ['13', '13', 0], ['13', '12', 21], ['13', '15', 120], ['14', '14', 0], ['14', '0', 34], ['14', '15', 27], ['15', '15', 0], ['15', '1', 31], ['15', '14', 27], ['16', '16', 0], ['16', '2', 38], ['16', '17', 42], ['17', '17', 0], ['17', '3', 28], ['17', '18', 40], ['18', '18', 0], ['18', '17', 40], ['18', '19', 34], ['19', '19', 0], ['19', '5', 38], ['19', '18', 34], ['20', '20', 0], ['20', '5', 40], ['20', '6', 77], ['21', '21', 0], ['21', '7', 16], ['21', '23', 14], ['22', '22', 0], ['22', '23', 16], ['22', '24', 16], ['23', '23', 0], ['23', '21', 14], ['23', '25', 14], ['24', '24', 0], ['24', '23', 15], ['24', '25', 1], ['24', '26', 15], ['25', '25', 0], ['25', '24', 1], ['25', '26', 1], ['26', '26', 0], ['26', '11', 2], ['26', '25', 1], ['27', '27', 0], ['27', '25', 47], ['27', '26', 32], ['28', '28', 0], ['28', '27', 75], ['28', '29', 8], ['29', '29', 0], ['29', '27', 100], ['29', '28', 8], ['30', '30', 0], ['30', '29', 141], ['30', '31', 61], ['31', '31', 0], ['31', '29', 144], ['31', '30', 61], ['32', '32', 0], ['32', '10', 266], ['32', '11', 254]]}, '92327794': {'objects': ['0', '1', '2', '3', '4', '5', '6', '7', '8', '9', '10', '11', '12', '13', '14', '15', '16', '17', '18'], 'relationships': [['0', '0', 0], ['0', '1', 12], ['0', '2', 40], ['1', '1', 0], ['1', '0', 12], ['1', '2', 15], ['2', '2', 0], ['2', '1', 15], ['2', '13', 27], ['3', '3', 0], ['3', '6', 185], ['3', '8', 129], ['4', '4', 0], ['4', '13', 23], ['4', '15', 105], ['5', '5', 0], ['5', '16', 412], ['5', '17', 223], ['6', '6', 0], ['6', '3', 185], ['6', '7', 78], ['7', '7', 0], ['7', '6', 78], ['7', '9', 219], ['8', '8', 0], ['8', '3', 129], ['8', '9', 152], ['9', '9', 0], ['9', '8', 152], ['9', '10', 94], ['10', '10', 0], ['10', '11', 19], ['10', '12', 40], ['11', '11', 0], ['11', '10', 19], ['11', '12', 18], ['12', '12', 0], ['12', '10', 40], ['12', '11', 18], ['13', '13', 0], ['13', '4', 23], ['13', '14', 15], ['14', '14', 0], ['14', '13', 15], ['14', '15', 18], ['15', '15', 0], ['15', '4', 105], ['15', '14', 18], ['16', '16', 0], ['16', '17', 30], ['16', '18', 42], ['17', '17', 0], ['17', '16', 30], ['17', '18', 18], ['18', '18', 0], ['18', '16', 42], ['18', '17', 18]]}, '0001438955': {'objects': ['0', '1', '2', '3', '4', '5', '6', '7', '8', '9', '10', '11', '12', '13', '14', '15', '16', '17', '18', '19', '20', '21', '22', '23', '24', '25', '26', '27', '28', '29', '30', '31', '32', '33', '34', '35', '36', '37', '38', '39', '40', '41', '42', '43', '44', '45', '46', '47', '48', '49', '50', '51', '52', '53', '54', '55', '56', '57', '58', '59', '60', '61', '62', '63', '64', '65', '66', '67', '68', '69', '70', '71', '72', '73'], 'relationships': [['0', '0', 0], ['0', '50', 12], ['0', '56', 17], ['1', '1', 0], ['1', '2', 42], ['1', '5', 58], ['2', '2', 0], ['2', '5', 3], ['2', '7', 16], ['3', '3', 0], ['3', '63', 13], ['3', '64', 13], ['4', '4', 0], ['4', '68', 15], ['4', '69', 14], ['5', '5', 0], ['5', '2', 3], ['5', '7', 2], ['6', '6', 0], ['6', '10', 93], ['6', '11', 74], ['7', '7', 0], ['7', '2', 16], ['7', '5', 2], ['8', '8', 0], ['8', '9', 18], ['8', '10', 30], ['9', '9', 0], ['9', '8', 18], ['9', '11', 36], ['10', '10', 0], ['10', '8', 30], ['10', '11', 17], ['11', '11', 0], ['11', '9', 36], ['11', '10', 17], ['12', '12', 0], ['12', '13', 15], ['12', '14', 29], ['13', '13', 0], ['13', '12', 15], ['13', '15', 26], ['14', '14', 0], ['14', '15', 15], ['14', '23', 28], ['15', '15', 0], ['15', '13', 26], ['15', '14', 15], ['16', '16', 0], ['16', '17', 15], ['16', '18', 35], ['17', '17', 0], ['17', '16', 15], ['17', '19', 34], ['18', '18', 0], ['18', '16', 35], ['18', '19', 19], ['19', '19', 0], ['19', '17', 34], ['19', '18', 19], ['20', '20', 0], ['20', '21', 16], ['20', '22', 17], ['21', '21', 0], ['21', '22', 1], ['21', '23', 14], ['22', '22', 0], ['22', '21', 1], ['22', '23', 13], ['23', '23', 0], ['23', '21', 14], ['23', '22', 13], ['24', '24', 0], ['24', '25', 15], ['24', '26', 14], ['25', '25', 0], ['25', '24', 15], ['25', '26', 14], ['26', '26', 0], ['26', '24', 14], ['26', '25', 14], ['26', '27', 1], ['27', '27', 0], ['27', '25', 16], ['27', '26', 1], ['28', '28', 0], ['28', '29', 18], ['28', '30', 27], ['29', '29', 0], ['29', '28', 18], ['29', '31', 26], ['30', '30', 0], ['30', '28', 27], ['30', '31', 19], ['31', '31', 0], ['31', '29', 26], ['31', '30', 19], ['32', '32', 0], ['32', '33', 4], ['32', '34', 37], ['33', '33', 0], ['33', '32', 4], ['33', '35', 34], ['34', '34', 0], ['34', '32', 37], ['34', '35', 16], ['35', '35', 0], ['35', '33', 34], ['35', '34', 16], ['36', '36', 0], ['36', '37', 23], ['36', '42', 25], ['37', '37', 0], ['37', '36', 23], ['37', '45', 44], ['38', '38', 0], ['38', '39', 27], ['38', '43', 30], ['39', '39', 0], ['39', '38', 27], ['39', '62', 35], ['40', '40', 0], ['40', '52', 13], ['40', '59', 45], ['41', '41', 0], ['41', '54', 25], ['41', '55', 14], ['42', '42', 0], ['42', '36', 25], ['42', '44', 27], ['43', '43', 0], ['43', '38', 30], ['43', '46', 30], ['44', '44', 0], ['44', '42', 27], ['44', '45', 22], ['45', '45', 0], ['45', '44', 22], ['45', '48', 28], ['46', '46', 0], ['46', '47', 22], ['46', '61', 25], ['47', '47', 0], ['47', '39', 43], ['47', '46', 22], ['48', '48', 0], ['48', '42', 41], ['48', '45', 28], ['49', '49', 0], ['49', '47', 118], ['49', '61', 98], ['50', '50', 0], ['50', '0', 12], ['50', '56', 44], ['51', '51', 0], ['51', '40', 174], ['51', '53', 156], ['52', '52', 0], ['52', '40', 13], ['52', '59', 15], ['53', '53', 0], ['53', '54', 14], ['53', '55', 48], ['54', '54', 0], ['54', '41', 25], ['54', '53', 14], ['55', '55', 0], ['55', '41', 14], ['55', '53', 48], ['56', '56', 0], ['56', '0', 17], ['56', '57', 15], ['57', '57', 0], ['57', '58', 8], ['57', '60', 14], ['58', '58', 0], ['58', '57', 8], ['58', '70', 34], ['59', '59', 0], ['59', '52', 15], ['59', '60', 14], ['60', '60', 0], ['60', '57', 14], ['60', '59', 14], ['61', '61', 0], ['61', '43', 38], ['61', '46', 25], ['62', '62', 0], ['62', '39', 35], ['62', '47', 84], ['63', '63', 0], ['63', '3', 13], ['63', '64', 18], ['63', '65', 18], ['64', '64', 0], ['64', '3', 13], ['64', '65', 17], ['65', '65', 0], ['65', '64', 17], ['65', '66', 16], ['66', '66', 0], ['66', '64', 18], ['66', '65', 16], ['67', '67', 0], ['67', '4', 43], ['67', '66', 27], ['68', '68', 0], ['68', '4', 15], ['68', '69', 13], ['69', '69', 0], ['69', '4', 14], ['69', '68', 13], ['70', '70', 0], ['70', '58', 34], ['70', '71', 9], ['71', '71', 0], ['71', '70', 9], ['71', '72', 8], ['72', '72', 0], ['72', '71', 8], ['72', '73', 9], ['73', '73', 0], ['73', '71', 39], ['73', '72', 9]]}, '0011974919': {'objects': ['0', '1', '2', '3', '4', '5', '6', '7', '8', '9', '10', '11', '12', '13', '14', '15', '16', '17', '18', '19', '20', '21', '22', '23', '24', '25', '26', '27', '28', '29', '30', '31', '32', '33', '34', '35', '36', '37', '38', '39', '40', '41'], 'relationships': [['0', '0', 0], ['0', '1', 16], ['0', '15', 33], ['1', '1', 0], ['1', '0', 16], ['1', '2', 15], ['2', '2', 0], ['2', '1', 15], ['2', '17', 27], ['3', '3', 0], ['3', '4', 15], ['3', '5', 10], ['4', '4', 0], ['4', '3', 15], ['4', '6', 8], ['5', '5', 0], ['5', '3', 10], ['5', '20', 16], ['6', '6', 0], ['6', '3', 33], ['6', '4', 8], ['7', '7', 0], ['7', '8', 31], ['7', '22', 14], ['8', '8', 0], ['8', '7', 31], ['8', '28', 23], ['9', '9', 0], ['9', '27', 35], ['9', '28', 18], ['10', '10', 0], ['10', '30', 22], ['10', '31', 92], ['11', '11', 0], ['11', '32', 5], ['11', '37', 109], ['12', '12', 0], ['12', '33', 9], ['12', '34', 25], ['13', '13', 0], ['13', '18', 14], ['13', '19', 25], ['14', '14', 0], ['14', '0', 93], ['14', '1', 124], ['15', '15', 0], ['15', '0', 33], ['15', '16', 14], ['16', '16', 0], ['16', '15', 14], ['16', '17', 12], ['17', '17', 0], ['17', '2', 27], ['17', '16', 12], ['18', '18', 0], ['18', '13', 14], ['18', '19', 75], ['19', '19', 0], ['19', '13', 25], ['19', '18', 75], ['20', '20', 0], ['20', '4', 18], ['20', '5', 16], ['21', '21', 0], ['21', '4', 62], ['21', '20', 34], ['22', '22', 0], ['22', '7', 14], ['22', '23', 14], ['23', '23', 0], ['23', '22', 14], ['23', '24', 16], ['24', '24', 0], ['24', '23', 16], ['24', '25', 15], ['25', '25', 0], ['25', '24', 15], ['25', '26', 15], ['26', '26', 0], ['26', '25', 15], ['26', '27', 19], ['27', '27', 0], ['27', '9', 35], ['27', '26', 19], ['28', '28', 0], ['28', '8', 23], ['28', '9', 18], ['29', '29', 0], ['29', '10', 95], ['29', '27', 108], ['30', '30', 0], ['30', '10', 22], ['30', '27', 54], ['31', '31', 0], ['31', '10', 92], ['31', '26', 108], ['32', '32', 0], ['32', '11', 5], ['32', '37', 117], ['33', '33', 0], ['33', '12', 9], ['33', '34', 1], ['34', '34', 0], ['34', '33', 1], ['34', '35', 5], ['35', '35', 0], ['35', '34', 5], ['35', '36', 12], ['36', '36', 0], ['36', '34', 28], ['36', '35', 12], ['37', '37', 0], ['37', '38', 6], ['37', '39', 28], ['38', '38', 0], ['38', '37', 6], ['38', '39', 5], ['39', '39', 0], ['39', '38', 5], ['39', '40', 5], ['40', '40', 0], ['40', '38', 29], ['40', '39', 5], ['41', '41', 0], ['41', '38', 192], ['41', '39', 167]]}, '81310636': {'objects': ['0', '1', '2', '3', '4', '5', '6', '7', '8', '9', '10', '11', '12', '13', '14', '15', '16', '17', '18', '19', '20', '21', '22', '23', '24', '25', '26', '27'], 'relationships': [['0', '0', 0], ['0', '6', 110], ['0', '7', 12], ['1', '1', 0], ['1', '8', 9], ['1', '10', 42], ['2', '2', 0], ['2', '13', 130], ['2', '18', 132], ['3', '3', 0], ['3', '21', 109], ['3', '25', 40], ['4', '4', 0], ['4', '24', 508], ['4', '27', 84], ['5', '5', 0], ['5', '6', 64], ['5', '7', 87], ['6', '6', 0], ['6', '5', 64], ['6', '7', 6], ['7', '7', 0], ['7', '0', 12], ['7', '6', 6], ['8', '8', 0], ['8', '1', 9], ['8', '9', 17], ['9', '9', 0], ['9', '10', 5], ['9', '12', 14], ['10', '10', 0], ['10', '9', 5], ['10', '11', 38], ['11', '11', 0], ['11', '10', 38], ['11', '12', 21], ['12', '12', 0], ['12', '9', 14], ['12', '11', 21], ['13', '13', 0], ['13', '12', 50], ['13', '15', 46], ['14', '14', 0], ['14', '10', 76], ['14', '13', 84], ['15', '15', 0], ['15', '13', 46], ['15', '16', 74], ['16', '16', 0], ['16', '15', 74], ['16', '17', 76], ['17', '17', 0], ['17', '18', 22], ['17', '20', 42], ['18', '18', 0], ['18', '17', 22], ['18', '19', 45], ['19', '19', 0], ['19', '20', 7], ['19', '23', 23], ['20', '20', 0], ['20', '19', 7], ['20', '21', 34], ['21', '21', 0], ['21', '20', 34], ['21', '22', 27], ['22', '22', 0], ['22', '21', 27], ['22', '23', 44], ['23', '23', 0], ['23', '19', 23], ['23', '26', 33], ['24', '24', 0], ['24', '23', 39], ['24', '26', 83], ['25', '25', 0], ['25', '3', 40], ['25', '26', 22], ['26', '26', 0], ['26', '23', 33], ['26', '25', 22], ['27', '27', 0], ['27', '4', 84], ['27', '24', 645]]}, '93455715': {'objects': ['0', '1', '2', '3', '4', '5', '6', '7', '8', '9', '10', '11', '12', '13', '14', '15', '16', '17', '18', '19', '20', '21', '22', '23', '24', '25', '26', '27', '28', '29', '30', '31', '32', '33', '34', '35', '36'], 'relationships': [['0', '0', 0], ['0', '2', 20], ['0', '6', 19], ['1', '1', 0], ['1', '8', 30], ['1', '10', 19], ['2', '2', 0], ['2', '0', 20], ['2', '7', 59], ['3', '3', 0], ['3', '24', 263], ['3', '25', 258], ['4', '4', 0], ['4', '17', 17], ['4', '36', 32], ['5', '5', 0], ['5', '7', 111], ['5', '9', 137], ['6', '6', 0], ['6', '0', 19], ['6', '7', 30], ['7', '7', 0], ['7', '2', 59], ['7', '6', 30], ['8', '8', 0], ['8', '0', 21], ['8', '9', 20], ['9', '9', 0], ['9', '8', 20], ['9', '10', 79], ['10', '10', 0], ['10', '1', 19], ['10', '9', 79], ['11', '11', 0], ['11', '1', 76], ['11', '12', 17], ['12', '12', 0], ['12', '11', 17], ['12', '13', 31], ['13', '13', 0], ['13', '12', 31], ['13', '14', 9], ['14', '14', 0], ['14', '12', 58], ['14', '13', 9], ['15', '15', 0], ['15', '14', 82], ['15', '16', 27], ['16', '16', 0], ['16', '14', 129], ['16', '15', 27], ['17', '17', 0], ['17', '4', 17], ['17', '35', 15], ['18', '18', 0], ['18', '19', 15], ['18', '20', 13], ['19', '19', 0], ['19', '18', 15], ['19', '21', 12], ['20', '20', 0], ['20', '18', 13], ['20', '22', 15], ['21', '21', 0], ['21', '19', 12], ['21', '23', 13], ['22', '22', 0], ['22', '20', 15], ['22', '23', 15], ['22', '24', 14], ['23', '23', 0], ['23', '21', 13], ['23', '25', 12], ['24', '24', 0], ['24', '22', 14], ['24', '25', 16], ['24', '26', 16], ['25', '25', 0], ['25', '23', 12], ['25', '26', 14], ['25', '27', 14], ['26', '26', 0], ['26', '24', 16], ['26', '25', 14], ['26', '27', 16], ['27', '27', 0], ['27', '25', 14], ['27', '26', 16], ['28', '28', 0], ['28', '29', 17], ['28', '30', 12], ['29', '29', 0], ['29', '30', 14], ['29', '31', 12], ['30', '30', 0], ['30', '28', 12], ['30', '29', 14], ['30', '32', 14], ['31', '31', 0], ['31', '29', 12], ['31', '30', 15], ['31', '33', 15], ['32', '32', 0], ['32', '33', 13], ['32', '34', 13], ['33', '33', 0], ['33', '32', 13], ['33', '34', 2], ['34', '34', 0], ['34', '32', 13], ['34', '33', 2], ['35', '35', 0], ['35', '17', 15], ['35', '36', 13], ['36', '36', 0], ['36', '17', 19], ['36', '35', 13]]}, '0060094595': {'objects': ['0', '1', '2', '3', '4', '5', '6', '7', '8', '9', '10', '11', '12', '13', '14', '15', '16', '17', '18', '19', '20', '21', '22', '23', '24', '25', '26', '27', '28', '29', '30', '31', '32', '33', '34', '35', '36', '37', '38', '39', '40', '41', '42', '43', '44', '45', '46', '47', '48', '49', '50', '51', '52', '53', '54', '55', '56', '57', '58'], 'relationships': [['0', '0', 0], ['0', '1', 11], ['0', '27', 36], ['1', '1', 0], ['1', '0', 11], ['1', '2', 12], ['2', '2', 0], ['2', '1', 12], ['2', '3', 14], ['3', '3', 0], ['3', '2', 14], ['3', '36', 15], ['4', '4', 0], ['4', '5', 10], ['4', '6', 38], ['5', '5', 0], ['5', '4', 10], ['5', '6', 11], ['6', '6', 0], ['6', '5', 11], ['6', '7', 28], ['7', '7', 0], ['7', '5', 56], ['7', '6', 28], ['8', '8', 0], ['8', '9', 22], ['8', '10', 47], ['9', '9', 0], ['9', '8', 22], ['9', '10', 13], ['10', '10', 0], ['10', '9', 13], ['10', '11', 28], ['11', '11', 0], ['11', '9', 50], ['11', '10', 28], ['12', '12', 0], ['12', '13', 18], ['12', '14', 45], ['13', '13', 0], ['13', '12', 18], ['13', '14', 12], ['14', '14', 0], ['14', '13', 12], ['14', '15', 28], ['15', '15', 0], ['15', '13', 54], ['15', '14', 28], ['16', '16', 0], ['16', '17', 49], ['16', '18', 22], ['17', '17', 0], ['17', '18', 17], ['17', '19', 24], ['18', '18', 0], ['18', '16', 22], ['18', '17', 17], ['19', '19', 0], ['19', '17', 24], ['19', '18', 54], ['20', '20', 0], ['20', '48', 43], ['20', '49', 16], ['21', '21', 0], ['21', '39', 48], ['21', '40', 21], ['22', '22', 0], ['22', '34', 47], ['22', '35', 18], ['23', '23', 0], ['23', '19', 309], ['23', '57', 202], ['24', '24', 0], ['24', '27', 20], ['24', '28', 53], ['25', '25', 0], ['25', '28', 31], ['25', '32', 50], ['26', '26', 0], ['26', '30', 46], ['26', '41', 57], ['27', '27', 0], ['27', '0', 36], ['27', '24', 20], ['28', '28', 0], ['28', '25', 31], ['28', '29', 15], ['29', '29', 0], ['29', '28', 15], ['29', '30', 15], ['30', '30', 0], ['30', '29', 15], ['30', '31', 12], ['31', '31', 0], ['31', '30', 12], ['31', '46', 31], ['32', '32', 0], ['32', '28', 42], ['32', '33', 20], ['33', '33', 0], ['33', '32', 20], ['33', '34', 14], ['34', '34', 0], ['34', '33', 14], ['34', '35', 16], ['35', '35', 0], ['35', '22', 18], ['35', '34', 16], ['36', '36', 0], ['36', '3', 15], ['36', '50', 19], ['37', '37', 0], ['37', '29', 36], ['37', '38', 15], ['38', '38', 0], ['38', '37', 15], ['38', '39', 12], ['39', '39', 0], ['39', '38', 12], ['39', '40', 10], ['40', '40', 0], ['40', '21', 21], ['40', '39', 10], ['41', '41', 0], ['41', '42', 16], ['41', '43', 46], ['42', '42', 0], ['42', '41', 16], ['42', '43', 13], ['43', '43', 0], ['43', '42', 13], ['43', '44', 12], ['44', '44', 0], ['44', '43', 12], ['44', '45', 17], ['45', '45', 0], ['45', '43', 46], ['45', '44', 17], ['46', '46', 0], ['46', '31', 31], ['46', '47', 22], ['47', '47', 0], ['47', '46', 22], ['47', '48', 12], ['48', '48', 0], ['48', '47', 12], ['48', '49', 10], ['49', '49', 0], ['49', '20', 16], ['49', '48', 10], ['50', '50', 0], ['50', '36', 19], ['50', '51', 17], ['51', '51', 0], ['51', '36', 39], ['51', '50', 17], ['52', '52', 0], ['52', '53', 11], ['52', '54', 42], ['53', '53', 0], ['53', '52', 11], ['53', '54', 15], ['54', '54', 0], ['54', '52', 42], ['54', '53', 15], ['55', '55', 0], ['55', '54', 67], ['55', '56', 70], ['56', '56', 0], ['56', '54', 52], ['56', '55', 70], ['57', '57', 0], ['57', '15', 166], ['57', '19', 132], ['58', '58', 0], ['58', '24', 75], ['58', '27', 112]]}, '0060173256': {'objects': ['0', '1', '2', '3', '4', '5', '6', '7', '8', '9', '10', '11', '12', '13', '14', '15', '16', '17', '18', '19', '20', '21', '22', '23', '24', '25', '26', '27', '28', '29', '30', '31', '32', '33', '34', '35', '36', '37'], 'relationships': [['0', '0', 0], ['0', '20', 24], ['0', '22', 65], ['1', '1', 0], ['1', '22', 79], ['1', '23', 88], ['2', '2', 0], ['2', '4', 35], ['2', '21', 10], ['3', '3', 0], ['3', '22', 37], ['3', '24', 38], ['4', '4', 0], ['4', '2', 35], ['4', '21', 22], ['5', '5', 0], ['5', '7', 22], ['5', '8', 52], ['6', '6', 0], ['6', '4', 113], ['6', '36', 81], ['7', '7', 0], ['7', '5', 22], ['7', '8', 13], ['8', '8', 0], ['8', '5', 52], ['8', '7', 13], ['9', '9', 0], ['9', '33', 19], ['9', '34', 14], ['10', '10', 0], ['10', '11', 27], ['10', '29', 25], ['11', '11', 0], ['11', '16', 9], ['11', '30', 17], ['12', '12', 0], ['12', '13', 39], ['12', '30', 33], ['13', '13', 0], ['13', '12', 39], ['13', '30', 86], ['14', '14', 0], ['14', '15', 31], ['14', '31', 119], ['15', '15', 0], ['15', '13', 88], ['15', '14', 31], ['16', '16', 0], ['16', '11', 9], ['16', '17', 28], ['17', '17', 0], ['17', '16', 28], ['17', '31', 42], ['18', '18', 0], ['18', '20', 142], ['18', '35', 47], ['19', '19', 0], ['19', '0', 108], ['19', '22', 113], ['20', '20', 0], ['20', '0', 24], ['20', '35', 22], ['21', '21', 0], ['21', '2', 10], ['21', '4', 22], ['22', '22', 0], ['22', '3', 37], ['22', '24', 61], ['23', '23', 0], ['23', '25', 60], ['23', '26', 73], ['24', '24', 0], ['24', '3', 38], ['24', '22', 61], ['25', '25', 0], ['25', '5', 72], ['25', '23', 60], ['26', '26', 0], ['26', '23', 73], ['26', '25', 74], ['27', '27', 0], ['27', '28', 10], ['27', '37', 56], ['28', '28', 0], ['28', '27', 10], ['28', '37', 79], ['29', '29', 0], ['29', '10', 25], ['29', '32', 25], ['30', '30', 0], ['30', '11', 17], ['30', '31', 26], ['31', '31', 0], ['31', '17', 42], ['31', '30', 26], ['32', '32', 0], ['32', '10', 68], ['32', '29', 25], ['33', '33', 0], ['33', '9', 19], ['33', '34', 18], ['34', '34', 0], ['34', '9', 14], ['34', '33', 18], ['35', '35', 0], ['35', '18', 47], ['35', '20', 22], ['36', '36', 0], ['36', '4', 153], ['36', '6', 81], ['37', '37', 0], ['37', '24', 72], ['37', '27', 56]]}, '00866042': {'objects': ['0', '1', '2', '3', '4', '5', '6', '7', '8', '9', '10', '11', '12', '13', '14', '15', '16', '17', '18', '19', '20', '21', '22', '23', '24', '25', '26', '27', '28', '29', '30', '31', '32', '33', '34', '35', '36', '37', '38', '39', '40', '41', '42', '43', '44', '45', '46', '47', '48', '49', '50', '51', '52', '53', '54', '55', '56', '57', '58', '59', '60', '61', '62', '63', '64'], 'relationships': [['0', '0', 0], ['0', '1', 10], ['0', '43', 20], ['1', '1', 0], ['1', '0', 10], ['1', '2', 7], ['2', '2', 0], ['2', '1', 7], ['2', '47', 11], ['3', '3', 0], ['3', '4', 9], ['3', '7', 26], ['4', '4', 0], ['4', '3', 9], ['4', '7', 23], ['5', '5', 0], ['5', '7', 34], ['5', '48', 10], ['6', '6', 0], ['6', '8', 14], ['6', '49', 51], ['7', '7', 0], ['7', '3', 26], ['7', '4', 23], ['8', '8', 0], ['8', '6', 14], ['8', '18', 118], ['9', '9', 0], ['9', '31', 31], ['9', '35', 34], ['10', '10', 0], ['10', '28', 26], ['10', '32', 34], ['11', '11', 0], ['11', '10', 150], ['11', '28', 130], ['12', '12', 0], ['12', '13', 33], ['12', '14', 30], ['13', '13', 0], ['13', '14', 9], ['13', '35', 7], ['14', '14', 0], ['14', '13', 9], ['14', '35', 4], ['15', '15', 0], ['15', '13', 26], ['15', '14', 15], ['16', '16', 0], ['16', '13', 40], ['16', '37', 18], ['17', '17', 0], ['17', '16', 69], ['17', '38', 21], ['18', '18', 0], ['18', '56', 15], ['18', '57', 15], ['19', '19', 0], ['19', '20', 6], ['19', '21', 23], ['20', '20', 0], ['20', '19', 6], ['20', '21', 6], ['21', '21', 0], ['21', '19', 23], ['21', '20', 6], ['22', '22', 0], ['22', '40', 70], ['22', '41', 51], ['23', '23', 0], ['23', '9', 45], ['23', '35', 38], ['24', '24', 0], ['24', '52', 44], ['24', '54', 32], ['25', '25', 0], ['25', '62', 330], ['25', '63', 294], ['26', '26', 0], ['26', '28', 29], ['26', '31', 42], ['27', '27', 0], ['27', '29', 44], ['27', '33', 64], ['28', '28', 0], ['28', '10', 26], ['28', '26', 29], ['29', '29', 0], ['29', '30', 23], ['29', '33', 7], ['30', '30', 0], ['30', '29', 23], ['30', '31', 69], ['31', '31', 0], ['31', '9', 31], ['31', '26', 42], ['32', '32', 0], ['32', '10', 34], ['32', '12', 35], ['33', '33', 0], ['33', '29', 7], ['33', '34', 4], ['34', '34', 0], ['34', '33', 4], ['34', '39', 12], ['35', '35', 0], ['35', '13', 7], ['35', '14', 4], ['36', '36', 0], ['36', '35', 30], ['36', '37', 47], ['37', '37', 0], ['37', '13', 15], ['37', '16', 18], ['38', '38', 0], ['38', '17', 21], ['38', '37', 52], ['39', '39', 0], ['39', '33', 30], ['39', '34', 12], ['40', '40', 0], ['40', '41', 3], ['40', '42', 12], ['41', '41', 0], ['41', '22', 51], ['41', '40', 3], ['42', '42', 0], ['42', '40', 12], ['42', '43', 40], ['43', '43', 0], ['43', '0', 20], ['43', '42', 40], ['44', '44', 0], ['44', '41', 74], ['44', '45', 55], ['45', '45', 0], ['45', '44', 55], ['45', '46', 8], ['46', '46', 0], ['46', '6', 54], ['46', '45', 8], ['47', '47', 0], ['47', '1', 27], ['47', '2', 11], ['48', '48', 0], ['48', '5', 10], ['48', '49', 14], ['49', '49', 0], ['49', '6', 51], ['49', '48', 14], ['50', '50', 0], ['50', '51', 56], ['50', '53', 32], ['51', '51', 0], ['51', '52', 4], ['51', '53', 47], ['52', '52', 0], ['52', '24', 44], ['52', '51', 4], ['53', '53', 0], ['53', '50', 32], ['53', '54', 22], ['54', '54', 0], ['54', '53', 22], ['54', '55', 15], ['55', '55', 0], ['55', '54', 15], ['55', '56', 15], ['56', '56', 0], ['56', '18', 15], ['56', '55', 15], ['56', '57', 14], ['57', '57', 0], ['57', '56', 14], ['57', '58', 1], ['58', '58', 0], ['58', '57', 1], ['58', '59', 2], ['59', '59', 0], ['59', '57', 16], ['59', '58', 2], ['60', '60', 0], ['60', '61', 15], ['60', '62', 40], ['61', '61', 0], ['61', '60', 15], ['61', '62', 13], ['62', '62', 0], ['62', '61', 13], ['62', '63', 9], ['63', '63', 0], ['63', '61', 43], ['63', '62', 9], ['64', '64', 0], ['64', '62', 353], ['64', '63', 322]]}, '91581919': {'objects': ['0', '1', '2', '3', '4', '5', '6', '7', '8', '9', '10', '11', '12', '13', '14', '15', '16', '17', '18', '19', '20', '21', '22', '23', '24', '25', '26', '27', '28', '29', '30', '31', '32', '33', '34', '35', '36', '37', '38', '39', '40', '41'], 'relationships': [['0', '0', 0], ['0', '1', 35], ['0', '16', 44], ['1', '1', 0], ['1', '0', 35], ['1', '20', 12], ['2', '2', 0], ['2', '23', 38], ['2', '24', 30], ['3', '3', 0], ['3', '4', 16], ['3', '29', 25], ['4', '4', 0], ['4', '3', 16], ['4', '29', 56], ['5', '5', 0], ['5', '30', 59], ['5', '32', 25], ['6', '6', 0], ['6', '8', 36], ['6', '13', 60], ['7', '7', 0], ['7', '38', 99], ['7', '39', 73], ['8', '8', 0], ['8', '6', 36], ['8', '9', 49], ['9', '9', 0], ['9', '36', 17], ['9', '37', 5], ['10', '10', 0], ['10', '11', 8], ['10', '35', 14], ['11', '11', 0], ['11', '10', 8], ['11', '12', 1], ['12', '12', 0], ['12', '10', 57], ['12', '11', 1], ['13', '13', 0], ['13', '6', 60], ['13', '12', 106], ['14', '14', 0], ['14', '26', 24], ['14', '27', 33], ['15', '15', 0], ['15', '16', 97], ['15', '17', 80], ['16', '16', 0], ['16', '0', 44], ['16', '18', 50], ['17', '17', 0], ['17', '18', 13], ['17', '21', 31], ['18', '18', 0], ['18', '16', 50], ['18', '17', 13], ['19', '19', 0], ['19', '1', 58], ['19', '20', 18], ['20', '20', 0], ['20', '1', 12], ['20', '19', 18], ['21', '21', 0], ['21', '22', 19], ['21', '23', 14], ['22', '22', 0], ['22', '21', 19], ['22', '24', 7], ['23', '23', 0], ['23', '21', 14], ['23', '24', 13], ['24', '24', 0], ['24', '22', 7], ['24', '23', 13], ['25', '25', 0], ['25', '26', 15], ['25', '27', 13], ['26', '26', 0], ['26', '14', 24], ['26', '25', 15], ['27', '27', 0], ['27', '25', 13], ['27', '28', 11], ['28', '28', 0], ['28', '27', 11], ['28', '29', 17], ['29', '29', 0], ['29', '28', 17], ['29', '30', 20], ['30', '30', 0], ['30', '29', 20], ['30', '31', 23], ['31', '31', 0], ['31', '30', 23], ['31', '33', 48], ['32', '32', 0], ['32', '5', 25], ['32', '30', 30], ['33', '33', 0], ['33', '31', 48], ['33', '34', 16], ['34', '34', 0], ['34', '31', 80], ['34', '33', 16], ['35', '35', 0], ['35', '10', 14], ['35', '11', 48], ['36', '36', 0], ['36', '9', 17], ['36', '39', 14], ['37', '37', 0], ['37', '9', 5], ['37', '38', 16], ['38', '38', 0], ['38', '9', 79], ['38', '37', 16], ['39', '39', 0], ['39', '36', 14], ['39', '40', 18], ['40', '40', 0], ['40', '39', 18], ['40', '41', 38], ['41', '41', 0], ['41', '7', 114], ['41', '40', 38]]}, '12825369': {'objects': ['0', '1', '2', '3', '4', '5', '6', '7', '8', '9', '10', '11', '12', '13', '14', '15', '16', '17', '18', '19', '20', '21', '22', '23', '24', '25', '26', '27', '28', '29', '30', '31', '32', '33', '34', '35', '36', '37', '38', '39', '40', '41', '42'], 'relationships': [['0', '0', 0], ['0', '1', 16], ['0', '7', 17], ['1', '1', 0], ['1', '0', 16], ['1', '2', 18], ['2', '2', 0], ['2', '1', 18], ['2', '24', 33], ['3', '3', 0], ['3', '4', 16], ['3', '8', 25], ['4', '4', 0], ['4', '3', 16], ['4', '25', 11], ['5', '5', 0], ['5', '4', 19], ['5', '6', 16], ['6', '6', 0], ['6', '4', 49], ['6', '5', 16], ['7', '7', 0], ['7', '0', 17], ['7', '23', 48], ['8', '8', 0], ['8', '3', 25], ['8', '25', 21], ['9', '9', 0], ['9', '25', 57], ['9', '26', 67], ['10', '10', 0], ['10', '5', 83], ['10', '6', 56], ['11', '11', 0], ['11', '27', 78], ['11', '28', 18], ['12', '12', 0], ['12', '27', 18], ['12', '34', 21], ['13', '13', 0], ['13', '34', 10], ['13', '35', 3], ['14', '14', 0], ['14', '15', 3], ['14', '30', 58], ['15', '15', 0], ['15', '14', 3], ['15', '30', 13], ['16', '16', 0], ['16', '17', 5], ['16', '34', 76], ['17', '17', 0], ['17', '16', 5], ['17', '34', 43], ['18', '18', 0], ['18', '36', 5], ['18', '37', 6], ['19', '19', 0], ['19', '39', 3], ['19', '40', 9], ['20', '20', 0], ['20', '21', 93], ['20', '39', 209], ['21', '21', 0], ['21', '20', 93], ['21', '36', 360], ['22', '22', 0], ['22', '7', 85], ['22', '23', 78], ['23', '23', 0], ['23', '1', 34], ['23', '24', 23], ['24', '24', 0], ['24', '2', 33], ['24', '23', 23], ['25', '25', 0], ['25', '4', 11], ['25', '8', 21], ['26', '26', 0], ['26', '9', 67], ['26', '25', 72], ['27', '27', 0], ['27', '12', 18], ['27', '29', 47], ['28', '28', 0], ['28', '11', 18], ['28', '29', 50], ['29', '29', 0], ['29', '12', 41], ['29', '27', 47], ['30', '30', 0], ['30', '15', 13], ['30', '33', 19], ['31', '31', 0], ['31', '30', 45], ['31', '33', 34], ['32', '32', 0], ['32', '31', 53], ['32', '33', 40], ['33', '33', 0], ['33', '30', 19], ['33', '31', 34], ['34', '34', 0], ['34', '12', 21], ['34', '13', 10], ['35', '35', 0], ['35', '13', 3], ['35', '34', 41], ['36', '36', 0], ['36', '18', 5], ['36', '37', 100], ['37', '37', 0], ['37', '18', 6], ['37', '38', 10], ['38', '38', 0], ['38', '18', 79], ['38', '37', 10], ['39', '39', 0], ['39', '19', 3], ['39', '40', 146], ['40', '40', 0], ['40', '19', 9], ['40', '38', 93], ['41', '41', 0], ['41', '40', 158], ['41', '42', 77], ['42', '42', 0], ['42', '40', 250], ['42', '41', 77]]}}\n"
          ],
          "name": "stdout"
        }
      ]
    },
    {
      "cell_type": "code",
      "metadata": {
        "id": "0tiX_wyfIED_"
      },
      "source": [
        "label_list_train = df_train_clean['label'].to_list()\n",
        "label_list_eval = df_eval_clean['label'].to_list()"
      ],
      "execution_count": null,
      "outputs": []
    },
    {
      "cell_type": "code",
      "metadata": {
        "id": "aXUqw4FxIn4s"
      },
      "source": [
        "id_list_train = df_train_clean['density'].to_list()\n",
        "id_list_eval = df_eval_clean['density'].to_list()"
      ],
      "execution_count": null,
      "outputs": []
    },
    {
      "cell_type": "code",
      "metadata": {
        "id": "uu-UcP7cGcpS"
      },
      "source": [
        "img_list_train = df_train_clean['image'].to_list()\n",
        "img_list_eval = df_eval_clean['image'].to_list()"
      ],
      "execution_count": null,
      "outputs": []
    },
    {
      "cell_type": "code",
      "metadata": {
        "id": "3CKOPtN6Iefr"
      },
      "source": [
        "obj_list_train = []\n",
        "for i in range(len(id_list_train)):\n",
        "  tem = []\n",
        "  tem = [id_list_train[i],img_list_train[i]]\n",
        "  obj_list_train.append(tem)\n",
        "obj_list_eval = []\n",
        "for i in range(len(id_list_eval)):\n",
        "  tem = []\n",
        "  tem = [id_list_eval[i],img_list_eval[i]]\n",
        "  obj_list_eval.append(tem)"
      ],
      "execution_count": null,
      "outputs": []
    },
    {
      "cell_type": "code",
      "metadata": {
        "colab": {
          "base_uri": "https://localhost:8080/"
        },
        "id": "nuplDSfsImMU",
        "outputId": "da89f871-75ee-4903-b64b-dbe7f0bfe4ba"
      },
      "source": [
        "print(len(obj_list_train))"
      ],
      "execution_count": null,
      "outputs": [
        {
          "output_type": "stream",
          "text": [
            "26969\n"
          ],
          "name": "stdout"
        }
      ]
    },
    {
      "cell_type": "markdown",
      "metadata": {
        "id": "fal52emMue4w"
      },
      "source": [
        "## Convert label into one-hot"
      ]
    },
    {
      "cell_type": "code",
      "metadata": {
        "id": "cg2jOKrAi8ho"
      },
      "source": [
        "from sklearn.preprocessing import LabelEncoder\n",
        "import numpy as np\n",
        "num_class = len(list(set(label_list_train)))\n",
        "lEnc = LabelEncoder()\n",
        "lEnc.fit(np.unique(list(set(label_list_train))))\n",
        "labels_one_hot_train = {}\n",
        "for f in label_dict_train:\n",
        "  num_labels = lEnc.transform(label_dict_train[f])\n",
        "  labels_one_hot_train[f] = []\n",
        "  for l in num_labels:\n",
        "    to_add = [0]*num_class\n",
        "    to_add[l]=1\n",
        "    labels_one_hot_train[f].append(to_add)\n",
        "\n",
        "labels_one_hot_eval = {}\n",
        "for f in label_dict_eval:\n",
        "  lEnc = LabelEncoder()\n",
        "  lEnc.fit(np.unique(label_dict_eval[f]))\n",
        "  num_labels = lEnc.transform(label_dict_eval[f])\n",
        "  labels_one_hot_eval[f] = []\n",
        "  for l in num_labels:\n",
        "    to_add = [0]*num_class\n",
        "    to_add[l]=1\n",
        "    labels_one_hot_eval[f].append(to_add)"
      ],
      "execution_count": null,
      "outputs": []
    },
    {
      "cell_type": "code",
      "metadata": {
        "colab": {
          "base_uri": "https://localhost:8080/"
        },
        "id": "0Cx9gN-_B5eI",
        "outputId": "06aa646d-f7bd-4eea-aed1-8cce78fca068"
      },
      "source": [
        "print(len(labels_one_hot_train))"
      ],
      "execution_count": null,
      "outputs": [
        {
          "output_type": "stream",
          "text": [
            "149\n"
          ],
          "name": "stdout"
        }
      ]
    },
    {
      "cell_type": "markdown",
      "metadata": {
        "id": "s9sogUkt5S2Z"
      },
      "source": [
        "## Build Graph"
      ]
    },
    {
      "cell_type": "markdown",
      "metadata": {
        "id": "xtoLK_KcB60l"
      },
      "source": [
        "Build empty node list of **each image** for training and validation data"
      ]
    },
    {
      "cell_type": "code",
      "metadata": {
        "id": "5wapjtC3urEY"
      },
      "source": [
        "node_lists_train = {}\n",
        "for l in new_train_list_dict:\n",
        "  node_lists_train[l] = []\n",
        "  for obj in new_train_list_dict[l]['objects']:\n",
        "    node_lists_train[l].append(obj)\n",
        "node_lists_eval = {}\n",
        "for l in new_eval_list_dict:\n",
        "  node_lists_eval[l] = []\n",
        "  for obj in new_eval_list_dict[l]['objects']:\n",
        "    node_lists_eval[l].append(obj)\n"
      ],
      "execution_count": null,
      "outputs": []
    },
    {
      "cell_type": "markdown",
      "metadata": {
        "id": "CmkCn1NLCImv"
      },
      "source": [
        "Build empty local graph for each image. Each object key contains two empty list to store gap and related other objects"
      ]
    },
    {
      "cell_type": "code",
      "metadata": {
        "id": "ea7iGEDQUlOh"
      },
      "source": [
        "# build local graph\n",
        "object_graph_dict_train = {}\n",
        "for l in new_train_list_dict:\n",
        "  object_graph_dict_train[l] = {}\n",
        "  for obj in new_train_list_dict[l]['objects']:\n",
        "    object_graph_dict_train[l][obj] = {}\n",
        "    object_graph_dict_train[l][obj]['gap'] = []\n",
        "    object_graph_dict_train[l][obj]['obj2'] = []\n",
        "\n",
        "object_graph_dict_eval = {}\n",
        "for l in new_eval_list_dict:\n",
        "  object_graph_dict_eval[l] = {}\n",
        "  for obj in new_eval_list_dict[l]['objects']:\n",
        "    object_graph_dict_eval[l][obj] = {}\n",
        "    object_graph_dict_eval[l][obj]['gap'] = []\n",
        "    object_graph_dict_eval[l][obj]['obj2'] = []"
      ],
      "execution_count": null,
      "outputs": []
    },
    {
      "cell_type": "markdown",
      "metadata": {
        "id": "esocb1MqGLsM"
      },
      "source": [
        "Fill up the empty graph based on scene graph json file"
      ]
    },
    {
      "cell_type": "code",
      "metadata": {
        "id": "kLHpMbpbu3am"
      },
      "source": [
        "#fill the empty graph\n",
        "for sg in list_dict_train:\n",
        "    obj_list = list_dict_train[sg]['objects']\n",
        "    for rel_item in list_dict_train[sg]['relationships']:\n",
        "        obj1 = str(rel_item[0])\n",
        "        obj2 = str(rel_item[1])\n",
        "        object_graph_dict_train[sg][rel_item[0]]['obj2'].append(obj2)\n",
        "        object_graph_dict_train[sg][rel_item[0]]['gap'].append(rel_item[2])\n",
        "\n",
        "#fill the empty graph\n",
        "for sg in list_dict_test:\n",
        "    obj_list = list_dict_test[sg]['objects']\n",
        "    for rel_item in list_dict_test[sg]['relationships']:\n",
        "        obj1 = str(rel_item[0])\n",
        "        obj2 = str(rel_item[1])\n",
        "        object_graph_dict_eval[sg][rel_item[0]]['obj2'].append(obj2)\n",
        "        object_graph_dict_eval[sg][rel_item[0]]['gap'].append(rel_item[2])"
      ],
      "execution_count": null,
      "outputs": []
    },
    {
      "cell_type": "code",
      "metadata": {
        "colab": {
          "base_uri": "https://localhost:8080/"
        },
        "id": "IEQD_v1hTLrW",
        "outputId": "41f2cd23-35ab-4e5c-c63b-36c6c82a25b9"
      },
      "source": [
        "print(object_graph_dict_train['0000971160'])"
      ],
      "execution_count": null,
      "outputs": [
        {
          "output_type": "stream",
          "text": [
            "{'0': {'gap': [0, 62, 173], 'obj2': ['0', '9', '11']}, '1': {'gap': [0, 14, 1], 'obj2': ['1', '14', '15']}, '2': {'gap': [0, 28, 30], 'obj2': ['2', '15', '16']}, '3': {'gap': [0, 34, 29], 'obj2': ['3', '11', '12']}, '4': {'gap': [0, 56, 21], 'obj2': ['4', '3', '13']}, '5': {'gap': [0, 113, 22], 'obj2': ['5', '20', '21']}, '6': {'gap': [0, 64, 66], 'obj2': ['6', '7', '19']}, '7': {'gap': [0, 64, 152], 'obj2': ['7', '6', '19']}, '8': {'gap': [0, 341, 307], 'obj2': ['8', '6', '7']}, '9': {'gap': [0, 62, 82], 'obj2': ['9', '0', '11']}, '10': {'gap': [0, 12, 29], 'obj2': ['10', '11', '15']}, '11': {'gap': [0, 33, 12], 'obj2': ['11', '1', '10']}, '12': {'gap': [0, 29, 62], 'obj2': ['12', '3', '4']}, '13': {'gap': [0, 90, 21], 'obj2': ['13', '3', '4']}, '14': {'gap': [0, 14, 21], 'obj2': ['14', '1', '15']}, '15': {'gap': [0, 1, 21], 'obj2': ['15', '1', '14']}, '16': {'gap': [0, 48, 30], 'obj2': ['16', '1', '2']}, '17': {'gap': [0, 16, 105], 'obj2': ['17', '18', '19']}, '18': {'gap': [0, 109, 16], 'obj2': ['18', '16', '17']}, '19': {'gap': [0, 29, 41], 'obj2': ['19', '20', '22']}, '20': {'gap': [0, 28, 12], 'obj2': ['20', '21', '22']}, '21': {'gap': [0, 22, 28], 'obj2': ['21', '5', '20']}, '22': {'gap': [0, 41, 12], 'obj2': ['22', '19', '20']}, '23': {'gap': [0, 162, 149], 'obj2': ['23', '20', '22']}}\n"
          ],
          "name": "stdout"
        }
      ]
    },
    {
      "cell_type": "code",
      "metadata": {
        "id": "l1RcUHYSxpsQ"
      },
      "source": [
        "node_size_train = []\n",
        "for f in object_graph_dict_train:\n",
        "  l = object_graph_dict_train[f].keys()\n",
        "  node_size_train.append(len(l))\n",
        "\n",
        "node_size_eval = []\n",
        "for f in object_graph_dict_eval:\n",
        "  l = object_graph_dict_eval[f].keys()\n",
        "  node_size_eval.append(len(l))"
      ],
      "execution_count": null,
      "outputs": []
    },
    {
      "cell_type": "code",
      "metadata": {
        "id": "n7RQhopgdISh"
      },
      "source": [
        "max_len = 181\n",
        "col_train = {}\n",
        "row_train = {}\n",
        "weight_train = {}\n",
        "for f in object_graph_dict_train:\n",
        "  col_train[f] = []\n",
        "  row_train[f] = []\n",
        "  weight_train[f] = []\n",
        "  for obj in object_graph_dict_train[f]:\n",
        "    obj_rel_list = object_graph_dict_train[f][obj]['obj2']\n",
        "    for obj2 in object_graph_dict_train[f]:\n",
        "      if obj2 in obj_rel_list:\n",
        "        for i in range(len(obj_rel_list)):\n",
        "          if obj2 == obj_rel_list[i]:\n",
        "            weight_train[f].append(1/(object_graph_dict_train[f][obj]['gap'][i]+1000))\n",
        "            row_train[f].append(obj)\n",
        "            col_train[f].append(obj2)\n",
        "      else:\n",
        "        weight_train[f].append(0.0)\n",
        "        row_train[f].append(obj)\n",
        "        col_train[f].append(obj2)\n"
      ],
      "execution_count": null,
      "outputs": []
    },
    {
      "cell_type": "code",
      "metadata": {
        "id": "0pGmG98jeMol"
      },
      "source": [
        "max_len = 181\n",
        "col_eval = {}\n",
        "row_eval = {}\n",
        "weight_eval = {}\n",
        "for f in object_graph_dict_eval:\n",
        "  col_eval[f] = []\n",
        "  row_eval[f] = []\n",
        "  weight_eval[f] = []\n",
        "  for obj in object_graph_dict_eval[f]:\n",
        "    obj_rel_list = object_graph_dict_eval[f][obj]['obj2']\n",
        "    for obj2 in object_graph_dict_eval[f]:\n",
        "      if obj2 in obj_rel_list:\n",
        "        for i in range(len(obj_rel_list)):\n",
        "          if obj2 == obj_rel_list[i]:\n",
        "            weight_eval[f].append(1/(object_graph_dict_eval[f][obj]['gap'][i]+1000))\n",
        "            row_eval[f].append(obj)\n",
        "            col_eval[f].append(obj2)\n",
        "      else:\n",
        "        weight_eval[f].append(0.0)\n",
        "        row_eval[f].append(obj)\n",
        "        col_eval[f].append(obj2)\n"
      ],
      "execution_count": null,
      "outputs": []
    },
    {
      "cell_type": "code",
      "metadata": {
        "id": "kD4wDEbP4Jmg"
      },
      "source": [
        "#PROBLEMS\n",
        "# how to determine the weight to the node itself\n",
        "# how to padding the node"
      ],
      "execution_count": null,
      "outputs": []
    },
    {
      "cell_type": "code",
      "metadata": {
        "id": "kYsUdteVLz_e"
      },
      "source": [
        "import scipy.sparse as sp\n",
        "node_size = 181\n",
        "adj_train = {}\n",
        "for f in weight_train:\n",
        "  adj_train[f] = sp.csr_matrix((weight_train[f], (row_train[f], col_train[f])), shape=(node_size, node_size))"
      ],
      "execution_count": null,
      "outputs": []
    },
    {
      "cell_type": "code",
      "metadata": {
        "id": "Num0kxITOwK6"
      },
      "source": [
        "import scipy.sparse as sp\n",
        "node_size = 181\n",
        "adj_eval = {}\n",
        "for f in weight_eval:\n",
        "  adj_eval[f] = sp.csr_matrix((weight_eval[f], (row_eval[f], col_eval[f])), shape=(node_size, node_size))"
      ],
      "execution_count": null,
      "outputs": []
    },
    {
      "cell_type": "markdown",
      "metadata": {
        "id": "flepFSOhKBMU"
      },
      "source": [
        "### With padding weight and nodes"
      ]
    },
    {
      "cell_type": "code",
      "metadata": {
        "colab": {
          "base_uri": "https://localhost:8080/"
        },
        "id": "lGzPlf44KIER",
        "outputId": "f2ffb2c7-a494-4ed9-ce28-1f6caeeb8169"
      },
      "source": [
        "'''\n",
        "#padding methods\n",
        "#weight for padding is -1\n",
        "#node id if for padding nodes is -1\n",
        "max_len = 181\n",
        "col = {}\n",
        "row = {}\n",
        "weight = {}\n",
        "for f in object_graph_dict:\n",
        "  col[f] = []\n",
        "  row[f] = []\n",
        "  weight[f] = []\n",
        "  for obj in object_graph_dict[f]:\n",
        "    obj_rel_list = object_graph_dict[f][obj]['obj2']\n",
        "    for i in range(len(obj_rel_list)):\n",
        "      try:\n",
        "        weight[f].append(1/object_graph_dict[f][obj]['gap'][i])\n",
        "      except:\n",
        "        weight[f].append(0.0)\n",
        "      row[f].append(obj)\n",
        "      col[f].append(obj_rel_list[i])\n",
        "    # padding exsiting nodes to virtual nodes\n",
        "    for j in range(len(obj_rel_list),max_len):\n",
        "      weight[f].append(-1)\n",
        "      row[f].append(str(j))\n",
        "      col[f].append(str(j))\n",
        "  # padding nodes and relationships\n",
        "  for k in range(len(object_graph_dict[f].keys()),max_len):\n",
        "    for m in range(max_len):\n",
        "      weight[f].append(-1)\n",
        "      row[f].append(str(j))\n",
        "      col[f].append(str(j))\n",
        "'''"
      ],
      "execution_count": null,
      "outputs": [
        {
          "output_type": "execute_result",
          "data": {
            "application/vnd.google.colaboratory.intrinsic+json": {
              "type": "string"
            },
            "text/plain": [
              "\"\\n#padding methods\\n#weight for padding is -1\\n#node id if for padding nodes is -1\\nmax_len = 181\\ncol = {}\\nrow = {}\\nweight = {}\\nfor f in object_graph_dict:\\n  col[f] = []\\n  row[f] = []\\n  weight[f] = []\\n  for obj in object_graph_dict[f]:\\n    obj_rel_list = object_graph_dict[f][obj]['obj2']\\n    for i in range(len(obj_rel_list)):\\n      try:\\n        weight[f].append(1/object_graph_dict[f][obj]['gap'][i])\\n      except:\\n        weight[f].append(0.0)\\n      row[f].append(obj)\\n      col[f].append(obj_rel_list[i])\\n    # padding exsiting nodes to virtual nodes\\n    for j in range(len(obj_rel_list),max_len):\\n      weight[f].append(-1)\\n      row[f].append(str(j))\\n      col[f].append(str(j))\\n  # padding nodes and relationships\\n  for k in range(len(object_graph_dict[f].keys()),max_len):\\n    for m in range(max_len):\\n      weight[f].append(-1)\\n      row[f].append(str(j))\\n      col[f].append(str(j))\\n\""
            ]
          },
          "metadata": {
            "tags": []
          },
          "execution_count": 266
        }
      ]
    },
    {
      "cell_type": "markdown",
      "metadata": {
        "id": "XM89cDQb0j5Q"
      },
      "source": [
        "##Build Model"
      ]
    },
    {
      "cell_type": "code",
      "metadata": {
        "id": "mBRi-q_R0npl"
      },
      "source": [
        "# from inits import *\n",
        "import tensorflow.compat.v1 as tf\n",
        "\n",
        "flags = tf.app.flags\n",
        "FLAGS = flags.FLAGS\n",
        "\n",
        "# global unique layer ID dictionary for layer name assignment\n",
        "_LAYER_UIDS = {}\n",
        "\n",
        "\n",
        "def get_layer_uid(layer_name=''):\n",
        "    \"\"\"Helper function, assigns unique layer IDs.\"\"\"\n",
        "    if layer_name not in _LAYER_UIDS:\n",
        "        _LAYER_UIDS[layer_name] = 1\n",
        "        return 1\n",
        "    else:\n",
        "        _LAYER_UIDS[layer_name] += 1\n",
        "        return _LAYER_UIDS[layer_name]\n",
        "\n",
        "\n",
        "def sparse_dropout(x, keep_prob, noise_shape):\n",
        "    \"\"\"Dropout for sparse tensors.\"\"\"\n",
        "    random_tensor = keep_prob\n",
        "    random_tensor += tf.random_uniform(noise_shape)\n",
        "    dropout_mask = tf.cast(tf.floor(random_tensor), dtype=tf.bool)\n",
        "    pre_out = tf.sparse_retain(x, dropout_mask)\n",
        "    return pre_out * (1./keep_prob)\n",
        "\n",
        "\n",
        "def dot(x, y, sparse=False):\n",
        "    \"\"\"Wrapper for tf.matmul (sparse vs dense).\"\"\"\n",
        "    if sparse:\n",
        "        res = tf.sparse_tensor_dense_matmul(x, y)\n",
        "    else:\n",
        "        res = tf.matmul(x, y)\n",
        "    return res\n",
        "\n",
        "\n",
        "class Layer(object):\n",
        "    \"\"\"Base layer class. Defines basic API for all layer objects.\n",
        "    Implementation inspired by keras (http://keras.io).\n",
        "\n",
        "    # Properties\n",
        "        name: String, defines the variable scope of the layer.\n",
        "        logging: Boolean, switches Tensorflow histogram logging on/off\n",
        "\n",
        "    # Methods\n",
        "        _call(inputs): Defines computation graph of layer\n",
        "            (i.e. takes input, returns output)\n",
        "        __call__(inputs): Wrapper for _call()\n",
        "        _log_vars(): Log all variables\n",
        "    \"\"\"\n",
        "\n",
        "    def __init__(self, **kwargs):\n",
        "        allowed_kwargs = {'name', 'logging'}\n",
        "        for kwarg in kwargs.keys():\n",
        "            assert kwarg in allowed_kwargs, 'Invalid keyword argument: ' + kwarg\n",
        "        name = kwargs.get('name')\n",
        "        if not name:\n",
        "            layer = self.__class__.__name__.lower()\n",
        "            name = layer + '_' + str(get_layer_uid(layer))\n",
        "        self.name = name\n",
        "        self.vars = {}\n",
        "        logging = kwargs.get('logging', False)\n",
        "        self.logging = logging\n",
        "        self.sparse_inputs = False\n",
        "\n",
        "    def _call(self, inputs):\n",
        "        return inputs\n",
        "\n",
        "    def __call__(self, inputs):\n",
        "        with tf.name_scope(self.name):\n",
        "            if self.logging and not self.sparse_inputs:\n",
        "                tf.summary.histogram(self.name + '/inputs', inputs)\n",
        "            outputs = self._call(inputs)\n",
        "            if self.logging:\n",
        "                tf.summary.histogram(self.name + '/outputs', outputs)\n",
        "            return outputs\n",
        "\n",
        "    def _log_vars(self):\n",
        "        for var in self.vars:\n",
        "            tf.summary.histogram(self.name + '/vars/' + var, self.vars[var])\n",
        "\n",
        "\n",
        "\n",
        "class GraphConvolution(Layer):\n",
        "    \"\"\"Graph convolution layer.\"\"\"\n",
        "    def __init__(self, input_dim, output_dim, placeholders, dropout=0.,\n",
        "                 sparse_inputs=False, act=tf.nn.relu, bias=False,\n",
        "                 featureless=False, **kwargs):\n",
        "        super(GraphConvolution, self).__init__(**kwargs)\n",
        "\n",
        "        if dropout:\n",
        "            self.dropout = placeholders['dropout']\n",
        "        else:\n",
        "            self.dropout = 0.\n",
        "\n",
        "        self.act = act\n",
        "        self.support = placeholders['support']\n",
        "        self.sparse_inputs = sparse_inputs\n",
        "        self.featureless = featureless\n",
        "        self.bias = bias\n",
        "\n",
        "        # helper variable for sparse dropout\n",
        "        self.num_features_nonzero = placeholders['num_features_nonzero']\n",
        "\n",
        "        with tf.variable_scope(self.name + '_vars'):\n",
        "            for i in range(len(self.support)):\n",
        "                self.vars['weights_' + str(i)] = glorot([input_dim, output_dim],\n",
        "                                                        name='weights_' + str(i))\n",
        "            if self.bias:\n",
        "                self.vars['bias'] = zeros([output_dim], name='bias')\n",
        "\n",
        "        if self.logging:\n",
        "            self._log_vars()\n",
        "\n",
        "    def _call(self, inputs):\n",
        "        x = inputs\n",
        "\n",
        "        # dropout\n",
        "        if self.sparse_inputs:\n",
        "            x = sparse_dropout(x, 1-self.dropout, self.num_features_nonzero)\n",
        "        else:\n",
        "            x = tf.nn.dropout(x, 1-self.dropout)\n",
        "\n",
        "        # convolve\n",
        "        supports = list()\n",
        "        for i in range(len(self.support)):\n",
        "            if not self.featureless:\n",
        "                pre_sup = dot(x, self.vars['weights_' + str(i)],\n",
        "                              sparse=self.sparse_inputs)\n",
        "            else:\n",
        "                pre_sup = self.vars['weights_' + str(i)]            \n",
        "            support = dot(self.support[i], pre_sup, sparse=True)\n",
        "            supports.append(support)\n",
        "        output = tf.add_n(supports)\n",
        "\n",
        "        # bias\n",
        "        if self.bias:\n",
        "            output += self.vars['bias']\n",
        "\t\t\t\n",
        "\t\t\n",
        "        self.embedding = output #output\n",
        "        return self.act(output)\n"
      ],
      "execution_count": null,
      "outputs": []
    },
    {
      "cell_type": "code",
      "metadata": {
        "id": "SkVgGB0k0xOH"
      },
      "source": [
        "# from metrics import *\n",
        "import tensorflow.compat.v1 as tf\n",
        "\n",
        "flags = tf.app.flags\n",
        "FLAGS = flags.FLAGS\n",
        "\n",
        "def glorot(shape, name=None):\n",
        "    \"\"\"Glorot & Bengio (AISTATS 2010) init.\"\"\"\n",
        "    init_range = np.sqrt(6.0/(shape[0]+shape[1]))\n",
        "    initial = tf.random_uniform(shape, minval=-init_range, maxval=init_range, dtype=tf.float32)\n",
        "    return tf.Variable(initial, name=name)\n",
        "\n",
        "class Model(object):\n",
        "    def __init__(self, **kwargs):\n",
        "        allowed_kwargs = {'name', 'logging'}\n",
        "        for kwarg in kwargs.keys():\n",
        "            assert kwarg in allowed_kwargs, 'Invalid keyword argument: ' + kwarg\n",
        "        name = kwargs.get('name')\n",
        "        if not name:\n",
        "            name = self.__class__.__name__.lower()\n",
        "        self.name = name\n",
        "\n",
        "        logging = kwargs.get('logging', False)\n",
        "        self.logging = logging\n",
        "\n",
        "        self.vars = {}\n",
        "        self.placeholders = {}\n",
        "\n",
        "        self.layers = []\n",
        "        self.activations = []\n",
        "\n",
        "        self.inputs = None\n",
        "        self.outputs = None\n",
        "\n",
        "        self.loss = 0\n",
        "        self.accuracy = 0\n",
        "        self.optimizer = None\n",
        "        self.opt_op = None\n",
        "\n",
        "    def _build(self):\n",
        "        raise NotImplementedError\n",
        "\n",
        "    def build(self):\n",
        "        \"\"\" Wrapper for _build() \"\"\"\n",
        "        with tf.variable_scope(self.name):\n",
        "            self._build()\n",
        "\n",
        "        # Build sequential layer model\n",
        "        self.activations.append(self.inputs)\n",
        "        for layer in self.layers:\n",
        "            hidden = layer(self.activations[-1])\n",
        "            self.activations.append(hidden)\n",
        "        self.outputs = self.activations[-1]\n",
        "\n",
        "        # Store model variables for easy access\n",
        "        variables = tf.get_collection(tf.GraphKeys.GLOBAL_VARIABLES, scope=self.name)\n",
        "        self.vars = {var.name: var for var in variables}\n",
        "\n",
        "        # Build metrics\n",
        "        self._loss()\n",
        "        self._accuracy()\n",
        "\n",
        "        self.opt_op = self.optimizer.minimize(self.loss)\n",
        "\n",
        "    def predict(self):\n",
        "        pass\n",
        "\n",
        "    def _loss(self):\n",
        "        raise NotImplementedError\n",
        "\n",
        "    def _accuracy(self):\n",
        "        raise NotImplementedError\n",
        "\n",
        "    def save(self, sess=None):\n",
        "        if not sess:\n",
        "            raise AttributeError(\"TensorFlow session not provided.\")\n",
        "        saver = tf.train.Saver(self.vars)\n",
        "        save_path = saver.save(sess, \"tmp/%s.ckpt\" % self.name)\n",
        "        print(\"Model saved in file: %s\" % save_path)\n",
        "\n",
        "    def load(self, sess=None):\n",
        "        if not sess:\n",
        "            raise AttributeError(\"TensorFlow session not provided.\")\n",
        "        saver = tf.train.Saver(self.vars)\n",
        "        save_path = \"tmp/%s.ckpt\" % self.name\n",
        "        saver.restore(sess, save_path)\n",
        "        print(\"Model restored from file: %s\" % save_path)"
      ],
      "execution_count": null,
      "outputs": []
    },
    {
      "cell_type": "code",
      "metadata": {
        "id": "5dztZuyxcgRK"
      },
      "source": [
        "class GCN(Model):\n",
        "    def __init__(self, placeholders, input_dim, **kwargs):\n",
        "        super(GCN, self).__init__(**kwargs)\n",
        "\n",
        "        self.inputs = placeholders['features']\n",
        "        self.input_dim = input_dim\n",
        "        # self.input_dim = self.inputs.get_shape().as_list()[1]  # To be supported in future Tensorflow versions\n",
        "        self.output_dim = placeholders['labels'].get_shape().as_list()[1]\n",
        "        self.placeholders = placeholders\n",
        "\n",
        "        self.optimizer = tf.train.AdamOptimizer(learning_rate=FLAGS.learning_rate)\n",
        "\n",
        "        self.build()\n",
        "\n",
        "    def _loss(self):\n",
        "        # Weight decay loss\n",
        "        for var in self.layers[0].vars.values():\n",
        "            self.loss += FLAGS.weight_decay * tf.nn.l2_loss(var)\n",
        "\n",
        "        # Cross entropy error\n",
        "        self.loss += masked_softmax_cross_entropy(self.outputs, self.placeholders['labels'],\n",
        "                                                  self.placeholders['labels_mask'])\n",
        "\n",
        "    def _accuracy(self):\n",
        "        self.accuracy = masked_accuracy(self.outputs, self.placeholders['labels'],\n",
        "                                        self.placeholders['labels_mask'])\n",
        "        self.pred = tf.argmax(self.outputs, 1)\n",
        "        self.labels = tf.argmax(self.placeholders['labels'], 1)\n",
        "\n",
        "    def _build(self):\n",
        "\n",
        "        self.layers.append(GraphConvolution(input_dim=self.input_dim,\n",
        "                                            output_dim=FLAGS.hidden1,\n",
        "                                            placeholders=self.placeholders,\n",
        "                                            act=tf.nn.relu,\n",
        "                                            dropout=True,\n",
        "                                            featureless=False,\n",
        "                                            sparse_inputs=True,\n",
        "                                            logging=self.logging))\n",
        "        \n",
        "        self.layers.append(GraphConvolution(input_dim=FLAGS.hidden1,\n",
        "                                            output_dim=self.output_dim,\n",
        "                                            placeholders=self.placeholders,\n",
        "                                            act=lambda x: x, #\n",
        "                                            dropout=True,\n",
        "                                            logging=self.logging))\n",
        "\n",
        "    def predict(self):\n",
        "        return tf.nn.softmax(self.outputs)"
      ],
      "execution_count": null,
      "outputs": []
    },
    {
      "cell_type": "code",
      "metadata": {
        "id": "ZQXtEYgr054Z"
      },
      "source": [
        "def masked_softmax_cross_entropy(preds, labels, mask):\n",
        "    \"\"\"Softmax cross-entropy loss with masking.\"\"\"\n",
        "    print(preds)\n",
        "    loss = tf.nn.softmax_cross_entropy_with_logits(logits=preds, labels=labels)\n",
        "    mask = tf.cast(mask, dtype=tf.float32)\n",
        "    mask /= tf.reduce_mean(mask)\n",
        "    loss *= mask\n",
        "    return tf.reduce_mean(loss)\n",
        "\n",
        "\n",
        "def masked_accuracy(preds, labels, mask):\n",
        "    \"\"\"Accuracy with masking.\"\"\"\n",
        "    correct_prediction = tf.equal(tf.argmax(preds, 1), tf.argmax(labels, 1))\n",
        "\n",
        "    accuracy_all = tf.cast(correct_prediction, tf.float32)\n",
        "    mask = tf.cast(mask, dtype=tf.float32)\n",
        "    mask /= tf.reduce_mean(mask)\n",
        "    accuracy_all *= mask\n",
        "    return tf.reduce_mean(accuracy_all)"
      ],
      "execution_count": null,
      "outputs": []
    },
    {
      "cell_type": "markdown",
      "metadata": {
        "id": "LT7yBttEfj0r"
      },
      "source": [
        "## Model Setting"
      ]
    },
    {
      "cell_type": "code",
      "metadata": {
        "colab": {
          "base_uri": "https://localhost:8080/"
        },
        "id": "OMKQpSeQ073v",
        "outputId": "3c3573ba-beb7-4550-f46d-1d8655a2a70a"
      },
      "source": [
        "from __future__ import division\n",
        "from __future__ import print_function\n",
        "\n",
        "import time\n",
        "import tensorflow.compat.v1 as tf\n",
        "\n",
        "from sklearn import metrics\n",
        "import random\n",
        "import os\n",
        "import sys\n",
        "\n",
        "\n",
        "# # Set random seed\n",
        "# seed = random.randint(1, 200)\n",
        "# np.random.seed(seed)\n",
        "# tf.set_random_seed(seed)\n",
        "\n",
        "\n",
        "# Settings\n",
        "os.environ[\"CUDA_VISIBLE_DEVICES\"] = \"1,2\"\n",
        "\n",
        "flags = tf.app.flags\n",
        "FLAGS = flags.FLAGS\n",
        "for name in list(flags.FLAGS):\n",
        "      delattr(flags.FLAGS,name)\n",
        "flags.DEFINE_string('f', '', 'kernel')\n",
        "flags.DEFINE_string('dataset', 'sencegraph', 'Dataset string.')\n",
        "# 'gcn', 'gcn_cheby', 'dense'\n",
        "flags.DEFINE_string('model', 'gcn', 'Model string.')\n",
        "flags.DEFINE_float('learning_rate', 0.01, 'Initial learning rate.')\n",
        "flags.DEFINE_integer('epochs', 100, 'Number of epochs to train.')\n",
        "flags.DEFINE_integer('hidden1', 768, 'Number of units in hidden layer 1.')\n",
        "flags.DEFINE_float('dropout', 0.5, 'Dropout rate (1 - keep probability).')\n",
        "flags.DEFINE_float('weight_decay', 0,\n",
        "                   'Weight for L2 loss on embedding matrix.')  # 5e-4\n",
        "flags.DEFINE_integer('early_stopping', 20,\n",
        "                     'Tolerance for early stopping (# of epochs).')\n",
        "flags.DEFINE_integer('max_degree', 3, 'Maximum Chebyshev polynomial degree.')"
      ],
      "execution_count": null,
      "outputs": [
        {
          "output_type": "execute_result",
          "data": {
            "text/plain": [
              "<absl.flags._flagvalues.FlagHolder at 0x7f443ef93810>"
            ]
          },
          "metadata": {
            "tags": []
          },
          "execution_count": 55
        }
      ]
    },
    {
      "cell_type": "markdown",
      "metadata": {
        "id": "qTw72zhB22dt"
      },
      "source": [
        "## Input Features setup"
      ]
    },
    {
      "cell_type": "markdown",
      "metadata": {
        "id": "IXxIH23CKXxz"
      },
      "source": [
        "### Node Feature is visual embedding"
      ]
    },
    {
      "cell_type": "code",
      "metadata": {
        "id": "opLAemuYZSrU"
      },
      "source": [
        "# wrong code for global level \n",
        "# transfer from node id to features\n",
        "import scipy.sparse as sp\n",
        "features_train = {}\n",
        "for l in node_lists_train:\n",
        "  features_train[l] = []\n",
        "  for node in node_lists_train[l]:\n",
        "    feature = np.array([0.0]*2048)\n",
        "    feature += id_density_dict[l][str(node)]\n",
        "    features_train[l].append(feature)\n",
        "  for i in range(len(node_lists_train[l]),181):\n",
        "    feature = np.array([0.0]*2048)\n",
        "    features_train[l].append(feature)\n",
        "  features_train[l]=sp.csr_matrix(features_train[l])"
      ],
      "execution_count": null,
      "outputs": []
    },
    {
      "cell_type": "code",
      "metadata": {
        "id": "jWbVc0kzKcuK"
      },
      "source": [
        "import scipy.sparse as sp\n",
        "features_eval = {}\n",
        "for l in node_lists_eval:\n",
        "  features_eval[l] = []\n",
        "  for node in node_lists_eval[l]:\n",
        "    feature = np.array([0.0]*2048)\n",
        "    feature += id_density_dict[l][str(node)]\n",
        "    features_eval[l].append(feature)\n",
        "  for i in range(len(node_lists_eval[l]),181):\n",
        "    feature = np.array([0.0]*2048)\n",
        "    features_eval[l].append(feature)\n",
        "  features_eval[l]=sp.csr_matrix(features_eval[l])"
      ],
      "execution_count": null,
      "outputs": []
    },
    {
      "cell_type": "markdown",
      "metadata": {
        "id": "LUHfEeuyKezp"
      },
      "source": [
        "### Node embedding is Text Density Features"
      ]
    },
    {
      "cell_type": "code",
      "metadata": {
        "id": "antx00Nx7lyh"
      },
      "source": [
        "\n",
        "# wrong code for global level \n",
        "# transfer from node id to features\n",
        "import scipy.sparse as sp\n",
        "features_train = {}\n",
        "for l in node_lists_train:\n",
        "  features_train[l] = []\n",
        "  for node in node_lists_train[l]:\n",
        "    feature = np.array([0.0]*768)\n",
        "    feature += np.array(positionalencoding1d(768,[id_density_dict[l][str(node)]])[0])\n",
        "    features_train[l].append(feature)\n",
        "  for i in range(len(node_lists_train[l]),181):\n",
        "    feature = np.array([0.0]*768)\n",
        "    features_train[l].append(feature)\n",
        "  features_train[l]=sp.csr_matrix(features_train[l])\n"
      ],
      "execution_count": null,
      "outputs": []
    },
    {
      "cell_type": "code",
      "metadata": {
        "id": "GvxkW_u57vlM"
      },
      "source": [
        "\n",
        "import scipy.sparse as sp\n",
        "features_eval = {}\n",
        "for l in node_lists_eval:\n",
        "  features_eval[l] = []\n",
        "  for node in node_lists_eval[l]:\n",
        "    feature = np.array([0.0]*768)\n",
        "    feature += np.array(positionalencoding1d(768,[id_density_dict[l][str(node)]])[0])\n",
        "    features_eval[l].append(feature)\n",
        "  for i in range(len(node_lists_eval[l]),181):\n",
        "    feature = np.array([0.0]*768)\n",
        "    features_eval[l].append(feature)\n",
        "  features_eval[l]=sp.csr_matrix(features_eval[l])"
      ],
      "execution_count": null,
      "outputs": []
    },
    {
      "cell_type": "code",
      "metadata": {
        "colab": {
          "base_uri": "https://localhost:8080/"
        },
        "id": "MXT_fRkf6unl",
        "outputId": "d9e72576-971b-4e0c-af67-c18c45f7388d"
      },
      "source": [
        "print(len(features_train))"
      ],
      "execution_count": null,
      "outputs": [
        {
          "output_type": "stream",
          "text": [
            "149\n"
          ],
          "name": "stdout"
        }
      ]
    },
    {
      "cell_type": "markdown",
      "metadata": {
        "id": "wA1GFzCyKp_x"
      },
      "source": [
        "### Sparse to tuple"
      ]
    },
    {
      "cell_type": "code",
      "metadata": {
        "colab": {
          "base_uri": "https://localhost:8080/"
        },
        "id": "_oDB45X71krq",
        "outputId": "e1bdb79a-248d-49de-fc6f-47585dfa88b7"
      },
      "source": [
        "def sparse_to_tuple(sparse_mx):\n",
        "    \"\"\"Convert sparse matrix to tuple representation.\"\"\"\n",
        "    def to_tuple(mx):\n",
        "        if not sp.isspmatrix_coo(mx):\n",
        "            mx = mx.tocoo()\n",
        "        coords = np.vstack((mx.row, mx.col)).transpose()\n",
        "        values = mx.data\n",
        "        shape = mx.shape\n",
        "        return coords, values, shape\n",
        "    if isinstance(sparse_mx, list):\n",
        "        for i in range(len(sparse_mx)):\n",
        "            sparse_mx[i] = to_tuple(sparse_mx[i])\n",
        "    else:\n",
        "        sparse_mx = to_tuple(sparse_mx)\n",
        "    return sparse_mx\n",
        "\n",
        "\n",
        "def preprocess_features(features):\n",
        "    \"\"\"Row-normalize feature matrix and convert to tuple representation\"\"\"\n",
        "    rowsum = np.array(features.sum(1))\n",
        "    r_inv = np.power(rowsum, -1).flatten()\n",
        "    r_inv[np.isinf(r_inv)] = 0.\n",
        "    r_mat_inv = sp.diags(r_inv)\n",
        "    features = r_mat_inv.dot(features)\n",
        "    return sparse_to_tuple(features)\n",
        "for l in features_train:\n",
        "  features_train[l] = preprocess_features(features_train[l])\n",
        "  \n",
        "for l in features_eval:\n",
        "  features_eval[l] = preprocess_features(features_eval[l])\n"
      ],
      "execution_count": null,
      "outputs": [
        {
          "output_type": "stream",
          "text": [
            "/usr/local/lib/python3.7/dist-packages/ipykernel_launcher.py:21: RuntimeWarning: divide by zero encountered in power\n",
            "/usr/local/lib/python3.7/dist-packages/ipykernel_launcher.py:21: RuntimeWarning: divide by zero encountered in power\n",
            "/usr/local/lib/python3.7/dist-packages/ipykernel_launcher.py:21: RuntimeWarning: divide by zero encountered in power\n",
            "/usr/local/lib/python3.7/dist-packages/ipykernel_launcher.py:21: RuntimeWarning: divide by zero encountered in power\n",
            "/usr/local/lib/python3.7/dist-packages/ipykernel_launcher.py:21: RuntimeWarning: divide by zero encountered in power\n",
            "/usr/local/lib/python3.7/dist-packages/ipykernel_launcher.py:21: RuntimeWarning: divide by zero encountered in power\n",
            "/usr/local/lib/python3.7/dist-packages/ipykernel_launcher.py:21: RuntimeWarning: divide by zero encountered in power\n",
            "/usr/local/lib/python3.7/dist-packages/ipykernel_launcher.py:21: RuntimeWarning: divide by zero encountered in power\n",
            "/usr/local/lib/python3.7/dist-packages/ipykernel_launcher.py:21: RuntimeWarning: divide by zero encountered in power\n",
            "/usr/local/lib/python3.7/dist-packages/ipykernel_launcher.py:21: RuntimeWarning: divide by zero encountered in power\n",
            "/usr/local/lib/python3.7/dist-packages/ipykernel_launcher.py:21: RuntimeWarning: divide by zero encountered in power\n",
            "/usr/local/lib/python3.7/dist-packages/ipykernel_launcher.py:21: RuntimeWarning: divide by zero encountered in power\n",
            "/usr/local/lib/python3.7/dist-packages/ipykernel_launcher.py:21: RuntimeWarning: divide by zero encountered in power\n",
            "/usr/local/lib/python3.7/dist-packages/ipykernel_launcher.py:21: RuntimeWarning: divide by zero encountered in power\n",
            "/usr/local/lib/python3.7/dist-packages/ipykernel_launcher.py:21: RuntimeWarning: divide by zero encountered in power\n",
            "/usr/local/lib/python3.7/dist-packages/ipykernel_launcher.py:21: RuntimeWarning: divide by zero encountered in power\n",
            "/usr/local/lib/python3.7/dist-packages/ipykernel_launcher.py:21: RuntimeWarning: divide by zero encountered in power\n",
            "/usr/local/lib/python3.7/dist-packages/ipykernel_launcher.py:21: RuntimeWarning: divide by zero encountered in power\n",
            "/usr/local/lib/python3.7/dist-packages/ipykernel_launcher.py:21: RuntimeWarning: divide by zero encountered in power\n",
            "/usr/local/lib/python3.7/dist-packages/ipykernel_launcher.py:21: RuntimeWarning: divide by zero encountered in power\n",
            "/usr/local/lib/python3.7/dist-packages/ipykernel_launcher.py:21: RuntimeWarning: divide by zero encountered in power\n",
            "/usr/local/lib/python3.7/dist-packages/ipykernel_launcher.py:21: RuntimeWarning: divide by zero encountered in power\n",
            "/usr/local/lib/python3.7/dist-packages/ipykernel_launcher.py:21: RuntimeWarning: divide by zero encountered in power\n",
            "/usr/local/lib/python3.7/dist-packages/ipykernel_launcher.py:21: RuntimeWarning: divide by zero encountered in power\n",
            "/usr/local/lib/python3.7/dist-packages/ipykernel_launcher.py:21: RuntimeWarning: divide by zero encountered in power\n",
            "/usr/local/lib/python3.7/dist-packages/ipykernel_launcher.py:21: RuntimeWarning: divide by zero encountered in power\n",
            "/usr/local/lib/python3.7/dist-packages/ipykernel_launcher.py:21: RuntimeWarning: divide by zero encountered in power\n",
            "/usr/local/lib/python3.7/dist-packages/ipykernel_launcher.py:21: RuntimeWarning: divide by zero encountered in power\n",
            "/usr/local/lib/python3.7/dist-packages/ipykernel_launcher.py:21: RuntimeWarning: divide by zero encountered in power\n",
            "/usr/local/lib/python3.7/dist-packages/ipykernel_launcher.py:21: RuntimeWarning: divide by zero encountered in power\n",
            "/usr/local/lib/python3.7/dist-packages/ipykernel_launcher.py:21: RuntimeWarning: divide by zero encountered in power\n",
            "/usr/local/lib/python3.7/dist-packages/ipykernel_launcher.py:21: RuntimeWarning: divide by zero encountered in power\n",
            "/usr/local/lib/python3.7/dist-packages/ipykernel_launcher.py:21: RuntimeWarning: divide by zero encountered in power\n",
            "/usr/local/lib/python3.7/dist-packages/ipykernel_launcher.py:21: RuntimeWarning: divide by zero encountered in power\n",
            "/usr/local/lib/python3.7/dist-packages/ipykernel_launcher.py:21: RuntimeWarning: divide by zero encountered in power\n",
            "/usr/local/lib/python3.7/dist-packages/ipykernel_launcher.py:21: RuntimeWarning: divide by zero encountered in power\n",
            "/usr/local/lib/python3.7/dist-packages/ipykernel_launcher.py:21: RuntimeWarning: divide by zero encountered in power\n",
            "/usr/local/lib/python3.7/dist-packages/ipykernel_launcher.py:21: RuntimeWarning: divide by zero encountered in power\n",
            "/usr/local/lib/python3.7/dist-packages/ipykernel_launcher.py:21: RuntimeWarning: divide by zero encountered in power\n",
            "/usr/local/lib/python3.7/dist-packages/ipykernel_launcher.py:21: RuntimeWarning: divide by zero encountered in power\n",
            "/usr/local/lib/python3.7/dist-packages/ipykernel_launcher.py:21: RuntimeWarning: divide by zero encountered in power\n",
            "/usr/local/lib/python3.7/dist-packages/ipykernel_launcher.py:21: RuntimeWarning: divide by zero encountered in power\n",
            "/usr/local/lib/python3.7/dist-packages/ipykernel_launcher.py:21: RuntimeWarning: divide by zero encountered in power\n",
            "/usr/local/lib/python3.7/dist-packages/ipykernel_launcher.py:21: RuntimeWarning: divide by zero encountered in power\n",
            "/usr/local/lib/python3.7/dist-packages/ipykernel_launcher.py:21: RuntimeWarning: divide by zero encountered in power\n",
            "/usr/local/lib/python3.7/dist-packages/ipykernel_launcher.py:21: RuntimeWarning: divide by zero encountered in power\n",
            "/usr/local/lib/python3.7/dist-packages/ipykernel_launcher.py:21: RuntimeWarning: divide by zero encountered in power\n",
            "/usr/local/lib/python3.7/dist-packages/ipykernel_launcher.py:21: RuntimeWarning: divide by zero encountered in power\n",
            "/usr/local/lib/python3.7/dist-packages/ipykernel_launcher.py:21: RuntimeWarning: divide by zero encountered in power\n",
            "/usr/local/lib/python3.7/dist-packages/ipykernel_launcher.py:21: RuntimeWarning: divide by zero encountered in power\n",
            "/usr/local/lib/python3.7/dist-packages/ipykernel_launcher.py:21: RuntimeWarning: divide by zero encountered in power\n",
            "/usr/local/lib/python3.7/dist-packages/ipykernel_launcher.py:21: RuntimeWarning: divide by zero encountered in power\n",
            "/usr/local/lib/python3.7/dist-packages/ipykernel_launcher.py:21: RuntimeWarning: divide by zero encountered in power\n",
            "/usr/local/lib/python3.7/dist-packages/ipykernel_launcher.py:21: RuntimeWarning: divide by zero encountered in power\n",
            "/usr/local/lib/python3.7/dist-packages/ipykernel_launcher.py:21: RuntimeWarning: divide by zero encountered in power\n",
            "/usr/local/lib/python3.7/dist-packages/ipykernel_launcher.py:21: RuntimeWarning: divide by zero encountered in power\n",
            "/usr/local/lib/python3.7/dist-packages/ipykernel_launcher.py:21: RuntimeWarning: divide by zero encountered in power\n",
            "/usr/local/lib/python3.7/dist-packages/ipykernel_launcher.py:21: RuntimeWarning: divide by zero encountered in power\n",
            "/usr/local/lib/python3.7/dist-packages/ipykernel_launcher.py:21: RuntimeWarning: divide by zero encountered in power\n",
            "/usr/local/lib/python3.7/dist-packages/ipykernel_launcher.py:21: RuntimeWarning: divide by zero encountered in power\n",
            "/usr/local/lib/python3.7/dist-packages/ipykernel_launcher.py:21: RuntimeWarning: divide by zero encountered in power\n",
            "/usr/local/lib/python3.7/dist-packages/ipykernel_launcher.py:21: RuntimeWarning: divide by zero encountered in power\n",
            "/usr/local/lib/python3.7/dist-packages/ipykernel_launcher.py:21: RuntimeWarning: divide by zero encountered in power\n",
            "/usr/local/lib/python3.7/dist-packages/ipykernel_launcher.py:21: RuntimeWarning: divide by zero encountered in power\n",
            "/usr/local/lib/python3.7/dist-packages/ipykernel_launcher.py:21: RuntimeWarning: divide by zero encountered in power\n",
            "/usr/local/lib/python3.7/dist-packages/ipykernel_launcher.py:21: RuntimeWarning: divide by zero encountered in power\n",
            "/usr/local/lib/python3.7/dist-packages/ipykernel_launcher.py:21: RuntimeWarning: divide by zero encountered in power\n",
            "/usr/local/lib/python3.7/dist-packages/ipykernel_launcher.py:21: RuntimeWarning: divide by zero encountered in power\n",
            "/usr/local/lib/python3.7/dist-packages/ipykernel_launcher.py:21: RuntimeWarning: divide by zero encountered in power\n",
            "/usr/local/lib/python3.7/dist-packages/ipykernel_launcher.py:21: RuntimeWarning: divide by zero encountered in power\n",
            "/usr/local/lib/python3.7/dist-packages/ipykernel_launcher.py:21: RuntimeWarning: divide by zero encountered in power\n",
            "/usr/local/lib/python3.7/dist-packages/ipykernel_launcher.py:21: RuntimeWarning: divide by zero encountered in power\n",
            "/usr/local/lib/python3.7/dist-packages/ipykernel_launcher.py:21: RuntimeWarning: divide by zero encountered in power\n",
            "/usr/local/lib/python3.7/dist-packages/ipykernel_launcher.py:21: RuntimeWarning: divide by zero encountered in power\n",
            "/usr/local/lib/python3.7/dist-packages/ipykernel_launcher.py:21: RuntimeWarning: divide by zero encountered in power\n",
            "/usr/local/lib/python3.7/dist-packages/ipykernel_launcher.py:21: RuntimeWarning: divide by zero encountered in power\n",
            "/usr/local/lib/python3.7/dist-packages/ipykernel_launcher.py:21: RuntimeWarning: divide by zero encountered in power\n",
            "/usr/local/lib/python3.7/dist-packages/ipykernel_launcher.py:21: RuntimeWarning: divide by zero encountered in power\n",
            "/usr/local/lib/python3.7/dist-packages/ipykernel_launcher.py:21: RuntimeWarning: divide by zero encountered in power\n",
            "/usr/local/lib/python3.7/dist-packages/ipykernel_launcher.py:21: RuntimeWarning: divide by zero encountered in power\n",
            "/usr/local/lib/python3.7/dist-packages/ipykernel_launcher.py:21: RuntimeWarning: divide by zero encountered in power\n",
            "/usr/local/lib/python3.7/dist-packages/ipykernel_launcher.py:21: RuntimeWarning: divide by zero encountered in power\n",
            "/usr/local/lib/python3.7/dist-packages/ipykernel_launcher.py:21: RuntimeWarning: divide by zero encountered in power\n",
            "/usr/local/lib/python3.7/dist-packages/ipykernel_launcher.py:21: RuntimeWarning: divide by zero encountered in power\n",
            "/usr/local/lib/python3.7/dist-packages/ipykernel_launcher.py:21: RuntimeWarning: divide by zero encountered in power\n",
            "/usr/local/lib/python3.7/dist-packages/ipykernel_launcher.py:21: RuntimeWarning: divide by zero encountered in power\n",
            "/usr/local/lib/python3.7/dist-packages/ipykernel_launcher.py:21: RuntimeWarning: divide by zero encountered in power\n",
            "/usr/local/lib/python3.7/dist-packages/ipykernel_launcher.py:21: RuntimeWarning: divide by zero encountered in power\n",
            "/usr/local/lib/python3.7/dist-packages/ipykernel_launcher.py:21: RuntimeWarning: divide by zero encountered in power\n",
            "/usr/local/lib/python3.7/dist-packages/ipykernel_launcher.py:21: RuntimeWarning: divide by zero encountered in power\n",
            "/usr/local/lib/python3.7/dist-packages/ipykernel_launcher.py:21: RuntimeWarning: divide by zero encountered in power\n",
            "/usr/local/lib/python3.7/dist-packages/ipykernel_launcher.py:21: RuntimeWarning: divide by zero encountered in power\n",
            "/usr/local/lib/python3.7/dist-packages/ipykernel_launcher.py:21: RuntimeWarning: divide by zero encountered in power\n",
            "/usr/local/lib/python3.7/dist-packages/ipykernel_launcher.py:21: RuntimeWarning: divide by zero encountered in power\n",
            "/usr/local/lib/python3.7/dist-packages/ipykernel_launcher.py:21: RuntimeWarning: divide by zero encountered in power\n",
            "/usr/local/lib/python3.7/dist-packages/ipykernel_launcher.py:21: RuntimeWarning: divide by zero encountered in power\n",
            "/usr/local/lib/python3.7/dist-packages/ipykernel_launcher.py:21: RuntimeWarning: divide by zero encountered in power\n",
            "/usr/local/lib/python3.7/dist-packages/ipykernel_launcher.py:21: RuntimeWarning: divide by zero encountered in power\n",
            "/usr/local/lib/python3.7/dist-packages/ipykernel_launcher.py:21: RuntimeWarning: divide by zero encountered in power\n",
            "/usr/local/lib/python3.7/dist-packages/ipykernel_launcher.py:21: RuntimeWarning: divide by zero encountered in power\n",
            "/usr/local/lib/python3.7/dist-packages/ipykernel_launcher.py:21: RuntimeWarning: divide by zero encountered in power\n",
            "/usr/local/lib/python3.7/dist-packages/ipykernel_launcher.py:21: RuntimeWarning: divide by zero encountered in power\n",
            "/usr/local/lib/python3.7/dist-packages/ipykernel_launcher.py:21: RuntimeWarning: divide by zero encountered in power\n",
            "/usr/local/lib/python3.7/dist-packages/ipykernel_launcher.py:21: RuntimeWarning: divide by zero encountered in power\n",
            "/usr/local/lib/python3.7/dist-packages/ipykernel_launcher.py:21: RuntimeWarning: divide by zero encountered in power\n",
            "/usr/local/lib/python3.7/dist-packages/ipykernel_launcher.py:21: RuntimeWarning: divide by zero encountered in power\n",
            "/usr/local/lib/python3.7/dist-packages/ipykernel_launcher.py:21: RuntimeWarning: divide by zero encountered in power\n",
            "/usr/local/lib/python3.7/dist-packages/ipykernel_launcher.py:21: RuntimeWarning: divide by zero encountered in power\n",
            "/usr/local/lib/python3.7/dist-packages/ipykernel_launcher.py:21: RuntimeWarning: divide by zero encountered in power\n",
            "/usr/local/lib/python3.7/dist-packages/ipykernel_launcher.py:21: RuntimeWarning: divide by zero encountered in power\n",
            "/usr/local/lib/python3.7/dist-packages/ipykernel_launcher.py:21: RuntimeWarning: divide by zero encountered in power\n",
            "/usr/local/lib/python3.7/dist-packages/ipykernel_launcher.py:21: RuntimeWarning: divide by zero encountered in power\n",
            "/usr/local/lib/python3.7/dist-packages/ipykernel_launcher.py:21: RuntimeWarning: divide by zero encountered in power\n",
            "/usr/local/lib/python3.7/dist-packages/ipykernel_launcher.py:21: RuntimeWarning: divide by zero encountered in power\n",
            "/usr/local/lib/python3.7/dist-packages/ipykernel_launcher.py:21: RuntimeWarning: divide by zero encountered in power\n",
            "/usr/local/lib/python3.7/dist-packages/ipykernel_launcher.py:21: RuntimeWarning: divide by zero encountered in power\n",
            "/usr/local/lib/python3.7/dist-packages/ipykernel_launcher.py:21: RuntimeWarning: divide by zero encountered in power\n",
            "/usr/local/lib/python3.7/dist-packages/ipykernel_launcher.py:21: RuntimeWarning: divide by zero encountered in power\n",
            "/usr/local/lib/python3.7/dist-packages/ipykernel_launcher.py:21: RuntimeWarning: divide by zero encountered in power\n",
            "/usr/local/lib/python3.7/dist-packages/ipykernel_launcher.py:21: RuntimeWarning: divide by zero encountered in power\n",
            "/usr/local/lib/python3.7/dist-packages/ipykernel_launcher.py:21: RuntimeWarning: divide by zero encountered in power\n",
            "/usr/local/lib/python3.7/dist-packages/ipykernel_launcher.py:21: RuntimeWarning: divide by zero encountered in power\n",
            "/usr/local/lib/python3.7/dist-packages/ipykernel_launcher.py:21: RuntimeWarning: divide by zero encountered in power\n",
            "/usr/local/lib/python3.7/dist-packages/ipykernel_launcher.py:21: RuntimeWarning: divide by zero encountered in power\n",
            "/usr/local/lib/python3.7/dist-packages/ipykernel_launcher.py:21: RuntimeWarning: divide by zero encountered in power\n",
            "/usr/local/lib/python3.7/dist-packages/ipykernel_launcher.py:21: RuntimeWarning: divide by zero encountered in power\n",
            "/usr/local/lib/python3.7/dist-packages/ipykernel_launcher.py:21: RuntimeWarning: divide by zero encountered in power\n",
            "/usr/local/lib/python3.7/dist-packages/ipykernel_launcher.py:21: RuntimeWarning: divide by zero encountered in power\n",
            "/usr/local/lib/python3.7/dist-packages/ipykernel_launcher.py:21: RuntimeWarning: divide by zero encountered in power\n",
            "/usr/local/lib/python3.7/dist-packages/ipykernel_launcher.py:21: RuntimeWarning: divide by zero encountered in power\n",
            "/usr/local/lib/python3.7/dist-packages/ipykernel_launcher.py:21: RuntimeWarning: divide by zero encountered in power\n",
            "/usr/local/lib/python3.7/dist-packages/ipykernel_launcher.py:21: RuntimeWarning: divide by zero encountered in power\n",
            "/usr/local/lib/python3.7/dist-packages/ipykernel_launcher.py:21: RuntimeWarning: divide by zero encountered in power\n",
            "/usr/local/lib/python3.7/dist-packages/ipykernel_launcher.py:21: RuntimeWarning: divide by zero encountered in power\n",
            "/usr/local/lib/python3.7/dist-packages/ipykernel_launcher.py:21: RuntimeWarning: divide by zero encountered in power\n",
            "/usr/local/lib/python3.7/dist-packages/ipykernel_launcher.py:21: RuntimeWarning: divide by zero encountered in power\n",
            "/usr/local/lib/python3.7/dist-packages/ipykernel_launcher.py:21: RuntimeWarning: divide by zero encountered in power\n",
            "/usr/local/lib/python3.7/dist-packages/ipykernel_launcher.py:21: RuntimeWarning: divide by zero encountered in power\n",
            "/usr/local/lib/python3.7/dist-packages/ipykernel_launcher.py:21: RuntimeWarning: divide by zero encountered in power\n",
            "/usr/local/lib/python3.7/dist-packages/ipykernel_launcher.py:21: RuntimeWarning: divide by zero encountered in power\n",
            "/usr/local/lib/python3.7/dist-packages/ipykernel_launcher.py:21: RuntimeWarning: divide by zero encountered in power\n",
            "/usr/local/lib/python3.7/dist-packages/ipykernel_launcher.py:21: RuntimeWarning: divide by zero encountered in power\n",
            "/usr/local/lib/python3.7/dist-packages/ipykernel_launcher.py:21: RuntimeWarning: divide by zero encountered in power\n",
            "/usr/local/lib/python3.7/dist-packages/ipykernel_launcher.py:21: RuntimeWarning: divide by zero encountered in power\n",
            "/usr/local/lib/python3.7/dist-packages/ipykernel_launcher.py:21: RuntimeWarning: divide by zero encountered in power\n",
            "/usr/local/lib/python3.7/dist-packages/ipykernel_launcher.py:21: RuntimeWarning: divide by zero encountered in power\n",
            "/usr/local/lib/python3.7/dist-packages/ipykernel_launcher.py:21: RuntimeWarning: divide by zero encountered in power\n",
            "/usr/local/lib/python3.7/dist-packages/ipykernel_launcher.py:21: RuntimeWarning: divide by zero encountered in power\n",
            "/usr/local/lib/python3.7/dist-packages/ipykernel_launcher.py:21: RuntimeWarning: divide by zero encountered in power\n",
            "/usr/local/lib/python3.7/dist-packages/ipykernel_launcher.py:21: RuntimeWarning: divide by zero encountered in power\n",
            "/usr/local/lib/python3.7/dist-packages/ipykernel_launcher.py:21: RuntimeWarning: divide by zero encountered in power\n",
            "/usr/local/lib/python3.7/dist-packages/ipykernel_launcher.py:21: RuntimeWarning: divide by zero encountered in power\n",
            "/usr/local/lib/python3.7/dist-packages/ipykernel_launcher.py:21: RuntimeWarning: divide by zero encountered in power\n",
            "/usr/local/lib/python3.7/dist-packages/ipykernel_launcher.py:21: RuntimeWarning: divide by zero encountered in power\n",
            "/usr/local/lib/python3.7/dist-packages/ipykernel_launcher.py:21: RuntimeWarning: divide by zero encountered in power\n",
            "/usr/local/lib/python3.7/dist-packages/ipykernel_launcher.py:21: RuntimeWarning: divide by zero encountered in power\n",
            "/usr/local/lib/python3.7/dist-packages/ipykernel_launcher.py:21: RuntimeWarning: divide by zero encountered in power\n",
            "/usr/local/lib/python3.7/dist-packages/ipykernel_launcher.py:21: RuntimeWarning: divide by zero encountered in power\n",
            "/usr/local/lib/python3.7/dist-packages/ipykernel_launcher.py:21: RuntimeWarning: divide by zero encountered in power\n",
            "/usr/local/lib/python3.7/dist-packages/ipykernel_launcher.py:21: RuntimeWarning: divide by zero encountered in power\n",
            "/usr/local/lib/python3.7/dist-packages/ipykernel_launcher.py:21: RuntimeWarning: divide by zero encountered in power\n",
            "/usr/local/lib/python3.7/dist-packages/ipykernel_launcher.py:21: RuntimeWarning: divide by zero encountered in power\n",
            "/usr/local/lib/python3.7/dist-packages/ipykernel_launcher.py:21: RuntimeWarning: divide by zero encountered in power\n",
            "/usr/local/lib/python3.7/dist-packages/ipykernel_launcher.py:21: RuntimeWarning: divide by zero encountered in power\n",
            "/usr/local/lib/python3.7/dist-packages/ipykernel_launcher.py:21: RuntimeWarning: divide by zero encountered in power\n",
            "/usr/local/lib/python3.7/dist-packages/ipykernel_launcher.py:21: RuntimeWarning: divide by zero encountered in power\n",
            "/usr/local/lib/python3.7/dist-packages/ipykernel_launcher.py:21: RuntimeWarning: divide by zero encountered in power\n",
            "/usr/local/lib/python3.7/dist-packages/ipykernel_launcher.py:21: RuntimeWarning: divide by zero encountered in power\n",
            "/usr/local/lib/python3.7/dist-packages/ipykernel_launcher.py:21: RuntimeWarning: divide by zero encountered in power\n",
            "/usr/local/lib/python3.7/dist-packages/ipykernel_launcher.py:21: RuntimeWarning: divide by zero encountered in power\n",
            "/usr/local/lib/python3.7/dist-packages/ipykernel_launcher.py:21: RuntimeWarning: divide by zero encountered in power\n",
            "/usr/local/lib/python3.7/dist-packages/ipykernel_launcher.py:21: RuntimeWarning: divide by zero encountered in power\n",
            "/usr/local/lib/python3.7/dist-packages/ipykernel_launcher.py:21: RuntimeWarning: divide by zero encountered in power\n",
            "/usr/local/lib/python3.7/dist-packages/ipykernel_launcher.py:21: RuntimeWarning: divide by zero encountered in power\n",
            "/usr/local/lib/python3.7/dist-packages/ipykernel_launcher.py:21: RuntimeWarning: divide by zero encountered in power\n",
            "/usr/local/lib/python3.7/dist-packages/ipykernel_launcher.py:21: RuntimeWarning: divide by zero encountered in power\n",
            "/usr/local/lib/python3.7/dist-packages/ipykernel_launcher.py:21: RuntimeWarning: divide by zero encountered in power\n",
            "/usr/local/lib/python3.7/dist-packages/ipykernel_launcher.py:21: RuntimeWarning: divide by zero encountered in power\n",
            "/usr/local/lib/python3.7/dist-packages/ipykernel_launcher.py:21: RuntimeWarning: divide by zero encountered in power\n",
            "/usr/local/lib/python3.7/dist-packages/ipykernel_launcher.py:21: RuntimeWarning: divide by zero encountered in power\n",
            "/usr/local/lib/python3.7/dist-packages/ipykernel_launcher.py:21: RuntimeWarning: divide by zero encountered in power\n",
            "/usr/local/lib/python3.7/dist-packages/ipykernel_launcher.py:21: RuntimeWarning: divide by zero encountered in power\n",
            "/usr/local/lib/python3.7/dist-packages/ipykernel_launcher.py:21: RuntimeWarning: divide by zero encountered in power\n",
            "/usr/local/lib/python3.7/dist-packages/ipykernel_launcher.py:21: RuntimeWarning: divide by zero encountered in power\n",
            "/usr/local/lib/python3.7/dist-packages/ipykernel_launcher.py:21: RuntimeWarning: divide by zero encountered in power\n",
            "/usr/local/lib/python3.7/dist-packages/ipykernel_launcher.py:21: RuntimeWarning: divide by zero encountered in power\n",
            "/usr/local/lib/python3.7/dist-packages/ipykernel_launcher.py:21: RuntimeWarning: divide by zero encountered in power\n",
            "/usr/local/lib/python3.7/dist-packages/ipykernel_launcher.py:21: RuntimeWarning: divide by zero encountered in power\n",
            "/usr/local/lib/python3.7/dist-packages/ipykernel_launcher.py:21: RuntimeWarning: divide by zero encountered in power\n",
            "/usr/local/lib/python3.7/dist-packages/ipykernel_launcher.py:21: RuntimeWarning: divide by zero encountered in power\n",
            "/usr/local/lib/python3.7/dist-packages/ipykernel_launcher.py:21: RuntimeWarning: divide by zero encountered in power\n",
            "/usr/local/lib/python3.7/dist-packages/ipykernel_launcher.py:21: RuntimeWarning: divide by zero encountered in power\n",
            "/usr/local/lib/python3.7/dist-packages/ipykernel_launcher.py:21: RuntimeWarning: divide by zero encountered in power\n",
            "/usr/local/lib/python3.7/dist-packages/ipykernel_launcher.py:21: RuntimeWarning: divide by zero encountered in power\n",
            "/usr/local/lib/python3.7/dist-packages/ipykernel_launcher.py:21: RuntimeWarning: divide by zero encountered in power\n",
            "/usr/local/lib/python3.7/dist-packages/ipykernel_launcher.py:21: RuntimeWarning: divide by zero encountered in power\n",
            "/usr/local/lib/python3.7/dist-packages/ipykernel_launcher.py:21: RuntimeWarning: divide by zero encountered in power\n",
            "/usr/local/lib/python3.7/dist-packages/ipykernel_launcher.py:21: RuntimeWarning: divide by zero encountered in power\n"
          ],
          "name": "stderr"
        }
      ]
    },
    {
      "cell_type": "code",
      "metadata": {
        "colab": {
          "base_uri": "https://localhost:8080/"
        },
        "id": "kHh8Lmvof7cn",
        "outputId": "a683f0de-70ee-40bd-dc88-c6f1bc36aa7d"
      },
      "source": [
        "print(adj_train['91391310'][0].shape)"
      ],
      "execution_count": null,
      "outputs": [
        {
          "output_type": "stream",
          "text": [
            "(1, 181)\n"
          ],
          "name": "stdout"
        }
      ]
    },
    {
      "cell_type": "markdown",
      "metadata": {
        "id": "rFjyvVK3ChHf"
      },
      "source": [
        "## input setting"
      ]
    },
    {
      "cell_type": "code",
      "metadata": {
        "id": "LR-MQb4Sxkx6"
      },
      "source": [
        "#define input dictionary\n",
        "# num_obj_dict was defined to record the number of object in each document page\n",
        "#\n",
        "y_train = {}\n",
        "train_mask = {}\n",
        "for f in new_train_list_dict:\n",
        "  y_train[f] = np.array([[0]*num_class]*adj_train[f].shape[0])\n",
        "  y_train[f] = np.array(labels_one_hot_train[f])\n",
        "  train_mask[f] = [False]*adj_train[f].shape[0]\n",
        "  train_mask[f][:num_obj_dict[f]] = [True]*num_obj_dict[f]\n",
        "y_val = {}\n",
        "val_mask = {}\n",
        "for f in new_eval_list_dict:\n",
        "  y_val[f] = np.array([[0]*num_class]*adj_eval[f].shape[0])\n",
        "  y_val[f] = np.array(labels_one_hot_eval[f])\n",
        "  val_mask[f] = [False]*adj_eval[f].shape[0]\n",
        "  val_mask[f][:num_obj_dict[f]] = [True]*num_obj_dict[f]"
      ],
      "execution_count": null,
      "outputs": []
    },
    {
      "cell_type": "code",
      "metadata": {
        "id": "1nn66dfE3BDH"
      },
      "source": [
        "def normalize_adj(adj):\n",
        "    \"\"\"Symmetrically normalize adjacency matrix.\"\"\"\n",
        "    adj = sp.coo_matrix(adj)\n",
        "    rowsum = np.array(adj.sum(1))\n",
        "    d_inv_sqrt = np.power(rowsum, -0.5).flatten()\n",
        "    d_inv_sqrt[np.isinf(d_inv_sqrt)] = 0.\n",
        "    d_mat_inv_sqrt = sp.diags(d_inv_sqrt)\n",
        "    return adj.dot(d_mat_inv_sqrt).transpose().dot(d_mat_inv_sqrt).tocoo()\n",
        "\n",
        "def preprocess_adj(adj):\n",
        "    \"\"\"Preprocessing of adjacency matrix for simple GCN model and conversion to tuple representation.\"\"\"\n",
        "    adj_normalized = normalize_adj(adj + sp.eye(adj.shape[0]))\n",
        "    return sparse_to_tuple(adj_normalized)\n",
        "support_train = {}\n",
        "for f in adj_train:\n",
        "  support_train[f] = [preprocess_adj(adj_train[f])]\n",
        "support_eval = {}\n",
        "for f in adj_eval:\n",
        "  support_eval[f] = [preprocess_adj(adj_eval[f])]"
      ],
      "execution_count": null,
      "outputs": []
    },
    {
      "cell_type": "code",
      "metadata": {
        "colab": {
          "base_uri": "https://localhost:8080/"
        },
        "id": "VEfj1gmtX7gW",
        "outputId": "ec4b4d6b-6468-45bf-c513-5b2766c13e35"
      },
      "source": [
        "print(features_train['91391310'][2][1])\n",
        "print(y_train['91391310'].shape)"
      ],
      "execution_count": null,
      "outputs": [
        {
          "output_type": "stream",
          "text": [
            "768\n",
            "(181, 5)\n"
          ],
          "name": "stdout"
        }
      ]
    },
    {
      "cell_type": "code",
      "metadata": {
        "id": "lJpkmP403EB2"
      },
      "source": [
        "# just change the number of support gpu\n",
        "num_supports = 1\n",
        "tf.compat.v1.disable_eager_execution()\n",
        "# Define placeholders\n",
        "placeholders = {\n",
        "    'support': [tf.sparse_placeholder(tf.float32) for _ in range(num_supports)],\n",
        "    'features': tf.sparse_placeholder(tf.float32, shape = (5,768)),\n",
        "    'labels': tf.placeholder(tf.float32, shape=(None, 5)),\n",
        "    'labels_mask': tf.placeholder(tf.int32),\n",
        "    'dropout': tf.placeholder_with_default(0.5, shape=()),\n",
        "    # helper variable for sparse dropout\n",
        "    'num_features_nonzero': tf.placeholder(tf.int32)\n",
        "}\n"
      ],
      "execution_count": null,
      "outputs": []
    },
    {
      "cell_type": "code",
      "metadata": {
        "colab": {
          "base_uri": "https://localhost:8080/"
        },
        "id": "YV47VdhDTW7J",
        "outputId": "69cdd8b1-4164-42ed-fef0-08a8cc12d5b8"
      },
      "source": [
        "# define input dimension which is same as node feature size\n",
        "model = GCN(placeholders, input_dim=768, logging=True)"
      ],
      "execution_count": null,
      "outputs": [
        {
          "output_type": "stream",
          "text": [
            "WARNING:tensorflow:From /usr/local/lib/python3.7/dist-packages/tensorflow/python/util/dispatch.py:201: calling dropout (from tensorflow.python.ops.nn_ops) with keep_prob is deprecated and will be removed in a future version.\n",
            "Instructions for updating:\n",
            "Please use `rate` instead of `keep_prob`. Rate should be set to `rate = 1 - keep_prob`.\n",
            "Tensor(\"graphconvolution_2/SparseTensorDenseMatMul/SparseTensorDenseMatMul:0\", shape=(None, 5), dtype=float32)\n",
            "WARNING:tensorflow:From /usr/local/lib/python3.7/dist-packages/tensorflow/python/util/dispatch.py:201: softmax_cross_entropy_with_logits (from tensorflow.python.ops.nn_ops) is deprecated and will be removed in a future version.\n",
            "Instructions for updating:\n",
            "\n",
            "Future major versions of TensorFlow will allow gradients to flow\n",
            "into the labels input on backprop by default.\n",
            "\n",
            "See `tf.nn.softmax_cross_entropy_with_logits_v2`.\n",
            "\n"
          ],
          "name": "stdout"
        }
      ]
    },
    {
      "cell_type": "code",
      "metadata": {
        "id": "-6JjEOvYKfIB"
      },
      "source": [
        "# Initialize session\n",
        "session_conf = tf.ConfigProto(gpu_options=tf.GPUOptions(allow_growth=True))\n",
        "sess = tf.Session(config=session_conf)\n",
        "\n",
        "\n",
        "# Define model evaluation function\n",
        "def evaluate(features, support, labels, mask, placeholders):\n",
        "    feed_dict_val = construct_feed_dict(\n",
        "        features, support, labels, mask, placeholders)\n",
        "    outs_val = sess.run([model.loss, model.accuracy, model.pred, model.labels, model.layers[0].embedding, model.layers[1].embedding], feed_dict=feed_dict_val)\n",
        "    return outs_val[0], outs_val[1], outs_val[2], outs_val[3], outs_val[4], outs_val[5]\n",
        "\n",
        "\n",
        "# Init variables\n",
        "sess.run(tf.global_variables_initializer())\n",
        "\n",
        "cost_val = []"
      ],
      "execution_count": null,
      "outputs": []
    },
    {
      "cell_type": "code",
      "metadata": {
        "id": "qix0WbCOKu-D"
      },
      "source": [
        "def construct_feed_dict(features, support, labels, labels_mask, placeholders):\n",
        "    \"\"\"Construct feed dictionary.\"\"\"\n",
        "    feed_dict = dict()\n",
        "    feed_dict.update({placeholders['labels']: labels})\n",
        "    feed_dict.update({placeholders['labels_mask']: labels_mask})\n",
        "    feed_dict.update({placeholders['features']: features})\n",
        "    feed_dict.update({placeholders['support'][i]: support[i]\n",
        "                      for i in range(len(support))})\n",
        "    feed_dict.update({placeholders['num_features_nonzero']: features[1].shape})\n",
        "    return feed_dict"
      ],
      "execution_count": null,
      "outputs": []
    },
    {
      "cell_type": "markdown",
      "metadata": {
        "id": "NineZIX5Tl0t"
      },
      "source": [
        "## Train GCN model"
      ]
    },
    {
      "cell_type": "code",
      "metadata": {
        "colab": {
          "base_uri": "https://localhost:8080/"
        },
        "id": "6BHADqVKKxYf",
        "outputId": "4e774476-73a7-46ab-d34e-9fd47618ce9e"
      },
      "source": [
        "# Train model\n",
        "for epoch in range(FLAGS.epochs):\n",
        "    \n",
        "    # Construct feed dictionary\n",
        "    if epoch == FLAGS.epochs-1:\n",
        "        output_dic_train = {}\n",
        "        output_dic_test = {}\n",
        "    loss = 0\n",
        "    for f in features_train:\n",
        "\n",
        "        feed_dict = construct_feed_dict(\n",
        "            features_train[f], support_train[f], y_train[f], train_mask[f], placeholders)\n",
        "        feed_dict.update({placeholders['dropout']: FLAGS.dropout})\n",
        "\n",
        "    # Training step\n",
        "        outs = sess.run([model.opt_op, model.loss, model.accuracy,\n",
        "                         model.layers[0].embedding, model.layers[1].embedding], feed_dict=feed_dict)\n",
        "        loss += outs[1]\n",
        "    print(loss)\n",
        "print(\"Optimization Finished!\")"
      ],
      "execution_count": null,
      "outputs": [
        {
          "output_type": "stream",
          "text": [
            "183.4280566573143\n",
            "183.50181591510773\n",
            "183.38116538524628\n",
            "183.0111327767372\n",
            "183.04497873783112\n",
            "182.38361555337906\n",
            "182.99555164575577\n",
            "183.02751648426056\n",
            "182.50179344415665\n",
            "182.28201246261597\n",
            "182.09864151477814\n",
            "182.83206301927567\n",
            "182.53360164165497\n",
            "182.7555177807808\n",
            "182.40262335538864\n",
            "181.88690853118896\n",
            "181.17481368780136\n",
            "182.40861159563065\n",
            "182.406134724617\n",
            "181.96441572904587\n",
            "182.3980192542076\n",
            "182.0200992822647\n",
            "182.28457230329514\n",
            "181.94947415590286\n",
            "181.9048486351967\n",
            "181.7848566174507\n",
            "181.30854070186615\n",
            "181.68633836507797\n",
            "181.30400013923645\n",
            "181.8813248872757\n",
            "182.18757259845734\n",
            "180.9827480316162\n",
            "180.9755943417549\n",
            "181.46231591701508\n",
            "181.36087357997894\n",
            "181.0641108751297\n",
            "182.30632984638214\n",
            "181.20373129844666\n",
            "181.84910893440247\n",
            "181.25478714704514\n",
            "181.25151282548904\n",
            "181.7031500339508\n",
            "181.40002393722534\n",
            "181.42788434028625\n"
          ],
          "name": "stdout"
        }
      ]
    },
    {
      "cell_type": "code",
      "metadata": {
        "id": "G5ZQ7HvDer67"
      },
      "source": [
        "    # Validation\n",
        "    for f in features_eval:\n",
        "        cost, acc, pred, labels, emb1, emb2 = evaluate(\n",
        "            features_eval[f], support_eval[f], y_val[f], val_mask[f], placeholders)\n",
        "        if epoch == FLAGS.epochs-1:\n",
        "          output_dic_test[f] = emb1"
      ],
      "execution_count": null,
      "outputs": []
    },
    {
      "cell_type": "code",
      "metadata": {
        "id": "owmllARC8m9F"
      },
      "source": [
        "output_dic_train_vis = output_dic_train\n",
        "output_dic_test_vis = output_dic_test"
      ],
      "execution_count": null,
      "outputs": []
    },
    {
      "cell_type": "code",
      "metadata": {
        "id": "yBT6eY6B6gQ2"
      },
      "source": [
        "output_dic_train_den = output_dic_train\n",
        "output_dic_test_den = output_dic_test"
      ],
      "execution_count": null,
      "outputs": []
    },
    {
      "cell_type": "markdown",
      "metadata": {
        "id": "2UoXWcPnQnGT"
      },
      "source": [
        "## Matching with Object Classification Dataframe"
      ]
    },
    {
      "cell_type": "code",
      "metadata": {
        "colab": {
          "base_uri": "https://localhost:8080/"
        },
        "id": "FHt8bFnoeqpV",
        "outputId": "4da02de6-1c25-45fa-875d-bfe23e69cb7a"
      },
      "source": [
        "from google.colab import drive\n",
        "drive.mount('/content/drive')"
      ],
      "execution_count": null,
      "outputs": [
        {
          "output_type": "stream",
          "text": [
            "Drive already mounted at /content/drive; to attempt to forcibly remount, call drive.mount(\"/content/drive\", force_remount=True).\n"
          ],
          "name": "stdout"
        }
      ]
    },
    {
      "cell_type": "code",
      "metadata": {
        "id": "-xWizE2YGdYO"
      },
      "source": [
        "df_train = pd.read_pickle('/content/drive/MyDrive/funsd/funsd_object_gcn_visual_density_near_bert_base_gcn_bert_base_train_parsing1_parsing2.pkl')\n",
        "df_test = pd.read_pickle('/content/drive/MyDrive/funsd/funsd_object_gcn_visual_density_near_bert_base_gcn_bert_base_test_parsing1_parsing2.pkl')"
      ],
      "execution_count": null,
      "outputs": []
    },
    {
      "cell_type": "code",
      "metadata": {
        "colab": {
          "base_uri": "https://localhost:8080/",
          "height": 495
        },
        "id": "r3VsiHV245Ch",
        "outputId": "73a193f3-397c-4391-aa45-bfa74943ba9f"
      },
      "source": [
        "df_train.head()"
      ],
      "execution_count": null,
      "outputs": [
        {
          "output_type": "execute_result",
          "data": {
            "text/html": [
              "<div>\n",
              "<style scoped>\n",
              "    .dataframe tbody tr th:only-of-type {\n",
              "        vertical-align: middle;\n",
              "    }\n",
              "\n",
              "    .dataframe tbody tr th {\n",
              "        vertical-align: top;\n",
              "    }\n",
              "\n",
              "    .dataframe thead th {\n",
              "        text-align: right;\n",
              "    }\n",
              "</style>\n",
              "<table border=\"1\" class=\"dataframe\">\n",
              "  <thead>\n",
              "    <tr style=\"text-align: right;\">\n",
              "      <th></th>\n",
              "      <th>text</th>\n",
              "      <th>label</th>\n",
              "      <th>visual_feature</th>\n",
              "      <th>density</th>\n",
              "      <th>bert_base_cls</th>\n",
              "      <th>gcn_bert_base</th>\n",
              "      <th>level1_parse_emb</th>\n",
              "      <th>level2_parse_emb</th>\n",
              "      <th>near_density</th>\n",
              "      <th>near_visual_feature</th>\n",
              "      <th>gcn_near_char_density</th>\n",
              "      <th>gcn_near_char_number</th>\n",
              "      <th>gcn_near_token_density</th>\n",
              "    </tr>\n",
              "  </thead>\n",
              "  <tbody>\n",
              "    <tr>\n",
              "      <th>0</th>\n",
              "      <td>FROM:</td>\n",
              "      <td>0</td>\n",
              "      <td>[-0.14605296, -0.16459094, -0.05297, -0.055089...</td>\n",
              "      <td>[-0.055626415, -0.04288777, -0.053692736, -0.0...</td>\n",
              "      <td>[-1.1602972745895386, 0.40634241700172424, -0....</td>\n",
              "      <td>[-5.773429, -1.0417114, -2.1828141, -0.788962,...</td>\n",
              "      <td>[0.2709057927131653, -0.962605893611908, 0.806...</td>\n",
              "      <td>[0.0, 1.0, 1.0, 1.0, -1.0, 1.0, 0.0, -0.0, -1....</td>\n",
              "      <td>[-0.038513724, -0.057523392, -0.07019832, -0.0...</td>\n",
              "      <td>[-0.032794982, -0.19511, -0.05077531, -0.04878...</td>\n",
              "      <td>[-0.054437697, -0.017164217, -0.046604343, 0.1...</td>\n",
              "      <td>[-0.05678776, -0.05876425, -0.058096003, -0.05...</td>\n",
              "      <td>[-0.03138002, -0.040639125, -0.0595022, -0.018...</td>\n",
              "    </tr>\n",
              "    <tr>\n",
              "      <th>1</th>\n",
              "      <td>TO:</td>\n",
              "      <td>0</td>\n",
              "      <td>[-0.07444859, -0.14759289, -0.05498426, -0.063...</td>\n",
              "      <td>[-0.059109252, -0.044888303, -0.057427548, -0....</td>\n",
              "      <td>[0.34755223989486694, 0.48073655366897583, -0....</td>\n",
              "      <td>[-6.957513, -1.1187, -2.230215, -1.0413656, -5...</td>\n",
              "      <td>[0.2709057927131653, -0.962605893611908, 0.806...</td>\n",
              "      <td>[0.0, 1.0, 1.0, 1.0, -1.0, 1.0, 0.0, -0.0, -1....</td>\n",
              "      <td>[-0.035946757, -0.05469693, -0.068453014, -0.0...</td>\n",
              "      <td>[0.008935843, -0.10750139, -0.051942326, -0.03...</td>\n",
              "      <td>[-0.05660252, -0.018605266, -0.045585666, 0.13...</td>\n",
              "      <td>[-0.049016792, -0.04999421, -0.053639263, -0.0...</td>\n",
              "      <td>[-0.030075125, -0.037472975, -0.05421398, -0.0...</td>\n",
              "    </tr>\n",
              "    <tr>\n",
              "      <th>2</th>\n",
              "      <td>CC:</td>\n",
              "      <td>0</td>\n",
              "      <td>[-0.16252093, -0.12962683, -0.057510987, -0.06...</td>\n",
              "      <td>[-0.061404005, -0.046756633, -0.061196566, -0....</td>\n",
              "      <td>[-0.03836097568273544, 0.68309086561203, -0.21...</td>\n",
              "      <td>[-2.7018356, -1.2121015, -2.5539374, -1.168015...</td>\n",
              "      <td>[0.2709057927131653, -0.962605893611908, 0.806...</td>\n",
              "      <td>[0.0, 1.0, 1.0, 1.0, -1.0, 1.0, -0.0, 0.0, -1....</td>\n",
              "      <td>[-0.03539413, -0.047618706, -0.06595866, -0.04...</td>\n",
              "      <td>[0.084996946, -0.19689481, -0.04419114, -0.031...</td>\n",
              "      <td>[-0.047469404, -0.02167414, -0.04536049, 0.141...</td>\n",
              "      <td>[-0.044261906, -0.050114125, -0.049546476, -0....</td>\n",
              "      <td>[-0.025893634, -0.034434173, -0.056472085, -0....</td>\n",
              "    </tr>\n",
              "    <tr>\n",
              "      <th>3</th>\n",
              "      <td>MEDIA</td>\n",
              "      <td>0</td>\n",
              "      <td>[-0.016628355, -0.039290257, -0.051831502, -0....</td>\n",
              "      <td>[-0.0576571, -0.04908401, -0.05640934, -0.0417...</td>\n",
              "      <td>[-0.11887850612401962, 0.06347160786390305, 0....</td>\n",
              "      <td>[-3.6020103, -0.9338926, -2.335067, -0.8474312...</td>\n",
              "      <td>[0.2709057927131653, -0.962605893611908, 0.806...</td>\n",
              "      <td>[0.0, 1.0, 1.0, 1.0, -1.0, 1.0, -0.0, 0.0, -1....</td>\n",
              "      <td>[-0.035100132, -0.052675277, -0.065407366, -0....</td>\n",
              "      <td>[-0.04977132, -0.109212466, -0.04089707, -0.03...</td>\n",
              "      <td>[-0.05202429, -0.012842626, -0.045560665, 0.11...</td>\n",
              "      <td>[-0.057137825, -0.05482267, -0.06060242, -0.05...</td>\n",
              "      <td>[-0.028566573, -0.040235694, -0.051490035, -0....</td>\n",
              "    </tr>\n",
              "    <tr>\n",
              "      <th>4</th>\n",
              "      <td>SPACE/COLOR</td>\n",
              "      <td>0</td>\n",
              "      <td>[-0.042129744, -0.050594453, -0.06379194, -0.0...</td>\n",
              "      <td>[-0.06207407, -0.045576364, -0.057492614, -0.0...</td>\n",
              "      <td>[-0.25426730513572693, 0.5315051674842834, -0....</td>\n",
              "      <td>[-5.1081696, -1.3020573, -1.6366057, -0.604607...</td>\n",
              "      <td>[0.2709057927131653, -0.962605893611908, 0.806...</td>\n",
              "      <td>[0.0, 1.0, 1.0, 1.0, -1.0, 1.0, 0.0, 0.0, -1.0...</td>\n",
              "      <td>[-0.034166675, -0.04868983, -0.06372996, -0.04...</td>\n",
              "      <td>[-0.054430287, -0.17914844, -0.04411397, -0.03...</td>\n",
              "      <td>[-0.053340584, -0.014225039, -0.049061842, 0.1...</td>\n",
              "      <td>[-0.066278696, -0.063308805, -0.06421309, -0.0...</td>\n",
              "      <td>[-0.032527316, -0.043336213, -0.06612405, -0.0...</td>\n",
              "    </tr>\n",
              "  </tbody>\n",
              "</table>\n",
              "</div>"
            ],
            "text/plain": [
              "          text  ...                             gcn_near_token_density\n",
              "0        FROM:  ...  [-0.03138002, -0.040639125, -0.0595022, -0.018...\n",
              "1          TO:  ...  [-0.030075125, -0.037472975, -0.05421398, -0.0...\n",
              "2          CC:  ...  [-0.025893634, -0.034434173, -0.056472085, -0....\n",
              "3        MEDIA  ...  [-0.028566573, -0.040235694, -0.051490035, -0....\n",
              "4  SPACE/COLOR  ...  [-0.032527316, -0.043336213, -0.06612405, -0.0...\n",
              "\n",
              "[5 rows x 13 columns]"
            ]
          },
          "metadata": {
            "tags": []
          },
          "execution_count": 290
        }
      ]
    },
    {
      "cell_type": "code",
      "metadata": {
        "colab": {
          "base_uri": "https://localhost:8080/"
        },
        "id": "fWeSIKIszL2A",
        "outputId": "2c47708e-c949-4ff0-ab3b-dfe0570bb3cc"
      },
      "source": [
        "print(df_train['level2_parse_emb'][0])\n",
        "print(df_train['level2_parse_emb'][2])"
      ],
      "execution_count": null,
      "outputs": [
        {
          "output_type": "stream",
          "text": [
            "[0.0, 1.0, 1.0, 1.0, -1.0, 1.0, 0.0, -0.0, -1.0, 0.0, 1.0, 1.0, 0.0, 0.0, -0.0, -0.0, 1.0, 1.0, 1.0, -1.0, 0.0, -0.0, -0.0, 0.0, 0.0, -0.0, 0.0, 0.0, -0.0, 1.0, 1.0, -0.0, 0.0, 0.0, -1.0, -0.0, 0.0, -1.0, -1.0, 1.0, 1.0, -0.0, -0.0, 0.7615941762924194, -0.0, 1.0, -0.0, -0.0, 0.0, -1.0, 0.0, 1.0, 1.0, 0.0, 1.0, -0.0, 0.0, 1.0, 1.0, 0.0, 0.0, 0.0, 0.0, 0.0, 0.0, -1.0, 0.0, -1.0, -0.0, 1.0, 1.0, 1.0, 1.0, -0.0, 0.0, -0.0, 1.0, -0.0, 0.0, 0.0, -0.0, -1.0, 0.0, -1.0, 0.0, -1.0, 0.0, 0.0, -0.0, 1.0, 1.0, 1.0, -1.0, 0.0, 0.0, -0.0, -1.0, -1.0, -1.0, 1.0, -0.0, -0.0, -0.0, -0.0, -0.0, 0.0, -0.0, -1.0, 1.0, -0.0, -1.0, -0.0, -0.0, -0.0, -0.0, 1.0, -1.0, 1.0, 0.0, -0.0, 1.0, 0.0, -1.0, -0.0, 1.0, 1.0, -1.0, -1.0, 0.0, -0.0, -0.0, 1.0, 1.0, 0.0, 0.0, -1.0, 1.0, -0.0, 1.0, 1.0, 0.0, 0.0, -1.0, 0.0, -1.0, -1.0, 1.0, -0.0, 0.0, 0.0, -1.0, 1.0, 0.0, -0.0, 0.0, -1.0, 0.0, -1.0, -0.0, 0.0, -0.0, -1.0, -1.0, 1.0, 0.0, 1.0, -0.7615941762924194, 1.0, -1.0, -1.0, 0.0, 0.0, 0.0, 1.0, 0.0, 1.0, 0.0, -1.0, 1.0, 0.0, -0.0, 0.0, 0.0, -1.0, 0.0, -1.0, 0.0, -1.0, 1.0, -0.0, 1.0, -1.0, -1.0, -1.0, 0.0, -0.0, 1.0, 1.0, -0.0, -1.0, -1.0, -1.0, 0.0, 1.0, -0.0, 1.0, 1.0, -1.0, 0.0, -0.0, 1.0, -0.0, -0.0, 0.0, -0.0, 0.0, -0.0, -1.0, 0.0, -0.0, -1.0, 1.0, 1.0, -0.0, -0.0, 0.0, -1.0, -0.0, 0.0, -1.0, 1.0, 1.0, 1.0, -0.0, -1.0, -1.0, -0.0, -0.0, 0.0, -0.0, 1.0, -1.0, 0.0, 1.0, -1.0, -0.0, 0.0, 1.0, 0.0, 1.0, 1.0, 0.0, -1.0, -0.0, 1.0, 0.0, -1.0, -1.0, 0.0, -0.0, -0.0, -0.0, -0.0, 1.0, -1.0, -0.0, 1.0, -0.0, -1.0, -1.0, 1.0, 0.0, 0.0, 1.0, 0.0, -0.0, -1.0, 1.0, 1.0, -0.0, -0.0, 0.0, 1.0, 0.0, 1.0, -1.0, -0.0, 0.0, -0.0, -0.0, 0.0, -1.0, 0.0, -0.0, -0.0, 0.0, 0.0, 0.0, 1.0, -1.0, 0.0, 0.0, -0.0, 1.0, 0.0, 1.0, -1.0, 1.0, 1.0, -1.0, -0.0, 1.0, -0.0, 1.0, 0.0, 0.0, -1.0, -0.0, 1.0, -1.0, -0.0, -0.0, 0.0, 0.0, 0.0, -1.0, 0.0, 1.0, 1.0, -1.0, -0.0, -1.0, 1.0, -1.0, 1.0, -1.0, 1.0, 1.0, 1.0, -0.0, 0.0, -1.0, 0.0, -0.0, -0.0, 0.0, 1.0, -1.0, 1.0, -0.0, 1.0, -1.0, -1.0, -0.0, 1.0, -1.0, 1.0, 1.0, -0.0, -0.0, -0.0, 0.0, 1.0, -0.0, 1.0, -0.0, 0.0, -1.0, -1.0, 1.0, 1.0, 0.0, -1.0, 0.0, 1.0, -1.0, 0.0, 1.0, 1.0, -1.0, 0.0, -1.0, 1.0, 0.0, 1.0, -1.0, -0.0, -1.0, 0.0, 1.0, 0.0, 0.0, 0.0, -0.0, -0.0, 0.0, -1.0, 0.0, 1.0, 0.0, 0.0, 0.0, 1.0, 0.0, 0.0, 0.0, 1.0, 0.0, -1.0, 0.0, 1.0, 0.0, -1.0, 1.0, 1.0, -0.7615941762924194, 1.0, -1.0, 0.0, -0.7615941762924194, 0.0, -0.0, 1.0, 0.0, -0.0, -0.0, -0.0, -0.0, 0.0, 1.0, -1.0, -1.0, -1.0, 0.7615941762924194, -1.0, -0.0, 1.0, 0.0, 1.0, 0.0, 0.0, 0.0, -1.0, 0.0, 0.0, 1.0, 0.0, 0.0, 0.0, 0.0, 1.0, -0.0, 1.0, 0.0, -1.0, 1.0, -1.0, 0.0, -0.0, 1.0, 1.0, 0.0, -1.0, -1.0, 0.0, -0.0, 0.0, 1.0, -0.0, 1.0, 0.0, -0.0, 0.0, 0.0, 0.0, 0.0, 0.0, 1.0, -1.0, -0.0, -0.0, -1.0, -0.0, -1.0, -1.0, 0.0, -0.7615941762924194, -1.0, 1.0, 0.0, -1.0, -0.0, -1.0, 0.0, 1.0, 0.7615941762924194, -1.0, -1.0, -1.0, -0.0, 1.0, 0.0, 0.0, 0.0, 0.0, 0.0, 0.0, -0.0, 0.0, -0.7615941762924194, 0.0, -1.0, 0.0, -0.0, 0.0, 0.0, 1.0, 1.0, 0.0, 0.0, 0.0, -1.0, 1.0, -1.0, -1.0, 0.0, 0.0, 0.0, -1.0, -0.0, -1.0, 0.0, -1.0, 0.0, -0.0, 1.0, 0.0, 0.0, 3.4114861996368704e-19, 0.7615941762924194, -0.7615941762924194, 0.0, -1.0, 0.0, 1.0, 0.0, -1.0, 0.0, 0.0, 0.7615941762924194, -0.7615941762924194, 0.0, 0.0, 1.0, 0.0, 0.0, 1.0, 0.0, 1.0, -0.0, -0.0, 0.0, 0.0, -0.0, -1.0, -0.0, 1.0, 1.0, 0.0, -0.7615941762924194, 1.0, -0.7615941762924194, -1.0, 0.0, 0.0, -1.0, -0.0, 1.0, 0.0, 0.0, 0.0, 1.0, 0.0, -1.0, -0.0, 0.0, -1.0, 0.0, 0.0, -1.0, 1.0, -0.0, -0.0, 0.0, -1.0, 0.0, 1.0, -1.0, -0.0, -1.0, 0.0, -1.0, 0.0, -0.0, -1.0, 0.0, -1.0, 0.0, 1.0, 0.0, 0.0, 0.0, 1.0, -0.7615941762924194, -1.0, -1.0, 0.0, -1.0, -0.0, 1.0, 1.0, -1.0, 0.0, 0.0, 1.0, 0.0, -0.0, -1.0, 0.0, 0.0, -0.0, -0.0, 0.0, 0.0, 0.0, -0.0, 0.0, 1.0, -1.0, 1.0, 0.0, 0.0, 1.0, 0.0, -0.0, 0.7615941762924194, 0.0, 0.0, -1.0, -1.0, 0.0, 0.0, -1.0, 1.0, -1.0, 0.0, -0.0, -1.0, -0.0, -1.0, 1.0, 1.0, -0.0, 0.0, 0.0, 0.0, 1.0, 0.0, 0.0, -0.0, 0.0, 0.0, -1.0, 0.0, 0.0, 0.0, 1.0, 0.0, 0.0, 0.0, -1.0, -0.7615941762924194, 0.0, 1.0, 1.0, -1.0, -1.0, 0.0, 0.0, 0.0, 0.0, -0.7615941762924194, 0.0, 1.0, -0.7615941762924194, -0.7615941762924194, 0.0, 0.0, 0.0, -1.0, 0.0, 0.0, 0.0, 0.0, 1.0, 0.0, 0.0, 1.0, 1.0, 0.0, 1.0, -1.0, 0.0, 0.0, -1.0, -0.0, 0.0, -0.0, 0.0, -0.7615941762924194, 1.0, -1.0, 0.0, -1.0, 0.0, 0.0, -1.0, 0.0, 1.0, 0.0, -1.0, -0.0, -0.0, -1.0, 1.0, -0.0, 0.0, 1.0, -0.0, -0.0, 0.0, 1.0, -1.0, 0.0, 0.0, 0.0, 0.0, -0.0, 0.0, 0.0, 0.0, 0.0, 0.0, 1.0, 0.0, 0.0, 0.0, 0.0, 0.0, -1.0, 0.0, 0.7615941762924194, 1.0, -0.0, 0.0, 1.0, -1.0, 0.0]\n",
            "[0.0, 1.0, 1.0, 1.0, -1.0, 1.0, -0.0, 0.0, -1.0, 0.0, 1.0, 1.0, 0.0, 0.0, 0.0, -0.0, 1.0, 1.0, 1.0, -1.0, 0.0, -0.0, -0.0, 0.0, 0.0, 0.0, 0.0, 0.0, -0.0, 1.0, 1.0, -0.0, 0.0, 0.0, -1.0, -0.0, 0.0, -1.0, -1.0, 1.0, 1.0, -0.0, 0.0, 0.7615941762924194, -0.0, 1.0, -0.0, 0.0, 0.0, -1.0, 0.0, 1.0, 1.0, 0.0, 1.0, -0.0, 0.0, 1.0, 1.0, 0.0, 0.0, 0.0, 0.0, 0.0, 0.0, -1.0, 0.0, -1.0, -0.0, 1.0, 1.0, 1.0, 1.0, -0.0, 0.0, -0.0, 1.0, -0.0, 0.0, 0.0, -0.0, -1.0, 0.0, -1.0, 0.0, -1.0, -0.0, 0.0, -0.0, 1.0, 1.0, 1.0, -1.0, 0.0, 0.0, -0.0, -1.0, -1.0, -1.0, 1.0, -0.0, -0.0, -0.0, -0.0, -0.0, 0.0, -0.0, -1.0, 1.0, -0.0, -1.0, -0.0, 0.0, -0.0, -0.0, 1.0, -1.0, 1.0, 0.0, -0.0, 1.0, 0.0, -1.0, 0.0, 1.0, 1.0, -1.0, -1.0, 0.0, -0.0, -0.0, 1.0, 1.0, 0.0, 0.0, -1.0, 1.0, -0.0, 1.0, 1.0, 0.0, 0.0, -1.0, 0.0, -1.0, -1.0, 1.0, -0.0, 0.0, 0.0, -1.0, 1.0, 0.0, -0.0, 0.0, -1.0, 0.0, -1.0, 0.0, 0.0, -0.0, -1.0, -1.0, 1.0, 0.0, 1.0, -0.7615941762924194, 1.0, -1.0, -1.0, 0.0, 0.0, 0.0, 1.0, 0.0, 1.0, 0.0, -1.0, 1.0, 0.0, 0.0, 0.0, 0.0, -1.0, 0.0, -1.0, 0.0, -1.0, 1.0, -0.0, 1.0, -1.0, -1.0, -1.0, 0.0, -0.0, 1.0, 1.0, -0.0, -1.0, -1.0, -1.0, 0.0, 1.0, -0.0, 1.0, 1.0, -1.0, 0.0, 0.0, 1.0, -0.0, 0.0, 0.0, -0.0, 0.0, -0.0, -1.0, 0.0, 0.0, -1.0, 1.0, 1.0, -0.0, -0.0, 0.0, -1.0, -0.0, 0.0, -1.0, 1.0, 1.0, 1.0, -0.0, -1.0, -1.0, -0.0, -0.0, 0.0, -0.0, 1.0, -1.0, 0.0, 1.0, -1.0, 0.0, 0.0, 1.0, 0.0, 1.0, 1.0, 0.0, -1.0, -0.0, 1.0, 0.0, -1.0, -1.0, 0.0, -0.0, -0.0, 0.0, -0.0, 1.0, -1.0, -0.0, 1.0, 0.0, -1.0, -1.0, 1.0, 0.0, 0.0, 1.0, 0.0, -0.0, -1.0, 1.0, 1.0, -0.0, -0.0, 0.0, 1.0, 0.0, 1.0, -1.0, 0.0, 0.0, -0.0, 0.0, 0.0, -1.0, 0.0, 0.0, -0.0, 0.0, 0.0, 0.0, 1.0, -1.0, 0.0, 0.0, -0.0, 1.0, 0.0, 1.0, -1.0, 1.0, 1.0, -1.0, -0.0, 1.0, -0.0, 1.0, 0.0, 0.0, -1.0, -0.0, 1.0, -1.0, 0.0, -0.0, 0.0, 0.0, 0.0, -1.0, 0.0, 1.0, 1.0, -1.0, 0.0, -1.0, 1.0, -1.0, 1.0, -1.0, 1.0, 1.0, 1.0, 0.0, 0.0, -1.0, 0.0, 0.0, 0.0, 0.0, 1.0, -1.0, 1.0, -0.0, 1.0, -1.0, -1.0, -0.0, 1.0, -1.0, 1.0, 1.0, 0.0, -0.0, 0.0, 0.0, 1.0, -0.0, 1.0, 0.0, 0.0, -1.0, -1.0, 1.0, 1.0, 0.0, -1.0, 0.0, 1.0, -1.0, 0.0, 1.0, 1.0, -1.0, 0.0, -1.0, 1.0, 0.0, 1.0, -1.0, -4.647687558298689e-36, -1.0, 0.0, 1.0, 0.0, 0.0, 0.0, -0.0, -0.0, 0.0, -1.0, 0.0, 1.0, 0.0, 0.0, 0.0, 1.0, 0.0, 0.0, 0.0, 1.0, 0.0, -1.0, 0.0, 1.0, 0.0, -1.0, 1.0, 1.0, -0.7615941762924194, 1.0, -1.0, 0.0, -0.7615941762924194, 0.0, -0.0, 1.0, 0.0, -0.0, -0.0, -0.0, -0.0, 0.0, 1.0, -1.0, -1.0, -1.0, 0.7615941762924194, -1.0, -0.0, 1.0, 0.0, 1.0, 0.0, 0.0, 0.0, -1.0, 0.0, 0.0, 1.0, 0.0, 0.0, 0.0, 0.0, 1.0, -0.0, 1.0, 0.0, -1.0, 1.0, -1.0, 0.0, -0.0, 1.0, 1.0, 0.0, -1.0, -1.0, 0.0, -0.0, 0.0, 1.0, -0.0, 1.0, 0.0, -0.0, 0.0, 0.0, 0.0, 0.0, 0.0, 1.0, -1.0, -0.0, -0.0, -1.0, -0.0, -1.0, -1.0, 0.0, -0.7615941762924194, -1.0, 1.0, 0.0, -1.0, -0.0, -1.0, 0.0, 1.0, 0.7615941762924194, -1.0, -1.0, -1.0, -0.0, 1.0, 0.0, 0.0, 0.0, 0.0, 0.0, 0.0, -0.0, 0.0, -0.7615941762924194, 0.0, -1.0, 0.0, -0.0, 0.0, 0.0, 1.0, 1.0, 0.0, 0.0, 0.0, -1.0, 1.0, -1.0, -1.0, 0.0, 0.0, 0.0, -1.0, -0.0, -1.0, 0.0, -1.0, 0.0, -0.0, 1.0, 0.0, 0.0, 3.1836327337024575e-35, 0.7615941762924194, -0.7615941762924194, 0.0, -1.0, 0.0, 1.0, 0.0, -1.0, 0.0, 0.0, 0.7615941762924194, -0.7615941762924194, 0.0, 0.0, 1.0, 0.0, 0.0, 1.0, 0.0, 1.0, -0.0, -0.0, 0.0, 0.0, -0.0, -1.0, -0.0, 1.0, 1.0, 0.0, -0.7615941762924194, 1.0, -0.7615941762924194, -1.0, 0.0, 0.0, -1.0, -0.0, 1.0, 0.0, 0.0, 0.0, 1.0, 0.0, -1.0, -0.0, 0.0, -1.0, 0.0, 0.0, -1.0, 1.0, -0.0, -0.0, 0.0, -1.0, 0.0, 1.0, -1.0, -0.0, -1.0, 0.0, -1.0, 0.0, -0.0, -1.0, 0.0, -1.0, 0.0, 1.0, 0.0, 3.216760498870084e-39, 0.0, 1.0, -0.7615941762924194, -1.0, -1.0, 0.0, -1.0, -0.0, 1.0, 1.0, -1.0, 0.0, 0.0, 1.0, 0.0, -3.1189203531271623e-32, -1.0, 0.0, 0.0, -0.0, -0.0, 0.0, 0.0, 0.0, -0.0, 0.0, 1.0, -1.0, 1.0, 0.0, 0.0, 1.0, 0.0, -0.0, 0.7615941762924194, 0.0, 0.0, -1.0, -1.0, 0.0, 0.0, -1.0, 1.0, -1.0, 0.0, -0.0, -1.0, -0.0, -1.0, 1.0, 1.0, -0.0, 0.0, 0.0, 0.0, 1.0, 0.0, 0.0, -0.0, 0.0, 0.0, -1.0, 0.0, 2.802596928649634e-45, 3.6433760072445244e-44, 1.0, 0.0, 0.0, 0.0, -1.0, -0.7615941762924194, 0.0, 1.0, 1.0, -1.0, -1.0, 0.0, 0.0, 0.0, 0.0, -0.7615941762924194, 0.0, 1.0, -0.7615941762924194, -0.7615941762924194, 0.0, 0.0, 0.0, -1.0, 0.0, 0.0, 0.0, 0.0, 1.0, 0.0, 0.0, 1.0, 1.0, 0.0, 1.0, -1.0, 0.0, 0.0, -1.0, -0.0, 0.0, -0.0, 0.0, -0.7615941762924194, 1.0, -1.0, 0.0, -1.0, 0.0, 0.0, -1.0, 0.0, 1.0, 0.0, -1.0, -0.0, -0.0, -1.0, 1.0, -0.0, 0.0, 1.0, -0.0, -0.0, 0.0, 1.0, -1.0, 0.0, 0.0, 0.0, 0.0, -0.0, 0.0, 0.0, 0.0, 0.0, 0.0, 1.0, 0.0, 0.0, 0.0, 0.0, 0.0, -1.0, 0.0, 0.7615941762924194, 1.0, -0.0, 0.0, 1.0, -1.0, 0.0]\n"
          ],
          "name": "stdout"
        }
      ]
    },
    {
      "cell_type": "code",
      "metadata": {
        "id": "NthkUiw4z6Cx"
      },
      "source": [
        ""
      ],
      "execution_count": null,
      "outputs": []
    },
    {
      "cell_type": "code",
      "metadata": {
        "colab": {
          "base_uri": "https://localhost:8080/"
        },
        "id": "qR_ykdhacGeo",
        "outputId": "cd03c557-7462-4f1a-ec64-a480610707cf"
      },
      "source": [
        "print(train_list_dict['0000971160']['objects']['1'].keys())"
      ],
      "execution_count": null,
      "outputs": [
        {
          "output_type": "stream",
          "text": [
            "dict_keys(['id', 'box', 'category', 'text', 'relations', 'visual_embedding', 'gap', 'text_density', 'parsing_level1', 'parsing_level2', 'text_number', 'char_density', 'char_number', 'near_gap', 'gcn_char_density', 'gcn_char_number', 'gcn_token_number'])\n"
          ],
          "name": "stdout"
        }
      ]
    },
    {
      "cell_type": "code",
      "metadata": {
        "id": "6JsM7a38G4xt"
      },
      "source": [
        "for img in output_dic_train_den:\n",
        "  for i in range(len(train_list_dict[img]['objects'].keys())):\n",
        "    train_list_dict[img]['objects'][str(i)]['gcn_token_number'] = output_dic_train_den[img][i] "
      ],
      "execution_count": null,
      "outputs": []
    },
    {
      "cell_type": "code",
      "metadata": {
        "id": "vSm4V9IQf8OV"
      },
      "source": [
        "for img in output_dic_test_den:\n",
        "  for i in range(len(eval_list_dict[img]['objects'].keys())):\n",
        "    eval_list_dict[img]['objects'][str(i)]['gcn_token_number'] = output_dic_test_den[img][i] "
      ],
      "execution_count": null,
      "outputs": []
    },
    {
      "cell_type": "code",
      "metadata": {
        "id": "q9aqUfjYjH9d"
      },
      "source": [
        "gcn_den_list_train = []"
      ],
      "execution_count": null,
      "outputs": []
    },
    {
      "cell_type": "code",
      "metadata": {
        "id": "8U8p1tSiwIYR"
      },
      "source": [
        "for img in train_list_dict:\n",
        "  for obj in train_list_dict[img]['objects']:\n",
        "    c_obj = train_list_dict[img]['objects'][obj]\n",
        "    gcn_den_list_train.append(c_obj['gcn_token_number'])"
      ],
      "execution_count": null,
      "outputs": []
    },
    {
      "cell_type": "code",
      "metadata": {
        "id": "Gdpqv28LzSwh"
      },
      "source": [
        "gcn_den_list_test = []"
      ],
      "execution_count": null,
      "outputs": []
    },
    {
      "cell_type": "code",
      "metadata": {
        "id": "xLDNPb210HHT"
      },
      "source": [
        "for img in eval_list_dict:\n",
        "  for obj in eval_list_dict[img]['objects']:\n",
        "    c_obj = eval_list_dict[img]['objects'][obj]\n",
        "    gcn_den_list_test.append(c_obj['gcn_token_number'])"
      ],
      "execution_count": null,
      "outputs": []
    },
    {
      "cell_type": "code",
      "metadata": {
        "id": "eKSRIgWW99L1"
      },
      "source": [
        "#df_train = DataFrame (text_list_train,columns=['text'])\n",
        "df_train['gcn_near_token_number'] = gcn_den_list_train"
      ],
      "execution_count": null,
      "outputs": []
    },
    {
      "cell_type": "code",
      "metadata": {
        "id": "iuO_PSQX0NhE"
      },
      "source": [
        "#df_test = DataFrame (text_list_test,columns=['text'])\n",
        "df_test['gcn_near_token_number'] = gcn_den_list_test"
      ],
      "execution_count": null,
      "outputs": []
    },
    {
      "cell_type": "code",
      "metadata": {
        "colab": {
          "base_uri": "https://localhost:8080/",
          "height": 495
        },
        "id": "ngQ8OWS85nvg",
        "outputId": "29e645f6-09ed-4283-8e58-4cdca0835afc"
      },
      "source": [
        "df_train.head()"
      ],
      "execution_count": null,
      "outputs": [
        {
          "output_type": "execute_result",
          "data": {
            "text/html": [
              "<div>\n",
              "<style scoped>\n",
              "    .dataframe tbody tr th:only-of-type {\n",
              "        vertical-align: middle;\n",
              "    }\n",
              "\n",
              "    .dataframe tbody tr th {\n",
              "        vertical-align: top;\n",
              "    }\n",
              "\n",
              "    .dataframe thead th {\n",
              "        text-align: right;\n",
              "    }\n",
              "</style>\n",
              "<table border=\"1\" class=\"dataframe\">\n",
              "  <thead>\n",
              "    <tr style=\"text-align: right;\">\n",
              "      <th></th>\n",
              "      <th>text</th>\n",
              "      <th>label</th>\n",
              "      <th>visual_feature</th>\n",
              "      <th>density</th>\n",
              "      <th>bert_base_cls</th>\n",
              "      <th>gcn_bert_base</th>\n",
              "      <th>level1_parse_emb</th>\n",
              "      <th>level2_parse_emb</th>\n",
              "      <th>near_density</th>\n",
              "      <th>near_visual_feature</th>\n",
              "      <th>gcn_near_char_density</th>\n",
              "      <th>gcn_near_char_number</th>\n",
              "      <th>gcn_near_token_density</th>\n",
              "      <th>gcn_near_token_number</th>\n",
              "    </tr>\n",
              "  </thead>\n",
              "  <tbody>\n",
              "    <tr>\n",
              "      <th>0</th>\n",
              "      <td>FROM:</td>\n",
              "      <td>0</td>\n",
              "      <td>[-0.14605296, -0.16459094, -0.05297, -0.055089...</td>\n",
              "      <td>[-0.055626415, -0.04288777, -0.053692736, -0.0...</td>\n",
              "      <td>[-1.1602972745895386, 0.40634241700172424, -0....</td>\n",
              "      <td>[-5.773429, -1.0417114, -2.1828141, -0.788962,...</td>\n",
              "      <td>[0.2709057927131653, -0.962605893611908, 0.806...</td>\n",
              "      <td>[0.0, 1.0, 1.0, 1.0, -1.0, 1.0, 0.0, -0.0, -1....</td>\n",
              "      <td>[-0.038513724, -0.057523392, -0.07019832, -0.0...</td>\n",
              "      <td>[-0.032794982, -0.19511, -0.05077531, -0.04878...</td>\n",
              "      <td>[-0.054437697, -0.017164217, -0.046604343, 0.1...</td>\n",
              "      <td>[-0.05678776, -0.05876425, -0.058096003, -0.05...</td>\n",
              "      <td>[-0.03138002, -0.040639125, -0.0595022, -0.018...</td>\n",
              "      <td>[-0.053816292, -0.05289785, -0.054027267, -0.0...</td>\n",
              "    </tr>\n",
              "    <tr>\n",
              "      <th>1</th>\n",
              "      <td>TO:</td>\n",
              "      <td>0</td>\n",
              "      <td>[-0.07444859, -0.14759289, -0.05498426, -0.063...</td>\n",
              "      <td>[-0.059109252, -0.044888303, -0.057427548, -0....</td>\n",
              "      <td>[0.34755223989486694, 0.48073655366897583, -0....</td>\n",
              "      <td>[-6.957513, -1.1187, -2.230215, -1.0413656, -5...</td>\n",
              "      <td>[0.2709057927131653, -0.962605893611908, 0.806...</td>\n",
              "      <td>[0.0, 1.0, 1.0, 1.0, -1.0, 1.0, 0.0, -0.0, -1....</td>\n",
              "      <td>[-0.035946757, -0.05469693, -0.068453014, -0.0...</td>\n",
              "      <td>[0.008935843, -0.10750139, -0.051942326, -0.03...</td>\n",
              "      <td>[-0.05660252, -0.018605266, -0.045585666, 0.13...</td>\n",
              "      <td>[-0.049016792, -0.04999421, -0.053639263, -0.0...</td>\n",
              "      <td>[-0.030075125, -0.037472975, -0.05421398, -0.0...</td>\n",
              "      <td>[-0.061436642, -0.060031842, -0.06345818, -0.0...</td>\n",
              "    </tr>\n",
              "    <tr>\n",
              "      <th>2</th>\n",
              "      <td>CC:</td>\n",
              "      <td>0</td>\n",
              "      <td>[-0.16252093, -0.12962683, -0.057510987, -0.06...</td>\n",
              "      <td>[-0.061404005, -0.046756633, -0.061196566, -0....</td>\n",
              "      <td>[-0.03836097568273544, 0.68309086561203, -0.21...</td>\n",
              "      <td>[-2.7018356, -1.2121015, -2.5539374, -1.168015...</td>\n",
              "      <td>[0.2709057927131653, -0.962605893611908, 0.806...</td>\n",
              "      <td>[0.0, 1.0, 1.0, 1.0, -1.0, 1.0, -0.0, 0.0, -1....</td>\n",
              "      <td>[-0.03539413, -0.047618706, -0.06595866, -0.04...</td>\n",
              "      <td>[0.084996946, -0.19689481, -0.04419114, -0.031...</td>\n",
              "      <td>[-0.047469404, -0.02167414, -0.04536049, 0.141...</td>\n",
              "      <td>[-0.044261906, -0.050114125, -0.049546476, -0....</td>\n",
              "      <td>[-0.025893634, -0.034434173, -0.056472085, -0....</td>\n",
              "      <td>[-0.056683403, -0.05927422, -0.059557024, -0.0...</td>\n",
              "    </tr>\n",
              "    <tr>\n",
              "      <th>3</th>\n",
              "      <td>MEDIA</td>\n",
              "      <td>0</td>\n",
              "      <td>[-0.016628355, -0.039290257, -0.051831502, -0....</td>\n",
              "      <td>[-0.0576571, -0.04908401, -0.05640934, -0.0417...</td>\n",
              "      <td>[-0.11887850612401962, 0.06347160786390305, 0....</td>\n",
              "      <td>[-3.6020103, -0.9338926, -2.335067, -0.8474312...</td>\n",
              "      <td>[0.2709057927131653, -0.962605893611908, 0.806...</td>\n",
              "      <td>[0.0, 1.0, 1.0, 1.0, -1.0, 1.0, -0.0, 0.0, -1....</td>\n",
              "      <td>[-0.035100132, -0.052675277, -0.065407366, -0....</td>\n",
              "      <td>[-0.04977132, -0.109212466, -0.04089707, -0.03...</td>\n",
              "      <td>[-0.05202429, -0.012842626, -0.045560665, 0.11...</td>\n",
              "      <td>[-0.057137825, -0.05482267, -0.06060242, -0.05...</td>\n",
              "      <td>[-0.028566573, -0.040235694, -0.051490035, -0....</td>\n",
              "      <td>[-0.052258953, -0.055718645, -0.056104325, -0....</td>\n",
              "    </tr>\n",
              "    <tr>\n",
              "      <th>4</th>\n",
              "      <td>SPACE/COLOR</td>\n",
              "      <td>0</td>\n",
              "      <td>[-0.042129744, -0.050594453, -0.06379194, -0.0...</td>\n",
              "      <td>[-0.06207407, -0.045576364, -0.057492614, -0.0...</td>\n",
              "      <td>[-0.25426730513572693, 0.5315051674842834, -0....</td>\n",
              "      <td>[-5.1081696, -1.3020573, -1.6366057, -0.604607...</td>\n",
              "      <td>[0.2709057927131653, -0.962605893611908, 0.806...</td>\n",
              "      <td>[0.0, 1.0, 1.0, 1.0, -1.0, 1.0, 0.0, 0.0, -1.0...</td>\n",
              "      <td>[-0.034166675, -0.04868983, -0.06372996, -0.04...</td>\n",
              "      <td>[-0.054430287, -0.17914844, -0.04411397, -0.03...</td>\n",
              "      <td>[-0.053340584, -0.014225039, -0.049061842, 0.1...</td>\n",
              "      <td>[-0.066278696, -0.063308805, -0.06421309, -0.0...</td>\n",
              "      <td>[-0.032527316, -0.043336213, -0.06612405, -0.0...</td>\n",
              "      <td>[-0.050904356, -0.051926624, -0.04963486, -0.0...</td>\n",
              "    </tr>\n",
              "  </tbody>\n",
              "</table>\n",
              "</div>"
            ],
            "text/plain": [
              "          text  ...                              gcn_near_token_number\n",
              "0        FROM:  ...  [-0.053816292, -0.05289785, -0.054027267, -0.0...\n",
              "1          TO:  ...  [-0.061436642, -0.060031842, -0.06345818, -0.0...\n",
              "2          CC:  ...  [-0.056683403, -0.05927422, -0.059557024, -0.0...\n",
              "3        MEDIA  ...  [-0.052258953, -0.055718645, -0.056104325, -0....\n",
              "4  SPACE/COLOR  ...  [-0.050904356, -0.051926624, -0.04963486, -0.0...\n",
              "\n",
              "[5 rows x 14 columns]"
            ]
          },
          "metadata": {
            "tags": []
          },
          "execution_count": 300
        }
      ]
    },
    {
      "cell_type": "code",
      "metadata": {
        "colab": {
          "base_uri": "https://localhost:8080/",
          "height": 477
        },
        "id": "7qR0hY3K-OXW",
        "outputId": "2cd90516-24df-449e-83b9-ad8959d0535b"
      },
      "source": [
        "df_test.head()"
      ],
      "execution_count": null,
      "outputs": [
        {
          "output_type": "execute_result",
          "data": {
            "text/html": [
              "<div>\n",
              "<style scoped>\n",
              "    .dataframe tbody tr th:only-of-type {\n",
              "        vertical-align: middle;\n",
              "    }\n",
              "\n",
              "    .dataframe tbody tr th {\n",
              "        vertical-align: top;\n",
              "    }\n",
              "\n",
              "    .dataframe thead th {\n",
              "        text-align: right;\n",
              "    }\n",
              "</style>\n",
              "<table border=\"1\" class=\"dataframe\">\n",
              "  <thead>\n",
              "    <tr style=\"text-align: right;\">\n",
              "      <th></th>\n",
              "      <th>text</th>\n",
              "      <th>label</th>\n",
              "      <th>visual_feature</th>\n",
              "      <th>density</th>\n",
              "      <th>bert_base_cls</th>\n",
              "      <th>gcn_bert_base</th>\n",
              "      <th>level1_parse_emb</th>\n",
              "      <th>level2_parse_emb</th>\n",
              "      <th>near_density</th>\n",
              "      <th>near_visual_feature</th>\n",
              "      <th>gcn_near_char_density</th>\n",
              "      <th>gcn_near_char_number</th>\n",
              "      <th>gcn_near_token_density</th>\n",
              "      <th>gcn_near_token_number</th>\n",
              "    </tr>\n",
              "  </thead>\n",
              "  <tbody>\n",
              "    <tr>\n",
              "      <th>0</th>\n",
              "      <td>82253058</td>\n",
              "      <td>3</td>\n",
              "      <td>[0.03004886, 0.047189467, -0.04488201, -0.0547...</td>\n",
              "      <td>[-0.0585504, -0.04544938, -0.059155136, -0.038...</td>\n",
              "      <td>[-0.8094400763511658, 0.05514790117740631, -0....</td>\n",
              "      <td>[0.24639848, -1.2127125, -2.8173814, -1.280135...</td>\n",
              "      <td>[0.2709057927131653, -0.962605893611908, 0.806...</td>\n",
              "      <td>[0.0, 1.0, 1.0, 1.0, -1.0, 1.0, -0.0, 0.0, -1....</td>\n",
              "      <td>[-0.035557628, -0.043737758, -0.060815588, -0....</td>\n",
              "      <td>[-0.25131735, -0.2346976, -0.039824773, -0.038...</td>\n",
              "      <td>[-0.05532408, -0.025883663, -0.049724694, 0.18...</td>\n",
              "      <td>[-0.059564363, -0.053474355, -0.06811357, -0.0...</td>\n",
              "      <td>[-0.036677726, -0.041204907, -0.05962176, -0.0...</td>\n",
              "      <td>[-0.050293244, -0.05179426, -0.05202289, -0.05...</td>\n",
              "    </tr>\n",
              "    <tr>\n",
              "      <th>1</th>\n",
              "      <td>LORILLARD</td>\n",
              "      <td>3</td>\n",
              "      <td>[-0.11395518, -0.14095806, -0.04647818, -0.050...</td>\n",
              "      <td>[-0.052003905, -0.03883732, -0.053522717, -0.0...</td>\n",
              "      <td>[-0.2644968628883362, 0.028210509568452835, -0...</td>\n",
              "      <td>[-4.77111, -1.090766, -2.2683127, -0.8612095, ...</td>\n",
              "      <td>[0.2709057927131653, -0.962605893611908, 0.806...</td>\n",
              "      <td>[0.0, 1.0, 1.0, 1.0, -1.0, 1.0, -0.0, 0.0, -1....</td>\n",
              "      <td>[-0.035417195, -0.04616965, -0.061313756, -0.0...</td>\n",
              "      <td>[-0.06173237, -0.24822888, -0.046812236, -0.03...</td>\n",
              "      <td>[-0.050277673, -0.020324895, -0.041168567, 0.1...</td>\n",
              "      <td>[-0.06526227, -0.060123514, -0.062900804, -0.0...</td>\n",
              "      <td>[-0.03172297, -0.038929094, -0.058009278, -0.0...</td>\n",
              "      <td>[-0.05462994, -0.053596903, -0.054407217, -0.0...</td>\n",
              "    </tr>\n",
              "    <tr>\n",
              "      <th>2</th>\n",
              "      <td>TO:</td>\n",
              "      <td>0</td>\n",
              "      <td>[-0.18998173, 0.038285587, -0.050533697, -0.05...</td>\n",
              "      <td>[-0.061942805, -0.04905202, -0.058337446, -0.0...</td>\n",
              "      <td>[-0.06448569148778915, 0.10673300921916962, -0...</td>\n",
              "      <td>[-4.3402443, -1.1247122, -2.5078712, -0.852596...</td>\n",
              "      <td>[0.2709057927131653, -0.962605893611908, 0.806...</td>\n",
              "      <td>[0.0, 1.0, 1.0, 1.0, -1.0, 1.0, 0.0, -0.0, -1....</td>\n",
              "      <td>[-0.03257484, -0.037911933, -0.05317638, -0.03...</td>\n",
              "      <td>[0.08775211, -0.39892527, -0.044031657, -0.034...</td>\n",
              "      <td>[-0.048962854, -0.016875513, -0.038585953, 0.1...</td>\n",
              "      <td>[-0.0499587, -0.055721458, -0.055601295, -0.04...</td>\n",
              "      <td>[-0.026387002, -0.036859933, -0.05134286, -0.0...</td>\n",
              "      <td>[-0.056345824, -0.05409208, -0.05348199, -0.05...</td>\n",
              "    </tr>\n",
              "    <tr>\n",
              "      <th>3</th>\n",
              "      <td>FROM:</td>\n",
              "      <td>0</td>\n",
              "      <td>[-0.13756105, -0.037296187, -0.062191, -0.0647...</td>\n",
              "      <td>[-0.06474934, -0.05038592, -0.063760124, -0.04...</td>\n",
              "      <td>[-0.39660215377807617, -0.27262166142463684, -...</td>\n",
              "      <td>[-4.6403604, -0.98019445, -2.7469926, -1.01195...</td>\n",
              "      <td>[0.2709057927131653, -0.962605893611908, 0.806...</td>\n",
              "      <td>[0.0, 1.0, 1.0, 1.0, -1.0, 1.0, 0.0, -0.0, -1....</td>\n",
              "      <td>[-0.034626793, -0.044371873, -0.061724667, -0....</td>\n",
              "      <td>[0.05850461, -0.28834334, -0.045964394, -0.036...</td>\n",
              "      <td>[-0.052313525, -0.015572644, -0.04572986, 0.18...</td>\n",
              "      <td>[-0.059454963, -0.06007546, -0.059755657, -0.0...</td>\n",
              "      <td>[-0.028247865, -0.04127653, -0.054328788, -0.0...</td>\n",
              "      <td>[-0.05688165, -0.054933857, -0.057210963, -0.0...</td>\n",
              "    </tr>\n",
              "    <tr>\n",
              "      <th>4</th>\n",
              "      <td>DATE:</td>\n",
              "      <td>0</td>\n",
              "      <td>[-0.091988705, 0.01324293, -0.056295186, -0.05...</td>\n",
              "      <td>[-0.060077723, -0.04860866, -0.05815736, -0.04...</td>\n",
              "      <td>[-0.4572538435459137, -0.4266950786113739, 0.2...</td>\n",
              "      <td>[-2.5339167, -1.3394794, -2.7650886, -1.117427...</td>\n",
              "      <td>[0.2709057927131653, -0.962605893611908, 0.806...</td>\n",
              "      <td>[0.0, 1.0, 1.0, 1.0, -1.0, 1.0, 0.0, 0.0, -1.0...</td>\n",
              "      <td>[-0.037954863, -0.052360307, -0.068679966, -0....</td>\n",
              "      <td>[0.018369954, -0.12403006, -0.03790608, -0.034...</td>\n",
              "      <td>[-0.055233836, -0.017907163, -0.045882154, 0.1...</td>\n",
              "      <td>[-0.06254142, -0.06289084, -0.06295019, -0.063...</td>\n",
              "      <td>[-0.03280369, -0.04516136, -0.05890287, -0.019...</td>\n",
              "      <td>[-0.05847999, -0.059104767, -0.05885702, -0.05...</td>\n",
              "    </tr>\n",
              "  </tbody>\n",
              "</table>\n",
              "</div>"
            ],
            "text/plain": [
              "        text  ...                              gcn_near_token_number\n",
              "0   82253058  ...  [-0.050293244, -0.05179426, -0.05202289, -0.05...\n",
              "1  LORILLARD  ...  [-0.05462994, -0.053596903, -0.054407217, -0.0...\n",
              "2        TO:  ...  [-0.056345824, -0.05409208, -0.05348199, -0.05...\n",
              "3      FROM:  ...  [-0.05688165, -0.054933857, -0.057210963, -0.0...\n",
              "4      DATE:  ...  [-0.05847999, -0.059104767, -0.05885702, -0.05...\n",
              "\n",
              "[5 rows x 14 columns]"
            ]
          },
          "metadata": {
            "tags": []
          },
          "execution_count": 301
        }
      ]
    },
    {
      "cell_type": "code",
      "metadata": {
        "id": "JrJbdsBr0Snq"
      },
      "source": [
        "df_train.to_pickle('/content/drive/MyDrive/funsd/funsd_object_gcn_visual_density_near_bert_base_gcn_bert_base_train_parsing1_parsing2.pkl')\n",
        "df_test.to_pickle('/content/drive/MyDrive/funsd/funsd_object_gcn_visual_density_near_bert_base_gcn_bert_base_test_parsing1_parsing2.pkl')"
      ],
      "execution_count": null,
      "outputs": []
    }
  ]
}